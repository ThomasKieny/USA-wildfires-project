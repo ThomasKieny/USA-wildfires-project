{
 "cells": [
  {
   "cell_type": "code",
   "execution_count": null,
   "id": "e680fbd4",
   "metadata": {},
   "outputs": [],
   "source": [
    "import pandas as pd\n",
    "import matplotlib.pyplot as plt\n",
    "import plotly.express as px"
   ]
  },
  {
   "cell_type": "code",
   "execution_count": null,
   "id": "1be60410",
   "metadata": {},
   "outputs": [],
   "source": [
    "df = pd.read_csv('feux_de_foret.csv',usecols=['STATE','FIRE_SIZE','FIRE_YEAR','FIRE_SIZE_CLASS','STAT_CAUSE_DESCR'])"
   ]
  },
  {
   "cell_type": "code",
   "execution_count": null,
   "id": "73702923",
   "metadata": {},
   "outputs": [],
   "source": [
    "regions = []\n",
    "North_East = ['CT','ME','MA','NH','VT','NJ','NY','RI','PA']\n",
    "Midwest = ['MI','IL','IN','OH','WI','IA','KS','MN','MO','SD','ND','NE']\n",
    "South = ['DE','FL','GA','MD','NC','SC','VA','DC','WV','AL','KY','MS','TN','AR','LA','TX','OK']\n",
    "West = ['AZ','CO','MT','ID','NV','NM','WY','UT','CA','AK','HI','OR','WA']\n",
    "\n",
    "\n",
    "def func_regions(series):\n",
    "    for row in series:\n",
    "        if row in North_East:\n",
    "            regions.append('North_East')\n",
    "        elif row in Midwest:\n",
    "            regions.append('Midwest')\n",
    "        elif row in South:\n",
    "            regions.append('South')\n",
    "        elif row in West:\n",
    "            regions.append('West')\n",
    "        else:\n",
    "            regions.append('Other')\n",
    "            \n",
    "func_regions(df['STATE'])\n",
    "\n"
   ]
  },
  {
   "cell_type": "code",
   "execution_count": null,
   "id": "5ce25fa4",
   "metadata": {},
   "outputs": [],
   "source": [
    "df['Regions'] = regions\n",
    "#df['Divisions'] = divisions"
   ]
  },
  {
   "cell_type": "code",
   "execution_count": null,
   "id": "675de524",
   "metadata": {},
   "outputs": [],
   "source": [
    "categ = []\n",
    "\n",
    "def functionF(series):\n",
    "    for row in series:\n",
    "        if row == 'Lightning':\n",
    "            categ.append('Natural causes fire')\n",
    "        elif row == 'Arson':\n",
    "            categ.append('Criminal fire')\n",
    "        else:\n",
    "            categ.append('Unvolontary fire')\n",
    "\n",
    "functionF(df['STAT_CAUSE_DESCR'])\n",
    "df['STAT_CAUSE_DESCR'] = categ\n",
    "\n",
    "df = df.rename(columns={'STAT_CAUSE_DESCR':'Fire origin'})\n",
    "fig = px.histogram(df, x=\"Regions\",color='Fire origin',color_discrete_sequence=['#335C81','#26C485','#d34e24'])\n",
    "fig.update_layout(bargap=0.2)\n",
    "fig.show()"
   ]
  },
  {
   "cell_type": "code",
   "execution_count": null,
   "id": "6b1dc461",
   "metadata": {},
   "outputs": [],
   "source": [
    "figE = px.histogram(df,\n",
    "                    'FIRE_YEAR',\n",
    "                    color='Regions',\n",
    "                    title='Nombre de feux par région et par an',\n",
    "                    color_discrete_sequence = px.colors.sequential.YlOrRd,\n",
    "                    facet_col='FIRE_SIZE_CLASS',\n",
    "                    category_orders={\"FIRE_SIZE_CLASS\": [\"A\", \"B\", \"C\",\"D\",\"E\",\"F\",\"G\"]})\n",
    "\n",
    "figE.update_layout(bargap=0.2,\n",
    "                   xaxis_title = 'Année',\n",
    "                   yaxis_title='Nombre de feux',\n",
    "                   legend=dict(\n",
    "                   orientation=\"h\",\n",
    "                   yanchor=\"bottom\",\n",
    "                   y=1.02,\n",
    "                   xanchor=\"right\",\n",
    "                   x=1))\n",
    "\n",
    "figE.for_each_annotation(lambda a: a.update(text=a.text.replace(\"FIRE_SIZE_CLASS=\", \"\")))\n"
   ]
  },
  {
   "cell_type": "code",
   "execution_count": null,
   "id": "93317a99",
   "metadata": {},
   "outputs": [],
   "source": [
    "fig = px.histogram(df,'FIRE_YEAR',color='Regions',title='Nombre de feux par région et par an',color_discrete_sequence = px.colors.sequential.YlOrRd)\n",
    "fig.update_layout(bargap=0.2,xaxis_title = 'Année',yaxis_title='Nombre de feux',legend=dict(\n",
    "    orientation=\"h\",\n",
    "    yanchor=\"bottom\",\n",
    "    y=1.02,\n",
    "    xanchor=\"right\",\n",
    "    x=1\n",
    "))"
   ]
  },
  {
   "cell_type": "code",
   "execution_count": null,
   "id": "d49e085d",
   "metadata": {},
   "outputs": [],
   "source": []
  },
  {
   "cell_type": "code",
   "execution_count": null,
   "id": "2eb6b5d4",
   "metadata": {},
   "outputs": [],
   "source": []
  }
 ],
 "metadata": {
  "kernelspec": {
   "display_name": "Python 3 (ipykernel)",
   "language": "python",
   "name": "python3"
  },
  "language_info": {
   "codemirror_mode": {
    "name": "ipython",
    "version": 3
   },
   "file_extension": ".py",
   "mimetype": "text/x-python",
   "name": "python",
   "nbconvert_exporter": "python",
   "pygments_lexer": "ipython3",
   "version": "3.9.13"
  }
 },
 "nbformat": 4,
 "nbformat_minor": 5
}

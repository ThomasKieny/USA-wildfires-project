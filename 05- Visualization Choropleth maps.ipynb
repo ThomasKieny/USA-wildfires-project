{
 "cells": [
  {
   "cell_type": "code",
   "execution_count": 7,
   "id": "3057ca2d",
   "metadata": {},
   "outputs": [],
   "source": [
    "import pandas as pd\n",
    "import plotly.express as px\n",
    "import plotly.graph_objects as go\n",
    "import seaborn as sns\n",
    "import matplotlib.pyplot as plt"
   ]
  },
  {
   "cell_type": "code",
   "execution_count": 8,
   "id": "430e1ee2",
   "metadata": {},
   "outputs": [],
   "source": [
    "df_final = pd.read_csv('FINAL_Température_Etendue_Nombre_par_Etat_par_An.csv')\n",
    "#These three interactive maps show changes in temperature, \n",
    "#the extent of fires and the number of fires in each state.\n",
    "#Note: The maps do not appear to be displayed in Github."
   ]
  },
  {
   "cell_type": "code",
   "execution_count": 9,
   "id": "3c27866a",
   "metadata": {},
   "outputs": [
    {
     "data": {
      "application/vnd.plotly.v1+json": {
       "config": {
        "plotlyServerURL": "https://plot.ly"
       },
       "data": [
        {
         "coloraxis": "coloraxis",
         "customdata": [
          [
           29.20833333333333
          ],
          [
           61.75729166666667
          ],
          [
           59.864814814814814
          ],
          [
           61.93928571428572
          ],
          [
           57.39285714285714
          ],
          [
           45.07
          ],
          [
           47.64722222222222
          ],
          [
           53.67916666666667
          ],
          [
           71.87619047619047
          ],
          [
           62.175
          ],
          [
           46.41333333333333
          ],
          [
           53.959259259259255
          ],
          [
           52.01851851851851
          ],
          [
           51.19444444444445
          ],
          [
           47.99166666666667
          ],
          [
           55.10416666666666
          ],
          [
           65.65925925925926
          ],
          [
           41.00555555555555
          ],
          [
           43.76
          ],
          [
           46.144444444444446
          ],
          [
           53.21041666666667
          ],
          [
           41.52129629629629
          ],
          [
           62.76916666666667
          ],
          [
           43.37857142857143
          ],
          [
           54.98611111111112
          ],
          [
           49.37083333333333
          ],
          [
           41.23611111111112
          ],
          [
           50.150000000000006
          ],
          [
           53.75
          ],
          [
           51.37222222222223
          ],
          [
           52.284375
          ],
          [
           44.075
          ],
          [
           41.02916666666667
          ],
          [
           57.825
          ],
          [
           59.34722222222222
          ],
          [
           49.855555555555554
          ],
          [
           47.71666666666667
          ],
          [
           48.39166666666667
          ],
          [
           45.45
          ],
          [
           56.85208333333333
          ],
          [
           65.95333333333333
          ],
          [
           49.67023809523809
          ],
          [
           40.91944444444445
          ],
          [
           49.05166666666667
          ],
          [
           54.16944444444445
          ],
          [
           51.43472222222223
          ],
          [
           42.17583333333334
          ],
          [
           43.32407407407408
          ]
         ],
         "featureidkey": "properties.name",
         "geojson": "us-states.json",
         "hovertemplate": "<b>%{hovertext}</b><br><br>Année=1992<br>Etat=%{location}<br>Température moyenne=%{z}<extra></extra>",
         "hovertext": [
          "Alaska",
          "Alabama",
          "Arkansas",
          "Arizona",
          "California",
          "Colorado",
          "Connecticut",
          "Delaware",
          "Florida",
          "Georgia",
          "Hawaii",
          "Iowa",
          "Idaho",
          "Illinois",
          "Indiana",
          "Kansas",
          "Kentucky",
          "Louisiana",
          "Massachusetts",
          "Maryland",
          "Maine",
          "Michigan",
          "Minnesota",
          "Missouri",
          "Mississippi",
          "Montana",
          "North Carolina",
          "North Dakota",
          "Nebraska",
          "New Hampshire",
          "New Jersey",
          "New Mexico",
          "Nevada",
          "New York",
          "Ohio",
          "Oklahoma",
          "Oregon",
          "Pennsylvania",
          "South Carolina",
          "South Dakota",
          "Tennessee",
          "Texas",
          "Utah",
          "Virginia",
          "Vermont",
          "Washington",
          "Wisconsin",
          "West Virginia"
         ],
         "locations": [
          "Alaska",
          "Alabama",
          "Arkansas",
          "Arizona",
          "California",
          "Colorado",
          "Connecticut",
          "Delaware",
          "Florida",
          "Georgia",
          "Hawaii",
          "Iowa",
          "Idaho",
          "Illinois",
          "Indiana",
          "Kansas",
          "Kentucky",
          "Louisiana",
          "Massachusetts",
          "Maryland",
          "Maine",
          "Michigan",
          "Minnesota",
          "Missouri",
          "Mississippi",
          "Montana",
          "North Carolina",
          "North Dakota",
          "Nebraska",
          "New Hampshire",
          "New Jersey",
          "New Mexico",
          "Nevada",
          "New York",
          "Ohio",
          "Oklahoma",
          "Oregon",
          "Pennsylvania",
          "South Carolina",
          "South Dakota",
          "Tennessee",
          "Texas",
          "Utah",
          "Virginia",
          "Vermont",
          "Washington",
          "Wisconsin",
          "West Virginia"
         ],
         "marker": {
          "opacity": 0.75
         },
         "name": "",
         "subplot": "mapbox",
         "type": "choroplethmapbox",
         "z": [
          29.20833333333333,
          61.75729166666667,
          59.864814814814814,
          61.93928571428572,
          57.39285714285714,
          45.07,
          47.64722222222222,
          53.67916666666667,
          71.87619047619047,
          62.175,
          46.41333333333333,
          53.959259259259255,
          52.01851851851851,
          51.19444444444445,
          47.99166666666667,
          55.10416666666666,
          65.65925925925926,
          41.00555555555555,
          43.76,
          46.144444444444446,
          53.21041666666667,
          41.52129629629629,
          62.76916666666667,
          43.37857142857143,
          54.98611111111112,
          49.37083333333333,
          41.23611111111112,
          50.150000000000006,
          53.75,
          51.37222222222223,
          52.284375,
          44.075,
          41.02916666666667,
          57.825,
          59.34722222222222,
          49.855555555555554,
          47.71666666666667,
          48.39166666666667,
          45.45,
          56.85208333333333,
          65.95333333333333,
          49.67023809523809,
          40.91944444444445,
          49.05166666666667,
          54.16944444444445,
          51.43472222222223,
          42.17583333333334,
          43.32407407407408
         ]
        }
       ],
       "frames": [
        {
         "data": [
          {
           "coloraxis": "coloraxis",
           "customdata": [
            [
             29.20833333333333
            ],
            [
             61.75729166666667
            ],
            [
             59.864814814814814
            ],
            [
             61.93928571428572
            ],
            [
             57.39285714285714
            ],
            [
             45.07
            ],
            [
             47.64722222222222
            ],
            [
             53.67916666666667
            ],
            [
             71.87619047619047
            ],
            [
             62.175
            ],
            [
             46.41333333333333
            ],
            [
             53.959259259259255
            ],
            [
             52.01851851851851
            ],
            [
             51.19444444444445
            ],
            [
             47.99166666666667
            ],
            [
             55.10416666666666
            ],
            [
             65.65925925925926
            ],
            [
             41.00555555555555
            ],
            [
             43.76
            ],
            [
             46.144444444444446
            ],
            [
             53.21041666666667
            ],
            [
             41.52129629629629
            ],
            [
             62.76916666666667
            ],
            [
             43.37857142857143
            ],
            [
             54.98611111111112
            ],
            [
             49.37083333333333
            ],
            [
             41.23611111111112
            ],
            [
             50.150000000000006
            ],
            [
             53.75
            ],
            [
             51.37222222222223
            ],
            [
             52.284375
            ],
            [
             44.075
            ],
            [
             41.02916666666667
            ],
            [
             57.825
            ],
            [
             59.34722222222222
            ],
            [
             49.855555555555554
            ],
            [
             47.71666666666667
            ],
            [
             48.39166666666667
            ],
            [
             45.45
            ],
            [
             56.85208333333333
            ],
            [
             65.95333333333333
            ],
            [
             49.67023809523809
            ],
            [
             40.91944444444445
            ],
            [
             49.05166666666667
            ],
            [
             54.16944444444445
            ],
            [
             51.43472222222223
            ],
            [
             42.17583333333334
            ],
            [
             43.32407407407408
            ]
           ],
           "featureidkey": "properties.name",
           "geojson": "us-states.json",
           "hovertemplate": "<b>%{hovertext}</b><br><br>Année=1992<br>Etat=%{location}<br>Température moyenne=%{z}<extra></extra>",
           "hovertext": [
            "Alaska",
            "Alabama",
            "Arkansas",
            "Arizona",
            "California",
            "Colorado",
            "Connecticut",
            "Delaware",
            "Florida",
            "Georgia",
            "Hawaii",
            "Iowa",
            "Idaho",
            "Illinois",
            "Indiana",
            "Kansas",
            "Kentucky",
            "Louisiana",
            "Massachusetts",
            "Maryland",
            "Maine",
            "Michigan",
            "Minnesota",
            "Missouri",
            "Mississippi",
            "Montana",
            "North Carolina",
            "North Dakota",
            "Nebraska",
            "New Hampshire",
            "New Jersey",
            "New Mexico",
            "Nevada",
            "New York",
            "Ohio",
            "Oklahoma",
            "Oregon",
            "Pennsylvania",
            "South Carolina",
            "South Dakota",
            "Tennessee",
            "Texas",
            "Utah",
            "Virginia",
            "Vermont",
            "Washington",
            "Wisconsin",
            "West Virginia"
           ],
           "locations": [
            "Alaska",
            "Alabama",
            "Arkansas",
            "Arizona",
            "California",
            "Colorado",
            "Connecticut",
            "Delaware",
            "Florida",
            "Georgia",
            "Hawaii",
            "Iowa",
            "Idaho",
            "Illinois",
            "Indiana",
            "Kansas",
            "Kentucky",
            "Louisiana",
            "Massachusetts",
            "Maryland",
            "Maine",
            "Michigan",
            "Minnesota",
            "Missouri",
            "Mississippi",
            "Montana",
            "North Carolina",
            "North Dakota",
            "Nebraska",
            "New Hampshire",
            "New Jersey",
            "New Mexico",
            "Nevada",
            "New York",
            "Ohio",
            "Oklahoma",
            "Oregon",
            "Pennsylvania",
            "South Carolina",
            "South Dakota",
            "Tennessee",
            "Texas",
            "Utah",
            "Virginia",
            "Vermont",
            "Washington",
            "Wisconsin",
            "West Virginia"
           ],
           "marker": {
            "opacity": 0.75
           },
           "name": "",
           "subplot": "mapbox",
           "type": "choroplethmapbox",
           "z": [
            29.20833333333333,
            61.75729166666667,
            59.864814814814814,
            61.93928571428572,
            57.39285714285714,
            45.07,
            47.64722222222222,
            53.67916666666667,
            71.87619047619047,
            62.175,
            46.41333333333333,
            53.959259259259255,
            52.01851851851851,
            51.19444444444445,
            47.99166666666667,
            55.10416666666666,
            65.65925925925926,
            41.00555555555555,
            43.76,
            46.144444444444446,
            53.21041666666667,
            41.52129629629629,
            62.76916666666667,
            43.37857142857143,
            54.98611111111112,
            49.37083333333333,
            41.23611111111112,
            50.150000000000006,
            53.75,
            51.37222222222223,
            52.284375,
            44.075,
            41.02916666666667,
            57.825,
            59.34722222222222,
            49.855555555555554,
            47.71666666666667,
            48.39166666666667,
            45.45,
            56.85208333333333,
            65.95333333333333,
            49.67023809523809,
            40.91944444444445,
            49.05166666666667,
            54.16944444444445,
            51.43472222222223,
            42.17583333333334,
            43.32407407407408
           ]
          }
         ],
         "name": "1992"
        },
        {
         "data": [
          {
           "coloraxis": "coloraxis",
           "customdata": [
            [
             32.96474358974359
            ],
            [
             61.98541666666667
            ],
            [
             59.26111111111111
            ],
            [
             62.05952380952382
            ],
            [
             55.59761904761905
            ],
            [
             43.73833333333334
            ],
            [
             48.56111111111111
            ],
            [
             54.57083333333333
            ],
            [
             71.93333333333334
            ],
            [
             62.713888888888896
            ],
            [
             42.3125
            ],
            [
             51.730555555555554
            ],
            [
             51.00185185185185
            ],
            [
             50.713888888888896
            ],
            [
             45.81666666666666
            ],
            [
             55.01874999999999
            ],
            [
             65.42592592592592
            ],
            [
             41.208333333333336
            ],
            [
             43.72666666666667
            ],
            [
             47.02222222222222
            ],
            [
             53.96458333333334
            ],
            [
             39.504629629629626
            ],
            [
             62.64333333333334
            ],
            [
             39.54047619047619
            ],
            [
             53.54583333333333
            ],
            [
             46.478125
            ],
            [
             38.28425925925927
            ],
            [
             50.27166666666667
            ],
            [
             51.3125
            ],
            [
             52.41111111111112
            ],
            [
             52.921875
            ],
            [
             44.51666666666667
            ],
            [
             41.75833333333333
            ],
            [
             58.37395833333333
            ],
            [
             58.12777777777779
            ],
            [
             46.04537037037037
            ],
            [
             48.330000000000005
            ],
            [
             49.333333333333336
            ],
            [
             42.21018518518519
            ],
            [
             57.03958333333333
            ],
            [
             65.61333333333333
            ],
            [
             47.44880952380952
            ],
            [
             41.475
            ],
            [
             46.20416666666666
            ],
            [
             54.825
            ],
            [
             52.04027777777778
            ],
            [
             38.5275
            ],
            [
             42.44166666666666
            ]
           ],
           "featureidkey": "properties.name",
           "geojson": "us-states.json",
           "hovertemplate": "<b>%{hovertext}</b><br><br>Année=1993<br>Etat=%{location}<br>Température moyenne=%{z}<extra></extra>",
           "hovertext": [
            "Alaska",
            "Alabama",
            "Arkansas",
            "Arizona",
            "California",
            "Colorado",
            "Connecticut",
            "Delaware",
            "Florida",
            "Georgia",
            "Hawaii",
            "Iowa",
            "Idaho",
            "Illinois",
            "Indiana",
            "Kansas",
            "Kentucky",
            "Louisiana",
            "Massachusetts",
            "Maryland",
            "Maine",
            "Michigan",
            "Minnesota",
            "Missouri",
            "Mississippi",
            "Montana",
            "North Carolina",
            "North Dakota",
            "Nebraska",
            "New Hampshire",
            "New Jersey",
            "New Mexico",
            "Nevada",
            "New York",
            "Ohio",
            "Oklahoma",
            "Oregon",
            "Pennsylvania",
            "South Carolina",
            "South Dakota",
            "Tennessee",
            "Texas",
            "Utah",
            "Virginia",
            "Vermont",
            "Washington",
            "Wisconsin",
            "West Virginia"
           ],
           "locations": [
            "Alaska",
            "Alabama",
            "Arkansas",
            "Arizona",
            "California",
            "Colorado",
            "Connecticut",
            "Delaware",
            "Florida",
            "Georgia",
            "Hawaii",
            "Iowa",
            "Idaho",
            "Illinois",
            "Indiana",
            "Kansas",
            "Kentucky",
            "Louisiana",
            "Massachusetts",
            "Maryland",
            "Maine",
            "Michigan",
            "Minnesota",
            "Missouri",
            "Mississippi",
            "Montana",
            "North Carolina",
            "North Dakota",
            "Nebraska",
            "New Hampshire",
            "New Jersey",
            "New Mexico",
            "Nevada",
            "New York",
            "Ohio",
            "Oklahoma",
            "Oregon",
            "Pennsylvania",
            "South Carolina",
            "South Dakota",
            "Tennessee",
            "Texas",
            "Utah",
            "Virginia",
            "Vermont",
            "Washington",
            "Wisconsin",
            "West Virginia"
           ],
           "marker": {
            "opacity": 0.75
           },
           "name": "",
           "subplot": "mapbox",
           "type": "choroplethmapbox",
           "z": [
            32.96474358974359,
            61.98541666666667,
            59.26111111111111,
            62.05952380952382,
            55.59761904761905,
            43.73833333333334,
            48.56111111111111,
            54.57083333333333,
            71.93333333333334,
            62.713888888888896,
            42.3125,
            51.730555555555554,
            51.00185185185185,
            50.713888888888896,
            45.81666666666666,
            55.01874999999999,
            65.42592592592592,
            41.208333333333336,
            43.72666666666667,
            47.02222222222222,
            53.96458333333334,
            39.504629629629626,
            62.64333333333334,
            39.54047619047619,
            53.54583333333333,
            46.478125,
            38.28425925925927,
            50.27166666666667,
            51.3125,
            52.41111111111112,
            52.921875,
            44.51666666666667,
            41.75833333333333,
            58.37395833333333,
            58.12777777777779,
            46.04537037037037,
            48.330000000000005,
            49.333333333333336,
            42.21018518518519,
            57.03958333333333,
            65.61333333333333,
            47.44880952380952,
            41.475,
            46.20416666666666,
            54.825,
            52.04027777777778,
            38.5275,
            42.44166666666666
           ]
          }
         ],
         "name": "1993"
        },
        {
         "data": [
          {
           "coloraxis": "coloraxis",
           "customdata": [
            [
             29.892307692307696
            ],
            [
             62.70520833333333
            ],
            [
             60.367592592592594
            ],
            [
             62.74880952380952
            ],
            [
             55.86904761904762
            ],
            [
             46.47666666666667
            ],
            [
             48.79166666666666
            ],
            [
             54.63333333333333
            ],
            [
             73.16309523809524
            ],
            [
             63.07962962962963
            ],
            [
             45.719166666666666
            ],
            [
             54.71851851851852
            ],
            [
             52.12129629629629
            ],
            [
             51.41851851851852
            ],
            [
             47.62777777777777
            ],
            [
             55.42916666666667
            ],
            [
             66.3037037037037
            ],
            [
             41.72777777777778
            ],
            [
             44.2725
            ],
            [
             47.36666666666667
            ],
            [
             54.07708333333334
            ],
            [
             41.48333333333333
            ],
            [
             63.509166666666665
            ],
            [
             42.634523809523806
            ],
            [
             55.17638888888889
            ],
            [
             49.59270833333333
            ],
            [
             40.00092592592593
            ],
            [
             50.333333333333336
            ],
            [
             53.32291666666666
            ],
            [
             52.38611111111111
            ],
            [
             54.18958333333333
            ],
            [
             44.6925
            ],
            [
             41.958333333333336
            ],
            [
             58.62083333333334
            ],
            [
             59.75648148148148
            ],
            [
             48.14907407407407
            ],
            [
             48.1275
            ],
            [
             49.55
            ],
            [
             61.99404761904762
            ],
            [
             44.81296296296296
            ],
            [
             57.49375
            ],
            [
             67.1075
            ],
            [
             50.32619047619048
            ],
            [
             41.59722222222222
            ],
            [
             48.24
            ],
            [
             55.036111111111104
            ],
            [
             51.93611111111111
            ],
            [
             42.50833333333333
            ],
            [
             43.58796296296296
            ]
           ],
           "featureidkey": "properties.name",
           "geojson": "us-states.json",
           "hovertemplate": "<b>%{hovertext}</b><br><br>Année=1994<br>Etat=%{location}<br>Température moyenne=%{z}<extra></extra>",
           "hovertext": [
            "Alaska",
            "Alabama",
            "Arkansas",
            "Arizona",
            "California",
            "Colorado",
            "Connecticut",
            "Delaware",
            "Florida",
            "Georgia",
            "Hawaii",
            "Iowa",
            "Idaho",
            "Illinois",
            "Indiana",
            "Kansas",
            "Kentucky",
            "Louisiana",
            "Massachusetts",
            "Maryland",
            "Maine",
            "Michigan",
            "Minnesota",
            "Missouri",
            "Mississippi",
            "Montana",
            "North Carolina",
            "North Dakota",
            "Nebraska",
            "New Hampshire",
            "New Jersey",
            "New Mexico",
            "Nevada",
            "New York",
            "Ohio",
            "Oklahoma",
            "Oregon",
            "Pennsylvania",
            "Rhode Island",
            "South Carolina",
            "South Dakota",
            "Tennessee",
            "Texas",
            "Utah",
            "Virginia",
            "Vermont",
            "Washington",
            "Wisconsin",
            "West Virginia"
           ],
           "locations": [
            "Alaska",
            "Alabama",
            "Arkansas",
            "Arizona",
            "California",
            "Colorado",
            "Connecticut",
            "Delaware",
            "Florida",
            "Georgia",
            "Hawaii",
            "Iowa",
            "Idaho",
            "Illinois",
            "Indiana",
            "Kansas",
            "Kentucky",
            "Louisiana",
            "Massachusetts",
            "Maryland",
            "Maine",
            "Michigan",
            "Minnesota",
            "Missouri",
            "Mississippi",
            "Montana",
            "North Carolina",
            "North Dakota",
            "Nebraska",
            "New Hampshire",
            "New Jersey",
            "New Mexico",
            "Nevada",
            "New York",
            "Ohio",
            "Oklahoma",
            "Oregon",
            "Pennsylvania",
            "Rhode Island",
            "South Carolina",
            "South Dakota",
            "Tennessee",
            "Texas",
            "Utah",
            "Virginia",
            "Vermont",
            "Washington",
            "Wisconsin",
            "West Virginia"
           ],
           "marker": {
            "opacity": 0.75
           },
           "name": "",
           "subplot": "mapbox",
           "type": "choroplethmapbox",
           "z": [
            29.892307692307696,
            62.70520833333333,
            60.367592592592594,
            62.74880952380952,
            55.86904761904762,
            46.47666666666667,
            48.79166666666666,
            54.63333333333333,
            73.16309523809524,
            63.07962962962963,
            45.719166666666666,
            54.71851851851852,
            52.12129629629629,
            51.41851851851852,
            47.62777777777777,
            55.42916666666667,
            66.3037037037037,
            41.72777777777778,
            44.2725,
            47.36666666666667,
            54.07708333333334,
            41.48333333333333,
            63.509166666666665,
            42.634523809523806,
            55.17638888888889,
            49.59270833333333,
            40.00092592592593,
            50.333333333333336,
            53.32291666666666,
            52.38611111111111,
            54.18958333333333,
            44.6925,
            41.958333333333336,
            58.62083333333334,
            59.75648148148148,
            48.14907407407407,
            48.1275,
            49.55,
            61.99404761904762,
            44.81296296296296,
            57.49375,
            67.1075,
            50.32619047619048,
            41.59722222222222,
            48.24,
            55.036111111111104,
            51.93611111111111,
            42.50833333333333,
            43.58796296296296
           ]
          }
         ],
         "name": "1994"
        },
        {
         "data": [
          {
           "coloraxis": "coloraxis",
           "customdata": [
            [
             31.03269230769231
            ],
            [
             62.66458333333333
            ],
            [
             60.45092592592593
            ],
            [
             63.286904761904765
            ],
            [
             56.85714285714286
            ],
            [
             45.685
            ],
            [
             48.96666666666667
            ],
            [
             54.81666666666667
            ],
            [
             72.31666666666666
            ],
            [
             62.93796296296296
            ],
            [
             45.028333333333336
            ],
            [
             53.73703703703704
            ],
            [
             51.74074074074074
            ],
            [
             51.41481481481481
            ],
            [
             47.403703703703705
            ],
            [
             55.41666666666666
            ],
            [
             66.6287037037037
            ],
            [
             42.144444444444446
            ],
            [
             44.65583333333333
            ],
            [
             47.53055555555556
            ],
            [
             54.125
            ],
            [
             41
            ],
            [
             63.5525
            ],
            [
             41.69880952380952
            ],
            [
             54.7375
            ],
            [
             48.98645833333333
            ],
            [
             39.65
            ],
            [
             50.223333333333336
            ],
            [
             53.5
            ],
            [
             52.65555555555556
            ],
            [
             54.07916666666667
            ],
            [
             45.568333333333335
            ],
            [
             42.55416666666667
            ],
            [
             58.09791666666666
            ],
            [
             59.40185185185185
            ],
            [
             48.48703703703704
            ],
            [
             48.615833333333335
            ],
            [
             49.89166666666667
            ],
            [
             44.55833333333334
            ],
            [
             57.30833333333334
            ],
            [
             66.74916666666667
            ],
            [
             49.833333333333336
            ],
            [
             42.59166666666667
            ],
            [
             48.086666666666666
            ],
            [
             54.74444444444445
            ],
            [
             51.74305555555555
            ],
            [
             41.27583333333333
            ],
            [
             43.49074074074074
            ]
           ],
           "featureidkey": "properties.name",
           "geojson": "us-states.json",
           "hovertemplate": "<b>%{hovertext}</b><br><br>Année=1995<br>Etat=%{location}<br>Température moyenne=%{z}<extra></extra>",
           "hovertext": [
            "Alaska",
            "Alabama",
            "Arkansas",
            "Arizona",
            "California",
            "Colorado",
            "Connecticut",
            "Delaware",
            "Florida",
            "Georgia",
            "Hawaii",
            "Iowa",
            "Idaho",
            "Illinois",
            "Indiana",
            "Kansas",
            "Kentucky",
            "Louisiana",
            "Massachusetts",
            "Maryland",
            "Maine",
            "Michigan",
            "Minnesota",
            "Missouri",
            "Mississippi",
            "Montana",
            "North Carolina",
            "North Dakota",
            "Nebraska",
            "New Hampshire",
            "New Jersey",
            "New Mexico",
            "Nevada",
            "New York",
            "Ohio",
            "Oklahoma",
            "Oregon",
            "Pennsylvania",
            "South Carolina",
            "South Dakota",
            "Tennessee",
            "Texas",
            "Utah",
            "Virginia",
            "Vermont",
            "Washington",
            "Wisconsin",
            "West Virginia"
           ],
           "locations": [
            "Alaska",
            "Alabama",
            "Arkansas",
            "Arizona",
            "California",
            "Colorado",
            "Connecticut",
            "Delaware",
            "Florida",
            "Georgia",
            "Hawaii",
            "Iowa",
            "Idaho",
            "Illinois",
            "Indiana",
            "Kansas",
            "Kentucky",
            "Louisiana",
            "Massachusetts",
            "Maryland",
            "Maine",
            "Michigan",
            "Minnesota",
            "Missouri",
            "Mississippi",
            "Montana",
            "North Carolina",
            "North Dakota",
            "Nebraska",
            "New Hampshire",
            "New Jersey",
            "New Mexico",
            "Nevada",
            "New York",
            "Ohio",
            "Oklahoma",
            "Oregon",
            "Pennsylvania",
            "South Carolina",
            "South Dakota",
            "Tennessee",
            "Texas",
            "Utah",
            "Virginia",
            "Vermont",
            "Washington",
            "Wisconsin",
            "West Virginia"
           ],
           "marker": {
            "opacity": 0.75
           },
           "name": "",
           "subplot": "mapbox",
           "type": "choroplethmapbox",
           "z": [
            31.03269230769231,
            62.66458333333333,
            60.45092592592593,
            63.286904761904765,
            56.85714285714286,
            45.685,
            48.96666666666667,
            54.81666666666667,
            72.31666666666666,
            62.93796296296296,
            45.028333333333336,
            53.73703703703704,
            51.74074074074074,
            51.41481481481481,
            47.403703703703705,
            55.41666666666666,
            66.6287037037037,
            42.144444444444446,
            44.65583333333333,
            47.53055555555556,
            54.125,
            41,
            63.5525,
            41.69880952380952,
            54.7375,
            48.98645833333333,
            39.65,
            50.223333333333336,
            53.5,
            52.65555555555556,
            54.07916666666667,
            45.568333333333335,
            42.55416666666667,
            58.09791666666666,
            59.40185185185185,
            48.48703703703704,
            48.615833333333335,
            49.89166666666667,
            44.55833333333334,
            57.30833333333334,
            66.74916666666667,
            49.833333333333336,
            42.59166666666667,
            48.086666666666666,
            54.74444444444445,
            51.74305555555555,
            41.27583333333333,
            43.49074074074074
           ]
          }
         ],
         "name": "1995"
        },
        {
         "data": [
          {
           "coloraxis": "coloraxis",
           "customdata": [
            [
             28.78333333333333
            ],
            [
             61.75104166666667
            ],
            [
             59.53518518518519
            ],
            [
             64.1452380952381
            ],
            [
             57.410714285714285
            ],
            [
             45.71
            ],
            [
             48.29722222222222
            ],
            [
             71.4452380952381
            ],
            [
             62.09166666666667
            ],
            [
             44.47583333333333
            ],
            [
             52.85
            ],
            [
             50.27222222222222
            ],
            [
             50.0212962962963
            ],
            [
             45.35
            ],
            [
             54.42916666666667
            ],
            [
             65.99722222222222
            ],
            [
             42.06944444444444
            ],
            [
             43.01583333333334
            ],
            [
             47.06111111111111
            ],
            [
             52.97916666666666
            ],
            [
             38.29537037037037
            ],
            [
             62.935
            ],
            [
             39.29642857142857
            ],
            [
             53.51527777777778
            ],
            [
             47.053125
            ],
            [
             36.53796296296296
            ],
            [
             49.41416666666667
            ],
            [
             54.20625
            ],
            [
             51.72222222222222
            ],
            [
             54.45104166666667
            ],
            [
             44.88666666666666
            ],
            [
             42.25833333333333
            ],
            [
             57.40104166666666
            ],
            [
             59.00833333333333
            ],
            [
             47.97407407407408
            ],
            [
             47.7075
            ],
            [
             49.075
            ],
            [
             41.57592592592592
            ],
            [
             56.40625
            ],
            [
             66.985
            ],
            [
             50.22142857142857
            ],
            [
             42.26388888888889
            ],
            [
             46.16916666666666
            ],
            [
             50.918055555555554
            ],
            [
             40.4925
            ],
            [
             41.18796296296296
            ]
           ],
           "featureidkey": "properties.name",
           "geojson": "us-states.json",
           "hovertemplate": "<b>%{hovertext}</b><br><br>Année=1996<br>Etat=%{location}<br>Température moyenne=%{z}<extra></extra>",
           "hovertext": [
            "Alaska",
            "Alabama",
            "Arkansas",
            "Arizona",
            "California",
            "Colorado",
            "Connecticut",
            "Florida",
            "Georgia",
            "Hawaii",
            "Iowa",
            "Idaho",
            "Illinois",
            "Indiana",
            "Kansas",
            "Kentucky",
            "Louisiana",
            "Massachusetts",
            "Maryland",
            "Maine",
            "Michigan",
            "Minnesota",
            "Missouri",
            "Mississippi",
            "Montana",
            "North Carolina",
            "North Dakota",
            "Nebraska",
            "New Hampshire",
            "New Jersey",
            "New Mexico",
            "Nevada",
            "New York",
            "Ohio",
            "Oklahoma",
            "Oregon",
            "Pennsylvania",
            "South Carolina",
            "South Dakota",
            "Tennessee",
            "Texas",
            "Utah",
            "Virginia",
            "Washington",
            "Wisconsin",
            "West Virginia"
           ],
           "locations": [
            "Alaska",
            "Alabama",
            "Arkansas",
            "Arizona",
            "California",
            "Colorado",
            "Connecticut",
            "Florida",
            "Georgia",
            "Hawaii",
            "Iowa",
            "Idaho",
            "Illinois",
            "Indiana",
            "Kansas",
            "Kentucky",
            "Louisiana",
            "Massachusetts",
            "Maryland",
            "Maine",
            "Michigan",
            "Minnesota",
            "Missouri",
            "Mississippi",
            "Montana",
            "North Carolina",
            "North Dakota",
            "Nebraska",
            "New Hampshire",
            "New Jersey",
            "New Mexico",
            "Nevada",
            "New York",
            "Ohio",
            "Oklahoma",
            "Oregon",
            "Pennsylvania",
            "South Carolina",
            "South Dakota",
            "Tennessee",
            "Texas",
            "Utah",
            "Virginia",
            "Washington",
            "Wisconsin",
            "West Virginia"
           ],
           "marker": {
            "opacity": 0.75
           },
           "name": "",
           "subplot": "mapbox",
           "type": "choroplethmapbox",
           "z": [
            28.78333333333333,
            61.75104166666667,
            59.53518518518519,
            64.1452380952381,
            57.410714285714285,
            45.71,
            48.29722222222222,
            71.4452380952381,
            62.09166666666667,
            44.47583333333333,
            52.85,
            50.27222222222222,
            50.0212962962963,
            45.35,
            54.42916666666667,
            65.99722222222222,
            42.06944444444444,
            43.01583333333334,
            47.06111111111111,
            52.97916666666666,
            38.29537037037037,
            62.935,
            39.29642857142857,
            53.51527777777778,
            47.053125,
            36.53796296296296,
            49.41416666666667,
            54.20625,
            51.72222222222222,
            54.45104166666667,
            44.88666666666666,
            42.25833333333333,
            57.40104166666666,
            59.00833333333333,
            47.97407407407408,
            47.7075,
            49.075,
            41.57592592592592,
            56.40625,
            66.985,
            50.22142857142857,
            42.26388888888889,
            46.16916666666666,
            50.918055555555554,
            40.4925,
            41.18796296296296
           ]
          }
         ],
         "name": "1996"
        },
        {
         "data": [
          {
           "coloraxis": "coloraxis",
           "customdata": [
            [
             31.77435897435897
            ],
            [
             61.98020833333334
            ],
            [
             59.61944444444445
            ],
            [
             62.92380952380952
            ],
            [
             57.07261904761905
            ],
            [
             44.86333333333334
            ],
            [
             48.59166666666667
            ],
            [
             54.45416666666667
            ],
            [
             72.75357142857143
            ],
            [
             62.62777777777777
            ],
            [
             44.72916666666666
            ],
            [
             53.50925925925926
            ],
            [
             51.089814814814815
            ],
            [
             50.43888888888889
            ],
            [
             47.24166666666667
            ],
            [
             54.52916666666667
            ],
            [
             65.83703703703704
            ],
            [
             41.172222222222224
            ],
            [
             43.9625
            ],
            [
             47.10277777777778
            ],
            [
             53.72604166666667
            ],
            [
             41.16574074074074
            ],
            [
             62.83166666666667
            ],
            [
             42.082142857142856
            ],
            [
             54.18472222222223
            ],
            [
             49.04791666666667
            ],
            [
             40.67592592592592
            ],
            [
             49.821666666666665
            ],
            [
             53.24166666666667
            ],
            [
             52.28888888888889
            ],
            [
             52.67916666666667
            ],
            [
             44.70583333333334
            ],
            [
             41.49583333333333
            ],
            [
             57.72291666666667
            ],
            [
             58.76203703703704
            ],
            [
             48.138888888888886
            ],
            [
             48.12083333333334
            ],
            [
             49.43333333333334
            ],
            [
             44.66481481481481
            ],
            [
             56.72291666666666
            ],
            [
             65.52333333333333
            ],
            [
             48.83571428571429
            ],
            [
             41.37777777777777
            ],
            [
             47.685833333333335
            ],
            [
             54.276388888888896
            ],
            [
             51.19861111111111
            ],
            [
             40.910833333333336
            ],
            [
             43.226851851851855
            ]
           ],
           "featureidkey": "properties.name",
           "geojson": "us-states.json",
           "hovertemplate": "<b>%{hovertext}</b><br><br>Année=1997<br>Etat=%{location}<br>Température moyenne=%{z}<extra></extra>",
           "hovertext": [
            "Alaska",
            "Alabama",
            "Arkansas",
            "Arizona",
            "California",
            "Colorado",
            "Connecticut",
            "Delaware",
            "Florida",
            "Georgia",
            "Hawaii",
            "Iowa",
            "Idaho",
            "Illinois",
            "Indiana",
            "Kansas",
            "Kentucky",
            "Louisiana",
            "Massachusetts",
            "Maryland",
            "Maine",
            "Michigan",
            "Minnesota",
            "Missouri",
            "Mississippi",
            "Montana",
            "North Carolina",
            "North Dakota",
            "Nebraska",
            "New Hampshire",
            "New Jersey",
            "New Mexico",
            "Nevada",
            "New York",
            "Ohio",
            "Oklahoma",
            "Oregon",
            "Pennsylvania",
            "South Carolina",
            "South Dakota",
            "Tennessee",
            "Texas",
            "Utah",
            "Virginia",
            "Vermont",
            "Washington",
            "Wisconsin",
            "West Virginia"
           ],
           "locations": [
            "Alaska",
            "Alabama",
            "Arkansas",
            "Arizona",
            "California",
            "Colorado",
            "Connecticut",
            "Delaware",
            "Florida",
            "Georgia",
            "Hawaii",
            "Iowa",
            "Idaho",
            "Illinois",
            "Indiana",
            "Kansas",
            "Kentucky",
            "Louisiana",
            "Massachusetts",
            "Maryland",
            "Maine",
            "Michigan",
            "Minnesota",
            "Missouri",
            "Mississippi",
            "Montana",
            "North Carolina",
            "North Dakota",
            "Nebraska",
            "New Hampshire",
            "New Jersey",
            "New Mexico",
            "Nevada",
            "New York",
            "Ohio",
            "Oklahoma",
            "Oregon",
            "Pennsylvania",
            "South Carolina",
            "South Dakota",
            "Tennessee",
            "Texas",
            "Utah",
            "Virginia",
            "Vermont",
            "Washington",
            "Wisconsin",
            "West Virginia"
           ],
           "marker": {
            "opacity": 0.75
           },
           "name": "",
           "subplot": "mapbox",
           "type": "choroplethmapbox",
           "z": [
            31.77435897435897,
            61.98020833333334,
            59.61944444444445,
            62.92380952380952,
            57.07261904761905,
            44.86333333333334,
            48.59166666666667,
            54.45416666666667,
            72.75357142857143,
            62.62777777777777,
            44.72916666666666,
            53.50925925925926,
            51.089814814814815,
            50.43888888888889,
            47.24166666666667,
            54.52916666666667,
            65.83703703703704,
            41.172222222222224,
            43.9625,
            47.10277777777778,
            53.72604166666667,
            41.16574074074074,
            62.83166666666667,
            42.082142857142856,
            54.18472222222223,
            49.04791666666667,
            40.67592592592592,
            49.821666666666665,
            53.24166666666667,
            52.28888888888889,
            52.67916666666667,
            44.70583333333334,
            41.49583333333333,
            57.72291666666667,
            58.76203703703704,
            48.138888888888886,
            48.12083333333334,
            49.43333333333334,
            44.66481481481481,
            56.72291666666666,
            65.52333333333333,
            48.83571428571429,
            41.37777777777777,
            47.685833333333335,
            54.276388888888896,
            51.19861111111111,
            40.910833333333336,
            43.226851851851855
           ]
          }
         ],
         "name": "1997"
        },
        {
         "data": [
          {
           "coloraxis": "coloraxis",
           "customdata": [
            [
             31.673076923076923
            ],
            [
             64.75416666666666
            ],
            [
             63.06111111111111
            ],
            [
             61.371428571428574
            ],
            [
             54.80952380952382
            ],
            [
             46.27166666666667
            ],
            [
             51.55
            ],
            [
             73.82857142857144
            ],
            [
             65.16203703703704
            ],
            [
             45.80416666666667
            ],
            [
             56.12129629629629
            ],
            [
             55.333333333333336
            ],
            [
             54.88425925925926
            ],
            [
             51.06111111111111
            ],
            [
             58.23125
            ],
            [
             68.50277777777778
            ],
            [
             44.63333333333333
            ],
            [
             48.6925
            ],
            [
             50.13611111111111
            ],
            [
             56.708333333333336
            ],
            [
             45.471296296296295
            ],
            [
             65.80499999999999
            ],
            [
             43.7
            ],
            [
             57.69027777777777
            ],
            [
             51.15520833333333
            ],
            [
             43.24074074074074
            ],
            [
             53.9875
            ],
            [
             51.62916666666666
            ],
            [
             55.31111111111111
            ],
            [
             53.90833333333333
            ],
            [
             48.6125
            ],
            [
             45.3125
            ],
            [
             60.46666666666667
            ],
            [
             62.11574074074074
            ],
            [
             48.21296296296296
            ],
            [
             51.85083333333333
            ],
            [
             52.01666666666667
            ],
            [
             47.19722222222222
            ],
            [
             60.03541666666666
            ],
            [
             68.54416666666667
            ],
            [
             48.88214285714286
            ],
            [
             45.425
            ],
            [
             48.97333333333333
            ],
            [
             57.24305555555555
            ],
            [
             54.47083333333333
            ],
            [
             42.2775
            ],
            [
             47.89074074074074
            ]
           ],
           "featureidkey": "properties.name",
           "geojson": "us-states.json",
           "hovertemplate": "<b>%{hovertext}</b><br><br>Année=1998<br>Etat=%{location}<br>Température moyenne=%{z}<extra></extra>",
           "hovertext": [
            "Alaska",
            "Alabama",
            "Arkansas",
            "Arizona",
            "California",
            "Colorado",
            "Connecticut",
            "Florida",
            "Georgia",
            "Hawaii",
            "Iowa",
            "Idaho",
            "Illinois",
            "Indiana",
            "Kansas",
            "Kentucky",
            "Louisiana",
            "Massachusetts",
            "Maryland",
            "Maine",
            "Michigan",
            "Minnesota",
            "Missouri",
            "Mississippi",
            "Montana",
            "North Carolina",
            "North Dakota",
            "Nebraska",
            "New Hampshire",
            "New Jersey",
            "New Mexico",
            "Nevada",
            "New York",
            "Ohio",
            "Oklahoma",
            "Oregon",
            "Pennsylvania",
            "South Carolina",
            "South Dakota",
            "Tennessee",
            "Texas",
            "Utah",
            "Virginia",
            "Vermont",
            "Washington",
            "Wisconsin",
            "West Virginia"
           ],
           "locations": [
            "Alaska",
            "Alabama",
            "Arkansas",
            "Arizona",
            "California",
            "Colorado",
            "Connecticut",
            "Florida",
            "Georgia",
            "Hawaii",
            "Iowa",
            "Idaho",
            "Illinois",
            "Indiana",
            "Kansas",
            "Kentucky",
            "Louisiana",
            "Massachusetts",
            "Maryland",
            "Maine",
            "Michigan",
            "Minnesota",
            "Missouri",
            "Mississippi",
            "Montana",
            "North Carolina",
            "North Dakota",
            "Nebraska",
            "New Hampshire",
            "New Jersey",
            "New Mexico",
            "Nevada",
            "New York",
            "Ohio",
            "Oklahoma",
            "Oregon",
            "Pennsylvania",
            "South Carolina",
            "South Dakota",
            "Tennessee",
            "Texas",
            "Utah",
            "Virginia",
            "Vermont",
            "Washington",
            "Wisconsin",
            "West Virginia"
           ],
           "marker": {
            "opacity": 0.75
           },
           "name": "",
           "subplot": "mapbox",
           "type": "choroplethmapbox",
           "z": [
            31.673076923076923,
            64.75416666666666,
            63.06111111111111,
            61.371428571428574,
            54.80952380952382,
            46.27166666666667,
            51.55,
            73.82857142857144,
            65.16203703703704,
            45.80416666666667,
            56.12129629629629,
            55.333333333333336,
            54.88425925925926,
            51.06111111111111,
            58.23125,
            68.50277777777778,
            44.63333333333333,
            48.6925,
            50.13611111111111,
            56.708333333333336,
            45.471296296296295,
            65.80499999999999,
            43.7,
            57.69027777777777,
            51.15520833333333,
            43.24074074074074,
            53.9875,
            51.62916666666666,
            55.31111111111111,
            53.90833333333333,
            48.6125,
            45.3125,
            60.46666666666667,
            62.11574074074074,
            48.21296296296296,
            51.85083333333333,
            52.01666666666667,
            47.19722222222222,
            60.03541666666666,
            68.54416666666667,
            48.88214285714286,
            45.425,
            48.97333333333333,
            57.24305555555555,
            54.47083333333333,
            42.2775,
            47.89074074074074
           ]
          }
         ],
         "name": "1998"
        },
        {
         "data": [
          {
           "coloraxis": "coloraxis",
           "customdata": [
            [
             28.36858974358974
            ],
            [
             63.85520833333333
            ],
            [
             62.13703703703703
            ],
            [
             63.04880952380952
            ],
            [
             55.82857142857143
            ],
            [
             46.76500000000001
            ],
            [
             50.713888888888896
            ],
            [
             56.17083333333333
            ],
            [
             72.56666666666666
            ],
            [
             63.97037037037037
            ],
            [
             44.958333333333336
            ],
            [
             55.81481481481482
            ],
            [
             53.66481481481481
            ],
            [
             53.13333333333333
            ],
            [
             49.78148148148148
            ],
            [
             57.30416666666667
            ],
            [
             67.70833333333333
            ],
            [
             44.97777777777778
            ],
            [
             46.79833333333334
            ],
            [
             49.48333333333333
            ],
            [
             55.411458333333336
            ],
            [
             44.27407407407407
            ],
            [
             64.98083333333334
            ],
            [
             43.955952380952375
            ],
            [
             56.87916666666666
            ],
            [
             51.34166666666667
            ],
            [
             42.96759259259259
            ],
            [
             52.208333333333336
            ],
            [
             53.12708333333333
            ],
            [
             54.27222222222222
            ],
            [
             54.07916666666667
            ],
            [
             47.29333333333333
            ],
            [
             44.66666666666666
            ],
            [
             59.33020833333333
            ],
            [
             61.37685185185185
            ],
            [
             47.50555555555556
            ],
            [
             50.134166666666665
            ],
            [
             51.75
            ],
            [
             47.66481481481481
            ],
            [
             59.15208333333334
            ],
            [
             68.13666666666667
            ],
            [
             49.88214285714286
            ],
            [
             44.50833333333333
            ],
            [
             47.29333333333333
            ],
            [
             56.04027777777778
            ],
            [
             53.22083333333333
            ],
            [
             42.85083333333333
            ],
            [
             45.99537037037037
            ]
           ],
           "featureidkey": "properties.name",
           "geojson": "us-states.json",
           "hovertemplate": "<b>%{hovertext}</b><br><br>Année=1999<br>Etat=%{location}<br>Température moyenne=%{z}<extra></extra>",
           "hovertext": [
            "Alaska",
            "Alabama",
            "Arkansas",
            "Arizona",
            "California",
            "Colorado",
            "Connecticut",
            "Delaware",
            "Florida",
            "Georgia",
            "Hawaii",
            "Iowa",
            "Idaho",
            "Illinois",
            "Indiana",
            "Kansas",
            "Kentucky",
            "Louisiana",
            "Massachusetts",
            "Maryland",
            "Maine",
            "Michigan",
            "Minnesota",
            "Missouri",
            "Mississippi",
            "Montana",
            "North Carolina",
            "North Dakota",
            "Nebraska",
            "New Hampshire",
            "New Jersey",
            "New Mexico",
            "Nevada",
            "New York",
            "Ohio",
            "Oklahoma",
            "Oregon",
            "Pennsylvania",
            "South Carolina",
            "South Dakota",
            "Tennessee",
            "Texas",
            "Utah",
            "Virginia",
            "Vermont",
            "Washington",
            "Wisconsin",
            "West Virginia"
           ],
           "locations": [
            "Alaska",
            "Alabama",
            "Arkansas",
            "Arizona",
            "California",
            "Colorado",
            "Connecticut",
            "Delaware",
            "Florida",
            "Georgia",
            "Hawaii",
            "Iowa",
            "Idaho",
            "Illinois",
            "Indiana",
            "Kansas",
            "Kentucky",
            "Louisiana",
            "Massachusetts",
            "Maryland",
            "Maine",
            "Michigan",
            "Minnesota",
            "Missouri",
            "Mississippi",
            "Montana",
            "North Carolina",
            "North Dakota",
            "Nebraska",
            "New Hampshire",
            "New Jersey",
            "New Mexico",
            "Nevada",
            "New York",
            "Ohio",
            "Oklahoma",
            "Oregon",
            "Pennsylvania",
            "South Carolina",
            "South Dakota",
            "Tennessee",
            "Texas",
            "Utah",
            "Virginia",
            "Vermont",
            "Washington",
            "Wisconsin",
            "West Virginia"
           ],
           "marker": {
            "opacity": 0.75
           },
           "name": "",
           "subplot": "mapbox",
           "type": "choroplethmapbox",
           "z": [
            28.36858974358974,
            63.85520833333333,
            62.13703703703703,
            63.04880952380952,
            55.82857142857143,
            46.76500000000001,
            50.713888888888896,
            56.17083333333333,
            72.56666666666666,
            63.97037037037037,
            44.958333333333336,
            55.81481481481482,
            53.66481481481481,
            53.13333333333333,
            49.78148148148148,
            57.30416666666667,
            67.70833333333333,
            44.97777777777778,
            46.79833333333334,
            49.48333333333333,
            55.411458333333336,
            44.27407407407407,
            64.98083333333334,
            43.955952380952375,
            56.87916666666666,
            51.34166666666667,
            42.96759259259259,
            52.208333333333336,
            53.12708333333333,
            54.27222222222222,
            54.07916666666667,
            47.29333333333333,
            44.66666666666666,
            59.33020833333333,
            61.37685185185185,
            47.50555555555556,
            50.134166666666665,
            51.75,
            47.66481481481481,
            59.15208333333334,
            68.13666666666667,
            49.88214285714286,
            44.50833333333333,
            47.29333333333333,
            56.04027777777778,
            53.22083333333333,
            42.85083333333333,
            45.99537037037037
           ]
          }
         ],
         "name": "1999"
        },
        {
         "data": [
          {
           "coloraxis": "coloraxis",
           "customdata": [
            [
             31.509615384615387
            ],
            [
             63.21770833333333
            ],
            [
             60.8537037037037
            ],
            [
             63.88571428571428
            ],
            [
             56.67380952380952
            ],
            [
             47.02166666666667
            ],
            [
             48.452777777777776
            ],
            [
             54.41666666666666
            ],
            [
             72.12142857142857
            ],
            [
             62.855555555555554
            ],
            [
             45.153333333333336
            ],
            [
             55.36018518518518
            ],
            [
             52.31296296296296
            ],
            [
             51.5
            ],
            [
             48.78518518518519
            ],
            [
             55.68333333333333
            ],
            [
             67.08518518518518
            ],
            [
             42.15833333333333
            ],
            [
             45.49916666666667
            ],
            [
             47.25
            ],
            [
             53.85520833333333
            ],
            [
             42.41666666666666
            ],
            [
             64.16083333333333
            ],
            [
             42.30833333333333
            ],
            [
             55.62916666666666
            ],
            [
             50.40625
            ],
            [
             41.089814814814815
            ],
            [
             50.64833333333333
            ],
            [
             54.05
            ],
            [
             52.40277777777777
            ],
            [
             54.96354166666666
            ],
            [
             45.21333333333334
            ],
            [
             42.22916666666666
            ],
            [
             58.040625
            ],
            [
             60.3287037037037
            ],
            [
             47.74444444444445
            ],
            [
             48.57750000000001
            ],
            [
             49.44166666666666
            ],
            [
             45.81851851851852
            ],
            [
             57.86666666666667
            ],
            [
             68.0025
            ],
            [
             50.833333333333336
            ],
            [
             42.11666666666667
            ],
            [
             46.65083333333333
            ],
            [
             51.96666666666667
            ],
            [
             42.1625
            ],
            [
             44.51574074074074
            ]
           ],
           "featureidkey": "properties.name",
           "geojson": "us-states.json",
           "hovertemplate": "<b>%{hovertext}</b><br><br>Année=2000<br>Etat=%{location}<br>Température moyenne=%{z}<extra></extra>",
           "hovertext": [
            "Alaska",
            "Alabama",
            "Arkansas",
            "Arizona",
            "California",
            "Colorado",
            "Connecticut",
            "Delaware",
            "Florida",
            "Georgia",
            "Hawaii",
            "Iowa",
            "Idaho",
            "Illinois",
            "Indiana",
            "Kansas",
            "Kentucky",
            "Louisiana",
            "Massachusetts",
            "Maryland",
            "Maine",
            "Michigan",
            "Minnesota",
            "Missouri",
            "Mississippi",
            "Montana",
            "North Carolina",
            "North Dakota",
            "Nebraska",
            "New Hampshire",
            "New Jersey",
            "New Mexico",
            "Nevada",
            "New York",
            "Ohio",
            "Oklahoma",
            "Oregon",
            "Pennsylvania",
            "South Carolina",
            "South Dakota",
            "Tennessee",
            "Texas",
            "Utah",
            "Virginia",
            "Washington",
            "Wisconsin",
            "West Virginia"
           ],
           "locations": [
            "Alaska",
            "Alabama",
            "Arkansas",
            "Arizona",
            "California",
            "Colorado",
            "Connecticut",
            "Delaware",
            "Florida",
            "Georgia",
            "Hawaii",
            "Iowa",
            "Idaho",
            "Illinois",
            "Indiana",
            "Kansas",
            "Kentucky",
            "Louisiana",
            "Massachusetts",
            "Maryland",
            "Maine",
            "Michigan",
            "Minnesota",
            "Missouri",
            "Mississippi",
            "Montana",
            "North Carolina",
            "North Dakota",
            "Nebraska",
            "New Hampshire",
            "New Jersey",
            "New Mexico",
            "Nevada",
            "New York",
            "Ohio",
            "Oklahoma",
            "Oregon",
            "Pennsylvania",
            "South Carolina",
            "South Dakota",
            "Tennessee",
            "Texas",
            "Utah",
            "Virginia",
            "Washington",
            "Wisconsin",
            "West Virginia"
           ],
           "marker": {
            "opacity": 0.75
           },
           "name": "",
           "subplot": "mapbox",
           "type": "choroplethmapbox",
           "z": [
            31.509615384615387,
            63.21770833333333,
            60.8537037037037,
            63.88571428571428,
            56.67380952380952,
            47.02166666666667,
            48.452777777777776,
            54.41666666666666,
            72.12142857142857,
            62.855555555555554,
            45.153333333333336,
            55.36018518518518,
            52.31296296296296,
            51.5,
            48.78518518518519,
            55.68333333333333,
            67.08518518518518,
            42.15833333333333,
            45.49916666666667,
            47.25,
            53.85520833333333,
            42.41666666666666,
            64.16083333333333,
            42.30833333333333,
            55.62916666666666,
            50.40625,
            41.089814814814815,
            50.64833333333333,
            54.05,
            52.40277777777777,
            54.96354166666666,
            45.21333333333334,
            42.22916666666666,
            58.040625,
            60.3287037037037,
            47.74444444444445,
            48.57750000000001,
            49.44166666666666,
            45.81851851851852,
            57.86666666666667,
            68.0025,
            50.833333333333336,
            42.11666666666667,
            46.65083333333333,
            51.96666666666667,
            42.1625,
            44.51574074074074
           ]
          }
         ],
         "name": "2000"
        },
        {
         "data": [
          {
           "coloraxis": "coloraxis",
           "customdata": [
            [
             30.825000000000003
            ],
            [
             62.70729166666666
            ],
            [
             61.16481481481481
            ],
            [
             63.44166666666666
            ],
            [
             56.96666666666667
            ],
            [
             46.81333333333333
            ],
            [
             50.17777777777778
            ],
            [
             55.8125
            ],
            [
             72.41904761904762
            ],
            [
             63.40925925925925
            ],
            [
             45.54416666666666
            ],
            [
             55.7175925925926
            ],
            [
             53.50277777777777
            ],
            [
             53.09537037037037
            ],
            [
             49.208333333333336
            ],
            [
             56.63333333333333
            ],
            [
             66.49722222222222
            ],
            [
             43.74444444444444
            ],
            [
             47.23416666666666
            ],
            [
             48.83055555555556
            ],
            [
             55.06666666666666
            ],
            [
             43.56018518518519
            ],
            [
             63.6675
            ],
            [
             43.59285714285715
            ],
            [
             56.3125
            ],
            [
             50.77604166666666
            ],
            [
             42.281481481481485
            ],
            [
             52.2825
            ],
            [
             54.12291666666667
            ],
            [
             53.85
            ],
            [
             54.30104166666666
            ],
            [
             47.28583333333333
            ],
            [
             43.8375
            ],
            [
             59.04479166666667
            ],
            [
             60.7925925925926
            ],
            [
             48.06851851851852
            ],
            [
             50.02333333333333
            ],
            [
             51.09166666666667
            ],
            [
             46.36111111111112
            ],
            [
             58.13125
            ],
            [
             67.16083333333334
            ],
            [
             50.67261904761904
            ],
            [
             44.02777777777777
            ],
            [
             47.20916666666667
            ],
            [
             52.888888888888886
            ],
            [
             42.855
            ],
            [
             45.9574074074074
            ]
           ],
           "featureidkey": "properties.name",
           "geojson": "us-states.json",
           "hovertemplate": "<b>%{hovertext}</b><br><br>Année=2001<br>Etat=%{location}<br>Température moyenne=%{z}<extra></extra>",
           "hovertext": [
            "Alaska",
            "Alabama",
            "Arkansas",
            "Arizona",
            "California",
            "Colorado",
            "Connecticut",
            "Delaware",
            "Florida",
            "Georgia",
            "Hawaii",
            "Iowa",
            "Idaho",
            "Illinois",
            "Indiana",
            "Kansas",
            "Kentucky",
            "Louisiana",
            "Massachusetts",
            "Maryland",
            "Maine",
            "Michigan",
            "Minnesota",
            "Missouri",
            "Mississippi",
            "Montana",
            "North Carolina",
            "North Dakota",
            "Nebraska",
            "New Hampshire",
            "New Jersey",
            "New Mexico",
            "Nevada",
            "New York",
            "Ohio",
            "Oklahoma",
            "Oregon",
            "Pennsylvania",
            "South Carolina",
            "South Dakota",
            "Tennessee",
            "Texas",
            "Utah",
            "Virginia",
            "Washington",
            "Wisconsin",
            "West Virginia"
           ],
           "locations": [
            "Alaska",
            "Alabama",
            "Arkansas",
            "Arizona",
            "California",
            "Colorado",
            "Connecticut",
            "Delaware",
            "Florida",
            "Georgia",
            "Hawaii",
            "Iowa",
            "Idaho",
            "Illinois",
            "Indiana",
            "Kansas",
            "Kentucky",
            "Louisiana",
            "Massachusetts",
            "Maryland",
            "Maine",
            "Michigan",
            "Minnesota",
            "Missouri",
            "Mississippi",
            "Montana",
            "North Carolina",
            "North Dakota",
            "Nebraska",
            "New Hampshire",
            "New Jersey",
            "New Mexico",
            "Nevada",
            "New York",
            "Ohio",
            "Oklahoma",
            "Oregon",
            "Pennsylvania",
            "South Carolina",
            "South Dakota",
            "Tennessee",
            "Texas",
            "Utah",
            "Virginia",
            "Washington",
            "Wisconsin",
            "West Virginia"
           ],
           "marker": {
            "opacity": 0.75
           },
           "name": "",
           "subplot": "mapbox",
           "type": "choroplethmapbox",
           "z": [
            30.825000000000003,
            62.70729166666666,
            61.16481481481481,
            63.44166666666666,
            56.96666666666667,
            46.81333333333333,
            50.17777777777778,
            55.8125,
            72.41904761904762,
            63.40925925925925,
            45.54416666666666,
            55.7175925925926,
            53.50277777777777,
            53.09537037037037,
            49.208333333333336,
            56.63333333333333,
            66.49722222222222,
            43.74444444444444,
            47.23416666666666,
            48.83055555555556,
            55.06666666666666,
            43.56018518518519,
            63.6675,
            43.59285714285715,
            56.3125,
            50.77604166666666,
            42.281481481481485,
            52.2825,
            54.12291666666667,
            53.85,
            54.30104166666666,
            47.28583333333333,
            43.8375,
            59.04479166666667,
            60.7925925925926,
            48.06851851851852,
            50.02333333333333,
            51.09166666666667,
            46.36111111111112,
            58.13125,
            67.16083333333334,
            50.67261904761904,
            44.02777777777777,
            47.20916666666667,
            52.888888888888886,
            42.855,
            45.9574074074074
           ]
          }
         ],
         "name": "2001"
        },
        {
         "data": [
          {
           "coloraxis": "coloraxis",
           "customdata": [
            [
             32.73141025641026
            ],
            [
             63.25416666666666
            ],
            [
             60.52037037037038
            ],
            [
             63.42619047619048
            ],
            [
             56.705952380952375
            ],
            [
             46.14666666666667
            ],
            [
             50.42499999999999
            ],
            [
             56.8
            ],
            [
             72.8547619047619
            ],
            [
             63.84444444444444
            ],
            [
             44.33416666666667
            ],
            [
             55.03240740740741
            ],
            [
             53.36666666666667
            ],
            [
             53.05185185185186
            ],
            [
             49.31203703703704
            ],
            [
             56.87291666666667
            ],
            [
             66.49537037037037
            ],
            [
             42.975
            ],
            [
             46.22583333333333
            ],
            [
             49.06388888888889
            ],
            [
             56.005208333333336
            ],
            [
             42.73611111111112
            ],
            [
             63.9175
            ],
            [
             41.39047619047619
            ],
            [
             55.80555555555555
            ],
            [
             50.51770833333333
            ],
            [
             41.037962962962965
            ],
            [
             52.432500000000005
            ],
            [
             53.42916666666667
            ],
            [
             54.51111111111111
            ],
            [
             54.15729166666667
            ],
            [
             47.1875
            ],
            [
             43.725
            ],
            [
             59.59583333333333
            ],
            [
             59.44166666666666
            ],
            [
             48.05833333333334
            ],
            [
             50.43666666666667
            ],
            [
             51.15833333333333
            ],
            [
             46.03703703703704
            ],
            [
             58.59791666666666
            ],
            [
             66.60083333333334
            ],
            [
             49.50952380952381
            ],
            [
             43.888888888888886
            ],
            [
             47.325
            ],
            [
             56.327777777777776
            ],
            [
             53.456944444444446
            ],
            [
             40.96833333333333
            ],
            [
             45.31018518518519
            ]
           ],
           "featureidkey": "properties.name",
           "geojson": "us-states.json",
           "hovertemplate": "<b>%{hovertext}</b><br><br>Année=2002<br>Etat=%{location}<br>Température moyenne=%{z}<extra></extra>",
           "hovertext": [
            "Alaska",
            "Alabama",
            "Arkansas",
            "Arizona",
            "California",
            "Colorado",
            "Connecticut",
            "Delaware",
            "Florida",
            "Georgia",
            "Hawaii",
            "Iowa",
            "Idaho",
            "Illinois",
            "Indiana",
            "Kansas",
            "Kentucky",
            "Louisiana",
            "Massachusetts",
            "Maryland",
            "Maine",
            "Michigan",
            "Minnesota",
            "Missouri",
            "Mississippi",
            "Montana",
            "North Carolina",
            "North Dakota",
            "Nebraska",
            "New Hampshire",
            "New Jersey",
            "New Mexico",
            "Nevada",
            "New York",
            "Ohio",
            "Oklahoma",
            "Oregon",
            "Pennsylvania",
            "South Carolina",
            "South Dakota",
            "Tennessee",
            "Texas",
            "Utah",
            "Virginia",
            "Vermont",
            "Washington",
            "Wisconsin",
            "West Virginia"
           ],
           "locations": [
            "Alaska",
            "Alabama",
            "Arkansas",
            "Arizona",
            "California",
            "Colorado",
            "Connecticut",
            "Delaware",
            "Florida",
            "Georgia",
            "Hawaii",
            "Iowa",
            "Idaho",
            "Illinois",
            "Indiana",
            "Kansas",
            "Kentucky",
            "Louisiana",
            "Massachusetts",
            "Maryland",
            "Maine",
            "Michigan",
            "Minnesota",
            "Missouri",
            "Mississippi",
            "Montana",
            "North Carolina",
            "North Dakota",
            "Nebraska",
            "New Hampshire",
            "New Jersey",
            "New Mexico",
            "Nevada",
            "New York",
            "Ohio",
            "Oklahoma",
            "Oregon",
            "Pennsylvania",
            "South Carolina",
            "South Dakota",
            "Tennessee",
            "Texas",
            "Utah",
            "Virginia",
            "Vermont",
            "Washington",
            "Wisconsin",
            "West Virginia"
           ],
           "marker": {
            "opacity": 0.75
           },
           "name": "",
           "subplot": "mapbox",
           "type": "choroplethmapbox",
           "z": [
            32.73141025641026,
            63.25416666666666,
            60.52037037037038,
            63.42619047619048,
            56.705952380952375,
            46.14666666666667,
            50.42499999999999,
            56.8,
            72.8547619047619,
            63.84444444444444,
            44.33416666666667,
            55.03240740740741,
            53.36666666666667,
            53.05185185185186,
            49.31203703703704,
            56.87291666666667,
            66.49537037037037,
            42.975,
            46.22583333333333,
            49.06388888888889,
            56.005208333333336,
            42.73611111111112,
            63.9175,
            41.39047619047619,
            55.80555555555555,
            50.51770833333333,
            41.037962962962965,
            52.432500000000005,
            53.42916666666667,
            54.51111111111111,
            54.15729166666667,
            47.1875,
            43.725,
            59.59583333333333,
            59.44166666666666,
            48.05833333333334,
            50.43666666666667,
            51.15833333333333,
            46.03703703703704,
            58.59791666666666,
            66.60083333333334,
            49.50952380952381,
            43.888888888888886,
            47.325,
            56.327777777777776,
            53.456944444444446,
            40.96833333333333,
            45.31018518518519
           ]
          }
         ],
         "name": "2002"
        },
        {
         "data": [
          {
           "coloraxis": "coloraxis",
           "customdata": [
            [
             32.241025641025644
            ],
            [
             62.4125
            ],
            [
             60.239814814814814
            ],
            [
             64.11071428571428
            ],
            [
             57.35833333333333
            ],
            [
             47.03666666666667
            ],
            [
             48.13055555555556
            ],
            [
             54.2
            ],
            [
             72.50952380952381
            ],
            [
             62.78055555555556
            ],
            [
             46.74583333333334
            ],
            [
             54.78611111111112
            ],
            [
             51.83240740740741
            ],
            [
             51.01203703703703
            ],
            [
             48.04537037037037
            ],
            [
             55.24791666666667
            ],
            [
             66.22037037037038
            ],
            [
             41.65
            ],
            [
             44.4475
            ],
            [
             46.88333333333333
            ],
            [
             53.65416666666667
            ],
            [
             42.10925925925926
            ],
            [
             63.2
            ],
            [
             43.28809523809523
            ],
            [
             54.97638888888889
            ],
            [
             50.1875
            ],
            [
             40.80277777777778
            ],
            [
             50.1
            ],
            [
             54.74583333333334
            ],
            [
             52.03055555555556
            ],
            [
             55.253125
            ],
            [
             44.85333333333333
            ],
            [
             41.7875
            ],
            [
             58.35104166666667
            ],
            [
             59.882407407407406
            ],
            [
             49.2962962962963
            ],
            [
             48.09
            ],
            [
             48.975
            ],
            [
             45.93888888888889
            ],
            [
             57.38125
            ],
            [
             66.90416666666667
            ],
            [
             51.20357142857143
            ],
            [
             41.74722222222222
            ],
            [
             48.5725
            ],
            [
             54.68333333333334
            ],
            [
             51.76527777777778
            ],
            [
             42.67333333333334
            ],
            [
             43.8074074074074
            ]
           ],
           "featureidkey": "properties.name",
           "geojson": "us-states.json",
           "hovertemplate": "<b>%{hovertext}</b><br><br>Année=2003<br>Etat=%{location}<br>Température moyenne=%{z}<extra></extra>",
           "hovertext": [
            "Alaska",
            "Alabama",
            "Arkansas",
            "Arizona",
            "California",
            "Colorado",
            "Connecticut",
            "Delaware",
            "Florida",
            "Georgia",
            "Hawaii",
            "Iowa",
            "Idaho",
            "Illinois",
            "Indiana",
            "Kansas",
            "Kentucky",
            "Louisiana",
            "Massachusetts",
            "Maryland",
            "Maine",
            "Michigan",
            "Minnesota",
            "Missouri",
            "Mississippi",
            "Montana",
            "North Carolina",
            "North Dakota",
            "Nebraska",
            "New Hampshire",
            "New Jersey",
            "New Mexico",
            "Nevada",
            "New York",
            "Ohio",
            "Oklahoma",
            "Oregon",
            "Pennsylvania",
            "South Carolina",
            "South Dakota",
            "Tennessee",
            "Texas",
            "Utah",
            "Virginia",
            "Vermont",
            "Washington",
            "Wisconsin",
            "West Virginia"
           ],
           "locations": [
            "Alaska",
            "Alabama",
            "Arkansas",
            "Arizona",
            "California",
            "Colorado",
            "Connecticut",
            "Delaware",
            "Florida",
            "Georgia",
            "Hawaii",
            "Iowa",
            "Idaho",
            "Illinois",
            "Indiana",
            "Kansas",
            "Kentucky",
            "Louisiana",
            "Massachusetts",
            "Maryland",
            "Maine",
            "Michigan",
            "Minnesota",
            "Missouri",
            "Mississippi",
            "Montana",
            "North Carolina",
            "North Dakota",
            "Nebraska",
            "New Hampshire",
            "New Jersey",
            "New Mexico",
            "Nevada",
            "New York",
            "Ohio",
            "Oklahoma",
            "Oregon",
            "Pennsylvania",
            "South Carolina",
            "South Dakota",
            "Tennessee",
            "Texas",
            "Utah",
            "Virginia",
            "Vermont",
            "Washington",
            "Wisconsin",
            "West Virginia"
           ],
           "marker": {
            "opacity": 0.75
           },
           "name": "",
           "subplot": "mapbox",
           "type": "choroplethmapbox",
           "z": [
            32.241025641025644,
            62.4125,
            60.239814814814814,
            64.11071428571428,
            57.35833333333333,
            47.03666666666667,
            48.13055555555556,
            54.2,
            72.50952380952381,
            62.78055555555556,
            46.74583333333334,
            54.78611111111112,
            51.83240740740741,
            51.01203703703703,
            48.04537037037037,
            55.24791666666667,
            66.22037037037038,
            41.65,
            44.4475,
            46.88333333333333,
            53.65416666666667,
            42.10925925925926,
            63.2,
            43.28809523809523,
            54.97638888888889,
            50.1875,
            40.80277777777778,
            50.1,
            54.74583333333334,
            52.03055555555556,
            55.253125,
            44.85333333333333,
            41.7875,
            58.35104166666667,
            59.882407407407406,
            49.2962962962963,
            48.09,
            48.975,
            45.93888888888889,
            57.38125,
            66.90416666666667,
            51.20357142857143,
            41.74722222222222,
            48.5725,
            54.68333333333334,
            51.76527777777778,
            42.67333333333334,
            43.8074074074074
           ]
          }
         ],
         "name": "2003"
        },
        {
         "data": [
          {
           "coloraxis": "coloraxis",
           "customdata": [
            [
             32.550000000000004
            ],
            [
             63.03854166666667
            ],
            [
             61.01574074074074
            ],
            [
             62.67380952380952
            ],
            [
             56.83690476190477
            ],
            [
             45.88
            ],
            [
             48.69722222222222
            ],
            [
             55.41666666666666
            ],
            [
             72.33095238095238
            ],
            [
             63.47222222222223
            ],
            [
             45.55083333333334
            ],
            [
             54.87314814814815
            ],
            [
             52.70648148148148
            ],
            [
             52.15185185185185
            ],
            [
             48.65277777777778
            ],
            [
             56.427083333333336
            ],
            [
             67.00092592592593
            ],
            [
             41.64444444444444
            ],
            [
             45.07749999999999
            ],
            [
             47.35
            ],
            [
             54.896875
            ],
            [
             42.04074074074074
            ],
            [
             63.973333333333336
            ],
            [
             42.76666666666667
            ],
            [
             55.4875
            ],
            [
             50.21979166666667
            ],
            [
             40.57592592592592
            ],
            [
             51.21416666666667
            ],
            [
             53.375
            ],
            [
             53.19722222222222
            ],
            [
             53.29895833333333
            ],
            [
             45.47666666666667
            ],
            [
             42.1875
            ],
            [
             59
            ],
            [
             60.165740740740745
            ],
            [
             48.85092592592593
            ],
            [
             49.2
            ],
            [
             49.325
            ],
            [
             46.20462962962963
            ],
            [
             58.375
            ],
            [
             66.83416666666666
            ],
            [
             49.38095238095238
            ],
            [
             42.144444444444446
            ],
            [
             48.85916666666666
            ],
            [
             55.67361111111112
            ],
            [
             52.90416666666667
            ],
            [
             42.134166666666665
            ],
            [
             44.20277777777778
            ]
           ],
           "featureidkey": "properties.name",
           "geojson": "us-states.json",
           "hovertemplate": "<b>%{hovertext}</b><br><br>Année=2004<br>Etat=%{location}<br>Température moyenne=%{z}<extra></extra>",
           "hovertext": [
            "Alaska",
            "Alabama",
            "Arkansas",
            "Arizona",
            "California",
            "Colorado",
            "Connecticut",
            "Delaware",
            "Florida",
            "Georgia",
            "Hawaii",
            "Iowa",
            "Idaho",
            "Illinois",
            "Indiana",
            "Kansas",
            "Kentucky",
            "Louisiana",
            "Massachusetts",
            "Maryland",
            "Maine",
            "Michigan",
            "Minnesota",
            "Missouri",
            "Mississippi",
            "Montana",
            "North Carolina",
            "North Dakota",
            "Nebraska",
            "New Hampshire",
            "New Jersey",
            "New Mexico",
            "Nevada",
            "New York",
            "Ohio",
            "Oklahoma",
            "Oregon",
            "Pennsylvania",
            "South Carolina",
            "South Dakota",
            "Tennessee",
            "Texas",
            "Utah",
            "Virginia",
            "Vermont",
            "Washington",
            "Wisconsin",
            "West Virginia"
           ],
           "locations": [
            "Alaska",
            "Alabama",
            "Arkansas",
            "Arizona",
            "California",
            "Colorado",
            "Connecticut",
            "Delaware",
            "Florida",
            "Georgia",
            "Hawaii",
            "Iowa",
            "Idaho",
            "Illinois",
            "Indiana",
            "Kansas",
            "Kentucky",
            "Louisiana",
            "Massachusetts",
            "Maryland",
            "Maine",
            "Michigan",
            "Minnesota",
            "Missouri",
            "Mississippi",
            "Montana",
            "North Carolina",
            "North Dakota",
            "Nebraska",
            "New Hampshire",
            "New Jersey",
            "New Mexico",
            "Nevada",
            "New York",
            "Ohio",
            "Oklahoma",
            "Oregon",
            "Pennsylvania",
            "South Carolina",
            "South Dakota",
            "Tennessee",
            "Texas",
            "Utah",
            "Virginia",
            "Vermont",
            "Washington",
            "Wisconsin",
            "West Virginia"
           ],
           "marker": {
            "opacity": 0.75
           },
           "name": "",
           "subplot": "mapbox",
           "type": "choroplethmapbox",
           "z": [
            32.550000000000004,
            63.03854166666667,
            61.01574074074074,
            62.67380952380952,
            56.83690476190477,
            45.88,
            48.69722222222222,
            55.41666666666666,
            72.33095238095238,
            63.47222222222223,
            45.55083333333334,
            54.87314814814815,
            52.70648148148148,
            52.15185185185185,
            48.65277777777778,
            56.427083333333336,
            67.00092592592593,
            41.64444444444444,
            45.07749999999999,
            47.35,
            54.896875,
            42.04074074074074,
            63.973333333333336,
            42.76666666666667,
            55.4875,
            50.21979166666667,
            40.57592592592592,
            51.21416666666667,
            53.375,
            53.19722222222222,
            53.29895833333333,
            45.47666666666667,
            42.1875,
            59,
            60.165740740740745,
            48.85092592592593,
            49.2,
            49.325,
            46.20462962962963,
            58.375,
            66.83416666666666,
            49.38095238095238,
            42.144444444444446,
            48.85916666666666,
            55.67361111111112,
            52.90416666666667,
            42.134166666666665,
            44.20277777777778
           ]
          }
         ],
         "name": "2004"
        },
        {
         "data": [
          {
           "coloraxis": "coloraxis",
           "customdata": [
            [
             32.58974358974359
            ],
            [
             63.08645833333333
            ],
            [
             61.95
            ],
            [
             63.31309523809524
            ],
            [
             56.56309523809524
            ],
            [
             46.88333333333333
            ],
            [
             49.43888888888889
            ],
            [
             55.47083333333333
            ],
            [
             72.31666666666668
            ],
            [
             63.3
            ],
            [
             44.93083333333333
            ],
            [
             55.715740740740735
            ],
            [
             53.834259259259255
            ],
            [
             52.770370370370365
            ],
            [
             49.76203703703704
            ],
            [
             56.81458333333333
            ],
            [
             67.3851851851852
            ],
            [
             42.94722222222222
            ],
            [
             46.50333333333333
            ],
            [
             48.14166666666667
            ],
            [
             54.88333333333333
            ],
            [
             43.68888888888889
            ],
            [
             64.24666666666667
            ],
            [
             42.975
            ],
            [
             56.72222222222222
            ],
            [
             51.192708333333336
            ],
            [
             42.43611111111111
            ],
            [
             51.66583333333333
            ],
            [
             53.22291666666666
            ],
            [
             53.59722222222222
            ],
            [
             54.50104166666667
            ],
            [
             46.57333333333333
            ],
            [
             43.34166666666667
            ],
            [
             59.06979166666667
            ],
            [
             60.86018518518518
            ],
            [
             48.10833333333333
            ],
            [
             49.6475
            ],
            [
             50.083333333333336
            ],
            [
             62.3154761904762
            ],
            [
             47.19074074074074
            ],
            [
             58.59583333333333
            ],
            [
             67.56083333333333
            ],
            [
             49.96428571428572
            ],
            [
             43.65277777777778
            ],
            [
             47.87583333333333
            ],
            [
             55.69583333333333
            ],
            [
             52.951388888888886
            ],
            [
             42.501666666666665
            ],
            [
             45.66018518518519
            ]
           ],
           "featureidkey": "properties.name",
           "geojson": "us-states.json",
           "hovertemplate": "<b>%{hovertext}</b><br><br>Année=2005<br>Etat=%{location}<br>Température moyenne=%{z}<extra></extra>",
           "hovertext": [
            "Alaska",
            "Alabama",
            "Arkansas",
            "Arizona",
            "California",
            "Colorado",
            "Connecticut",
            "Delaware",
            "Florida",
            "Georgia",
            "Hawaii",
            "Iowa",
            "Idaho",
            "Illinois",
            "Indiana",
            "Kansas",
            "Kentucky",
            "Louisiana",
            "Massachusetts",
            "Maryland",
            "Maine",
            "Michigan",
            "Minnesota",
            "Missouri",
            "Mississippi",
            "Montana",
            "North Carolina",
            "North Dakota",
            "Nebraska",
            "New Hampshire",
            "New Jersey",
            "New Mexico",
            "Nevada",
            "New York",
            "Ohio",
            "Oklahoma",
            "Oregon",
            "Pennsylvania",
            "Rhode Island",
            "South Carolina",
            "South Dakota",
            "Tennessee",
            "Texas",
            "Utah",
            "Virginia",
            "Vermont",
            "Washington",
            "Wisconsin",
            "West Virginia"
           ],
           "locations": [
            "Alaska",
            "Alabama",
            "Arkansas",
            "Arizona",
            "California",
            "Colorado",
            "Connecticut",
            "Delaware",
            "Florida",
            "Georgia",
            "Hawaii",
            "Iowa",
            "Idaho",
            "Illinois",
            "Indiana",
            "Kansas",
            "Kentucky",
            "Louisiana",
            "Massachusetts",
            "Maryland",
            "Maine",
            "Michigan",
            "Minnesota",
            "Missouri",
            "Mississippi",
            "Montana",
            "North Carolina",
            "North Dakota",
            "Nebraska",
            "New Hampshire",
            "New Jersey",
            "New Mexico",
            "Nevada",
            "New York",
            "Ohio",
            "Oklahoma",
            "Oregon",
            "Pennsylvania",
            "Rhode Island",
            "South Carolina",
            "South Dakota",
            "Tennessee",
            "Texas",
            "Utah",
            "Virginia",
            "Vermont",
            "Washington",
            "Wisconsin",
            "West Virginia"
           ],
           "marker": {
            "opacity": 0.75
           },
           "name": "",
           "subplot": "mapbox",
           "type": "choroplethmapbox",
           "z": [
            32.58974358974359,
            63.08645833333333,
            61.95,
            63.31309523809524,
            56.56309523809524,
            46.88333333333333,
            49.43888888888889,
            55.47083333333333,
            72.31666666666668,
            63.3,
            44.93083333333333,
            55.715740740740735,
            53.834259259259255,
            52.770370370370365,
            49.76203703703704,
            56.81458333333333,
            67.3851851851852,
            42.94722222222222,
            46.50333333333333,
            48.14166666666667,
            54.88333333333333,
            43.68888888888889,
            64.24666666666667,
            42.975,
            56.72222222222222,
            51.192708333333336,
            42.43611111111111,
            51.66583333333333,
            53.22291666666666,
            53.59722222222222,
            54.50104166666667,
            46.57333333333333,
            43.34166666666667,
            59.06979166666667,
            60.86018518518518,
            48.10833333333333,
            49.6475,
            50.083333333333336,
            62.3154761904762,
            47.19074074074074,
            58.59583333333333,
            67.56083333333333,
            49.96428571428572,
            43.65277777777778,
            47.87583333333333,
            55.69583333333333,
            52.951388888888886,
            42.501666666666665,
            45.66018518518519
           ]
          }
         ],
         "name": "2005"
        },
        {
         "data": [
          {
           "coloraxis": "coloraxis",
           "customdata": [
            [
             29.700000000000003
            ],
            [
             63.86041666666667
            ],
            [
             61.97407407407408
            ],
            [
             63.42380952380952
            ],
            [
             56.535714285714285
            ],
            [
             46.67
            ],
            [
             51.07222222222222
            ],
            [
             72.74166666666666
            ],
            [
             64.03703703703704
            ],
            [
             45.642500000000005
            ],
            [
             56.68611111111111
            ],
            [
             54.132407407407406
            ],
            [
             53.345370370370375
            ],
            [
             50.547222222222224
            ],
            [
             56.85208333333333
            ],
            [
             67.62314814814815
            ],
            [
             45.08888888888888
            ],
            [
             47.4475
            ],
            [
             49.85833333333333
            ],
            [
             56.175
            ],
            [
             44.915740740740745
            ],
            [
             64.7225
            ],
            [
             44.25
            ],
            [
             57.18611111111111
            ],
            [
             51.621875
            ],
            [
             43.88425925925926
            ],
            [
             52.61416666666667
            ],
            [
             53.39166666666666
            ],
            [
             55.15
            ],
            [
             54.49791666666667
            ],
            [
             47.9625
            ],
            [
             45.12083333333334
            ],
            [
             59.484375
            ],
            [
             62.16759259259259
            ],
            [
             48.2712962962963
            ],
            [
             50.95333333333334
            ],
            [
             51.84166666666667
            ],
            [
             62.89166666666667
            ],
            [
             47.9537037037037
            ],
            [
             58.76875
            ],
            [
             68.585
            ],
            [
             49.89166666666667
            ],
            [
             45.29722222222222
            ],
            [
             47.94583333333333
            ],
            [
             56.35138888888889
            ],
            [
             53.270833333333336
            ],
            [
             42.92249999999999
            ],
            [
             46.55648148148149
            ]
           ],
           "featureidkey": "properties.name",
           "geojson": "us-states.json",
           "hovertemplate": "<b>%{hovertext}</b><br><br>Année=2006<br>Etat=%{location}<br>Température moyenne=%{z}<extra></extra>",
           "hovertext": [
            "Alaska",
            "Alabama",
            "Arkansas",
            "Arizona",
            "California",
            "Colorado",
            "Connecticut",
            "Florida",
            "Georgia",
            "Hawaii",
            "Iowa",
            "Idaho",
            "Illinois",
            "Indiana",
            "Kansas",
            "Kentucky",
            "Louisiana",
            "Massachusetts",
            "Maryland",
            "Maine",
            "Michigan",
            "Minnesota",
            "Missouri",
            "Mississippi",
            "Montana",
            "North Carolina",
            "North Dakota",
            "Nebraska",
            "New Hampshire",
            "New Jersey",
            "New Mexico",
            "Nevada",
            "New York",
            "Ohio",
            "Oklahoma",
            "Oregon",
            "Pennsylvania",
            "Rhode Island",
            "South Carolina",
            "South Dakota",
            "Tennessee",
            "Texas",
            "Utah",
            "Virginia",
            "Vermont",
            "Washington",
            "Wisconsin",
            "West Virginia"
           ],
           "locations": [
            "Alaska",
            "Alabama",
            "Arkansas",
            "Arizona",
            "California",
            "Colorado",
            "Connecticut",
            "Florida",
            "Georgia",
            "Hawaii",
            "Iowa",
            "Idaho",
            "Illinois",
            "Indiana",
            "Kansas",
            "Kentucky",
            "Louisiana",
            "Massachusetts",
            "Maryland",
            "Maine",
            "Michigan",
            "Minnesota",
            "Missouri",
            "Mississippi",
            "Montana",
            "North Carolina",
            "North Dakota",
            "Nebraska",
            "New Hampshire",
            "New Jersey",
            "New Mexico",
            "Nevada",
            "New York",
            "Ohio",
            "Oklahoma",
            "Oregon",
            "Pennsylvania",
            "Rhode Island",
            "South Carolina",
            "South Dakota",
            "Tennessee",
            "Texas",
            "Utah",
            "Virginia",
            "Vermont",
            "Washington",
            "Wisconsin",
            "West Virginia"
           ],
           "marker": {
            "opacity": 0.75
           },
           "name": "",
           "subplot": "mapbox",
           "type": "choroplethmapbox",
           "z": [
            29.700000000000003,
            63.86041666666667,
            61.97407407407408,
            63.42380952380952,
            56.535714285714285,
            46.67,
            51.07222222222222,
            72.74166666666666,
            64.03703703703704,
            45.642500000000005,
            56.68611111111111,
            54.132407407407406,
            53.345370370370375,
            50.547222222222224,
            56.85208333333333,
            67.62314814814815,
            45.08888888888888,
            47.4475,
            49.85833333333333,
            56.175,
            44.915740740740745,
            64.7225,
            44.25,
            57.18611111111111,
            51.621875,
            43.88425925925926,
            52.61416666666667,
            53.39166666666666,
            55.15,
            54.49791666666667,
            47.9625,
            45.12083333333334,
            59.484375,
            62.16759259259259,
            48.2712962962963,
            50.95333333333334,
            51.84166666666667,
            62.89166666666667,
            47.9537037037037,
            58.76875,
            68.585,
            49.89166666666667,
            45.29722222222222,
            47.94583333333333,
            56.35138888888889,
            53.270833333333336,
            42.92249999999999,
            46.55648148148149
           ]
          }
         ],
         "name": "2006"
        },
        {
         "data": [
          {
           "coloraxis": "coloraxis",
           "customdata": [
            [
             30.784615384615385
            ],
            [
             64.159375
            ],
            [
             61.75925925925926
            ],
            [
             63.87857142857143
            ],
            [
             56.75714285714286
            ],
            [
             46.09
            ],
            [
             49.48333333333334
            ],
            [
             55.98333333333334
            ],
            [
             73.27857142857142
            ],
            [
             64.33148148148148
            ],
            [
             46.05666666666667
            ],
            [
             54.90833333333333
            ],
            [
             53.81296296296296
            ],
            [
             53.22592592592593
            ],
            [
             49.04166666666666
            ],
            [
             57.76041666666666
            ],
            [
             67.23611111111111
            ],
            [
             41.97222222222222
            ],
            [
             46.56583333333333
            ],
            [
             48.047222222222224
            ],
            [
             55.36770833333333
            ],
            [
             43.02314814814815
            ],
            [
             64.94333333333334
            ],
            [
             43.945238095238096
            ],
            [
             56.730555555555554
            ],
            [
             50.34166666666667
            ],
            [
             41.763888888888886
            ],
            [
             52.13166666666667
            ],
            [
             54.145833333333336
            ],
            [
             53.77777777777778
            ],
            [
             53.989583333333336
            ],
            [
             45.98083333333333
            ],
            [
             42.275
            ],
            [
             60.15
            ],
            [
             60.06944444444445
            ],
            [
             47.97314814814814
            ],
            [
             49.64666666666667
            ],
            [
             50.275
            ],
            [
             63.56309523809524
            ],
            [
             46.64259259259259
            ],
            [
             59.80416666666667
            ],
            [
             66.415
            ],
            [
             50.61904761904762
            ],
            [
             42.516666666666666
            ],
            [
             47.19416666666667
            ],
            [
             56.53333333333333
            ],
            [
             53.46944444444444
            ],
            [
             42.994166666666665
            ],
            [
             45.36388888888889
            ]
           ],
           "featureidkey": "properties.name",
           "geojson": "us-states.json",
           "hovertemplate": "<b>%{hovertext}</b><br><br>Année=2007<br>Etat=%{location}<br>Température moyenne=%{z}<extra></extra>",
           "hovertext": [
            "Alaska",
            "Alabama",
            "Arkansas",
            "Arizona",
            "California",
            "Colorado",
            "Connecticut",
            "Delaware",
            "Florida",
            "Georgia",
            "Hawaii",
            "Iowa",
            "Idaho",
            "Illinois",
            "Indiana",
            "Kansas",
            "Kentucky",
            "Louisiana",
            "Massachusetts",
            "Maryland",
            "Maine",
            "Michigan",
            "Minnesota",
            "Missouri",
            "Mississippi",
            "Montana",
            "North Carolina",
            "North Dakota",
            "Nebraska",
            "New Hampshire",
            "New Jersey",
            "New Mexico",
            "Nevada",
            "New York",
            "Ohio",
            "Oklahoma",
            "Oregon",
            "Pennsylvania",
            "Rhode Island",
            "South Carolina",
            "South Dakota",
            "Tennessee",
            "Texas",
            "Utah",
            "Virginia",
            "Vermont",
            "Washington",
            "Wisconsin",
            "West Virginia"
           ],
           "locations": [
            "Alaska",
            "Alabama",
            "Arkansas",
            "Arizona",
            "California",
            "Colorado",
            "Connecticut",
            "Delaware",
            "Florida",
            "Georgia",
            "Hawaii",
            "Iowa",
            "Idaho",
            "Illinois",
            "Indiana",
            "Kansas",
            "Kentucky",
            "Louisiana",
            "Massachusetts",
            "Maryland",
            "Maine",
            "Michigan",
            "Minnesota",
            "Missouri",
            "Mississippi",
            "Montana",
            "North Carolina",
            "North Dakota",
            "Nebraska",
            "New Hampshire",
            "New Jersey",
            "New Mexico",
            "Nevada",
            "New York",
            "Ohio",
            "Oklahoma",
            "Oregon",
            "Pennsylvania",
            "Rhode Island",
            "South Carolina",
            "South Dakota",
            "Tennessee",
            "Texas",
            "Utah",
            "Virginia",
            "Vermont",
            "Washington",
            "Wisconsin",
            "West Virginia"
           ],
           "marker": {
            "opacity": 0.75
           },
           "name": "",
           "subplot": "mapbox",
           "type": "choroplethmapbox",
           "z": [
            30.784615384615385,
            64.159375,
            61.75925925925926,
            63.87857142857143,
            56.75714285714286,
            46.09,
            49.48333333333334,
            55.98333333333334,
            73.27857142857142,
            64.33148148148148,
            46.05666666666667,
            54.90833333333333,
            53.81296296296296,
            53.22592592592593,
            49.04166666666666,
            57.76041666666666,
            67.23611111111111,
            41.97222222222222,
            46.56583333333333,
            48.047222222222224,
            55.36770833333333,
            43.02314814814815,
            64.94333333333334,
            43.945238095238096,
            56.730555555555554,
            50.34166666666667,
            41.763888888888886,
            52.13166666666667,
            54.145833333333336,
            53.77777777777778,
            53.989583333333336,
            45.98083333333333,
            42.275,
            60.15,
            60.06944444444445,
            47.97314814814814,
            49.64666666666667,
            50.275,
            63.56309523809524,
            46.64259259259259,
            59.80416666666667,
            66.415,
            50.61904761904762,
            42.516666666666666,
            47.19416666666667,
            56.53333333333333,
            53.46944444444444,
            42.994166666666665,
            45.36388888888889
           ]
          }
         ],
         "name": "2007"
        },
        {
         "data": [
          {
           "coloraxis": "coloraxis",
           "customdata": [
            [
             28.50448717948718
            ],
            [
             62.60625
            ],
            [
             59.82222222222222
            ],
            [
             62.97976190476191
            ],
            [
             56.78333333333333
            ],
            [
             44.973333333333336
            ],
            [
             49.63611111111111
            ],
            [
             72.38928571428572
            ],
            [
             62.96759259259259
            ],
            [
             43.869166666666665
            ],
            [
             53.35
            ],
            [
             51.0712962962963
            ],
            [
             50.98888888888889
            ],
            [
             46.07592592592592
            ],
            [
             55.39166666666667
            ],
            [
             66.48148148148148
            ],
            [
             42.85833333333333
            ],
            [
             44.54750000000001
            ],
            [
             48.394444444444446
            ],
            [
             54.97604166666667
            ],
            [
             40.04444444444445
            ],
            [
             63.25833333333333
            ],
            [
             41.305952380952384
            ],
            [
             54.013888888888886
            ],
            [
             48.08645833333333
            ],
            [
             39.33055555555556
            ],
            [
             50.528333333333336
            ],
            [
             53.0875
            ],
            [
             53.825
            ],
            [
             53.415625
            ],
            [
             46.1775
            ],
            [
             43.1125
            ],
            [
             58.90625
            ],
            [
             59.58240740740741
            ],
            [
             47.08240740740741
            ],
            [
             49.05583333333333
            ],
            [
             50.76666666666667
            ],
            [
             62.14642857142857
            ],
            [
             43.742592592592594
            ],
            [
             57.5
            ],
            [
             67.10333333333334
            ],
            [
             48.72738095238095
            ],
            [
             43.3
            ],
            [
             46.17666666666667
            ],
            [
             55.43888888888889
            ],
            [
             51.96111111111111
            ],
            [
             40.3525
            ],
            [
             42.47685185185185
            ]
           ],
           "featureidkey": "properties.name",
           "geojson": "us-states.json",
           "hovertemplate": "<b>%{hovertext}</b><br><br>Année=2008<br>Etat=%{location}<br>Température moyenne=%{z}<extra></extra>",
           "hovertext": [
            "Alaska",
            "Alabama",
            "Arkansas",
            "Arizona",
            "California",
            "Colorado",
            "Connecticut",
            "Florida",
            "Georgia",
            "Hawaii",
            "Iowa",
            "Idaho",
            "Illinois",
            "Indiana",
            "Kansas",
            "Kentucky",
            "Louisiana",
            "Massachusetts",
            "Maryland",
            "Maine",
            "Michigan",
            "Minnesota",
            "Missouri",
            "Mississippi",
            "Montana",
            "North Carolina",
            "North Dakota",
            "Nebraska",
            "New Hampshire",
            "New Jersey",
            "New Mexico",
            "Nevada",
            "New York",
            "Ohio",
            "Oklahoma",
            "Oregon",
            "Pennsylvania",
            "Rhode Island",
            "South Carolina",
            "South Dakota",
            "Tennessee",
            "Texas",
            "Utah",
            "Virginia",
            "Vermont",
            "Washington",
            "Wisconsin",
            "West Virginia"
           ],
           "locations": [
            "Alaska",
            "Alabama",
            "Arkansas",
            "Arizona",
            "California",
            "Colorado",
            "Connecticut",
            "Florida",
            "Georgia",
            "Hawaii",
            "Iowa",
            "Idaho",
            "Illinois",
            "Indiana",
            "Kansas",
            "Kentucky",
            "Louisiana",
            "Massachusetts",
            "Maryland",
            "Maine",
            "Michigan",
            "Minnesota",
            "Missouri",
            "Mississippi",
            "Montana",
            "North Carolina",
            "North Dakota",
            "Nebraska",
            "New Hampshire",
            "New Jersey",
            "New Mexico",
            "Nevada",
            "New York",
            "Ohio",
            "Oklahoma",
            "Oregon",
            "Pennsylvania",
            "Rhode Island",
            "South Carolina",
            "South Dakota",
            "Tennessee",
            "Texas",
            "Utah",
            "Virginia",
            "Vermont",
            "Washington",
            "Wisconsin",
            "West Virginia"
           ],
           "marker": {
            "opacity": 0.75
           },
           "name": "",
           "subplot": "mapbox",
           "type": "choroplethmapbox",
           "z": [
            28.50448717948718,
            62.60625,
            59.82222222222222,
            62.97976190476191,
            56.78333333333333,
            44.973333333333336,
            49.63611111111111,
            72.38928571428572,
            62.96759259259259,
            43.869166666666665,
            53.35,
            51.0712962962963,
            50.98888888888889,
            46.07592592592592,
            55.39166666666667,
            66.48148148148148,
            42.85833333333333,
            44.54750000000001,
            48.394444444444446,
            54.97604166666667,
            40.04444444444445,
            63.25833333333333,
            41.305952380952384,
            54.013888888888886,
            48.08645833333333,
            39.33055555555556,
            50.528333333333336,
            53.0875,
            53.825,
            53.415625,
            46.1775,
            43.1125,
            58.90625,
            59.58240740740741,
            47.08240740740741,
            49.05583333333333,
            50.76666666666667,
            62.14642857142857,
            43.742592592592594,
            57.5,
            67.10333333333334,
            48.72738095238095,
            43.3,
            46.17666666666667,
            55.43888888888889,
            51.96111111111111,
            40.3525,
            42.47685185185185
           ]
          }
         ],
         "name": "2008"
        },
        {
         "data": [
          {
           "coloraxis": "coloraxis",
           "customdata": [
            [
             30.089102564102564
            ],
            [
             62.58645833333333
            ],
            [
             59.887962962962966
            ],
            [
             63.38690476190476
            ],
            [
             56.72976190476191
            ],
            [
             45.14333333333334
            ],
            [
             48.75
            ],
            [
             72.68571428571428
            ],
            [
             62.86203703703704
            ],
            [
             44.17166666666666
            ],
            [
             53.38981481481482
            ],
            [
             51.575
            ],
            [
             51.21944444444444
            ],
            [
             46.85
            ],
            [
             55.43333333333333
            ],
            [
             66.67592592592592
            ],
            [
             42.02222222222222
            ],
            [
             44.26833333333334
            ],
            [
             47.52222222222222
            ],
            [
             54.28541666666666
            ],
            [
             40.72222222222222
            ],
            [
             63.54916666666667
            ],
            [
             41.10238095238096
            ],
            [
             54.51666666666666
            ],
            [
             48.06875
            ],
            [
             38.54259259259259
            ],
            [
             50.42416666666667
            ],
            [
             53.04375
            ],
            [
             52.93888888888889
            ],
            [
             54.04479166666667
            ],
            [
             45.3775
            ],
            [
             42.225
            ],
            [
             58.50416666666666
            ],
            [
             59.45
            ],
            [
             47.57592592592593
            ],
            [
             48.6225
            ],
            [
             49.76666666666666
            ],
            [
             61.87142857142857
            ],
            [
             43.458333333333336
            ],
            [
             57.46666666666667
            ],
            [
             67.4175
            ],
            [
             49.13333333333333
            ],
            [
             42.56111111111111
            ],
            [
             46.82749999999999
            ],
            [
             54.90555555555556
            ],
            [
             51.911111111111104
            ],
            [
             40.54333333333333
            ],
            [
             43.03425925925927
            ]
           ],
           "featureidkey": "properties.name",
           "geojson": "us-states.json",
           "hovertemplate": "<b>%{hovertext}</b><br><br>Année=2009<br>Etat=%{location}<br>Température moyenne=%{z}<extra></extra>",
           "hovertext": [
            "Alaska",
            "Alabama",
            "Arkansas",
            "Arizona",
            "California",
            "Colorado",
            "Connecticut",
            "Florida",
            "Georgia",
            "Hawaii",
            "Iowa",
            "Idaho",
            "Illinois",
            "Indiana",
            "Kansas",
            "Kentucky",
            "Louisiana",
            "Massachusetts",
            "Maryland",
            "Maine",
            "Michigan",
            "Minnesota",
            "Missouri",
            "Mississippi",
            "Montana",
            "North Carolina",
            "North Dakota",
            "Nebraska",
            "New Hampshire",
            "New Jersey",
            "New Mexico",
            "Nevada",
            "New York",
            "Ohio",
            "Oklahoma",
            "Oregon",
            "Pennsylvania",
            "Rhode Island",
            "South Carolina",
            "South Dakota",
            "Tennessee",
            "Texas",
            "Utah",
            "Virginia",
            "Vermont",
            "Washington",
            "Wisconsin",
            "West Virginia"
           ],
           "locations": [
            "Alaska",
            "Alabama",
            "Arkansas",
            "Arizona",
            "California",
            "Colorado",
            "Connecticut",
            "Florida",
            "Georgia",
            "Hawaii",
            "Iowa",
            "Idaho",
            "Illinois",
            "Indiana",
            "Kansas",
            "Kentucky",
            "Louisiana",
            "Massachusetts",
            "Maryland",
            "Maine",
            "Michigan",
            "Minnesota",
            "Missouri",
            "Mississippi",
            "Montana",
            "North Carolina",
            "North Dakota",
            "Nebraska",
            "New Hampshire",
            "New Jersey",
            "New Mexico",
            "Nevada",
            "New York",
            "Ohio",
            "Oklahoma",
            "Oregon",
            "Pennsylvania",
            "Rhode Island",
            "South Carolina",
            "South Dakota",
            "Tennessee",
            "Texas",
            "Utah",
            "Virginia",
            "Vermont",
            "Washington",
            "Wisconsin",
            "West Virginia"
           ],
           "marker": {
            "opacity": 0.75
           },
           "name": "",
           "subplot": "mapbox",
           "type": "choroplethmapbox",
           "z": [
            30.089102564102564,
            62.58645833333333,
            59.887962962962966,
            63.38690476190476,
            56.72976190476191,
            45.14333333333334,
            48.75,
            72.68571428571428,
            62.86203703703704,
            44.17166666666666,
            53.38981481481482,
            51.575,
            51.21944444444444,
            46.85,
            55.43333333333333,
            66.67592592592592,
            42.02222222222222,
            44.26833333333334,
            47.52222222222222,
            54.28541666666666,
            40.72222222222222,
            63.54916666666667,
            41.10238095238096,
            54.51666666666666,
            48.06875,
            38.54259259259259,
            50.42416666666667,
            53.04375,
            52.93888888888889,
            54.04479166666667,
            45.3775,
            42.225,
            58.50416666666666,
            59.45,
            47.57592592592593,
            48.6225,
            49.76666666666666,
            61.87142857142857,
            43.458333333333336,
            57.46666666666667,
            67.4175,
            49.13333333333333,
            42.56111111111111,
            46.82749999999999,
            54.90555555555556,
            51.911111111111104,
            40.54333333333333,
            43.03425925925927
           ]
          }
         ],
         "name": "2009"
        },
        {
         "data": [
          {
           "coloraxis": "coloraxis",
           "customdata": [
            [
             30.88653846153846
            ],
            [
             62.384375
            ],
            [
             61.11296296296297
            ],
            [
             62.67142857142857
            ],
            [
             55.6904761904762
            ],
            [
             46.278333333333336
            ],
            [
             51.28888888888889
            ],
            [
             56.45416666666667
            ],
            [
             70.67619047619047
            ],
            [
             62.50740740740741
            ],
            [
             44.7275
            ],
            [
             55.0712962962963
            ],
            [
             53.02685185185185
            ],
            [
             52.55277777777778
            ],
            [
             48.32962962962963
            ],
            [
             56.07083333333333
            ],
            [
             66.35000000000001
            ],
            [
             45.69722222222222
            ],
            [
             47.51083333333333
            ],
            [
             50.08888888888888
            ],
            [
             55.45208333333333
            ],
            [
             43.30648148148149
            ],
            [
             63.44833333333333
            ],
            [
             41.523809523809526
            ],
            [
             55.75833333333333
            ],
            [
             49.76041666666666
            ],
            [
             40.93425925925926
            ],
            [
             51.59666666666666
            ],
            [
             52.63958333333333
            ],
            [
             54.81944444444445
            ],
            [
             53.93229166666666
            ],
            [
             47.678333333333335
            ],
            [
             45.22916666666666
            ],
            [
             58.67604166666666
            ],
            [
             60.32037037037037
            ],
            [
             47.46759259259259
            ],
            [
             50.35333333333333
            ],
            [
             51.958333333333336
            ],
            [
             45.08148148148148
            ],
            [
             57.79791666666667
            ],
            [
             66.50166666666667
            ],
            [
             49.02738095238095
            ],
            [
             45.14722222222222
            ],
            [
             47.565
            ],
            [
             55.71111111111111
            ],
            [
             52.29861111111112
            ],
            [
             41.5975
            ],
            [
             46.08240740740741
            ]
           ],
           "featureidkey": "properties.name",
           "geojson": "us-states.json",
           "hovertemplate": "<b>%{hovertext}</b><br><br>Année=2010<br>Etat=%{location}<br>Température moyenne=%{z}<extra></extra>",
           "hovertext": [
            "Alaska",
            "Alabama",
            "Arkansas",
            "Arizona",
            "California",
            "Colorado",
            "Connecticut",
            "Delaware",
            "Florida",
            "Georgia",
            "Hawaii",
            "Iowa",
            "Idaho",
            "Illinois",
            "Indiana",
            "Kansas",
            "Kentucky",
            "Louisiana",
            "Massachusetts",
            "Maryland",
            "Maine",
            "Michigan",
            "Minnesota",
            "Missouri",
            "Mississippi",
            "Montana",
            "North Carolina",
            "North Dakota",
            "Nebraska",
            "New Hampshire",
            "New Jersey",
            "New Mexico",
            "Nevada",
            "New York",
            "Ohio",
            "Oklahoma",
            "Oregon",
            "Pennsylvania",
            "South Carolina",
            "South Dakota",
            "Tennessee",
            "Texas",
            "Utah",
            "Virginia",
            "Vermont",
            "Washington",
            "Wisconsin",
            "West Virginia"
           ],
           "locations": [
            "Alaska",
            "Alabama",
            "Arkansas",
            "Arizona",
            "California",
            "Colorado",
            "Connecticut",
            "Delaware",
            "Florida",
            "Georgia",
            "Hawaii",
            "Iowa",
            "Idaho",
            "Illinois",
            "Indiana",
            "Kansas",
            "Kentucky",
            "Louisiana",
            "Massachusetts",
            "Maryland",
            "Maine",
            "Michigan",
            "Minnesota",
            "Missouri",
            "Mississippi",
            "Montana",
            "North Carolina",
            "North Dakota",
            "Nebraska",
            "New Hampshire",
            "New Jersey",
            "New Mexico",
            "Nevada",
            "New York",
            "Ohio",
            "Oklahoma",
            "Oregon",
            "Pennsylvania",
            "South Carolina",
            "South Dakota",
            "Tennessee",
            "Texas",
            "Utah",
            "Virginia",
            "Vermont",
            "Washington",
            "Wisconsin",
            "West Virginia"
           ],
           "marker": {
            "opacity": 0.75
           },
           "name": "",
           "subplot": "mapbox",
           "type": "choroplethmapbox",
           "z": [
            30.88653846153846,
            62.384375,
            61.11296296296297,
            62.67142857142857,
            55.6904761904762,
            46.278333333333336,
            51.28888888888889,
            56.45416666666667,
            70.67619047619047,
            62.50740740740741,
            44.7275,
            55.0712962962963,
            53.02685185185185,
            52.55277777777778,
            48.32962962962963,
            56.07083333333333,
            66.35000000000001,
            45.69722222222222,
            47.51083333333333,
            50.08888888888888,
            55.45208333333333,
            43.30648148148149,
            63.44833333333333,
            41.523809523809526,
            55.75833333333333,
            49.76041666666666,
            40.93425925925926,
            51.59666666666666,
            52.63958333333333,
            54.81944444444445,
            53.93229166666666,
            47.678333333333335,
            45.22916666666666,
            58.67604166666666,
            60.32037037037037,
            47.46759259259259,
            50.35333333333333,
            51.958333333333336,
            45.08148148148148,
            57.79791666666667,
            66.50166666666667,
            49.02738095238095,
            45.14722222222222,
            47.565,
            55.71111111111111,
            52.29861111111112,
            41.5975,
            46.08240740740741
           ]
          }
         ],
         "name": "2010"
        },
        {
         "data": [
          {
           "coloraxis": "coloraxis",
           "customdata": [
            [
             30.16025641025641
            ],
            [
             63.534375
            ],
            [
             61.80092592592592
            ],
            [
             62.67619047619048
            ],
            [
             55.38214285714286
            ],
            [
             45.585
            ],
            [
             50.81944444444445
            ],
            [
             73.24404761904762
            ],
            [
             64.13148148148149
            ],
            [
             43.748333333333335
            ],
            [
             54.95185185185185
            ],
            [
             53.28796296296296
            ],
            [
             53.00648148148148
            ],
            [
             48.56111111111111
            ],
            [
             56.97083333333333
            ],
            [
             67.61944444444444
            ],
            [
             43.93611111111111
            ],
            [
             49.43888888888889
            ],
            [
             56.221875
            ],
            [
             42.572222222222216
            ],
            [
             64.38583333333334
            ],
            [
             41.53809523809524
            ],
            [
             56.14722222222222
            ],
            [
             49.255208333333336
            ],
            [
             40.69722222222222
            ],
            [
             52.19416666666667
            ],
            [
             52.12291666666667
            ],
            [
             55.08611111111111
            ],
            [
             54.31666666666666
            ],
            [
             47.5125
            ],
            [
             44.23333333333333
            ],
            [
             60.040625
            ],
            [
             61.665740740740745
            ],
            [
             46.59166666666667
            ],
            [
             50.60666666666666
            ],
            [
             51.625
            ],
            [
             63.36904761904762
            ],
            [
             44.653703703703705
            ],
            [
             58.83125
            ],
            [
             68.76916666666666
            ],
            [
             48.26190476190476
            ],
            [
             44.53055555555556
            ],
            [
             45.97083333333333
            ],
            [
             53.68888888888889
            ],
            [
             40.76083333333333
            ],
            [
             44.76018518518519
            ]
           ],
           "featureidkey": "properties.name",
           "geojson": "us-states.json",
           "hovertemplate": "<b>%{hovertext}</b><br><br>Année=2011<br>Etat=%{location}<br>Température moyenne=%{z}<extra></extra>",
           "hovertext": [
            "Alaska",
            "Alabama",
            "Arkansas",
            "Arizona",
            "California",
            "Colorado",
            "Connecticut",
            "Florida",
            "Georgia",
            "Hawaii",
            "Iowa",
            "Idaho",
            "Illinois",
            "Indiana",
            "Kansas",
            "Kentucky",
            "Louisiana",
            "Maryland",
            "Maine",
            "Michigan",
            "Minnesota",
            "Missouri",
            "Mississippi",
            "Montana",
            "North Carolina",
            "North Dakota",
            "Nebraska",
            "New Hampshire",
            "New Jersey",
            "New Mexico",
            "Nevada",
            "New York",
            "Ohio",
            "Oklahoma",
            "Oregon",
            "Pennsylvania",
            "Rhode Island",
            "South Carolina",
            "South Dakota",
            "Tennessee",
            "Texas",
            "Utah",
            "Virginia",
            "Washington",
            "Wisconsin",
            "West Virginia"
           ],
           "locations": [
            "Alaska",
            "Alabama",
            "Arkansas",
            "Arizona",
            "California",
            "Colorado",
            "Connecticut",
            "Florida",
            "Georgia",
            "Hawaii",
            "Iowa",
            "Idaho",
            "Illinois",
            "Indiana",
            "Kansas",
            "Kentucky",
            "Louisiana",
            "Maryland",
            "Maine",
            "Michigan",
            "Minnesota",
            "Missouri",
            "Mississippi",
            "Montana",
            "North Carolina",
            "North Dakota",
            "Nebraska",
            "New Hampshire",
            "New Jersey",
            "New Mexico",
            "Nevada",
            "New York",
            "Ohio",
            "Oklahoma",
            "Oregon",
            "Pennsylvania",
            "Rhode Island",
            "South Carolina",
            "South Dakota",
            "Tennessee",
            "Texas",
            "Utah",
            "Virginia",
            "Washington",
            "Wisconsin",
            "West Virginia"
           ],
           "marker": {
            "opacity": 0.75
           },
           "name": "",
           "subplot": "mapbox",
           "type": "choroplethmapbox",
           "z": [
            30.16025641025641,
            63.534375,
            61.80092592592592,
            62.67619047619048,
            55.38214285714286,
            45.585,
            50.81944444444445,
            73.24404761904762,
            64.13148148148149,
            43.748333333333335,
            54.95185185185185,
            53.28796296296296,
            53.00648148148148,
            48.56111111111111,
            56.97083333333333,
            67.61944444444444,
            43.93611111111111,
            49.43888888888889,
            56.221875,
            42.572222222222216,
            64.38583333333334,
            41.53809523809524,
            56.14722222222222,
            49.255208333333336,
            40.69722222222222,
            52.19416666666667,
            52.12291666666667,
            55.08611111111111,
            54.31666666666666,
            47.5125,
            44.23333333333333,
            60.040625,
            61.665740740740745,
            46.59166666666667,
            50.60666666666666,
            51.625,
            63.36904761904762,
            44.653703703703705,
            58.83125,
            68.76916666666666,
            48.26190476190476,
            44.53055555555556,
            45.97083333333333,
            53.68888888888889,
            40.76083333333333,
            44.76018518518519
           ]
          }
         ],
         "name": "2011"
        },
        {
         "data": [
          {
           "coloraxis": "coloraxis",
           "customdata": [
            [
             28.13397435897436
            ],
            [
             64.68645833333333
            ],
            [
             63.58703703703704
            ],
            [
             64.31190476190476
            ],
            [
             57.375
            ],
            [
             48.34
            ],
            [
             52.411111111111104
            ],
            [
             58.1
            ],
            [
             73.18690476190476
            ],
            [
             65.00462962962963
            ],
            [
             46.46333333333334
            ],
            [
             58.05185185185186
            ],
            [
             55.894444444444446
            ],
            [
             55.07407407407408
            ],
            [
             52.20092592592593
            ],
            [
             58.48125
            ],
            [
             68.58611111111111
            ],
            [
             45.03888888888889
            ],
            [
             48.8975
            ],
            [
             51.06944444444445
            ],
            [
             57.18020833333333
            ],
            [
             45.90740740740741
            ],
            [
             65.64166666666667
            ],
            [
             44.51666666666667
            ],
            [
             59.00555555555555
            ],
            [
             53.130208333333336
            ],
            [
             44.18611111111111
            ],
            [
             53.90166666666667
            ],
            [
             54.92291666666667
            ],
            [
             56.07222222222222
            ],
            [
             55.72083333333333
            ],
            [
             49.15083333333333
            ],
            [
             45.85
            ],
            [
             60.37916666666666
            ],
            [
             63.16666666666666
            ],
            [
             48.17222222222222
            ],
            [
             51.946666666666665
            ],
            [
             52.86666666666667
            ],
            [
             63.82976190476191
            ],
            [
             49.10740740740741
            ],
            [
             60.23333333333333
            ],
            [
             69.2675
            ],
            [
             51.62380952380952
            ],
            [
             46.15555555555556
            ],
            [
             47.41166666666667
            ],
            [
             57.32222222222222
            ],
            [
             54.54027777777778
            ],
            [
             44.40416666666667
            ],
            [
             48.07407407407408
            ]
           ],
           "featureidkey": "properties.name",
           "geojson": "us-states.json",
           "hovertemplate": "<b>%{hovertext}</b><br><br>Année=2012<br>Etat=%{location}<br>Température moyenne=%{z}<extra></extra>",
           "hovertext": [
            "Alaska",
            "Alabama",
            "Arkansas",
            "Arizona",
            "California",
            "Colorado",
            "Connecticut",
            "Delaware",
            "Florida",
            "Georgia",
            "Hawaii",
            "Iowa",
            "Idaho",
            "Illinois",
            "Indiana",
            "Kansas",
            "Kentucky",
            "Louisiana",
            "Massachusetts",
            "Maryland",
            "Maine",
            "Michigan",
            "Minnesota",
            "Missouri",
            "Mississippi",
            "Montana",
            "North Carolina",
            "North Dakota",
            "Nebraska",
            "New Hampshire",
            "New Jersey",
            "New Mexico",
            "Nevada",
            "New York",
            "Ohio",
            "Oklahoma",
            "Oregon",
            "Pennsylvania",
            "Rhode Island",
            "South Carolina",
            "South Dakota",
            "Tennessee",
            "Texas",
            "Utah",
            "Virginia",
            "Vermont",
            "Washington",
            "Wisconsin",
            "West Virginia"
           ],
           "locations": [
            "Alaska",
            "Alabama",
            "Arkansas",
            "Arizona",
            "California",
            "Colorado",
            "Connecticut",
            "Delaware",
            "Florida",
            "Georgia",
            "Hawaii",
            "Iowa",
            "Idaho",
            "Illinois",
            "Indiana",
            "Kansas",
            "Kentucky",
            "Louisiana",
            "Massachusetts",
            "Maryland",
            "Maine",
            "Michigan",
            "Minnesota",
            "Missouri",
            "Mississippi",
            "Montana",
            "North Carolina",
            "North Dakota",
            "Nebraska",
            "New Hampshire",
            "New Jersey",
            "New Mexico",
            "Nevada",
            "New York",
            "Ohio",
            "Oklahoma",
            "Oregon",
            "Pennsylvania",
            "Rhode Island",
            "South Carolina",
            "South Dakota",
            "Tennessee",
            "Texas",
            "Utah",
            "Virginia",
            "Vermont",
            "Washington",
            "Wisconsin",
            "West Virginia"
           ],
           "marker": {
            "opacity": 0.75
           },
           "name": "",
           "subplot": "mapbox",
           "type": "choroplethmapbox",
           "z": [
            28.13397435897436,
            64.68645833333333,
            63.58703703703704,
            64.31190476190476,
            57.375,
            48.34,
            52.411111111111104,
            58.1,
            73.18690476190476,
            65.00462962962963,
            46.46333333333334,
            58.05185185185186,
            55.894444444444446,
            55.07407407407408,
            52.20092592592593,
            58.48125,
            68.58611111111111,
            45.03888888888889,
            48.8975,
            51.06944444444445,
            57.18020833333333,
            45.90740740740741,
            65.64166666666667,
            44.51666666666667,
            59.00555555555555,
            53.130208333333336,
            44.18611111111111,
            53.90166666666667,
            54.92291666666667,
            56.07222222222222,
            55.72083333333333,
            49.15083333333333,
            45.85,
            60.37916666666666,
            63.16666666666666,
            48.17222222222222,
            51.946666666666665,
            52.86666666666667,
            63.82976190476191,
            49.10740740740741,
            60.23333333333333,
            69.2675,
            51.62380952380952,
            46.15555555555556,
            47.41166666666667,
            57.32222222222222,
            54.54027777777778,
            44.40416666666667,
            48.07407407407408
           ]
          }
         ],
         "name": "2012"
        },
        {
         "data": [
          {
           "coloraxis": "coloraxis",
           "customdata": [
            [
             31.316025641025643
            ],
            [
             62.228125
            ],
            [
             59.62129629629629
            ],
            [
             62.82619047619048
            ],
            [
             57.22619047619048
            ],
            [
             45.083333333333336
            ],
            [
             55.44583333333333
            ],
            [
             73.25714285714285
            ],
            [
             62.77962962962963
            ],
            [
             45.08833333333333
            ],
            [
             53.53703703703704
            ],
            [
             51.22222222222222
            ],
            [
             51.18425925925926
            ],
            [
             46.8175925925926
            ],
            [
             55.08541666666667
            ],
            [
             66.10648148148148
            ],
            [
             43.13611111111111
            ],
            [
             44.615
            ],
            [
             48.52222222222222
            ],
            [
             54.39895833333333
            ],
            [
             39.98333333333333
            ],
            [
             62.99333333333333
            ],
            [
             42.33690476190476
            ],
            [
             54.15972222222222
            ],
            [
             48.88645833333334
            ],
            [
             38.8
            ],
            [
             50.755
            ],
            [
             53.10833333333333
            ],
            [
             53.394444444444446
            ],
            [
             53.41041666666666
            ],
            [
             46.07416666666666
            ],
            [
             43.50416666666666
            ],
            [
             58.18854166666667
            ],
            [
             58.864814814814814
            ],
            [
             47.975
            ],
            [
             49.17
            ],
            [
             50.65
            ],
            [
             61.525
            ],
            [
             43.92037037037037
            ],
            [
             56.99583333333334
            ],
            [
             66.69833333333334
            ],
            [
             48.47142857142857
            ],
            [
             43.49166666666667
            ],
            [
             47.51666666666667
            ],
            [
             54.88333333333333
            ],
            [
             51.99305555555557
            ],
            [
             41.318333333333335
            ],
            [
             42.48796296296296
            ]
           ],
           "featureidkey": "properties.name",
           "geojson": "us-states.json",
           "hovertemplate": "<b>%{hovertext}</b><br><br>Année=2013<br>Etat=%{location}<br>Température moyenne=%{z}<extra></extra>",
           "hovertext": [
            "Alaska",
            "Alabama",
            "Arkansas",
            "Arizona",
            "California",
            "Colorado",
            "Delaware",
            "Florida",
            "Georgia",
            "Hawaii",
            "Iowa",
            "Idaho",
            "Illinois",
            "Indiana",
            "Kansas",
            "Kentucky",
            "Louisiana",
            "Massachusetts",
            "Maryland",
            "Maine",
            "Michigan",
            "Minnesota",
            "Missouri",
            "Mississippi",
            "Montana",
            "North Carolina",
            "North Dakota",
            "Nebraska",
            "New Hampshire",
            "New Jersey",
            "New Mexico",
            "Nevada",
            "New York",
            "Ohio",
            "Oklahoma",
            "Oregon",
            "Pennsylvania",
            "Rhode Island",
            "South Carolina",
            "South Dakota",
            "Tennessee",
            "Texas",
            "Utah",
            "Virginia",
            "Vermont",
            "Washington",
            "Wisconsin",
            "West Virginia"
           ],
           "locations": [
            "Alaska",
            "Alabama",
            "Arkansas",
            "Arizona",
            "California",
            "Colorado",
            "Delaware",
            "Florida",
            "Georgia",
            "Hawaii",
            "Iowa",
            "Idaho",
            "Illinois",
            "Indiana",
            "Kansas",
            "Kentucky",
            "Louisiana",
            "Massachusetts",
            "Maryland",
            "Maine",
            "Michigan",
            "Minnesota",
            "Missouri",
            "Mississippi",
            "Montana",
            "North Carolina",
            "North Dakota",
            "Nebraska",
            "New Hampshire",
            "New Jersey",
            "New Mexico",
            "Nevada",
            "New York",
            "Ohio",
            "Oklahoma",
            "Oregon",
            "Pennsylvania",
            "Rhode Island",
            "South Carolina",
            "South Dakota",
            "Tennessee",
            "Texas",
            "Utah",
            "Virginia",
            "Vermont",
            "Washington",
            "Wisconsin",
            "West Virginia"
           ],
           "marker": {
            "opacity": 0.75
           },
           "name": "",
           "subplot": "mapbox",
           "type": "choroplethmapbox",
           "z": [
            31.316025641025643,
            62.228125,
            59.62129629629629,
            62.82619047619048,
            57.22619047619048,
            45.083333333333336,
            55.44583333333333,
            73.25714285714285,
            62.77962962962963,
            45.08833333333333,
            53.53703703703704,
            51.22222222222222,
            51.18425925925926,
            46.8175925925926,
            55.08541666666667,
            66.10648148148148,
            43.13611111111111,
            44.615,
            48.52222222222222,
            54.39895833333333,
            39.98333333333333,
            62.99333333333333,
            42.33690476190476,
            54.15972222222222,
            48.88645833333334,
            38.8,
            50.755,
            53.10833333333333,
            53.394444444444446,
            53.41041666666666,
            46.07416666666666,
            43.50416666666666,
            58.18854166666667,
            58.864814814814814,
            47.975,
            49.17,
            50.65,
            61.525,
            43.92037037037037,
            56.99583333333334,
            66.69833333333334,
            48.47142857142857,
            43.49166666666667,
            47.51666666666667,
            54.88333333333333,
            51.99305555555557,
            41.318333333333335,
            42.48796296296296
           ]
          }
         ],
         "name": "2013"
        },
        {
         "data": [
          {
           "coloraxis": "coloraxis",
           "customdata": [
            [
             33.14038461538461
            ],
            [
             61.67395833333333
            ],
            [
             58.64722222222222
            ],
            [
             64.55714285714286
            ],
            [
             59.45476190476191
            ],
            [
             45.97
            ],
            [
             54.325
            ],
            [
             72.37261904761904
            ],
            [
             62.43333333333334
            ],
            [
             46.43
            ],
            [
             53.49537037037037
            ],
            [
             49.65462962962963
            ],
            [
             49.35277777777778
            ],
            [
             45.58703703703704
            ],
            [
             54.34583333333333
            ],
            [
             64.94722222222222
            ],
            [
             42.40555555555556
            ],
            [
             42.4625
            ],
            [
             47.47222222222222
            ],
            [
             53.30520833333333
            ],
            [
             39.262962962962966
            ],
            [
             62.2125
            ],
            [
             41.88809523809524
            ],
            [
             53.40138888888888
            ],
            [
             48.484375
            ],
            [
             38.9962962962963
            ],
            [
             49.0675
            ],
            [
             55.55
            ],
            [
             52.16944444444445
            ],
            [
             54.61875
            ],
            [
             44.91583333333333
            ],
            [
             42.3375
            ],
            [
             57.99791666666667
            ],
            [
             58.92314814814815
            ],
            [
             49.95462962962963
            ],
            [
             47.594166666666666
            ],
            [
             49.725
            ],
            [
             61.42857142857144
            ],
            [
             43.6
            ],
            [
             56.51458333333333
            ],
            [
             66.3325
            ],
            [
             51.09285714285715
            ],
            [
             42.22777777777778
            ],
            [
             48.81166666666667
            ],
            [
             54.161111111111104
            ],
            [
             50.97222222222222
            ],
            [
             41.63916666666667
            ],
            [
             40.94444444444444
            ]
           ],
           "featureidkey": "properties.name",
           "geojson": "us-states.json",
           "hovertemplate": "<b>%{hovertext}</b><br><br>Année=2014<br>Etat=%{location}<br>Température moyenne=%{z}<extra></extra>",
           "hovertext": [
            "Alaska",
            "Alabama",
            "Arkansas",
            "Arizona",
            "California",
            "Colorado",
            "Delaware",
            "Florida",
            "Georgia",
            "Hawaii",
            "Iowa",
            "Idaho",
            "Illinois",
            "Indiana",
            "Kansas",
            "Kentucky",
            "Louisiana",
            "Massachusetts",
            "Maryland",
            "Maine",
            "Michigan",
            "Minnesota",
            "Missouri",
            "Mississippi",
            "Montana",
            "North Carolina",
            "North Dakota",
            "Nebraska",
            "New Hampshire",
            "New Jersey",
            "New Mexico",
            "Nevada",
            "New York",
            "Ohio",
            "Oklahoma",
            "Oregon",
            "Pennsylvania",
            "Rhode Island",
            "South Carolina",
            "South Dakota",
            "Tennessee",
            "Texas",
            "Utah",
            "Virginia",
            "Vermont",
            "Washington",
            "Wisconsin",
            "West Virginia"
           ],
           "locations": [
            "Alaska",
            "Alabama",
            "Arkansas",
            "Arizona",
            "California",
            "Colorado",
            "Delaware",
            "Florida",
            "Georgia",
            "Hawaii",
            "Iowa",
            "Idaho",
            "Illinois",
            "Indiana",
            "Kansas",
            "Kentucky",
            "Louisiana",
            "Massachusetts",
            "Maryland",
            "Maine",
            "Michigan",
            "Minnesota",
            "Missouri",
            "Mississippi",
            "Montana",
            "North Carolina",
            "North Dakota",
            "Nebraska",
            "New Hampshire",
            "New Jersey",
            "New Mexico",
            "Nevada",
            "New York",
            "Ohio",
            "Oklahoma",
            "Oregon",
            "Pennsylvania",
            "Rhode Island",
            "South Carolina",
            "South Dakota",
            "Tennessee",
            "Texas",
            "Utah",
            "Virginia",
            "Vermont",
            "Washington",
            "Wisconsin",
            "West Virginia"
           ],
           "marker": {
            "opacity": 0.75
           },
           "name": "",
           "subplot": "mapbox",
           "type": "choroplethmapbox",
           "z": [
            33.14038461538461,
            61.67395833333333,
            58.64722222222222,
            64.55714285714286,
            59.45476190476191,
            45.97,
            54.325,
            72.37261904761904,
            62.43333333333334,
            46.43,
            53.49537037037037,
            49.65462962962963,
            49.35277777777778,
            45.58703703703704,
            54.34583333333333,
            64.94722222222222,
            42.40555555555556,
            42.4625,
            47.47222222222222,
            53.30520833333333,
            39.262962962962966,
            62.2125,
            41.88809523809524,
            53.40138888888888,
            48.484375,
            38.9962962962963,
            49.0675,
            55.55,
            52.16944444444445,
            54.61875,
            44.91583333333333,
            42.3375,
            57.99791666666667,
            58.92314814814815,
            49.95462962962963,
            47.594166666666666,
            49.725,
            61.42857142857144,
            43.6,
            56.51458333333333,
            66.3325,
            51.09285714285715,
            42.22777777777778,
            48.81166666666667,
            54.161111111111104,
            50.97222222222222,
            41.63916666666667,
            40.94444444444444
           ]
          }
         ],
         "name": "2014"
        },
        {
         "data": [
          {
           "coloraxis": "coloraxis",
           "customdata": [
            [
             33.27692307692308
            ],
            [
             64.278125
            ],
            [
             61.379629629629626
            ],
            [
             64.05238095238096
            ],
            [
             58.82976190476191
            ],
            [
             47.48833333333334
            ],
            [
             49.84722222222222
            ],
            [
             56.1625
            ],
            [
             74.89047619047619
            ],
            [
             64.73055555555555
            ],
            [
             47.7425
            ],
            [
             56.12685185185185
            ],
            [
             53.03055555555556
            ],
            [
             52.24166666666667
            ],
            [
             49.39074074074074
            ],
            [
             56.60208333333333
            ],
            [
             67.95277777777777
            ],
            [
             42.31944444444444
            ],
            [
             45.57333333333333
            ],
            [
             48.23611111111112
            ],
            [
             55.192708333333336
            ],
            [
             44.07129629629629
            ],
            [
             65.165
            ],
            [
             44.79761904761904
            ],
            [
             56.265277777777776
            ],
            [
             51.28541666666666
            ],
            [
             43.38703703703704
            ],
            [
             51.495000000000005
            ],
            [
             55.35
            ],
            [
             54.07222222222222
            ],
            [
             54.73125
            ],
            [
             46.085
            ],
            [
             42.86666666666667
            ],
            [
             60.16458333333333
            ],
            [
             60.85648148148149
            ],
            [
             50.74722222222223
            ],
            [
             49.6275
            ],
            [
             50.425
            ],
            [
             63.68214285714286
            ],
            [
             47.4
            ],
            [
             58.91458333333333
            ],
            [
             67.24
            ],
            [
             51.42738095238095
            ],
            [
             42.952777777777776
            ],
            [
             50.306666666666665
            ],
            [
             56.28055555555556
            ],
            [
             53.30416666666667
            ],
            [
             43.79
            ],
            [
             45.37870370370371
            ]
           ],
           "featureidkey": "properties.name",
           "geojson": "us-states.json",
           "hovertemplate": "<b>%{hovertext}</b><br><br>Année=2015<br>Etat=%{location}<br>Température moyenne=%{z}<extra></extra>",
           "hovertext": [
            "Alaska",
            "Alabama",
            "Arkansas",
            "Arizona",
            "California",
            "Colorado",
            "Connecticut",
            "Delaware",
            "Florida",
            "Georgia",
            "Hawaii",
            "Iowa",
            "Idaho",
            "Illinois",
            "Indiana",
            "Kansas",
            "Kentucky",
            "Louisiana",
            "Massachusetts",
            "Maryland",
            "Maine",
            "Michigan",
            "Minnesota",
            "Missouri",
            "Mississippi",
            "Montana",
            "North Carolina",
            "North Dakota",
            "Nebraska",
            "New Hampshire",
            "New Jersey",
            "New Mexico",
            "Nevada",
            "New York",
            "Ohio",
            "Oklahoma",
            "Oregon",
            "Pennsylvania",
            "Rhode Island",
            "South Carolina",
            "South Dakota",
            "Tennessee",
            "Texas",
            "Utah",
            "Virginia",
            "Vermont",
            "Washington",
            "Wisconsin",
            "West Virginia"
           ],
           "locations": [
            "Alaska",
            "Alabama",
            "Arkansas",
            "Arizona",
            "California",
            "Colorado",
            "Connecticut",
            "Delaware",
            "Florida",
            "Georgia",
            "Hawaii",
            "Iowa",
            "Idaho",
            "Illinois",
            "Indiana",
            "Kansas",
            "Kentucky",
            "Louisiana",
            "Massachusetts",
            "Maryland",
            "Maine",
            "Michigan",
            "Minnesota",
            "Missouri",
            "Mississippi",
            "Montana",
            "North Carolina",
            "North Dakota",
            "Nebraska",
            "New Hampshire",
            "New Jersey",
            "New Mexico",
            "Nevada",
            "New York",
            "Ohio",
            "Oklahoma",
            "Oregon",
            "Pennsylvania",
            "Rhode Island",
            "South Carolina",
            "South Dakota",
            "Tennessee",
            "Texas",
            "Utah",
            "Virginia",
            "Vermont",
            "Washington",
            "Wisconsin",
            "West Virginia"
           ],
           "marker": {
            "opacity": 0.75
           },
           "name": "",
           "subplot": "mapbox",
           "type": "choroplethmapbox",
           "z": [
            33.27692307692308,
            64.278125,
            61.379629629629626,
            64.05238095238096,
            58.82976190476191,
            47.48833333333334,
            49.84722222222222,
            56.1625,
            74.89047619047619,
            64.73055555555555,
            47.7425,
            56.12685185185185,
            53.03055555555556,
            52.24166666666667,
            49.39074074074074,
            56.60208333333333,
            67.95277777777777,
            42.31944444444444,
            45.57333333333333,
            48.23611111111112,
            55.192708333333336,
            44.07129629629629,
            65.165,
            44.79761904761904,
            56.265277777777776,
            51.28541666666666,
            43.38703703703704,
            51.495000000000005,
            55.35,
            54.07222222222222,
            54.73125,
            46.085,
            42.86666666666667,
            60.16458333333333,
            60.85648148148149,
            50.74722222222223,
            49.6275,
            50.425,
            63.68214285714286,
            47.4,
            58.91458333333333,
            67.24,
            51.42738095238095,
            42.952777777777776,
            50.306666666666665,
            56.28055555555556,
            53.30416666666667,
            43.79,
            45.37870370370371
           ]
          }
         ],
         "name": "2015"
        }
       ],
       "layout": {
        "coloraxis": {
         "cmax": 65,
         "cmin": 30,
         "colorbar": {
          "title": {
           "text": "Température moyenne"
          }
         },
         "colorscale": [
          [
           0,
           "rgb(247,251,255)"
          ],
          [
           0.125,
           "rgb(222,235,247)"
          ],
          [
           0.25,
           "rgb(198,219,239)"
          ],
          [
           0.375,
           "rgb(158,202,225)"
          ],
          [
           0.5,
           "rgb(107,174,214)"
          ],
          [
           0.625,
           "rgb(66,146,198)"
          ],
          [
           0.75,
           "rgb(33,113,181)"
          ],
          [
           0.875,
           "rgb(8,81,156)"
          ],
          [
           1,
           "rgb(8,48,107)"
          ]
         ]
        },
        "height": 800,
        "legend": {
         "tracegroupgap": 0
        },
        "mapbox": {
         "center": {
          "lat": 50,
          "lon": -110
         },
         "domain": {
          "x": [
           0,
           1
          ],
          "y": [
           0,
           1
          ]
         },
         "style": "carto-positron",
         "zoom": 2
        },
        "sliders": [
         {
          "active": 0,
          "currentvalue": {
           "prefix": "Année="
          },
          "len": 0.9,
          "pad": {
           "b": 10,
           "t": 60
          },
          "steps": [
           {
            "args": [
             [
              "1992"
             ],
             {
              "frame": {
               "duration": 0,
               "redraw": true
              },
              "fromcurrent": true,
              "mode": "immediate",
              "transition": {
               "duration": 0,
               "easing": "linear"
              }
             }
            ],
            "label": "1992",
            "method": "animate"
           },
           {
            "args": [
             [
              "1993"
             ],
             {
              "frame": {
               "duration": 0,
               "redraw": true
              },
              "fromcurrent": true,
              "mode": "immediate",
              "transition": {
               "duration": 0,
               "easing": "linear"
              }
             }
            ],
            "label": "1993",
            "method": "animate"
           },
           {
            "args": [
             [
              "1994"
             ],
             {
              "frame": {
               "duration": 0,
               "redraw": true
              },
              "fromcurrent": true,
              "mode": "immediate",
              "transition": {
               "duration": 0,
               "easing": "linear"
              }
             }
            ],
            "label": "1994",
            "method": "animate"
           },
           {
            "args": [
             [
              "1995"
             ],
             {
              "frame": {
               "duration": 0,
               "redraw": true
              },
              "fromcurrent": true,
              "mode": "immediate",
              "transition": {
               "duration": 0,
               "easing": "linear"
              }
             }
            ],
            "label": "1995",
            "method": "animate"
           },
           {
            "args": [
             [
              "1996"
             ],
             {
              "frame": {
               "duration": 0,
               "redraw": true
              },
              "fromcurrent": true,
              "mode": "immediate",
              "transition": {
               "duration": 0,
               "easing": "linear"
              }
             }
            ],
            "label": "1996",
            "method": "animate"
           },
           {
            "args": [
             [
              "1997"
             ],
             {
              "frame": {
               "duration": 0,
               "redraw": true
              },
              "fromcurrent": true,
              "mode": "immediate",
              "transition": {
               "duration": 0,
               "easing": "linear"
              }
             }
            ],
            "label": "1997",
            "method": "animate"
           },
           {
            "args": [
             [
              "1998"
             ],
             {
              "frame": {
               "duration": 0,
               "redraw": true
              },
              "fromcurrent": true,
              "mode": "immediate",
              "transition": {
               "duration": 0,
               "easing": "linear"
              }
             }
            ],
            "label": "1998",
            "method": "animate"
           },
           {
            "args": [
             [
              "1999"
             ],
             {
              "frame": {
               "duration": 0,
               "redraw": true
              },
              "fromcurrent": true,
              "mode": "immediate",
              "transition": {
               "duration": 0,
               "easing": "linear"
              }
             }
            ],
            "label": "1999",
            "method": "animate"
           },
           {
            "args": [
             [
              "2000"
             ],
             {
              "frame": {
               "duration": 0,
               "redraw": true
              },
              "fromcurrent": true,
              "mode": "immediate",
              "transition": {
               "duration": 0,
               "easing": "linear"
              }
             }
            ],
            "label": "2000",
            "method": "animate"
           },
           {
            "args": [
             [
              "2001"
             ],
             {
              "frame": {
               "duration": 0,
               "redraw": true
              },
              "fromcurrent": true,
              "mode": "immediate",
              "transition": {
               "duration": 0,
               "easing": "linear"
              }
             }
            ],
            "label": "2001",
            "method": "animate"
           },
           {
            "args": [
             [
              "2002"
             ],
             {
              "frame": {
               "duration": 0,
               "redraw": true
              },
              "fromcurrent": true,
              "mode": "immediate",
              "transition": {
               "duration": 0,
               "easing": "linear"
              }
             }
            ],
            "label": "2002",
            "method": "animate"
           },
           {
            "args": [
             [
              "2003"
             ],
             {
              "frame": {
               "duration": 0,
               "redraw": true
              },
              "fromcurrent": true,
              "mode": "immediate",
              "transition": {
               "duration": 0,
               "easing": "linear"
              }
             }
            ],
            "label": "2003",
            "method": "animate"
           },
           {
            "args": [
             [
              "2004"
             ],
             {
              "frame": {
               "duration": 0,
               "redraw": true
              },
              "fromcurrent": true,
              "mode": "immediate",
              "transition": {
               "duration": 0,
               "easing": "linear"
              }
             }
            ],
            "label": "2004",
            "method": "animate"
           },
           {
            "args": [
             [
              "2005"
             ],
             {
              "frame": {
               "duration": 0,
               "redraw": true
              },
              "fromcurrent": true,
              "mode": "immediate",
              "transition": {
               "duration": 0,
               "easing": "linear"
              }
             }
            ],
            "label": "2005",
            "method": "animate"
           },
           {
            "args": [
             [
              "2006"
             ],
             {
              "frame": {
               "duration": 0,
               "redraw": true
              },
              "fromcurrent": true,
              "mode": "immediate",
              "transition": {
               "duration": 0,
               "easing": "linear"
              }
             }
            ],
            "label": "2006",
            "method": "animate"
           },
           {
            "args": [
             [
              "2007"
             ],
             {
              "frame": {
               "duration": 0,
               "redraw": true
              },
              "fromcurrent": true,
              "mode": "immediate",
              "transition": {
               "duration": 0,
               "easing": "linear"
              }
             }
            ],
            "label": "2007",
            "method": "animate"
           },
           {
            "args": [
             [
              "2008"
             ],
             {
              "frame": {
               "duration": 0,
               "redraw": true
              },
              "fromcurrent": true,
              "mode": "immediate",
              "transition": {
               "duration": 0,
               "easing": "linear"
              }
             }
            ],
            "label": "2008",
            "method": "animate"
           },
           {
            "args": [
             [
              "2009"
             ],
             {
              "frame": {
               "duration": 0,
               "redraw": true
              },
              "fromcurrent": true,
              "mode": "immediate",
              "transition": {
               "duration": 0,
               "easing": "linear"
              }
             }
            ],
            "label": "2009",
            "method": "animate"
           },
           {
            "args": [
             [
              "2010"
             ],
             {
              "frame": {
               "duration": 0,
               "redraw": true
              },
              "fromcurrent": true,
              "mode": "immediate",
              "transition": {
               "duration": 0,
               "easing": "linear"
              }
             }
            ],
            "label": "2010",
            "method": "animate"
           },
           {
            "args": [
             [
              "2011"
             ],
             {
              "frame": {
               "duration": 0,
               "redraw": true
              },
              "fromcurrent": true,
              "mode": "immediate",
              "transition": {
               "duration": 0,
               "easing": "linear"
              }
             }
            ],
            "label": "2011",
            "method": "animate"
           },
           {
            "args": [
             [
              "2012"
             ],
             {
              "frame": {
               "duration": 0,
               "redraw": true
              },
              "fromcurrent": true,
              "mode": "immediate",
              "transition": {
               "duration": 0,
               "easing": "linear"
              }
             }
            ],
            "label": "2012",
            "method": "animate"
           },
           {
            "args": [
             [
              "2013"
             ],
             {
              "frame": {
               "duration": 0,
               "redraw": true
              },
              "fromcurrent": true,
              "mode": "immediate",
              "transition": {
               "duration": 0,
               "easing": "linear"
              }
             }
            ],
            "label": "2013",
            "method": "animate"
           },
           {
            "args": [
             [
              "2014"
             ],
             {
              "frame": {
               "duration": 0,
               "redraw": true
              },
              "fromcurrent": true,
              "mode": "immediate",
              "transition": {
               "duration": 0,
               "easing": "linear"
              }
             }
            ],
            "label": "2014",
            "method": "animate"
           },
           {
            "args": [
             [
              "2015"
             ],
             {
              "frame": {
               "duration": 0,
               "redraw": true
              },
              "fromcurrent": true,
              "mode": "immediate",
              "transition": {
               "duration": 0,
               "easing": "linear"
              }
             }
            ],
            "label": "2015",
            "method": "animate"
           }
          ],
          "x": 0.1,
          "xanchor": "left",
          "y": 0,
          "yanchor": "top"
         }
        ],
        "template": {
         "data": {
          "bar": [
           {
            "error_x": {
             "color": "#2a3f5f"
            },
            "error_y": {
             "color": "#2a3f5f"
            },
            "marker": {
             "line": {
              "color": "#E5ECF6",
              "width": 0.5
             },
             "pattern": {
              "fillmode": "overlay",
              "size": 10,
              "solidity": 0.2
             }
            },
            "type": "bar"
           }
          ],
          "barpolar": [
           {
            "marker": {
             "line": {
              "color": "#E5ECF6",
              "width": 0.5
             },
             "pattern": {
              "fillmode": "overlay",
              "size": 10,
              "solidity": 0.2
             }
            },
            "type": "barpolar"
           }
          ],
          "carpet": [
           {
            "aaxis": {
             "endlinecolor": "#2a3f5f",
             "gridcolor": "white",
             "linecolor": "white",
             "minorgridcolor": "white",
             "startlinecolor": "#2a3f5f"
            },
            "baxis": {
             "endlinecolor": "#2a3f5f",
             "gridcolor": "white",
             "linecolor": "white",
             "minorgridcolor": "white",
             "startlinecolor": "#2a3f5f"
            },
            "type": "carpet"
           }
          ],
          "choropleth": [
           {
            "colorbar": {
             "outlinewidth": 0,
             "ticks": ""
            },
            "type": "choropleth"
           }
          ],
          "contour": [
           {
            "colorbar": {
             "outlinewidth": 0,
             "ticks": ""
            },
            "colorscale": [
             [
              0,
              "#0d0887"
             ],
             [
              0.1111111111111111,
              "#46039f"
             ],
             [
              0.2222222222222222,
              "#7201a8"
             ],
             [
              0.3333333333333333,
              "#9c179e"
             ],
             [
              0.4444444444444444,
              "#bd3786"
             ],
             [
              0.5555555555555556,
              "#d8576b"
             ],
             [
              0.6666666666666666,
              "#ed7953"
             ],
             [
              0.7777777777777778,
              "#fb9f3a"
             ],
             [
              0.8888888888888888,
              "#fdca26"
             ],
             [
              1,
              "#f0f921"
             ]
            ],
            "type": "contour"
           }
          ],
          "contourcarpet": [
           {
            "colorbar": {
             "outlinewidth": 0,
             "ticks": ""
            },
            "type": "contourcarpet"
           }
          ],
          "heatmap": [
           {
            "colorbar": {
             "outlinewidth": 0,
             "ticks": ""
            },
            "colorscale": [
             [
              0,
              "#0d0887"
             ],
             [
              0.1111111111111111,
              "#46039f"
             ],
             [
              0.2222222222222222,
              "#7201a8"
             ],
             [
              0.3333333333333333,
              "#9c179e"
             ],
             [
              0.4444444444444444,
              "#bd3786"
             ],
             [
              0.5555555555555556,
              "#d8576b"
             ],
             [
              0.6666666666666666,
              "#ed7953"
             ],
             [
              0.7777777777777778,
              "#fb9f3a"
             ],
             [
              0.8888888888888888,
              "#fdca26"
             ],
             [
              1,
              "#f0f921"
             ]
            ],
            "type": "heatmap"
           }
          ],
          "heatmapgl": [
           {
            "colorbar": {
             "outlinewidth": 0,
             "ticks": ""
            },
            "colorscale": [
             [
              0,
              "#0d0887"
             ],
             [
              0.1111111111111111,
              "#46039f"
             ],
             [
              0.2222222222222222,
              "#7201a8"
             ],
             [
              0.3333333333333333,
              "#9c179e"
             ],
             [
              0.4444444444444444,
              "#bd3786"
             ],
             [
              0.5555555555555556,
              "#d8576b"
             ],
             [
              0.6666666666666666,
              "#ed7953"
             ],
             [
              0.7777777777777778,
              "#fb9f3a"
             ],
             [
              0.8888888888888888,
              "#fdca26"
             ],
             [
              1,
              "#f0f921"
             ]
            ],
            "type": "heatmapgl"
           }
          ],
          "histogram": [
           {
            "marker": {
             "pattern": {
              "fillmode": "overlay",
              "size": 10,
              "solidity": 0.2
             }
            },
            "type": "histogram"
           }
          ],
          "histogram2d": [
           {
            "colorbar": {
             "outlinewidth": 0,
             "ticks": ""
            },
            "colorscale": [
             [
              0,
              "#0d0887"
             ],
             [
              0.1111111111111111,
              "#46039f"
             ],
             [
              0.2222222222222222,
              "#7201a8"
             ],
             [
              0.3333333333333333,
              "#9c179e"
             ],
             [
              0.4444444444444444,
              "#bd3786"
             ],
             [
              0.5555555555555556,
              "#d8576b"
             ],
             [
              0.6666666666666666,
              "#ed7953"
             ],
             [
              0.7777777777777778,
              "#fb9f3a"
             ],
             [
              0.8888888888888888,
              "#fdca26"
             ],
             [
              1,
              "#f0f921"
             ]
            ],
            "type": "histogram2d"
           }
          ],
          "histogram2dcontour": [
           {
            "colorbar": {
             "outlinewidth": 0,
             "ticks": ""
            },
            "colorscale": [
             [
              0,
              "#0d0887"
             ],
             [
              0.1111111111111111,
              "#46039f"
             ],
             [
              0.2222222222222222,
              "#7201a8"
             ],
             [
              0.3333333333333333,
              "#9c179e"
             ],
             [
              0.4444444444444444,
              "#bd3786"
             ],
             [
              0.5555555555555556,
              "#d8576b"
             ],
             [
              0.6666666666666666,
              "#ed7953"
             ],
             [
              0.7777777777777778,
              "#fb9f3a"
             ],
             [
              0.8888888888888888,
              "#fdca26"
             ],
             [
              1,
              "#f0f921"
             ]
            ],
            "type": "histogram2dcontour"
           }
          ],
          "mesh3d": [
           {
            "colorbar": {
             "outlinewidth": 0,
             "ticks": ""
            },
            "type": "mesh3d"
           }
          ],
          "parcoords": [
           {
            "line": {
             "colorbar": {
              "outlinewidth": 0,
              "ticks": ""
             }
            },
            "type": "parcoords"
           }
          ],
          "pie": [
           {
            "automargin": true,
            "type": "pie"
           }
          ],
          "scatter": [
           {
            "fillpattern": {
             "fillmode": "overlay",
             "size": 10,
             "solidity": 0.2
            },
            "type": "scatter"
           }
          ],
          "scatter3d": [
           {
            "line": {
             "colorbar": {
              "outlinewidth": 0,
              "ticks": ""
             }
            },
            "marker": {
             "colorbar": {
              "outlinewidth": 0,
              "ticks": ""
             }
            },
            "type": "scatter3d"
           }
          ],
          "scattercarpet": [
           {
            "marker": {
             "colorbar": {
              "outlinewidth": 0,
              "ticks": ""
             }
            },
            "type": "scattercarpet"
           }
          ],
          "scattergeo": [
           {
            "marker": {
             "colorbar": {
              "outlinewidth": 0,
              "ticks": ""
             }
            },
            "type": "scattergeo"
           }
          ],
          "scattergl": [
           {
            "marker": {
             "colorbar": {
              "outlinewidth": 0,
              "ticks": ""
             }
            },
            "type": "scattergl"
           }
          ],
          "scattermapbox": [
           {
            "marker": {
             "colorbar": {
              "outlinewidth": 0,
              "ticks": ""
             }
            },
            "type": "scattermapbox"
           }
          ],
          "scatterpolar": [
           {
            "marker": {
             "colorbar": {
              "outlinewidth": 0,
              "ticks": ""
             }
            },
            "type": "scatterpolar"
           }
          ],
          "scatterpolargl": [
           {
            "marker": {
             "colorbar": {
              "outlinewidth": 0,
              "ticks": ""
             }
            },
            "type": "scatterpolargl"
           }
          ],
          "scatterternary": [
           {
            "marker": {
             "colorbar": {
              "outlinewidth": 0,
              "ticks": ""
             }
            },
            "type": "scatterternary"
           }
          ],
          "surface": [
           {
            "colorbar": {
             "outlinewidth": 0,
             "ticks": ""
            },
            "colorscale": [
             [
              0,
              "#0d0887"
             ],
             [
              0.1111111111111111,
              "#46039f"
             ],
             [
              0.2222222222222222,
              "#7201a8"
             ],
             [
              0.3333333333333333,
              "#9c179e"
             ],
             [
              0.4444444444444444,
              "#bd3786"
             ],
             [
              0.5555555555555556,
              "#d8576b"
             ],
             [
              0.6666666666666666,
              "#ed7953"
             ],
             [
              0.7777777777777778,
              "#fb9f3a"
             ],
             [
              0.8888888888888888,
              "#fdca26"
             ],
             [
              1,
              "#f0f921"
             ]
            ],
            "type": "surface"
           }
          ],
          "table": [
           {
            "cells": {
             "fill": {
              "color": "#EBF0F8"
             },
             "line": {
              "color": "white"
             }
            },
            "header": {
             "fill": {
              "color": "#C8D4E3"
             },
             "line": {
              "color": "white"
             }
            },
            "type": "table"
           }
          ]
         },
         "layout": {
          "annotationdefaults": {
           "arrowcolor": "#2a3f5f",
           "arrowhead": 0,
           "arrowwidth": 1
          },
          "autotypenumbers": "strict",
          "coloraxis": {
           "colorbar": {
            "outlinewidth": 0,
            "ticks": ""
           }
          },
          "colorscale": {
           "diverging": [
            [
             0,
             "#8e0152"
            ],
            [
             0.1,
             "#c51b7d"
            ],
            [
             0.2,
             "#de77ae"
            ],
            [
             0.3,
             "#f1b6da"
            ],
            [
             0.4,
             "#fde0ef"
            ],
            [
             0.5,
             "#f7f7f7"
            ],
            [
             0.6,
             "#e6f5d0"
            ],
            [
             0.7,
             "#b8e186"
            ],
            [
             0.8,
             "#7fbc41"
            ],
            [
             0.9,
             "#4d9221"
            ],
            [
             1,
             "#276419"
            ]
           ],
           "sequential": [
            [
             0,
             "#0d0887"
            ],
            [
             0.1111111111111111,
             "#46039f"
            ],
            [
             0.2222222222222222,
             "#7201a8"
            ],
            [
             0.3333333333333333,
             "#9c179e"
            ],
            [
             0.4444444444444444,
             "#bd3786"
            ],
            [
             0.5555555555555556,
             "#d8576b"
            ],
            [
             0.6666666666666666,
             "#ed7953"
            ],
            [
             0.7777777777777778,
             "#fb9f3a"
            ],
            [
             0.8888888888888888,
             "#fdca26"
            ],
            [
             1,
             "#f0f921"
            ]
           ],
           "sequentialminus": [
            [
             0,
             "#0d0887"
            ],
            [
             0.1111111111111111,
             "#46039f"
            ],
            [
             0.2222222222222222,
             "#7201a8"
            ],
            [
             0.3333333333333333,
             "#9c179e"
            ],
            [
             0.4444444444444444,
             "#bd3786"
            ],
            [
             0.5555555555555556,
             "#d8576b"
            ],
            [
             0.6666666666666666,
             "#ed7953"
            ],
            [
             0.7777777777777778,
             "#fb9f3a"
            ],
            [
             0.8888888888888888,
             "#fdca26"
            ],
            [
             1,
             "#f0f921"
            ]
           ]
          },
          "colorway": [
           "#636efa",
           "#EF553B",
           "#00cc96",
           "#ab63fa",
           "#FFA15A",
           "#19d3f3",
           "#FF6692",
           "#B6E880",
           "#FF97FF",
           "#FECB52"
          ],
          "font": {
           "color": "#2a3f5f"
          },
          "geo": {
           "bgcolor": "white",
           "lakecolor": "white",
           "landcolor": "#E5ECF6",
           "showlakes": true,
           "showland": true,
           "subunitcolor": "white"
          },
          "hoverlabel": {
           "align": "left"
          },
          "hovermode": "closest",
          "mapbox": {
           "style": "light"
          },
          "paper_bgcolor": "white",
          "plot_bgcolor": "#E5ECF6",
          "polar": {
           "angularaxis": {
            "gridcolor": "white",
            "linecolor": "white",
            "ticks": ""
           },
           "bgcolor": "#E5ECF6",
           "radialaxis": {
            "gridcolor": "white",
            "linecolor": "white",
            "ticks": ""
           }
          },
          "scene": {
           "xaxis": {
            "backgroundcolor": "#E5ECF6",
            "gridcolor": "white",
            "gridwidth": 2,
            "linecolor": "white",
            "showbackground": true,
            "ticks": "",
            "zerolinecolor": "white"
           },
           "yaxis": {
            "backgroundcolor": "#E5ECF6",
            "gridcolor": "white",
            "gridwidth": 2,
            "linecolor": "white",
            "showbackground": true,
            "ticks": "",
            "zerolinecolor": "white"
           },
           "zaxis": {
            "backgroundcolor": "#E5ECF6",
            "gridcolor": "white",
            "gridwidth": 2,
            "linecolor": "white",
            "showbackground": true,
            "ticks": "",
            "zerolinecolor": "white"
           }
          },
          "shapedefaults": {
           "line": {
            "color": "#2a3f5f"
           }
          },
          "ternary": {
           "aaxis": {
            "gridcolor": "white",
            "linecolor": "white",
            "ticks": ""
           },
           "baxis": {
            "gridcolor": "white",
            "linecolor": "white",
            "ticks": ""
           },
           "bgcolor": "#E5ECF6",
           "caxis": {
            "gridcolor": "white",
            "linecolor": "white",
            "ticks": ""
           }
          },
          "title": {
           "x": 0.05
          },
          "xaxis": {
           "automargin": true,
           "gridcolor": "white",
           "linecolor": "white",
           "ticks": "",
           "title": {
            "standoff": 15
           },
           "zerolinecolor": "white",
           "zerolinewidth": 2
          },
          "yaxis": {
           "automargin": true,
           "gridcolor": "white",
           "linecolor": "white",
           "ticks": "",
           "title": {
            "standoff": 15
           },
           "zerolinecolor": "white",
           "zerolinewidth": 2
          }
         }
        },
        "title": {
         "text": "Evolution de la température moyenne au sol de chaque Etat"
        },
        "updatemenus": [
         {
          "buttons": [
           {
            "args": [
             null,
             {
              "frame": {
               "duration": 500,
               "redraw": true
              },
              "fromcurrent": true,
              "mode": "immediate",
              "transition": {
               "duration": 500,
               "easing": "linear"
              }
             }
            ],
            "label": "&#9654;",
            "method": "animate"
           },
           {
            "args": [
             [
              null
             ],
             {
              "frame": {
               "duration": 0,
               "redraw": true
              },
              "fromcurrent": true,
              "mode": "immediate",
              "transition": {
               "duration": 0,
               "easing": "linear"
              }
             }
            ],
            "label": "&#9724;",
            "method": "animate"
           }
          ],
          "direction": "left",
          "pad": {
           "r": 10,
           "t": 70
          },
          "showactive": false,
          "type": "buttons",
          "x": 0.1,
          "xanchor": "right",
          "y": 0,
          "yanchor": "top"
         }
        ],
        "width": 1100
       }
      },
      "text/html": [
       "<div>                            <div id=\"d4c4e187-159a-49df-88d7-4da0f4cdf6c7\" class=\"plotly-graph-div\" style=\"height:800px; width:1100px;\"></div>            <script type=\"text/javascript\">                require([\"plotly\"], function(Plotly) {                    window.PLOTLYENV=window.PLOTLYENV || {};                                    if (document.getElementById(\"d4c4e187-159a-49df-88d7-4da0f4cdf6c7\")) {                    Plotly.newPlot(                        \"d4c4e187-159a-49df-88d7-4da0f4cdf6c7\",                        [{\"coloraxis\":\"coloraxis\",\"customdata\":[[29.20833333333333],[61.75729166666667],[59.864814814814814],[61.93928571428572],[57.39285714285714],[45.07],[47.64722222222222],[53.67916666666667],[71.87619047619047],[62.175],[46.41333333333333],[53.959259259259255],[52.01851851851851],[51.19444444444445],[47.99166666666667],[55.10416666666666],[65.65925925925926],[41.00555555555555],[43.76],[46.144444444444446],[53.21041666666667],[41.52129629629629],[62.76916666666667],[43.37857142857143],[54.98611111111112],[49.37083333333333],[41.23611111111112],[50.150000000000006],[53.75],[51.37222222222223],[52.284375],[44.075],[41.02916666666667],[57.825],[59.34722222222222],[49.855555555555554],[47.71666666666667],[48.39166666666667],[45.45],[56.85208333333333],[65.95333333333333],[49.67023809523809],[40.91944444444445],[49.05166666666667],[54.16944444444445],[51.43472222222223],[42.17583333333334],[43.32407407407408]],\"featureidkey\":\"properties.name\",\"geojson\":\"us-states.json\",\"hovertemplate\":\"<b>%{hovertext}</b><br><br>Ann\\u00e9e=1992<br>Etat=%{location}<br>Temp\\u00e9rature moyenne=%{z}<extra></extra>\",\"hovertext\":[\"Alaska\",\"Alabama\",\"Arkansas\",\"Arizona\",\"California\",\"Colorado\",\"Connecticut\",\"Delaware\",\"Florida\",\"Georgia\",\"Hawaii\",\"Iowa\",\"Idaho\",\"Illinois\",\"Indiana\",\"Kansas\",\"Kentucky\",\"Louisiana\",\"Massachusetts\",\"Maryland\",\"Maine\",\"Michigan\",\"Minnesota\",\"Missouri\",\"Mississippi\",\"Montana\",\"North Carolina\",\"North Dakota\",\"Nebraska\",\"New Hampshire\",\"New Jersey\",\"New Mexico\",\"Nevada\",\"New York\",\"Ohio\",\"Oklahoma\",\"Oregon\",\"Pennsylvania\",\"South Carolina\",\"South Dakota\",\"Tennessee\",\"Texas\",\"Utah\",\"Virginia\",\"Vermont\",\"Washington\",\"Wisconsin\",\"West Virginia\"],\"locations\":[\"Alaska\",\"Alabama\",\"Arkansas\",\"Arizona\",\"California\",\"Colorado\",\"Connecticut\",\"Delaware\",\"Florida\",\"Georgia\",\"Hawaii\",\"Iowa\",\"Idaho\",\"Illinois\",\"Indiana\",\"Kansas\",\"Kentucky\",\"Louisiana\",\"Massachusetts\",\"Maryland\",\"Maine\",\"Michigan\",\"Minnesota\",\"Missouri\",\"Mississippi\",\"Montana\",\"North Carolina\",\"North Dakota\",\"Nebraska\",\"New Hampshire\",\"New Jersey\",\"New Mexico\",\"Nevada\",\"New York\",\"Ohio\",\"Oklahoma\",\"Oregon\",\"Pennsylvania\",\"South Carolina\",\"South Dakota\",\"Tennessee\",\"Texas\",\"Utah\",\"Virginia\",\"Vermont\",\"Washington\",\"Wisconsin\",\"West Virginia\"],\"marker\":{\"opacity\":0.75},\"name\":\"\",\"subplot\":\"mapbox\",\"z\":[29.20833333333333,61.75729166666667,59.864814814814814,61.93928571428572,57.39285714285714,45.07,47.64722222222222,53.67916666666667,71.87619047619047,62.175,46.41333333333333,53.959259259259255,52.01851851851851,51.19444444444445,47.99166666666667,55.10416666666666,65.65925925925926,41.00555555555555,43.76,46.144444444444446,53.21041666666667,41.52129629629629,62.76916666666667,43.37857142857143,54.98611111111112,49.37083333333333,41.23611111111112,50.150000000000006,53.75,51.37222222222223,52.284375,44.075,41.02916666666667,57.825,59.34722222222222,49.855555555555554,47.71666666666667,48.39166666666667,45.45,56.85208333333333,65.95333333333333,49.67023809523809,40.91944444444445,49.05166666666667,54.16944444444445,51.43472222222223,42.17583333333334,43.32407407407408],\"type\":\"choroplethmapbox\"}],                        {\"template\":{\"data\":{\"histogram2dcontour\":[{\"type\":\"histogram2dcontour\",\"colorbar\":{\"outlinewidth\":0,\"ticks\":\"\"},\"colorscale\":[[0.0,\"#0d0887\"],[0.1111111111111111,\"#46039f\"],[0.2222222222222222,\"#7201a8\"],[0.3333333333333333,\"#9c179e\"],[0.4444444444444444,\"#bd3786\"],[0.5555555555555556,\"#d8576b\"],[0.6666666666666666,\"#ed7953\"],[0.7777777777777778,\"#fb9f3a\"],[0.8888888888888888,\"#fdca26\"],[1.0,\"#f0f921\"]]}],\"choropleth\":[{\"type\":\"choropleth\",\"colorbar\":{\"outlinewidth\":0,\"ticks\":\"\"}}],\"histogram2d\":[{\"type\":\"histogram2d\",\"colorbar\":{\"outlinewidth\":0,\"ticks\":\"\"},\"colorscale\":[[0.0,\"#0d0887\"],[0.1111111111111111,\"#46039f\"],[0.2222222222222222,\"#7201a8\"],[0.3333333333333333,\"#9c179e\"],[0.4444444444444444,\"#bd3786\"],[0.5555555555555556,\"#d8576b\"],[0.6666666666666666,\"#ed7953\"],[0.7777777777777778,\"#fb9f3a\"],[0.8888888888888888,\"#fdca26\"],[1.0,\"#f0f921\"]]}],\"heatmap\":[{\"type\":\"heatmap\",\"colorbar\":{\"outlinewidth\":0,\"ticks\":\"\"},\"colorscale\":[[0.0,\"#0d0887\"],[0.1111111111111111,\"#46039f\"],[0.2222222222222222,\"#7201a8\"],[0.3333333333333333,\"#9c179e\"],[0.4444444444444444,\"#bd3786\"],[0.5555555555555556,\"#d8576b\"],[0.6666666666666666,\"#ed7953\"],[0.7777777777777778,\"#fb9f3a\"],[0.8888888888888888,\"#fdca26\"],[1.0,\"#f0f921\"]]}],\"heatmapgl\":[{\"type\":\"heatmapgl\",\"colorbar\":{\"outlinewidth\":0,\"ticks\":\"\"},\"colorscale\":[[0.0,\"#0d0887\"],[0.1111111111111111,\"#46039f\"],[0.2222222222222222,\"#7201a8\"],[0.3333333333333333,\"#9c179e\"],[0.4444444444444444,\"#bd3786\"],[0.5555555555555556,\"#d8576b\"],[0.6666666666666666,\"#ed7953\"],[0.7777777777777778,\"#fb9f3a\"],[0.8888888888888888,\"#fdca26\"],[1.0,\"#f0f921\"]]}],\"contourcarpet\":[{\"type\":\"contourcarpet\",\"colorbar\":{\"outlinewidth\":0,\"ticks\":\"\"}}],\"contour\":[{\"type\":\"contour\",\"colorbar\":{\"outlinewidth\":0,\"ticks\":\"\"},\"colorscale\":[[0.0,\"#0d0887\"],[0.1111111111111111,\"#46039f\"],[0.2222222222222222,\"#7201a8\"],[0.3333333333333333,\"#9c179e\"],[0.4444444444444444,\"#bd3786\"],[0.5555555555555556,\"#d8576b\"],[0.6666666666666666,\"#ed7953\"],[0.7777777777777778,\"#fb9f3a\"],[0.8888888888888888,\"#fdca26\"],[1.0,\"#f0f921\"]]}],\"surface\":[{\"type\":\"surface\",\"colorbar\":{\"outlinewidth\":0,\"ticks\":\"\"},\"colorscale\":[[0.0,\"#0d0887\"],[0.1111111111111111,\"#46039f\"],[0.2222222222222222,\"#7201a8\"],[0.3333333333333333,\"#9c179e\"],[0.4444444444444444,\"#bd3786\"],[0.5555555555555556,\"#d8576b\"],[0.6666666666666666,\"#ed7953\"],[0.7777777777777778,\"#fb9f3a\"],[0.8888888888888888,\"#fdca26\"],[1.0,\"#f0f921\"]]}],\"mesh3d\":[{\"type\":\"mesh3d\",\"colorbar\":{\"outlinewidth\":0,\"ticks\":\"\"}}],\"scatter\":[{\"fillpattern\":{\"fillmode\":\"overlay\",\"size\":10,\"solidity\":0.2},\"type\":\"scatter\"}],\"parcoords\":[{\"type\":\"parcoords\",\"line\":{\"colorbar\":{\"outlinewidth\":0,\"ticks\":\"\"}}}],\"scatterpolargl\":[{\"type\":\"scatterpolargl\",\"marker\":{\"colorbar\":{\"outlinewidth\":0,\"ticks\":\"\"}}}],\"bar\":[{\"error_x\":{\"color\":\"#2a3f5f\"},\"error_y\":{\"color\":\"#2a3f5f\"},\"marker\":{\"line\":{\"color\":\"#E5ECF6\",\"width\":0.5},\"pattern\":{\"fillmode\":\"overlay\",\"size\":10,\"solidity\":0.2}},\"type\":\"bar\"}],\"scattergeo\":[{\"type\":\"scattergeo\",\"marker\":{\"colorbar\":{\"outlinewidth\":0,\"ticks\":\"\"}}}],\"scatterpolar\":[{\"type\":\"scatterpolar\",\"marker\":{\"colorbar\":{\"outlinewidth\":0,\"ticks\":\"\"}}}],\"histogram\":[{\"marker\":{\"pattern\":{\"fillmode\":\"overlay\",\"size\":10,\"solidity\":0.2}},\"type\":\"histogram\"}],\"scattergl\":[{\"type\":\"scattergl\",\"marker\":{\"colorbar\":{\"outlinewidth\":0,\"ticks\":\"\"}}}],\"scatter3d\":[{\"type\":\"scatter3d\",\"line\":{\"colorbar\":{\"outlinewidth\":0,\"ticks\":\"\"}},\"marker\":{\"colorbar\":{\"outlinewidth\":0,\"ticks\":\"\"}}}],\"scattermapbox\":[{\"type\":\"scattermapbox\",\"marker\":{\"colorbar\":{\"outlinewidth\":0,\"ticks\":\"\"}}}],\"scatterternary\":[{\"type\":\"scatterternary\",\"marker\":{\"colorbar\":{\"outlinewidth\":0,\"ticks\":\"\"}}}],\"scattercarpet\":[{\"type\":\"scattercarpet\",\"marker\":{\"colorbar\":{\"outlinewidth\":0,\"ticks\":\"\"}}}],\"carpet\":[{\"aaxis\":{\"endlinecolor\":\"#2a3f5f\",\"gridcolor\":\"white\",\"linecolor\":\"white\",\"minorgridcolor\":\"white\",\"startlinecolor\":\"#2a3f5f\"},\"baxis\":{\"endlinecolor\":\"#2a3f5f\",\"gridcolor\":\"white\",\"linecolor\":\"white\",\"minorgridcolor\":\"white\",\"startlinecolor\":\"#2a3f5f\"},\"type\":\"carpet\"}],\"table\":[{\"cells\":{\"fill\":{\"color\":\"#EBF0F8\"},\"line\":{\"color\":\"white\"}},\"header\":{\"fill\":{\"color\":\"#C8D4E3\"},\"line\":{\"color\":\"white\"}},\"type\":\"table\"}],\"barpolar\":[{\"marker\":{\"line\":{\"color\":\"#E5ECF6\",\"width\":0.5},\"pattern\":{\"fillmode\":\"overlay\",\"size\":10,\"solidity\":0.2}},\"type\":\"barpolar\"}],\"pie\":[{\"automargin\":true,\"type\":\"pie\"}]},\"layout\":{\"autotypenumbers\":\"strict\",\"colorway\":[\"#636efa\",\"#EF553B\",\"#00cc96\",\"#ab63fa\",\"#FFA15A\",\"#19d3f3\",\"#FF6692\",\"#B6E880\",\"#FF97FF\",\"#FECB52\"],\"font\":{\"color\":\"#2a3f5f\"},\"hovermode\":\"closest\",\"hoverlabel\":{\"align\":\"left\"},\"paper_bgcolor\":\"white\",\"plot_bgcolor\":\"#E5ECF6\",\"polar\":{\"bgcolor\":\"#E5ECF6\",\"angularaxis\":{\"gridcolor\":\"white\",\"linecolor\":\"white\",\"ticks\":\"\"},\"radialaxis\":{\"gridcolor\":\"white\",\"linecolor\":\"white\",\"ticks\":\"\"}},\"ternary\":{\"bgcolor\":\"#E5ECF6\",\"aaxis\":{\"gridcolor\":\"white\",\"linecolor\":\"white\",\"ticks\":\"\"},\"baxis\":{\"gridcolor\":\"white\",\"linecolor\":\"white\",\"ticks\":\"\"},\"caxis\":{\"gridcolor\":\"white\",\"linecolor\":\"white\",\"ticks\":\"\"}},\"coloraxis\":{\"colorbar\":{\"outlinewidth\":0,\"ticks\":\"\"}},\"colorscale\":{\"sequential\":[[0.0,\"#0d0887\"],[0.1111111111111111,\"#46039f\"],[0.2222222222222222,\"#7201a8\"],[0.3333333333333333,\"#9c179e\"],[0.4444444444444444,\"#bd3786\"],[0.5555555555555556,\"#d8576b\"],[0.6666666666666666,\"#ed7953\"],[0.7777777777777778,\"#fb9f3a\"],[0.8888888888888888,\"#fdca26\"],[1.0,\"#f0f921\"]],\"sequentialminus\":[[0.0,\"#0d0887\"],[0.1111111111111111,\"#46039f\"],[0.2222222222222222,\"#7201a8\"],[0.3333333333333333,\"#9c179e\"],[0.4444444444444444,\"#bd3786\"],[0.5555555555555556,\"#d8576b\"],[0.6666666666666666,\"#ed7953\"],[0.7777777777777778,\"#fb9f3a\"],[0.8888888888888888,\"#fdca26\"],[1.0,\"#f0f921\"]],\"diverging\":[[0,\"#8e0152\"],[0.1,\"#c51b7d\"],[0.2,\"#de77ae\"],[0.3,\"#f1b6da\"],[0.4,\"#fde0ef\"],[0.5,\"#f7f7f7\"],[0.6,\"#e6f5d0\"],[0.7,\"#b8e186\"],[0.8,\"#7fbc41\"],[0.9,\"#4d9221\"],[1,\"#276419\"]]},\"xaxis\":{\"gridcolor\":\"white\",\"linecolor\":\"white\",\"ticks\":\"\",\"title\":{\"standoff\":15},\"zerolinecolor\":\"white\",\"automargin\":true,\"zerolinewidth\":2},\"yaxis\":{\"gridcolor\":\"white\",\"linecolor\":\"white\",\"ticks\":\"\",\"title\":{\"standoff\":15},\"zerolinecolor\":\"white\",\"automargin\":true,\"zerolinewidth\":2},\"scene\":{\"xaxis\":{\"backgroundcolor\":\"#E5ECF6\",\"gridcolor\":\"white\",\"linecolor\":\"white\",\"showbackground\":true,\"ticks\":\"\",\"zerolinecolor\":\"white\",\"gridwidth\":2},\"yaxis\":{\"backgroundcolor\":\"#E5ECF6\",\"gridcolor\":\"white\",\"linecolor\":\"white\",\"showbackground\":true,\"ticks\":\"\",\"zerolinecolor\":\"white\",\"gridwidth\":2},\"zaxis\":{\"backgroundcolor\":\"#E5ECF6\",\"gridcolor\":\"white\",\"linecolor\":\"white\",\"showbackground\":true,\"ticks\":\"\",\"zerolinecolor\":\"white\",\"gridwidth\":2}},\"shapedefaults\":{\"line\":{\"color\":\"#2a3f5f\"}},\"annotationdefaults\":{\"arrowcolor\":\"#2a3f5f\",\"arrowhead\":0,\"arrowwidth\":1},\"geo\":{\"bgcolor\":\"white\",\"landcolor\":\"#E5ECF6\",\"subunitcolor\":\"white\",\"showland\":true,\"showlakes\":true,\"lakecolor\":\"white\"},\"title\":{\"x\":0.05},\"mapbox\":{\"style\":\"light\"}}},\"mapbox\":{\"domain\":{\"x\":[0.0,1.0],\"y\":[0.0,1.0]},\"center\":{\"lat\":50,\"lon\":-110},\"zoom\":2,\"style\":\"carto-positron\"},\"coloraxis\":{\"colorbar\":{\"title\":{\"text\":\"Temp\\u00e9rature moyenne\"}},\"colorscale\":[[0.0,\"rgb(247,251,255)\"],[0.125,\"rgb(222,235,247)\"],[0.25,\"rgb(198,219,239)\"],[0.375,\"rgb(158,202,225)\"],[0.5,\"rgb(107,174,214)\"],[0.625,\"rgb(66,146,198)\"],[0.75,\"rgb(33,113,181)\"],[0.875,\"rgb(8,81,156)\"],[1.0,\"rgb(8,48,107)\"]],\"cmin\":30,\"cmax\":65},\"legend\":{\"tracegroupgap\":0},\"title\":{\"text\":\"Evolution de la temp\\u00e9rature moyenne au sol de chaque Etat\"},\"height\":800,\"width\":1100,\"updatemenus\":[{\"buttons\":[{\"args\":[null,{\"frame\":{\"duration\":500,\"redraw\":true},\"mode\":\"immediate\",\"fromcurrent\":true,\"transition\":{\"duration\":500,\"easing\":\"linear\"}}],\"label\":\"&#9654;\",\"method\":\"animate\"},{\"args\":[[null],{\"frame\":{\"duration\":0,\"redraw\":true},\"mode\":\"immediate\",\"fromcurrent\":true,\"transition\":{\"duration\":0,\"easing\":\"linear\"}}],\"label\":\"&#9724;\",\"method\":\"animate\"}],\"direction\":\"left\",\"pad\":{\"r\":10,\"t\":70},\"showactive\":false,\"type\":\"buttons\",\"x\":0.1,\"xanchor\":\"right\",\"y\":0,\"yanchor\":\"top\"}],\"sliders\":[{\"active\":0,\"currentvalue\":{\"prefix\":\"Ann\\u00e9e=\"},\"len\":0.9,\"pad\":{\"b\":10,\"t\":60},\"steps\":[{\"args\":[[\"1992\"],{\"frame\":{\"duration\":0,\"redraw\":true},\"mode\":\"immediate\",\"fromcurrent\":true,\"transition\":{\"duration\":0,\"easing\":\"linear\"}}],\"label\":\"1992\",\"method\":\"animate\"},{\"args\":[[\"1993\"],{\"frame\":{\"duration\":0,\"redraw\":true},\"mode\":\"immediate\",\"fromcurrent\":true,\"transition\":{\"duration\":0,\"easing\":\"linear\"}}],\"label\":\"1993\",\"method\":\"animate\"},{\"args\":[[\"1994\"],{\"frame\":{\"duration\":0,\"redraw\":true},\"mode\":\"immediate\",\"fromcurrent\":true,\"transition\":{\"duration\":0,\"easing\":\"linear\"}}],\"label\":\"1994\",\"method\":\"animate\"},{\"args\":[[\"1995\"],{\"frame\":{\"duration\":0,\"redraw\":true},\"mode\":\"immediate\",\"fromcurrent\":true,\"transition\":{\"duration\":0,\"easing\":\"linear\"}}],\"label\":\"1995\",\"method\":\"animate\"},{\"args\":[[\"1996\"],{\"frame\":{\"duration\":0,\"redraw\":true},\"mode\":\"immediate\",\"fromcurrent\":true,\"transition\":{\"duration\":0,\"easing\":\"linear\"}}],\"label\":\"1996\",\"method\":\"animate\"},{\"args\":[[\"1997\"],{\"frame\":{\"duration\":0,\"redraw\":true},\"mode\":\"immediate\",\"fromcurrent\":true,\"transition\":{\"duration\":0,\"easing\":\"linear\"}}],\"label\":\"1997\",\"method\":\"animate\"},{\"args\":[[\"1998\"],{\"frame\":{\"duration\":0,\"redraw\":true},\"mode\":\"immediate\",\"fromcurrent\":true,\"transition\":{\"duration\":0,\"easing\":\"linear\"}}],\"label\":\"1998\",\"method\":\"animate\"},{\"args\":[[\"1999\"],{\"frame\":{\"duration\":0,\"redraw\":true},\"mode\":\"immediate\",\"fromcurrent\":true,\"transition\":{\"duration\":0,\"easing\":\"linear\"}}],\"label\":\"1999\",\"method\":\"animate\"},{\"args\":[[\"2000\"],{\"frame\":{\"duration\":0,\"redraw\":true},\"mode\":\"immediate\",\"fromcurrent\":true,\"transition\":{\"duration\":0,\"easing\":\"linear\"}}],\"label\":\"2000\",\"method\":\"animate\"},{\"args\":[[\"2001\"],{\"frame\":{\"duration\":0,\"redraw\":true},\"mode\":\"immediate\",\"fromcurrent\":true,\"transition\":{\"duration\":0,\"easing\":\"linear\"}}],\"label\":\"2001\",\"method\":\"animate\"},{\"args\":[[\"2002\"],{\"frame\":{\"duration\":0,\"redraw\":true},\"mode\":\"immediate\",\"fromcurrent\":true,\"transition\":{\"duration\":0,\"easing\":\"linear\"}}],\"label\":\"2002\",\"method\":\"animate\"},{\"args\":[[\"2003\"],{\"frame\":{\"duration\":0,\"redraw\":true},\"mode\":\"immediate\",\"fromcurrent\":true,\"transition\":{\"duration\":0,\"easing\":\"linear\"}}],\"label\":\"2003\",\"method\":\"animate\"},{\"args\":[[\"2004\"],{\"frame\":{\"duration\":0,\"redraw\":true},\"mode\":\"immediate\",\"fromcurrent\":true,\"transition\":{\"duration\":0,\"easing\":\"linear\"}}],\"label\":\"2004\",\"method\":\"animate\"},{\"args\":[[\"2005\"],{\"frame\":{\"duration\":0,\"redraw\":true},\"mode\":\"immediate\",\"fromcurrent\":true,\"transition\":{\"duration\":0,\"easing\":\"linear\"}}],\"label\":\"2005\",\"method\":\"animate\"},{\"args\":[[\"2006\"],{\"frame\":{\"duration\":0,\"redraw\":true},\"mode\":\"immediate\",\"fromcurrent\":true,\"transition\":{\"duration\":0,\"easing\":\"linear\"}}],\"label\":\"2006\",\"method\":\"animate\"},{\"args\":[[\"2007\"],{\"frame\":{\"duration\":0,\"redraw\":true},\"mode\":\"immediate\",\"fromcurrent\":true,\"transition\":{\"duration\":0,\"easing\":\"linear\"}}],\"label\":\"2007\",\"method\":\"animate\"},{\"args\":[[\"2008\"],{\"frame\":{\"duration\":0,\"redraw\":true},\"mode\":\"immediate\",\"fromcurrent\":true,\"transition\":{\"duration\":0,\"easing\":\"linear\"}}],\"label\":\"2008\",\"method\":\"animate\"},{\"args\":[[\"2009\"],{\"frame\":{\"duration\":0,\"redraw\":true},\"mode\":\"immediate\",\"fromcurrent\":true,\"transition\":{\"duration\":0,\"easing\":\"linear\"}}],\"label\":\"2009\",\"method\":\"animate\"},{\"args\":[[\"2010\"],{\"frame\":{\"duration\":0,\"redraw\":true},\"mode\":\"immediate\",\"fromcurrent\":true,\"transition\":{\"duration\":0,\"easing\":\"linear\"}}],\"label\":\"2010\",\"method\":\"animate\"},{\"args\":[[\"2011\"],{\"frame\":{\"duration\":0,\"redraw\":true},\"mode\":\"immediate\",\"fromcurrent\":true,\"transition\":{\"duration\":0,\"easing\":\"linear\"}}],\"label\":\"2011\",\"method\":\"animate\"},{\"args\":[[\"2012\"],{\"frame\":{\"duration\":0,\"redraw\":true},\"mode\":\"immediate\",\"fromcurrent\":true,\"transition\":{\"duration\":0,\"easing\":\"linear\"}}],\"label\":\"2012\",\"method\":\"animate\"},{\"args\":[[\"2013\"],{\"frame\":{\"duration\":0,\"redraw\":true},\"mode\":\"immediate\",\"fromcurrent\":true,\"transition\":{\"duration\":0,\"easing\":\"linear\"}}],\"label\":\"2013\",\"method\":\"animate\"},{\"args\":[[\"2014\"],{\"frame\":{\"duration\":0,\"redraw\":true},\"mode\":\"immediate\",\"fromcurrent\":true,\"transition\":{\"duration\":0,\"easing\":\"linear\"}}],\"label\":\"2014\",\"method\":\"animate\"},{\"args\":[[\"2015\"],{\"frame\":{\"duration\":0,\"redraw\":true},\"mode\":\"immediate\",\"fromcurrent\":true,\"transition\":{\"duration\":0,\"easing\":\"linear\"}}],\"label\":\"2015\",\"method\":\"animate\"}],\"x\":0.1,\"xanchor\":\"left\",\"y\":0,\"yanchor\":\"top\"}]},                        {\"responsive\": true}                    ).then(function(){\n",
       "                            Plotly.addFrames('d4c4e187-159a-49df-88d7-4da0f4cdf6c7', [{\"data\":[{\"coloraxis\":\"coloraxis\",\"customdata\":[[29.20833333333333],[61.75729166666667],[59.864814814814814],[61.93928571428572],[57.39285714285714],[45.07],[47.64722222222222],[53.67916666666667],[71.87619047619047],[62.175],[46.41333333333333],[53.959259259259255],[52.01851851851851],[51.19444444444445],[47.99166666666667],[55.10416666666666],[65.65925925925926],[41.00555555555555],[43.76],[46.144444444444446],[53.21041666666667],[41.52129629629629],[62.76916666666667],[43.37857142857143],[54.98611111111112],[49.37083333333333],[41.23611111111112],[50.150000000000006],[53.75],[51.37222222222223],[52.284375],[44.075],[41.02916666666667],[57.825],[59.34722222222222],[49.855555555555554],[47.71666666666667],[48.39166666666667],[45.45],[56.85208333333333],[65.95333333333333],[49.67023809523809],[40.91944444444445],[49.05166666666667],[54.16944444444445],[51.43472222222223],[42.17583333333334],[43.32407407407408]],\"featureidkey\":\"properties.name\",\"geojson\":\"us-states.json\",\"hovertemplate\":\"<b>%{hovertext}</b><br><br>Ann\\u00e9e=1992<br>Etat=%{location}<br>Temp\\u00e9rature moyenne=%{z}<extra></extra>\",\"hovertext\":[\"Alaska\",\"Alabama\",\"Arkansas\",\"Arizona\",\"California\",\"Colorado\",\"Connecticut\",\"Delaware\",\"Florida\",\"Georgia\",\"Hawaii\",\"Iowa\",\"Idaho\",\"Illinois\",\"Indiana\",\"Kansas\",\"Kentucky\",\"Louisiana\",\"Massachusetts\",\"Maryland\",\"Maine\",\"Michigan\",\"Minnesota\",\"Missouri\",\"Mississippi\",\"Montana\",\"North Carolina\",\"North Dakota\",\"Nebraska\",\"New Hampshire\",\"New Jersey\",\"New Mexico\",\"Nevada\",\"New York\",\"Ohio\",\"Oklahoma\",\"Oregon\",\"Pennsylvania\",\"South Carolina\",\"South Dakota\",\"Tennessee\",\"Texas\",\"Utah\",\"Virginia\",\"Vermont\",\"Washington\",\"Wisconsin\",\"West Virginia\"],\"locations\":[\"Alaska\",\"Alabama\",\"Arkansas\",\"Arizona\",\"California\",\"Colorado\",\"Connecticut\",\"Delaware\",\"Florida\",\"Georgia\",\"Hawaii\",\"Iowa\",\"Idaho\",\"Illinois\",\"Indiana\",\"Kansas\",\"Kentucky\",\"Louisiana\",\"Massachusetts\",\"Maryland\",\"Maine\",\"Michigan\",\"Minnesota\",\"Missouri\",\"Mississippi\",\"Montana\",\"North Carolina\",\"North Dakota\",\"Nebraska\",\"New Hampshire\",\"New Jersey\",\"New Mexico\",\"Nevada\",\"New York\",\"Ohio\",\"Oklahoma\",\"Oregon\",\"Pennsylvania\",\"South Carolina\",\"South Dakota\",\"Tennessee\",\"Texas\",\"Utah\",\"Virginia\",\"Vermont\",\"Washington\",\"Wisconsin\",\"West Virginia\"],\"marker\":{\"opacity\":0.75},\"name\":\"\",\"subplot\":\"mapbox\",\"z\":[29.20833333333333,61.75729166666667,59.864814814814814,61.93928571428572,57.39285714285714,45.07,47.64722222222222,53.67916666666667,71.87619047619047,62.175,46.41333333333333,53.959259259259255,52.01851851851851,51.19444444444445,47.99166666666667,55.10416666666666,65.65925925925926,41.00555555555555,43.76,46.144444444444446,53.21041666666667,41.52129629629629,62.76916666666667,43.37857142857143,54.98611111111112,49.37083333333333,41.23611111111112,50.150000000000006,53.75,51.37222222222223,52.284375,44.075,41.02916666666667,57.825,59.34722222222222,49.855555555555554,47.71666666666667,48.39166666666667,45.45,56.85208333333333,65.95333333333333,49.67023809523809,40.91944444444445,49.05166666666667,54.16944444444445,51.43472222222223,42.17583333333334,43.32407407407408],\"type\":\"choroplethmapbox\"}],\"name\":\"1992\"},{\"data\":[{\"coloraxis\":\"coloraxis\",\"customdata\":[[32.96474358974359],[61.98541666666667],[59.26111111111111],[62.05952380952382],[55.59761904761905],[43.73833333333334],[48.56111111111111],[54.57083333333333],[71.93333333333334],[62.713888888888896],[42.3125],[51.730555555555554],[51.00185185185185],[50.713888888888896],[45.81666666666666],[55.01874999999999],[65.42592592592592],[41.208333333333336],[43.72666666666667],[47.02222222222222],[53.96458333333334],[39.504629629629626],[62.64333333333334],[39.54047619047619],[53.54583333333333],[46.478125],[38.28425925925927],[50.27166666666667],[51.3125],[52.41111111111112],[52.921875],[44.51666666666667],[41.75833333333333],[58.37395833333333],[58.12777777777779],[46.04537037037037],[48.330000000000005],[49.333333333333336],[42.21018518518519],[57.03958333333333],[65.61333333333333],[47.44880952380952],[41.475],[46.20416666666666],[54.825],[52.04027777777778],[38.5275],[42.44166666666666]],\"featureidkey\":\"properties.name\",\"geojson\":\"us-states.json\",\"hovertemplate\":\"<b>%{hovertext}</b><br><br>Ann\\u00e9e=1993<br>Etat=%{location}<br>Temp\\u00e9rature moyenne=%{z}<extra></extra>\",\"hovertext\":[\"Alaska\",\"Alabama\",\"Arkansas\",\"Arizona\",\"California\",\"Colorado\",\"Connecticut\",\"Delaware\",\"Florida\",\"Georgia\",\"Hawaii\",\"Iowa\",\"Idaho\",\"Illinois\",\"Indiana\",\"Kansas\",\"Kentucky\",\"Louisiana\",\"Massachusetts\",\"Maryland\",\"Maine\",\"Michigan\",\"Minnesota\",\"Missouri\",\"Mississippi\",\"Montana\",\"North Carolina\",\"North Dakota\",\"Nebraska\",\"New Hampshire\",\"New Jersey\",\"New Mexico\",\"Nevada\",\"New York\",\"Ohio\",\"Oklahoma\",\"Oregon\",\"Pennsylvania\",\"South Carolina\",\"South Dakota\",\"Tennessee\",\"Texas\",\"Utah\",\"Virginia\",\"Vermont\",\"Washington\",\"Wisconsin\",\"West Virginia\"],\"locations\":[\"Alaska\",\"Alabama\",\"Arkansas\",\"Arizona\",\"California\",\"Colorado\",\"Connecticut\",\"Delaware\",\"Florida\",\"Georgia\",\"Hawaii\",\"Iowa\",\"Idaho\",\"Illinois\",\"Indiana\",\"Kansas\",\"Kentucky\",\"Louisiana\",\"Massachusetts\",\"Maryland\",\"Maine\",\"Michigan\",\"Minnesota\",\"Missouri\",\"Mississippi\",\"Montana\",\"North Carolina\",\"North Dakota\",\"Nebraska\",\"New Hampshire\",\"New Jersey\",\"New Mexico\",\"Nevada\",\"New York\",\"Ohio\",\"Oklahoma\",\"Oregon\",\"Pennsylvania\",\"South Carolina\",\"South Dakota\",\"Tennessee\",\"Texas\",\"Utah\",\"Virginia\",\"Vermont\",\"Washington\",\"Wisconsin\",\"West Virginia\"],\"marker\":{\"opacity\":0.75},\"name\":\"\",\"subplot\":\"mapbox\",\"z\":[32.96474358974359,61.98541666666667,59.26111111111111,62.05952380952382,55.59761904761905,43.73833333333334,48.56111111111111,54.57083333333333,71.93333333333334,62.713888888888896,42.3125,51.730555555555554,51.00185185185185,50.713888888888896,45.81666666666666,55.01874999999999,65.42592592592592,41.208333333333336,43.72666666666667,47.02222222222222,53.96458333333334,39.504629629629626,62.64333333333334,39.54047619047619,53.54583333333333,46.478125,38.28425925925927,50.27166666666667,51.3125,52.41111111111112,52.921875,44.51666666666667,41.75833333333333,58.37395833333333,58.12777777777779,46.04537037037037,48.330000000000005,49.333333333333336,42.21018518518519,57.03958333333333,65.61333333333333,47.44880952380952,41.475,46.20416666666666,54.825,52.04027777777778,38.5275,42.44166666666666],\"type\":\"choroplethmapbox\"}],\"name\":\"1993\"},{\"data\":[{\"coloraxis\":\"coloraxis\",\"customdata\":[[29.892307692307696],[62.70520833333333],[60.367592592592594],[62.74880952380952],[55.86904761904762],[46.47666666666667],[48.79166666666666],[54.63333333333333],[73.16309523809524],[63.07962962962963],[45.719166666666666],[54.71851851851852],[52.12129629629629],[51.41851851851852],[47.62777777777777],[55.42916666666667],[66.3037037037037],[41.72777777777778],[44.2725],[47.36666666666667],[54.07708333333334],[41.48333333333333],[63.509166666666665],[42.634523809523806],[55.17638888888889],[49.59270833333333],[40.00092592592593],[50.333333333333336],[53.32291666666666],[52.38611111111111],[54.18958333333333],[44.6925],[41.958333333333336],[58.62083333333334],[59.75648148148148],[48.14907407407407],[48.1275],[49.55],[61.99404761904762],[44.81296296296296],[57.49375],[67.1075],[50.32619047619048],[41.59722222222222],[48.24],[55.036111111111104],[51.93611111111111],[42.50833333333333],[43.58796296296296]],\"featureidkey\":\"properties.name\",\"geojson\":\"us-states.json\",\"hovertemplate\":\"<b>%{hovertext}</b><br><br>Ann\\u00e9e=1994<br>Etat=%{location}<br>Temp\\u00e9rature moyenne=%{z}<extra></extra>\",\"hovertext\":[\"Alaska\",\"Alabama\",\"Arkansas\",\"Arizona\",\"California\",\"Colorado\",\"Connecticut\",\"Delaware\",\"Florida\",\"Georgia\",\"Hawaii\",\"Iowa\",\"Idaho\",\"Illinois\",\"Indiana\",\"Kansas\",\"Kentucky\",\"Louisiana\",\"Massachusetts\",\"Maryland\",\"Maine\",\"Michigan\",\"Minnesota\",\"Missouri\",\"Mississippi\",\"Montana\",\"North Carolina\",\"North Dakota\",\"Nebraska\",\"New Hampshire\",\"New Jersey\",\"New Mexico\",\"Nevada\",\"New York\",\"Ohio\",\"Oklahoma\",\"Oregon\",\"Pennsylvania\",\"Rhode Island\",\"South Carolina\",\"South Dakota\",\"Tennessee\",\"Texas\",\"Utah\",\"Virginia\",\"Vermont\",\"Washington\",\"Wisconsin\",\"West Virginia\"],\"locations\":[\"Alaska\",\"Alabama\",\"Arkansas\",\"Arizona\",\"California\",\"Colorado\",\"Connecticut\",\"Delaware\",\"Florida\",\"Georgia\",\"Hawaii\",\"Iowa\",\"Idaho\",\"Illinois\",\"Indiana\",\"Kansas\",\"Kentucky\",\"Louisiana\",\"Massachusetts\",\"Maryland\",\"Maine\",\"Michigan\",\"Minnesota\",\"Missouri\",\"Mississippi\",\"Montana\",\"North Carolina\",\"North Dakota\",\"Nebraska\",\"New Hampshire\",\"New Jersey\",\"New Mexico\",\"Nevada\",\"New York\",\"Ohio\",\"Oklahoma\",\"Oregon\",\"Pennsylvania\",\"Rhode Island\",\"South Carolina\",\"South Dakota\",\"Tennessee\",\"Texas\",\"Utah\",\"Virginia\",\"Vermont\",\"Washington\",\"Wisconsin\",\"West Virginia\"],\"marker\":{\"opacity\":0.75},\"name\":\"\",\"subplot\":\"mapbox\",\"z\":[29.892307692307696,62.70520833333333,60.367592592592594,62.74880952380952,55.86904761904762,46.47666666666667,48.79166666666666,54.63333333333333,73.16309523809524,63.07962962962963,45.719166666666666,54.71851851851852,52.12129629629629,51.41851851851852,47.62777777777777,55.42916666666667,66.3037037037037,41.72777777777778,44.2725,47.36666666666667,54.07708333333334,41.48333333333333,63.509166666666665,42.634523809523806,55.17638888888889,49.59270833333333,40.00092592592593,50.333333333333336,53.32291666666666,52.38611111111111,54.18958333333333,44.6925,41.958333333333336,58.62083333333334,59.75648148148148,48.14907407407407,48.1275,49.55,61.99404761904762,44.81296296296296,57.49375,67.1075,50.32619047619048,41.59722222222222,48.24,55.036111111111104,51.93611111111111,42.50833333333333,43.58796296296296],\"type\":\"choroplethmapbox\"}],\"name\":\"1994\"},{\"data\":[{\"coloraxis\":\"coloraxis\",\"customdata\":[[31.03269230769231],[62.66458333333333],[60.45092592592593],[63.286904761904765],[56.85714285714286],[45.685],[48.96666666666667],[54.81666666666667],[72.31666666666666],[62.93796296296296],[45.028333333333336],[53.73703703703704],[51.74074074074074],[51.41481481481481],[47.403703703703705],[55.41666666666666],[66.6287037037037],[42.144444444444446],[44.65583333333333],[47.53055555555556],[54.125],[41.0],[63.5525],[41.69880952380952],[54.7375],[48.98645833333333],[39.65],[50.223333333333336],[53.5],[52.65555555555556],[54.07916666666667],[45.568333333333335],[42.55416666666667],[58.09791666666666],[59.40185185185185],[48.48703703703704],[48.615833333333335],[49.89166666666667],[44.55833333333334],[57.30833333333334],[66.74916666666667],[49.833333333333336],[42.59166666666667],[48.086666666666666],[54.74444444444445],[51.74305555555555],[41.27583333333333],[43.49074074074074]],\"featureidkey\":\"properties.name\",\"geojson\":\"us-states.json\",\"hovertemplate\":\"<b>%{hovertext}</b><br><br>Ann\\u00e9e=1995<br>Etat=%{location}<br>Temp\\u00e9rature moyenne=%{z}<extra></extra>\",\"hovertext\":[\"Alaska\",\"Alabama\",\"Arkansas\",\"Arizona\",\"California\",\"Colorado\",\"Connecticut\",\"Delaware\",\"Florida\",\"Georgia\",\"Hawaii\",\"Iowa\",\"Idaho\",\"Illinois\",\"Indiana\",\"Kansas\",\"Kentucky\",\"Louisiana\",\"Massachusetts\",\"Maryland\",\"Maine\",\"Michigan\",\"Minnesota\",\"Missouri\",\"Mississippi\",\"Montana\",\"North Carolina\",\"North Dakota\",\"Nebraska\",\"New Hampshire\",\"New Jersey\",\"New Mexico\",\"Nevada\",\"New York\",\"Ohio\",\"Oklahoma\",\"Oregon\",\"Pennsylvania\",\"South Carolina\",\"South Dakota\",\"Tennessee\",\"Texas\",\"Utah\",\"Virginia\",\"Vermont\",\"Washington\",\"Wisconsin\",\"West Virginia\"],\"locations\":[\"Alaska\",\"Alabama\",\"Arkansas\",\"Arizona\",\"California\",\"Colorado\",\"Connecticut\",\"Delaware\",\"Florida\",\"Georgia\",\"Hawaii\",\"Iowa\",\"Idaho\",\"Illinois\",\"Indiana\",\"Kansas\",\"Kentucky\",\"Louisiana\",\"Massachusetts\",\"Maryland\",\"Maine\",\"Michigan\",\"Minnesota\",\"Missouri\",\"Mississippi\",\"Montana\",\"North Carolina\",\"North Dakota\",\"Nebraska\",\"New Hampshire\",\"New Jersey\",\"New Mexico\",\"Nevada\",\"New York\",\"Ohio\",\"Oklahoma\",\"Oregon\",\"Pennsylvania\",\"South Carolina\",\"South Dakota\",\"Tennessee\",\"Texas\",\"Utah\",\"Virginia\",\"Vermont\",\"Washington\",\"Wisconsin\",\"West Virginia\"],\"marker\":{\"opacity\":0.75},\"name\":\"\",\"subplot\":\"mapbox\",\"z\":[31.03269230769231,62.66458333333333,60.45092592592593,63.286904761904765,56.85714285714286,45.685,48.96666666666667,54.81666666666667,72.31666666666666,62.93796296296296,45.028333333333336,53.73703703703704,51.74074074074074,51.41481481481481,47.403703703703705,55.41666666666666,66.6287037037037,42.144444444444446,44.65583333333333,47.53055555555556,54.125,41.0,63.5525,41.69880952380952,54.7375,48.98645833333333,39.65,50.223333333333336,53.5,52.65555555555556,54.07916666666667,45.568333333333335,42.55416666666667,58.09791666666666,59.40185185185185,48.48703703703704,48.615833333333335,49.89166666666667,44.55833333333334,57.30833333333334,66.74916666666667,49.833333333333336,42.59166666666667,48.086666666666666,54.74444444444445,51.74305555555555,41.27583333333333,43.49074074074074],\"type\":\"choroplethmapbox\"}],\"name\":\"1995\"},{\"data\":[{\"coloraxis\":\"coloraxis\",\"customdata\":[[28.78333333333333],[61.75104166666667],[59.53518518518519],[64.1452380952381],[57.410714285714285],[45.71],[48.29722222222222],[71.4452380952381],[62.09166666666667],[44.47583333333333],[52.85],[50.27222222222222],[50.0212962962963],[45.35],[54.42916666666667],[65.99722222222222],[42.06944444444444],[43.01583333333334],[47.06111111111111],[52.97916666666666],[38.29537037037037],[62.935],[39.29642857142857],[53.51527777777778],[47.053125],[36.53796296296296],[49.41416666666667],[54.20625],[51.72222222222222],[54.45104166666667],[44.88666666666666],[42.25833333333333],[57.40104166666666],[59.00833333333333],[47.97407407407408],[47.7075],[49.075],[41.57592592592592],[56.40625],[66.985],[50.22142857142857],[42.26388888888889],[46.16916666666666],[50.918055555555554],[40.4925],[41.18796296296296]],\"featureidkey\":\"properties.name\",\"geojson\":\"us-states.json\",\"hovertemplate\":\"<b>%{hovertext}</b><br><br>Ann\\u00e9e=1996<br>Etat=%{location}<br>Temp\\u00e9rature moyenne=%{z}<extra></extra>\",\"hovertext\":[\"Alaska\",\"Alabama\",\"Arkansas\",\"Arizona\",\"California\",\"Colorado\",\"Connecticut\",\"Florida\",\"Georgia\",\"Hawaii\",\"Iowa\",\"Idaho\",\"Illinois\",\"Indiana\",\"Kansas\",\"Kentucky\",\"Louisiana\",\"Massachusetts\",\"Maryland\",\"Maine\",\"Michigan\",\"Minnesota\",\"Missouri\",\"Mississippi\",\"Montana\",\"North Carolina\",\"North Dakota\",\"Nebraska\",\"New Hampshire\",\"New Jersey\",\"New Mexico\",\"Nevada\",\"New York\",\"Ohio\",\"Oklahoma\",\"Oregon\",\"Pennsylvania\",\"South Carolina\",\"South Dakota\",\"Tennessee\",\"Texas\",\"Utah\",\"Virginia\",\"Washington\",\"Wisconsin\",\"West Virginia\"],\"locations\":[\"Alaska\",\"Alabama\",\"Arkansas\",\"Arizona\",\"California\",\"Colorado\",\"Connecticut\",\"Florida\",\"Georgia\",\"Hawaii\",\"Iowa\",\"Idaho\",\"Illinois\",\"Indiana\",\"Kansas\",\"Kentucky\",\"Louisiana\",\"Massachusetts\",\"Maryland\",\"Maine\",\"Michigan\",\"Minnesota\",\"Missouri\",\"Mississippi\",\"Montana\",\"North Carolina\",\"North Dakota\",\"Nebraska\",\"New Hampshire\",\"New Jersey\",\"New Mexico\",\"Nevada\",\"New York\",\"Ohio\",\"Oklahoma\",\"Oregon\",\"Pennsylvania\",\"South Carolina\",\"South Dakota\",\"Tennessee\",\"Texas\",\"Utah\",\"Virginia\",\"Washington\",\"Wisconsin\",\"West Virginia\"],\"marker\":{\"opacity\":0.75},\"name\":\"\",\"subplot\":\"mapbox\",\"z\":[28.78333333333333,61.75104166666667,59.53518518518519,64.1452380952381,57.410714285714285,45.71,48.29722222222222,71.4452380952381,62.09166666666667,44.47583333333333,52.85,50.27222222222222,50.0212962962963,45.35,54.42916666666667,65.99722222222222,42.06944444444444,43.01583333333334,47.06111111111111,52.97916666666666,38.29537037037037,62.935,39.29642857142857,53.51527777777778,47.053125,36.53796296296296,49.41416666666667,54.20625,51.72222222222222,54.45104166666667,44.88666666666666,42.25833333333333,57.40104166666666,59.00833333333333,47.97407407407408,47.7075,49.075,41.57592592592592,56.40625,66.985,50.22142857142857,42.26388888888889,46.16916666666666,50.918055555555554,40.4925,41.18796296296296],\"type\":\"choroplethmapbox\"}],\"name\":\"1996\"},{\"data\":[{\"coloraxis\":\"coloraxis\",\"customdata\":[[31.77435897435897],[61.98020833333334],[59.61944444444445],[62.92380952380952],[57.07261904761905],[44.86333333333334],[48.59166666666667],[54.45416666666667],[72.75357142857143],[62.62777777777777],[44.72916666666666],[53.50925925925926],[51.089814814814815],[50.43888888888889],[47.24166666666667],[54.52916666666667],[65.83703703703704],[41.172222222222224],[43.9625],[47.10277777777778],[53.72604166666667],[41.16574074074074],[62.83166666666667],[42.082142857142856],[54.18472222222223],[49.04791666666667],[40.67592592592592],[49.821666666666665],[53.24166666666667],[52.28888888888889],[52.67916666666667],[44.70583333333334],[41.49583333333333],[57.72291666666667],[58.76203703703704],[48.138888888888886],[48.12083333333334],[49.43333333333334],[44.66481481481481],[56.72291666666666],[65.52333333333333],[48.83571428571429],[41.37777777777777],[47.685833333333335],[54.276388888888896],[51.19861111111111],[40.910833333333336],[43.226851851851855]],\"featureidkey\":\"properties.name\",\"geojson\":\"us-states.json\",\"hovertemplate\":\"<b>%{hovertext}</b><br><br>Ann\\u00e9e=1997<br>Etat=%{location}<br>Temp\\u00e9rature moyenne=%{z}<extra></extra>\",\"hovertext\":[\"Alaska\",\"Alabama\",\"Arkansas\",\"Arizona\",\"California\",\"Colorado\",\"Connecticut\",\"Delaware\",\"Florida\",\"Georgia\",\"Hawaii\",\"Iowa\",\"Idaho\",\"Illinois\",\"Indiana\",\"Kansas\",\"Kentucky\",\"Louisiana\",\"Massachusetts\",\"Maryland\",\"Maine\",\"Michigan\",\"Minnesota\",\"Missouri\",\"Mississippi\",\"Montana\",\"North Carolina\",\"North Dakota\",\"Nebraska\",\"New Hampshire\",\"New Jersey\",\"New Mexico\",\"Nevada\",\"New York\",\"Ohio\",\"Oklahoma\",\"Oregon\",\"Pennsylvania\",\"South Carolina\",\"South Dakota\",\"Tennessee\",\"Texas\",\"Utah\",\"Virginia\",\"Vermont\",\"Washington\",\"Wisconsin\",\"West Virginia\"],\"locations\":[\"Alaska\",\"Alabama\",\"Arkansas\",\"Arizona\",\"California\",\"Colorado\",\"Connecticut\",\"Delaware\",\"Florida\",\"Georgia\",\"Hawaii\",\"Iowa\",\"Idaho\",\"Illinois\",\"Indiana\",\"Kansas\",\"Kentucky\",\"Louisiana\",\"Massachusetts\",\"Maryland\",\"Maine\",\"Michigan\",\"Minnesota\",\"Missouri\",\"Mississippi\",\"Montana\",\"North Carolina\",\"North Dakota\",\"Nebraska\",\"New Hampshire\",\"New Jersey\",\"New Mexico\",\"Nevada\",\"New York\",\"Ohio\",\"Oklahoma\",\"Oregon\",\"Pennsylvania\",\"South Carolina\",\"South Dakota\",\"Tennessee\",\"Texas\",\"Utah\",\"Virginia\",\"Vermont\",\"Washington\",\"Wisconsin\",\"West Virginia\"],\"marker\":{\"opacity\":0.75},\"name\":\"\",\"subplot\":\"mapbox\",\"z\":[31.77435897435897,61.98020833333334,59.61944444444445,62.92380952380952,57.07261904761905,44.86333333333334,48.59166666666667,54.45416666666667,72.75357142857143,62.62777777777777,44.72916666666666,53.50925925925926,51.089814814814815,50.43888888888889,47.24166666666667,54.52916666666667,65.83703703703704,41.172222222222224,43.9625,47.10277777777778,53.72604166666667,41.16574074074074,62.83166666666667,42.082142857142856,54.18472222222223,49.04791666666667,40.67592592592592,49.821666666666665,53.24166666666667,52.28888888888889,52.67916666666667,44.70583333333334,41.49583333333333,57.72291666666667,58.76203703703704,48.138888888888886,48.12083333333334,49.43333333333334,44.66481481481481,56.72291666666666,65.52333333333333,48.83571428571429,41.37777777777777,47.685833333333335,54.276388888888896,51.19861111111111,40.910833333333336,43.226851851851855],\"type\":\"choroplethmapbox\"}],\"name\":\"1997\"},{\"data\":[{\"coloraxis\":\"coloraxis\",\"customdata\":[[31.673076923076923],[64.75416666666666],[63.06111111111111],[61.371428571428574],[54.80952380952382],[46.27166666666667],[51.55],[73.82857142857144],[65.16203703703704],[45.80416666666667],[56.12129629629629],[55.333333333333336],[54.88425925925926],[51.06111111111111],[58.23125],[68.50277777777778],[44.63333333333333],[48.6925],[50.13611111111111],[56.708333333333336],[45.471296296296295],[65.80499999999999],[43.7],[57.69027777777777],[51.15520833333333],[43.24074074074074],[53.9875],[51.62916666666666],[55.31111111111111],[53.90833333333333],[48.6125],[45.3125],[60.46666666666667],[62.11574074074074],[48.21296296296296],[51.85083333333333],[52.01666666666667],[47.19722222222222],[60.03541666666666],[68.54416666666667],[48.88214285714286],[45.425],[48.97333333333333],[57.24305555555555],[54.47083333333333],[42.2775],[47.89074074074074]],\"featureidkey\":\"properties.name\",\"geojson\":\"us-states.json\",\"hovertemplate\":\"<b>%{hovertext}</b><br><br>Ann\\u00e9e=1998<br>Etat=%{location}<br>Temp\\u00e9rature moyenne=%{z}<extra></extra>\",\"hovertext\":[\"Alaska\",\"Alabama\",\"Arkansas\",\"Arizona\",\"California\",\"Colorado\",\"Connecticut\",\"Florida\",\"Georgia\",\"Hawaii\",\"Iowa\",\"Idaho\",\"Illinois\",\"Indiana\",\"Kansas\",\"Kentucky\",\"Louisiana\",\"Massachusetts\",\"Maryland\",\"Maine\",\"Michigan\",\"Minnesota\",\"Missouri\",\"Mississippi\",\"Montana\",\"North Carolina\",\"North Dakota\",\"Nebraska\",\"New Hampshire\",\"New Jersey\",\"New Mexico\",\"Nevada\",\"New York\",\"Ohio\",\"Oklahoma\",\"Oregon\",\"Pennsylvania\",\"South Carolina\",\"South Dakota\",\"Tennessee\",\"Texas\",\"Utah\",\"Virginia\",\"Vermont\",\"Washington\",\"Wisconsin\",\"West Virginia\"],\"locations\":[\"Alaska\",\"Alabama\",\"Arkansas\",\"Arizona\",\"California\",\"Colorado\",\"Connecticut\",\"Florida\",\"Georgia\",\"Hawaii\",\"Iowa\",\"Idaho\",\"Illinois\",\"Indiana\",\"Kansas\",\"Kentucky\",\"Louisiana\",\"Massachusetts\",\"Maryland\",\"Maine\",\"Michigan\",\"Minnesota\",\"Missouri\",\"Mississippi\",\"Montana\",\"North Carolina\",\"North Dakota\",\"Nebraska\",\"New Hampshire\",\"New Jersey\",\"New Mexico\",\"Nevada\",\"New York\",\"Ohio\",\"Oklahoma\",\"Oregon\",\"Pennsylvania\",\"South Carolina\",\"South Dakota\",\"Tennessee\",\"Texas\",\"Utah\",\"Virginia\",\"Vermont\",\"Washington\",\"Wisconsin\",\"West Virginia\"],\"marker\":{\"opacity\":0.75},\"name\":\"\",\"subplot\":\"mapbox\",\"z\":[31.673076923076923,64.75416666666666,63.06111111111111,61.371428571428574,54.80952380952382,46.27166666666667,51.55,73.82857142857144,65.16203703703704,45.80416666666667,56.12129629629629,55.333333333333336,54.88425925925926,51.06111111111111,58.23125,68.50277777777778,44.63333333333333,48.6925,50.13611111111111,56.708333333333336,45.471296296296295,65.80499999999999,43.7,57.69027777777777,51.15520833333333,43.24074074074074,53.9875,51.62916666666666,55.31111111111111,53.90833333333333,48.6125,45.3125,60.46666666666667,62.11574074074074,48.21296296296296,51.85083333333333,52.01666666666667,47.19722222222222,60.03541666666666,68.54416666666667,48.88214285714286,45.425,48.97333333333333,57.24305555555555,54.47083333333333,42.2775,47.89074074074074],\"type\":\"choroplethmapbox\"}],\"name\":\"1998\"},{\"data\":[{\"coloraxis\":\"coloraxis\",\"customdata\":[[28.36858974358974],[63.85520833333333],[62.13703703703703],[63.04880952380952],[55.82857142857143],[46.76500000000001],[50.713888888888896],[56.17083333333333],[72.56666666666666],[63.97037037037037],[44.958333333333336],[55.81481481481482],[53.66481481481481],[53.13333333333333],[49.78148148148148],[57.30416666666667],[67.70833333333333],[44.97777777777778],[46.79833333333334],[49.48333333333333],[55.411458333333336],[44.27407407407407],[64.98083333333334],[43.955952380952375],[56.87916666666666],[51.34166666666667],[42.96759259259259],[52.208333333333336],[53.12708333333333],[54.27222222222222],[54.07916666666667],[47.29333333333333],[44.66666666666666],[59.33020833333333],[61.37685185185185],[47.50555555555556],[50.134166666666665],[51.75],[47.66481481481481],[59.15208333333334],[68.13666666666667],[49.88214285714286],[44.50833333333333],[47.29333333333333],[56.04027777777778],[53.22083333333333],[42.85083333333333],[45.99537037037037]],\"featureidkey\":\"properties.name\",\"geojson\":\"us-states.json\",\"hovertemplate\":\"<b>%{hovertext}</b><br><br>Ann\\u00e9e=1999<br>Etat=%{location}<br>Temp\\u00e9rature moyenne=%{z}<extra></extra>\",\"hovertext\":[\"Alaska\",\"Alabama\",\"Arkansas\",\"Arizona\",\"California\",\"Colorado\",\"Connecticut\",\"Delaware\",\"Florida\",\"Georgia\",\"Hawaii\",\"Iowa\",\"Idaho\",\"Illinois\",\"Indiana\",\"Kansas\",\"Kentucky\",\"Louisiana\",\"Massachusetts\",\"Maryland\",\"Maine\",\"Michigan\",\"Minnesota\",\"Missouri\",\"Mississippi\",\"Montana\",\"North Carolina\",\"North Dakota\",\"Nebraska\",\"New Hampshire\",\"New Jersey\",\"New Mexico\",\"Nevada\",\"New York\",\"Ohio\",\"Oklahoma\",\"Oregon\",\"Pennsylvania\",\"South Carolina\",\"South Dakota\",\"Tennessee\",\"Texas\",\"Utah\",\"Virginia\",\"Vermont\",\"Washington\",\"Wisconsin\",\"West Virginia\"],\"locations\":[\"Alaska\",\"Alabama\",\"Arkansas\",\"Arizona\",\"California\",\"Colorado\",\"Connecticut\",\"Delaware\",\"Florida\",\"Georgia\",\"Hawaii\",\"Iowa\",\"Idaho\",\"Illinois\",\"Indiana\",\"Kansas\",\"Kentucky\",\"Louisiana\",\"Massachusetts\",\"Maryland\",\"Maine\",\"Michigan\",\"Minnesota\",\"Missouri\",\"Mississippi\",\"Montana\",\"North Carolina\",\"North Dakota\",\"Nebraska\",\"New Hampshire\",\"New Jersey\",\"New Mexico\",\"Nevada\",\"New York\",\"Ohio\",\"Oklahoma\",\"Oregon\",\"Pennsylvania\",\"South Carolina\",\"South Dakota\",\"Tennessee\",\"Texas\",\"Utah\",\"Virginia\",\"Vermont\",\"Washington\",\"Wisconsin\",\"West Virginia\"],\"marker\":{\"opacity\":0.75},\"name\":\"\",\"subplot\":\"mapbox\",\"z\":[28.36858974358974,63.85520833333333,62.13703703703703,63.04880952380952,55.82857142857143,46.76500000000001,50.713888888888896,56.17083333333333,72.56666666666666,63.97037037037037,44.958333333333336,55.81481481481482,53.66481481481481,53.13333333333333,49.78148148148148,57.30416666666667,67.70833333333333,44.97777777777778,46.79833333333334,49.48333333333333,55.411458333333336,44.27407407407407,64.98083333333334,43.955952380952375,56.87916666666666,51.34166666666667,42.96759259259259,52.208333333333336,53.12708333333333,54.27222222222222,54.07916666666667,47.29333333333333,44.66666666666666,59.33020833333333,61.37685185185185,47.50555555555556,50.134166666666665,51.75,47.66481481481481,59.15208333333334,68.13666666666667,49.88214285714286,44.50833333333333,47.29333333333333,56.04027777777778,53.22083333333333,42.85083333333333,45.99537037037037],\"type\":\"choroplethmapbox\"}],\"name\":\"1999\"},{\"data\":[{\"coloraxis\":\"coloraxis\",\"customdata\":[[31.509615384615387],[63.21770833333333],[60.8537037037037],[63.88571428571428],[56.67380952380952],[47.02166666666667],[48.452777777777776],[54.41666666666666],[72.12142857142857],[62.855555555555554],[45.153333333333336],[55.36018518518518],[52.31296296296296],[51.5],[48.78518518518519],[55.68333333333333],[67.08518518518518],[42.15833333333333],[45.49916666666667],[47.25],[53.85520833333333],[42.41666666666666],[64.16083333333333],[42.30833333333333],[55.62916666666666],[50.40625],[41.089814814814815],[50.64833333333333],[54.05],[52.40277777777777],[54.96354166666666],[45.21333333333334],[42.22916666666666],[58.040625],[60.3287037037037],[47.74444444444445],[48.57750000000001],[49.44166666666666],[45.81851851851852],[57.86666666666667],[68.0025],[50.833333333333336],[42.11666666666667],[46.65083333333333],[51.96666666666667],[42.1625],[44.51574074074074]],\"featureidkey\":\"properties.name\",\"geojson\":\"us-states.json\",\"hovertemplate\":\"<b>%{hovertext}</b><br><br>Ann\\u00e9e=2000<br>Etat=%{location}<br>Temp\\u00e9rature moyenne=%{z}<extra></extra>\",\"hovertext\":[\"Alaska\",\"Alabama\",\"Arkansas\",\"Arizona\",\"California\",\"Colorado\",\"Connecticut\",\"Delaware\",\"Florida\",\"Georgia\",\"Hawaii\",\"Iowa\",\"Idaho\",\"Illinois\",\"Indiana\",\"Kansas\",\"Kentucky\",\"Louisiana\",\"Massachusetts\",\"Maryland\",\"Maine\",\"Michigan\",\"Minnesota\",\"Missouri\",\"Mississippi\",\"Montana\",\"North Carolina\",\"North Dakota\",\"Nebraska\",\"New Hampshire\",\"New Jersey\",\"New Mexico\",\"Nevada\",\"New York\",\"Ohio\",\"Oklahoma\",\"Oregon\",\"Pennsylvania\",\"South Carolina\",\"South Dakota\",\"Tennessee\",\"Texas\",\"Utah\",\"Virginia\",\"Washington\",\"Wisconsin\",\"West Virginia\"],\"locations\":[\"Alaska\",\"Alabama\",\"Arkansas\",\"Arizona\",\"California\",\"Colorado\",\"Connecticut\",\"Delaware\",\"Florida\",\"Georgia\",\"Hawaii\",\"Iowa\",\"Idaho\",\"Illinois\",\"Indiana\",\"Kansas\",\"Kentucky\",\"Louisiana\",\"Massachusetts\",\"Maryland\",\"Maine\",\"Michigan\",\"Minnesota\",\"Missouri\",\"Mississippi\",\"Montana\",\"North Carolina\",\"North Dakota\",\"Nebraska\",\"New Hampshire\",\"New Jersey\",\"New Mexico\",\"Nevada\",\"New York\",\"Ohio\",\"Oklahoma\",\"Oregon\",\"Pennsylvania\",\"South Carolina\",\"South Dakota\",\"Tennessee\",\"Texas\",\"Utah\",\"Virginia\",\"Washington\",\"Wisconsin\",\"West Virginia\"],\"marker\":{\"opacity\":0.75},\"name\":\"\",\"subplot\":\"mapbox\",\"z\":[31.509615384615387,63.21770833333333,60.8537037037037,63.88571428571428,56.67380952380952,47.02166666666667,48.452777777777776,54.41666666666666,72.12142857142857,62.855555555555554,45.153333333333336,55.36018518518518,52.31296296296296,51.5,48.78518518518519,55.68333333333333,67.08518518518518,42.15833333333333,45.49916666666667,47.25,53.85520833333333,42.41666666666666,64.16083333333333,42.30833333333333,55.62916666666666,50.40625,41.089814814814815,50.64833333333333,54.05,52.40277777777777,54.96354166666666,45.21333333333334,42.22916666666666,58.040625,60.3287037037037,47.74444444444445,48.57750000000001,49.44166666666666,45.81851851851852,57.86666666666667,68.0025,50.833333333333336,42.11666666666667,46.65083333333333,51.96666666666667,42.1625,44.51574074074074],\"type\":\"choroplethmapbox\"}],\"name\":\"2000\"},{\"data\":[{\"coloraxis\":\"coloraxis\",\"customdata\":[[30.825000000000003],[62.70729166666666],[61.16481481481481],[63.44166666666666],[56.96666666666667],[46.81333333333333],[50.17777777777778],[55.8125],[72.41904761904762],[63.40925925925925],[45.54416666666666],[55.7175925925926],[53.50277777777777],[53.09537037037037],[49.208333333333336],[56.63333333333333],[66.49722222222222],[43.74444444444444],[47.23416666666666],[48.83055555555556],[55.06666666666666],[43.56018518518519],[63.6675],[43.59285714285715],[56.3125],[50.77604166666666],[42.281481481481485],[52.2825],[54.12291666666667],[53.85],[54.30104166666666],[47.28583333333333],[43.8375],[59.04479166666667],[60.7925925925926],[48.06851851851852],[50.02333333333333],[51.09166666666667],[46.36111111111112],[58.13125],[67.16083333333334],[50.67261904761904],[44.02777777777777],[47.20916666666667],[52.888888888888886],[42.855],[45.9574074074074]],\"featureidkey\":\"properties.name\",\"geojson\":\"us-states.json\",\"hovertemplate\":\"<b>%{hovertext}</b><br><br>Ann\\u00e9e=2001<br>Etat=%{location}<br>Temp\\u00e9rature moyenne=%{z}<extra></extra>\",\"hovertext\":[\"Alaska\",\"Alabama\",\"Arkansas\",\"Arizona\",\"California\",\"Colorado\",\"Connecticut\",\"Delaware\",\"Florida\",\"Georgia\",\"Hawaii\",\"Iowa\",\"Idaho\",\"Illinois\",\"Indiana\",\"Kansas\",\"Kentucky\",\"Louisiana\",\"Massachusetts\",\"Maryland\",\"Maine\",\"Michigan\",\"Minnesota\",\"Missouri\",\"Mississippi\",\"Montana\",\"North Carolina\",\"North Dakota\",\"Nebraska\",\"New Hampshire\",\"New Jersey\",\"New Mexico\",\"Nevada\",\"New York\",\"Ohio\",\"Oklahoma\",\"Oregon\",\"Pennsylvania\",\"South Carolina\",\"South Dakota\",\"Tennessee\",\"Texas\",\"Utah\",\"Virginia\",\"Washington\",\"Wisconsin\",\"West Virginia\"],\"locations\":[\"Alaska\",\"Alabama\",\"Arkansas\",\"Arizona\",\"California\",\"Colorado\",\"Connecticut\",\"Delaware\",\"Florida\",\"Georgia\",\"Hawaii\",\"Iowa\",\"Idaho\",\"Illinois\",\"Indiana\",\"Kansas\",\"Kentucky\",\"Louisiana\",\"Massachusetts\",\"Maryland\",\"Maine\",\"Michigan\",\"Minnesota\",\"Missouri\",\"Mississippi\",\"Montana\",\"North Carolina\",\"North Dakota\",\"Nebraska\",\"New Hampshire\",\"New Jersey\",\"New Mexico\",\"Nevada\",\"New York\",\"Ohio\",\"Oklahoma\",\"Oregon\",\"Pennsylvania\",\"South Carolina\",\"South Dakota\",\"Tennessee\",\"Texas\",\"Utah\",\"Virginia\",\"Washington\",\"Wisconsin\",\"West Virginia\"],\"marker\":{\"opacity\":0.75},\"name\":\"\",\"subplot\":\"mapbox\",\"z\":[30.825000000000003,62.70729166666666,61.16481481481481,63.44166666666666,56.96666666666667,46.81333333333333,50.17777777777778,55.8125,72.41904761904762,63.40925925925925,45.54416666666666,55.7175925925926,53.50277777777777,53.09537037037037,49.208333333333336,56.63333333333333,66.49722222222222,43.74444444444444,47.23416666666666,48.83055555555556,55.06666666666666,43.56018518518519,63.6675,43.59285714285715,56.3125,50.77604166666666,42.281481481481485,52.2825,54.12291666666667,53.85,54.30104166666666,47.28583333333333,43.8375,59.04479166666667,60.7925925925926,48.06851851851852,50.02333333333333,51.09166666666667,46.36111111111112,58.13125,67.16083333333334,50.67261904761904,44.02777777777777,47.20916666666667,52.888888888888886,42.855,45.9574074074074],\"type\":\"choroplethmapbox\"}],\"name\":\"2001\"},{\"data\":[{\"coloraxis\":\"coloraxis\",\"customdata\":[[32.73141025641026],[63.25416666666666],[60.52037037037038],[63.42619047619048],[56.705952380952375],[46.14666666666667],[50.42499999999999],[56.8],[72.8547619047619],[63.84444444444444],[44.33416666666667],[55.03240740740741],[53.36666666666667],[53.05185185185186],[49.31203703703704],[56.87291666666667],[66.49537037037037],[42.975],[46.22583333333333],[49.06388888888889],[56.005208333333336],[42.73611111111112],[63.9175],[41.39047619047619],[55.80555555555555],[50.51770833333333],[41.037962962962965],[52.432500000000005],[53.42916666666667],[54.51111111111111],[54.15729166666667],[47.1875],[43.725],[59.59583333333333],[59.44166666666666],[48.05833333333334],[50.43666666666667],[51.15833333333333],[46.03703703703704],[58.59791666666666],[66.60083333333334],[49.50952380952381],[43.888888888888886],[47.325],[56.327777777777776],[53.456944444444446],[40.96833333333333],[45.31018518518519]],\"featureidkey\":\"properties.name\",\"geojson\":\"us-states.json\",\"hovertemplate\":\"<b>%{hovertext}</b><br><br>Ann\\u00e9e=2002<br>Etat=%{location}<br>Temp\\u00e9rature moyenne=%{z}<extra></extra>\",\"hovertext\":[\"Alaska\",\"Alabama\",\"Arkansas\",\"Arizona\",\"California\",\"Colorado\",\"Connecticut\",\"Delaware\",\"Florida\",\"Georgia\",\"Hawaii\",\"Iowa\",\"Idaho\",\"Illinois\",\"Indiana\",\"Kansas\",\"Kentucky\",\"Louisiana\",\"Massachusetts\",\"Maryland\",\"Maine\",\"Michigan\",\"Minnesota\",\"Missouri\",\"Mississippi\",\"Montana\",\"North Carolina\",\"North Dakota\",\"Nebraska\",\"New Hampshire\",\"New Jersey\",\"New Mexico\",\"Nevada\",\"New York\",\"Ohio\",\"Oklahoma\",\"Oregon\",\"Pennsylvania\",\"South Carolina\",\"South Dakota\",\"Tennessee\",\"Texas\",\"Utah\",\"Virginia\",\"Vermont\",\"Washington\",\"Wisconsin\",\"West Virginia\"],\"locations\":[\"Alaska\",\"Alabama\",\"Arkansas\",\"Arizona\",\"California\",\"Colorado\",\"Connecticut\",\"Delaware\",\"Florida\",\"Georgia\",\"Hawaii\",\"Iowa\",\"Idaho\",\"Illinois\",\"Indiana\",\"Kansas\",\"Kentucky\",\"Louisiana\",\"Massachusetts\",\"Maryland\",\"Maine\",\"Michigan\",\"Minnesota\",\"Missouri\",\"Mississippi\",\"Montana\",\"North Carolina\",\"North Dakota\",\"Nebraska\",\"New Hampshire\",\"New Jersey\",\"New Mexico\",\"Nevada\",\"New York\",\"Ohio\",\"Oklahoma\",\"Oregon\",\"Pennsylvania\",\"South Carolina\",\"South Dakota\",\"Tennessee\",\"Texas\",\"Utah\",\"Virginia\",\"Vermont\",\"Washington\",\"Wisconsin\",\"West Virginia\"],\"marker\":{\"opacity\":0.75},\"name\":\"\",\"subplot\":\"mapbox\",\"z\":[32.73141025641026,63.25416666666666,60.52037037037038,63.42619047619048,56.705952380952375,46.14666666666667,50.42499999999999,56.8,72.8547619047619,63.84444444444444,44.33416666666667,55.03240740740741,53.36666666666667,53.05185185185186,49.31203703703704,56.87291666666667,66.49537037037037,42.975,46.22583333333333,49.06388888888889,56.005208333333336,42.73611111111112,63.9175,41.39047619047619,55.80555555555555,50.51770833333333,41.037962962962965,52.432500000000005,53.42916666666667,54.51111111111111,54.15729166666667,47.1875,43.725,59.59583333333333,59.44166666666666,48.05833333333334,50.43666666666667,51.15833333333333,46.03703703703704,58.59791666666666,66.60083333333334,49.50952380952381,43.888888888888886,47.325,56.327777777777776,53.456944444444446,40.96833333333333,45.31018518518519],\"type\":\"choroplethmapbox\"}],\"name\":\"2002\"},{\"data\":[{\"coloraxis\":\"coloraxis\",\"customdata\":[[32.241025641025644],[62.4125],[60.239814814814814],[64.11071428571428],[57.35833333333333],[47.03666666666667],[48.13055555555556],[54.2],[72.50952380952381],[62.78055555555556],[46.74583333333334],[54.78611111111112],[51.83240740740741],[51.01203703703703],[48.04537037037037],[55.24791666666667],[66.22037037037038],[41.65],[44.4475],[46.88333333333333],[53.65416666666667],[42.10925925925926],[63.2],[43.28809523809523],[54.97638888888889],[50.1875],[40.80277777777778],[50.1],[54.74583333333334],[52.03055555555556],[55.253125],[44.85333333333333],[41.7875],[58.35104166666667],[59.882407407407406],[49.2962962962963],[48.09],[48.975],[45.93888888888889],[57.38125],[66.90416666666667],[51.20357142857143],[41.74722222222222],[48.5725],[54.68333333333334],[51.76527777777778],[42.67333333333334],[43.8074074074074]],\"featureidkey\":\"properties.name\",\"geojson\":\"us-states.json\",\"hovertemplate\":\"<b>%{hovertext}</b><br><br>Ann\\u00e9e=2003<br>Etat=%{location}<br>Temp\\u00e9rature moyenne=%{z}<extra></extra>\",\"hovertext\":[\"Alaska\",\"Alabama\",\"Arkansas\",\"Arizona\",\"California\",\"Colorado\",\"Connecticut\",\"Delaware\",\"Florida\",\"Georgia\",\"Hawaii\",\"Iowa\",\"Idaho\",\"Illinois\",\"Indiana\",\"Kansas\",\"Kentucky\",\"Louisiana\",\"Massachusetts\",\"Maryland\",\"Maine\",\"Michigan\",\"Minnesota\",\"Missouri\",\"Mississippi\",\"Montana\",\"North Carolina\",\"North Dakota\",\"Nebraska\",\"New Hampshire\",\"New Jersey\",\"New Mexico\",\"Nevada\",\"New York\",\"Ohio\",\"Oklahoma\",\"Oregon\",\"Pennsylvania\",\"South Carolina\",\"South Dakota\",\"Tennessee\",\"Texas\",\"Utah\",\"Virginia\",\"Vermont\",\"Washington\",\"Wisconsin\",\"West Virginia\"],\"locations\":[\"Alaska\",\"Alabama\",\"Arkansas\",\"Arizona\",\"California\",\"Colorado\",\"Connecticut\",\"Delaware\",\"Florida\",\"Georgia\",\"Hawaii\",\"Iowa\",\"Idaho\",\"Illinois\",\"Indiana\",\"Kansas\",\"Kentucky\",\"Louisiana\",\"Massachusetts\",\"Maryland\",\"Maine\",\"Michigan\",\"Minnesota\",\"Missouri\",\"Mississippi\",\"Montana\",\"North Carolina\",\"North Dakota\",\"Nebraska\",\"New Hampshire\",\"New Jersey\",\"New Mexico\",\"Nevada\",\"New York\",\"Ohio\",\"Oklahoma\",\"Oregon\",\"Pennsylvania\",\"South Carolina\",\"South Dakota\",\"Tennessee\",\"Texas\",\"Utah\",\"Virginia\",\"Vermont\",\"Washington\",\"Wisconsin\",\"West Virginia\"],\"marker\":{\"opacity\":0.75},\"name\":\"\",\"subplot\":\"mapbox\",\"z\":[32.241025641025644,62.4125,60.239814814814814,64.11071428571428,57.35833333333333,47.03666666666667,48.13055555555556,54.2,72.50952380952381,62.78055555555556,46.74583333333334,54.78611111111112,51.83240740740741,51.01203703703703,48.04537037037037,55.24791666666667,66.22037037037038,41.65,44.4475,46.88333333333333,53.65416666666667,42.10925925925926,63.2,43.28809523809523,54.97638888888889,50.1875,40.80277777777778,50.1,54.74583333333334,52.03055555555556,55.253125,44.85333333333333,41.7875,58.35104166666667,59.882407407407406,49.2962962962963,48.09,48.975,45.93888888888889,57.38125,66.90416666666667,51.20357142857143,41.74722222222222,48.5725,54.68333333333334,51.76527777777778,42.67333333333334,43.8074074074074],\"type\":\"choroplethmapbox\"}],\"name\":\"2003\"},{\"data\":[{\"coloraxis\":\"coloraxis\",\"customdata\":[[32.550000000000004],[63.03854166666667],[61.01574074074074],[62.67380952380952],[56.83690476190477],[45.88],[48.69722222222222],[55.41666666666666],[72.33095238095238],[63.47222222222223],[45.55083333333334],[54.87314814814815],[52.70648148148148],[52.15185185185185],[48.65277777777778],[56.427083333333336],[67.00092592592593],[41.64444444444444],[45.07749999999999],[47.35],[54.896875],[42.04074074074074],[63.973333333333336],[42.76666666666667],[55.4875],[50.21979166666667],[40.57592592592592],[51.21416666666667],[53.375],[53.19722222222222],[53.29895833333333],[45.47666666666667],[42.1875],[59.0],[60.165740740740745],[48.85092592592593],[49.2],[49.325],[46.20462962962963],[58.375],[66.83416666666666],[49.38095238095238],[42.144444444444446],[48.85916666666666],[55.67361111111112],[52.90416666666667],[42.134166666666665],[44.20277777777778]],\"featureidkey\":\"properties.name\",\"geojson\":\"us-states.json\",\"hovertemplate\":\"<b>%{hovertext}</b><br><br>Ann\\u00e9e=2004<br>Etat=%{location}<br>Temp\\u00e9rature moyenne=%{z}<extra></extra>\",\"hovertext\":[\"Alaska\",\"Alabama\",\"Arkansas\",\"Arizona\",\"California\",\"Colorado\",\"Connecticut\",\"Delaware\",\"Florida\",\"Georgia\",\"Hawaii\",\"Iowa\",\"Idaho\",\"Illinois\",\"Indiana\",\"Kansas\",\"Kentucky\",\"Louisiana\",\"Massachusetts\",\"Maryland\",\"Maine\",\"Michigan\",\"Minnesota\",\"Missouri\",\"Mississippi\",\"Montana\",\"North Carolina\",\"North Dakota\",\"Nebraska\",\"New Hampshire\",\"New Jersey\",\"New Mexico\",\"Nevada\",\"New York\",\"Ohio\",\"Oklahoma\",\"Oregon\",\"Pennsylvania\",\"South Carolina\",\"South Dakota\",\"Tennessee\",\"Texas\",\"Utah\",\"Virginia\",\"Vermont\",\"Washington\",\"Wisconsin\",\"West Virginia\"],\"locations\":[\"Alaska\",\"Alabama\",\"Arkansas\",\"Arizona\",\"California\",\"Colorado\",\"Connecticut\",\"Delaware\",\"Florida\",\"Georgia\",\"Hawaii\",\"Iowa\",\"Idaho\",\"Illinois\",\"Indiana\",\"Kansas\",\"Kentucky\",\"Louisiana\",\"Massachusetts\",\"Maryland\",\"Maine\",\"Michigan\",\"Minnesota\",\"Missouri\",\"Mississippi\",\"Montana\",\"North Carolina\",\"North Dakota\",\"Nebraska\",\"New Hampshire\",\"New Jersey\",\"New Mexico\",\"Nevada\",\"New York\",\"Ohio\",\"Oklahoma\",\"Oregon\",\"Pennsylvania\",\"South Carolina\",\"South Dakota\",\"Tennessee\",\"Texas\",\"Utah\",\"Virginia\",\"Vermont\",\"Washington\",\"Wisconsin\",\"West Virginia\"],\"marker\":{\"opacity\":0.75},\"name\":\"\",\"subplot\":\"mapbox\",\"z\":[32.550000000000004,63.03854166666667,61.01574074074074,62.67380952380952,56.83690476190477,45.88,48.69722222222222,55.41666666666666,72.33095238095238,63.47222222222223,45.55083333333334,54.87314814814815,52.70648148148148,52.15185185185185,48.65277777777778,56.427083333333336,67.00092592592593,41.64444444444444,45.07749999999999,47.35,54.896875,42.04074074074074,63.973333333333336,42.76666666666667,55.4875,50.21979166666667,40.57592592592592,51.21416666666667,53.375,53.19722222222222,53.29895833333333,45.47666666666667,42.1875,59.0,60.165740740740745,48.85092592592593,49.2,49.325,46.20462962962963,58.375,66.83416666666666,49.38095238095238,42.144444444444446,48.85916666666666,55.67361111111112,52.90416666666667,42.134166666666665,44.20277777777778],\"type\":\"choroplethmapbox\"}],\"name\":\"2004\"},{\"data\":[{\"coloraxis\":\"coloraxis\",\"customdata\":[[32.58974358974359],[63.08645833333333],[61.95],[63.31309523809524],[56.56309523809524],[46.88333333333333],[49.43888888888889],[55.47083333333333],[72.31666666666668],[63.3],[44.93083333333333],[55.715740740740735],[53.834259259259255],[52.770370370370365],[49.76203703703704],[56.81458333333333],[67.3851851851852],[42.94722222222222],[46.50333333333333],[48.14166666666667],[54.88333333333333],[43.68888888888889],[64.24666666666667],[42.975],[56.72222222222222],[51.192708333333336],[42.43611111111111],[51.66583333333333],[53.22291666666666],[53.59722222222222],[54.50104166666667],[46.57333333333333],[43.34166666666667],[59.06979166666667],[60.86018518518518],[48.10833333333333],[49.6475],[50.083333333333336],[62.3154761904762],[47.19074074074074],[58.59583333333333],[67.56083333333333],[49.96428571428572],[43.65277777777778],[47.87583333333333],[55.69583333333333],[52.951388888888886],[42.501666666666665],[45.66018518518519]],\"featureidkey\":\"properties.name\",\"geojson\":\"us-states.json\",\"hovertemplate\":\"<b>%{hovertext}</b><br><br>Ann\\u00e9e=2005<br>Etat=%{location}<br>Temp\\u00e9rature moyenne=%{z}<extra></extra>\",\"hovertext\":[\"Alaska\",\"Alabama\",\"Arkansas\",\"Arizona\",\"California\",\"Colorado\",\"Connecticut\",\"Delaware\",\"Florida\",\"Georgia\",\"Hawaii\",\"Iowa\",\"Idaho\",\"Illinois\",\"Indiana\",\"Kansas\",\"Kentucky\",\"Louisiana\",\"Massachusetts\",\"Maryland\",\"Maine\",\"Michigan\",\"Minnesota\",\"Missouri\",\"Mississippi\",\"Montana\",\"North Carolina\",\"North Dakota\",\"Nebraska\",\"New Hampshire\",\"New Jersey\",\"New Mexico\",\"Nevada\",\"New York\",\"Ohio\",\"Oklahoma\",\"Oregon\",\"Pennsylvania\",\"Rhode Island\",\"South Carolina\",\"South Dakota\",\"Tennessee\",\"Texas\",\"Utah\",\"Virginia\",\"Vermont\",\"Washington\",\"Wisconsin\",\"West Virginia\"],\"locations\":[\"Alaska\",\"Alabama\",\"Arkansas\",\"Arizona\",\"California\",\"Colorado\",\"Connecticut\",\"Delaware\",\"Florida\",\"Georgia\",\"Hawaii\",\"Iowa\",\"Idaho\",\"Illinois\",\"Indiana\",\"Kansas\",\"Kentucky\",\"Louisiana\",\"Massachusetts\",\"Maryland\",\"Maine\",\"Michigan\",\"Minnesota\",\"Missouri\",\"Mississippi\",\"Montana\",\"North Carolina\",\"North Dakota\",\"Nebraska\",\"New Hampshire\",\"New Jersey\",\"New Mexico\",\"Nevada\",\"New York\",\"Ohio\",\"Oklahoma\",\"Oregon\",\"Pennsylvania\",\"Rhode Island\",\"South Carolina\",\"South Dakota\",\"Tennessee\",\"Texas\",\"Utah\",\"Virginia\",\"Vermont\",\"Washington\",\"Wisconsin\",\"West Virginia\"],\"marker\":{\"opacity\":0.75},\"name\":\"\",\"subplot\":\"mapbox\",\"z\":[32.58974358974359,63.08645833333333,61.95,63.31309523809524,56.56309523809524,46.88333333333333,49.43888888888889,55.47083333333333,72.31666666666668,63.3,44.93083333333333,55.715740740740735,53.834259259259255,52.770370370370365,49.76203703703704,56.81458333333333,67.3851851851852,42.94722222222222,46.50333333333333,48.14166666666667,54.88333333333333,43.68888888888889,64.24666666666667,42.975,56.72222222222222,51.192708333333336,42.43611111111111,51.66583333333333,53.22291666666666,53.59722222222222,54.50104166666667,46.57333333333333,43.34166666666667,59.06979166666667,60.86018518518518,48.10833333333333,49.6475,50.083333333333336,62.3154761904762,47.19074074074074,58.59583333333333,67.56083333333333,49.96428571428572,43.65277777777778,47.87583333333333,55.69583333333333,52.951388888888886,42.501666666666665,45.66018518518519],\"type\":\"choroplethmapbox\"}],\"name\":\"2005\"},{\"data\":[{\"coloraxis\":\"coloraxis\",\"customdata\":[[29.700000000000003],[63.86041666666667],[61.97407407407408],[63.42380952380952],[56.535714285714285],[46.67],[51.07222222222222],[72.74166666666666],[64.03703703703704],[45.642500000000005],[56.68611111111111],[54.132407407407406],[53.345370370370375],[50.547222222222224],[56.85208333333333],[67.62314814814815],[45.08888888888888],[47.4475],[49.85833333333333],[56.175],[44.915740740740745],[64.7225],[44.25],[57.18611111111111],[51.621875],[43.88425925925926],[52.61416666666667],[53.39166666666666],[55.15],[54.49791666666667],[47.9625],[45.12083333333334],[59.484375],[62.16759259259259],[48.2712962962963],[50.95333333333334],[51.84166666666667],[62.89166666666667],[47.9537037037037],[58.76875],[68.585],[49.89166666666667],[45.29722222222222],[47.94583333333333],[56.35138888888889],[53.270833333333336],[42.92249999999999],[46.55648148148149]],\"featureidkey\":\"properties.name\",\"geojson\":\"us-states.json\",\"hovertemplate\":\"<b>%{hovertext}</b><br><br>Ann\\u00e9e=2006<br>Etat=%{location}<br>Temp\\u00e9rature moyenne=%{z}<extra></extra>\",\"hovertext\":[\"Alaska\",\"Alabama\",\"Arkansas\",\"Arizona\",\"California\",\"Colorado\",\"Connecticut\",\"Florida\",\"Georgia\",\"Hawaii\",\"Iowa\",\"Idaho\",\"Illinois\",\"Indiana\",\"Kansas\",\"Kentucky\",\"Louisiana\",\"Massachusetts\",\"Maryland\",\"Maine\",\"Michigan\",\"Minnesota\",\"Missouri\",\"Mississippi\",\"Montana\",\"North Carolina\",\"North Dakota\",\"Nebraska\",\"New Hampshire\",\"New Jersey\",\"New Mexico\",\"Nevada\",\"New York\",\"Ohio\",\"Oklahoma\",\"Oregon\",\"Pennsylvania\",\"Rhode Island\",\"South Carolina\",\"South Dakota\",\"Tennessee\",\"Texas\",\"Utah\",\"Virginia\",\"Vermont\",\"Washington\",\"Wisconsin\",\"West Virginia\"],\"locations\":[\"Alaska\",\"Alabama\",\"Arkansas\",\"Arizona\",\"California\",\"Colorado\",\"Connecticut\",\"Florida\",\"Georgia\",\"Hawaii\",\"Iowa\",\"Idaho\",\"Illinois\",\"Indiana\",\"Kansas\",\"Kentucky\",\"Louisiana\",\"Massachusetts\",\"Maryland\",\"Maine\",\"Michigan\",\"Minnesota\",\"Missouri\",\"Mississippi\",\"Montana\",\"North Carolina\",\"North Dakota\",\"Nebraska\",\"New Hampshire\",\"New Jersey\",\"New Mexico\",\"Nevada\",\"New York\",\"Ohio\",\"Oklahoma\",\"Oregon\",\"Pennsylvania\",\"Rhode Island\",\"South Carolina\",\"South Dakota\",\"Tennessee\",\"Texas\",\"Utah\",\"Virginia\",\"Vermont\",\"Washington\",\"Wisconsin\",\"West Virginia\"],\"marker\":{\"opacity\":0.75},\"name\":\"\",\"subplot\":\"mapbox\",\"z\":[29.700000000000003,63.86041666666667,61.97407407407408,63.42380952380952,56.535714285714285,46.67,51.07222222222222,72.74166666666666,64.03703703703704,45.642500000000005,56.68611111111111,54.132407407407406,53.345370370370375,50.547222222222224,56.85208333333333,67.62314814814815,45.08888888888888,47.4475,49.85833333333333,56.175,44.915740740740745,64.7225,44.25,57.18611111111111,51.621875,43.88425925925926,52.61416666666667,53.39166666666666,55.15,54.49791666666667,47.9625,45.12083333333334,59.484375,62.16759259259259,48.2712962962963,50.95333333333334,51.84166666666667,62.89166666666667,47.9537037037037,58.76875,68.585,49.89166666666667,45.29722222222222,47.94583333333333,56.35138888888889,53.270833333333336,42.92249999999999,46.55648148148149],\"type\":\"choroplethmapbox\"}],\"name\":\"2006\"},{\"data\":[{\"coloraxis\":\"coloraxis\",\"customdata\":[[30.784615384615385],[64.159375],[61.75925925925926],[63.87857142857143],[56.75714285714286],[46.09],[49.48333333333334],[55.98333333333334],[73.27857142857142],[64.33148148148148],[46.05666666666667],[54.90833333333333],[53.81296296296296],[53.22592592592593],[49.04166666666666],[57.76041666666666],[67.23611111111111],[41.97222222222222],[46.56583333333333],[48.047222222222224],[55.36770833333333],[43.02314814814815],[64.94333333333334],[43.945238095238096],[56.730555555555554],[50.34166666666667],[41.763888888888886],[52.13166666666667],[54.145833333333336],[53.77777777777778],[53.989583333333336],[45.98083333333333],[42.275],[60.15],[60.06944444444445],[47.97314814814814],[49.64666666666667],[50.275],[63.56309523809524],[46.64259259259259],[59.80416666666667],[66.415],[50.61904761904762],[42.516666666666666],[47.19416666666667],[56.53333333333333],[53.46944444444444],[42.994166666666665],[45.36388888888889]],\"featureidkey\":\"properties.name\",\"geojson\":\"us-states.json\",\"hovertemplate\":\"<b>%{hovertext}</b><br><br>Ann\\u00e9e=2007<br>Etat=%{location}<br>Temp\\u00e9rature moyenne=%{z}<extra></extra>\",\"hovertext\":[\"Alaska\",\"Alabama\",\"Arkansas\",\"Arizona\",\"California\",\"Colorado\",\"Connecticut\",\"Delaware\",\"Florida\",\"Georgia\",\"Hawaii\",\"Iowa\",\"Idaho\",\"Illinois\",\"Indiana\",\"Kansas\",\"Kentucky\",\"Louisiana\",\"Massachusetts\",\"Maryland\",\"Maine\",\"Michigan\",\"Minnesota\",\"Missouri\",\"Mississippi\",\"Montana\",\"North Carolina\",\"North Dakota\",\"Nebraska\",\"New Hampshire\",\"New Jersey\",\"New Mexico\",\"Nevada\",\"New York\",\"Ohio\",\"Oklahoma\",\"Oregon\",\"Pennsylvania\",\"Rhode Island\",\"South Carolina\",\"South Dakota\",\"Tennessee\",\"Texas\",\"Utah\",\"Virginia\",\"Vermont\",\"Washington\",\"Wisconsin\",\"West Virginia\"],\"locations\":[\"Alaska\",\"Alabama\",\"Arkansas\",\"Arizona\",\"California\",\"Colorado\",\"Connecticut\",\"Delaware\",\"Florida\",\"Georgia\",\"Hawaii\",\"Iowa\",\"Idaho\",\"Illinois\",\"Indiana\",\"Kansas\",\"Kentucky\",\"Louisiana\",\"Massachusetts\",\"Maryland\",\"Maine\",\"Michigan\",\"Minnesota\",\"Missouri\",\"Mississippi\",\"Montana\",\"North Carolina\",\"North Dakota\",\"Nebraska\",\"New Hampshire\",\"New Jersey\",\"New Mexico\",\"Nevada\",\"New York\",\"Ohio\",\"Oklahoma\",\"Oregon\",\"Pennsylvania\",\"Rhode Island\",\"South Carolina\",\"South Dakota\",\"Tennessee\",\"Texas\",\"Utah\",\"Virginia\",\"Vermont\",\"Washington\",\"Wisconsin\",\"West Virginia\"],\"marker\":{\"opacity\":0.75},\"name\":\"\",\"subplot\":\"mapbox\",\"z\":[30.784615384615385,64.159375,61.75925925925926,63.87857142857143,56.75714285714286,46.09,49.48333333333334,55.98333333333334,73.27857142857142,64.33148148148148,46.05666666666667,54.90833333333333,53.81296296296296,53.22592592592593,49.04166666666666,57.76041666666666,67.23611111111111,41.97222222222222,46.56583333333333,48.047222222222224,55.36770833333333,43.02314814814815,64.94333333333334,43.945238095238096,56.730555555555554,50.34166666666667,41.763888888888886,52.13166666666667,54.145833333333336,53.77777777777778,53.989583333333336,45.98083333333333,42.275,60.15,60.06944444444445,47.97314814814814,49.64666666666667,50.275,63.56309523809524,46.64259259259259,59.80416666666667,66.415,50.61904761904762,42.516666666666666,47.19416666666667,56.53333333333333,53.46944444444444,42.994166666666665,45.36388888888889],\"type\":\"choroplethmapbox\"}],\"name\":\"2007\"},{\"data\":[{\"coloraxis\":\"coloraxis\",\"customdata\":[[28.50448717948718],[62.60625],[59.82222222222222],[62.97976190476191],[56.78333333333333],[44.973333333333336],[49.63611111111111],[72.38928571428572],[62.96759259259259],[43.869166666666665],[53.35],[51.0712962962963],[50.98888888888889],[46.07592592592592],[55.39166666666667],[66.48148148148148],[42.85833333333333],[44.54750000000001],[48.394444444444446],[54.97604166666667],[40.04444444444445],[63.25833333333333],[41.305952380952384],[54.013888888888886],[48.08645833333333],[39.33055555555556],[50.528333333333336],[53.0875],[53.825],[53.415625],[46.1775],[43.1125],[58.90625],[59.58240740740741],[47.08240740740741],[49.05583333333333],[50.76666666666667],[62.14642857142857],[43.742592592592594],[57.5],[67.10333333333334],[48.72738095238095],[43.3],[46.17666666666667],[55.43888888888889],[51.96111111111111],[40.3525],[42.47685185185185]],\"featureidkey\":\"properties.name\",\"geojson\":\"us-states.json\",\"hovertemplate\":\"<b>%{hovertext}</b><br><br>Ann\\u00e9e=2008<br>Etat=%{location}<br>Temp\\u00e9rature moyenne=%{z}<extra></extra>\",\"hovertext\":[\"Alaska\",\"Alabama\",\"Arkansas\",\"Arizona\",\"California\",\"Colorado\",\"Connecticut\",\"Florida\",\"Georgia\",\"Hawaii\",\"Iowa\",\"Idaho\",\"Illinois\",\"Indiana\",\"Kansas\",\"Kentucky\",\"Louisiana\",\"Massachusetts\",\"Maryland\",\"Maine\",\"Michigan\",\"Minnesota\",\"Missouri\",\"Mississippi\",\"Montana\",\"North Carolina\",\"North Dakota\",\"Nebraska\",\"New Hampshire\",\"New Jersey\",\"New Mexico\",\"Nevada\",\"New York\",\"Ohio\",\"Oklahoma\",\"Oregon\",\"Pennsylvania\",\"Rhode Island\",\"South Carolina\",\"South Dakota\",\"Tennessee\",\"Texas\",\"Utah\",\"Virginia\",\"Vermont\",\"Washington\",\"Wisconsin\",\"West Virginia\"],\"locations\":[\"Alaska\",\"Alabama\",\"Arkansas\",\"Arizona\",\"California\",\"Colorado\",\"Connecticut\",\"Florida\",\"Georgia\",\"Hawaii\",\"Iowa\",\"Idaho\",\"Illinois\",\"Indiana\",\"Kansas\",\"Kentucky\",\"Louisiana\",\"Massachusetts\",\"Maryland\",\"Maine\",\"Michigan\",\"Minnesota\",\"Missouri\",\"Mississippi\",\"Montana\",\"North Carolina\",\"North Dakota\",\"Nebraska\",\"New Hampshire\",\"New Jersey\",\"New Mexico\",\"Nevada\",\"New York\",\"Ohio\",\"Oklahoma\",\"Oregon\",\"Pennsylvania\",\"Rhode Island\",\"South Carolina\",\"South Dakota\",\"Tennessee\",\"Texas\",\"Utah\",\"Virginia\",\"Vermont\",\"Washington\",\"Wisconsin\",\"West Virginia\"],\"marker\":{\"opacity\":0.75},\"name\":\"\",\"subplot\":\"mapbox\",\"z\":[28.50448717948718,62.60625,59.82222222222222,62.97976190476191,56.78333333333333,44.973333333333336,49.63611111111111,72.38928571428572,62.96759259259259,43.869166666666665,53.35,51.0712962962963,50.98888888888889,46.07592592592592,55.39166666666667,66.48148148148148,42.85833333333333,44.54750000000001,48.394444444444446,54.97604166666667,40.04444444444445,63.25833333333333,41.305952380952384,54.013888888888886,48.08645833333333,39.33055555555556,50.528333333333336,53.0875,53.825,53.415625,46.1775,43.1125,58.90625,59.58240740740741,47.08240740740741,49.05583333333333,50.76666666666667,62.14642857142857,43.742592592592594,57.5,67.10333333333334,48.72738095238095,43.3,46.17666666666667,55.43888888888889,51.96111111111111,40.3525,42.47685185185185],\"type\":\"choroplethmapbox\"}],\"name\":\"2008\"},{\"data\":[{\"coloraxis\":\"coloraxis\",\"customdata\":[[30.089102564102564],[62.58645833333333],[59.887962962962966],[63.38690476190476],[56.72976190476191],[45.14333333333334],[48.75],[72.68571428571428],[62.86203703703704],[44.17166666666666],[53.38981481481482],[51.575],[51.21944444444444],[46.85],[55.43333333333333],[66.67592592592592],[42.02222222222222],[44.26833333333334],[47.52222222222222],[54.28541666666666],[40.72222222222222],[63.54916666666667],[41.10238095238096],[54.51666666666666],[48.06875],[38.54259259259259],[50.42416666666667],[53.04375],[52.93888888888889],[54.04479166666667],[45.3775],[42.225],[58.50416666666666],[59.45],[47.57592592592593],[48.6225],[49.76666666666666],[61.87142857142857],[43.458333333333336],[57.46666666666667],[67.4175],[49.13333333333333],[42.56111111111111],[46.82749999999999],[54.90555555555556],[51.911111111111104],[40.54333333333333],[43.03425925925927]],\"featureidkey\":\"properties.name\",\"geojson\":\"us-states.json\",\"hovertemplate\":\"<b>%{hovertext}</b><br><br>Ann\\u00e9e=2009<br>Etat=%{location}<br>Temp\\u00e9rature moyenne=%{z}<extra></extra>\",\"hovertext\":[\"Alaska\",\"Alabama\",\"Arkansas\",\"Arizona\",\"California\",\"Colorado\",\"Connecticut\",\"Florida\",\"Georgia\",\"Hawaii\",\"Iowa\",\"Idaho\",\"Illinois\",\"Indiana\",\"Kansas\",\"Kentucky\",\"Louisiana\",\"Massachusetts\",\"Maryland\",\"Maine\",\"Michigan\",\"Minnesota\",\"Missouri\",\"Mississippi\",\"Montana\",\"North Carolina\",\"North Dakota\",\"Nebraska\",\"New Hampshire\",\"New Jersey\",\"New Mexico\",\"Nevada\",\"New York\",\"Ohio\",\"Oklahoma\",\"Oregon\",\"Pennsylvania\",\"Rhode Island\",\"South Carolina\",\"South Dakota\",\"Tennessee\",\"Texas\",\"Utah\",\"Virginia\",\"Vermont\",\"Washington\",\"Wisconsin\",\"West Virginia\"],\"locations\":[\"Alaska\",\"Alabama\",\"Arkansas\",\"Arizona\",\"California\",\"Colorado\",\"Connecticut\",\"Florida\",\"Georgia\",\"Hawaii\",\"Iowa\",\"Idaho\",\"Illinois\",\"Indiana\",\"Kansas\",\"Kentucky\",\"Louisiana\",\"Massachusetts\",\"Maryland\",\"Maine\",\"Michigan\",\"Minnesota\",\"Missouri\",\"Mississippi\",\"Montana\",\"North Carolina\",\"North Dakota\",\"Nebraska\",\"New Hampshire\",\"New Jersey\",\"New Mexico\",\"Nevada\",\"New York\",\"Ohio\",\"Oklahoma\",\"Oregon\",\"Pennsylvania\",\"Rhode Island\",\"South Carolina\",\"South Dakota\",\"Tennessee\",\"Texas\",\"Utah\",\"Virginia\",\"Vermont\",\"Washington\",\"Wisconsin\",\"West Virginia\"],\"marker\":{\"opacity\":0.75},\"name\":\"\",\"subplot\":\"mapbox\",\"z\":[30.089102564102564,62.58645833333333,59.887962962962966,63.38690476190476,56.72976190476191,45.14333333333334,48.75,72.68571428571428,62.86203703703704,44.17166666666666,53.38981481481482,51.575,51.21944444444444,46.85,55.43333333333333,66.67592592592592,42.02222222222222,44.26833333333334,47.52222222222222,54.28541666666666,40.72222222222222,63.54916666666667,41.10238095238096,54.51666666666666,48.06875,38.54259259259259,50.42416666666667,53.04375,52.93888888888889,54.04479166666667,45.3775,42.225,58.50416666666666,59.45,47.57592592592593,48.6225,49.76666666666666,61.87142857142857,43.458333333333336,57.46666666666667,67.4175,49.13333333333333,42.56111111111111,46.82749999999999,54.90555555555556,51.911111111111104,40.54333333333333,43.03425925925927],\"type\":\"choroplethmapbox\"}],\"name\":\"2009\"},{\"data\":[{\"coloraxis\":\"coloraxis\",\"customdata\":[[30.88653846153846],[62.384375],[61.11296296296297],[62.67142857142857],[55.6904761904762],[46.278333333333336],[51.28888888888889],[56.45416666666667],[70.67619047619047],[62.50740740740741],[44.7275],[55.0712962962963],[53.02685185185185],[52.55277777777778],[48.32962962962963],[56.07083333333333],[66.35000000000001],[45.69722222222222],[47.51083333333333],[50.08888888888888],[55.45208333333333],[43.30648148148149],[63.44833333333333],[41.523809523809526],[55.75833333333333],[49.76041666666666],[40.93425925925926],[51.59666666666666],[52.63958333333333],[54.81944444444445],[53.93229166666666],[47.678333333333335],[45.22916666666666],[58.67604166666666],[60.32037037037037],[47.46759259259259],[50.35333333333333],[51.958333333333336],[45.08148148148148],[57.79791666666667],[66.50166666666667],[49.02738095238095],[45.14722222222222],[47.565],[55.71111111111111],[52.29861111111112],[41.5975],[46.08240740740741]],\"featureidkey\":\"properties.name\",\"geojson\":\"us-states.json\",\"hovertemplate\":\"<b>%{hovertext}</b><br><br>Ann\\u00e9e=2010<br>Etat=%{location}<br>Temp\\u00e9rature moyenne=%{z}<extra></extra>\",\"hovertext\":[\"Alaska\",\"Alabama\",\"Arkansas\",\"Arizona\",\"California\",\"Colorado\",\"Connecticut\",\"Delaware\",\"Florida\",\"Georgia\",\"Hawaii\",\"Iowa\",\"Idaho\",\"Illinois\",\"Indiana\",\"Kansas\",\"Kentucky\",\"Louisiana\",\"Massachusetts\",\"Maryland\",\"Maine\",\"Michigan\",\"Minnesota\",\"Missouri\",\"Mississippi\",\"Montana\",\"North Carolina\",\"North Dakota\",\"Nebraska\",\"New Hampshire\",\"New Jersey\",\"New Mexico\",\"Nevada\",\"New York\",\"Ohio\",\"Oklahoma\",\"Oregon\",\"Pennsylvania\",\"South Carolina\",\"South Dakota\",\"Tennessee\",\"Texas\",\"Utah\",\"Virginia\",\"Vermont\",\"Washington\",\"Wisconsin\",\"West Virginia\"],\"locations\":[\"Alaska\",\"Alabama\",\"Arkansas\",\"Arizona\",\"California\",\"Colorado\",\"Connecticut\",\"Delaware\",\"Florida\",\"Georgia\",\"Hawaii\",\"Iowa\",\"Idaho\",\"Illinois\",\"Indiana\",\"Kansas\",\"Kentucky\",\"Louisiana\",\"Massachusetts\",\"Maryland\",\"Maine\",\"Michigan\",\"Minnesota\",\"Missouri\",\"Mississippi\",\"Montana\",\"North Carolina\",\"North Dakota\",\"Nebraska\",\"New Hampshire\",\"New Jersey\",\"New Mexico\",\"Nevada\",\"New York\",\"Ohio\",\"Oklahoma\",\"Oregon\",\"Pennsylvania\",\"South Carolina\",\"South Dakota\",\"Tennessee\",\"Texas\",\"Utah\",\"Virginia\",\"Vermont\",\"Washington\",\"Wisconsin\",\"West Virginia\"],\"marker\":{\"opacity\":0.75},\"name\":\"\",\"subplot\":\"mapbox\",\"z\":[30.88653846153846,62.384375,61.11296296296297,62.67142857142857,55.6904761904762,46.278333333333336,51.28888888888889,56.45416666666667,70.67619047619047,62.50740740740741,44.7275,55.0712962962963,53.02685185185185,52.55277777777778,48.32962962962963,56.07083333333333,66.35000000000001,45.69722222222222,47.51083333333333,50.08888888888888,55.45208333333333,43.30648148148149,63.44833333333333,41.523809523809526,55.75833333333333,49.76041666666666,40.93425925925926,51.59666666666666,52.63958333333333,54.81944444444445,53.93229166666666,47.678333333333335,45.22916666666666,58.67604166666666,60.32037037037037,47.46759259259259,50.35333333333333,51.958333333333336,45.08148148148148,57.79791666666667,66.50166666666667,49.02738095238095,45.14722222222222,47.565,55.71111111111111,52.29861111111112,41.5975,46.08240740740741],\"type\":\"choroplethmapbox\"}],\"name\":\"2010\"},{\"data\":[{\"coloraxis\":\"coloraxis\",\"customdata\":[[30.16025641025641],[63.534375],[61.80092592592592],[62.67619047619048],[55.38214285714286],[45.585],[50.81944444444445],[73.24404761904762],[64.13148148148149],[43.748333333333335],[54.95185185185185],[53.28796296296296],[53.00648148148148],[48.56111111111111],[56.97083333333333],[67.61944444444444],[43.93611111111111],[49.43888888888889],[56.221875],[42.572222222222216],[64.38583333333334],[41.53809523809524],[56.14722222222222],[49.255208333333336],[40.69722222222222],[52.19416666666667],[52.12291666666667],[55.08611111111111],[54.31666666666666],[47.5125],[44.23333333333333],[60.040625],[61.665740740740745],[46.59166666666667],[50.60666666666666],[51.625],[63.36904761904762],[44.653703703703705],[58.83125],[68.76916666666666],[48.26190476190476],[44.53055555555556],[45.97083333333333],[53.68888888888889],[40.76083333333333],[44.76018518518519]],\"featureidkey\":\"properties.name\",\"geojson\":\"us-states.json\",\"hovertemplate\":\"<b>%{hovertext}</b><br><br>Ann\\u00e9e=2011<br>Etat=%{location}<br>Temp\\u00e9rature moyenne=%{z}<extra></extra>\",\"hovertext\":[\"Alaska\",\"Alabama\",\"Arkansas\",\"Arizona\",\"California\",\"Colorado\",\"Connecticut\",\"Florida\",\"Georgia\",\"Hawaii\",\"Iowa\",\"Idaho\",\"Illinois\",\"Indiana\",\"Kansas\",\"Kentucky\",\"Louisiana\",\"Maryland\",\"Maine\",\"Michigan\",\"Minnesota\",\"Missouri\",\"Mississippi\",\"Montana\",\"North Carolina\",\"North Dakota\",\"Nebraska\",\"New Hampshire\",\"New Jersey\",\"New Mexico\",\"Nevada\",\"New York\",\"Ohio\",\"Oklahoma\",\"Oregon\",\"Pennsylvania\",\"Rhode Island\",\"South Carolina\",\"South Dakota\",\"Tennessee\",\"Texas\",\"Utah\",\"Virginia\",\"Washington\",\"Wisconsin\",\"West Virginia\"],\"locations\":[\"Alaska\",\"Alabama\",\"Arkansas\",\"Arizona\",\"California\",\"Colorado\",\"Connecticut\",\"Florida\",\"Georgia\",\"Hawaii\",\"Iowa\",\"Idaho\",\"Illinois\",\"Indiana\",\"Kansas\",\"Kentucky\",\"Louisiana\",\"Maryland\",\"Maine\",\"Michigan\",\"Minnesota\",\"Missouri\",\"Mississippi\",\"Montana\",\"North Carolina\",\"North Dakota\",\"Nebraska\",\"New Hampshire\",\"New Jersey\",\"New Mexico\",\"Nevada\",\"New York\",\"Ohio\",\"Oklahoma\",\"Oregon\",\"Pennsylvania\",\"Rhode Island\",\"South Carolina\",\"South Dakota\",\"Tennessee\",\"Texas\",\"Utah\",\"Virginia\",\"Washington\",\"Wisconsin\",\"West Virginia\"],\"marker\":{\"opacity\":0.75},\"name\":\"\",\"subplot\":\"mapbox\",\"z\":[30.16025641025641,63.534375,61.80092592592592,62.67619047619048,55.38214285714286,45.585,50.81944444444445,73.24404761904762,64.13148148148149,43.748333333333335,54.95185185185185,53.28796296296296,53.00648148148148,48.56111111111111,56.97083333333333,67.61944444444444,43.93611111111111,49.43888888888889,56.221875,42.572222222222216,64.38583333333334,41.53809523809524,56.14722222222222,49.255208333333336,40.69722222222222,52.19416666666667,52.12291666666667,55.08611111111111,54.31666666666666,47.5125,44.23333333333333,60.040625,61.665740740740745,46.59166666666667,50.60666666666666,51.625,63.36904761904762,44.653703703703705,58.83125,68.76916666666666,48.26190476190476,44.53055555555556,45.97083333333333,53.68888888888889,40.76083333333333,44.76018518518519],\"type\":\"choroplethmapbox\"}],\"name\":\"2011\"},{\"data\":[{\"coloraxis\":\"coloraxis\",\"customdata\":[[28.13397435897436],[64.68645833333333],[63.58703703703704],[64.31190476190476],[57.375],[48.34],[52.411111111111104],[58.1],[73.18690476190476],[65.00462962962963],[46.46333333333334],[58.05185185185186],[55.894444444444446],[55.07407407407408],[52.20092592592593],[58.48125],[68.58611111111111],[45.03888888888889],[48.8975],[51.06944444444445],[57.18020833333333],[45.90740740740741],[65.64166666666667],[44.51666666666667],[59.00555555555555],[53.130208333333336],[44.18611111111111],[53.90166666666667],[54.92291666666667],[56.07222222222222],[55.72083333333333],[49.15083333333333],[45.85],[60.37916666666666],[63.16666666666666],[48.17222222222222],[51.946666666666665],[52.86666666666667],[63.82976190476191],[49.10740740740741],[60.23333333333333],[69.2675],[51.62380952380952],[46.15555555555556],[47.41166666666667],[57.32222222222222],[54.54027777777778],[44.40416666666667],[48.07407407407408]],\"featureidkey\":\"properties.name\",\"geojson\":\"us-states.json\",\"hovertemplate\":\"<b>%{hovertext}</b><br><br>Ann\\u00e9e=2012<br>Etat=%{location}<br>Temp\\u00e9rature moyenne=%{z}<extra></extra>\",\"hovertext\":[\"Alaska\",\"Alabama\",\"Arkansas\",\"Arizona\",\"California\",\"Colorado\",\"Connecticut\",\"Delaware\",\"Florida\",\"Georgia\",\"Hawaii\",\"Iowa\",\"Idaho\",\"Illinois\",\"Indiana\",\"Kansas\",\"Kentucky\",\"Louisiana\",\"Massachusetts\",\"Maryland\",\"Maine\",\"Michigan\",\"Minnesota\",\"Missouri\",\"Mississippi\",\"Montana\",\"North Carolina\",\"North Dakota\",\"Nebraska\",\"New Hampshire\",\"New Jersey\",\"New Mexico\",\"Nevada\",\"New York\",\"Ohio\",\"Oklahoma\",\"Oregon\",\"Pennsylvania\",\"Rhode Island\",\"South Carolina\",\"South Dakota\",\"Tennessee\",\"Texas\",\"Utah\",\"Virginia\",\"Vermont\",\"Washington\",\"Wisconsin\",\"West Virginia\"],\"locations\":[\"Alaska\",\"Alabama\",\"Arkansas\",\"Arizona\",\"California\",\"Colorado\",\"Connecticut\",\"Delaware\",\"Florida\",\"Georgia\",\"Hawaii\",\"Iowa\",\"Idaho\",\"Illinois\",\"Indiana\",\"Kansas\",\"Kentucky\",\"Louisiana\",\"Massachusetts\",\"Maryland\",\"Maine\",\"Michigan\",\"Minnesota\",\"Missouri\",\"Mississippi\",\"Montana\",\"North Carolina\",\"North Dakota\",\"Nebraska\",\"New Hampshire\",\"New Jersey\",\"New Mexico\",\"Nevada\",\"New York\",\"Ohio\",\"Oklahoma\",\"Oregon\",\"Pennsylvania\",\"Rhode Island\",\"South Carolina\",\"South Dakota\",\"Tennessee\",\"Texas\",\"Utah\",\"Virginia\",\"Vermont\",\"Washington\",\"Wisconsin\",\"West Virginia\"],\"marker\":{\"opacity\":0.75},\"name\":\"\",\"subplot\":\"mapbox\",\"z\":[28.13397435897436,64.68645833333333,63.58703703703704,64.31190476190476,57.375,48.34,52.411111111111104,58.1,73.18690476190476,65.00462962962963,46.46333333333334,58.05185185185186,55.894444444444446,55.07407407407408,52.20092592592593,58.48125,68.58611111111111,45.03888888888889,48.8975,51.06944444444445,57.18020833333333,45.90740740740741,65.64166666666667,44.51666666666667,59.00555555555555,53.130208333333336,44.18611111111111,53.90166666666667,54.92291666666667,56.07222222222222,55.72083333333333,49.15083333333333,45.85,60.37916666666666,63.16666666666666,48.17222222222222,51.946666666666665,52.86666666666667,63.82976190476191,49.10740740740741,60.23333333333333,69.2675,51.62380952380952,46.15555555555556,47.41166666666667,57.32222222222222,54.54027777777778,44.40416666666667,48.07407407407408],\"type\":\"choroplethmapbox\"}],\"name\":\"2012\"},{\"data\":[{\"coloraxis\":\"coloraxis\",\"customdata\":[[31.316025641025643],[62.228125],[59.62129629629629],[62.82619047619048],[57.22619047619048],[45.083333333333336],[55.44583333333333],[73.25714285714285],[62.77962962962963],[45.08833333333333],[53.53703703703704],[51.22222222222222],[51.18425925925926],[46.8175925925926],[55.08541666666667],[66.10648148148148],[43.13611111111111],[44.615],[48.52222222222222],[54.39895833333333],[39.98333333333333],[62.99333333333333],[42.33690476190476],[54.15972222222222],[48.88645833333334],[38.8],[50.755],[53.10833333333333],[53.394444444444446],[53.41041666666666],[46.07416666666666],[43.50416666666666],[58.18854166666667],[58.864814814814814],[47.975],[49.17],[50.65],[61.525],[43.92037037037037],[56.99583333333334],[66.69833333333334],[48.47142857142857],[43.49166666666667],[47.51666666666667],[54.88333333333333],[51.99305555555557],[41.318333333333335],[42.48796296296296]],\"featureidkey\":\"properties.name\",\"geojson\":\"us-states.json\",\"hovertemplate\":\"<b>%{hovertext}</b><br><br>Ann\\u00e9e=2013<br>Etat=%{location}<br>Temp\\u00e9rature moyenne=%{z}<extra></extra>\",\"hovertext\":[\"Alaska\",\"Alabama\",\"Arkansas\",\"Arizona\",\"California\",\"Colorado\",\"Delaware\",\"Florida\",\"Georgia\",\"Hawaii\",\"Iowa\",\"Idaho\",\"Illinois\",\"Indiana\",\"Kansas\",\"Kentucky\",\"Louisiana\",\"Massachusetts\",\"Maryland\",\"Maine\",\"Michigan\",\"Minnesota\",\"Missouri\",\"Mississippi\",\"Montana\",\"North Carolina\",\"North Dakota\",\"Nebraska\",\"New Hampshire\",\"New Jersey\",\"New Mexico\",\"Nevada\",\"New York\",\"Ohio\",\"Oklahoma\",\"Oregon\",\"Pennsylvania\",\"Rhode Island\",\"South Carolina\",\"South Dakota\",\"Tennessee\",\"Texas\",\"Utah\",\"Virginia\",\"Vermont\",\"Washington\",\"Wisconsin\",\"West Virginia\"],\"locations\":[\"Alaska\",\"Alabama\",\"Arkansas\",\"Arizona\",\"California\",\"Colorado\",\"Delaware\",\"Florida\",\"Georgia\",\"Hawaii\",\"Iowa\",\"Idaho\",\"Illinois\",\"Indiana\",\"Kansas\",\"Kentucky\",\"Louisiana\",\"Massachusetts\",\"Maryland\",\"Maine\",\"Michigan\",\"Minnesota\",\"Missouri\",\"Mississippi\",\"Montana\",\"North Carolina\",\"North Dakota\",\"Nebraska\",\"New Hampshire\",\"New Jersey\",\"New Mexico\",\"Nevada\",\"New York\",\"Ohio\",\"Oklahoma\",\"Oregon\",\"Pennsylvania\",\"Rhode Island\",\"South Carolina\",\"South Dakota\",\"Tennessee\",\"Texas\",\"Utah\",\"Virginia\",\"Vermont\",\"Washington\",\"Wisconsin\",\"West Virginia\"],\"marker\":{\"opacity\":0.75},\"name\":\"\",\"subplot\":\"mapbox\",\"z\":[31.316025641025643,62.228125,59.62129629629629,62.82619047619048,57.22619047619048,45.083333333333336,55.44583333333333,73.25714285714285,62.77962962962963,45.08833333333333,53.53703703703704,51.22222222222222,51.18425925925926,46.8175925925926,55.08541666666667,66.10648148148148,43.13611111111111,44.615,48.52222222222222,54.39895833333333,39.98333333333333,62.99333333333333,42.33690476190476,54.15972222222222,48.88645833333334,38.8,50.755,53.10833333333333,53.394444444444446,53.41041666666666,46.07416666666666,43.50416666666666,58.18854166666667,58.864814814814814,47.975,49.17,50.65,61.525,43.92037037037037,56.99583333333334,66.69833333333334,48.47142857142857,43.49166666666667,47.51666666666667,54.88333333333333,51.99305555555557,41.318333333333335,42.48796296296296],\"type\":\"choroplethmapbox\"}],\"name\":\"2013\"},{\"data\":[{\"coloraxis\":\"coloraxis\",\"customdata\":[[33.14038461538461],[61.67395833333333],[58.64722222222222],[64.55714285714286],[59.45476190476191],[45.97],[54.325],[72.37261904761904],[62.43333333333334],[46.43],[53.49537037037037],[49.65462962962963],[49.35277777777778],[45.58703703703704],[54.34583333333333],[64.94722222222222],[42.40555555555556],[42.4625],[47.47222222222222],[53.30520833333333],[39.262962962962966],[62.2125],[41.88809523809524],[53.40138888888888],[48.484375],[38.9962962962963],[49.0675],[55.55],[52.16944444444445],[54.61875],[44.91583333333333],[42.3375],[57.99791666666667],[58.92314814814815],[49.95462962962963],[47.594166666666666],[49.725],[61.42857142857144],[43.6],[56.51458333333333],[66.3325],[51.09285714285715],[42.22777777777778],[48.81166666666667],[54.161111111111104],[50.97222222222222],[41.63916666666667],[40.94444444444444]],\"featureidkey\":\"properties.name\",\"geojson\":\"us-states.json\",\"hovertemplate\":\"<b>%{hovertext}</b><br><br>Ann\\u00e9e=2014<br>Etat=%{location}<br>Temp\\u00e9rature moyenne=%{z}<extra></extra>\",\"hovertext\":[\"Alaska\",\"Alabama\",\"Arkansas\",\"Arizona\",\"California\",\"Colorado\",\"Delaware\",\"Florida\",\"Georgia\",\"Hawaii\",\"Iowa\",\"Idaho\",\"Illinois\",\"Indiana\",\"Kansas\",\"Kentucky\",\"Louisiana\",\"Massachusetts\",\"Maryland\",\"Maine\",\"Michigan\",\"Minnesota\",\"Missouri\",\"Mississippi\",\"Montana\",\"North Carolina\",\"North Dakota\",\"Nebraska\",\"New Hampshire\",\"New Jersey\",\"New Mexico\",\"Nevada\",\"New York\",\"Ohio\",\"Oklahoma\",\"Oregon\",\"Pennsylvania\",\"Rhode Island\",\"South Carolina\",\"South Dakota\",\"Tennessee\",\"Texas\",\"Utah\",\"Virginia\",\"Vermont\",\"Washington\",\"Wisconsin\",\"West Virginia\"],\"locations\":[\"Alaska\",\"Alabama\",\"Arkansas\",\"Arizona\",\"California\",\"Colorado\",\"Delaware\",\"Florida\",\"Georgia\",\"Hawaii\",\"Iowa\",\"Idaho\",\"Illinois\",\"Indiana\",\"Kansas\",\"Kentucky\",\"Louisiana\",\"Massachusetts\",\"Maryland\",\"Maine\",\"Michigan\",\"Minnesota\",\"Missouri\",\"Mississippi\",\"Montana\",\"North Carolina\",\"North Dakota\",\"Nebraska\",\"New Hampshire\",\"New Jersey\",\"New Mexico\",\"Nevada\",\"New York\",\"Ohio\",\"Oklahoma\",\"Oregon\",\"Pennsylvania\",\"Rhode Island\",\"South Carolina\",\"South Dakota\",\"Tennessee\",\"Texas\",\"Utah\",\"Virginia\",\"Vermont\",\"Washington\",\"Wisconsin\",\"West Virginia\"],\"marker\":{\"opacity\":0.75},\"name\":\"\",\"subplot\":\"mapbox\",\"z\":[33.14038461538461,61.67395833333333,58.64722222222222,64.55714285714286,59.45476190476191,45.97,54.325,72.37261904761904,62.43333333333334,46.43,53.49537037037037,49.65462962962963,49.35277777777778,45.58703703703704,54.34583333333333,64.94722222222222,42.40555555555556,42.4625,47.47222222222222,53.30520833333333,39.262962962962966,62.2125,41.88809523809524,53.40138888888888,48.484375,38.9962962962963,49.0675,55.55,52.16944444444445,54.61875,44.91583333333333,42.3375,57.99791666666667,58.92314814814815,49.95462962962963,47.594166666666666,49.725,61.42857142857144,43.6,56.51458333333333,66.3325,51.09285714285715,42.22777777777778,48.81166666666667,54.161111111111104,50.97222222222222,41.63916666666667,40.94444444444444],\"type\":\"choroplethmapbox\"}],\"name\":\"2014\"},{\"data\":[{\"coloraxis\":\"coloraxis\",\"customdata\":[[33.27692307692308],[64.278125],[61.379629629629626],[64.05238095238096],[58.82976190476191],[47.48833333333334],[49.84722222222222],[56.1625],[74.89047619047619],[64.73055555555555],[47.7425],[56.12685185185185],[53.03055555555556],[52.24166666666667],[49.39074074074074],[56.60208333333333],[67.95277777777777],[42.31944444444444],[45.57333333333333],[48.23611111111112],[55.192708333333336],[44.07129629629629],[65.165],[44.79761904761904],[56.265277777777776],[51.28541666666666],[43.38703703703704],[51.495000000000005],[55.35],[54.07222222222222],[54.73125],[46.085],[42.86666666666667],[60.16458333333333],[60.85648148148149],[50.74722222222223],[49.6275],[50.425],[63.68214285714286],[47.4],[58.91458333333333],[67.24],[51.42738095238095],[42.952777777777776],[50.306666666666665],[56.28055555555556],[53.30416666666667],[43.79],[45.37870370370371]],\"featureidkey\":\"properties.name\",\"geojson\":\"us-states.json\",\"hovertemplate\":\"<b>%{hovertext}</b><br><br>Ann\\u00e9e=2015<br>Etat=%{location}<br>Temp\\u00e9rature moyenne=%{z}<extra></extra>\",\"hovertext\":[\"Alaska\",\"Alabama\",\"Arkansas\",\"Arizona\",\"California\",\"Colorado\",\"Connecticut\",\"Delaware\",\"Florida\",\"Georgia\",\"Hawaii\",\"Iowa\",\"Idaho\",\"Illinois\",\"Indiana\",\"Kansas\",\"Kentucky\",\"Louisiana\",\"Massachusetts\",\"Maryland\",\"Maine\",\"Michigan\",\"Minnesota\",\"Missouri\",\"Mississippi\",\"Montana\",\"North Carolina\",\"North Dakota\",\"Nebraska\",\"New Hampshire\",\"New Jersey\",\"New Mexico\",\"Nevada\",\"New York\",\"Ohio\",\"Oklahoma\",\"Oregon\",\"Pennsylvania\",\"Rhode Island\",\"South Carolina\",\"South Dakota\",\"Tennessee\",\"Texas\",\"Utah\",\"Virginia\",\"Vermont\",\"Washington\",\"Wisconsin\",\"West Virginia\"],\"locations\":[\"Alaska\",\"Alabama\",\"Arkansas\",\"Arizona\",\"California\",\"Colorado\",\"Connecticut\",\"Delaware\",\"Florida\",\"Georgia\",\"Hawaii\",\"Iowa\",\"Idaho\",\"Illinois\",\"Indiana\",\"Kansas\",\"Kentucky\",\"Louisiana\",\"Massachusetts\",\"Maryland\",\"Maine\",\"Michigan\",\"Minnesota\",\"Missouri\",\"Mississippi\",\"Montana\",\"North Carolina\",\"North Dakota\",\"Nebraska\",\"New Hampshire\",\"New Jersey\",\"New Mexico\",\"Nevada\",\"New York\",\"Ohio\",\"Oklahoma\",\"Oregon\",\"Pennsylvania\",\"Rhode Island\",\"South Carolina\",\"South Dakota\",\"Tennessee\",\"Texas\",\"Utah\",\"Virginia\",\"Vermont\",\"Washington\",\"Wisconsin\",\"West Virginia\"],\"marker\":{\"opacity\":0.75},\"name\":\"\",\"subplot\":\"mapbox\",\"z\":[33.27692307692308,64.278125,61.379629629629626,64.05238095238096,58.82976190476191,47.48833333333334,49.84722222222222,56.1625,74.89047619047619,64.73055555555555,47.7425,56.12685185185185,53.03055555555556,52.24166666666667,49.39074074074074,56.60208333333333,67.95277777777777,42.31944444444444,45.57333333333333,48.23611111111112,55.192708333333336,44.07129629629629,65.165,44.79761904761904,56.265277777777776,51.28541666666666,43.38703703703704,51.495000000000005,55.35,54.07222222222222,54.73125,46.085,42.86666666666667,60.16458333333333,60.85648148148149,50.74722222222223,49.6275,50.425,63.68214285714286,47.4,58.91458333333333,67.24,51.42738095238095,42.952777777777776,50.306666666666665,56.28055555555556,53.30416666666667,43.79,45.37870370370371],\"type\":\"choroplethmapbox\"}],\"name\":\"2015\"}]);\n",
       "                        }).then(function(){\n",
       "                            \n",
       "var gd = document.getElementById('d4c4e187-159a-49df-88d7-4da0f4cdf6c7');\n",
       "var x = new MutationObserver(function (mutations, observer) {{\n",
       "        var display = window.getComputedStyle(gd).display;\n",
       "        if (!display || display === 'none') {{\n",
       "            console.log([gd, 'removed!']);\n",
       "            Plotly.purge(gd);\n",
       "            observer.disconnect();\n",
       "        }}\n",
       "}});\n",
       "\n",
       "// Listen for the removal of the full notebook cells\n",
       "var notebookContainer = gd.closest('#notebook-container');\n",
       "if (notebookContainer) {{\n",
       "    x.observe(notebookContainer, {childList: true});\n",
       "}}\n",
       "\n",
       "// Listen for the clearing of the current output cell\n",
       "var outputEl = gd.closest('.output');\n",
       "if (outputEl) {{\n",
       "    x.observe(outputEl, {childList: true});\n",
       "}}\n",
       "\n",
       "                        })                };                });            </script>        </div>"
      ]
     },
     "metadata": {},
     "output_type": "display_data"
    }
   ],
   "source": [
    "\n",
    "fig = px.choropleth_mapbox(df_final,\n",
    "                           geojson='us-states.json',\n",
    "                           featureidkey='properties.name',\n",
    "                           locations='Etat',\n",
    "                           color='Température',\n",
    "                           hover_name='Etat',\n",
    "                           hover_data=['Température'],\n",
    "                           color_continuous_scale='Blues',\n",
    "                           animation_frame='Année',\n",
    "                           mapbox_style='carto-positron',\n",
    "                           labels={'Température':'Température moyenne'},\n",
    "                           range_color=[30,65],\n",
    "                           center={'lat':50, 'lon':-110},\n",
    "                           title='Evolution de la température moyenne au sol de chaque Etat',\n",
    "                           zoom=2,\n",
    "                           opacity=0.75,\n",
    "                        \n",
    "                           width=1100,\n",
    "                           height=800\n",
    "                          )\n",
    "\n",
    "fig.show()\n"
   ]
  },
  {
   "cell_type": "code",
   "execution_count": 10,
   "id": "5a30a74d",
   "metadata": {},
   "outputs": [
    {
     "data": {
      "application/vnd.plotly.v1+json": {
       "config": {
        "plotlyServerURL": "https://plot.ly"
       },
       "data": [
        {
         "coloraxis": "coloraxis",
         "customdata": [
          [
           142717.4
          ],
          [
           1253.2
          ],
          [
           1478.5
          ],
          [
           42593.65
          ],
          [
           296439.8
          ],
          [
           7451.9
          ],
          [
           466.05
          ],
          [
           124
          ],
          [
           95279.7
          ],
          [
           27016.37
          ],
          [
           11161.3
          ],
          [
           85.3
          ],
          [
           684658.9
          ],
          [
           235.4
          ],
          [
           247.3
          ],
          [
           251.6
          ],
          [
           604.5
          ],
          [
           25129.1
          ],
          [
           5.4
          ],
          [
           1160.3
          ],
          [
           4399.3
          ],
          [
           2987.4
          ],
          [
           30182.13
          ],
          [
           28716
          ],
          [
           60830.1
          ],
          [
           38591.72
          ],
          [
           27489.1
          ],
          [
           6373.9
          ],
          [
           1227.1
          ],
          [
           164.671
          ],
          [
           16603.65
          ],
          [
           99202.45
          ],
          [
           92345.8
          ],
          [
           2334.4
          ],
          [
           101.7
          ],
          [
           47575.1
          ],
          [
           117437.36
          ],
          [
           59.7
          ],
          [
           31202.8
          ],
          [
           59412.28
          ],
          [
           429.6
          ],
          [
           33610.3
          ],
          [
           37531.91
          ],
          [
           434.6
          ],
          [
           270
          ],
          [
           89681.05
          ],
          [
           2520.61
          ],
          [
           7514.4
          ]
         ],
         "featureidkey": "properties.name",
         "geojson": "us-states.json",
         "hovertemplate": "<b>%{hovertext}</b><br><br>Année=1992<br>Etat=%{location}<br>Etendue brûlée=%{z}<extra></extra>",
         "hovertext": [
          "Alaska",
          "Alabama",
          "Arkansas",
          "Arizona",
          "California",
          "Colorado",
          "Connecticut",
          "Delaware",
          "Florida",
          "Georgia",
          "Hawaii",
          "Iowa",
          "Idaho",
          "Illinois",
          "Indiana",
          "Kansas",
          "Kentucky",
          "Louisiana",
          "Massachusetts",
          "Maryland",
          "Maine",
          "Michigan",
          "Minnesota",
          "Missouri",
          "Mississippi",
          "Montana",
          "North Carolina",
          "North Dakota",
          "Nebraska",
          "New Hampshire",
          "New Jersey",
          "New Mexico",
          "Nevada",
          "New York",
          "Ohio",
          "Oklahoma",
          "Oregon",
          "Pennsylvania",
          "South Carolina",
          "South Dakota",
          "Tennessee",
          "Texas",
          "Utah",
          "Virginia",
          "Vermont",
          "Washington",
          "Wisconsin",
          "West Virginia"
         ],
         "locations": [
          "Alaska",
          "Alabama",
          "Arkansas",
          "Arizona",
          "California",
          "Colorado",
          "Connecticut",
          "Delaware",
          "Florida",
          "Georgia",
          "Hawaii",
          "Iowa",
          "Idaho",
          "Illinois",
          "Indiana",
          "Kansas",
          "Kentucky",
          "Louisiana",
          "Massachusetts",
          "Maryland",
          "Maine",
          "Michigan",
          "Minnesota",
          "Missouri",
          "Mississippi",
          "Montana",
          "North Carolina",
          "North Dakota",
          "Nebraska",
          "New Hampshire",
          "New Jersey",
          "New Mexico",
          "Nevada",
          "New York",
          "Ohio",
          "Oklahoma",
          "Oregon",
          "Pennsylvania",
          "South Carolina",
          "South Dakota",
          "Tennessee",
          "Texas",
          "Utah",
          "Virginia",
          "Vermont",
          "Washington",
          "Wisconsin",
          "West Virginia"
         ],
         "marker": {
          "opacity": 0.75
         },
         "name": "",
         "subplot": "mapbox",
         "type": "choroplethmapbox",
         "z": [
          142717.4,
          1253.2,
          1478.5,
          42593.65,
          296439.8,
          7451.9,
          466.05,
          124,
          95279.7,
          27016.37,
          11161.3,
          85.3,
          684658.9,
          235.4,
          247.3,
          251.6,
          604.5,
          25129.1,
          5.4,
          1160.3,
          4399.3,
          2987.4,
          30182.13,
          28716,
          60830.1,
          38591.72,
          27489.1,
          6373.9,
          1227.1,
          164.671,
          16603.65,
          99202.45,
          92345.8,
          2334.4,
          101.7,
          47575.1,
          117437.36,
          59.7,
          31202.8,
          59412.28,
          429.6,
          33610.3,
          37531.91,
          434.6,
          270,
          89681.05,
          2520.61,
          7514.4
         ]
        }
       ],
       "frames": [
        {
         "data": [
          {
           "coloraxis": "coloraxis",
           "customdata": [
            [
             142717.4
            ],
            [
             1253.2
            ],
            [
             1478.5
            ],
            [
             42593.65
            ],
            [
             296439.8
            ],
            [
             7451.9
            ],
            [
             466.05
            ],
            [
             124
            ],
            [
             95279.7
            ],
            [
             27016.37
            ],
            [
             11161.3
            ],
            [
             85.3
            ],
            [
             684658.9
            ],
            [
             235.4
            ],
            [
             247.3
            ],
            [
             251.6
            ],
            [
             604.5
            ],
            [
             25129.1
            ],
            [
             5.4
            ],
            [
             1160.3
            ],
            [
             4399.3
            ],
            [
             2987.4
            ],
            [
             30182.13
            ],
            [
             28716
            ],
            [
             60830.1
            ],
            [
             38591.72
            ],
            [
             27489.1
            ],
            [
             6373.9
            ],
            [
             1227.1
            ],
            [
             164.671
            ],
            [
             16603.65
            ],
            [
             99202.45
            ],
            [
             92345.8
            ],
            [
             2334.4
            ],
            [
             101.7
            ],
            [
             47575.1
            ],
            [
             117437.36
            ],
            [
             59.7
            ],
            [
             31202.8
            ],
            [
             59412.28
            ],
            [
             429.6
            ],
            [
             33610.3
            ],
            [
             37531.91
            ],
            [
             434.6
            ],
            [
             270
            ],
            [
             89681.05
            ],
            [
             2520.61
            ],
            [
             7514.4
            ]
           ],
           "featureidkey": "properties.name",
           "geojson": "us-states.json",
           "hovertemplate": "<b>%{hovertext}</b><br><br>Année=1992<br>Etat=%{location}<br>Etendue brûlée=%{z}<extra></extra>",
           "hovertext": [
            "Alaska",
            "Alabama",
            "Arkansas",
            "Arizona",
            "California",
            "Colorado",
            "Connecticut",
            "Delaware",
            "Florida",
            "Georgia",
            "Hawaii",
            "Iowa",
            "Idaho",
            "Illinois",
            "Indiana",
            "Kansas",
            "Kentucky",
            "Louisiana",
            "Massachusetts",
            "Maryland",
            "Maine",
            "Michigan",
            "Minnesota",
            "Missouri",
            "Mississippi",
            "Montana",
            "North Carolina",
            "North Dakota",
            "Nebraska",
            "New Hampshire",
            "New Jersey",
            "New Mexico",
            "Nevada",
            "New York",
            "Ohio",
            "Oklahoma",
            "Oregon",
            "Pennsylvania",
            "South Carolina",
            "South Dakota",
            "Tennessee",
            "Texas",
            "Utah",
            "Virginia",
            "Vermont",
            "Washington",
            "Wisconsin",
            "West Virginia"
           ],
           "locations": [
            "Alaska",
            "Alabama",
            "Arkansas",
            "Arizona",
            "California",
            "Colorado",
            "Connecticut",
            "Delaware",
            "Florida",
            "Georgia",
            "Hawaii",
            "Iowa",
            "Idaho",
            "Illinois",
            "Indiana",
            "Kansas",
            "Kentucky",
            "Louisiana",
            "Massachusetts",
            "Maryland",
            "Maine",
            "Michigan",
            "Minnesota",
            "Missouri",
            "Mississippi",
            "Montana",
            "North Carolina",
            "North Dakota",
            "Nebraska",
            "New Hampshire",
            "New Jersey",
            "New Mexico",
            "Nevada",
            "New York",
            "Ohio",
            "Oklahoma",
            "Oregon",
            "Pennsylvania",
            "South Carolina",
            "South Dakota",
            "Tennessee",
            "Texas",
            "Utah",
            "Virginia",
            "Vermont",
            "Washington",
            "Wisconsin",
            "West Virginia"
           ],
           "marker": {
            "opacity": 0.75
           },
           "name": "",
           "subplot": "mapbox",
           "type": "choroplethmapbox",
           "z": [
            142717.4,
            1253.2,
            1478.5,
            42593.65,
            296439.8,
            7451.9,
            466.05,
            124,
            95279.7,
            27016.37,
            11161.3,
            85.3,
            684658.9,
            235.4,
            247.3,
            251.6,
            604.5,
            25129.1,
            5.4,
            1160.3,
            4399.3,
            2987.4,
            30182.13,
            28716,
            60830.1,
            38591.72,
            27489.1,
            6373.9,
            1227.1,
            164.671,
            16603.65,
            99202.45,
            92345.8,
            2334.4,
            101.7,
            47575.1,
            117437.36,
            59.7,
            31202.8,
            59412.28,
            429.6,
            33610.3,
            37531.91,
            434.6,
            270,
            89681.05,
            2520.61,
            7514.4
           ]
          }
         ],
         "name": "1992"
        },
        {
         "data": [
          {
           "coloraxis": "coloraxis",
           "customdata": [
            [
             687191.5
            ],
            [
             2336.8
            ],
            [
             1760.2
            ],
            [
             205567.02
            ],
            [
             321495.3
            ],
            [
             35555.3
            ],
            [
             401.1
            ],
            [
             1
            ],
            [
             79755.2
            ],
            [
             40515.59
            ],
            [
             2562
            ],
            [
             30.7
            ],
            [
             7978.2
            ],
            [
             29.8
            ],
            [
             464.3
            ],
            [
             1809.3
            ],
            [
             843.1
            ],
            [
             8066.8
            ],
            [
             1.5
            ],
            [
             1672.9
            ],
            [
             1413.15
            ],
            [
             1008
            ],
            [
             19087.71
            ],
            [
             14997.3
            ],
            [
             54108.3
            ],
            [
             12598.41
            ],
            [
             26461.2
            ],
            [
             3923.9
            ],
            [
             173.5
            ],
            [
             166.663
            ],
            [
             922.7
            ],
            [
             302344.04
            ],
            [
             53979.9
            ],
            [
             1126.3
            ],
            [
             42.7
            ],
            [
             69803.5
            ],
            [
             13843.28
            ],
            [
             40.8
            ],
            [
             34284.7
            ],
            [
             6133.3
            ],
            [
             866.4
            ],
            [
             116873.7
            ],
            [
             19887.47
            ],
            [
             564
            ],
            [
             3
            ],
            [
             22629
            ],
            [
             1445.22
            ],
            [
             9434
            ]
           ],
           "featureidkey": "properties.name",
           "geojson": "us-states.json",
           "hovertemplate": "<b>%{hovertext}</b><br><br>Année=1993<br>Etat=%{location}<br>Etendue brûlée=%{z}<extra></extra>",
           "hovertext": [
            "Alaska",
            "Alabama",
            "Arkansas",
            "Arizona",
            "California",
            "Colorado",
            "Connecticut",
            "Delaware",
            "Florida",
            "Georgia",
            "Hawaii",
            "Iowa",
            "Idaho",
            "Illinois",
            "Indiana",
            "Kansas",
            "Kentucky",
            "Louisiana",
            "Massachusetts",
            "Maryland",
            "Maine",
            "Michigan",
            "Minnesota",
            "Missouri",
            "Mississippi",
            "Montana",
            "North Carolina",
            "North Dakota",
            "Nebraska",
            "New Hampshire",
            "New Jersey",
            "New Mexico",
            "Nevada",
            "New York",
            "Ohio",
            "Oklahoma",
            "Oregon",
            "Pennsylvania",
            "South Carolina",
            "South Dakota",
            "Tennessee",
            "Texas",
            "Utah",
            "Virginia",
            "Vermont",
            "Washington",
            "Wisconsin",
            "West Virginia"
           ],
           "locations": [
            "Alaska",
            "Alabama",
            "Arkansas",
            "Arizona",
            "California",
            "Colorado",
            "Connecticut",
            "Delaware",
            "Florida",
            "Georgia",
            "Hawaii",
            "Iowa",
            "Idaho",
            "Illinois",
            "Indiana",
            "Kansas",
            "Kentucky",
            "Louisiana",
            "Massachusetts",
            "Maryland",
            "Maine",
            "Michigan",
            "Minnesota",
            "Missouri",
            "Mississippi",
            "Montana",
            "North Carolina",
            "North Dakota",
            "Nebraska",
            "New Hampshire",
            "New Jersey",
            "New Mexico",
            "Nevada",
            "New York",
            "Ohio",
            "Oklahoma",
            "Oregon",
            "Pennsylvania",
            "South Carolina",
            "South Dakota",
            "Tennessee",
            "Texas",
            "Utah",
            "Virginia",
            "Vermont",
            "Washington",
            "Wisconsin",
            "West Virginia"
           ],
           "marker": {
            "opacity": 0.75
           },
           "name": "",
           "subplot": "mapbox",
           "type": "choroplethmapbox",
           "z": [
            687191.5,
            2336.8,
            1760.2,
            205567.02,
            321495.3,
            35555.3,
            401.1,
            1,
            79755.2,
            40515.59,
            2562,
            30.7,
            7978.2,
            29.8,
            464.3,
            1809.3,
            843.1,
            8066.8,
            1.5,
            1672.9,
            1413.15,
            1008,
            19087.71,
            14997.3,
            54108.3,
            12598.41,
            26461.2,
            3923.9,
            173.5,
            166.663,
            922.7,
            302344.04,
            53979.9,
            1126.3,
            42.7,
            69803.5,
            13843.28,
            40.8,
            34284.7,
            6133.3,
            866.4,
            116873.7,
            19887.47,
            564,
            3,
            22629,
            1445.22,
            9434
           ]
          }
         ],
         "name": "1993"
        },
        {
         "data": [
          {
           "coloraxis": "coloraxis",
           "customdata": [
            [
             261964.9
            ],
            [
             34664.4
            ],
            [
             2303.9
            ],
            [
             224199.735
            ],
            [
             407944.7
            ],
            [
             70760.6
            ],
            [
             943.15
            ],
            [
             96
            ],
            [
             103085.4
            ],
            [
             25013.89
            ],
            [
             78.6
            ],
            [
             105.4
            ],
            [
             729029.6
            ],
            [
             383.7
            ],
            [
             577.9
            ],
            [
             84460.1
            ],
            [
             4660.6
            ],
            [
             2520.6
            ],
            [
             0.1
            ],
            [
             786.9
            ],
            [
             2012.69
            ],
            [
             6704.2
            ],
            [
             37150.32
            ],
            [
             36249.4
            ],
            [
             54478.5
            ],
            [
             265689.35
            ],
            [
             44936.2
            ],
            [
             11743.3
            ],
            [
             6869.5
            ],
            [
             207.234
            ],
            [
             2725.85
            ],
            [
             416646.72
            ],
            [
             196057.8
            ],
            [
             1154.6
            ],
            [
             125.7
            ],
            [
             75164.2
            ],
            [
             276054.32
            ],
            [
             66.5
            ],
            [
             25
            ],
            [
             30354.1
            ],
            [
             16520.05
            ],
            [
             3300.2
            ],
            [
             70917.5
            ],
            [
             213555.1
            ],
            [
             1205.5
            ],
            [
             25.3
            ],
            [
             271438.1
            ],
            [
             5242.02
            ],
            [
             50906.8
            ]
           ],
           "featureidkey": "properties.name",
           "geojson": "us-states.json",
           "hovertemplate": "<b>%{hovertext}</b><br><br>Année=1994<br>Etat=%{location}<br>Etendue brûlée=%{z}<extra></extra>",
           "hovertext": [
            "Alaska",
            "Alabama",
            "Arkansas",
            "Arizona",
            "California",
            "Colorado",
            "Connecticut",
            "Delaware",
            "Florida",
            "Georgia",
            "Hawaii",
            "Iowa",
            "Idaho",
            "Illinois",
            "Indiana",
            "Kansas",
            "Kentucky",
            "Louisiana",
            "Massachusetts",
            "Maryland",
            "Maine",
            "Michigan",
            "Minnesota",
            "Missouri",
            "Mississippi",
            "Montana",
            "North Carolina",
            "North Dakota",
            "Nebraska",
            "New Hampshire",
            "New Jersey",
            "New Mexico",
            "Nevada",
            "New York",
            "Ohio",
            "Oklahoma",
            "Oregon",
            "Pennsylvania",
            "Rhode Island",
            "South Carolina",
            "South Dakota",
            "Tennessee",
            "Texas",
            "Utah",
            "Virginia",
            "Vermont",
            "Washington",
            "Wisconsin",
            "West Virginia"
           ],
           "locations": [
            "Alaska",
            "Alabama",
            "Arkansas",
            "Arizona",
            "California",
            "Colorado",
            "Connecticut",
            "Delaware",
            "Florida",
            "Georgia",
            "Hawaii",
            "Iowa",
            "Idaho",
            "Illinois",
            "Indiana",
            "Kansas",
            "Kentucky",
            "Louisiana",
            "Massachusetts",
            "Maryland",
            "Maine",
            "Michigan",
            "Minnesota",
            "Missouri",
            "Mississippi",
            "Montana",
            "North Carolina",
            "North Dakota",
            "Nebraska",
            "New Hampshire",
            "New Jersey",
            "New Mexico",
            "Nevada",
            "New York",
            "Ohio",
            "Oklahoma",
            "Oregon",
            "Pennsylvania",
            "Rhode Island",
            "South Carolina",
            "South Dakota",
            "Tennessee",
            "Texas",
            "Utah",
            "Virginia",
            "Vermont",
            "Washington",
            "Wisconsin",
            "West Virginia"
           ],
           "marker": {
            "opacity": 0.75
           },
           "name": "",
           "subplot": "mapbox",
           "type": "choroplethmapbox",
           "z": [
            261964.9,
            34664.4,
            2303.9,
            224199.735,
            407944.7,
            70760.6,
            943.15,
            96,
            103085.4,
            25013.89,
            78.6,
            105.4,
            729029.6,
            383.7,
            577.9,
            84460.1,
            4660.6,
            2520.6,
            0.1,
            786.9,
            2012.69,
            6704.2,
            37150.32,
            36249.4,
            54478.5,
            265689.35,
            44936.2,
            11743.3,
            6869.5,
            207.234,
            2725.85,
            416646.72,
            196057.8,
            1154.6,
            125.7,
            75164.2,
            276054.32,
            66.5,
            25,
            30354.1,
            16520.05,
            3300.2,
            70917.5,
            213555.1,
            1205.5,
            25.3,
            271438.1,
            5242.02,
            50906.8
           ]
          }
         ],
         "name": "1994"
        },
        {
         "data": [
          {
           "coloraxis": "coloraxis",
           "customdata": [
            [
             43962.1
            ],
            [
             38896.6
            ],
            [
             5190.4
            ],
            [
             262152.83
            ],
            [
             216068.7
            ],
            [
             20043.7
            ],
            [
             427.4
            ],
            [
             2014.4
            ],
            [
             56682.7
            ],
            [
             24460.52
            ],
            [
             1027.5
            ],
            [
             57.4
            ],
            [
             268681.3
            ],
            [
             993.2
            ],
            [
             881.4
            ],
            [
             4537.9
            ],
            [
             5863.6
            ],
            [
             7277.9
            ],
            [
             8.7
            ],
            [
             1304.4
            ],
            [
             1137.08
            ],
            [
             4872.3
            ],
            [
             46067.31
            ],
            [
             50196.4
            ],
            [
             68013.8
            ],
            [
             25183.95
            ],
            [
             23404.3
            ],
            [
             2047.6
            ],
            [
             55757.8
            ],
            [
             309.042
            ],
            [
             22962.146
            ],
            [
             139862.35
            ],
            [
             120031.4
            ],
            [
             9167.45
            ],
            [
             292.3
            ],
            [
             94478.9
            ],
            [
             61282.49
            ],
            [
             51.2
            ],
            [
             17794.8
            ],
            [
             10273.22
            ],
            [
             2049.2
            ],
            [
             56371.1
            ],
            [
             199115.64
            ],
            [
             15136.75
            ],
            [
             1.2
            ],
            [
             6727.8
            ],
            [
             2316.93
            ],
            [
             41583.6
            ]
           ],
           "featureidkey": "properties.name",
           "geojson": "us-states.json",
           "hovertemplate": "<b>%{hovertext}</b><br><br>Année=1995<br>Etat=%{location}<br>Etendue brûlée=%{z}<extra></extra>",
           "hovertext": [
            "Alaska",
            "Alabama",
            "Arkansas",
            "Arizona",
            "California",
            "Colorado",
            "Connecticut",
            "Delaware",
            "Florida",
            "Georgia",
            "Hawaii",
            "Iowa",
            "Idaho",
            "Illinois",
            "Indiana",
            "Kansas",
            "Kentucky",
            "Louisiana",
            "Massachusetts",
            "Maryland",
            "Maine",
            "Michigan",
            "Minnesota",
            "Missouri",
            "Mississippi",
            "Montana",
            "North Carolina",
            "North Dakota",
            "Nebraska",
            "New Hampshire",
            "New Jersey",
            "New Mexico",
            "Nevada",
            "New York",
            "Ohio",
            "Oklahoma",
            "Oregon",
            "Pennsylvania",
            "South Carolina",
            "South Dakota",
            "Tennessee",
            "Texas",
            "Utah",
            "Virginia",
            "Vermont",
            "Washington",
            "Wisconsin",
            "West Virginia"
           ],
           "locations": [
            "Alaska",
            "Alabama",
            "Arkansas",
            "Arizona",
            "California",
            "Colorado",
            "Connecticut",
            "Delaware",
            "Florida",
            "Georgia",
            "Hawaii",
            "Iowa",
            "Idaho",
            "Illinois",
            "Indiana",
            "Kansas",
            "Kentucky",
            "Louisiana",
            "Massachusetts",
            "Maryland",
            "Maine",
            "Michigan",
            "Minnesota",
            "Missouri",
            "Mississippi",
            "Montana",
            "North Carolina",
            "North Dakota",
            "Nebraska",
            "New Hampshire",
            "New Jersey",
            "New Mexico",
            "Nevada",
            "New York",
            "Ohio",
            "Oklahoma",
            "Oregon",
            "Pennsylvania",
            "South Carolina",
            "South Dakota",
            "Tennessee",
            "Texas",
            "Utah",
            "Virginia",
            "Vermont",
            "Washington",
            "Wisconsin",
            "West Virginia"
           ],
           "marker": {
            "opacity": 0.75
           },
           "name": "",
           "subplot": "mapbox",
           "type": "choroplethmapbox",
           "z": [
            43962.1,
            38896.6,
            5190.4,
            262152.83,
            216068.7,
            20043.7,
            427.4,
            2014.4,
            56682.7,
            24460.52,
            1027.5,
            57.4,
            268681.3,
            993.2,
            881.4,
            4537.9,
            5863.6,
            7277.9,
            8.7,
            1304.4,
            1137.08,
            4872.3,
            46067.31,
            50196.4,
            68013.8,
            25183.95,
            23404.3,
            2047.6,
            55757.8,
            309.042,
            22962.146,
            139862.35,
            120031.4,
            9167.45,
            292.3,
            94478.9,
            61282.49,
            51.2,
            17794.8,
            10273.22,
            2049.2,
            56371.1,
            199115.64,
            15136.75,
            1.2,
            6727.8,
            2316.93,
            41583.6
           ]
          }
         ],
         "name": "1995"
        },
        {
         "data": [
          {
           "coloraxis": "coloraxis",
           "customdata": [
            [
             598797.2
            ],
            [
             47683.2
            ],
            [
             5286.8
            ],
            [
             187400.565
            ],
            [
             707110.5
            ],
            [
             70040.5
            ],
            [
             66.45
            ],
            [
             107511.5
            ],
            [
             37975.89
            ],
            [
             380.3
            ],
            [
             1026.4
            ],
            [
             896659.9
            ],
            [
             149.8
            ],
            [
             495
            ],
            [
             147570.4
            ],
            [
             1117.8
            ],
            [
             8254.1
            ],
            [
             2.2
            ],
            [
             312.1
            ],
            [
             403.35
            ],
            [
             2921.7
            ],
            [
             29633.94
            ],
            [
             8538.3
            ],
            [
             101707.7
            ],
            [
             208840.45
            ],
            [
             17358
            ],
            [
             4801.8
            ],
            [
             8278.3
            ],
            [
             95.734
            ],
            [
             929.6
            ],
            [
             171645.96
            ],
            [
             627484
            ],
            [
             417.3
            ],
            [
             70.3
            ],
            [
             207500
            ],
            [
             590641.84
            ],
            [
             18.9
            ],
            [
             28609.6
            ],
            [
             18689.02
            ],
            [
             484.1
            ],
            [
             216223
            ],
            [
             511165.79
            ],
            [
             3259.5
            ],
            [
             148134.1
            ],
            [
             2927.9700000000003
            ],
            [
             5858.5
            ]
           ],
           "featureidkey": "properties.name",
           "geojson": "us-states.json",
           "hovertemplate": "<b>%{hovertext}</b><br><br>Année=1996<br>Etat=%{location}<br>Etendue brûlée=%{z}<extra></extra>",
           "hovertext": [
            "Alaska",
            "Alabama",
            "Arkansas",
            "Arizona",
            "California",
            "Colorado",
            "Connecticut",
            "Florida",
            "Georgia",
            "Hawaii",
            "Iowa",
            "Idaho",
            "Illinois",
            "Indiana",
            "Kansas",
            "Kentucky",
            "Louisiana",
            "Massachusetts",
            "Maryland",
            "Maine",
            "Michigan",
            "Minnesota",
            "Missouri",
            "Mississippi",
            "Montana",
            "North Carolina",
            "North Dakota",
            "Nebraska",
            "New Hampshire",
            "New Jersey",
            "New Mexico",
            "Nevada",
            "New York",
            "Ohio",
            "Oklahoma",
            "Oregon",
            "Pennsylvania",
            "South Carolina",
            "South Dakota",
            "Tennessee",
            "Texas",
            "Utah",
            "Virginia",
            "Washington",
            "Wisconsin",
            "West Virginia"
           ],
           "locations": [
            "Alaska",
            "Alabama",
            "Arkansas",
            "Arizona",
            "California",
            "Colorado",
            "Connecticut",
            "Florida",
            "Georgia",
            "Hawaii",
            "Iowa",
            "Idaho",
            "Illinois",
            "Indiana",
            "Kansas",
            "Kentucky",
            "Louisiana",
            "Massachusetts",
            "Maryland",
            "Maine",
            "Michigan",
            "Minnesota",
            "Missouri",
            "Mississippi",
            "Montana",
            "North Carolina",
            "North Dakota",
            "Nebraska",
            "New Hampshire",
            "New Jersey",
            "New Mexico",
            "Nevada",
            "New York",
            "Ohio",
            "Oklahoma",
            "Oregon",
            "Pennsylvania",
            "South Carolina",
            "South Dakota",
            "Tennessee",
            "Texas",
            "Utah",
            "Virginia",
            "Washington",
            "Wisconsin",
            "West Virginia"
           ],
           "marker": {
            "opacity": 0.75
           },
           "name": "",
           "subplot": "mapbox",
           "type": "choroplethmapbox",
           "z": [
            598797.2,
            47683.2,
            5286.8,
            187400.565,
            707110.5,
            70040.5,
            66.45,
            107511.5,
            37975.89,
            380.3,
            1026.4,
            896659.9,
            149.8,
            495,
            147570.4,
            1117.8,
            8254.1,
            2.2,
            312.1,
            403.35,
            2921.7,
            29633.94,
            8538.3,
            101707.7,
            208840.45,
            17358,
            4801.8,
            8278.3,
            95.734,
            929.6,
            171645.96,
            627484,
            417.3,
            70.3,
            207500,
            590641.84,
            18.9,
            28609.6,
            18689.02,
            484.1,
            216223,
            511165.79,
            3259.5,
            148134.1,
            2927.9700000000003,
            5858.5
           ]
          }
         ],
         "name": "1996"
        },
        {
         "data": [
          {
           "coloraxis": "coloraxis",
           "customdata": [
            [
             2026204.5
            ],
            [
             22055.4
            ],
            [
             11442.4
            ],
            [
             13356.9
            ],
            [
             324566.3
            ],
            [
             6038.2
            ],
            [
             600.35
            ],
            [
             24.6
            ],
            [
             133163.9
            ],
            [
             21908.14
            ],
            [
             52
            ],
            [
             93
            ],
            [
             42902.4
            ],
            [
             13.7
            ],
            [
             83
            ],
            [
             11410.4
            ],
            [
             11612.7
            ],
            [
             21649
            ],
            [
             5.4
            ],
            [
             181.7
            ],
            [
             896.77
            ],
            [
             552.1
            ],
            [
             20708.74
            ],
            [
             23939.7
            ],
            [
             32355.6
            ],
            [
             11343.13
            ],
            [
             17412
            ],
            [
             6203.8
            ],
            [
             18129.5
            ],
            [
             108.17
            ],
            [
             4767.8
            ],
            [
             169966.5
            ],
            [
             41857.4
            ],
            [
             1421.8
            ],
            [
             41.5
            ],
            [
             19627.6
            ],
            [
             24603.94
            ],
            [
             107.7
            ],
            [
             25238.5
            ],
            [
             4318.61
            ],
            [
             13043.7
            ],
            [
             46780.9
            ],
            [
             32525.21
            ],
            [
             5199.3
            ],
            [
             3
            ],
            [
             27563.1
            ],
            [
             2621.6
            ],
            [
             7534.95
            ]
           ],
           "featureidkey": "properties.name",
           "geojson": "us-states.json",
           "hovertemplate": "<b>%{hovertext}</b><br><br>Année=1997<br>Etat=%{location}<br>Etendue brûlée=%{z}<extra></extra>",
           "hovertext": [
            "Alaska",
            "Alabama",
            "Arkansas",
            "Arizona",
            "California",
            "Colorado",
            "Connecticut",
            "Delaware",
            "Florida",
            "Georgia",
            "Hawaii",
            "Iowa",
            "Idaho",
            "Illinois",
            "Indiana",
            "Kansas",
            "Kentucky",
            "Louisiana",
            "Massachusetts",
            "Maryland",
            "Maine",
            "Michigan",
            "Minnesota",
            "Missouri",
            "Mississippi",
            "Montana",
            "North Carolina",
            "North Dakota",
            "Nebraska",
            "New Hampshire",
            "New Jersey",
            "New Mexico",
            "Nevada",
            "New York",
            "Ohio",
            "Oklahoma",
            "Oregon",
            "Pennsylvania",
            "South Carolina",
            "South Dakota",
            "Tennessee",
            "Texas",
            "Utah",
            "Virginia",
            "Vermont",
            "Washington",
            "Wisconsin",
            "West Virginia"
           ],
           "locations": [
            "Alaska",
            "Alabama",
            "Arkansas",
            "Arizona",
            "California",
            "Colorado",
            "Connecticut",
            "Delaware",
            "Florida",
            "Georgia",
            "Hawaii",
            "Iowa",
            "Idaho",
            "Illinois",
            "Indiana",
            "Kansas",
            "Kentucky",
            "Louisiana",
            "Massachusetts",
            "Maryland",
            "Maine",
            "Michigan",
            "Minnesota",
            "Missouri",
            "Mississippi",
            "Montana",
            "North Carolina",
            "North Dakota",
            "Nebraska",
            "New Hampshire",
            "New Jersey",
            "New Mexico",
            "Nevada",
            "New York",
            "Ohio",
            "Oklahoma",
            "Oregon",
            "Pennsylvania",
            "South Carolina",
            "South Dakota",
            "Tennessee",
            "Texas",
            "Utah",
            "Virginia",
            "Vermont",
            "Washington",
            "Wisconsin",
            "West Virginia"
           ],
           "marker": {
            "opacity": 0.75
           },
           "name": "",
           "subplot": "mapbox",
           "type": "choroplethmapbox",
           "z": [
            2026204.5,
            22055.4,
            11442.4,
            13356.9,
            324566.3,
            6038.2,
            600.35,
            24.6,
            133163.9,
            21908.14,
            52,
            93,
            42902.4,
            13.7,
            83,
            11410.4,
            11612.7,
            21649,
            5.4,
            181.7,
            896.77,
            552.1,
            20708.74,
            23939.7,
            32355.6,
            11343.13,
            17412,
            6203.8,
            18129.5,
            108.17,
            4767.8,
            169966.5,
            41857.4,
            1421.8,
            41.5,
            19627.6,
            24603.94,
            107.7,
            25238.5,
            4318.61,
            13043.7,
            46780.9,
            32525.21,
            5199.3,
            3,
            27563.1,
            2621.6,
            7534.95
           ]
          }
         ],
         "name": "1997"
        },
        {
         "data": [
          {
           "coloraxis": "coloraxis",
           "customdata": [
            [
             120782.1
            ],
            [
             35560.6
            ],
            [
             13023.1
            ],
            [
             27378.8
            ],
            [
             160013.1
            ],
            [
             8379.2
            ],
            [
             131.9
            ],
            [
             377720.5
            ],
            [
             45909.78
            ],
            [
             31675.2
            ],
            [
             70
            ],
            [
             151299.3
            ],
            [
             165.3
            ],
            [
             175
            ],
            [
             5207.1
            ],
            [
             24966.3
            ],
            [
             34126.2
            ],
            [
             3
            ],
            [
             544
            ],
            [
             1547.8200000000002
            ],
            [
             3959
            ],
            [
             49139.65001
            ],
            [
             10981.8
            ],
            [
             39658.8
            ],
            [
             101357.27
            ],
            [
             16913.4
            ],
            [
             7760.1
            ],
            [
             14110.1
            ],
            [
             257.02
            ],
            [
             1320.44
            ],
            [
             97959.56
            ],
            [
             91363.7
            ],
            [
             1695.71
            ],
            [
             203.4
            ],
            [
             17945.3
            ],
            [
             83099.62
            ],
            [
             54.2
            ],
            [
             16369
            ],
            [
             14072.83
            ],
            [
             20857.1
            ],
            [
             136551.4
            ],
            [
             96563.07
            ],
            [
             9279.1
            ],
            [
             14
            ],
            [
             111620.7
            ],
            [
             4095.52
            ],
            [
             20567.31
            ]
           ],
           "featureidkey": "properties.name",
           "geojson": "us-states.json",
           "hovertemplate": "<b>%{hovertext}</b><br><br>Année=1998<br>Etat=%{location}<br>Etendue brûlée=%{z}<extra></extra>",
           "hovertext": [
            "Alaska",
            "Alabama",
            "Arkansas",
            "Arizona",
            "California",
            "Colorado",
            "Connecticut",
            "Florida",
            "Georgia",
            "Hawaii",
            "Iowa",
            "Idaho",
            "Illinois",
            "Indiana",
            "Kansas",
            "Kentucky",
            "Louisiana",
            "Massachusetts",
            "Maryland",
            "Maine",
            "Michigan",
            "Minnesota",
            "Missouri",
            "Mississippi",
            "Montana",
            "North Carolina",
            "North Dakota",
            "Nebraska",
            "New Hampshire",
            "New Jersey",
            "New Mexico",
            "Nevada",
            "New York",
            "Ohio",
            "Oklahoma",
            "Oregon",
            "Pennsylvania",
            "South Carolina",
            "South Dakota",
            "Tennessee",
            "Texas",
            "Utah",
            "Virginia",
            "Vermont",
            "Washington",
            "Wisconsin",
            "West Virginia"
           ],
           "locations": [
            "Alaska",
            "Alabama",
            "Arkansas",
            "Arizona",
            "California",
            "Colorado",
            "Connecticut",
            "Florida",
            "Georgia",
            "Hawaii",
            "Iowa",
            "Idaho",
            "Illinois",
            "Indiana",
            "Kansas",
            "Kentucky",
            "Louisiana",
            "Massachusetts",
            "Maryland",
            "Maine",
            "Michigan",
            "Minnesota",
            "Missouri",
            "Mississippi",
            "Montana",
            "North Carolina",
            "North Dakota",
            "Nebraska",
            "New Hampshire",
            "New Jersey",
            "New Mexico",
            "Nevada",
            "New York",
            "Ohio",
            "Oklahoma",
            "Oregon",
            "Pennsylvania",
            "South Carolina",
            "South Dakota",
            "Tennessee",
            "Texas",
            "Utah",
            "Virginia",
            "Vermont",
            "Washington",
            "Wisconsin",
            "West Virginia"
           ],
           "marker": {
            "opacity": 0.75
           },
           "name": "",
           "subplot": "mapbox",
           "type": "choroplethmapbox",
           "z": [
            120782.1,
            35560.6,
            13023.1,
            27378.8,
            160013.1,
            8379.2,
            131.9,
            377720.5,
            45909.78,
            31675.2,
            70,
            151299.3,
            165.3,
            175,
            5207.1,
            24966.3,
            34126.2,
            3,
            544,
            1547.8200000000002,
            3959,
            49139.65001,
            10981.8,
            39658.8,
            101357.27,
            16913.4,
            7760.1,
            14110.1,
            257.02,
            1320.44,
            97959.56,
            91363.7,
            1695.71,
            203.4,
            17945.3,
            83099.62,
            54.2,
            16369,
            14072.83,
            20857.1,
            136551.4,
            96563.07,
            9279.1,
            14,
            111620.7,
            4095.52,
            20567.31
           ]
          }
         ],
         "name": "1998"
        },
        {
         "data": [
          {
           "coloraxis": "coloraxis",
           "customdata": [
            [
             1005843.69999
            ],
            [
             52548.2
            ],
            [
             24032.3
            ],
            [
             73799
            ],
            [
             804123.4
            ],
            [
             20313.9
            ],
            [
             1672.46
            ],
            [
             507
            ],
            [
             413350
            ],
            [
             73112
            ],
            [
             15129.5
            ],
            [
             435.6
            ],
            [
             416185.82
            ],
            [
             497.2
            ],
            [
             764.1999999999999
            ],
            [
             6531.6
            ],
            [
             125633.8
            ],
            [
             37623
            ],
            [
             1.5
            ],
            [
             1625.7
            ],
            [
             1061.27
            ],
            [
             10031.1
            ],
            [
             32858.86
            ],
            [
             35498.9
            ],
            [
             66126.9
            ],
            [
             117459.34
            ],
            [
             25060.6
            ],
            [
             70997.6
            ],
            [
             118550.5
            ],
            [
             16.2
            ],
            [
             16030.3
            ],
            [
             82559.04
            ],
            [
             1773486.6
            ],
            [
             6073.45
            ],
            [
             705.1
            ],
            [
             16421.5
            ],
            [
             72161.93
            ],
            [
             493.8
            ],
            [
             35934.4
            ],
            [
             80370.2253
            ],
            [
             42251.4
            ],
            [
             60028.2
            ],
            [
             148497.92
            ],
            [
             19266.2
            ],
            [
             10.5
            ],
            [
             26175.17
            ],
            [
             5353.08
            ],
            [
             103301.45
            ]
           ],
           "featureidkey": "properties.name",
           "geojson": "us-states.json",
           "hovertemplate": "<b>%{hovertext}</b><br><br>Année=1999<br>Etat=%{location}<br>Etendue brûlée=%{z}<extra></extra>",
           "hovertext": [
            "Alaska",
            "Alabama",
            "Arkansas",
            "Arizona",
            "California",
            "Colorado",
            "Connecticut",
            "Delaware",
            "Florida",
            "Georgia",
            "Hawaii",
            "Iowa",
            "Idaho",
            "Illinois",
            "Indiana",
            "Kansas",
            "Kentucky",
            "Louisiana",
            "Massachusetts",
            "Maryland",
            "Maine",
            "Michigan",
            "Minnesota",
            "Missouri",
            "Mississippi",
            "Montana",
            "North Carolina",
            "North Dakota",
            "Nebraska",
            "New Hampshire",
            "New Jersey",
            "New Mexico",
            "Nevada",
            "New York",
            "Ohio",
            "Oklahoma",
            "Oregon",
            "Pennsylvania",
            "South Carolina",
            "South Dakota",
            "Tennessee",
            "Texas",
            "Utah",
            "Virginia",
            "Vermont",
            "Washington",
            "Wisconsin",
            "West Virginia"
           ],
           "locations": [
            "Alaska",
            "Alabama",
            "Arkansas",
            "Arizona",
            "California",
            "Colorado",
            "Connecticut",
            "Delaware",
            "Florida",
            "Georgia",
            "Hawaii",
            "Iowa",
            "Idaho",
            "Illinois",
            "Indiana",
            "Kansas",
            "Kentucky",
            "Louisiana",
            "Massachusetts",
            "Maryland",
            "Maine",
            "Michigan",
            "Minnesota",
            "Missouri",
            "Mississippi",
            "Montana",
            "North Carolina",
            "North Dakota",
            "Nebraska",
            "New Hampshire",
            "New Jersey",
            "New Mexico",
            "Nevada",
            "New York",
            "Ohio",
            "Oklahoma",
            "Oregon",
            "Pennsylvania",
            "South Carolina",
            "South Dakota",
            "Tennessee",
            "Texas",
            "Utah",
            "Virginia",
            "Vermont",
            "Washington",
            "Wisconsin",
            "West Virginia"
           ],
           "marker": {
            "opacity": 0.75
           },
           "name": "",
           "subplot": "mapbox",
           "type": "choroplethmapbox",
           "z": [
            1005843.69999,
            52548.2,
            24032.3,
            73799,
            804123.4,
            20313.9,
            1672.46,
            507,
            413350,
            73112,
            15129.5,
            435.6,
            416185.82,
            497.2,
            764.1999999999999,
            6531.6,
            125633.8,
            37623,
            1.5,
            1625.7,
            1061.27,
            10031.1,
            32858.86,
            35498.9,
            66126.9,
            117459.34,
            25060.6,
            70997.6,
            118550.5,
            16.2,
            16030.3,
            82559.04,
            1773486.6,
            6073.45,
            705.1,
            16421.5,
            72161.93,
            493.8,
            35934.4,
            80370.2253,
            42251.4,
            60028.2,
            148497.92,
            19266.2,
            10.5,
            26175.17,
            5353.08,
            103301.45
           ]
          }
         ],
         "name": "1999"
        },
        {
         "data": [
          {
           "coloraxis": "coloraxis",
           "customdata": [
            [
             756379.2000000001
            ],
            [
             88267.4
            ],
            [
             29052.5
            ],
            [
             92910.3
            ],
            [
             252676
            ],
            [
             115784.3
            ],
            [
             492.3
            ],
            [
             65
            ],
            [
             242653.1
            ],
            [
             63571.14
            ],
            [
             5669.6
            ],
            [
             1734.7
            ],
            [
             1350786.48
            ],
            [
             597.2
            ],
            [
             707.9
            ],
            [
             9219.8
            ],
            [
             136220.6
            ],
            [
             91109.5
            ],
            [
             5.8
            ],
            [
             209.7
            ],
            [
             445.98
            ],
            [
             6010.9
            ],
            [
             69170.17
            ],
            [
             17234.3
            ],
            [
             53459.2
            ],
            [
             822860.3099999999
            ],
            [
             38849
            ],
            [
             18171.7
            ],
            [
             116094.001
            ],
            [
             132.26
            ],
            [
             2016.5
            ],
            [
             516743.459
            ],
            [
             651614.2
            ],
            [
             1497.78
            ],
            [
             370.4
            ],
            [
             112723.9
            ],
            [
             365429.38
            ],
            [
             356.7
            ],
            [
             25197.3
            ],
            [
             355266.064
            ],
            [
             75996.2
            ],
            [
             181686.8
            ],
            [
             227487.25
            ],
            [
             32191.8
            ],
            [
             285252.6
            ],
            [
             7014.37
            ],
            [
             50401.3
            ]
           ],
           "featureidkey": "properties.name",
           "geojson": "us-states.json",
           "hovertemplate": "<b>%{hovertext}</b><br><br>Année=2000<br>Etat=%{location}<br>Etendue brûlée=%{z}<extra></extra>",
           "hovertext": [
            "Alaska",
            "Alabama",
            "Arkansas",
            "Arizona",
            "California",
            "Colorado",
            "Connecticut",
            "Delaware",
            "Florida",
            "Georgia",
            "Hawaii",
            "Iowa",
            "Idaho",
            "Illinois",
            "Indiana",
            "Kansas",
            "Kentucky",
            "Louisiana",
            "Massachusetts",
            "Maryland",
            "Maine",
            "Michigan",
            "Minnesota",
            "Missouri",
            "Mississippi",
            "Montana",
            "North Carolina",
            "North Dakota",
            "Nebraska",
            "New Hampshire",
            "New Jersey",
            "New Mexico",
            "Nevada",
            "New York",
            "Ohio",
            "Oklahoma",
            "Oregon",
            "Pennsylvania",
            "South Carolina",
            "South Dakota",
            "Tennessee",
            "Texas",
            "Utah",
            "Virginia",
            "Washington",
            "Wisconsin",
            "West Virginia"
           ],
           "locations": [
            "Alaska",
            "Alabama",
            "Arkansas",
            "Arizona",
            "California",
            "Colorado",
            "Connecticut",
            "Delaware",
            "Florida",
            "Georgia",
            "Hawaii",
            "Iowa",
            "Idaho",
            "Illinois",
            "Indiana",
            "Kansas",
            "Kentucky",
            "Louisiana",
            "Massachusetts",
            "Maryland",
            "Maine",
            "Michigan",
            "Minnesota",
            "Missouri",
            "Mississippi",
            "Montana",
            "North Carolina",
            "North Dakota",
            "Nebraska",
            "New Hampshire",
            "New Jersey",
            "New Mexico",
            "Nevada",
            "New York",
            "Ohio",
            "Oklahoma",
            "Oregon",
            "Pennsylvania",
            "South Carolina",
            "South Dakota",
            "Tennessee",
            "Texas",
            "Utah",
            "Virginia",
            "Washington",
            "Wisconsin",
            "West Virginia"
           ],
           "marker": {
            "opacity": 0.75
           },
           "name": "",
           "subplot": "mapbox",
           "type": "choroplethmapbox",
           "z": [
            756379.2000000001,
            88267.4,
            29052.5,
            92910.3,
            252676,
            115784.3,
            492.3,
            65,
            242653.1,
            63571.14,
            5669.6,
            1734.7,
            1350786.48,
            597.2,
            707.9,
            9219.8,
            136220.6,
            91109.5,
            5.8,
            209.7,
            445.98,
            6010.9,
            69170.17,
            17234.3,
            53459.2,
            822860.3099999999,
            38849,
            18171.7,
            116094.001,
            132.26,
            2016.5,
            516743.459,
            651614.2,
            1497.78,
            370.4,
            112723.9,
            365429.38,
            356.7,
            25197.3,
            355266.064,
            75996.2,
            181686.8,
            227487.25,
            32191.8,
            285252.6,
            7014.37,
            50401.3
           ]
          }
         ],
         "name": "2000"
        },
        {
         "data": [
          {
           "coloraxis": "coloraxis",
           "customdata": [
            [
             219924.7
            ],
            [
             39095.1
            ],
            [
             14451.8
            ],
            [
             35816.74
            ],
            [
             350176.7
            ],
            [
             23005.7
            ],
            [
             745.1
            ],
            [
             10.5
            ],
            [
             411721.5
            ],
            [
             53335.01
            ],
            [
             2352.15
            ],
            [
             85
            ],
            [
             192801.62
            ],
            [
             531.1
            ],
            [
             1167.6
            ],
            [
             2662.3
            ],
            [
             175179.4
            ],
            [
             26577.1
            ],
            [
             269.3
            ],
            [
             5879.1
            ],
            [
             2243.54
            ],
            [
             1463.249
            ],
            [
             23136.32
            ],
            [
             17079.1
            ],
            [
             32258.9
            ],
            [
             162549.19
            ],
            [
             44664.4
            ],
            [
             6567.3
            ],
            [
             2473.552
            ],
            [
             152.81
            ],
            [
             4410.2
            ],
            [
             70558.31
            ],
            [
             598503.5
            ],
            [
             7118.24
            ],
            [
             941.9
            ],
            [
             30345.7
            ],
            [
             384247.23
            ],
            [
             742.7
            ],
            [
             36528
            ],
            [
             55260.743
            ],
            [
             62141.1
            ],
            [
             92226.2
            ],
            [
             124088.15
            ],
            [
             20906.1
            ],
            [
             223780.1
            ],
            [
             1364.55
            ],
            [
             95542.6
            ]
           ],
           "featureidkey": "properties.name",
           "geojson": "us-states.json",
           "hovertemplate": "<b>%{hovertext}</b><br><br>Année=2001<br>Etat=%{location}<br>Etendue brûlée=%{z}<extra></extra>",
           "hovertext": [
            "Alaska",
            "Alabama",
            "Arkansas",
            "Arizona",
            "California",
            "Colorado",
            "Connecticut",
            "Delaware",
            "Florida",
            "Georgia",
            "Hawaii",
            "Iowa",
            "Idaho",
            "Illinois",
            "Indiana",
            "Kansas",
            "Kentucky",
            "Louisiana",
            "Massachusetts",
            "Maryland",
            "Maine",
            "Michigan",
            "Minnesota",
            "Missouri",
            "Mississippi",
            "Montana",
            "North Carolina",
            "North Dakota",
            "Nebraska",
            "New Hampshire",
            "New Jersey",
            "New Mexico",
            "Nevada",
            "New York",
            "Ohio",
            "Oklahoma",
            "Oregon",
            "Pennsylvania",
            "South Carolina",
            "South Dakota",
            "Tennessee",
            "Texas",
            "Utah",
            "Virginia",
            "Washington",
            "Wisconsin",
            "West Virginia"
           ],
           "locations": [
            "Alaska",
            "Alabama",
            "Arkansas",
            "Arizona",
            "California",
            "Colorado",
            "Connecticut",
            "Delaware",
            "Florida",
            "Georgia",
            "Hawaii",
            "Iowa",
            "Idaho",
            "Illinois",
            "Indiana",
            "Kansas",
            "Kentucky",
            "Louisiana",
            "Massachusetts",
            "Maryland",
            "Maine",
            "Michigan",
            "Minnesota",
            "Missouri",
            "Mississippi",
            "Montana",
            "North Carolina",
            "North Dakota",
            "Nebraska",
            "New Hampshire",
            "New Jersey",
            "New Mexico",
            "Nevada",
            "New York",
            "Ohio",
            "Oklahoma",
            "Oregon",
            "Pennsylvania",
            "South Carolina",
            "South Dakota",
            "Tennessee",
            "Texas",
            "Utah",
            "Virginia",
            "Washington",
            "Wisconsin",
            "West Virginia"
           ],
           "marker": {
            "opacity": 0.75
           },
           "name": "",
           "subplot": "mapbox",
           "type": "choroplethmapbox",
           "z": [
            219924.7,
            39095.1,
            14451.8,
            35816.74,
            350176.7,
            23005.7,
            745.1,
            10.5,
            411721.5,
            53335.01,
            2352.15,
            85,
            192801.62,
            531.1,
            1167.6,
            2662.3,
            175179.4,
            26577.1,
            269.3,
            5879.1,
            2243.54,
            1463.249,
            23136.32,
            17079.1,
            32258.9,
            162549.19,
            44664.4,
            6567.3,
            2473.552,
            152.81,
            4410.2,
            70558.31,
            598503.5,
            7118.24,
            941.9,
            30345.7,
            384247.23,
            742.7,
            36528,
            55260.743,
            62141.1,
            92226.2,
            124088.15,
            20906.1,
            223780.1,
            1364.55,
            95542.6
           ]
          }
         ],
         "name": "2001"
        },
        {
         "data": [
          {
           "coloraxis": "coloraxis",
           "customdata": [
            [
             2186646.1
            ],
            [
             38696
            ],
            [
             13649
            ],
            [
             629739.44
            ],
            [
             514942.7
            ],
            [
             476441.75
            ],
            [
             188.66
            ],
            [
             1270.1
            ],
            [
             61954.9
            ],
            [
             166894.82
            ],
            [
             7013.7
            ],
            [
             267
            ],
            [
             86211.15
            ],
            [
             100.8
            ],
            [
             766.2
            ],
            [
             65544
            ],
            [
             25857.4
            ],
            [
             24685.3
            ],
            [
             512.1
            ],
            [
             1786.1
            ],
            [
             784.0500000000001
            ],
            [
             967.4
            ],
            [
             64357.79
            ],
            [
             20534.7
            ],
            [
             34410.3
            ],
            [
             126100.33
            ],
            [
             29622
            ],
            [
             52819.600000000006
            ],
            [
             10095.06
            ],
            [
             158.75
            ],
            [
             5791.75
            ],
            [
             321166.17
            ],
            [
             53177.2
            ],
            [
             4001.53
            ],
            [
             348
            ],
            [
             42856.6
            ],
            [
             1011076.62
            ],
            [
             3173.793759
            ],
            [
             45485.6
            ],
            [
             118526.794
            ],
            [
             13353.7
            ],
            [
             43793.6
            ],
            [
             239124.41
            ],
            [
             19874.9
            ],
            [
             4.8
            ],
            [
             91469.27
            ],
            [
             2600.56
            ],
            [
             10802.4
            ]
           ],
           "featureidkey": "properties.name",
           "geojson": "us-states.json",
           "hovertemplate": "<b>%{hovertext}</b><br><br>Année=2002<br>Etat=%{location}<br>Etendue brûlée=%{z}<extra></extra>",
           "hovertext": [
            "Alaska",
            "Alabama",
            "Arkansas",
            "Arizona",
            "California",
            "Colorado",
            "Connecticut",
            "Delaware",
            "Florida",
            "Georgia",
            "Hawaii",
            "Iowa",
            "Idaho",
            "Illinois",
            "Indiana",
            "Kansas",
            "Kentucky",
            "Louisiana",
            "Massachusetts",
            "Maryland",
            "Maine",
            "Michigan",
            "Minnesota",
            "Missouri",
            "Mississippi",
            "Montana",
            "North Carolina",
            "North Dakota",
            "Nebraska",
            "New Hampshire",
            "New Jersey",
            "New Mexico",
            "Nevada",
            "New York",
            "Ohio",
            "Oklahoma",
            "Oregon",
            "Pennsylvania",
            "South Carolina",
            "South Dakota",
            "Tennessee",
            "Texas",
            "Utah",
            "Virginia",
            "Vermont",
            "Washington",
            "Wisconsin",
            "West Virginia"
           ],
           "locations": [
            "Alaska",
            "Alabama",
            "Arkansas",
            "Arizona",
            "California",
            "Colorado",
            "Connecticut",
            "Delaware",
            "Florida",
            "Georgia",
            "Hawaii",
            "Iowa",
            "Idaho",
            "Illinois",
            "Indiana",
            "Kansas",
            "Kentucky",
            "Louisiana",
            "Massachusetts",
            "Maryland",
            "Maine",
            "Michigan",
            "Minnesota",
            "Missouri",
            "Mississippi",
            "Montana",
            "North Carolina",
            "North Dakota",
            "Nebraska",
            "New Hampshire",
            "New Jersey",
            "New Mexico",
            "Nevada",
            "New York",
            "Ohio",
            "Oklahoma",
            "Oregon",
            "Pennsylvania",
            "South Carolina",
            "South Dakota",
            "Tennessee",
            "Texas",
            "Utah",
            "Virginia",
            "Vermont",
            "Washington",
            "Wisconsin",
            "West Virginia"
           ],
           "marker": {
            "opacity": 0.75
           },
           "name": "",
           "subplot": "mapbox",
           "type": "choroplethmapbox",
           "z": [
            2186646.1,
            38696,
            13649,
            629739.44,
            514942.7,
            476441.75,
            188.66,
            1270.1,
            61954.9,
            166894.82,
            7013.7,
            267,
            86211.15,
            100.8,
            766.2,
            65544,
            25857.4,
            24685.3,
            512.1,
            1786.1,
            784.0500000000001,
            967.4,
            64357.79,
            20534.7,
            34410.3,
            126100.33,
            29622,
            52819.600000000006,
            10095.06,
            158.75,
            5791.75,
            321166.17,
            53177.2,
            4001.53,
            348,
            42856.6,
            1011076.62,
            3173.793759,
            45485.6,
            118526.794,
            13353.7,
            43793.6,
            239124.41,
            19874.9,
            4.8,
            91469.27,
            2600.56,
            10802.4
           ]
          }
         ],
         "name": "2002"
        },
        {
         "data": [
          {
           "coloraxis": "coloraxis",
           "customdata": [
            [
             601674.01
            ],
            [
             20772.47
            ],
            [
             25986.17
            ],
            [
             200010.82
            ],
            [
             1031965.05
            ],
            [
             45611.91
            ],
            [
             137
            ],
            [
             265.3
            ],
            [
             46815.52
            ],
            [
             11517.38
            ],
            [
             24297.6
            ],
            [
             3333
            ],
            [
             336103.21
            ],
            [
             1596.95
            ],
            [
             1424
            ],
            [
             8034.2
            ],
            [
             19848.8
            ],
            [
             17359.8
            ],
            [
             393
            ],
            [
             1373.1
            ],
            [
             858.4
            ],
            [
             7065.059
            ],
            [
             156764.72
            ],
            [
             3276.02
            ],
            [
             24744.25
            ],
            [
             748396.31018
            ],
            [
             8103.1
            ],
            [
             22500.9
            ],
            [
             3316.35
            ],
            [
             89.55
            ],
            [
             926.25
            ],
            [
             213203.175
            ],
            [
             17385.95
            ],
            [
             3894.85
            ],
            [
             1829.694
            ],
            [
             100423.35
            ],
            [
             169621.16999999998
            ],
            [
             2082.12558
            ],
            [
             6721.85
            ],
            [
             81492.56
            ],
            [
             1612.2
            ],
            [
             54367.15
            ],
            [
             122967.76
            ],
            [
             5577.7
            ],
            [
             8.2
            ],
            [
             199540.61
            ],
            [
             9084.542
            ],
            [
             8380.35
            ]
           ],
           "featureidkey": "properties.name",
           "geojson": "us-states.json",
           "hovertemplate": "<b>%{hovertext}</b><br><br>Année=2003<br>Etat=%{location}<br>Etendue brûlée=%{z}<extra></extra>",
           "hovertext": [
            "Alaska",
            "Alabama",
            "Arkansas",
            "Arizona",
            "California",
            "Colorado",
            "Connecticut",
            "Delaware",
            "Florida",
            "Georgia",
            "Hawaii",
            "Iowa",
            "Idaho",
            "Illinois",
            "Indiana",
            "Kansas",
            "Kentucky",
            "Louisiana",
            "Massachusetts",
            "Maryland",
            "Maine",
            "Michigan",
            "Minnesota",
            "Missouri",
            "Mississippi",
            "Montana",
            "North Carolina",
            "North Dakota",
            "Nebraska",
            "New Hampshire",
            "New Jersey",
            "New Mexico",
            "Nevada",
            "New York",
            "Ohio",
            "Oklahoma",
            "Oregon",
            "Pennsylvania",
            "South Carolina",
            "South Dakota",
            "Tennessee",
            "Texas",
            "Utah",
            "Virginia",
            "Vermont",
            "Washington",
            "Wisconsin",
            "West Virginia"
           ],
           "locations": [
            "Alaska",
            "Alabama",
            "Arkansas",
            "Arizona",
            "California",
            "Colorado",
            "Connecticut",
            "Delaware",
            "Florida",
            "Georgia",
            "Hawaii",
            "Iowa",
            "Idaho",
            "Illinois",
            "Indiana",
            "Kansas",
            "Kentucky",
            "Louisiana",
            "Massachusetts",
            "Maryland",
            "Maine",
            "Michigan",
            "Minnesota",
            "Missouri",
            "Mississippi",
            "Montana",
            "North Carolina",
            "North Dakota",
            "Nebraska",
            "New Hampshire",
            "New Jersey",
            "New Mexico",
            "Nevada",
            "New York",
            "Ohio",
            "Oklahoma",
            "Oregon",
            "Pennsylvania",
            "South Carolina",
            "South Dakota",
            "Tennessee",
            "Texas",
            "Utah",
            "Virginia",
            "Vermont",
            "Washington",
            "Wisconsin",
            "West Virginia"
           ],
           "marker": {
            "opacity": 0.75
           },
           "name": "",
           "subplot": "mapbox",
           "type": "choroplethmapbox",
           "z": [
            601674.01,
            20772.47,
            25986.17,
            200010.82,
            1031965.05,
            45611.91,
            137,
            265.3,
            46815.52,
            11517.38,
            24297.6,
            3333,
            336103.21,
            1596.95,
            1424,
            8034.2,
            19848.8,
            17359.8,
            393,
            1373.1,
            858.4,
            7065.059,
            156764.72,
            3276.02,
            24744.25,
            748396.31018,
            8103.1,
            22500.9,
            3316.35,
            89.55,
            926.25,
            213203.175,
            17385.95,
            3894.85,
            1829.694,
            100423.35,
            169621.16999999998,
            2082.12558,
            6721.85,
            81492.56,
            1612.2,
            54367.15,
            122967.76,
            5577.7,
            8.2,
            199540.61,
            9084.542,
            8380.35
           ]
          }
         ],
         "name": "2003"
        },
        {
         "data": [
          {
           "coloraxis": "coloraxis",
           "customdata": [
            [
             6591868.60019
            ],
            [
             46886.84
            ],
            [
             23646.47
            ],
            [
             229629.73
            ],
            [
             301095.97000000003
            ],
            [
             33795.28
            ],
            [
             73.25
            ],
            [
             140.7
            ],
            [
             204330.82
            ],
            [
             35208.72996
            ],
            [
             3901.3
            ],
            [
             1110.5
            ],
            [
             19021.8
            ],
            [
             875.61
            ],
            [
             785.71
            ],
            [
             1679.7
            ],
            [
             22712.55
            ],
            [
             15114.5
            ],
            [
             197.8
            ],
            [
             6338.5
            ],
            [
             803.71
            ],
            [
             2745.13
            ],
            [
             45646.95
            ],
            [
             8217.49
            ],
            [
             41803.42
            ],
            [
             22868.07
            ],
            [
             16701.6
            ],
            [
             18249.89
            ],
            [
             3652.07
            ],
            [
             232.38
            ],
            [
             481.55
            ],
            [
             91896.73
            ],
            [
             41767.1
            ],
            [
             2700.18
            ],
            [
             227.82
            ],
            [
             70082.7
            ],
            [
             30383.74
            ],
            [
             2766.42199
            ],
            [
             23390.7
            ],
            [
             14652.8
            ],
            [
             2466.75
            ],
            [
             34553.4
            ],
            [
             85485.44
            ],
            [
             3231.6
            ],
            [
             15.7
            ],
            [
             93797.8
            ],
            [
             2354.912
            ],
            [
             6097.3
            ]
           ],
           "featureidkey": "properties.name",
           "geojson": "us-states.json",
           "hovertemplate": "<b>%{hovertext}</b><br><br>Année=2004<br>Etat=%{location}<br>Etendue brûlée=%{z}<extra></extra>",
           "hovertext": [
            "Alaska",
            "Alabama",
            "Arkansas",
            "Arizona",
            "California",
            "Colorado",
            "Connecticut",
            "Delaware",
            "Florida",
            "Georgia",
            "Hawaii",
            "Iowa",
            "Idaho",
            "Illinois",
            "Indiana",
            "Kansas",
            "Kentucky",
            "Louisiana",
            "Massachusetts",
            "Maryland",
            "Maine",
            "Michigan",
            "Minnesota",
            "Missouri",
            "Mississippi",
            "Montana",
            "North Carolina",
            "North Dakota",
            "Nebraska",
            "New Hampshire",
            "New Jersey",
            "New Mexico",
            "Nevada",
            "New York",
            "Ohio",
            "Oklahoma",
            "Oregon",
            "Pennsylvania",
            "South Carolina",
            "South Dakota",
            "Tennessee",
            "Texas",
            "Utah",
            "Virginia",
            "Vermont",
            "Washington",
            "Wisconsin",
            "West Virginia"
           ],
           "locations": [
            "Alaska",
            "Alabama",
            "Arkansas",
            "Arizona",
            "California",
            "Colorado",
            "Connecticut",
            "Delaware",
            "Florida",
            "Georgia",
            "Hawaii",
            "Iowa",
            "Idaho",
            "Illinois",
            "Indiana",
            "Kansas",
            "Kentucky",
            "Louisiana",
            "Massachusetts",
            "Maryland",
            "Maine",
            "Michigan",
            "Minnesota",
            "Missouri",
            "Mississippi",
            "Montana",
            "North Carolina",
            "North Dakota",
            "Nebraska",
            "New Hampshire",
            "New Jersey",
            "New Mexico",
            "Nevada",
            "New York",
            "Ohio",
            "Oklahoma",
            "Oregon",
            "Pennsylvania",
            "South Carolina",
            "South Dakota",
            "Tennessee",
            "Texas",
            "Utah",
            "Virginia",
            "Vermont",
            "Washington",
            "Wisconsin",
            "West Virginia"
           ],
           "marker": {
            "opacity": 0.75
           },
           "name": "",
           "subplot": "mapbox",
           "type": "choroplethmapbox",
           "z": [
            6591868.60019,
            46886.84,
            23646.47,
            229629.73,
            301095.97000000003,
            33795.28,
            73.25,
            140.7,
            204330.82,
            35208.72996,
            3901.3,
            1110.5,
            19021.8,
            875.61,
            785.71,
            1679.7,
            22712.55,
            15114.5,
            197.8,
            6338.5,
            803.71,
            2745.13,
            45646.95,
            8217.49,
            41803.42,
            22868.07,
            16701.6,
            18249.89,
            3652.07,
            232.38,
            481.55,
            91896.73,
            41767.1,
            2700.18,
            227.82,
            70082.7,
            30383.74,
            2766.42199,
            23390.7,
            14652.8,
            2466.75,
            34553.4,
            85485.44,
            3231.6,
            15.7,
            93797.8,
            2354.912,
            6097.3
           ]
          }
         ],
         "name": "2004"
        },
        {
         "data": [
          {
           "coloraxis": "coloraxis",
           "customdata": [
            [
             4635898.652
            ],
            [
             43207.97
            ],
            [
             40433.29001
            ],
            [
             902867.18999
            ],
            [
             258714.87
            ],
            [
             39413.54
            ],
            [
             254.75
            ],
            [
             167.4
            ],
            [
             39694.47
            ],
            [
             19453.99
            ],
            [
             45629.600000000006
            ],
            [
             6502.1
            ],
            [
             648906.48
            ],
            [
             980.55
            ],
            [
             575.5
            ],
            [
             22922.5
            ],
            [
             56442.935
            ],
            [
             66385.102
            ],
            [
             830.7
            ],
            [
             4033.9
            ],
            [
             724.74
            ],
            [
             4517.812
            ],
            [
             22455.77
            ],
            [
             18188.81
            ],
            [
             55601.2
            ],
            [
             114587.86
            ],
            [
             16156.35001
            ],
            [
             18726.1
            ],
            [
             6481.12
            ],
            [
             114.73
            ],
            [
             1346.25
            ],
            [
             179194.535
            ],
            [
             1102037.05
            ],
            [
             5030.94
            ],
            [
             1072.343
            ],
            [
             293010.45
            ],
            [
             139643.78
            ],
            [
             4170.06701
            ],
            [
             36
            ],
            [
             14747.145
            ],
            [
             47559.43901
            ],
            [
             24853
            ],
            [
             288851.35
            ],
            [
             252095.79
            ],
            [
             5424.54999
            ],
            [
             23.2
            ],
            [
             138874.15
            ],
            [
             6513.318
            ],
            [
             15436.5
            ]
           ],
           "featureidkey": "properties.name",
           "geojson": "us-states.json",
           "hovertemplate": "<b>%{hovertext}</b><br><br>Année=2005<br>Etat=%{location}<br>Etendue brûlée=%{z}<extra></extra>",
           "hovertext": [
            "Alaska",
            "Alabama",
            "Arkansas",
            "Arizona",
            "California",
            "Colorado",
            "Connecticut",
            "Delaware",
            "Florida",
            "Georgia",
            "Hawaii",
            "Iowa",
            "Idaho",
            "Illinois",
            "Indiana",
            "Kansas",
            "Kentucky",
            "Louisiana",
            "Massachusetts",
            "Maryland",
            "Maine",
            "Michigan",
            "Minnesota",
            "Missouri",
            "Mississippi",
            "Montana",
            "North Carolina",
            "North Dakota",
            "Nebraska",
            "New Hampshire",
            "New Jersey",
            "New Mexico",
            "Nevada",
            "New York",
            "Ohio",
            "Oklahoma",
            "Oregon",
            "Pennsylvania",
            "Rhode Island",
            "South Carolina",
            "South Dakota",
            "Tennessee",
            "Texas",
            "Utah",
            "Virginia",
            "Vermont",
            "Washington",
            "Wisconsin",
            "West Virginia"
           ],
           "locations": [
            "Alaska",
            "Alabama",
            "Arkansas",
            "Arizona",
            "California",
            "Colorado",
            "Connecticut",
            "Delaware",
            "Florida",
            "Georgia",
            "Hawaii",
            "Iowa",
            "Idaho",
            "Illinois",
            "Indiana",
            "Kansas",
            "Kentucky",
            "Louisiana",
            "Massachusetts",
            "Maryland",
            "Maine",
            "Michigan",
            "Minnesota",
            "Missouri",
            "Mississippi",
            "Montana",
            "North Carolina",
            "North Dakota",
            "Nebraska",
            "New Hampshire",
            "New Jersey",
            "New Mexico",
            "Nevada",
            "New York",
            "Ohio",
            "Oklahoma",
            "Oregon",
            "Pennsylvania",
            "Rhode Island",
            "South Carolina",
            "South Dakota",
            "Tennessee",
            "Texas",
            "Utah",
            "Virginia",
            "Vermont",
            "Washington",
            "Wisconsin",
            "West Virginia"
           ],
           "marker": {
            "opacity": 0.75
           },
           "name": "",
           "subplot": "mapbox",
           "type": "choroplethmapbox",
           "z": [
            4635898.652,
            43207.97,
            40433.29001,
            902867.18999,
            258714.87,
            39413.54,
            254.75,
            167.4,
            39694.47,
            19453.99,
            45629.600000000006,
            6502.1,
            648906.48,
            980.55,
            575.5,
            22922.5,
            56442.935,
            66385.102,
            830.7,
            4033.9,
            724.74,
            4517.812,
            22455.77,
            18188.81,
            55601.2,
            114587.86,
            16156.35001,
            18726.1,
            6481.12,
            114.73,
            1346.25,
            179194.535,
            1102037.05,
            5030.94,
            1072.343,
            293010.45,
            139643.78,
            4170.06701,
            36,
            14747.145,
            47559.43901,
            24853,
            288851.35,
            252095.79,
            5424.54999,
            23.2,
            138874.15,
            6513.318,
            15436.5
           ]
          }
         ],
         "name": "2005"
        },
        {
         "data": [
          {
           "coloraxis": "coloraxis",
           "customdata": [
            [
             254513.8
            ],
            [
             79549.12
            ],
            [
             67939.81
            ],
            [
             181533.98
            ],
            [
             812711.94
            ],
            [
             45893.76
            ],
            [
             433.5
            ],
            [
             253574.13998
            ],
            [
             37917.18001
            ],
            [
             13496.15
            ],
            [
             5371.03
            ],
            [
             910786.471
            ],
            [
             273.2
            ],
            [
             987.35
            ],
            [
             79170.4
            ],
            [
             53632.32
            ],
            [
             41984
            ],
            [
             23.2
            ],
            [
             6832.5
            ],
            [
             1841.35
            ],
            [
             7831.17
            ],
            [
             72405.91
            ],
            [
             24299.16
            ],
            [
             131124.75
            ],
            [
             866652.06
            ],
            [
             23369.94999
            ],
            [
             23708.35
            ],
            [
             89062.505
            ],
            [
             291.239
            ],
            [
             2507.25
            ],
            [
             546954.102
            ],
            [
             1328663.69
            ],
            [
             6774.11
            ],
            [
             1280.213
            ],
            [
             416561.12
            ],
            [
             500568.82
            ],
            [
             7880.163579999999
            ],
            [
             93
            ],
            [
             17646.26
            ],
            [
             197570.561
            ],
            [
             32782.8
            ],
            [
             1852752.99999
            ],
            [
             346008.861
            ],
            [
             23966.96
            ],
            [
             5.95
            ],
            [
             398481.11
            ],
            [
             3074.516
            ],
            [
             16152.4
            ]
           ],
           "featureidkey": "properties.name",
           "geojson": "us-states.json",
           "hovertemplate": "<b>%{hovertext}</b><br><br>Année=2006<br>Etat=%{location}<br>Etendue brûlée=%{z}<extra></extra>",
           "hovertext": [
            "Alaska",
            "Alabama",
            "Arkansas",
            "Arizona",
            "California",
            "Colorado",
            "Connecticut",
            "Florida",
            "Georgia",
            "Hawaii",
            "Iowa",
            "Idaho",
            "Illinois",
            "Indiana",
            "Kansas",
            "Kentucky",
            "Louisiana",
            "Massachusetts",
            "Maryland",
            "Maine",
            "Michigan",
            "Minnesota",
            "Missouri",
            "Mississippi",
            "Montana",
            "North Carolina",
            "North Dakota",
            "Nebraska",
            "New Hampshire",
            "New Jersey",
            "New Mexico",
            "Nevada",
            "New York",
            "Ohio",
            "Oklahoma",
            "Oregon",
            "Pennsylvania",
            "Rhode Island",
            "South Carolina",
            "South Dakota",
            "Tennessee",
            "Texas",
            "Utah",
            "Virginia",
            "Vermont",
            "Washington",
            "Wisconsin",
            "West Virginia"
           ],
           "locations": [
            "Alaska",
            "Alabama",
            "Arkansas",
            "Arizona",
            "California",
            "Colorado",
            "Connecticut",
            "Florida",
            "Georgia",
            "Hawaii",
            "Iowa",
            "Idaho",
            "Illinois",
            "Indiana",
            "Kansas",
            "Kentucky",
            "Louisiana",
            "Massachusetts",
            "Maryland",
            "Maine",
            "Michigan",
            "Minnesota",
            "Missouri",
            "Mississippi",
            "Montana",
            "North Carolina",
            "North Dakota",
            "Nebraska",
            "New Hampshire",
            "New Jersey",
            "New Mexico",
            "Nevada",
            "New York",
            "Ohio",
            "Oklahoma",
            "Oregon",
            "Pennsylvania",
            "Rhode Island",
            "South Carolina",
            "South Dakota",
            "Tennessee",
            "Texas",
            "Utah",
            "Virginia",
            "Vermont",
            "Washington",
            "Wisconsin",
            "West Virginia"
           ],
           "marker": {
            "opacity": 0.75
           },
           "name": "",
           "subplot": "mapbox",
           "type": "choroplethmapbox",
           "z": [
            254513.8,
            79549.12,
            67939.81,
            181533.98,
            812711.94,
            45893.76,
            433.5,
            253574.13998,
            37917.18001,
            13496.15,
            5371.03,
            910786.471,
            273.2,
            987.35,
            79170.4,
            53632.32,
            41984,
            23.2,
            6832.5,
            1841.35,
            7831.17,
            72405.91,
            24299.16,
            131124.75,
            866652.06,
            23369.94999,
            23708.35,
            89062.505,
            291.239,
            2507.25,
            546954.102,
            1328663.69,
            6774.11,
            1280.213,
            416561.12,
            500568.82,
            7880.163579999999,
            93,
            17646.26,
            197570.561,
            32782.8,
            1852752.99999,
            346008.861,
            23966.96,
            5.95,
            398481.11,
            3074.516,
            16152.4
           ]
          }
         ],
         "name": "2006"
        },
        {
         "data": [
          {
           "coloraxis": "coloraxis",
           "customdata": [
            [
             634466.10002
            ],
            [
             56785.19
            ],
            [
             25684.42
            ],
            [
             115188.73
            ],
            [
             1045291.62
            ],
            [
             14026.05
            ],
            [
             281.05
            ],
            [
             0.2
            ],
            [
             546923.28997
            ],
            [
             327460.01013
            ],
            [
             39675.15
            ],
            [
             841.563
            ],
            [
             2184656.24
            ],
            [
             830.9
            ],
            [
             2109.01
            ],
            [
             16736.71
            ],
            [
             65614.22
            ],
            [
             772
            ],
            [
             205.4
            ],
            [
             7314.8
            ],
            [
             496.73
            ],
            [
             23095.204
            ],
            [
             164404.56
            ],
            [
             14246.45
            ],
            [
             52528.63
            ],
            [
             744542.86
            ],
            [
             50416.8
            ],
            [
             18860.9
            ],
            [
             20698.8245
            ],
            [
             145.49
            ],
            [
             20614.6
            ],
            [
             144285.17001
            ],
            [
             946541.3
            ],
            [
             4143.1
            ],
            [
             827.72
            ],
            [
             56966.66
            ],
            [
             567205.89
            ],
            [
             1131.1865
            ],
            [
             37
            ],
            [
             22275.6
            ],
            [
             81107.197
            ],
            [
             54314.83
            ],
            [
             135033.55
            ],
            [
             645219.25001
            ],
            [
             15894.49
            ],
            [
             10.75
            ],
            [
             264591.02
            ],
            [
             4452.04301
            ],
            [
             7519.69
            ]
           ],
           "featureidkey": "properties.name",
           "geojson": "us-states.json",
           "hovertemplate": "<b>%{hovertext}</b><br><br>Année=2007<br>Etat=%{location}<br>Etendue brûlée=%{z}<extra></extra>",
           "hovertext": [
            "Alaska",
            "Alabama",
            "Arkansas",
            "Arizona",
            "California",
            "Colorado",
            "Connecticut",
            "Delaware",
            "Florida",
            "Georgia",
            "Hawaii",
            "Iowa",
            "Idaho",
            "Illinois",
            "Indiana",
            "Kansas",
            "Kentucky",
            "Louisiana",
            "Massachusetts",
            "Maryland",
            "Maine",
            "Michigan",
            "Minnesota",
            "Missouri",
            "Mississippi",
            "Montana",
            "North Carolina",
            "North Dakota",
            "Nebraska",
            "New Hampshire",
            "New Jersey",
            "New Mexico",
            "Nevada",
            "New York",
            "Ohio",
            "Oklahoma",
            "Oregon",
            "Pennsylvania",
            "Rhode Island",
            "South Carolina",
            "South Dakota",
            "Tennessee",
            "Texas",
            "Utah",
            "Virginia",
            "Vermont",
            "Washington",
            "Wisconsin",
            "West Virginia"
           ],
           "locations": [
            "Alaska",
            "Alabama",
            "Arkansas",
            "Arizona",
            "California",
            "Colorado",
            "Connecticut",
            "Delaware",
            "Florida",
            "Georgia",
            "Hawaii",
            "Iowa",
            "Idaho",
            "Illinois",
            "Indiana",
            "Kansas",
            "Kentucky",
            "Louisiana",
            "Massachusetts",
            "Maryland",
            "Maine",
            "Michigan",
            "Minnesota",
            "Missouri",
            "Mississippi",
            "Montana",
            "North Carolina",
            "North Dakota",
            "Nebraska",
            "New Hampshire",
            "New Jersey",
            "New Mexico",
            "Nevada",
            "New York",
            "Ohio",
            "Oklahoma",
            "Oregon",
            "Pennsylvania",
            "Rhode Island",
            "South Carolina",
            "South Dakota",
            "Tennessee",
            "Texas",
            "Utah",
            "Virginia",
            "Vermont",
            "Washington",
            "Wisconsin",
            "West Virginia"
           ],
           "marker": {
            "opacity": 0.75
           },
           "name": "",
           "subplot": "mapbox",
           "type": "choroplethmapbox",
           "z": [
            634466.10002,
            56785.19,
            25684.42,
            115188.73,
            1045291.62,
            14026.05,
            281.05,
            0.2,
            546923.28997,
            327460.01013,
            39675.15,
            841.563,
            2184656.24,
            830.9,
            2109.01,
            16736.71,
            65614.22,
            772,
            205.4,
            7314.8,
            496.73,
            23095.204,
            164404.56,
            14246.45,
            52528.63,
            744542.86,
            50416.8,
            18860.9,
            20698.8245,
            145.49,
            20614.6,
            144285.17001,
            946541.3,
            4143.1,
            827.72,
            56966.66,
            567205.89,
            1131.1865,
            37,
            22275.6,
            81107.197,
            54314.83,
            135033.55,
            645219.25001,
            15894.49,
            10.75,
            264591.02,
            4452.04301,
            7519.69
           ]
          }
         ],
         "name": "2007"
        },
        {
         "data": [
          {
           "coloraxis": "coloraxis",
           "customdata": [
            [
             92477.6
            ],
            [
             23296.29
            ],
            [
             11199.43
            ],
            [
             113915.38
            ],
            [
             1430153.6
            ],
            [
             112023.63
            ],
            [
             2055.8
            ],
            [
             184492.35989
            ],
            [
             25892.21998
            ],
            [
             6128.639999999999
            ],
            [
             1688.46
            ],
            [
             175190.36
            ],
            [
             939.89
            ],
            [
             143.4
            ],
            [
             74248.2
            ],
            [
             38915.15
            ],
            [
             24321.52732
            ],
            [
             848.5
            ],
            [
             2794.1
            ],
            [
             549.63
            ],
            [
             2612.92
            ],
            [
             21197.02
            ],
            [
             5933.76
            ],
            [
             36347.34
            ],
            [
             169869.3
            ],
            [
             82255.65001
            ],
            [
             29906.05
            ],
            [
             7784.8202
            ],
            [
             185.07
            ],
            [
             3251.95
            ],
            [
             365494.54
            ],
            [
             79277.23
            ],
            [
             8121.8
            ],
            [
             484.235
            ],
            [
             146092.23
            ],
            [
             240911.43
            ],
            [
             7610.5693
            ],
            [
             91
            ],
            [
             17397.77998
            ],
            [
             41420.353
            ],
            [
             22647.47001
            ],
            [
             1483416.11999
            ],
            [
             34116.74
            ],
            [
             42793.05
            ],
            [
             18.7
            ],
            [
             117879.42
            ],
            [
             901.632
            ],
            [
             14352.45
            ]
           ],
           "featureidkey": "properties.name",
           "geojson": "us-states.json",
           "hovertemplate": "<b>%{hovertext}</b><br><br>Année=2008<br>Etat=%{location}<br>Etendue brûlée=%{z}<extra></extra>",
           "hovertext": [
            "Alaska",
            "Alabama",
            "Arkansas",
            "Arizona",
            "California",
            "Colorado",
            "Connecticut",
            "Florida",
            "Georgia",
            "Hawaii",
            "Iowa",
            "Idaho",
            "Illinois",
            "Indiana",
            "Kansas",
            "Kentucky",
            "Louisiana",
            "Massachusetts",
            "Maryland",
            "Maine",
            "Michigan",
            "Minnesota",
            "Missouri",
            "Mississippi",
            "Montana",
            "North Carolina",
            "North Dakota",
            "Nebraska",
            "New Hampshire",
            "New Jersey",
            "New Mexico",
            "Nevada",
            "New York",
            "Ohio",
            "Oklahoma",
            "Oregon",
            "Pennsylvania",
            "Rhode Island",
            "South Carolina",
            "South Dakota",
            "Tennessee",
            "Texas",
            "Utah",
            "Virginia",
            "Vermont",
            "Washington",
            "Wisconsin",
            "West Virginia"
           ],
           "locations": [
            "Alaska",
            "Alabama",
            "Arkansas",
            "Arizona",
            "California",
            "Colorado",
            "Connecticut",
            "Florida",
            "Georgia",
            "Hawaii",
            "Iowa",
            "Idaho",
            "Illinois",
            "Indiana",
            "Kansas",
            "Kentucky",
            "Louisiana",
            "Massachusetts",
            "Maryland",
            "Maine",
            "Michigan",
            "Minnesota",
            "Missouri",
            "Mississippi",
            "Montana",
            "North Carolina",
            "North Dakota",
            "Nebraska",
            "New Hampshire",
            "New Jersey",
            "New Mexico",
            "Nevada",
            "New York",
            "Ohio",
            "Oklahoma",
            "Oregon",
            "Pennsylvania",
            "Rhode Island",
            "South Carolina",
            "South Dakota",
            "Tennessee",
            "Texas",
            "Utah",
            "Virginia",
            "Vermont",
            "Washington",
            "Wisconsin",
            "West Virginia"
           ],
           "marker": {
            "opacity": 0.75
           },
           "name": "",
           "subplot": "mapbox",
           "type": "choroplethmapbox",
           "z": [
            92477.6,
            23296.29,
            11199.43,
            113915.38,
            1430153.6,
            112023.63,
            2055.8,
            184492.35989,
            25892.21998,
            6128.639999999999,
            1688.46,
            175190.36,
            939.89,
            143.4,
            74248.2,
            38915.15,
            24321.52732,
            848.5,
            2794.1,
            549.63,
            2612.92,
            21197.02,
            5933.76,
            36347.34,
            169869.3,
            82255.65001,
            29906.05,
            7784.8202,
            185.07,
            3251.95,
            365494.54,
            79277.23,
            8121.8,
            484.235,
            146092.23,
            240911.43,
            7610.5693,
            91,
            17397.77998,
            41420.353,
            22647.47001,
            1483416.11999,
            34116.74,
            42793.05,
            18.7,
            117879.42,
            901.632,
            14352.45
           ]
          }
         ],
         "name": "2008"
        },
        {
         "data": [
          {
           "coloraxis": "coloraxis",
           "customdata": [
            [
             2949593.97
            ],
            [
             24927.74
            ],
            [
             17775.74
            ],
            [
             222065.28
            ],
            [
             455350.04
            ],
            [
             37723.96
            ],
            [
             244.83
            ],
            [
             144533.74001
            ],
            [
             17790.82998
            ],
            [
             11802.4
            ],
            [
             7948.952
            ],
            [
             23907.91
            ],
            [
             3263.4
            ],
            [
             109.1
            ],
            [
             38965.2
            ],
            [
             43494.91
            ],
            [
             35312.325157
            ],
            [
             1
            ],
            [
             4606.9
            ],
            [
             474.78
            ],
            [
             3209.4300000000003
            ],
            [
             11715.91
            ],
            [
             17994.88
            ],
            [
             27004.35
            ],
            [
             53706.39
            ],
            [
             19358.15
            ],
            [
             3314.1600000000003
            ],
            [
             11186.551
            ],
            [
             121.785
            ],
            [
             568.25
            ],
            [
             423159.08
            ],
            [
             28678.98
            ],
            [
             5237.41
            ],
            [
             4784.42
            ],
            [
             403834.45
            ],
            [
             89058.37
            ],
            [
             6205.11182
            ],
            [
             50.63
            ],
            [
             30566.22
            ],
            [
             38708.7853
            ],
            [
             18139.07
            ],
            [
             557794.48
            ],
            [
             114485.482
            ],
            [
             8032.24
            ],
            [
             0.5
            ],
            [
             87063.29000000001
            ],
            [
             4144.724447
            ],
            [
             16630
            ]
           ],
           "featureidkey": "properties.name",
           "geojson": "us-states.json",
           "hovertemplate": "<b>%{hovertext}</b><br><br>Année=2009<br>Etat=%{location}<br>Etendue brûlée=%{z}<extra></extra>",
           "hovertext": [
            "Alaska",
            "Alabama",
            "Arkansas",
            "Arizona",
            "California",
            "Colorado",
            "Connecticut",
            "Florida",
            "Georgia",
            "Hawaii",
            "Iowa",
            "Idaho",
            "Illinois",
            "Indiana",
            "Kansas",
            "Kentucky",
            "Louisiana",
            "Massachusetts",
            "Maryland",
            "Maine",
            "Michigan",
            "Minnesota",
            "Missouri",
            "Mississippi",
            "Montana",
            "North Carolina",
            "North Dakota",
            "Nebraska",
            "New Hampshire",
            "New Jersey",
            "New Mexico",
            "Nevada",
            "New York",
            "Ohio",
            "Oklahoma",
            "Oregon",
            "Pennsylvania",
            "Rhode Island",
            "South Carolina",
            "South Dakota",
            "Tennessee",
            "Texas",
            "Utah",
            "Virginia",
            "Vermont",
            "Washington",
            "Wisconsin",
            "West Virginia"
           ],
           "locations": [
            "Alaska",
            "Alabama",
            "Arkansas",
            "Arizona",
            "California",
            "Colorado",
            "Connecticut",
            "Florida",
            "Georgia",
            "Hawaii",
            "Iowa",
            "Idaho",
            "Illinois",
            "Indiana",
            "Kansas",
            "Kentucky",
            "Louisiana",
            "Massachusetts",
            "Maryland",
            "Maine",
            "Michigan",
            "Minnesota",
            "Missouri",
            "Mississippi",
            "Montana",
            "North Carolina",
            "North Dakota",
            "Nebraska",
            "New Hampshire",
            "New Jersey",
            "New Mexico",
            "Nevada",
            "New York",
            "Ohio",
            "Oklahoma",
            "Oregon",
            "Pennsylvania",
            "Rhode Island",
            "South Carolina",
            "South Dakota",
            "Tennessee",
            "Texas",
            "Utah",
            "Virginia",
            "Vermont",
            "Washington",
            "Wisconsin",
            "West Virginia"
           ],
           "marker": {
            "opacity": 0.75
           },
           "name": "",
           "subplot": "mapbox",
           "type": "choroplethmapbox",
           "z": [
            2949593.97,
            24927.74,
            17775.74,
            222065.28,
            455350.04,
            37723.96,
            244.83,
            144533.74001,
            17790.82998,
            11802.4,
            7948.952,
            23907.91,
            3263.4,
            109.1,
            38965.2,
            43494.91,
            35312.325157,
            1,
            4606.9,
            474.78,
            3209.4300000000003,
            11715.91,
            17994.88,
            27004.35,
            53706.39,
            19358.15,
            3314.1600000000003,
            11186.551,
            121.785,
            568.25,
            423159.08,
            28678.98,
            5237.41,
            4784.42,
            403834.45,
            89058.37,
            6205.11182,
            50.63,
            30566.22,
            38708.7853,
            18139.07,
            557794.48,
            114485.482,
            8032.24,
            0.5,
            87063.29000000001,
            4144.724447,
            16630
           ]
          }
         ],
         "name": "2009"
        },
        {
         "data": [
          {
           "coloraxis": "coloraxis",
           "customdata": [
            [
             1137532.67
            ],
            [
             42078.47
            ],
            [
             34754.71
            ],
            [
             87723.81999999999
            ],
            [
             120947.04
            ],
            [
             51895.06
            ],
            [
             456.03
            ],
            [
             3
            ],
            [
             62874.2
            ],
            [
             23388.36
            ],
            [
             15212.82
            ],
            [
             2404.942
            ],
            [
             643868.16
            ],
            [
             2608.55
            ],
            [
             1570.1
            ],
            [
             25108.81
            ],
            [
             60209.45
            ],
            [
             43732.9999
            ],
            [
             322.2
            ],
            [
             3580.6000000000004
            ],
            [
             296.79
            ],
            [
             12051.41
            ],
            [
             35680.34
            ],
            [
             14471.5
            ],
            [
             36547.72
            ],
            [
             57476.1
            ],
            [
             16987.3
            ],
            [
             3754.8
            ],
            [
             23333.69
            ],
            [
             52.043
            ],
            [
             6757.8
            ],
            [
             131088.17
            ],
            [
             19970.15
            ],
            [
             4300.13
            ],
            [
             1512.98
            ],
            [
             112898.1
            ],
            [
             87747.88
            ],
            [
             3499.96599
            ],
            [
             9468.37
            ],
            [
             5634.24
            ],
            [
             22093.45
            ],
            [
             238202.03
            ],
            [
             62650.78
            ],
            [
             11554.63
            ],
            [
             0.35
            ],
            [
             93046.3
            ],
            [
             2531.3456
            ],
            [
             25454.16
            ]
           ],
           "featureidkey": "properties.name",
           "geojson": "us-states.json",
           "hovertemplate": "<b>%{hovertext}</b><br><br>Année=2010<br>Etat=%{location}<br>Etendue brûlée=%{z}<extra></extra>",
           "hovertext": [
            "Alaska",
            "Alabama",
            "Arkansas",
            "Arizona",
            "California",
            "Colorado",
            "Connecticut",
            "Delaware",
            "Florida",
            "Georgia",
            "Hawaii",
            "Iowa",
            "Idaho",
            "Illinois",
            "Indiana",
            "Kansas",
            "Kentucky",
            "Louisiana",
            "Massachusetts",
            "Maryland",
            "Maine",
            "Michigan",
            "Minnesota",
            "Missouri",
            "Mississippi",
            "Montana",
            "North Carolina",
            "North Dakota",
            "Nebraska",
            "New Hampshire",
            "New Jersey",
            "New Mexico",
            "Nevada",
            "New York",
            "Ohio",
            "Oklahoma",
            "Oregon",
            "Pennsylvania",
            "South Carolina",
            "South Dakota",
            "Tennessee",
            "Texas",
            "Utah",
            "Virginia",
            "Vermont",
            "Washington",
            "Wisconsin",
            "West Virginia"
           ],
           "locations": [
            "Alaska",
            "Alabama",
            "Arkansas",
            "Arizona",
            "California",
            "Colorado",
            "Connecticut",
            "Delaware",
            "Florida",
            "Georgia",
            "Hawaii",
            "Iowa",
            "Idaho",
            "Illinois",
            "Indiana",
            "Kansas",
            "Kentucky",
            "Louisiana",
            "Massachusetts",
            "Maryland",
            "Maine",
            "Michigan",
            "Minnesota",
            "Missouri",
            "Mississippi",
            "Montana",
            "North Carolina",
            "North Dakota",
            "Nebraska",
            "New Hampshire",
            "New Jersey",
            "New Mexico",
            "Nevada",
            "New York",
            "Ohio",
            "Oklahoma",
            "Oregon",
            "Pennsylvania",
            "South Carolina",
            "South Dakota",
            "Tennessee",
            "Texas",
            "Utah",
            "Virginia",
            "Vermont",
            "Washington",
            "Wisconsin",
            "West Virginia"
           ],
           "marker": {
            "opacity": 0.75
           },
           "name": "",
           "subplot": "mapbox",
           "type": "choroplethmapbox",
           "z": [
            1137532.67,
            42078.47,
            34754.71,
            87723.81999999999,
            120947.04,
            51895.06,
            456.03,
            3,
            62874.2,
            23388.36,
            15212.82,
            2404.942,
            643868.16,
            2608.55,
            1570.1,
            25108.81,
            60209.45,
            43732.9999,
            322.2,
            3580.6000000000004,
            296.79,
            12051.41,
            35680.34,
            14471.5,
            36547.72,
            57476.1,
            16987.3,
            3754.8,
            23333.69,
            52.043,
            6757.8,
            131088.17,
            19970.15,
            4300.13,
            1512.98,
            112898.1,
            87747.88,
            3499.96599,
            9468.37,
            5634.24,
            22093.45,
            238202.03,
            62650.78,
            11554.63,
            0.35,
            93046.3,
            2531.3456,
            25454.16
           ]
          }
         ],
         "name": "2010"
        },
        {
         "data": [
          {
           "coloraxis": "coloraxis",
           "customdata": [
            [
             293004.1
            ],
            [
             54097.18
            ],
            [
             47899.69
            ],
            [
             1037769.11
            ],
            [
             192286.92
            ],
            [
             127220.57
            ],
            [
             237.38
            ],
            [
             331175.8
            ],
            [
             437909.59
            ],
            [
             4929.58
            ],
            [
             7461.4325
            ],
            [
             409349.05
            ],
            [
             2223.53
            ],
            [
             699.5
            ],
            [
             91610.11
            ],
            [
             23874.23
            ],
            [
             37838.91
            ],
            [
             10247.38
            ],
            [
             167.69
            ],
            [
             1832.48
            ],
            [
             139066.68
            ],
            [
             31844.55
            ],
            [
             29025.64
            ],
            [
             139286.18
            ],
            [
             109498.78
            ],
            [
             4049.38
            ],
            [
             39060.632
            ],
            [
             4.45
            ],
            [
             149.25
            ],
            [
             1143943.72
            ],
            [
             422953.15
            ],
            [
             1370.94
            ],
            [
             287.74
            ],
            [
             327168.1
            ],
            [
             224034.59
            ],
            [
             579.41
            ],
            [
             28.04
            ],
            [
             29686.05
            ],
            [
             66036.496
            ],
            [
             14787
            ],
            [
             3498724.95
            ],
            [
             62043.63
            ],
            [
             25008.88
            ],
            [
             38613.25
            ],
            [
             635.757
            ],
            [
             5811.46
            ]
           ],
           "featureidkey": "properties.name",
           "geojson": "us-states.json",
           "hovertemplate": "<b>%{hovertext}</b><br><br>Année=2011<br>Etat=%{location}<br>Etendue brûlée=%{z}<extra></extra>",
           "hovertext": [
            "Alaska",
            "Alabama",
            "Arkansas",
            "Arizona",
            "California",
            "Colorado",
            "Connecticut",
            "Florida",
            "Georgia",
            "Hawaii",
            "Iowa",
            "Idaho",
            "Illinois",
            "Indiana",
            "Kansas",
            "Kentucky",
            "Louisiana",
            "Maryland",
            "Maine",
            "Michigan",
            "Minnesota",
            "Missouri",
            "Mississippi",
            "Montana",
            "North Carolina",
            "North Dakota",
            "Nebraska",
            "New Hampshire",
            "New Jersey",
            "New Mexico",
            "Nevada",
            "New York",
            "Ohio",
            "Oklahoma",
            "Oregon",
            "Pennsylvania",
            "Rhode Island",
            "South Carolina",
            "South Dakota",
            "Tennessee",
            "Texas",
            "Utah",
            "Virginia",
            "Washington",
            "Wisconsin",
            "West Virginia"
           ],
           "locations": [
            "Alaska",
            "Alabama",
            "Arkansas",
            "Arizona",
            "California",
            "Colorado",
            "Connecticut",
            "Florida",
            "Georgia",
            "Hawaii",
            "Iowa",
            "Idaho",
            "Illinois",
            "Indiana",
            "Kansas",
            "Kentucky",
            "Louisiana",
            "Maryland",
            "Maine",
            "Michigan",
            "Minnesota",
            "Missouri",
            "Mississippi",
            "Montana",
            "North Carolina",
            "North Dakota",
            "Nebraska",
            "New Hampshire",
            "New Jersey",
            "New Mexico",
            "Nevada",
            "New York",
            "Ohio",
            "Oklahoma",
            "Oregon",
            "Pennsylvania",
            "Rhode Island",
            "South Carolina",
            "South Dakota",
            "Tennessee",
            "Texas",
            "Utah",
            "Virginia",
            "Washington",
            "Wisconsin",
            "West Virginia"
           ],
           "marker": {
            "opacity": 0.75
           },
           "name": "",
           "subplot": "mapbox",
           "type": "choroplethmapbox",
           "z": [
            293004.1,
            54097.18,
            47899.69,
            1037769.11,
            192286.92,
            127220.57,
            237.38,
            331175.8,
            437909.59,
            4929.58,
            7461.4325,
            409349.05,
            2223.53,
            699.5,
            91610.11,
            23874.23,
            37838.91,
            10247.38,
            167.69,
            1832.48,
            139066.68,
            31844.55,
            29025.64,
            139286.18,
            109498.78,
            4049.38,
            39060.632,
            4.45,
            149.25,
            1143943.72,
            422953.15,
            1370.94,
            287.74,
            327168.1,
            224034.59,
            579.41,
            28.04,
            29686.05,
            66036.496,
            14787,
            3498724.95,
            62043.63,
            25008.88,
            38613.25,
            635.757,
            5811.46
           ]
          }
         ],
         "name": "2011"
        },
        {
         "data": [
          {
           "coloraxis": "coloraxis",
           "customdata": [
            [
             300587
            ],
            [
             29156.46
            ],
            [
             38848.49
            ],
            [
             228818.6
            ],
            [
             764766.64
            ],
            [
             271263.39
            ],
            [
             517.3
            ],
            [
             39.85
            ],
            [
             138965.24
            ],
            [
             25434.62
            ],
            [
             4987.71
            ],
            [
             3985.011
            ],
            [
             1775106.39
            ],
            [
             1356.15
            ],
            [
             1042.2
            ],
            [
             57330.13
            ],
            [
             32630.53
            ],
            [
             10519.22
            ],
            [
             2.9
            ],
            [
             1439.9
            ],
            [
             469.85
            ],
            [
             28326.69
            ],
            [
             64901.04
            ],
            [
             18722.5
            ],
            [
             12723.3
            ],
            [
             1007209.58
            ],
            [
             35318.75
            ],
            [
             41722.89
            ],
            [
             336108.359
            ],
            [
             101.06
            ],
            [
             3122.05
            ],
            [
             370998.82
            ],
            [
             455326.17
            ],
            [
             3529.34
            ],
            [
             1097.02
            ],
            [
             203966.35
            ],
            [
             1531105.27
            ],
            [
             3207.56
            ],
            [
             39.91
            ],
            [
             15437.33
            ],
            [
             170466.449
            ],
            [
             21728.19
            ],
            [
             163114.9
            ],
            [
             432902.285
            ],
            [
             48077.78
            ],
            [
             356.488
            ],
            [
             280766.41
            ],
            [
             2796.8
            ],
            [
             16745.52
            ]
           ],
           "featureidkey": "properties.name",
           "geojson": "us-states.json",
           "hovertemplate": "<b>%{hovertext}</b><br><br>Année=2012<br>Etat=%{location}<br>Etendue brûlée=%{z}<extra></extra>",
           "hovertext": [
            "Alaska",
            "Alabama",
            "Arkansas",
            "Arizona",
            "California",
            "Colorado",
            "Connecticut",
            "Delaware",
            "Florida",
            "Georgia",
            "Hawaii",
            "Iowa",
            "Idaho",
            "Illinois",
            "Indiana",
            "Kansas",
            "Kentucky",
            "Louisiana",
            "Massachusetts",
            "Maryland",
            "Maine",
            "Michigan",
            "Minnesota",
            "Missouri",
            "Mississippi",
            "Montana",
            "North Carolina",
            "North Dakota",
            "Nebraska",
            "New Hampshire",
            "New Jersey",
            "New Mexico",
            "Nevada",
            "New York",
            "Ohio",
            "Oklahoma",
            "Oregon",
            "Pennsylvania",
            "Rhode Island",
            "South Carolina",
            "South Dakota",
            "Tennessee",
            "Texas",
            "Utah",
            "Virginia",
            "Vermont",
            "Washington",
            "Wisconsin",
            "West Virginia"
           ],
           "locations": [
            "Alaska",
            "Alabama",
            "Arkansas",
            "Arizona",
            "California",
            "Colorado",
            "Connecticut",
            "Delaware",
            "Florida",
            "Georgia",
            "Hawaii",
            "Iowa",
            "Idaho",
            "Illinois",
            "Indiana",
            "Kansas",
            "Kentucky",
            "Louisiana",
            "Massachusetts",
            "Maryland",
            "Maine",
            "Michigan",
            "Minnesota",
            "Missouri",
            "Mississippi",
            "Montana",
            "North Carolina",
            "North Dakota",
            "Nebraska",
            "New Hampshire",
            "New Jersey",
            "New Mexico",
            "Nevada",
            "New York",
            "Ohio",
            "Oklahoma",
            "Oregon",
            "Pennsylvania",
            "Rhode Island",
            "South Carolina",
            "South Dakota",
            "Tennessee",
            "Texas",
            "Utah",
            "Virginia",
            "Vermont",
            "Washington",
            "Wisconsin",
            "West Virginia"
           ],
           "marker": {
            "opacity": 0.75
           },
           "name": "",
           "subplot": "mapbox",
           "type": "choroplethmapbox",
           "z": [
            300587,
            29156.46,
            38848.49,
            228818.6,
            764766.64,
            271263.39,
            517.3,
            39.85,
            138965.24,
            25434.62,
            4987.71,
            3985.011,
            1775106.39,
            1356.15,
            1042.2,
            57330.13,
            32630.53,
            10519.22,
            2.9,
            1439.9,
            469.85,
            28326.69,
            64901.04,
            18722.5,
            12723.3,
            1007209.58,
            35318.75,
            41722.89,
            336108.359,
            101.06,
            3122.05,
            370998.82,
            455326.17,
            3529.34,
            1097.02,
            203966.35,
            1531105.27,
            3207.56,
            39.91,
            15437.33,
            170466.449,
            21728.19,
            163114.9,
            432902.285,
            48077.78,
            356.488,
            280766.41,
            2796.8,
            16745.52
           ]
          }
         ],
         "name": "2012"
        },
        {
         "data": [
          {
           "coloraxis": "coloraxis",
           "customdata": [
            [
             1320759.3
            ],
            [
             29935.41
            ],
            [
             13298.69
            ],
            [
             103252.88
            ],
            [
             581410.292
            ],
            [
             162130.23
            ],
            [
             20.35
            ],
            [
             77107.23
            ],
            [
             14667.35
            ],
            [
             761.4
            ],
            [
             2417.32
            ],
            [
             740325.5
            ],
            [
             148.02
            ],
            [
             741.2
            ],
            [
             6867
            ],
            [
             22989.02
            ],
            [
             22754.5302
            ],
            [
             17.6
            ],
            [
             429.85
            ],
            [
             717.22
            ],
            [
             977.22
            ],
            [
             21936.47
            ],
            [
             3885.18
            ],
            [
             22015.9
            ],
            [
             77404.18000000001
            ],
            [
             14148.7
            ],
            [
             6693.69
            ],
            [
             10547.091
            ],
            [
             85.52
            ],
            [
             1412.3
            ],
            [
             285066.05
            ],
            [
             180004.85
            ],
            [
             2376.5
            ],
            [
             1716.51
            ],
            [
             30111.05
            ],
            [
             319439.93
            ],
            [
             1784.77
            ],
            [
             16.7
            ],
            [
             9478.73
            ],
            [
             15061.18371
            ],
            [
             10057.21
            ],
            [
             71739.92
            ],
            [
             70397.45
            ],
            [
             5871.55
            ],
            [
             275.308
            ],
            [
             153546.66
            ],
            [
             9138.07
            ],
            [
             9714.03
            ]
           ],
           "featureidkey": "properties.name",
           "geojson": "us-states.json",
           "hovertemplate": "<b>%{hovertext}</b><br><br>Année=2013<br>Etat=%{location}<br>Etendue brûlée=%{z}<extra></extra>",
           "hovertext": [
            "Alaska",
            "Alabama",
            "Arkansas",
            "Arizona",
            "California",
            "Colorado",
            "Delaware",
            "Florida",
            "Georgia",
            "Hawaii",
            "Iowa",
            "Idaho",
            "Illinois",
            "Indiana",
            "Kansas",
            "Kentucky",
            "Louisiana",
            "Massachusetts",
            "Maryland",
            "Maine",
            "Michigan",
            "Minnesota",
            "Missouri",
            "Mississippi",
            "Montana",
            "North Carolina",
            "North Dakota",
            "Nebraska",
            "New Hampshire",
            "New Jersey",
            "New Mexico",
            "Nevada",
            "New York",
            "Ohio",
            "Oklahoma",
            "Oregon",
            "Pennsylvania",
            "Rhode Island",
            "South Carolina",
            "South Dakota",
            "Tennessee",
            "Texas",
            "Utah",
            "Virginia",
            "Vermont",
            "Washington",
            "Wisconsin",
            "West Virginia"
           ],
           "locations": [
            "Alaska",
            "Alabama",
            "Arkansas",
            "Arizona",
            "California",
            "Colorado",
            "Delaware",
            "Florida",
            "Georgia",
            "Hawaii",
            "Iowa",
            "Idaho",
            "Illinois",
            "Indiana",
            "Kansas",
            "Kentucky",
            "Louisiana",
            "Massachusetts",
            "Maryland",
            "Maine",
            "Michigan",
            "Minnesota",
            "Missouri",
            "Mississippi",
            "Montana",
            "North Carolina",
            "North Dakota",
            "Nebraska",
            "New Hampshire",
            "New Jersey",
            "New Mexico",
            "Nevada",
            "New York",
            "Ohio",
            "Oklahoma",
            "Oregon",
            "Pennsylvania",
            "Rhode Island",
            "South Carolina",
            "South Dakota",
            "Tennessee",
            "Texas",
            "Utah",
            "Virginia",
            "Vermont",
            "Washington",
            "Wisconsin",
            "West Virginia"
           ],
           "marker": {
            "opacity": 0.75
           },
           "name": "",
           "subplot": "mapbox",
           "type": "choroplethmapbox",
           "z": [
            1320759.3,
            29935.41,
            13298.69,
            103252.88,
            581410.292,
            162130.23,
            20.35,
            77107.23,
            14667.35,
            761.4,
            2417.32,
            740325.5,
            148.02,
            741.2,
            6867,
            22989.02,
            22754.5302,
            17.6,
            429.85,
            717.22,
            977.22,
            21936.47,
            3885.18,
            22015.9,
            77404.18000000001,
            14148.7,
            6693.69,
            10547.091,
            85.52,
            1412.3,
            285066.05,
            180004.85,
            2376.5,
            1716.51,
            30111.05,
            319439.93,
            1784.77,
            16.7,
            9478.73,
            15061.18371,
            10057.21,
            71739.92,
            70397.45,
            5871.55,
            275.308,
            153546.66,
            9138.07,
            9714.03
           ]
          }
         ],
         "name": "2013"
        },
        {
         "data": [
          {
           "coloraxis": "coloraxis",
           "customdata": [
            [
             233601.28
            ],
            [
             37961.505
            ],
            [
             21041.61
            ],
            [
             203176.164
            ],
            [
             546878.78
            ],
            [
             24694.31
            ],
            [
             5
            ],
            [
             156386.41
            ],
            [
             22215.87
            ],
            [
             0.2
            ],
            [
             10522.875
            ],
            [
             198892.57
            ],
            [
             2422.065
            ],
            [
             132.22
            ],
            [
             36525.8
            ],
            [
             42286.849996
            ],
            [
             37582.7447
            ],
            [
             373.2
            ],
            [
             1781.1
            ],
            [
             218.97
            ],
            [
             672.07
            ],
            [
             3984.64
            ],
            [
             22455.8
            ],
            [
             33235.6
            ],
            [
             34919.92
            ],
            [
             14991.4
            ],
            [
             3915.45
            ],
            [
             20213.0322
            ],
            [
             78.466
            ],
            [
             9804.3
            ],
            [
             43976.16
            ],
            [
             69902.34
            ],
            [
             2972.882816
            ],
            [
             3486.07
            ],
            [
             187617.2
            ],
            [
             934078.44
            ],
            [
             4511.18
            ],
            [
             23.3
            ],
            [
             11225.9
            ],
            [
             18745.94
            ],
            [
             17872.77
            ],
            [
             143843.03
            ],
            [
             27185.371
            ],
            [
             12566.54
            ],
            [
             163.111
            ],
            [
             449900.92
            ],
            [
             2823.736
            ],
            [
             13638.51
            ]
           ],
           "featureidkey": "properties.name",
           "geojson": "us-states.json",
           "hovertemplate": "<b>%{hovertext}</b><br><br>Année=2014<br>Etat=%{location}<br>Etendue brûlée=%{z}<extra></extra>",
           "hovertext": [
            "Alaska",
            "Alabama",
            "Arkansas",
            "Arizona",
            "California",
            "Colorado",
            "Delaware",
            "Florida",
            "Georgia",
            "Hawaii",
            "Iowa",
            "Idaho",
            "Illinois",
            "Indiana",
            "Kansas",
            "Kentucky",
            "Louisiana",
            "Massachusetts",
            "Maryland",
            "Maine",
            "Michigan",
            "Minnesota",
            "Missouri",
            "Mississippi",
            "Montana",
            "North Carolina",
            "North Dakota",
            "Nebraska",
            "New Hampshire",
            "New Jersey",
            "New Mexico",
            "Nevada",
            "New York",
            "Ohio",
            "Oklahoma",
            "Oregon",
            "Pennsylvania",
            "Rhode Island",
            "South Carolina",
            "South Dakota",
            "Tennessee",
            "Texas",
            "Utah",
            "Virginia",
            "Vermont",
            "Washington",
            "Wisconsin",
            "West Virginia"
           ],
           "locations": [
            "Alaska",
            "Alabama",
            "Arkansas",
            "Arizona",
            "California",
            "Colorado",
            "Delaware",
            "Florida",
            "Georgia",
            "Hawaii",
            "Iowa",
            "Idaho",
            "Illinois",
            "Indiana",
            "Kansas",
            "Kentucky",
            "Louisiana",
            "Massachusetts",
            "Maryland",
            "Maine",
            "Michigan",
            "Minnesota",
            "Missouri",
            "Mississippi",
            "Montana",
            "North Carolina",
            "North Dakota",
            "Nebraska",
            "New Hampshire",
            "New Jersey",
            "New Mexico",
            "Nevada",
            "New York",
            "Ohio",
            "Oklahoma",
            "Oregon",
            "Pennsylvania",
            "Rhode Island",
            "South Carolina",
            "South Dakota",
            "Tennessee",
            "Texas",
            "Utah",
            "Virginia",
            "Vermont",
            "Washington",
            "Wisconsin",
            "West Virginia"
           ],
           "marker": {
            "opacity": 0.75
           },
           "name": "",
           "subplot": "mapbox",
           "type": "choroplethmapbox",
           "z": [
            233601.28,
            37961.505,
            21041.61,
            203176.164,
            546878.78,
            24694.31,
            5,
            156386.41,
            22215.87,
            0.2,
            10522.875,
            198892.57,
            2422.065,
            132.22,
            36525.8,
            42286.849996,
            37582.7447,
            373.2,
            1781.1,
            218.97,
            672.07,
            3984.64,
            22455.8,
            33235.6,
            34919.92,
            14991.4,
            3915.45,
            20213.0322,
            78.466,
            9804.3,
            43976.16,
            69902.34,
            2972.882816,
            3486.07,
            187617.2,
            934078.44,
            4511.18,
            23.3,
            11225.9,
            18745.94,
            17872.77,
            143843.03,
            27185.371,
            12566.54,
            163.111,
            449900.92,
            2823.736,
            13638.51
           ]
          }
         ],
         "name": "2014"
        },
        {
         "data": [
          {
           "coloraxis": "coloraxis",
           "customdata": [
            [
             5136703.76
            ],
            [
             30833.71
            ],
            [
             18732.41
            ],
            [
             155814.27
            ],
            [
             848728.61
            ],
            [
             22802.35
            ],
            [
             417.5
            ],
            [
             79.25
            ],
            [
             166996.54
            ],
            [
             11389.9
            ],
            [
             4836.6
            ],
            [
             13914.2781
            ],
            [
             791026.11
            ],
            [
             1591.5
            ],
            [
             673.8
            ],
            [
             124210.541
            ],
            [
             19680.02
            ],
            [
             20327.6537
            ],
            [
             2094.23
            ],
            [
             1044
            ],
            [
             590.78
            ],
            [
             3815.49
            ],
            [
             28952.47
            ],
            [
             12023.741
            ],
            [
             35373.6
            ],
            [
             350033.86
            ],
            [
             11044.73
            ],
            [
             25794.07
            ],
            [
             44194.8
            ],
            [
             591.67
            ],
            [
             2540.8
            ],
            [
             52126.95
            ],
            [
             23445.88
            ],
            [
             7311.23
            ],
            [
             2084.09
            ],
            [
             149316.25
            ],
            [
             579124.05
            ],
            [
             4136.24
            ],
            [
             121.83
            ],
            [
             6625.41
            ],
            [
             53566.46
            ],
            [
             8524.960000000001
            ],
            [
             208761.73
            ],
            [
             9825.6
            ],
            [
             6328.1
            ],
            [
             346.42900000000003
            ],
            [
             1161646.38
            ],
            [
             2721.44
            ],
            [
             17251.37
            ]
           ],
           "featureidkey": "properties.name",
           "geojson": "us-states.json",
           "hovertemplate": "<b>%{hovertext}</b><br><br>Année=2015<br>Etat=%{location}<br>Etendue brûlée=%{z}<extra></extra>",
           "hovertext": [
            "Alaska",
            "Alabama",
            "Arkansas",
            "Arizona",
            "California",
            "Colorado",
            "Connecticut",
            "Delaware",
            "Florida",
            "Georgia",
            "Hawaii",
            "Iowa",
            "Idaho",
            "Illinois",
            "Indiana",
            "Kansas",
            "Kentucky",
            "Louisiana",
            "Massachusetts",
            "Maryland",
            "Maine",
            "Michigan",
            "Minnesota",
            "Missouri",
            "Mississippi",
            "Montana",
            "North Carolina",
            "North Dakota",
            "Nebraska",
            "New Hampshire",
            "New Jersey",
            "New Mexico",
            "Nevada",
            "New York",
            "Ohio",
            "Oklahoma",
            "Oregon",
            "Pennsylvania",
            "Rhode Island",
            "South Carolina",
            "South Dakota",
            "Tennessee",
            "Texas",
            "Utah",
            "Virginia",
            "Vermont",
            "Washington",
            "Wisconsin",
            "West Virginia"
           ],
           "locations": [
            "Alaska",
            "Alabama",
            "Arkansas",
            "Arizona",
            "California",
            "Colorado",
            "Connecticut",
            "Delaware",
            "Florida",
            "Georgia",
            "Hawaii",
            "Iowa",
            "Idaho",
            "Illinois",
            "Indiana",
            "Kansas",
            "Kentucky",
            "Louisiana",
            "Massachusetts",
            "Maryland",
            "Maine",
            "Michigan",
            "Minnesota",
            "Missouri",
            "Mississippi",
            "Montana",
            "North Carolina",
            "North Dakota",
            "Nebraska",
            "New Hampshire",
            "New Jersey",
            "New Mexico",
            "Nevada",
            "New York",
            "Ohio",
            "Oklahoma",
            "Oregon",
            "Pennsylvania",
            "Rhode Island",
            "South Carolina",
            "South Dakota",
            "Tennessee",
            "Texas",
            "Utah",
            "Virginia",
            "Vermont",
            "Washington",
            "Wisconsin",
            "West Virginia"
           ],
           "marker": {
            "opacity": 0.75
           },
           "name": "",
           "subplot": "mapbox",
           "type": "choroplethmapbox",
           "z": [
            5136703.76,
            30833.71,
            18732.41,
            155814.27,
            848728.61,
            22802.35,
            417.5,
            79.25,
            166996.54,
            11389.9,
            4836.6,
            13914.2781,
            791026.11,
            1591.5,
            673.8,
            124210.541,
            19680.02,
            20327.6537,
            2094.23,
            1044,
            590.78,
            3815.49,
            28952.47,
            12023.741,
            35373.6,
            350033.86,
            11044.73,
            25794.07,
            44194.8,
            591.67,
            2540.8,
            52126.95,
            23445.88,
            7311.23,
            2084.09,
            149316.25,
            579124.05,
            4136.24,
            121.83,
            6625.41,
            53566.46,
            8524.960000000001,
            208761.73,
            9825.6,
            6328.1,
            346.42900000000003,
            1161646.38,
            2721.44,
            17251.37
           ]
          }
         ],
         "name": "2015"
        }
       ],
       "layout": {
        "coloraxis": {
         "colorbar": {
          "title": {
           "text": "Etendue brûlée"
          }
         },
         "colorscale": [
          [
           0,
           "rgb(255,245,240)"
          ],
          [
           0.125,
           "rgb(254,224,210)"
          ],
          [
           0.25,
           "rgb(252,187,161)"
          ],
          [
           0.375,
           "rgb(252,146,114)"
          ],
          [
           0.5,
           "rgb(251,106,74)"
          ],
          [
           0.625,
           "rgb(239,59,44)"
          ],
          [
           0.75,
           "rgb(203,24,29)"
          ],
          [
           0.875,
           "rgb(165,15,21)"
          ],
          [
           1,
           "rgb(103,0,13)"
          ]
         ]
        },
        "height": 800,
        "legend": {
         "tracegroupgap": 0
        },
        "mapbox": {
         "center": {
          "lat": 50,
          "lon": -110
         },
         "domain": {
          "x": [
           0,
           1
          ],
          "y": [
           0,
           1
          ]
         },
         "style": "carto-positron",
         "zoom": 2
        },
        "sliders": [
         {
          "active": 0,
          "currentvalue": {
           "prefix": "Année="
          },
          "len": 0.9,
          "pad": {
           "b": 10,
           "t": 60
          },
          "steps": [
           {
            "args": [
             [
              "1992"
             ],
             {
              "frame": {
               "duration": 0,
               "redraw": true
              },
              "fromcurrent": true,
              "mode": "immediate",
              "transition": {
               "duration": 0,
               "easing": "linear"
              }
             }
            ],
            "label": "1992",
            "method": "animate"
           },
           {
            "args": [
             [
              "1993"
             ],
             {
              "frame": {
               "duration": 0,
               "redraw": true
              },
              "fromcurrent": true,
              "mode": "immediate",
              "transition": {
               "duration": 0,
               "easing": "linear"
              }
             }
            ],
            "label": "1993",
            "method": "animate"
           },
           {
            "args": [
             [
              "1994"
             ],
             {
              "frame": {
               "duration": 0,
               "redraw": true
              },
              "fromcurrent": true,
              "mode": "immediate",
              "transition": {
               "duration": 0,
               "easing": "linear"
              }
             }
            ],
            "label": "1994",
            "method": "animate"
           },
           {
            "args": [
             [
              "1995"
             ],
             {
              "frame": {
               "duration": 0,
               "redraw": true
              },
              "fromcurrent": true,
              "mode": "immediate",
              "transition": {
               "duration": 0,
               "easing": "linear"
              }
             }
            ],
            "label": "1995",
            "method": "animate"
           },
           {
            "args": [
             [
              "1996"
             ],
             {
              "frame": {
               "duration": 0,
               "redraw": true
              },
              "fromcurrent": true,
              "mode": "immediate",
              "transition": {
               "duration": 0,
               "easing": "linear"
              }
             }
            ],
            "label": "1996",
            "method": "animate"
           },
           {
            "args": [
             [
              "1997"
             ],
             {
              "frame": {
               "duration": 0,
               "redraw": true
              },
              "fromcurrent": true,
              "mode": "immediate",
              "transition": {
               "duration": 0,
               "easing": "linear"
              }
             }
            ],
            "label": "1997",
            "method": "animate"
           },
           {
            "args": [
             [
              "1998"
             ],
             {
              "frame": {
               "duration": 0,
               "redraw": true
              },
              "fromcurrent": true,
              "mode": "immediate",
              "transition": {
               "duration": 0,
               "easing": "linear"
              }
             }
            ],
            "label": "1998",
            "method": "animate"
           },
           {
            "args": [
             [
              "1999"
             ],
             {
              "frame": {
               "duration": 0,
               "redraw": true
              },
              "fromcurrent": true,
              "mode": "immediate",
              "transition": {
               "duration": 0,
               "easing": "linear"
              }
             }
            ],
            "label": "1999",
            "method": "animate"
           },
           {
            "args": [
             [
              "2000"
             ],
             {
              "frame": {
               "duration": 0,
               "redraw": true
              },
              "fromcurrent": true,
              "mode": "immediate",
              "transition": {
               "duration": 0,
               "easing": "linear"
              }
             }
            ],
            "label": "2000",
            "method": "animate"
           },
           {
            "args": [
             [
              "2001"
             ],
             {
              "frame": {
               "duration": 0,
               "redraw": true
              },
              "fromcurrent": true,
              "mode": "immediate",
              "transition": {
               "duration": 0,
               "easing": "linear"
              }
             }
            ],
            "label": "2001",
            "method": "animate"
           },
           {
            "args": [
             [
              "2002"
             ],
             {
              "frame": {
               "duration": 0,
               "redraw": true
              },
              "fromcurrent": true,
              "mode": "immediate",
              "transition": {
               "duration": 0,
               "easing": "linear"
              }
             }
            ],
            "label": "2002",
            "method": "animate"
           },
           {
            "args": [
             [
              "2003"
             ],
             {
              "frame": {
               "duration": 0,
               "redraw": true
              },
              "fromcurrent": true,
              "mode": "immediate",
              "transition": {
               "duration": 0,
               "easing": "linear"
              }
             }
            ],
            "label": "2003",
            "method": "animate"
           },
           {
            "args": [
             [
              "2004"
             ],
             {
              "frame": {
               "duration": 0,
               "redraw": true
              },
              "fromcurrent": true,
              "mode": "immediate",
              "transition": {
               "duration": 0,
               "easing": "linear"
              }
             }
            ],
            "label": "2004",
            "method": "animate"
           },
           {
            "args": [
             [
              "2005"
             ],
             {
              "frame": {
               "duration": 0,
               "redraw": true
              },
              "fromcurrent": true,
              "mode": "immediate",
              "transition": {
               "duration": 0,
               "easing": "linear"
              }
             }
            ],
            "label": "2005",
            "method": "animate"
           },
           {
            "args": [
             [
              "2006"
             ],
             {
              "frame": {
               "duration": 0,
               "redraw": true
              },
              "fromcurrent": true,
              "mode": "immediate",
              "transition": {
               "duration": 0,
               "easing": "linear"
              }
             }
            ],
            "label": "2006",
            "method": "animate"
           },
           {
            "args": [
             [
              "2007"
             ],
             {
              "frame": {
               "duration": 0,
               "redraw": true
              },
              "fromcurrent": true,
              "mode": "immediate",
              "transition": {
               "duration": 0,
               "easing": "linear"
              }
             }
            ],
            "label": "2007",
            "method": "animate"
           },
           {
            "args": [
             [
              "2008"
             ],
             {
              "frame": {
               "duration": 0,
               "redraw": true
              },
              "fromcurrent": true,
              "mode": "immediate",
              "transition": {
               "duration": 0,
               "easing": "linear"
              }
             }
            ],
            "label": "2008",
            "method": "animate"
           },
           {
            "args": [
             [
              "2009"
             ],
             {
              "frame": {
               "duration": 0,
               "redraw": true
              },
              "fromcurrent": true,
              "mode": "immediate",
              "transition": {
               "duration": 0,
               "easing": "linear"
              }
             }
            ],
            "label": "2009",
            "method": "animate"
           },
           {
            "args": [
             [
              "2010"
             ],
             {
              "frame": {
               "duration": 0,
               "redraw": true
              },
              "fromcurrent": true,
              "mode": "immediate",
              "transition": {
               "duration": 0,
               "easing": "linear"
              }
             }
            ],
            "label": "2010",
            "method": "animate"
           },
           {
            "args": [
             [
              "2011"
             ],
             {
              "frame": {
               "duration": 0,
               "redraw": true
              },
              "fromcurrent": true,
              "mode": "immediate",
              "transition": {
               "duration": 0,
               "easing": "linear"
              }
             }
            ],
            "label": "2011",
            "method": "animate"
           },
           {
            "args": [
             [
              "2012"
             ],
             {
              "frame": {
               "duration": 0,
               "redraw": true
              },
              "fromcurrent": true,
              "mode": "immediate",
              "transition": {
               "duration": 0,
               "easing": "linear"
              }
             }
            ],
            "label": "2012",
            "method": "animate"
           },
           {
            "args": [
             [
              "2013"
             ],
             {
              "frame": {
               "duration": 0,
               "redraw": true
              },
              "fromcurrent": true,
              "mode": "immediate",
              "transition": {
               "duration": 0,
               "easing": "linear"
              }
             }
            ],
            "label": "2013",
            "method": "animate"
           },
           {
            "args": [
             [
              "2014"
             ],
             {
              "frame": {
               "duration": 0,
               "redraw": true
              },
              "fromcurrent": true,
              "mode": "immediate",
              "transition": {
               "duration": 0,
               "easing": "linear"
              }
             }
            ],
            "label": "2014",
            "method": "animate"
           },
           {
            "args": [
             [
              "2015"
             ],
             {
              "frame": {
               "duration": 0,
               "redraw": true
              },
              "fromcurrent": true,
              "mode": "immediate",
              "transition": {
               "duration": 0,
               "easing": "linear"
              }
             }
            ],
            "label": "2015",
            "method": "animate"
           }
          ],
          "x": 0.1,
          "xanchor": "left",
          "y": 0,
          "yanchor": "top"
         }
        ],
        "template": {
         "data": {
          "bar": [
           {
            "error_x": {
             "color": "#2a3f5f"
            },
            "error_y": {
             "color": "#2a3f5f"
            },
            "marker": {
             "line": {
              "color": "#E5ECF6",
              "width": 0.5
             },
             "pattern": {
              "fillmode": "overlay",
              "size": 10,
              "solidity": 0.2
             }
            },
            "type": "bar"
           }
          ],
          "barpolar": [
           {
            "marker": {
             "line": {
              "color": "#E5ECF6",
              "width": 0.5
             },
             "pattern": {
              "fillmode": "overlay",
              "size": 10,
              "solidity": 0.2
             }
            },
            "type": "barpolar"
           }
          ],
          "carpet": [
           {
            "aaxis": {
             "endlinecolor": "#2a3f5f",
             "gridcolor": "white",
             "linecolor": "white",
             "minorgridcolor": "white",
             "startlinecolor": "#2a3f5f"
            },
            "baxis": {
             "endlinecolor": "#2a3f5f",
             "gridcolor": "white",
             "linecolor": "white",
             "minorgridcolor": "white",
             "startlinecolor": "#2a3f5f"
            },
            "type": "carpet"
           }
          ],
          "choropleth": [
           {
            "colorbar": {
             "outlinewidth": 0,
             "ticks": ""
            },
            "type": "choropleth"
           }
          ],
          "contour": [
           {
            "colorbar": {
             "outlinewidth": 0,
             "ticks": ""
            },
            "colorscale": [
             [
              0,
              "#0d0887"
             ],
             [
              0.1111111111111111,
              "#46039f"
             ],
             [
              0.2222222222222222,
              "#7201a8"
             ],
             [
              0.3333333333333333,
              "#9c179e"
             ],
             [
              0.4444444444444444,
              "#bd3786"
             ],
             [
              0.5555555555555556,
              "#d8576b"
             ],
             [
              0.6666666666666666,
              "#ed7953"
             ],
             [
              0.7777777777777778,
              "#fb9f3a"
             ],
             [
              0.8888888888888888,
              "#fdca26"
             ],
             [
              1,
              "#f0f921"
             ]
            ],
            "type": "contour"
           }
          ],
          "contourcarpet": [
           {
            "colorbar": {
             "outlinewidth": 0,
             "ticks": ""
            },
            "type": "contourcarpet"
           }
          ],
          "heatmap": [
           {
            "colorbar": {
             "outlinewidth": 0,
             "ticks": ""
            },
            "colorscale": [
             [
              0,
              "#0d0887"
             ],
             [
              0.1111111111111111,
              "#46039f"
             ],
             [
              0.2222222222222222,
              "#7201a8"
             ],
             [
              0.3333333333333333,
              "#9c179e"
             ],
             [
              0.4444444444444444,
              "#bd3786"
             ],
             [
              0.5555555555555556,
              "#d8576b"
             ],
             [
              0.6666666666666666,
              "#ed7953"
             ],
             [
              0.7777777777777778,
              "#fb9f3a"
             ],
             [
              0.8888888888888888,
              "#fdca26"
             ],
             [
              1,
              "#f0f921"
             ]
            ],
            "type": "heatmap"
           }
          ],
          "heatmapgl": [
           {
            "colorbar": {
             "outlinewidth": 0,
             "ticks": ""
            },
            "colorscale": [
             [
              0,
              "#0d0887"
             ],
             [
              0.1111111111111111,
              "#46039f"
             ],
             [
              0.2222222222222222,
              "#7201a8"
             ],
             [
              0.3333333333333333,
              "#9c179e"
             ],
             [
              0.4444444444444444,
              "#bd3786"
             ],
             [
              0.5555555555555556,
              "#d8576b"
             ],
             [
              0.6666666666666666,
              "#ed7953"
             ],
             [
              0.7777777777777778,
              "#fb9f3a"
             ],
             [
              0.8888888888888888,
              "#fdca26"
             ],
             [
              1,
              "#f0f921"
             ]
            ],
            "type": "heatmapgl"
           }
          ],
          "histogram": [
           {
            "marker": {
             "pattern": {
              "fillmode": "overlay",
              "size": 10,
              "solidity": 0.2
             }
            },
            "type": "histogram"
           }
          ],
          "histogram2d": [
           {
            "colorbar": {
             "outlinewidth": 0,
             "ticks": ""
            },
            "colorscale": [
             [
              0,
              "#0d0887"
             ],
             [
              0.1111111111111111,
              "#46039f"
             ],
             [
              0.2222222222222222,
              "#7201a8"
             ],
             [
              0.3333333333333333,
              "#9c179e"
             ],
             [
              0.4444444444444444,
              "#bd3786"
             ],
             [
              0.5555555555555556,
              "#d8576b"
             ],
             [
              0.6666666666666666,
              "#ed7953"
             ],
             [
              0.7777777777777778,
              "#fb9f3a"
             ],
             [
              0.8888888888888888,
              "#fdca26"
             ],
             [
              1,
              "#f0f921"
             ]
            ],
            "type": "histogram2d"
           }
          ],
          "histogram2dcontour": [
           {
            "colorbar": {
             "outlinewidth": 0,
             "ticks": ""
            },
            "colorscale": [
             [
              0,
              "#0d0887"
             ],
             [
              0.1111111111111111,
              "#46039f"
             ],
             [
              0.2222222222222222,
              "#7201a8"
             ],
             [
              0.3333333333333333,
              "#9c179e"
             ],
             [
              0.4444444444444444,
              "#bd3786"
             ],
             [
              0.5555555555555556,
              "#d8576b"
             ],
             [
              0.6666666666666666,
              "#ed7953"
             ],
             [
              0.7777777777777778,
              "#fb9f3a"
             ],
             [
              0.8888888888888888,
              "#fdca26"
             ],
             [
              1,
              "#f0f921"
             ]
            ],
            "type": "histogram2dcontour"
           }
          ],
          "mesh3d": [
           {
            "colorbar": {
             "outlinewidth": 0,
             "ticks": ""
            },
            "type": "mesh3d"
           }
          ],
          "parcoords": [
           {
            "line": {
             "colorbar": {
              "outlinewidth": 0,
              "ticks": ""
             }
            },
            "type": "parcoords"
           }
          ],
          "pie": [
           {
            "automargin": true,
            "type": "pie"
           }
          ],
          "scatter": [
           {
            "fillpattern": {
             "fillmode": "overlay",
             "size": 10,
             "solidity": 0.2
            },
            "type": "scatter"
           }
          ],
          "scatter3d": [
           {
            "line": {
             "colorbar": {
              "outlinewidth": 0,
              "ticks": ""
             }
            },
            "marker": {
             "colorbar": {
              "outlinewidth": 0,
              "ticks": ""
             }
            },
            "type": "scatter3d"
           }
          ],
          "scattercarpet": [
           {
            "marker": {
             "colorbar": {
              "outlinewidth": 0,
              "ticks": ""
             }
            },
            "type": "scattercarpet"
           }
          ],
          "scattergeo": [
           {
            "marker": {
             "colorbar": {
              "outlinewidth": 0,
              "ticks": ""
             }
            },
            "type": "scattergeo"
           }
          ],
          "scattergl": [
           {
            "marker": {
             "colorbar": {
              "outlinewidth": 0,
              "ticks": ""
             }
            },
            "type": "scattergl"
           }
          ],
          "scattermapbox": [
           {
            "marker": {
             "colorbar": {
              "outlinewidth": 0,
              "ticks": ""
             }
            },
            "type": "scattermapbox"
           }
          ],
          "scatterpolar": [
           {
            "marker": {
             "colorbar": {
              "outlinewidth": 0,
              "ticks": ""
             }
            },
            "type": "scatterpolar"
           }
          ],
          "scatterpolargl": [
           {
            "marker": {
             "colorbar": {
              "outlinewidth": 0,
              "ticks": ""
             }
            },
            "type": "scatterpolargl"
           }
          ],
          "scatterternary": [
           {
            "marker": {
             "colorbar": {
              "outlinewidth": 0,
              "ticks": ""
             }
            },
            "type": "scatterternary"
           }
          ],
          "surface": [
           {
            "colorbar": {
             "outlinewidth": 0,
             "ticks": ""
            },
            "colorscale": [
             [
              0,
              "#0d0887"
             ],
             [
              0.1111111111111111,
              "#46039f"
             ],
             [
              0.2222222222222222,
              "#7201a8"
             ],
             [
              0.3333333333333333,
              "#9c179e"
             ],
             [
              0.4444444444444444,
              "#bd3786"
             ],
             [
              0.5555555555555556,
              "#d8576b"
             ],
             [
              0.6666666666666666,
              "#ed7953"
             ],
             [
              0.7777777777777778,
              "#fb9f3a"
             ],
             [
              0.8888888888888888,
              "#fdca26"
             ],
             [
              1,
              "#f0f921"
             ]
            ],
            "type": "surface"
           }
          ],
          "table": [
           {
            "cells": {
             "fill": {
              "color": "#EBF0F8"
             },
             "line": {
              "color": "white"
             }
            },
            "header": {
             "fill": {
              "color": "#C8D4E3"
             },
             "line": {
              "color": "white"
             }
            },
            "type": "table"
           }
          ]
         },
         "layout": {
          "annotationdefaults": {
           "arrowcolor": "#2a3f5f",
           "arrowhead": 0,
           "arrowwidth": 1
          },
          "autotypenumbers": "strict",
          "coloraxis": {
           "colorbar": {
            "outlinewidth": 0,
            "ticks": ""
           }
          },
          "colorscale": {
           "diverging": [
            [
             0,
             "#8e0152"
            ],
            [
             0.1,
             "#c51b7d"
            ],
            [
             0.2,
             "#de77ae"
            ],
            [
             0.3,
             "#f1b6da"
            ],
            [
             0.4,
             "#fde0ef"
            ],
            [
             0.5,
             "#f7f7f7"
            ],
            [
             0.6,
             "#e6f5d0"
            ],
            [
             0.7,
             "#b8e186"
            ],
            [
             0.8,
             "#7fbc41"
            ],
            [
             0.9,
             "#4d9221"
            ],
            [
             1,
             "#276419"
            ]
           ],
           "sequential": [
            [
             0,
             "#0d0887"
            ],
            [
             0.1111111111111111,
             "#46039f"
            ],
            [
             0.2222222222222222,
             "#7201a8"
            ],
            [
             0.3333333333333333,
             "#9c179e"
            ],
            [
             0.4444444444444444,
             "#bd3786"
            ],
            [
             0.5555555555555556,
             "#d8576b"
            ],
            [
             0.6666666666666666,
             "#ed7953"
            ],
            [
             0.7777777777777778,
             "#fb9f3a"
            ],
            [
             0.8888888888888888,
             "#fdca26"
            ],
            [
             1,
             "#f0f921"
            ]
           ],
           "sequentialminus": [
            [
             0,
             "#0d0887"
            ],
            [
             0.1111111111111111,
             "#46039f"
            ],
            [
             0.2222222222222222,
             "#7201a8"
            ],
            [
             0.3333333333333333,
             "#9c179e"
            ],
            [
             0.4444444444444444,
             "#bd3786"
            ],
            [
             0.5555555555555556,
             "#d8576b"
            ],
            [
             0.6666666666666666,
             "#ed7953"
            ],
            [
             0.7777777777777778,
             "#fb9f3a"
            ],
            [
             0.8888888888888888,
             "#fdca26"
            ],
            [
             1,
             "#f0f921"
            ]
           ]
          },
          "colorway": [
           "#636efa",
           "#EF553B",
           "#00cc96",
           "#ab63fa",
           "#FFA15A",
           "#19d3f3",
           "#FF6692",
           "#B6E880",
           "#FF97FF",
           "#FECB52"
          ],
          "font": {
           "color": "#2a3f5f"
          },
          "geo": {
           "bgcolor": "white",
           "lakecolor": "white",
           "landcolor": "#E5ECF6",
           "showlakes": true,
           "showland": true,
           "subunitcolor": "white"
          },
          "hoverlabel": {
           "align": "left"
          },
          "hovermode": "closest",
          "mapbox": {
           "style": "light"
          },
          "paper_bgcolor": "white",
          "plot_bgcolor": "#E5ECF6",
          "polar": {
           "angularaxis": {
            "gridcolor": "white",
            "linecolor": "white",
            "ticks": ""
           },
           "bgcolor": "#E5ECF6",
           "radialaxis": {
            "gridcolor": "white",
            "linecolor": "white",
            "ticks": ""
           }
          },
          "scene": {
           "xaxis": {
            "backgroundcolor": "#E5ECF6",
            "gridcolor": "white",
            "gridwidth": 2,
            "linecolor": "white",
            "showbackground": true,
            "ticks": "",
            "zerolinecolor": "white"
           },
           "yaxis": {
            "backgroundcolor": "#E5ECF6",
            "gridcolor": "white",
            "gridwidth": 2,
            "linecolor": "white",
            "showbackground": true,
            "ticks": "",
            "zerolinecolor": "white"
           },
           "zaxis": {
            "backgroundcolor": "#E5ECF6",
            "gridcolor": "white",
            "gridwidth": 2,
            "linecolor": "white",
            "showbackground": true,
            "ticks": "",
            "zerolinecolor": "white"
           }
          },
          "shapedefaults": {
           "line": {
            "color": "#2a3f5f"
           }
          },
          "ternary": {
           "aaxis": {
            "gridcolor": "white",
            "linecolor": "white",
            "ticks": ""
           },
           "baxis": {
            "gridcolor": "white",
            "linecolor": "white",
            "ticks": ""
           },
           "bgcolor": "#E5ECF6",
           "caxis": {
            "gridcolor": "white",
            "linecolor": "white",
            "ticks": ""
           }
          },
          "title": {
           "x": 0.05
          },
          "xaxis": {
           "automargin": true,
           "gridcolor": "white",
           "linecolor": "white",
           "ticks": "",
           "title": {
            "standoff": 15
           },
           "zerolinecolor": "white",
           "zerolinewidth": 2
          },
          "yaxis": {
           "automargin": true,
           "gridcolor": "white",
           "linecolor": "white",
           "ticks": "",
           "title": {
            "standoff": 15
           },
           "zerolinecolor": "white",
           "zerolinewidth": 2
          }
         }
        },
        "title": {
         "text": "Evolution de la surface brûlée de chaque Etat"
        },
        "updatemenus": [
         {
          "buttons": [
           {
            "args": [
             null,
             {
              "frame": {
               "duration": 500,
               "redraw": true
              },
              "fromcurrent": true,
              "mode": "immediate",
              "transition": {
               "duration": 500,
               "easing": "linear"
              }
             }
            ],
            "label": "&#9654;",
            "method": "animate"
           },
           {
            "args": [
             [
              null
             ],
             {
              "frame": {
               "duration": 0,
               "redraw": true
              },
              "fromcurrent": true,
              "mode": "immediate",
              "transition": {
               "duration": 0,
               "easing": "linear"
              }
             }
            ],
            "label": "&#9724;",
            "method": "animate"
           }
          ],
          "direction": "left",
          "pad": {
           "r": 10,
           "t": 70
          },
          "showactive": false,
          "type": "buttons",
          "x": 0.1,
          "xanchor": "right",
          "y": 0,
          "yanchor": "top"
         }
        ],
        "width": 1100
       }
      },
      "text/html": [
       "<div>                            <div id=\"7215b169-4fea-47f1-ab21-a8ce1a5c42d5\" class=\"plotly-graph-div\" style=\"height:800px; width:1100px;\"></div>            <script type=\"text/javascript\">                require([\"plotly\"], function(Plotly) {                    window.PLOTLYENV=window.PLOTLYENV || {};                                    if (document.getElementById(\"7215b169-4fea-47f1-ab21-a8ce1a5c42d5\")) {                    Plotly.newPlot(                        \"7215b169-4fea-47f1-ab21-a8ce1a5c42d5\",                        [{\"coloraxis\":\"coloraxis\",\"customdata\":[[142717.4],[1253.2],[1478.5],[42593.65],[296439.8],[7451.9],[466.05],[124.0],[95279.7],[27016.37],[11161.3],[85.3],[684658.9],[235.4],[247.3],[251.6],[604.5],[25129.1],[5.4],[1160.3],[4399.3],[2987.4],[30182.13],[28716.0],[60830.1],[38591.72],[27489.1],[6373.9],[1227.1],[164.671],[16603.65],[99202.45],[92345.8],[2334.4],[101.7],[47575.1],[117437.36],[59.7],[31202.8],[59412.28],[429.6],[33610.3],[37531.91],[434.6],[270.0],[89681.05],[2520.61],[7514.4]],\"featureidkey\":\"properties.name\",\"geojson\":\"us-states.json\",\"hovertemplate\":\"<b>%{hovertext}</b><br><br>Ann\\u00e9e=1992<br>Etat=%{location}<br>Etendue br\\u00fbl\\u00e9e=%{z}<extra></extra>\",\"hovertext\":[\"Alaska\",\"Alabama\",\"Arkansas\",\"Arizona\",\"California\",\"Colorado\",\"Connecticut\",\"Delaware\",\"Florida\",\"Georgia\",\"Hawaii\",\"Iowa\",\"Idaho\",\"Illinois\",\"Indiana\",\"Kansas\",\"Kentucky\",\"Louisiana\",\"Massachusetts\",\"Maryland\",\"Maine\",\"Michigan\",\"Minnesota\",\"Missouri\",\"Mississippi\",\"Montana\",\"North Carolina\",\"North Dakota\",\"Nebraska\",\"New Hampshire\",\"New Jersey\",\"New Mexico\",\"Nevada\",\"New York\",\"Ohio\",\"Oklahoma\",\"Oregon\",\"Pennsylvania\",\"South Carolina\",\"South Dakota\",\"Tennessee\",\"Texas\",\"Utah\",\"Virginia\",\"Vermont\",\"Washington\",\"Wisconsin\",\"West Virginia\"],\"locations\":[\"Alaska\",\"Alabama\",\"Arkansas\",\"Arizona\",\"California\",\"Colorado\",\"Connecticut\",\"Delaware\",\"Florida\",\"Georgia\",\"Hawaii\",\"Iowa\",\"Idaho\",\"Illinois\",\"Indiana\",\"Kansas\",\"Kentucky\",\"Louisiana\",\"Massachusetts\",\"Maryland\",\"Maine\",\"Michigan\",\"Minnesota\",\"Missouri\",\"Mississippi\",\"Montana\",\"North Carolina\",\"North Dakota\",\"Nebraska\",\"New Hampshire\",\"New Jersey\",\"New Mexico\",\"Nevada\",\"New York\",\"Ohio\",\"Oklahoma\",\"Oregon\",\"Pennsylvania\",\"South Carolina\",\"South Dakota\",\"Tennessee\",\"Texas\",\"Utah\",\"Virginia\",\"Vermont\",\"Washington\",\"Wisconsin\",\"West Virginia\"],\"marker\":{\"opacity\":0.75},\"name\":\"\",\"subplot\":\"mapbox\",\"z\":[142717.4,1253.2,1478.5,42593.65,296439.8,7451.9,466.05,124.0,95279.7,27016.37,11161.3,85.3,684658.9,235.4,247.3,251.6,604.5,25129.1,5.4,1160.3,4399.3,2987.4,30182.13,28716.0,60830.1,38591.72,27489.1,6373.9,1227.1,164.671,16603.65,99202.45,92345.8,2334.4,101.7,47575.1,117437.36,59.7,31202.8,59412.28,429.6,33610.3,37531.91,434.6,270.0,89681.05,2520.61,7514.4],\"type\":\"choroplethmapbox\"}],                        {\"template\":{\"data\":{\"histogram2dcontour\":[{\"type\":\"histogram2dcontour\",\"colorbar\":{\"outlinewidth\":0,\"ticks\":\"\"},\"colorscale\":[[0.0,\"#0d0887\"],[0.1111111111111111,\"#46039f\"],[0.2222222222222222,\"#7201a8\"],[0.3333333333333333,\"#9c179e\"],[0.4444444444444444,\"#bd3786\"],[0.5555555555555556,\"#d8576b\"],[0.6666666666666666,\"#ed7953\"],[0.7777777777777778,\"#fb9f3a\"],[0.8888888888888888,\"#fdca26\"],[1.0,\"#f0f921\"]]}],\"choropleth\":[{\"type\":\"choropleth\",\"colorbar\":{\"outlinewidth\":0,\"ticks\":\"\"}}],\"histogram2d\":[{\"type\":\"histogram2d\",\"colorbar\":{\"outlinewidth\":0,\"ticks\":\"\"},\"colorscale\":[[0.0,\"#0d0887\"],[0.1111111111111111,\"#46039f\"],[0.2222222222222222,\"#7201a8\"],[0.3333333333333333,\"#9c179e\"],[0.4444444444444444,\"#bd3786\"],[0.5555555555555556,\"#d8576b\"],[0.6666666666666666,\"#ed7953\"],[0.7777777777777778,\"#fb9f3a\"],[0.8888888888888888,\"#fdca26\"],[1.0,\"#f0f921\"]]}],\"heatmap\":[{\"type\":\"heatmap\",\"colorbar\":{\"outlinewidth\":0,\"ticks\":\"\"},\"colorscale\":[[0.0,\"#0d0887\"],[0.1111111111111111,\"#46039f\"],[0.2222222222222222,\"#7201a8\"],[0.3333333333333333,\"#9c179e\"],[0.4444444444444444,\"#bd3786\"],[0.5555555555555556,\"#d8576b\"],[0.6666666666666666,\"#ed7953\"],[0.7777777777777778,\"#fb9f3a\"],[0.8888888888888888,\"#fdca26\"],[1.0,\"#f0f921\"]]}],\"heatmapgl\":[{\"type\":\"heatmapgl\",\"colorbar\":{\"outlinewidth\":0,\"ticks\":\"\"},\"colorscale\":[[0.0,\"#0d0887\"],[0.1111111111111111,\"#46039f\"],[0.2222222222222222,\"#7201a8\"],[0.3333333333333333,\"#9c179e\"],[0.4444444444444444,\"#bd3786\"],[0.5555555555555556,\"#d8576b\"],[0.6666666666666666,\"#ed7953\"],[0.7777777777777778,\"#fb9f3a\"],[0.8888888888888888,\"#fdca26\"],[1.0,\"#f0f921\"]]}],\"contourcarpet\":[{\"type\":\"contourcarpet\",\"colorbar\":{\"outlinewidth\":0,\"ticks\":\"\"}}],\"contour\":[{\"type\":\"contour\",\"colorbar\":{\"outlinewidth\":0,\"ticks\":\"\"},\"colorscale\":[[0.0,\"#0d0887\"],[0.1111111111111111,\"#46039f\"],[0.2222222222222222,\"#7201a8\"],[0.3333333333333333,\"#9c179e\"],[0.4444444444444444,\"#bd3786\"],[0.5555555555555556,\"#d8576b\"],[0.6666666666666666,\"#ed7953\"],[0.7777777777777778,\"#fb9f3a\"],[0.8888888888888888,\"#fdca26\"],[1.0,\"#f0f921\"]]}],\"surface\":[{\"type\":\"surface\",\"colorbar\":{\"outlinewidth\":0,\"ticks\":\"\"},\"colorscale\":[[0.0,\"#0d0887\"],[0.1111111111111111,\"#46039f\"],[0.2222222222222222,\"#7201a8\"],[0.3333333333333333,\"#9c179e\"],[0.4444444444444444,\"#bd3786\"],[0.5555555555555556,\"#d8576b\"],[0.6666666666666666,\"#ed7953\"],[0.7777777777777778,\"#fb9f3a\"],[0.8888888888888888,\"#fdca26\"],[1.0,\"#f0f921\"]]}],\"mesh3d\":[{\"type\":\"mesh3d\",\"colorbar\":{\"outlinewidth\":0,\"ticks\":\"\"}}],\"scatter\":[{\"fillpattern\":{\"fillmode\":\"overlay\",\"size\":10,\"solidity\":0.2},\"type\":\"scatter\"}],\"parcoords\":[{\"type\":\"parcoords\",\"line\":{\"colorbar\":{\"outlinewidth\":0,\"ticks\":\"\"}}}],\"scatterpolargl\":[{\"type\":\"scatterpolargl\",\"marker\":{\"colorbar\":{\"outlinewidth\":0,\"ticks\":\"\"}}}],\"bar\":[{\"error_x\":{\"color\":\"#2a3f5f\"},\"error_y\":{\"color\":\"#2a3f5f\"},\"marker\":{\"line\":{\"color\":\"#E5ECF6\",\"width\":0.5},\"pattern\":{\"fillmode\":\"overlay\",\"size\":10,\"solidity\":0.2}},\"type\":\"bar\"}],\"scattergeo\":[{\"type\":\"scattergeo\",\"marker\":{\"colorbar\":{\"outlinewidth\":0,\"ticks\":\"\"}}}],\"scatterpolar\":[{\"type\":\"scatterpolar\",\"marker\":{\"colorbar\":{\"outlinewidth\":0,\"ticks\":\"\"}}}],\"histogram\":[{\"marker\":{\"pattern\":{\"fillmode\":\"overlay\",\"size\":10,\"solidity\":0.2}},\"type\":\"histogram\"}],\"scattergl\":[{\"type\":\"scattergl\",\"marker\":{\"colorbar\":{\"outlinewidth\":0,\"ticks\":\"\"}}}],\"scatter3d\":[{\"type\":\"scatter3d\",\"line\":{\"colorbar\":{\"outlinewidth\":0,\"ticks\":\"\"}},\"marker\":{\"colorbar\":{\"outlinewidth\":0,\"ticks\":\"\"}}}],\"scattermapbox\":[{\"type\":\"scattermapbox\",\"marker\":{\"colorbar\":{\"outlinewidth\":0,\"ticks\":\"\"}}}],\"scatterternary\":[{\"type\":\"scatterternary\",\"marker\":{\"colorbar\":{\"outlinewidth\":0,\"ticks\":\"\"}}}],\"scattercarpet\":[{\"type\":\"scattercarpet\",\"marker\":{\"colorbar\":{\"outlinewidth\":0,\"ticks\":\"\"}}}],\"carpet\":[{\"aaxis\":{\"endlinecolor\":\"#2a3f5f\",\"gridcolor\":\"white\",\"linecolor\":\"white\",\"minorgridcolor\":\"white\",\"startlinecolor\":\"#2a3f5f\"},\"baxis\":{\"endlinecolor\":\"#2a3f5f\",\"gridcolor\":\"white\",\"linecolor\":\"white\",\"minorgridcolor\":\"white\",\"startlinecolor\":\"#2a3f5f\"},\"type\":\"carpet\"}],\"table\":[{\"cells\":{\"fill\":{\"color\":\"#EBF0F8\"},\"line\":{\"color\":\"white\"}},\"header\":{\"fill\":{\"color\":\"#C8D4E3\"},\"line\":{\"color\":\"white\"}},\"type\":\"table\"}],\"barpolar\":[{\"marker\":{\"line\":{\"color\":\"#E5ECF6\",\"width\":0.5},\"pattern\":{\"fillmode\":\"overlay\",\"size\":10,\"solidity\":0.2}},\"type\":\"barpolar\"}],\"pie\":[{\"automargin\":true,\"type\":\"pie\"}]},\"layout\":{\"autotypenumbers\":\"strict\",\"colorway\":[\"#636efa\",\"#EF553B\",\"#00cc96\",\"#ab63fa\",\"#FFA15A\",\"#19d3f3\",\"#FF6692\",\"#B6E880\",\"#FF97FF\",\"#FECB52\"],\"font\":{\"color\":\"#2a3f5f\"},\"hovermode\":\"closest\",\"hoverlabel\":{\"align\":\"left\"},\"paper_bgcolor\":\"white\",\"plot_bgcolor\":\"#E5ECF6\",\"polar\":{\"bgcolor\":\"#E5ECF6\",\"angularaxis\":{\"gridcolor\":\"white\",\"linecolor\":\"white\",\"ticks\":\"\"},\"radialaxis\":{\"gridcolor\":\"white\",\"linecolor\":\"white\",\"ticks\":\"\"}},\"ternary\":{\"bgcolor\":\"#E5ECF6\",\"aaxis\":{\"gridcolor\":\"white\",\"linecolor\":\"white\",\"ticks\":\"\"},\"baxis\":{\"gridcolor\":\"white\",\"linecolor\":\"white\",\"ticks\":\"\"},\"caxis\":{\"gridcolor\":\"white\",\"linecolor\":\"white\",\"ticks\":\"\"}},\"coloraxis\":{\"colorbar\":{\"outlinewidth\":0,\"ticks\":\"\"}},\"colorscale\":{\"sequential\":[[0.0,\"#0d0887\"],[0.1111111111111111,\"#46039f\"],[0.2222222222222222,\"#7201a8\"],[0.3333333333333333,\"#9c179e\"],[0.4444444444444444,\"#bd3786\"],[0.5555555555555556,\"#d8576b\"],[0.6666666666666666,\"#ed7953\"],[0.7777777777777778,\"#fb9f3a\"],[0.8888888888888888,\"#fdca26\"],[1.0,\"#f0f921\"]],\"sequentialminus\":[[0.0,\"#0d0887\"],[0.1111111111111111,\"#46039f\"],[0.2222222222222222,\"#7201a8\"],[0.3333333333333333,\"#9c179e\"],[0.4444444444444444,\"#bd3786\"],[0.5555555555555556,\"#d8576b\"],[0.6666666666666666,\"#ed7953\"],[0.7777777777777778,\"#fb9f3a\"],[0.8888888888888888,\"#fdca26\"],[1.0,\"#f0f921\"]],\"diverging\":[[0,\"#8e0152\"],[0.1,\"#c51b7d\"],[0.2,\"#de77ae\"],[0.3,\"#f1b6da\"],[0.4,\"#fde0ef\"],[0.5,\"#f7f7f7\"],[0.6,\"#e6f5d0\"],[0.7,\"#b8e186\"],[0.8,\"#7fbc41\"],[0.9,\"#4d9221\"],[1,\"#276419\"]]},\"xaxis\":{\"gridcolor\":\"white\",\"linecolor\":\"white\",\"ticks\":\"\",\"title\":{\"standoff\":15},\"zerolinecolor\":\"white\",\"automargin\":true,\"zerolinewidth\":2},\"yaxis\":{\"gridcolor\":\"white\",\"linecolor\":\"white\",\"ticks\":\"\",\"title\":{\"standoff\":15},\"zerolinecolor\":\"white\",\"automargin\":true,\"zerolinewidth\":2},\"scene\":{\"xaxis\":{\"backgroundcolor\":\"#E5ECF6\",\"gridcolor\":\"white\",\"linecolor\":\"white\",\"showbackground\":true,\"ticks\":\"\",\"zerolinecolor\":\"white\",\"gridwidth\":2},\"yaxis\":{\"backgroundcolor\":\"#E5ECF6\",\"gridcolor\":\"white\",\"linecolor\":\"white\",\"showbackground\":true,\"ticks\":\"\",\"zerolinecolor\":\"white\",\"gridwidth\":2},\"zaxis\":{\"backgroundcolor\":\"#E5ECF6\",\"gridcolor\":\"white\",\"linecolor\":\"white\",\"showbackground\":true,\"ticks\":\"\",\"zerolinecolor\":\"white\",\"gridwidth\":2}},\"shapedefaults\":{\"line\":{\"color\":\"#2a3f5f\"}},\"annotationdefaults\":{\"arrowcolor\":\"#2a3f5f\",\"arrowhead\":0,\"arrowwidth\":1},\"geo\":{\"bgcolor\":\"white\",\"landcolor\":\"#E5ECF6\",\"subunitcolor\":\"white\",\"showland\":true,\"showlakes\":true,\"lakecolor\":\"white\"},\"title\":{\"x\":0.05},\"mapbox\":{\"style\":\"light\"}}},\"mapbox\":{\"domain\":{\"x\":[0.0,1.0],\"y\":[0.0,1.0]},\"center\":{\"lat\":50,\"lon\":-110},\"zoom\":2,\"style\":\"carto-positron\"},\"coloraxis\":{\"colorbar\":{\"title\":{\"text\":\"Etendue br\\u00fbl\\u00e9e\"}},\"colorscale\":[[0.0,\"rgb(255,245,240)\"],[0.125,\"rgb(254,224,210)\"],[0.25,\"rgb(252,187,161)\"],[0.375,\"rgb(252,146,114)\"],[0.5,\"rgb(251,106,74)\"],[0.625,\"rgb(239,59,44)\"],[0.75,\"rgb(203,24,29)\"],[0.875,\"rgb(165,15,21)\"],[1.0,\"rgb(103,0,13)\"]]},\"legend\":{\"tracegroupgap\":0},\"title\":{\"text\":\"Evolution de la surface br\\u00fbl\\u00e9e de chaque Etat\"},\"height\":800,\"width\":1100,\"updatemenus\":[{\"buttons\":[{\"args\":[null,{\"frame\":{\"duration\":500,\"redraw\":true},\"mode\":\"immediate\",\"fromcurrent\":true,\"transition\":{\"duration\":500,\"easing\":\"linear\"}}],\"label\":\"&#9654;\",\"method\":\"animate\"},{\"args\":[[null],{\"frame\":{\"duration\":0,\"redraw\":true},\"mode\":\"immediate\",\"fromcurrent\":true,\"transition\":{\"duration\":0,\"easing\":\"linear\"}}],\"label\":\"&#9724;\",\"method\":\"animate\"}],\"direction\":\"left\",\"pad\":{\"r\":10,\"t\":70},\"showactive\":false,\"type\":\"buttons\",\"x\":0.1,\"xanchor\":\"right\",\"y\":0,\"yanchor\":\"top\"}],\"sliders\":[{\"active\":0,\"currentvalue\":{\"prefix\":\"Ann\\u00e9e=\"},\"len\":0.9,\"pad\":{\"b\":10,\"t\":60},\"steps\":[{\"args\":[[\"1992\"],{\"frame\":{\"duration\":0,\"redraw\":true},\"mode\":\"immediate\",\"fromcurrent\":true,\"transition\":{\"duration\":0,\"easing\":\"linear\"}}],\"label\":\"1992\",\"method\":\"animate\"},{\"args\":[[\"1993\"],{\"frame\":{\"duration\":0,\"redraw\":true},\"mode\":\"immediate\",\"fromcurrent\":true,\"transition\":{\"duration\":0,\"easing\":\"linear\"}}],\"label\":\"1993\",\"method\":\"animate\"},{\"args\":[[\"1994\"],{\"frame\":{\"duration\":0,\"redraw\":true},\"mode\":\"immediate\",\"fromcurrent\":true,\"transition\":{\"duration\":0,\"easing\":\"linear\"}}],\"label\":\"1994\",\"method\":\"animate\"},{\"args\":[[\"1995\"],{\"frame\":{\"duration\":0,\"redraw\":true},\"mode\":\"immediate\",\"fromcurrent\":true,\"transition\":{\"duration\":0,\"easing\":\"linear\"}}],\"label\":\"1995\",\"method\":\"animate\"},{\"args\":[[\"1996\"],{\"frame\":{\"duration\":0,\"redraw\":true},\"mode\":\"immediate\",\"fromcurrent\":true,\"transition\":{\"duration\":0,\"easing\":\"linear\"}}],\"label\":\"1996\",\"method\":\"animate\"},{\"args\":[[\"1997\"],{\"frame\":{\"duration\":0,\"redraw\":true},\"mode\":\"immediate\",\"fromcurrent\":true,\"transition\":{\"duration\":0,\"easing\":\"linear\"}}],\"label\":\"1997\",\"method\":\"animate\"},{\"args\":[[\"1998\"],{\"frame\":{\"duration\":0,\"redraw\":true},\"mode\":\"immediate\",\"fromcurrent\":true,\"transition\":{\"duration\":0,\"easing\":\"linear\"}}],\"label\":\"1998\",\"method\":\"animate\"},{\"args\":[[\"1999\"],{\"frame\":{\"duration\":0,\"redraw\":true},\"mode\":\"immediate\",\"fromcurrent\":true,\"transition\":{\"duration\":0,\"easing\":\"linear\"}}],\"label\":\"1999\",\"method\":\"animate\"},{\"args\":[[\"2000\"],{\"frame\":{\"duration\":0,\"redraw\":true},\"mode\":\"immediate\",\"fromcurrent\":true,\"transition\":{\"duration\":0,\"easing\":\"linear\"}}],\"label\":\"2000\",\"method\":\"animate\"},{\"args\":[[\"2001\"],{\"frame\":{\"duration\":0,\"redraw\":true},\"mode\":\"immediate\",\"fromcurrent\":true,\"transition\":{\"duration\":0,\"easing\":\"linear\"}}],\"label\":\"2001\",\"method\":\"animate\"},{\"args\":[[\"2002\"],{\"frame\":{\"duration\":0,\"redraw\":true},\"mode\":\"immediate\",\"fromcurrent\":true,\"transition\":{\"duration\":0,\"easing\":\"linear\"}}],\"label\":\"2002\",\"method\":\"animate\"},{\"args\":[[\"2003\"],{\"frame\":{\"duration\":0,\"redraw\":true},\"mode\":\"immediate\",\"fromcurrent\":true,\"transition\":{\"duration\":0,\"easing\":\"linear\"}}],\"label\":\"2003\",\"method\":\"animate\"},{\"args\":[[\"2004\"],{\"frame\":{\"duration\":0,\"redraw\":true},\"mode\":\"immediate\",\"fromcurrent\":true,\"transition\":{\"duration\":0,\"easing\":\"linear\"}}],\"label\":\"2004\",\"method\":\"animate\"},{\"args\":[[\"2005\"],{\"frame\":{\"duration\":0,\"redraw\":true},\"mode\":\"immediate\",\"fromcurrent\":true,\"transition\":{\"duration\":0,\"easing\":\"linear\"}}],\"label\":\"2005\",\"method\":\"animate\"},{\"args\":[[\"2006\"],{\"frame\":{\"duration\":0,\"redraw\":true},\"mode\":\"immediate\",\"fromcurrent\":true,\"transition\":{\"duration\":0,\"easing\":\"linear\"}}],\"label\":\"2006\",\"method\":\"animate\"},{\"args\":[[\"2007\"],{\"frame\":{\"duration\":0,\"redraw\":true},\"mode\":\"immediate\",\"fromcurrent\":true,\"transition\":{\"duration\":0,\"easing\":\"linear\"}}],\"label\":\"2007\",\"method\":\"animate\"},{\"args\":[[\"2008\"],{\"frame\":{\"duration\":0,\"redraw\":true},\"mode\":\"immediate\",\"fromcurrent\":true,\"transition\":{\"duration\":0,\"easing\":\"linear\"}}],\"label\":\"2008\",\"method\":\"animate\"},{\"args\":[[\"2009\"],{\"frame\":{\"duration\":0,\"redraw\":true},\"mode\":\"immediate\",\"fromcurrent\":true,\"transition\":{\"duration\":0,\"easing\":\"linear\"}}],\"label\":\"2009\",\"method\":\"animate\"},{\"args\":[[\"2010\"],{\"frame\":{\"duration\":0,\"redraw\":true},\"mode\":\"immediate\",\"fromcurrent\":true,\"transition\":{\"duration\":0,\"easing\":\"linear\"}}],\"label\":\"2010\",\"method\":\"animate\"},{\"args\":[[\"2011\"],{\"frame\":{\"duration\":0,\"redraw\":true},\"mode\":\"immediate\",\"fromcurrent\":true,\"transition\":{\"duration\":0,\"easing\":\"linear\"}}],\"label\":\"2011\",\"method\":\"animate\"},{\"args\":[[\"2012\"],{\"frame\":{\"duration\":0,\"redraw\":true},\"mode\":\"immediate\",\"fromcurrent\":true,\"transition\":{\"duration\":0,\"easing\":\"linear\"}}],\"label\":\"2012\",\"method\":\"animate\"},{\"args\":[[\"2013\"],{\"frame\":{\"duration\":0,\"redraw\":true},\"mode\":\"immediate\",\"fromcurrent\":true,\"transition\":{\"duration\":0,\"easing\":\"linear\"}}],\"label\":\"2013\",\"method\":\"animate\"},{\"args\":[[\"2014\"],{\"frame\":{\"duration\":0,\"redraw\":true},\"mode\":\"immediate\",\"fromcurrent\":true,\"transition\":{\"duration\":0,\"easing\":\"linear\"}}],\"label\":\"2014\",\"method\":\"animate\"},{\"args\":[[\"2015\"],{\"frame\":{\"duration\":0,\"redraw\":true},\"mode\":\"immediate\",\"fromcurrent\":true,\"transition\":{\"duration\":0,\"easing\":\"linear\"}}],\"label\":\"2015\",\"method\":\"animate\"}],\"x\":0.1,\"xanchor\":\"left\",\"y\":0,\"yanchor\":\"top\"}]},                        {\"responsive\": true}                    ).then(function(){\n",
       "                            Plotly.addFrames('7215b169-4fea-47f1-ab21-a8ce1a5c42d5', [{\"data\":[{\"coloraxis\":\"coloraxis\",\"customdata\":[[142717.4],[1253.2],[1478.5],[42593.65],[296439.8],[7451.9],[466.05],[124.0],[95279.7],[27016.37],[11161.3],[85.3],[684658.9],[235.4],[247.3],[251.6],[604.5],[25129.1],[5.4],[1160.3],[4399.3],[2987.4],[30182.13],[28716.0],[60830.1],[38591.72],[27489.1],[6373.9],[1227.1],[164.671],[16603.65],[99202.45],[92345.8],[2334.4],[101.7],[47575.1],[117437.36],[59.7],[31202.8],[59412.28],[429.6],[33610.3],[37531.91],[434.6],[270.0],[89681.05],[2520.61],[7514.4]],\"featureidkey\":\"properties.name\",\"geojson\":\"us-states.json\",\"hovertemplate\":\"<b>%{hovertext}</b><br><br>Ann\\u00e9e=1992<br>Etat=%{location}<br>Etendue br\\u00fbl\\u00e9e=%{z}<extra></extra>\",\"hovertext\":[\"Alaska\",\"Alabama\",\"Arkansas\",\"Arizona\",\"California\",\"Colorado\",\"Connecticut\",\"Delaware\",\"Florida\",\"Georgia\",\"Hawaii\",\"Iowa\",\"Idaho\",\"Illinois\",\"Indiana\",\"Kansas\",\"Kentucky\",\"Louisiana\",\"Massachusetts\",\"Maryland\",\"Maine\",\"Michigan\",\"Minnesota\",\"Missouri\",\"Mississippi\",\"Montana\",\"North Carolina\",\"North Dakota\",\"Nebraska\",\"New Hampshire\",\"New Jersey\",\"New Mexico\",\"Nevada\",\"New York\",\"Ohio\",\"Oklahoma\",\"Oregon\",\"Pennsylvania\",\"South Carolina\",\"South Dakota\",\"Tennessee\",\"Texas\",\"Utah\",\"Virginia\",\"Vermont\",\"Washington\",\"Wisconsin\",\"West Virginia\"],\"locations\":[\"Alaska\",\"Alabama\",\"Arkansas\",\"Arizona\",\"California\",\"Colorado\",\"Connecticut\",\"Delaware\",\"Florida\",\"Georgia\",\"Hawaii\",\"Iowa\",\"Idaho\",\"Illinois\",\"Indiana\",\"Kansas\",\"Kentucky\",\"Louisiana\",\"Massachusetts\",\"Maryland\",\"Maine\",\"Michigan\",\"Minnesota\",\"Missouri\",\"Mississippi\",\"Montana\",\"North Carolina\",\"North Dakota\",\"Nebraska\",\"New Hampshire\",\"New Jersey\",\"New Mexico\",\"Nevada\",\"New York\",\"Ohio\",\"Oklahoma\",\"Oregon\",\"Pennsylvania\",\"South Carolina\",\"South Dakota\",\"Tennessee\",\"Texas\",\"Utah\",\"Virginia\",\"Vermont\",\"Washington\",\"Wisconsin\",\"West Virginia\"],\"marker\":{\"opacity\":0.75},\"name\":\"\",\"subplot\":\"mapbox\",\"z\":[142717.4,1253.2,1478.5,42593.65,296439.8,7451.9,466.05,124.0,95279.7,27016.37,11161.3,85.3,684658.9,235.4,247.3,251.6,604.5,25129.1,5.4,1160.3,4399.3,2987.4,30182.13,28716.0,60830.1,38591.72,27489.1,6373.9,1227.1,164.671,16603.65,99202.45,92345.8,2334.4,101.7,47575.1,117437.36,59.7,31202.8,59412.28,429.6,33610.3,37531.91,434.6,270.0,89681.05,2520.61,7514.4],\"type\":\"choroplethmapbox\"}],\"name\":\"1992\"},{\"data\":[{\"coloraxis\":\"coloraxis\",\"customdata\":[[687191.5],[2336.8],[1760.2],[205567.02],[321495.3],[35555.3],[401.1],[1.0],[79755.2],[40515.59],[2562.0],[30.7],[7978.2],[29.8],[464.3],[1809.3],[843.1],[8066.8],[1.5],[1672.9],[1413.15],[1008.0],[19087.71],[14997.3],[54108.3],[12598.41],[26461.2],[3923.9],[173.5],[166.663],[922.7],[302344.04],[53979.9],[1126.3],[42.7],[69803.5],[13843.28],[40.8],[34284.7],[6133.3],[866.4],[116873.7],[19887.47],[564.0],[3.0],[22629.0],[1445.22],[9434.0]],\"featureidkey\":\"properties.name\",\"geojson\":\"us-states.json\",\"hovertemplate\":\"<b>%{hovertext}</b><br><br>Ann\\u00e9e=1993<br>Etat=%{location}<br>Etendue br\\u00fbl\\u00e9e=%{z}<extra></extra>\",\"hovertext\":[\"Alaska\",\"Alabama\",\"Arkansas\",\"Arizona\",\"California\",\"Colorado\",\"Connecticut\",\"Delaware\",\"Florida\",\"Georgia\",\"Hawaii\",\"Iowa\",\"Idaho\",\"Illinois\",\"Indiana\",\"Kansas\",\"Kentucky\",\"Louisiana\",\"Massachusetts\",\"Maryland\",\"Maine\",\"Michigan\",\"Minnesota\",\"Missouri\",\"Mississippi\",\"Montana\",\"North Carolina\",\"North Dakota\",\"Nebraska\",\"New Hampshire\",\"New Jersey\",\"New Mexico\",\"Nevada\",\"New York\",\"Ohio\",\"Oklahoma\",\"Oregon\",\"Pennsylvania\",\"South Carolina\",\"South Dakota\",\"Tennessee\",\"Texas\",\"Utah\",\"Virginia\",\"Vermont\",\"Washington\",\"Wisconsin\",\"West Virginia\"],\"locations\":[\"Alaska\",\"Alabama\",\"Arkansas\",\"Arizona\",\"California\",\"Colorado\",\"Connecticut\",\"Delaware\",\"Florida\",\"Georgia\",\"Hawaii\",\"Iowa\",\"Idaho\",\"Illinois\",\"Indiana\",\"Kansas\",\"Kentucky\",\"Louisiana\",\"Massachusetts\",\"Maryland\",\"Maine\",\"Michigan\",\"Minnesota\",\"Missouri\",\"Mississippi\",\"Montana\",\"North Carolina\",\"North Dakota\",\"Nebraska\",\"New Hampshire\",\"New Jersey\",\"New Mexico\",\"Nevada\",\"New York\",\"Ohio\",\"Oklahoma\",\"Oregon\",\"Pennsylvania\",\"South Carolina\",\"South Dakota\",\"Tennessee\",\"Texas\",\"Utah\",\"Virginia\",\"Vermont\",\"Washington\",\"Wisconsin\",\"West Virginia\"],\"marker\":{\"opacity\":0.75},\"name\":\"\",\"subplot\":\"mapbox\",\"z\":[687191.5,2336.8,1760.2,205567.02,321495.3,35555.3,401.1,1.0,79755.2,40515.59,2562.0,30.7,7978.2,29.8,464.3,1809.3,843.1,8066.8,1.5,1672.9,1413.15,1008.0,19087.71,14997.3,54108.3,12598.41,26461.2,3923.9,173.5,166.663,922.7,302344.04,53979.9,1126.3,42.7,69803.5,13843.28,40.8,34284.7,6133.3,866.4,116873.7,19887.47,564.0,3.0,22629.0,1445.22,9434.0],\"type\":\"choroplethmapbox\"}],\"name\":\"1993\"},{\"data\":[{\"coloraxis\":\"coloraxis\",\"customdata\":[[261964.9],[34664.4],[2303.9],[224199.735],[407944.7],[70760.6],[943.15],[96.0],[103085.4],[25013.89],[78.6],[105.4],[729029.6],[383.7],[577.9],[84460.1],[4660.6],[2520.6],[0.1],[786.9],[2012.69],[6704.2],[37150.32],[36249.4],[54478.5],[265689.35],[44936.2],[11743.3],[6869.5],[207.234],[2725.85],[416646.72],[196057.8],[1154.6],[125.7],[75164.2],[276054.32],[66.5],[25.0],[30354.1],[16520.05],[3300.2],[70917.5],[213555.1],[1205.5],[25.3],[271438.1],[5242.02],[50906.8]],\"featureidkey\":\"properties.name\",\"geojson\":\"us-states.json\",\"hovertemplate\":\"<b>%{hovertext}</b><br><br>Ann\\u00e9e=1994<br>Etat=%{location}<br>Etendue br\\u00fbl\\u00e9e=%{z}<extra></extra>\",\"hovertext\":[\"Alaska\",\"Alabama\",\"Arkansas\",\"Arizona\",\"California\",\"Colorado\",\"Connecticut\",\"Delaware\",\"Florida\",\"Georgia\",\"Hawaii\",\"Iowa\",\"Idaho\",\"Illinois\",\"Indiana\",\"Kansas\",\"Kentucky\",\"Louisiana\",\"Massachusetts\",\"Maryland\",\"Maine\",\"Michigan\",\"Minnesota\",\"Missouri\",\"Mississippi\",\"Montana\",\"North Carolina\",\"North Dakota\",\"Nebraska\",\"New Hampshire\",\"New Jersey\",\"New Mexico\",\"Nevada\",\"New York\",\"Ohio\",\"Oklahoma\",\"Oregon\",\"Pennsylvania\",\"Rhode Island\",\"South Carolina\",\"South Dakota\",\"Tennessee\",\"Texas\",\"Utah\",\"Virginia\",\"Vermont\",\"Washington\",\"Wisconsin\",\"West Virginia\"],\"locations\":[\"Alaska\",\"Alabama\",\"Arkansas\",\"Arizona\",\"California\",\"Colorado\",\"Connecticut\",\"Delaware\",\"Florida\",\"Georgia\",\"Hawaii\",\"Iowa\",\"Idaho\",\"Illinois\",\"Indiana\",\"Kansas\",\"Kentucky\",\"Louisiana\",\"Massachusetts\",\"Maryland\",\"Maine\",\"Michigan\",\"Minnesota\",\"Missouri\",\"Mississippi\",\"Montana\",\"North Carolina\",\"North Dakota\",\"Nebraska\",\"New Hampshire\",\"New Jersey\",\"New Mexico\",\"Nevada\",\"New York\",\"Ohio\",\"Oklahoma\",\"Oregon\",\"Pennsylvania\",\"Rhode Island\",\"South Carolina\",\"South Dakota\",\"Tennessee\",\"Texas\",\"Utah\",\"Virginia\",\"Vermont\",\"Washington\",\"Wisconsin\",\"West Virginia\"],\"marker\":{\"opacity\":0.75},\"name\":\"\",\"subplot\":\"mapbox\",\"z\":[261964.9,34664.4,2303.9,224199.735,407944.7,70760.6,943.15,96.0,103085.4,25013.89,78.6,105.4,729029.6,383.7,577.9,84460.1,4660.6,2520.6,0.1,786.9,2012.69,6704.2,37150.32,36249.4,54478.5,265689.35,44936.2,11743.3,6869.5,207.234,2725.85,416646.72,196057.8,1154.6,125.7,75164.2,276054.32,66.5,25.0,30354.1,16520.05,3300.2,70917.5,213555.1,1205.5,25.3,271438.1,5242.02,50906.8],\"type\":\"choroplethmapbox\"}],\"name\":\"1994\"},{\"data\":[{\"coloraxis\":\"coloraxis\",\"customdata\":[[43962.1],[38896.6],[5190.4],[262152.83],[216068.7],[20043.7],[427.4],[2014.4],[56682.7],[24460.52],[1027.5],[57.4],[268681.3],[993.2],[881.4],[4537.9],[5863.6],[7277.9],[8.7],[1304.4],[1137.08],[4872.3],[46067.31],[50196.4],[68013.8],[25183.95],[23404.3],[2047.6],[55757.8],[309.042],[22962.146],[139862.35],[120031.4],[9167.45],[292.3],[94478.9],[61282.49],[51.2],[17794.8],[10273.22],[2049.2],[56371.1],[199115.64],[15136.75],[1.2],[6727.8],[2316.93],[41583.6]],\"featureidkey\":\"properties.name\",\"geojson\":\"us-states.json\",\"hovertemplate\":\"<b>%{hovertext}</b><br><br>Ann\\u00e9e=1995<br>Etat=%{location}<br>Etendue br\\u00fbl\\u00e9e=%{z}<extra></extra>\",\"hovertext\":[\"Alaska\",\"Alabama\",\"Arkansas\",\"Arizona\",\"California\",\"Colorado\",\"Connecticut\",\"Delaware\",\"Florida\",\"Georgia\",\"Hawaii\",\"Iowa\",\"Idaho\",\"Illinois\",\"Indiana\",\"Kansas\",\"Kentucky\",\"Louisiana\",\"Massachusetts\",\"Maryland\",\"Maine\",\"Michigan\",\"Minnesota\",\"Missouri\",\"Mississippi\",\"Montana\",\"North Carolina\",\"North Dakota\",\"Nebraska\",\"New Hampshire\",\"New Jersey\",\"New Mexico\",\"Nevada\",\"New York\",\"Ohio\",\"Oklahoma\",\"Oregon\",\"Pennsylvania\",\"South Carolina\",\"South Dakota\",\"Tennessee\",\"Texas\",\"Utah\",\"Virginia\",\"Vermont\",\"Washington\",\"Wisconsin\",\"West Virginia\"],\"locations\":[\"Alaska\",\"Alabama\",\"Arkansas\",\"Arizona\",\"California\",\"Colorado\",\"Connecticut\",\"Delaware\",\"Florida\",\"Georgia\",\"Hawaii\",\"Iowa\",\"Idaho\",\"Illinois\",\"Indiana\",\"Kansas\",\"Kentucky\",\"Louisiana\",\"Massachusetts\",\"Maryland\",\"Maine\",\"Michigan\",\"Minnesota\",\"Missouri\",\"Mississippi\",\"Montana\",\"North Carolina\",\"North Dakota\",\"Nebraska\",\"New Hampshire\",\"New Jersey\",\"New Mexico\",\"Nevada\",\"New York\",\"Ohio\",\"Oklahoma\",\"Oregon\",\"Pennsylvania\",\"South Carolina\",\"South Dakota\",\"Tennessee\",\"Texas\",\"Utah\",\"Virginia\",\"Vermont\",\"Washington\",\"Wisconsin\",\"West Virginia\"],\"marker\":{\"opacity\":0.75},\"name\":\"\",\"subplot\":\"mapbox\",\"z\":[43962.1,38896.6,5190.4,262152.83,216068.7,20043.7,427.4,2014.4,56682.7,24460.52,1027.5,57.4,268681.3,993.2,881.4,4537.9,5863.6,7277.9,8.7,1304.4,1137.08,4872.3,46067.31,50196.4,68013.8,25183.95,23404.3,2047.6,55757.8,309.042,22962.146,139862.35,120031.4,9167.45,292.3,94478.9,61282.49,51.2,17794.8,10273.22,2049.2,56371.1,199115.64,15136.75,1.2,6727.8,2316.93,41583.6],\"type\":\"choroplethmapbox\"}],\"name\":\"1995\"},{\"data\":[{\"coloraxis\":\"coloraxis\",\"customdata\":[[598797.2],[47683.2],[5286.8],[187400.565],[707110.5],[70040.5],[66.45],[107511.5],[37975.89],[380.3],[1026.4],[896659.9],[149.8],[495.0],[147570.4],[1117.8],[8254.1],[2.2],[312.1],[403.35],[2921.7],[29633.94],[8538.3],[101707.7],[208840.45],[17358.0],[4801.8],[8278.3],[95.734],[929.6],[171645.96],[627484.0],[417.3],[70.3],[207500.0],[590641.84],[18.9],[28609.6],[18689.02],[484.1],[216223.0],[511165.79],[3259.5],[148134.1],[2927.9700000000003],[5858.5]],\"featureidkey\":\"properties.name\",\"geojson\":\"us-states.json\",\"hovertemplate\":\"<b>%{hovertext}</b><br><br>Ann\\u00e9e=1996<br>Etat=%{location}<br>Etendue br\\u00fbl\\u00e9e=%{z}<extra></extra>\",\"hovertext\":[\"Alaska\",\"Alabama\",\"Arkansas\",\"Arizona\",\"California\",\"Colorado\",\"Connecticut\",\"Florida\",\"Georgia\",\"Hawaii\",\"Iowa\",\"Idaho\",\"Illinois\",\"Indiana\",\"Kansas\",\"Kentucky\",\"Louisiana\",\"Massachusetts\",\"Maryland\",\"Maine\",\"Michigan\",\"Minnesota\",\"Missouri\",\"Mississippi\",\"Montana\",\"North Carolina\",\"North Dakota\",\"Nebraska\",\"New Hampshire\",\"New Jersey\",\"New Mexico\",\"Nevada\",\"New York\",\"Ohio\",\"Oklahoma\",\"Oregon\",\"Pennsylvania\",\"South Carolina\",\"South Dakota\",\"Tennessee\",\"Texas\",\"Utah\",\"Virginia\",\"Washington\",\"Wisconsin\",\"West Virginia\"],\"locations\":[\"Alaska\",\"Alabama\",\"Arkansas\",\"Arizona\",\"California\",\"Colorado\",\"Connecticut\",\"Florida\",\"Georgia\",\"Hawaii\",\"Iowa\",\"Idaho\",\"Illinois\",\"Indiana\",\"Kansas\",\"Kentucky\",\"Louisiana\",\"Massachusetts\",\"Maryland\",\"Maine\",\"Michigan\",\"Minnesota\",\"Missouri\",\"Mississippi\",\"Montana\",\"North Carolina\",\"North Dakota\",\"Nebraska\",\"New Hampshire\",\"New Jersey\",\"New Mexico\",\"Nevada\",\"New York\",\"Ohio\",\"Oklahoma\",\"Oregon\",\"Pennsylvania\",\"South Carolina\",\"South Dakota\",\"Tennessee\",\"Texas\",\"Utah\",\"Virginia\",\"Washington\",\"Wisconsin\",\"West Virginia\"],\"marker\":{\"opacity\":0.75},\"name\":\"\",\"subplot\":\"mapbox\",\"z\":[598797.2,47683.2,5286.8,187400.565,707110.5,70040.5,66.45,107511.5,37975.89,380.3,1026.4,896659.9,149.8,495.0,147570.4,1117.8,8254.1,2.2,312.1,403.35,2921.7,29633.94,8538.3,101707.7,208840.45,17358.0,4801.8,8278.3,95.734,929.6,171645.96,627484.0,417.3,70.3,207500.0,590641.84,18.9,28609.6,18689.02,484.1,216223.0,511165.79,3259.5,148134.1,2927.9700000000003,5858.5],\"type\":\"choroplethmapbox\"}],\"name\":\"1996\"},{\"data\":[{\"coloraxis\":\"coloraxis\",\"customdata\":[[2026204.5],[22055.4],[11442.4],[13356.9],[324566.3],[6038.2],[600.35],[24.6],[133163.9],[21908.14],[52.0],[93.0],[42902.4],[13.7],[83.0],[11410.4],[11612.7],[21649.0],[5.4],[181.7],[896.77],[552.1],[20708.74],[23939.7],[32355.6],[11343.13],[17412.0],[6203.8],[18129.5],[108.17],[4767.8],[169966.5],[41857.4],[1421.8],[41.5],[19627.6],[24603.94],[107.7],[25238.5],[4318.61],[13043.7],[46780.9],[32525.21],[5199.3],[3.0],[27563.1],[2621.6],[7534.95]],\"featureidkey\":\"properties.name\",\"geojson\":\"us-states.json\",\"hovertemplate\":\"<b>%{hovertext}</b><br><br>Ann\\u00e9e=1997<br>Etat=%{location}<br>Etendue br\\u00fbl\\u00e9e=%{z}<extra></extra>\",\"hovertext\":[\"Alaska\",\"Alabama\",\"Arkansas\",\"Arizona\",\"California\",\"Colorado\",\"Connecticut\",\"Delaware\",\"Florida\",\"Georgia\",\"Hawaii\",\"Iowa\",\"Idaho\",\"Illinois\",\"Indiana\",\"Kansas\",\"Kentucky\",\"Louisiana\",\"Massachusetts\",\"Maryland\",\"Maine\",\"Michigan\",\"Minnesota\",\"Missouri\",\"Mississippi\",\"Montana\",\"North Carolina\",\"North Dakota\",\"Nebraska\",\"New Hampshire\",\"New Jersey\",\"New Mexico\",\"Nevada\",\"New York\",\"Ohio\",\"Oklahoma\",\"Oregon\",\"Pennsylvania\",\"South Carolina\",\"South Dakota\",\"Tennessee\",\"Texas\",\"Utah\",\"Virginia\",\"Vermont\",\"Washington\",\"Wisconsin\",\"West Virginia\"],\"locations\":[\"Alaska\",\"Alabama\",\"Arkansas\",\"Arizona\",\"California\",\"Colorado\",\"Connecticut\",\"Delaware\",\"Florida\",\"Georgia\",\"Hawaii\",\"Iowa\",\"Idaho\",\"Illinois\",\"Indiana\",\"Kansas\",\"Kentucky\",\"Louisiana\",\"Massachusetts\",\"Maryland\",\"Maine\",\"Michigan\",\"Minnesota\",\"Missouri\",\"Mississippi\",\"Montana\",\"North Carolina\",\"North Dakota\",\"Nebraska\",\"New Hampshire\",\"New Jersey\",\"New Mexico\",\"Nevada\",\"New York\",\"Ohio\",\"Oklahoma\",\"Oregon\",\"Pennsylvania\",\"South Carolina\",\"South Dakota\",\"Tennessee\",\"Texas\",\"Utah\",\"Virginia\",\"Vermont\",\"Washington\",\"Wisconsin\",\"West Virginia\"],\"marker\":{\"opacity\":0.75},\"name\":\"\",\"subplot\":\"mapbox\",\"z\":[2026204.5,22055.4,11442.4,13356.9,324566.3,6038.2,600.35,24.6,133163.9,21908.14,52.0,93.0,42902.4,13.7,83.0,11410.4,11612.7,21649.0,5.4,181.7,896.77,552.1,20708.74,23939.7,32355.6,11343.13,17412.0,6203.8,18129.5,108.17,4767.8,169966.5,41857.4,1421.8,41.5,19627.6,24603.94,107.7,25238.5,4318.61,13043.7,46780.9,32525.21,5199.3,3.0,27563.1,2621.6,7534.95],\"type\":\"choroplethmapbox\"}],\"name\":\"1997\"},{\"data\":[{\"coloraxis\":\"coloraxis\",\"customdata\":[[120782.1],[35560.6],[13023.1],[27378.8],[160013.1],[8379.2],[131.9],[377720.5],[45909.78],[31675.2],[70.0],[151299.3],[165.3],[175.0],[5207.1],[24966.3],[34126.2],[3.0],[544.0],[1547.8200000000002],[3959.0],[49139.65001],[10981.8],[39658.8],[101357.27],[16913.4],[7760.1],[14110.1],[257.02],[1320.44],[97959.56],[91363.7],[1695.71],[203.4],[17945.3],[83099.62],[54.2],[16369.0],[14072.83],[20857.1],[136551.4],[96563.07],[9279.1],[14.0],[111620.7],[4095.52],[20567.31]],\"featureidkey\":\"properties.name\",\"geojson\":\"us-states.json\",\"hovertemplate\":\"<b>%{hovertext}</b><br><br>Ann\\u00e9e=1998<br>Etat=%{location}<br>Etendue br\\u00fbl\\u00e9e=%{z}<extra></extra>\",\"hovertext\":[\"Alaska\",\"Alabama\",\"Arkansas\",\"Arizona\",\"California\",\"Colorado\",\"Connecticut\",\"Florida\",\"Georgia\",\"Hawaii\",\"Iowa\",\"Idaho\",\"Illinois\",\"Indiana\",\"Kansas\",\"Kentucky\",\"Louisiana\",\"Massachusetts\",\"Maryland\",\"Maine\",\"Michigan\",\"Minnesota\",\"Missouri\",\"Mississippi\",\"Montana\",\"North Carolina\",\"North Dakota\",\"Nebraska\",\"New Hampshire\",\"New Jersey\",\"New Mexico\",\"Nevada\",\"New York\",\"Ohio\",\"Oklahoma\",\"Oregon\",\"Pennsylvania\",\"South Carolina\",\"South Dakota\",\"Tennessee\",\"Texas\",\"Utah\",\"Virginia\",\"Vermont\",\"Washington\",\"Wisconsin\",\"West Virginia\"],\"locations\":[\"Alaska\",\"Alabama\",\"Arkansas\",\"Arizona\",\"California\",\"Colorado\",\"Connecticut\",\"Florida\",\"Georgia\",\"Hawaii\",\"Iowa\",\"Idaho\",\"Illinois\",\"Indiana\",\"Kansas\",\"Kentucky\",\"Louisiana\",\"Massachusetts\",\"Maryland\",\"Maine\",\"Michigan\",\"Minnesota\",\"Missouri\",\"Mississippi\",\"Montana\",\"North Carolina\",\"North Dakota\",\"Nebraska\",\"New Hampshire\",\"New Jersey\",\"New Mexico\",\"Nevada\",\"New York\",\"Ohio\",\"Oklahoma\",\"Oregon\",\"Pennsylvania\",\"South Carolina\",\"South Dakota\",\"Tennessee\",\"Texas\",\"Utah\",\"Virginia\",\"Vermont\",\"Washington\",\"Wisconsin\",\"West Virginia\"],\"marker\":{\"opacity\":0.75},\"name\":\"\",\"subplot\":\"mapbox\",\"z\":[120782.1,35560.6,13023.1,27378.8,160013.1,8379.2,131.9,377720.5,45909.78,31675.2,70.0,151299.3,165.3,175.0,5207.1,24966.3,34126.2,3.0,544.0,1547.8200000000002,3959.0,49139.65001,10981.8,39658.8,101357.27,16913.4,7760.1,14110.1,257.02,1320.44,97959.56,91363.7,1695.71,203.4,17945.3,83099.62,54.2,16369.0,14072.83,20857.1,136551.4,96563.07,9279.1,14.0,111620.7,4095.52,20567.31],\"type\":\"choroplethmapbox\"}],\"name\":\"1998\"},{\"data\":[{\"coloraxis\":\"coloraxis\",\"customdata\":[[1005843.69999],[52548.2],[24032.3],[73799.0],[804123.4],[20313.9],[1672.46],[507.0],[413350.0],[73112.0],[15129.5],[435.6],[416185.82],[497.2],[764.1999999999999],[6531.6],[125633.8],[37623.0],[1.5],[1625.7],[1061.27],[10031.1],[32858.86],[35498.9],[66126.9],[117459.34],[25060.6],[70997.6],[118550.5],[16.2],[16030.3],[82559.04],[1773486.6],[6073.45],[705.1],[16421.5],[72161.93],[493.8],[35934.4],[80370.2253],[42251.4],[60028.2],[148497.92],[19266.2],[10.5],[26175.17],[5353.08],[103301.45]],\"featureidkey\":\"properties.name\",\"geojson\":\"us-states.json\",\"hovertemplate\":\"<b>%{hovertext}</b><br><br>Ann\\u00e9e=1999<br>Etat=%{location}<br>Etendue br\\u00fbl\\u00e9e=%{z}<extra></extra>\",\"hovertext\":[\"Alaska\",\"Alabama\",\"Arkansas\",\"Arizona\",\"California\",\"Colorado\",\"Connecticut\",\"Delaware\",\"Florida\",\"Georgia\",\"Hawaii\",\"Iowa\",\"Idaho\",\"Illinois\",\"Indiana\",\"Kansas\",\"Kentucky\",\"Louisiana\",\"Massachusetts\",\"Maryland\",\"Maine\",\"Michigan\",\"Minnesota\",\"Missouri\",\"Mississippi\",\"Montana\",\"North Carolina\",\"North Dakota\",\"Nebraska\",\"New Hampshire\",\"New Jersey\",\"New Mexico\",\"Nevada\",\"New York\",\"Ohio\",\"Oklahoma\",\"Oregon\",\"Pennsylvania\",\"South Carolina\",\"South Dakota\",\"Tennessee\",\"Texas\",\"Utah\",\"Virginia\",\"Vermont\",\"Washington\",\"Wisconsin\",\"West Virginia\"],\"locations\":[\"Alaska\",\"Alabama\",\"Arkansas\",\"Arizona\",\"California\",\"Colorado\",\"Connecticut\",\"Delaware\",\"Florida\",\"Georgia\",\"Hawaii\",\"Iowa\",\"Idaho\",\"Illinois\",\"Indiana\",\"Kansas\",\"Kentucky\",\"Louisiana\",\"Massachusetts\",\"Maryland\",\"Maine\",\"Michigan\",\"Minnesota\",\"Missouri\",\"Mississippi\",\"Montana\",\"North Carolina\",\"North Dakota\",\"Nebraska\",\"New Hampshire\",\"New Jersey\",\"New Mexico\",\"Nevada\",\"New York\",\"Ohio\",\"Oklahoma\",\"Oregon\",\"Pennsylvania\",\"South Carolina\",\"South Dakota\",\"Tennessee\",\"Texas\",\"Utah\",\"Virginia\",\"Vermont\",\"Washington\",\"Wisconsin\",\"West Virginia\"],\"marker\":{\"opacity\":0.75},\"name\":\"\",\"subplot\":\"mapbox\",\"z\":[1005843.69999,52548.2,24032.3,73799.0,804123.4,20313.9,1672.46,507.0,413350.0,73112.0,15129.5,435.6,416185.82,497.2,764.1999999999999,6531.6,125633.8,37623.0,1.5,1625.7,1061.27,10031.1,32858.86,35498.9,66126.9,117459.34,25060.6,70997.6,118550.5,16.2,16030.3,82559.04,1773486.6,6073.45,705.1,16421.5,72161.93,493.8,35934.4,80370.2253,42251.4,60028.2,148497.92,19266.2,10.5,26175.17,5353.08,103301.45],\"type\":\"choroplethmapbox\"}],\"name\":\"1999\"},{\"data\":[{\"coloraxis\":\"coloraxis\",\"customdata\":[[756379.2000000001],[88267.4],[29052.5],[92910.3],[252676.0],[115784.3],[492.3],[65.0],[242653.1],[63571.14],[5669.6],[1734.7],[1350786.48],[597.2],[707.9],[9219.8],[136220.6],[91109.5],[5.8],[209.7],[445.98],[6010.9],[69170.17],[17234.3],[53459.2],[822860.3099999999],[38849.0],[18171.7],[116094.001],[132.26],[2016.5],[516743.459],[651614.2],[1497.78],[370.4],[112723.9],[365429.38],[356.7],[25197.3],[355266.064],[75996.2],[181686.8],[227487.25],[32191.8],[285252.6],[7014.37],[50401.3]],\"featureidkey\":\"properties.name\",\"geojson\":\"us-states.json\",\"hovertemplate\":\"<b>%{hovertext}</b><br><br>Ann\\u00e9e=2000<br>Etat=%{location}<br>Etendue br\\u00fbl\\u00e9e=%{z}<extra></extra>\",\"hovertext\":[\"Alaska\",\"Alabama\",\"Arkansas\",\"Arizona\",\"California\",\"Colorado\",\"Connecticut\",\"Delaware\",\"Florida\",\"Georgia\",\"Hawaii\",\"Iowa\",\"Idaho\",\"Illinois\",\"Indiana\",\"Kansas\",\"Kentucky\",\"Louisiana\",\"Massachusetts\",\"Maryland\",\"Maine\",\"Michigan\",\"Minnesota\",\"Missouri\",\"Mississippi\",\"Montana\",\"North Carolina\",\"North Dakota\",\"Nebraska\",\"New Hampshire\",\"New Jersey\",\"New Mexico\",\"Nevada\",\"New York\",\"Ohio\",\"Oklahoma\",\"Oregon\",\"Pennsylvania\",\"South Carolina\",\"South Dakota\",\"Tennessee\",\"Texas\",\"Utah\",\"Virginia\",\"Washington\",\"Wisconsin\",\"West Virginia\"],\"locations\":[\"Alaska\",\"Alabama\",\"Arkansas\",\"Arizona\",\"California\",\"Colorado\",\"Connecticut\",\"Delaware\",\"Florida\",\"Georgia\",\"Hawaii\",\"Iowa\",\"Idaho\",\"Illinois\",\"Indiana\",\"Kansas\",\"Kentucky\",\"Louisiana\",\"Massachusetts\",\"Maryland\",\"Maine\",\"Michigan\",\"Minnesota\",\"Missouri\",\"Mississippi\",\"Montana\",\"North Carolina\",\"North Dakota\",\"Nebraska\",\"New Hampshire\",\"New Jersey\",\"New Mexico\",\"Nevada\",\"New York\",\"Ohio\",\"Oklahoma\",\"Oregon\",\"Pennsylvania\",\"South Carolina\",\"South Dakota\",\"Tennessee\",\"Texas\",\"Utah\",\"Virginia\",\"Washington\",\"Wisconsin\",\"West Virginia\"],\"marker\":{\"opacity\":0.75},\"name\":\"\",\"subplot\":\"mapbox\",\"z\":[756379.2000000001,88267.4,29052.5,92910.3,252676.0,115784.3,492.3,65.0,242653.1,63571.14,5669.6,1734.7,1350786.48,597.2,707.9,9219.8,136220.6,91109.5,5.8,209.7,445.98,6010.9,69170.17,17234.3,53459.2,822860.3099999999,38849.0,18171.7,116094.001,132.26,2016.5,516743.459,651614.2,1497.78,370.4,112723.9,365429.38,356.7,25197.3,355266.064,75996.2,181686.8,227487.25,32191.8,285252.6,7014.37,50401.3],\"type\":\"choroplethmapbox\"}],\"name\":\"2000\"},{\"data\":[{\"coloraxis\":\"coloraxis\",\"customdata\":[[219924.7],[39095.1],[14451.8],[35816.74],[350176.7],[23005.7],[745.1],[10.5],[411721.5],[53335.01],[2352.15],[85.0],[192801.62],[531.1],[1167.6],[2662.3],[175179.4],[26577.1],[269.3],[5879.1],[2243.54],[1463.249],[23136.32],[17079.1],[32258.9],[162549.19],[44664.4],[6567.3],[2473.552],[152.81],[4410.2],[70558.31],[598503.5],[7118.24],[941.9],[30345.7],[384247.23],[742.7],[36528.0],[55260.743],[62141.1],[92226.2],[124088.15],[20906.1],[223780.1],[1364.55],[95542.6]],\"featureidkey\":\"properties.name\",\"geojson\":\"us-states.json\",\"hovertemplate\":\"<b>%{hovertext}</b><br><br>Ann\\u00e9e=2001<br>Etat=%{location}<br>Etendue br\\u00fbl\\u00e9e=%{z}<extra></extra>\",\"hovertext\":[\"Alaska\",\"Alabama\",\"Arkansas\",\"Arizona\",\"California\",\"Colorado\",\"Connecticut\",\"Delaware\",\"Florida\",\"Georgia\",\"Hawaii\",\"Iowa\",\"Idaho\",\"Illinois\",\"Indiana\",\"Kansas\",\"Kentucky\",\"Louisiana\",\"Massachusetts\",\"Maryland\",\"Maine\",\"Michigan\",\"Minnesota\",\"Missouri\",\"Mississippi\",\"Montana\",\"North Carolina\",\"North Dakota\",\"Nebraska\",\"New Hampshire\",\"New Jersey\",\"New Mexico\",\"Nevada\",\"New York\",\"Ohio\",\"Oklahoma\",\"Oregon\",\"Pennsylvania\",\"South Carolina\",\"South Dakota\",\"Tennessee\",\"Texas\",\"Utah\",\"Virginia\",\"Washington\",\"Wisconsin\",\"West Virginia\"],\"locations\":[\"Alaska\",\"Alabama\",\"Arkansas\",\"Arizona\",\"California\",\"Colorado\",\"Connecticut\",\"Delaware\",\"Florida\",\"Georgia\",\"Hawaii\",\"Iowa\",\"Idaho\",\"Illinois\",\"Indiana\",\"Kansas\",\"Kentucky\",\"Louisiana\",\"Massachusetts\",\"Maryland\",\"Maine\",\"Michigan\",\"Minnesota\",\"Missouri\",\"Mississippi\",\"Montana\",\"North Carolina\",\"North Dakota\",\"Nebraska\",\"New Hampshire\",\"New Jersey\",\"New Mexico\",\"Nevada\",\"New York\",\"Ohio\",\"Oklahoma\",\"Oregon\",\"Pennsylvania\",\"South Carolina\",\"South Dakota\",\"Tennessee\",\"Texas\",\"Utah\",\"Virginia\",\"Washington\",\"Wisconsin\",\"West Virginia\"],\"marker\":{\"opacity\":0.75},\"name\":\"\",\"subplot\":\"mapbox\",\"z\":[219924.7,39095.1,14451.8,35816.74,350176.7,23005.7,745.1,10.5,411721.5,53335.01,2352.15,85.0,192801.62,531.1,1167.6,2662.3,175179.4,26577.1,269.3,5879.1,2243.54,1463.249,23136.32,17079.1,32258.9,162549.19,44664.4,6567.3,2473.552,152.81,4410.2,70558.31,598503.5,7118.24,941.9,30345.7,384247.23,742.7,36528.0,55260.743,62141.1,92226.2,124088.15,20906.1,223780.1,1364.55,95542.6],\"type\":\"choroplethmapbox\"}],\"name\":\"2001\"},{\"data\":[{\"coloraxis\":\"coloraxis\",\"customdata\":[[2186646.1],[38696.0],[13649.0],[629739.44],[514942.7],[476441.75],[188.66],[1270.1],[61954.9],[166894.82],[7013.7],[267.0],[86211.15],[100.8],[766.2],[65544.0],[25857.4],[24685.3],[512.1],[1786.1],[784.0500000000001],[967.4],[64357.79],[20534.7],[34410.3],[126100.33],[29622.0],[52819.600000000006],[10095.06],[158.75],[5791.75],[321166.17],[53177.2],[4001.53],[348.0],[42856.6],[1011076.62],[3173.793759],[45485.6],[118526.794],[13353.7],[43793.6],[239124.41],[19874.9],[4.8],[91469.27],[2600.56],[10802.4]],\"featureidkey\":\"properties.name\",\"geojson\":\"us-states.json\",\"hovertemplate\":\"<b>%{hovertext}</b><br><br>Ann\\u00e9e=2002<br>Etat=%{location}<br>Etendue br\\u00fbl\\u00e9e=%{z}<extra></extra>\",\"hovertext\":[\"Alaska\",\"Alabama\",\"Arkansas\",\"Arizona\",\"California\",\"Colorado\",\"Connecticut\",\"Delaware\",\"Florida\",\"Georgia\",\"Hawaii\",\"Iowa\",\"Idaho\",\"Illinois\",\"Indiana\",\"Kansas\",\"Kentucky\",\"Louisiana\",\"Massachusetts\",\"Maryland\",\"Maine\",\"Michigan\",\"Minnesota\",\"Missouri\",\"Mississippi\",\"Montana\",\"North Carolina\",\"North Dakota\",\"Nebraska\",\"New Hampshire\",\"New Jersey\",\"New Mexico\",\"Nevada\",\"New York\",\"Ohio\",\"Oklahoma\",\"Oregon\",\"Pennsylvania\",\"South Carolina\",\"South Dakota\",\"Tennessee\",\"Texas\",\"Utah\",\"Virginia\",\"Vermont\",\"Washington\",\"Wisconsin\",\"West Virginia\"],\"locations\":[\"Alaska\",\"Alabama\",\"Arkansas\",\"Arizona\",\"California\",\"Colorado\",\"Connecticut\",\"Delaware\",\"Florida\",\"Georgia\",\"Hawaii\",\"Iowa\",\"Idaho\",\"Illinois\",\"Indiana\",\"Kansas\",\"Kentucky\",\"Louisiana\",\"Massachusetts\",\"Maryland\",\"Maine\",\"Michigan\",\"Minnesota\",\"Missouri\",\"Mississippi\",\"Montana\",\"North Carolina\",\"North Dakota\",\"Nebraska\",\"New Hampshire\",\"New Jersey\",\"New Mexico\",\"Nevada\",\"New York\",\"Ohio\",\"Oklahoma\",\"Oregon\",\"Pennsylvania\",\"South Carolina\",\"South Dakota\",\"Tennessee\",\"Texas\",\"Utah\",\"Virginia\",\"Vermont\",\"Washington\",\"Wisconsin\",\"West Virginia\"],\"marker\":{\"opacity\":0.75},\"name\":\"\",\"subplot\":\"mapbox\",\"z\":[2186646.1,38696.0,13649.0,629739.44,514942.7,476441.75,188.66,1270.1,61954.9,166894.82,7013.7,267.0,86211.15,100.8,766.2,65544.0,25857.4,24685.3,512.1,1786.1,784.0500000000001,967.4,64357.79,20534.7,34410.3,126100.33,29622.0,52819.600000000006,10095.06,158.75,5791.75,321166.17,53177.2,4001.53,348.0,42856.6,1011076.62,3173.793759,45485.6,118526.794,13353.7,43793.6,239124.41,19874.9,4.8,91469.27,2600.56,10802.4],\"type\":\"choroplethmapbox\"}],\"name\":\"2002\"},{\"data\":[{\"coloraxis\":\"coloraxis\",\"customdata\":[[601674.01],[20772.47],[25986.17],[200010.82],[1031965.05],[45611.91],[137.0],[265.3],[46815.52],[11517.38],[24297.6],[3333.0],[336103.21],[1596.95],[1424.0],[8034.2],[19848.8],[17359.8],[393.0],[1373.1],[858.4],[7065.059],[156764.72],[3276.02],[24744.25],[748396.31018],[8103.1],[22500.9],[3316.35],[89.55],[926.25],[213203.175],[17385.95],[3894.85],[1829.694],[100423.35],[169621.16999999998],[2082.12558],[6721.85],[81492.56],[1612.2],[54367.15],[122967.76],[5577.7],[8.2],[199540.61],[9084.542],[8380.35]],\"featureidkey\":\"properties.name\",\"geojson\":\"us-states.json\",\"hovertemplate\":\"<b>%{hovertext}</b><br><br>Ann\\u00e9e=2003<br>Etat=%{location}<br>Etendue br\\u00fbl\\u00e9e=%{z}<extra></extra>\",\"hovertext\":[\"Alaska\",\"Alabama\",\"Arkansas\",\"Arizona\",\"California\",\"Colorado\",\"Connecticut\",\"Delaware\",\"Florida\",\"Georgia\",\"Hawaii\",\"Iowa\",\"Idaho\",\"Illinois\",\"Indiana\",\"Kansas\",\"Kentucky\",\"Louisiana\",\"Massachusetts\",\"Maryland\",\"Maine\",\"Michigan\",\"Minnesota\",\"Missouri\",\"Mississippi\",\"Montana\",\"North Carolina\",\"North Dakota\",\"Nebraska\",\"New Hampshire\",\"New Jersey\",\"New Mexico\",\"Nevada\",\"New York\",\"Ohio\",\"Oklahoma\",\"Oregon\",\"Pennsylvania\",\"South Carolina\",\"South Dakota\",\"Tennessee\",\"Texas\",\"Utah\",\"Virginia\",\"Vermont\",\"Washington\",\"Wisconsin\",\"West Virginia\"],\"locations\":[\"Alaska\",\"Alabama\",\"Arkansas\",\"Arizona\",\"California\",\"Colorado\",\"Connecticut\",\"Delaware\",\"Florida\",\"Georgia\",\"Hawaii\",\"Iowa\",\"Idaho\",\"Illinois\",\"Indiana\",\"Kansas\",\"Kentucky\",\"Louisiana\",\"Massachusetts\",\"Maryland\",\"Maine\",\"Michigan\",\"Minnesota\",\"Missouri\",\"Mississippi\",\"Montana\",\"North Carolina\",\"North Dakota\",\"Nebraska\",\"New Hampshire\",\"New Jersey\",\"New Mexico\",\"Nevada\",\"New York\",\"Ohio\",\"Oklahoma\",\"Oregon\",\"Pennsylvania\",\"South Carolina\",\"South Dakota\",\"Tennessee\",\"Texas\",\"Utah\",\"Virginia\",\"Vermont\",\"Washington\",\"Wisconsin\",\"West Virginia\"],\"marker\":{\"opacity\":0.75},\"name\":\"\",\"subplot\":\"mapbox\",\"z\":[601674.01,20772.47,25986.17,200010.82,1031965.05,45611.91,137.0,265.3,46815.52,11517.38,24297.6,3333.0,336103.21,1596.95,1424.0,8034.2,19848.8,17359.8,393.0,1373.1,858.4,7065.059,156764.72,3276.02,24744.25,748396.31018,8103.1,22500.9,3316.35,89.55,926.25,213203.175,17385.95,3894.85,1829.694,100423.35,169621.16999999998,2082.12558,6721.85,81492.56,1612.2,54367.15,122967.76,5577.7,8.2,199540.61,9084.542,8380.35],\"type\":\"choroplethmapbox\"}],\"name\":\"2003\"},{\"data\":[{\"coloraxis\":\"coloraxis\",\"customdata\":[[6591868.60019],[46886.84],[23646.47],[229629.73],[301095.97000000003],[33795.28],[73.25],[140.7],[204330.82],[35208.72996],[3901.3],[1110.5],[19021.8],[875.61],[785.71],[1679.7],[22712.55],[15114.5],[197.8],[6338.5],[803.71],[2745.13],[45646.95],[8217.49],[41803.42],[22868.07],[16701.6],[18249.89],[3652.07],[232.38],[481.55],[91896.73],[41767.1],[2700.18],[227.82],[70082.7],[30383.74],[2766.42199],[23390.7],[14652.8],[2466.75],[34553.4],[85485.44],[3231.6],[15.7],[93797.8],[2354.912],[6097.3]],\"featureidkey\":\"properties.name\",\"geojson\":\"us-states.json\",\"hovertemplate\":\"<b>%{hovertext}</b><br><br>Ann\\u00e9e=2004<br>Etat=%{location}<br>Etendue br\\u00fbl\\u00e9e=%{z}<extra></extra>\",\"hovertext\":[\"Alaska\",\"Alabama\",\"Arkansas\",\"Arizona\",\"California\",\"Colorado\",\"Connecticut\",\"Delaware\",\"Florida\",\"Georgia\",\"Hawaii\",\"Iowa\",\"Idaho\",\"Illinois\",\"Indiana\",\"Kansas\",\"Kentucky\",\"Louisiana\",\"Massachusetts\",\"Maryland\",\"Maine\",\"Michigan\",\"Minnesota\",\"Missouri\",\"Mississippi\",\"Montana\",\"North Carolina\",\"North Dakota\",\"Nebraska\",\"New Hampshire\",\"New Jersey\",\"New Mexico\",\"Nevada\",\"New York\",\"Ohio\",\"Oklahoma\",\"Oregon\",\"Pennsylvania\",\"South Carolina\",\"South Dakota\",\"Tennessee\",\"Texas\",\"Utah\",\"Virginia\",\"Vermont\",\"Washington\",\"Wisconsin\",\"West Virginia\"],\"locations\":[\"Alaska\",\"Alabama\",\"Arkansas\",\"Arizona\",\"California\",\"Colorado\",\"Connecticut\",\"Delaware\",\"Florida\",\"Georgia\",\"Hawaii\",\"Iowa\",\"Idaho\",\"Illinois\",\"Indiana\",\"Kansas\",\"Kentucky\",\"Louisiana\",\"Massachusetts\",\"Maryland\",\"Maine\",\"Michigan\",\"Minnesota\",\"Missouri\",\"Mississippi\",\"Montana\",\"North Carolina\",\"North Dakota\",\"Nebraska\",\"New Hampshire\",\"New Jersey\",\"New Mexico\",\"Nevada\",\"New York\",\"Ohio\",\"Oklahoma\",\"Oregon\",\"Pennsylvania\",\"South Carolina\",\"South Dakota\",\"Tennessee\",\"Texas\",\"Utah\",\"Virginia\",\"Vermont\",\"Washington\",\"Wisconsin\",\"West Virginia\"],\"marker\":{\"opacity\":0.75},\"name\":\"\",\"subplot\":\"mapbox\",\"z\":[6591868.60019,46886.84,23646.47,229629.73,301095.97000000003,33795.28,73.25,140.7,204330.82,35208.72996,3901.3,1110.5,19021.8,875.61,785.71,1679.7,22712.55,15114.5,197.8,6338.5,803.71,2745.13,45646.95,8217.49,41803.42,22868.07,16701.6,18249.89,3652.07,232.38,481.55,91896.73,41767.1,2700.18,227.82,70082.7,30383.74,2766.42199,23390.7,14652.8,2466.75,34553.4,85485.44,3231.6,15.7,93797.8,2354.912,6097.3],\"type\":\"choroplethmapbox\"}],\"name\":\"2004\"},{\"data\":[{\"coloraxis\":\"coloraxis\",\"customdata\":[[4635898.652],[43207.97],[40433.29001],[902867.18999],[258714.87],[39413.54],[254.75],[167.4],[39694.47],[19453.99],[45629.600000000006],[6502.1],[648906.48],[980.55],[575.5],[22922.5],[56442.935],[66385.102],[830.7],[4033.9],[724.74],[4517.812],[22455.77],[18188.81],[55601.2],[114587.86],[16156.35001],[18726.1],[6481.12],[114.73],[1346.25],[179194.535],[1102037.05],[5030.94],[1072.343],[293010.45],[139643.78],[4170.06701],[36.0],[14747.145],[47559.43901],[24853.0],[288851.35],[252095.79],[5424.54999],[23.2],[138874.15],[6513.318],[15436.5]],\"featureidkey\":\"properties.name\",\"geojson\":\"us-states.json\",\"hovertemplate\":\"<b>%{hovertext}</b><br><br>Ann\\u00e9e=2005<br>Etat=%{location}<br>Etendue br\\u00fbl\\u00e9e=%{z}<extra></extra>\",\"hovertext\":[\"Alaska\",\"Alabama\",\"Arkansas\",\"Arizona\",\"California\",\"Colorado\",\"Connecticut\",\"Delaware\",\"Florida\",\"Georgia\",\"Hawaii\",\"Iowa\",\"Idaho\",\"Illinois\",\"Indiana\",\"Kansas\",\"Kentucky\",\"Louisiana\",\"Massachusetts\",\"Maryland\",\"Maine\",\"Michigan\",\"Minnesota\",\"Missouri\",\"Mississippi\",\"Montana\",\"North Carolina\",\"North Dakota\",\"Nebraska\",\"New Hampshire\",\"New Jersey\",\"New Mexico\",\"Nevada\",\"New York\",\"Ohio\",\"Oklahoma\",\"Oregon\",\"Pennsylvania\",\"Rhode Island\",\"South Carolina\",\"South Dakota\",\"Tennessee\",\"Texas\",\"Utah\",\"Virginia\",\"Vermont\",\"Washington\",\"Wisconsin\",\"West Virginia\"],\"locations\":[\"Alaska\",\"Alabama\",\"Arkansas\",\"Arizona\",\"California\",\"Colorado\",\"Connecticut\",\"Delaware\",\"Florida\",\"Georgia\",\"Hawaii\",\"Iowa\",\"Idaho\",\"Illinois\",\"Indiana\",\"Kansas\",\"Kentucky\",\"Louisiana\",\"Massachusetts\",\"Maryland\",\"Maine\",\"Michigan\",\"Minnesota\",\"Missouri\",\"Mississippi\",\"Montana\",\"North Carolina\",\"North Dakota\",\"Nebraska\",\"New Hampshire\",\"New Jersey\",\"New Mexico\",\"Nevada\",\"New York\",\"Ohio\",\"Oklahoma\",\"Oregon\",\"Pennsylvania\",\"Rhode Island\",\"South Carolina\",\"South Dakota\",\"Tennessee\",\"Texas\",\"Utah\",\"Virginia\",\"Vermont\",\"Washington\",\"Wisconsin\",\"West Virginia\"],\"marker\":{\"opacity\":0.75},\"name\":\"\",\"subplot\":\"mapbox\",\"z\":[4635898.652,43207.97,40433.29001,902867.18999,258714.87,39413.54,254.75,167.4,39694.47,19453.99,45629.600000000006,6502.1,648906.48,980.55,575.5,22922.5,56442.935,66385.102,830.7,4033.9,724.74,4517.812,22455.77,18188.81,55601.2,114587.86,16156.35001,18726.1,6481.12,114.73,1346.25,179194.535,1102037.05,5030.94,1072.343,293010.45,139643.78,4170.06701,36.0,14747.145,47559.43901,24853.0,288851.35,252095.79,5424.54999,23.2,138874.15,6513.318,15436.5],\"type\":\"choroplethmapbox\"}],\"name\":\"2005\"},{\"data\":[{\"coloraxis\":\"coloraxis\",\"customdata\":[[254513.8],[79549.12],[67939.81],[181533.98],[812711.94],[45893.76],[433.5],[253574.13998],[37917.18001],[13496.15],[5371.03],[910786.471],[273.2],[987.35],[79170.4],[53632.32],[41984.0],[23.2],[6832.5],[1841.35],[7831.17],[72405.91],[24299.16],[131124.75],[866652.06],[23369.94999],[23708.35],[89062.505],[291.239],[2507.25],[546954.102],[1328663.69],[6774.11],[1280.213],[416561.12],[500568.82],[7880.163579999999],[93.0],[17646.26],[197570.561],[32782.8],[1852752.99999],[346008.861],[23966.96],[5.95],[398481.11],[3074.516],[16152.4]],\"featureidkey\":\"properties.name\",\"geojson\":\"us-states.json\",\"hovertemplate\":\"<b>%{hovertext}</b><br><br>Ann\\u00e9e=2006<br>Etat=%{location}<br>Etendue br\\u00fbl\\u00e9e=%{z}<extra></extra>\",\"hovertext\":[\"Alaska\",\"Alabama\",\"Arkansas\",\"Arizona\",\"California\",\"Colorado\",\"Connecticut\",\"Florida\",\"Georgia\",\"Hawaii\",\"Iowa\",\"Idaho\",\"Illinois\",\"Indiana\",\"Kansas\",\"Kentucky\",\"Louisiana\",\"Massachusetts\",\"Maryland\",\"Maine\",\"Michigan\",\"Minnesota\",\"Missouri\",\"Mississippi\",\"Montana\",\"North Carolina\",\"North Dakota\",\"Nebraska\",\"New Hampshire\",\"New Jersey\",\"New Mexico\",\"Nevada\",\"New York\",\"Ohio\",\"Oklahoma\",\"Oregon\",\"Pennsylvania\",\"Rhode Island\",\"South Carolina\",\"South Dakota\",\"Tennessee\",\"Texas\",\"Utah\",\"Virginia\",\"Vermont\",\"Washington\",\"Wisconsin\",\"West Virginia\"],\"locations\":[\"Alaska\",\"Alabama\",\"Arkansas\",\"Arizona\",\"California\",\"Colorado\",\"Connecticut\",\"Florida\",\"Georgia\",\"Hawaii\",\"Iowa\",\"Idaho\",\"Illinois\",\"Indiana\",\"Kansas\",\"Kentucky\",\"Louisiana\",\"Massachusetts\",\"Maryland\",\"Maine\",\"Michigan\",\"Minnesota\",\"Missouri\",\"Mississippi\",\"Montana\",\"North Carolina\",\"North Dakota\",\"Nebraska\",\"New Hampshire\",\"New Jersey\",\"New Mexico\",\"Nevada\",\"New York\",\"Ohio\",\"Oklahoma\",\"Oregon\",\"Pennsylvania\",\"Rhode Island\",\"South Carolina\",\"South Dakota\",\"Tennessee\",\"Texas\",\"Utah\",\"Virginia\",\"Vermont\",\"Washington\",\"Wisconsin\",\"West Virginia\"],\"marker\":{\"opacity\":0.75},\"name\":\"\",\"subplot\":\"mapbox\",\"z\":[254513.8,79549.12,67939.81,181533.98,812711.94,45893.76,433.5,253574.13998,37917.18001,13496.15,5371.03,910786.471,273.2,987.35,79170.4,53632.32,41984.0,23.2,6832.5,1841.35,7831.17,72405.91,24299.16,131124.75,866652.06,23369.94999,23708.35,89062.505,291.239,2507.25,546954.102,1328663.69,6774.11,1280.213,416561.12,500568.82,7880.163579999999,93.0,17646.26,197570.561,32782.8,1852752.99999,346008.861,23966.96,5.95,398481.11,3074.516,16152.4],\"type\":\"choroplethmapbox\"}],\"name\":\"2006\"},{\"data\":[{\"coloraxis\":\"coloraxis\",\"customdata\":[[634466.10002],[56785.19],[25684.42],[115188.73],[1045291.62],[14026.05],[281.05],[0.2],[546923.28997],[327460.01013],[39675.15],[841.563],[2184656.24],[830.9],[2109.01],[16736.71],[65614.22],[772.0],[205.4],[7314.8],[496.73],[23095.204],[164404.56],[14246.45],[52528.63],[744542.86],[50416.8],[18860.9],[20698.8245],[145.49],[20614.6],[144285.17001],[946541.3],[4143.1],[827.72],[56966.66],[567205.89],[1131.1865],[37.0],[22275.6],[81107.197],[54314.83],[135033.55],[645219.25001],[15894.49],[10.75],[264591.02],[4452.04301],[7519.69]],\"featureidkey\":\"properties.name\",\"geojson\":\"us-states.json\",\"hovertemplate\":\"<b>%{hovertext}</b><br><br>Ann\\u00e9e=2007<br>Etat=%{location}<br>Etendue br\\u00fbl\\u00e9e=%{z}<extra></extra>\",\"hovertext\":[\"Alaska\",\"Alabama\",\"Arkansas\",\"Arizona\",\"California\",\"Colorado\",\"Connecticut\",\"Delaware\",\"Florida\",\"Georgia\",\"Hawaii\",\"Iowa\",\"Idaho\",\"Illinois\",\"Indiana\",\"Kansas\",\"Kentucky\",\"Louisiana\",\"Massachusetts\",\"Maryland\",\"Maine\",\"Michigan\",\"Minnesota\",\"Missouri\",\"Mississippi\",\"Montana\",\"North Carolina\",\"North Dakota\",\"Nebraska\",\"New Hampshire\",\"New Jersey\",\"New Mexico\",\"Nevada\",\"New York\",\"Ohio\",\"Oklahoma\",\"Oregon\",\"Pennsylvania\",\"Rhode Island\",\"South Carolina\",\"South Dakota\",\"Tennessee\",\"Texas\",\"Utah\",\"Virginia\",\"Vermont\",\"Washington\",\"Wisconsin\",\"West Virginia\"],\"locations\":[\"Alaska\",\"Alabama\",\"Arkansas\",\"Arizona\",\"California\",\"Colorado\",\"Connecticut\",\"Delaware\",\"Florida\",\"Georgia\",\"Hawaii\",\"Iowa\",\"Idaho\",\"Illinois\",\"Indiana\",\"Kansas\",\"Kentucky\",\"Louisiana\",\"Massachusetts\",\"Maryland\",\"Maine\",\"Michigan\",\"Minnesota\",\"Missouri\",\"Mississippi\",\"Montana\",\"North Carolina\",\"North Dakota\",\"Nebraska\",\"New Hampshire\",\"New Jersey\",\"New Mexico\",\"Nevada\",\"New York\",\"Ohio\",\"Oklahoma\",\"Oregon\",\"Pennsylvania\",\"Rhode Island\",\"South Carolina\",\"South Dakota\",\"Tennessee\",\"Texas\",\"Utah\",\"Virginia\",\"Vermont\",\"Washington\",\"Wisconsin\",\"West Virginia\"],\"marker\":{\"opacity\":0.75},\"name\":\"\",\"subplot\":\"mapbox\",\"z\":[634466.10002,56785.19,25684.42,115188.73,1045291.62,14026.05,281.05,0.2,546923.28997,327460.01013,39675.15,841.563,2184656.24,830.9,2109.01,16736.71,65614.22,772.0,205.4,7314.8,496.73,23095.204,164404.56,14246.45,52528.63,744542.86,50416.8,18860.9,20698.8245,145.49,20614.6,144285.17001,946541.3,4143.1,827.72,56966.66,567205.89,1131.1865,37.0,22275.6,81107.197,54314.83,135033.55,645219.25001,15894.49,10.75,264591.02,4452.04301,7519.69],\"type\":\"choroplethmapbox\"}],\"name\":\"2007\"},{\"data\":[{\"coloraxis\":\"coloraxis\",\"customdata\":[[92477.6],[23296.29],[11199.43],[113915.38],[1430153.6],[112023.63],[2055.8],[184492.35989],[25892.21998],[6128.639999999999],[1688.46],[175190.36],[939.89],[143.4],[74248.2],[38915.15],[24321.52732],[848.5],[2794.1],[549.63],[2612.92],[21197.02],[5933.76],[36347.34],[169869.3],[82255.65001],[29906.05],[7784.8202],[185.07],[3251.95],[365494.54],[79277.23],[8121.8],[484.235],[146092.23],[240911.43],[7610.5693],[91.0],[17397.77998],[41420.353],[22647.47001],[1483416.11999],[34116.74],[42793.05],[18.7],[117879.42],[901.632],[14352.45]],\"featureidkey\":\"properties.name\",\"geojson\":\"us-states.json\",\"hovertemplate\":\"<b>%{hovertext}</b><br><br>Ann\\u00e9e=2008<br>Etat=%{location}<br>Etendue br\\u00fbl\\u00e9e=%{z}<extra></extra>\",\"hovertext\":[\"Alaska\",\"Alabama\",\"Arkansas\",\"Arizona\",\"California\",\"Colorado\",\"Connecticut\",\"Florida\",\"Georgia\",\"Hawaii\",\"Iowa\",\"Idaho\",\"Illinois\",\"Indiana\",\"Kansas\",\"Kentucky\",\"Louisiana\",\"Massachusetts\",\"Maryland\",\"Maine\",\"Michigan\",\"Minnesota\",\"Missouri\",\"Mississippi\",\"Montana\",\"North Carolina\",\"North Dakota\",\"Nebraska\",\"New Hampshire\",\"New Jersey\",\"New Mexico\",\"Nevada\",\"New York\",\"Ohio\",\"Oklahoma\",\"Oregon\",\"Pennsylvania\",\"Rhode Island\",\"South Carolina\",\"South Dakota\",\"Tennessee\",\"Texas\",\"Utah\",\"Virginia\",\"Vermont\",\"Washington\",\"Wisconsin\",\"West Virginia\"],\"locations\":[\"Alaska\",\"Alabama\",\"Arkansas\",\"Arizona\",\"California\",\"Colorado\",\"Connecticut\",\"Florida\",\"Georgia\",\"Hawaii\",\"Iowa\",\"Idaho\",\"Illinois\",\"Indiana\",\"Kansas\",\"Kentucky\",\"Louisiana\",\"Massachusetts\",\"Maryland\",\"Maine\",\"Michigan\",\"Minnesota\",\"Missouri\",\"Mississippi\",\"Montana\",\"North Carolina\",\"North Dakota\",\"Nebraska\",\"New Hampshire\",\"New Jersey\",\"New Mexico\",\"Nevada\",\"New York\",\"Ohio\",\"Oklahoma\",\"Oregon\",\"Pennsylvania\",\"Rhode Island\",\"South Carolina\",\"South Dakota\",\"Tennessee\",\"Texas\",\"Utah\",\"Virginia\",\"Vermont\",\"Washington\",\"Wisconsin\",\"West Virginia\"],\"marker\":{\"opacity\":0.75},\"name\":\"\",\"subplot\":\"mapbox\",\"z\":[92477.6,23296.29,11199.43,113915.38,1430153.6,112023.63,2055.8,184492.35989,25892.21998,6128.639999999999,1688.46,175190.36,939.89,143.4,74248.2,38915.15,24321.52732,848.5,2794.1,549.63,2612.92,21197.02,5933.76,36347.34,169869.3,82255.65001,29906.05,7784.8202,185.07,3251.95,365494.54,79277.23,8121.8,484.235,146092.23,240911.43,7610.5693,91.0,17397.77998,41420.353,22647.47001,1483416.11999,34116.74,42793.05,18.7,117879.42,901.632,14352.45],\"type\":\"choroplethmapbox\"}],\"name\":\"2008\"},{\"data\":[{\"coloraxis\":\"coloraxis\",\"customdata\":[[2949593.97],[24927.74],[17775.74],[222065.28],[455350.04],[37723.96],[244.83],[144533.74001],[17790.82998],[11802.4],[7948.952],[23907.91],[3263.4],[109.1],[38965.2],[43494.91],[35312.325157],[1.0],[4606.9],[474.78],[3209.4300000000003],[11715.91],[17994.88],[27004.35],[53706.39],[19358.15],[3314.1600000000003],[11186.551],[121.785],[568.25],[423159.08],[28678.98],[5237.41],[4784.42],[403834.45],[89058.37],[6205.11182],[50.63],[30566.22],[38708.7853],[18139.07],[557794.48],[114485.482],[8032.24],[0.5],[87063.29000000001],[4144.724447],[16630.0]],\"featureidkey\":\"properties.name\",\"geojson\":\"us-states.json\",\"hovertemplate\":\"<b>%{hovertext}</b><br><br>Ann\\u00e9e=2009<br>Etat=%{location}<br>Etendue br\\u00fbl\\u00e9e=%{z}<extra></extra>\",\"hovertext\":[\"Alaska\",\"Alabama\",\"Arkansas\",\"Arizona\",\"California\",\"Colorado\",\"Connecticut\",\"Florida\",\"Georgia\",\"Hawaii\",\"Iowa\",\"Idaho\",\"Illinois\",\"Indiana\",\"Kansas\",\"Kentucky\",\"Louisiana\",\"Massachusetts\",\"Maryland\",\"Maine\",\"Michigan\",\"Minnesota\",\"Missouri\",\"Mississippi\",\"Montana\",\"North Carolina\",\"North Dakota\",\"Nebraska\",\"New Hampshire\",\"New Jersey\",\"New Mexico\",\"Nevada\",\"New York\",\"Ohio\",\"Oklahoma\",\"Oregon\",\"Pennsylvania\",\"Rhode Island\",\"South Carolina\",\"South Dakota\",\"Tennessee\",\"Texas\",\"Utah\",\"Virginia\",\"Vermont\",\"Washington\",\"Wisconsin\",\"West Virginia\"],\"locations\":[\"Alaska\",\"Alabama\",\"Arkansas\",\"Arizona\",\"California\",\"Colorado\",\"Connecticut\",\"Florida\",\"Georgia\",\"Hawaii\",\"Iowa\",\"Idaho\",\"Illinois\",\"Indiana\",\"Kansas\",\"Kentucky\",\"Louisiana\",\"Massachusetts\",\"Maryland\",\"Maine\",\"Michigan\",\"Minnesota\",\"Missouri\",\"Mississippi\",\"Montana\",\"North Carolina\",\"North Dakota\",\"Nebraska\",\"New Hampshire\",\"New Jersey\",\"New Mexico\",\"Nevada\",\"New York\",\"Ohio\",\"Oklahoma\",\"Oregon\",\"Pennsylvania\",\"Rhode Island\",\"South Carolina\",\"South Dakota\",\"Tennessee\",\"Texas\",\"Utah\",\"Virginia\",\"Vermont\",\"Washington\",\"Wisconsin\",\"West Virginia\"],\"marker\":{\"opacity\":0.75},\"name\":\"\",\"subplot\":\"mapbox\",\"z\":[2949593.97,24927.74,17775.74,222065.28,455350.04,37723.96,244.83,144533.74001,17790.82998,11802.4,7948.952,23907.91,3263.4,109.1,38965.2,43494.91,35312.325157,1.0,4606.9,474.78,3209.4300000000003,11715.91,17994.88,27004.35,53706.39,19358.15,3314.1600000000003,11186.551,121.785,568.25,423159.08,28678.98,5237.41,4784.42,403834.45,89058.37,6205.11182,50.63,30566.22,38708.7853,18139.07,557794.48,114485.482,8032.24,0.5,87063.29000000001,4144.724447,16630.0],\"type\":\"choroplethmapbox\"}],\"name\":\"2009\"},{\"data\":[{\"coloraxis\":\"coloraxis\",\"customdata\":[[1137532.67],[42078.47],[34754.71],[87723.81999999999],[120947.04],[51895.06],[456.03],[3.0],[62874.2],[23388.36],[15212.82],[2404.942],[643868.16],[2608.55],[1570.1],[25108.81],[60209.45],[43732.9999],[322.2],[3580.6000000000004],[296.79],[12051.41],[35680.34],[14471.5],[36547.72],[57476.1],[16987.3],[3754.8],[23333.69],[52.043],[6757.8],[131088.17],[19970.15],[4300.13],[1512.98],[112898.1],[87747.88],[3499.96599],[9468.37],[5634.24],[22093.45],[238202.03],[62650.78],[11554.63],[0.35],[93046.3],[2531.3456],[25454.16]],\"featureidkey\":\"properties.name\",\"geojson\":\"us-states.json\",\"hovertemplate\":\"<b>%{hovertext}</b><br><br>Ann\\u00e9e=2010<br>Etat=%{location}<br>Etendue br\\u00fbl\\u00e9e=%{z}<extra></extra>\",\"hovertext\":[\"Alaska\",\"Alabama\",\"Arkansas\",\"Arizona\",\"California\",\"Colorado\",\"Connecticut\",\"Delaware\",\"Florida\",\"Georgia\",\"Hawaii\",\"Iowa\",\"Idaho\",\"Illinois\",\"Indiana\",\"Kansas\",\"Kentucky\",\"Louisiana\",\"Massachusetts\",\"Maryland\",\"Maine\",\"Michigan\",\"Minnesota\",\"Missouri\",\"Mississippi\",\"Montana\",\"North Carolina\",\"North Dakota\",\"Nebraska\",\"New Hampshire\",\"New Jersey\",\"New Mexico\",\"Nevada\",\"New York\",\"Ohio\",\"Oklahoma\",\"Oregon\",\"Pennsylvania\",\"South Carolina\",\"South Dakota\",\"Tennessee\",\"Texas\",\"Utah\",\"Virginia\",\"Vermont\",\"Washington\",\"Wisconsin\",\"West Virginia\"],\"locations\":[\"Alaska\",\"Alabama\",\"Arkansas\",\"Arizona\",\"California\",\"Colorado\",\"Connecticut\",\"Delaware\",\"Florida\",\"Georgia\",\"Hawaii\",\"Iowa\",\"Idaho\",\"Illinois\",\"Indiana\",\"Kansas\",\"Kentucky\",\"Louisiana\",\"Massachusetts\",\"Maryland\",\"Maine\",\"Michigan\",\"Minnesota\",\"Missouri\",\"Mississippi\",\"Montana\",\"North Carolina\",\"North Dakota\",\"Nebraska\",\"New Hampshire\",\"New Jersey\",\"New Mexico\",\"Nevada\",\"New York\",\"Ohio\",\"Oklahoma\",\"Oregon\",\"Pennsylvania\",\"South Carolina\",\"South Dakota\",\"Tennessee\",\"Texas\",\"Utah\",\"Virginia\",\"Vermont\",\"Washington\",\"Wisconsin\",\"West Virginia\"],\"marker\":{\"opacity\":0.75},\"name\":\"\",\"subplot\":\"mapbox\",\"z\":[1137532.67,42078.47,34754.71,87723.81999999999,120947.04,51895.06,456.03,3.0,62874.2,23388.36,15212.82,2404.942,643868.16,2608.55,1570.1,25108.81,60209.45,43732.9999,322.2,3580.6000000000004,296.79,12051.41,35680.34,14471.5,36547.72,57476.1,16987.3,3754.8,23333.69,52.043,6757.8,131088.17,19970.15,4300.13,1512.98,112898.1,87747.88,3499.96599,9468.37,5634.24,22093.45,238202.03,62650.78,11554.63,0.35,93046.3,2531.3456,25454.16],\"type\":\"choroplethmapbox\"}],\"name\":\"2010\"},{\"data\":[{\"coloraxis\":\"coloraxis\",\"customdata\":[[293004.1],[54097.18],[47899.69],[1037769.11],[192286.92],[127220.57],[237.38],[331175.8],[437909.59],[4929.58],[7461.4325],[409349.05],[2223.53],[699.5],[91610.11],[23874.23],[37838.91],[10247.38],[167.69],[1832.48],[139066.68],[31844.55],[29025.64],[139286.18],[109498.78],[4049.38],[39060.632],[4.45],[149.25],[1143943.72],[422953.15],[1370.94],[287.74],[327168.1],[224034.59],[579.41],[28.04],[29686.05],[66036.496],[14787.0],[3498724.95],[62043.63],[25008.88],[38613.25],[635.757],[5811.46]],\"featureidkey\":\"properties.name\",\"geojson\":\"us-states.json\",\"hovertemplate\":\"<b>%{hovertext}</b><br><br>Ann\\u00e9e=2011<br>Etat=%{location}<br>Etendue br\\u00fbl\\u00e9e=%{z}<extra></extra>\",\"hovertext\":[\"Alaska\",\"Alabama\",\"Arkansas\",\"Arizona\",\"California\",\"Colorado\",\"Connecticut\",\"Florida\",\"Georgia\",\"Hawaii\",\"Iowa\",\"Idaho\",\"Illinois\",\"Indiana\",\"Kansas\",\"Kentucky\",\"Louisiana\",\"Maryland\",\"Maine\",\"Michigan\",\"Minnesota\",\"Missouri\",\"Mississippi\",\"Montana\",\"North Carolina\",\"North Dakota\",\"Nebraska\",\"New Hampshire\",\"New Jersey\",\"New Mexico\",\"Nevada\",\"New York\",\"Ohio\",\"Oklahoma\",\"Oregon\",\"Pennsylvania\",\"Rhode Island\",\"South Carolina\",\"South Dakota\",\"Tennessee\",\"Texas\",\"Utah\",\"Virginia\",\"Washington\",\"Wisconsin\",\"West Virginia\"],\"locations\":[\"Alaska\",\"Alabama\",\"Arkansas\",\"Arizona\",\"California\",\"Colorado\",\"Connecticut\",\"Florida\",\"Georgia\",\"Hawaii\",\"Iowa\",\"Idaho\",\"Illinois\",\"Indiana\",\"Kansas\",\"Kentucky\",\"Louisiana\",\"Maryland\",\"Maine\",\"Michigan\",\"Minnesota\",\"Missouri\",\"Mississippi\",\"Montana\",\"North Carolina\",\"North Dakota\",\"Nebraska\",\"New Hampshire\",\"New Jersey\",\"New Mexico\",\"Nevada\",\"New York\",\"Ohio\",\"Oklahoma\",\"Oregon\",\"Pennsylvania\",\"Rhode Island\",\"South Carolina\",\"South Dakota\",\"Tennessee\",\"Texas\",\"Utah\",\"Virginia\",\"Washington\",\"Wisconsin\",\"West Virginia\"],\"marker\":{\"opacity\":0.75},\"name\":\"\",\"subplot\":\"mapbox\",\"z\":[293004.1,54097.18,47899.69,1037769.11,192286.92,127220.57,237.38,331175.8,437909.59,4929.58,7461.4325,409349.05,2223.53,699.5,91610.11,23874.23,37838.91,10247.38,167.69,1832.48,139066.68,31844.55,29025.64,139286.18,109498.78,4049.38,39060.632,4.45,149.25,1143943.72,422953.15,1370.94,287.74,327168.1,224034.59,579.41,28.04,29686.05,66036.496,14787.0,3498724.95,62043.63,25008.88,38613.25,635.757,5811.46],\"type\":\"choroplethmapbox\"}],\"name\":\"2011\"},{\"data\":[{\"coloraxis\":\"coloraxis\",\"customdata\":[[300587.0],[29156.46],[38848.49],[228818.6],[764766.64],[271263.39],[517.3],[39.85],[138965.24],[25434.62],[4987.71],[3985.011],[1775106.39],[1356.15],[1042.2],[57330.13],[32630.53],[10519.22],[2.9],[1439.9],[469.85],[28326.69],[64901.04],[18722.5],[12723.3],[1007209.58],[35318.75],[41722.89],[336108.359],[101.06],[3122.05],[370998.82],[455326.17],[3529.34],[1097.02],[203966.35],[1531105.27],[3207.56],[39.91],[15437.33],[170466.449],[21728.19],[163114.9],[432902.285],[48077.78],[356.488],[280766.41],[2796.8],[16745.52]],\"featureidkey\":\"properties.name\",\"geojson\":\"us-states.json\",\"hovertemplate\":\"<b>%{hovertext}</b><br><br>Ann\\u00e9e=2012<br>Etat=%{location}<br>Etendue br\\u00fbl\\u00e9e=%{z}<extra></extra>\",\"hovertext\":[\"Alaska\",\"Alabama\",\"Arkansas\",\"Arizona\",\"California\",\"Colorado\",\"Connecticut\",\"Delaware\",\"Florida\",\"Georgia\",\"Hawaii\",\"Iowa\",\"Idaho\",\"Illinois\",\"Indiana\",\"Kansas\",\"Kentucky\",\"Louisiana\",\"Massachusetts\",\"Maryland\",\"Maine\",\"Michigan\",\"Minnesota\",\"Missouri\",\"Mississippi\",\"Montana\",\"North Carolina\",\"North Dakota\",\"Nebraska\",\"New Hampshire\",\"New Jersey\",\"New Mexico\",\"Nevada\",\"New York\",\"Ohio\",\"Oklahoma\",\"Oregon\",\"Pennsylvania\",\"Rhode Island\",\"South Carolina\",\"South Dakota\",\"Tennessee\",\"Texas\",\"Utah\",\"Virginia\",\"Vermont\",\"Washington\",\"Wisconsin\",\"West Virginia\"],\"locations\":[\"Alaska\",\"Alabama\",\"Arkansas\",\"Arizona\",\"California\",\"Colorado\",\"Connecticut\",\"Delaware\",\"Florida\",\"Georgia\",\"Hawaii\",\"Iowa\",\"Idaho\",\"Illinois\",\"Indiana\",\"Kansas\",\"Kentucky\",\"Louisiana\",\"Massachusetts\",\"Maryland\",\"Maine\",\"Michigan\",\"Minnesota\",\"Missouri\",\"Mississippi\",\"Montana\",\"North Carolina\",\"North Dakota\",\"Nebraska\",\"New Hampshire\",\"New Jersey\",\"New Mexico\",\"Nevada\",\"New York\",\"Ohio\",\"Oklahoma\",\"Oregon\",\"Pennsylvania\",\"Rhode Island\",\"South Carolina\",\"South Dakota\",\"Tennessee\",\"Texas\",\"Utah\",\"Virginia\",\"Vermont\",\"Washington\",\"Wisconsin\",\"West Virginia\"],\"marker\":{\"opacity\":0.75},\"name\":\"\",\"subplot\":\"mapbox\",\"z\":[300587.0,29156.46,38848.49,228818.6,764766.64,271263.39,517.3,39.85,138965.24,25434.62,4987.71,3985.011,1775106.39,1356.15,1042.2,57330.13,32630.53,10519.22,2.9,1439.9,469.85,28326.69,64901.04,18722.5,12723.3,1007209.58,35318.75,41722.89,336108.359,101.06,3122.05,370998.82,455326.17,3529.34,1097.02,203966.35,1531105.27,3207.56,39.91,15437.33,170466.449,21728.19,163114.9,432902.285,48077.78,356.488,280766.41,2796.8,16745.52],\"type\":\"choroplethmapbox\"}],\"name\":\"2012\"},{\"data\":[{\"coloraxis\":\"coloraxis\",\"customdata\":[[1320759.3],[29935.41],[13298.69],[103252.88],[581410.292],[162130.23],[20.35],[77107.23],[14667.35],[761.4],[2417.32],[740325.5],[148.02],[741.2],[6867.0],[22989.02],[22754.5302],[17.6],[429.85],[717.22],[977.22],[21936.47],[3885.18],[22015.9],[77404.18000000001],[14148.7],[6693.69],[10547.091],[85.52],[1412.3],[285066.05],[180004.85],[2376.5],[1716.51],[30111.05],[319439.93],[1784.77],[16.7],[9478.73],[15061.18371],[10057.21],[71739.92],[70397.45],[5871.55],[275.308],[153546.66],[9138.07],[9714.03]],\"featureidkey\":\"properties.name\",\"geojson\":\"us-states.json\",\"hovertemplate\":\"<b>%{hovertext}</b><br><br>Ann\\u00e9e=2013<br>Etat=%{location}<br>Etendue br\\u00fbl\\u00e9e=%{z}<extra></extra>\",\"hovertext\":[\"Alaska\",\"Alabama\",\"Arkansas\",\"Arizona\",\"California\",\"Colorado\",\"Delaware\",\"Florida\",\"Georgia\",\"Hawaii\",\"Iowa\",\"Idaho\",\"Illinois\",\"Indiana\",\"Kansas\",\"Kentucky\",\"Louisiana\",\"Massachusetts\",\"Maryland\",\"Maine\",\"Michigan\",\"Minnesota\",\"Missouri\",\"Mississippi\",\"Montana\",\"North Carolina\",\"North Dakota\",\"Nebraska\",\"New Hampshire\",\"New Jersey\",\"New Mexico\",\"Nevada\",\"New York\",\"Ohio\",\"Oklahoma\",\"Oregon\",\"Pennsylvania\",\"Rhode Island\",\"South Carolina\",\"South Dakota\",\"Tennessee\",\"Texas\",\"Utah\",\"Virginia\",\"Vermont\",\"Washington\",\"Wisconsin\",\"West Virginia\"],\"locations\":[\"Alaska\",\"Alabama\",\"Arkansas\",\"Arizona\",\"California\",\"Colorado\",\"Delaware\",\"Florida\",\"Georgia\",\"Hawaii\",\"Iowa\",\"Idaho\",\"Illinois\",\"Indiana\",\"Kansas\",\"Kentucky\",\"Louisiana\",\"Massachusetts\",\"Maryland\",\"Maine\",\"Michigan\",\"Minnesota\",\"Missouri\",\"Mississippi\",\"Montana\",\"North Carolina\",\"North Dakota\",\"Nebraska\",\"New Hampshire\",\"New Jersey\",\"New Mexico\",\"Nevada\",\"New York\",\"Ohio\",\"Oklahoma\",\"Oregon\",\"Pennsylvania\",\"Rhode Island\",\"South Carolina\",\"South Dakota\",\"Tennessee\",\"Texas\",\"Utah\",\"Virginia\",\"Vermont\",\"Washington\",\"Wisconsin\",\"West Virginia\"],\"marker\":{\"opacity\":0.75},\"name\":\"\",\"subplot\":\"mapbox\",\"z\":[1320759.3,29935.41,13298.69,103252.88,581410.292,162130.23,20.35,77107.23,14667.35,761.4,2417.32,740325.5,148.02,741.2,6867.0,22989.02,22754.5302,17.6,429.85,717.22,977.22,21936.47,3885.18,22015.9,77404.18000000001,14148.7,6693.69,10547.091,85.52,1412.3,285066.05,180004.85,2376.5,1716.51,30111.05,319439.93,1784.77,16.7,9478.73,15061.18371,10057.21,71739.92,70397.45,5871.55,275.308,153546.66,9138.07,9714.03],\"type\":\"choroplethmapbox\"}],\"name\":\"2013\"},{\"data\":[{\"coloraxis\":\"coloraxis\",\"customdata\":[[233601.28],[37961.505],[21041.61],[203176.164],[546878.78],[24694.31],[5.0],[156386.41],[22215.87],[0.2],[10522.875],[198892.57],[2422.065],[132.22],[36525.8],[42286.849996],[37582.7447],[373.2],[1781.1],[218.97],[672.07],[3984.64],[22455.8],[33235.6],[34919.92],[14991.4],[3915.45],[20213.0322],[78.466],[9804.3],[43976.16],[69902.34],[2972.882816],[3486.07],[187617.2],[934078.44],[4511.18],[23.3],[11225.9],[18745.94],[17872.77],[143843.03],[27185.371],[12566.54],[163.111],[449900.92],[2823.736],[13638.51]],\"featureidkey\":\"properties.name\",\"geojson\":\"us-states.json\",\"hovertemplate\":\"<b>%{hovertext}</b><br><br>Ann\\u00e9e=2014<br>Etat=%{location}<br>Etendue br\\u00fbl\\u00e9e=%{z}<extra></extra>\",\"hovertext\":[\"Alaska\",\"Alabama\",\"Arkansas\",\"Arizona\",\"California\",\"Colorado\",\"Delaware\",\"Florida\",\"Georgia\",\"Hawaii\",\"Iowa\",\"Idaho\",\"Illinois\",\"Indiana\",\"Kansas\",\"Kentucky\",\"Louisiana\",\"Massachusetts\",\"Maryland\",\"Maine\",\"Michigan\",\"Minnesota\",\"Missouri\",\"Mississippi\",\"Montana\",\"North Carolina\",\"North Dakota\",\"Nebraska\",\"New Hampshire\",\"New Jersey\",\"New Mexico\",\"Nevada\",\"New York\",\"Ohio\",\"Oklahoma\",\"Oregon\",\"Pennsylvania\",\"Rhode Island\",\"South Carolina\",\"South Dakota\",\"Tennessee\",\"Texas\",\"Utah\",\"Virginia\",\"Vermont\",\"Washington\",\"Wisconsin\",\"West Virginia\"],\"locations\":[\"Alaska\",\"Alabama\",\"Arkansas\",\"Arizona\",\"California\",\"Colorado\",\"Delaware\",\"Florida\",\"Georgia\",\"Hawaii\",\"Iowa\",\"Idaho\",\"Illinois\",\"Indiana\",\"Kansas\",\"Kentucky\",\"Louisiana\",\"Massachusetts\",\"Maryland\",\"Maine\",\"Michigan\",\"Minnesota\",\"Missouri\",\"Mississippi\",\"Montana\",\"North Carolina\",\"North Dakota\",\"Nebraska\",\"New Hampshire\",\"New Jersey\",\"New Mexico\",\"Nevada\",\"New York\",\"Ohio\",\"Oklahoma\",\"Oregon\",\"Pennsylvania\",\"Rhode Island\",\"South Carolina\",\"South Dakota\",\"Tennessee\",\"Texas\",\"Utah\",\"Virginia\",\"Vermont\",\"Washington\",\"Wisconsin\",\"West Virginia\"],\"marker\":{\"opacity\":0.75},\"name\":\"\",\"subplot\":\"mapbox\",\"z\":[233601.28,37961.505,21041.61,203176.164,546878.78,24694.31,5.0,156386.41,22215.87,0.2,10522.875,198892.57,2422.065,132.22,36525.8,42286.849996,37582.7447,373.2,1781.1,218.97,672.07,3984.64,22455.8,33235.6,34919.92,14991.4,3915.45,20213.0322,78.466,9804.3,43976.16,69902.34,2972.882816,3486.07,187617.2,934078.44,4511.18,23.3,11225.9,18745.94,17872.77,143843.03,27185.371,12566.54,163.111,449900.92,2823.736,13638.51],\"type\":\"choroplethmapbox\"}],\"name\":\"2014\"},{\"data\":[{\"coloraxis\":\"coloraxis\",\"customdata\":[[5136703.76],[30833.71],[18732.41],[155814.27],[848728.61],[22802.35],[417.5],[79.25],[166996.54],[11389.9],[4836.6],[13914.2781],[791026.11],[1591.5],[673.8],[124210.541],[19680.02],[20327.6537],[2094.23],[1044.0],[590.78],[3815.49],[28952.47],[12023.741],[35373.6],[350033.86],[11044.73],[25794.07],[44194.8],[591.67],[2540.8],[52126.95],[23445.88],[7311.23],[2084.09],[149316.25],[579124.05],[4136.24],[121.83],[6625.41],[53566.46],[8524.960000000001],[208761.73],[9825.6],[6328.1],[346.42900000000003],[1161646.38],[2721.44],[17251.37]],\"featureidkey\":\"properties.name\",\"geojson\":\"us-states.json\",\"hovertemplate\":\"<b>%{hovertext}</b><br><br>Ann\\u00e9e=2015<br>Etat=%{location}<br>Etendue br\\u00fbl\\u00e9e=%{z}<extra></extra>\",\"hovertext\":[\"Alaska\",\"Alabama\",\"Arkansas\",\"Arizona\",\"California\",\"Colorado\",\"Connecticut\",\"Delaware\",\"Florida\",\"Georgia\",\"Hawaii\",\"Iowa\",\"Idaho\",\"Illinois\",\"Indiana\",\"Kansas\",\"Kentucky\",\"Louisiana\",\"Massachusetts\",\"Maryland\",\"Maine\",\"Michigan\",\"Minnesota\",\"Missouri\",\"Mississippi\",\"Montana\",\"North Carolina\",\"North Dakota\",\"Nebraska\",\"New Hampshire\",\"New Jersey\",\"New Mexico\",\"Nevada\",\"New York\",\"Ohio\",\"Oklahoma\",\"Oregon\",\"Pennsylvania\",\"Rhode Island\",\"South Carolina\",\"South Dakota\",\"Tennessee\",\"Texas\",\"Utah\",\"Virginia\",\"Vermont\",\"Washington\",\"Wisconsin\",\"West Virginia\"],\"locations\":[\"Alaska\",\"Alabama\",\"Arkansas\",\"Arizona\",\"California\",\"Colorado\",\"Connecticut\",\"Delaware\",\"Florida\",\"Georgia\",\"Hawaii\",\"Iowa\",\"Idaho\",\"Illinois\",\"Indiana\",\"Kansas\",\"Kentucky\",\"Louisiana\",\"Massachusetts\",\"Maryland\",\"Maine\",\"Michigan\",\"Minnesota\",\"Missouri\",\"Mississippi\",\"Montana\",\"North Carolina\",\"North Dakota\",\"Nebraska\",\"New Hampshire\",\"New Jersey\",\"New Mexico\",\"Nevada\",\"New York\",\"Ohio\",\"Oklahoma\",\"Oregon\",\"Pennsylvania\",\"Rhode Island\",\"South Carolina\",\"South Dakota\",\"Tennessee\",\"Texas\",\"Utah\",\"Virginia\",\"Vermont\",\"Washington\",\"Wisconsin\",\"West Virginia\"],\"marker\":{\"opacity\":0.75},\"name\":\"\",\"subplot\":\"mapbox\",\"z\":[5136703.76,30833.71,18732.41,155814.27,848728.61,22802.35,417.5,79.25,166996.54,11389.9,4836.6,13914.2781,791026.11,1591.5,673.8,124210.541,19680.02,20327.6537,2094.23,1044.0,590.78,3815.49,28952.47,12023.741,35373.6,350033.86,11044.73,25794.07,44194.8,591.67,2540.8,52126.95,23445.88,7311.23,2084.09,149316.25,579124.05,4136.24,121.83,6625.41,53566.46,8524.960000000001,208761.73,9825.6,6328.1,346.42900000000003,1161646.38,2721.44,17251.37],\"type\":\"choroplethmapbox\"}],\"name\":\"2015\"}]);\n",
       "                        }).then(function(){\n",
       "                            \n",
       "var gd = document.getElementById('7215b169-4fea-47f1-ab21-a8ce1a5c42d5');\n",
       "var x = new MutationObserver(function (mutations, observer) {{\n",
       "        var display = window.getComputedStyle(gd).display;\n",
       "        if (!display || display === 'none') {{\n",
       "            console.log([gd, 'removed!']);\n",
       "            Plotly.purge(gd);\n",
       "            observer.disconnect();\n",
       "        }}\n",
       "}});\n",
       "\n",
       "// Listen for the removal of the full notebook cells\n",
       "var notebookContainer = gd.closest('#notebook-container');\n",
       "if (notebookContainer) {{\n",
       "    x.observe(notebookContainer, {childList: true});\n",
       "}}\n",
       "\n",
       "// Listen for the clearing of the current output cell\n",
       "var outputEl = gd.closest('.output');\n",
       "if (outputEl) {{\n",
       "    x.observe(outputEl, {childList: true});\n",
       "}}\n",
       "\n",
       "                        })                };                });            </script>        </div>"
      ]
     },
     "metadata": {},
     "output_type": "display_data"
    }
   ],
   "source": [
    "fig2 = px.choropleth_mapbox(df_final,\n",
    "                           geojson='us-states.json',\n",
    "                           featureidkey='properties.name',\n",
    "                           locations='Etat',\n",
    "                           color='Etendue brûlée',\n",
    "                           hover_name='Etat',\n",
    "                           hover_data=['Etendue brûlée'],\n",
    "                           color_continuous_scale='Reds',\n",
    "                           animation_frame='Année',\n",
    "                           mapbox_style='carto-positron',\n",
    "                           \n",
    "                           \n",
    "                           center={'lat':50, 'lon':-110},\n",
    "                           title='Evolution de la surface brûlée de chaque Etat',\n",
    "                           zoom=2,\n",
    "                           opacity=0.75,\n",
    "                        \n",
    "                           width=1100,\n",
    "                           height=800\n",
    "                          )\n",
    "\n",
    "fig2.show()"
   ]
  },
  {
   "cell_type": "code",
   "execution_count": 11,
   "id": "153ca8a6",
   "metadata": {},
   "outputs": [
    {
     "data": {
      "application/vnd.plotly.v1+json": {
       "config": {
        "plotlyServerURL": "https://plot.ly"
       },
       "data": [
        {
         "coloraxis": "coloraxis",
         "customdata": [
          [
           481
          ],
          [
           93
          ],
          [
           128
          ],
          [
           3494
          ],
          [
           10833
          ],
          [
           1322
          ],
          [
           202
          ],
          [
           3
          ],
          [
           4222
          ],
          [
           6459
          ],
          [
           77
          ],
          [
           5
          ],
          [
           2195
          ],
          [
           18
          ],
          [
           95
          ],
          [
           16
          ],
          [
           49
          ],
          [
           87
          ],
          [
           7
          ],
          [
           12
          ],
          [
           611
          ],
          [
           614
          ],
          [
           1620
          ],
          [
           1680
          ],
          [
           4478
          ],
          [
           1642
          ],
          [
           5696
          ],
          [
           396
          ],
          [
           25
          ],
          [
           107
          ],
          [
           1325
          ],
          [
           977
          ],
          [
           556
          ],
          [
           364
          ],
          [
           21
          ],
          [
           1468
          ],
          [
           3957
          ],
          [
           17
          ],
          [
           5195
          ],
          [
           554
          ],
          [
           55
          ],
          [
           1168
          ],
          [
           1092
          ],
          [
           43
          ],
          [
           1
          ],
          [
           1774
          ],
          [
           1287
          ],
          [
           701
          ]
         ],
         "featureidkey": "properties.name",
         "geojson": "us-states.json",
         "hovertemplate": "<b>%{hovertext}</b><br><br>Année=1992<br>Etat=%{location}<br>Nombre de feux=%{z}<extra></extra>",
         "hovertext": [
          "Alaska",
          "Alabama",
          "Arkansas",
          "Arizona",
          "California",
          "Colorado",
          "Connecticut",
          "Delaware",
          "Florida",
          "Georgia",
          "Hawaii",
          "Iowa",
          "Idaho",
          "Illinois",
          "Indiana",
          "Kansas",
          "Kentucky",
          "Louisiana",
          "Massachusetts",
          "Maryland",
          "Maine",
          "Michigan",
          "Minnesota",
          "Missouri",
          "Mississippi",
          "Montana",
          "North Carolina",
          "North Dakota",
          "Nebraska",
          "New Hampshire",
          "New Jersey",
          "New Mexico",
          "Nevada",
          "New York",
          "Ohio",
          "Oklahoma",
          "Oregon",
          "Pennsylvania",
          "South Carolina",
          "South Dakota",
          "Tennessee",
          "Texas",
          "Utah",
          "Virginia",
          "Vermont",
          "Washington",
          "Wisconsin",
          "West Virginia"
         ],
         "locations": [
          "Alaska",
          "Alabama",
          "Arkansas",
          "Arizona",
          "California",
          "Colorado",
          "Connecticut",
          "Delaware",
          "Florida",
          "Georgia",
          "Hawaii",
          "Iowa",
          "Idaho",
          "Illinois",
          "Indiana",
          "Kansas",
          "Kentucky",
          "Louisiana",
          "Massachusetts",
          "Maryland",
          "Maine",
          "Michigan",
          "Minnesota",
          "Missouri",
          "Mississippi",
          "Montana",
          "North Carolina",
          "North Dakota",
          "Nebraska",
          "New Hampshire",
          "New Jersey",
          "New Mexico",
          "Nevada",
          "New York",
          "Ohio",
          "Oklahoma",
          "Oregon",
          "Pennsylvania",
          "South Carolina",
          "South Dakota",
          "Tennessee",
          "Texas",
          "Utah",
          "Virginia",
          "Vermont",
          "Washington",
          "Wisconsin",
          "West Virginia"
         ],
         "marker": {
          "opacity": 0.75
         },
         "name": "",
         "subplot": "mapbox",
         "type": "choroplethmapbox",
         "z": [
          481,
          93,
          128,
          3494,
          10833,
          1322,
          202,
          3,
          4222,
          6459,
          77,
          5,
          2195,
          18,
          95,
          16,
          49,
          87,
          7,
          12,
          611,
          614,
          1620,
          1680,
          4478,
          1642,
          5696,
          396,
          25,
          107,
          1325,
          977,
          556,
          364,
          21,
          1468,
          3957,
          17,
          5195,
          554,
          55,
          1168,
          1092,
          43,
          1,
          1774,
          1287,
          701
         ]
        }
       ],
       "frames": [
        {
         "data": [
          {
           "coloraxis": "coloraxis",
           "customdata": [
            [
             481
            ],
            [
             93
            ],
            [
             128
            ],
            [
             3494
            ],
            [
             10833
            ],
            [
             1322
            ],
            [
             202
            ],
            [
             3
            ],
            [
             4222
            ],
            [
             6459
            ],
            [
             77
            ],
            [
             5
            ],
            [
             2195
            ],
            [
             18
            ],
            [
             95
            ],
            [
             16
            ],
            [
             49
            ],
            [
             87
            ],
            [
             7
            ],
            [
             12
            ],
            [
             611
            ],
            [
             614
            ],
            [
             1620
            ],
            [
             1680
            ],
            [
             4478
            ],
            [
             1642
            ],
            [
             5696
            ],
            [
             396
            ],
            [
             25
            ],
            [
             107
            ],
            [
             1325
            ],
            [
             977
            ],
            [
             556
            ],
            [
             364
            ],
            [
             21
            ],
            [
             1468
            ],
            [
             3957
            ],
            [
             17
            ],
            [
             5195
            ],
            [
             554
            ],
            [
             55
            ],
            [
             1168
            ],
            [
             1092
            ],
            [
             43
            ],
            [
             1
            ],
            [
             1774
            ],
            [
             1287
            ],
            [
             701
            ]
           ],
           "featureidkey": "properties.name",
           "geojson": "us-states.json",
           "hovertemplate": "<b>%{hovertext}</b><br><br>Année=1992<br>Etat=%{location}<br>Nombre de feux=%{z}<extra></extra>",
           "hovertext": [
            "Alaska",
            "Alabama",
            "Arkansas",
            "Arizona",
            "California",
            "Colorado",
            "Connecticut",
            "Delaware",
            "Florida",
            "Georgia",
            "Hawaii",
            "Iowa",
            "Idaho",
            "Illinois",
            "Indiana",
            "Kansas",
            "Kentucky",
            "Louisiana",
            "Massachusetts",
            "Maryland",
            "Maine",
            "Michigan",
            "Minnesota",
            "Missouri",
            "Mississippi",
            "Montana",
            "North Carolina",
            "North Dakota",
            "Nebraska",
            "New Hampshire",
            "New Jersey",
            "New Mexico",
            "Nevada",
            "New York",
            "Ohio",
            "Oklahoma",
            "Oregon",
            "Pennsylvania",
            "South Carolina",
            "South Dakota",
            "Tennessee",
            "Texas",
            "Utah",
            "Virginia",
            "Vermont",
            "Washington",
            "Wisconsin",
            "West Virginia"
           ],
           "locations": [
            "Alaska",
            "Alabama",
            "Arkansas",
            "Arizona",
            "California",
            "Colorado",
            "Connecticut",
            "Delaware",
            "Florida",
            "Georgia",
            "Hawaii",
            "Iowa",
            "Idaho",
            "Illinois",
            "Indiana",
            "Kansas",
            "Kentucky",
            "Louisiana",
            "Massachusetts",
            "Maryland",
            "Maine",
            "Michigan",
            "Minnesota",
            "Missouri",
            "Mississippi",
            "Montana",
            "North Carolina",
            "North Dakota",
            "Nebraska",
            "New Hampshire",
            "New Jersey",
            "New Mexico",
            "Nevada",
            "New York",
            "Ohio",
            "Oklahoma",
            "Oregon",
            "Pennsylvania",
            "South Carolina",
            "South Dakota",
            "Tennessee",
            "Texas",
            "Utah",
            "Virginia",
            "Vermont",
            "Washington",
            "Wisconsin",
            "West Virginia"
           ],
           "marker": {
            "opacity": 0.75
           },
           "name": "",
           "subplot": "mapbox",
           "type": "choroplethmapbox",
           "z": [
            481,
            93,
            128,
            3494,
            10833,
            1322,
            202,
            3,
            4222,
            6459,
            77,
            5,
            2195,
            18,
            95,
            16,
            49,
            87,
            7,
            12,
            611,
            614,
            1620,
            1680,
            4478,
            1642,
            5696,
            396,
            25,
            107,
            1325,
            977,
            556,
            364,
            21,
            1468,
            3957,
            17,
            5195,
            554,
            55,
            1168,
            1092,
            43,
            1,
            1774,
            1287,
            701
           ]
          }
         ],
         "name": "1992"
        },
        {
         "data": [
          {
           "coloraxis": "coloraxis",
           "customdata": [
            [
             861
            ],
            [
             137
            ],
            [
             151
            ],
            [
             4639
            ],
            [
             8270
            ],
            [
             1244
            ],
            [
             103
            ],
            [
             1
            ],
            [
             4548
            ],
            [
             9111
            ],
            [
             14
            ],
            [
             6
            ],
            [
             698
            ],
            [
             5
            ],
            [
             56
            ],
            [
             14
            ],
            [
             81
            ],
            [
             127
            ],
            [
             4
            ],
            [
             11
            ],
            [
             672
            ],
            [
             262
            ],
            [
             1363
            ],
            [
             907
            ],
            [
             4015
            ],
            [
             743
            ],
            [
             4808
            ],
            [
             386
            ],
            [
             17
            ],
            [
             142
            ],
            [
             842
            ],
            [
             1809
            ],
            [
             443
            ],
            [
             304
            ],
            [
             18
            ],
            [
             2300
            ],
            [
             1852
            ],
            [
             19
            ],
            [
             5287
            ],
            [
             438
            ],
            [
             65
            ],
            [
             1457
            ],
            [
             710
            ],
            [
             54
            ],
            [
             1
            ],
            [
             986
            ],
            [
             884
            ],
            [
             847
            ]
           ],
           "featureidkey": "properties.name",
           "geojson": "us-states.json",
           "hovertemplate": "<b>%{hovertext}</b><br><br>Année=1993<br>Etat=%{location}<br>Nombre de feux=%{z}<extra></extra>",
           "hovertext": [
            "Alaska",
            "Alabama",
            "Arkansas",
            "Arizona",
            "California",
            "Colorado",
            "Connecticut",
            "Delaware",
            "Florida",
            "Georgia",
            "Hawaii",
            "Iowa",
            "Idaho",
            "Illinois",
            "Indiana",
            "Kansas",
            "Kentucky",
            "Louisiana",
            "Massachusetts",
            "Maryland",
            "Maine",
            "Michigan",
            "Minnesota",
            "Missouri",
            "Mississippi",
            "Montana",
            "North Carolina",
            "North Dakota",
            "Nebraska",
            "New Hampshire",
            "New Jersey",
            "New Mexico",
            "Nevada",
            "New York",
            "Ohio",
            "Oklahoma",
            "Oregon",
            "Pennsylvania",
            "South Carolina",
            "South Dakota",
            "Tennessee",
            "Texas",
            "Utah",
            "Virginia",
            "Vermont",
            "Washington",
            "Wisconsin",
            "West Virginia"
           ],
           "locations": [
            "Alaska",
            "Alabama",
            "Arkansas",
            "Arizona",
            "California",
            "Colorado",
            "Connecticut",
            "Delaware",
            "Florida",
            "Georgia",
            "Hawaii",
            "Iowa",
            "Idaho",
            "Illinois",
            "Indiana",
            "Kansas",
            "Kentucky",
            "Louisiana",
            "Massachusetts",
            "Maryland",
            "Maine",
            "Michigan",
            "Minnesota",
            "Missouri",
            "Mississippi",
            "Montana",
            "North Carolina",
            "North Dakota",
            "Nebraska",
            "New Hampshire",
            "New Jersey",
            "New Mexico",
            "Nevada",
            "New York",
            "Ohio",
            "Oklahoma",
            "Oregon",
            "Pennsylvania",
            "South Carolina",
            "South Dakota",
            "Tennessee",
            "Texas",
            "Utah",
            "Virginia",
            "Vermont",
            "Washington",
            "Wisconsin",
            "West Virginia"
           ],
           "marker": {
            "opacity": 0.75
           },
           "name": "",
           "subplot": "mapbox",
           "type": "choroplethmapbox",
           "z": [
            861,
            137,
            151,
            4639,
            8270,
            1244,
            103,
            1,
            4548,
            9111,
            14,
            6,
            698,
            5,
            56,
            14,
            81,
            127,
            4,
            11,
            672,
            262,
            1363,
            907,
            4015,
            743,
            4808,
            386,
            17,
            142,
            842,
            1809,
            443,
            304,
            18,
            2300,
            1852,
            19,
            5287,
            438,
            65,
            1457,
            710,
            54,
            1,
            986,
            884,
            847
           ]
          }
         ],
         "name": "1993"
        },
        {
         "data": [
          {
           "coloraxis": "coloraxis",
           "customdata": [
            [
             640
            ],
            [
             3452
            ],
            [
             167
            ],
            [
             4519
            ],
            [
             8654
            ],
            [
             2515
            ],
            [
             290
            ],
            [
             2
            ],
            [
             3530
            ],
            [
             6584
            ],
            [
             9
            ],
            [
             5
            ],
            [
             3336
            ],
            [
             27
            ],
            [
             85
            ],
            [
             47
            ],
            [
             178
            ],
            [
             111
            ],
            [
             1
            ],
            [
             16
            ],
            [
             541
            ],
            [
             644
            ],
            [
             1904
            ],
            [
             1607
            ],
            [
             3356
            ],
            [
             2984
            ],
            [
             5739
            ],
            [
             501
            ],
            [
             80
            ],
            [
             133
            ],
            [
             1326
            ],
            [
             2668
            ],
            [
             710
            ],
            [
             129
            ],
            [
             28
            ],
            [
             1913
            ],
            [
             3473
            ],
            [
             20
            ],
            [
             1
            ],
            [
             4489
            ],
            [
             882
            ],
            [
             73
            ],
            [
             907
            ],
            [
             1663
            ],
            [
             78
            ],
            [
             6
            ],
            [
             2022
            ],
            [
             1973
            ],
            [
             1010
            ]
           ],
           "featureidkey": "properties.name",
           "geojson": "us-states.json",
           "hovertemplate": "<b>%{hovertext}</b><br><br>Année=1994<br>Etat=%{location}<br>Nombre de feux=%{z}<extra></extra>",
           "hovertext": [
            "Alaska",
            "Alabama",
            "Arkansas",
            "Arizona",
            "California",
            "Colorado",
            "Connecticut",
            "Delaware",
            "Florida",
            "Georgia",
            "Hawaii",
            "Iowa",
            "Idaho",
            "Illinois",
            "Indiana",
            "Kansas",
            "Kentucky",
            "Louisiana",
            "Massachusetts",
            "Maryland",
            "Maine",
            "Michigan",
            "Minnesota",
            "Missouri",
            "Mississippi",
            "Montana",
            "North Carolina",
            "North Dakota",
            "Nebraska",
            "New Hampshire",
            "New Jersey",
            "New Mexico",
            "Nevada",
            "New York",
            "Ohio",
            "Oklahoma",
            "Oregon",
            "Pennsylvania",
            "Rhode Island",
            "South Carolina",
            "South Dakota",
            "Tennessee",
            "Texas",
            "Utah",
            "Virginia",
            "Vermont",
            "Washington",
            "Wisconsin",
            "West Virginia"
           ],
           "locations": [
            "Alaska",
            "Alabama",
            "Arkansas",
            "Arizona",
            "California",
            "Colorado",
            "Connecticut",
            "Delaware",
            "Florida",
            "Georgia",
            "Hawaii",
            "Iowa",
            "Idaho",
            "Illinois",
            "Indiana",
            "Kansas",
            "Kentucky",
            "Louisiana",
            "Massachusetts",
            "Maryland",
            "Maine",
            "Michigan",
            "Minnesota",
            "Missouri",
            "Mississippi",
            "Montana",
            "North Carolina",
            "North Dakota",
            "Nebraska",
            "New Hampshire",
            "New Jersey",
            "New Mexico",
            "Nevada",
            "New York",
            "Ohio",
            "Oklahoma",
            "Oregon",
            "Pennsylvania",
            "Rhode Island",
            "South Carolina",
            "South Dakota",
            "Tennessee",
            "Texas",
            "Utah",
            "Virginia",
            "Vermont",
            "Washington",
            "Wisconsin",
            "West Virginia"
           ],
           "marker": {
            "opacity": 0.75
           },
           "name": "",
           "subplot": "mapbox",
           "type": "choroplethmapbox",
           "z": [
            640,
            3452,
            167,
            4519,
            8654,
            2515,
            290,
            2,
            3530,
            6584,
            9,
            5,
            3336,
            27,
            85,
            47,
            178,
            111,
            1,
            16,
            541,
            644,
            1904,
            1607,
            3356,
            2984,
            5739,
            501,
            80,
            133,
            1326,
            2668,
            710,
            129,
            28,
            1913,
            3473,
            20,
            1,
            4489,
            882,
            73,
            907,
            1663,
            78,
            6,
            2022,
            1973,
            1010
           ]
          }
         ],
         "name": "1994"
        },
        {
         "data": [
          {
           "coloraxis": "coloraxis",
           "customdata": [
            [
             418
            ],
            [
             4230
            ],
            [
             240
            ],
            [
             4502
            ],
            [
             7381
            ],
            [
             1517
            ],
            [
             110
            ],
            [
             5
            ],
            [
             3186
            ],
            [
             7968
            ],
            [
             10
            ],
            [
             6
            ],
            [
             1433
            ],
            [
             47
            ],
            [
             101
            ],
            [
             30
            ],
            [
             180
            ],
            [
             139
            ],
            [
             15
            ],
            [
             32
            ],
            [
             963
            ],
            [
             627
            ],
            [
             1731
            ],
            [
             2060
            ],
            [
             4992
            ],
            [
             1052
            ],
            [
             5253
            ],
            [
             272
            ],
            [
             56
            ],
            [
             195
            ],
            [
             1817
            ],
            [
             1665
            ],
            [
             545
            ],
            [
             487
            ],
            [
             47
            ],
            [
             2603
            ],
            [
             2264
            ],
            [
             22
            ],
            [
             3520
            ],
            [
             665
            ],
            [
             106
            ],
            [
             1648
            ],
            [
             1151
            ],
            [
             1550
            ],
            [
             2
            ],
            [
             1213
            ],
            [
             1640
            ],
            [
             1241
            ]
           ],
           "featureidkey": "properties.name",
           "geojson": "us-states.json",
           "hovertemplate": "<b>%{hovertext}</b><br><br>Année=1995<br>Etat=%{location}<br>Nombre de feux=%{z}<extra></extra>",
           "hovertext": [
            "Alaska",
            "Alabama",
            "Arkansas",
            "Arizona",
            "California",
            "Colorado",
            "Connecticut",
            "Delaware",
            "Florida",
            "Georgia",
            "Hawaii",
            "Iowa",
            "Idaho",
            "Illinois",
            "Indiana",
            "Kansas",
            "Kentucky",
            "Louisiana",
            "Massachusetts",
            "Maryland",
            "Maine",
            "Michigan",
            "Minnesota",
            "Missouri",
            "Mississippi",
            "Montana",
            "North Carolina",
            "North Dakota",
            "Nebraska",
            "New Hampshire",
            "New Jersey",
            "New Mexico",
            "Nevada",
            "New York",
            "Ohio",
            "Oklahoma",
            "Oregon",
            "Pennsylvania",
            "South Carolina",
            "South Dakota",
            "Tennessee",
            "Texas",
            "Utah",
            "Virginia",
            "Vermont",
            "Washington",
            "Wisconsin",
            "West Virginia"
           ],
           "locations": [
            "Alaska",
            "Alabama",
            "Arkansas",
            "Arizona",
            "California",
            "Colorado",
            "Connecticut",
            "Delaware",
            "Florida",
            "Georgia",
            "Hawaii",
            "Iowa",
            "Idaho",
            "Illinois",
            "Indiana",
            "Kansas",
            "Kentucky",
            "Louisiana",
            "Massachusetts",
            "Maryland",
            "Maine",
            "Michigan",
            "Minnesota",
            "Missouri",
            "Mississippi",
            "Montana",
            "North Carolina",
            "North Dakota",
            "Nebraska",
            "New Hampshire",
            "New Jersey",
            "New Mexico",
            "Nevada",
            "New York",
            "Ohio",
            "Oklahoma",
            "Oregon",
            "Pennsylvania",
            "South Carolina",
            "South Dakota",
            "Tennessee",
            "Texas",
            "Utah",
            "Virginia",
            "Vermont",
            "Washington",
            "Wisconsin",
            "West Virginia"
           ],
           "marker": {
            "opacity": 0.75
           },
           "name": "",
           "subplot": "mapbox",
           "type": "choroplethmapbox",
           "z": [
            418,
            4230,
            240,
            4502,
            7381,
            1517,
            110,
            5,
            3186,
            7968,
            10,
            6,
            1433,
            47,
            101,
            30,
            180,
            139,
            15,
            32,
            963,
            627,
            1731,
            2060,
            4992,
            1052,
            5253,
            272,
            56,
            195,
            1817,
            1665,
            545,
            487,
            47,
            2603,
            2264,
            22,
            3520,
            665,
            106,
            1648,
            1151,
            1550,
            2,
            1213,
            1640,
            1241
           ]
          }
         ],
         "name": "1995"
        },
        {
         "data": [
          {
           "coloraxis": "coloraxis",
           "customdata": [
            [
             718
            ],
            [
             4048
            ],
            [
             224
            ],
            [
             3761
            ],
            [
             9173
            ],
            [
             1405
            ],
            [
             27
            ],
            [
             4697
            ],
            [
             9872
            ],
            [
             8
            ],
            [
             28
            ],
            [
             1974
            ],
            [
             21
            ],
            [
             88
            ],
            [
             30
            ],
            [
             72
            ],
            [
             157
            ],
            [
             4
            ],
            [
             17
            ],
            [
             315
            ],
            [
             386
            ],
            [
             1752
            ],
            [
             443
            ],
            [
             4923
            ],
            [
             1993
            ],
            [
             4238
            ],
            [
             527
            ],
            [
             59
            ],
            [
             83
            ],
            [
             768
            ],
            [
             2101
            ],
            [
             1088
            ],
            [
             107
            ],
            [
             9
            ],
            [
             2689
            ],
            [
             2875
            ],
            [
             12
            ],
            [
             4414
            ],
            [
             839
            ],
            [
             56
            ],
            [
             2843
            ],
            [
             1666
            ],
            [
             824
            ],
            [
             1091
            ],
            [
             1463
            ],
            [
             651
            ]
           ],
           "featureidkey": "properties.name",
           "geojson": "us-states.json",
           "hovertemplate": "<b>%{hovertext}</b><br><br>Année=1996<br>Etat=%{location}<br>Nombre de feux=%{z}<extra></extra>",
           "hovertext": [
            "Alaska",
            "Alabama",
            "Arkansas",
            "Arizona",
            "California",
            "Colorado",
            "Connecticut",
            "Florida",
            "Georgia",
            "Hawaii",
            "Iowa",
            "Idaho",
            "Illinois",
            "Indiana",
            "Kansas",
            "Kentucky",
            "Louisiana",
            "Massachusetts",
            "Maryland",
            "Maine",
            "Michigan",
            "Minnesota",
            "Missouri",
            "Mississippi",
            "Montana",
            "North Carolina",
            "North Dakota",
            "Nebraska",
            "New Hampshire",
            "New Jersey",
            "New Mexico",
            "Nevada",
            "New York",
            "Ohio",
            "Oklahoma",
            "Oregon",
            "Pennsylvania",
            "South Carolina",
            "South Dakota",
            "Tennessee",
            "Texas",
            "Utah",
            "Virginia",
            "Washington",
            "Wisconsin",
            "West Virginia"
           ],
           "locations": [
            "Alaska",
            "Alabama",
            "Arkansas",
            "Arizona",
            "California",
            "Colorado",
            "Connecticut",
            "Florida",
            "Georgia",
            "Hawaii",
            "Iowa",
            "Idaho",
            "Illinois",
            "Indiana",
            "Kansas",
            "Kentucky",
            "Louisiana",
            "Massachusetts",
            "Maryland",
            "Maine",
            "Michigan",
            "Minnesota",
            "Missouri",
            "Mississippi",
            "Montana",
            "North Carolina",
            "North Dakota",
            "Nebraska",
            "New Hampshire",
            "New Jersey",
            "New Mexico",
            "Nevada",
            "New York",
            "Ohio",
            "Oklahoma",
            "Oregon",
            "Pennsylvania",
            "South Carolina",
            "South Dakota",
            "Tennessee",
            "Texas",
            "Utah",
            "Virginia",
            "Washington",
            "Wisconsin",
            "West Virginia"
           ],
           "marker": {
            "opacity": 0.75
           },
           "name": "",
           "subplot": "mapbox",
           "type": "choroplethmapbox",
           "z": [
            718,
            4048,
            224,
            3761,
            9173,
            1405,
            27,
            4697,
            9872,
            8,
            28,
            1974,
            21,
            88,
            30,
            72,
            157,
            4,
            17,
            315,
            386,
            1752,
            443,
            4923,
            1993,
            4238,
            527,
            59,
            83,
            768,
            2101,
            1088,
            107,
            9,
            2689,
            2875,
            12,
            4414,
            839,
            56,
            2843,
            1666,
            824,
            1091,
            1463,
            651
           ]
          }
         ],
         "name": "1996"
        },
        {
         "data": [
          {
           "coloraxis": "coloraxis",
           "customdata": [
            [
             721
            ],
            [
             2591
            ],
            [
             1040
            ],
            [
             2250
            ],
            [
             7930
            ],
            [
             722
            ],
            [
             83
            ],
            [
             5
            ],
            [
             3912
            ],
            [
             7234
            ],
            [
             12
            ],
            [
             10
            ],
            [
             1130
            ],
            [
             10
            ],
            [
             36
            ],
            [
             22
            ],
            [
             675
            ],
            [
             1361
            ],
            [
             11
            ],
            [
             19
            ],
            [
             585
            ],
            [
             118
            ],
            [
             2528
            ],
            [
             1314
            ],
            [
             2783
            ],
            [
             993
            ],
            [
             4512
            ],
            [
             453
            ],
            [
             57
            ],
            [
             85
            ],
            [
             1383
            ],
            [
             1380
            ],
            [
             595
            ],
            [
             365
            ],
            [
             22
            ],
            [
             914
            ],
            [
             2142
            ],
            [
             12
            ],
            [
             3070
            ],
            [
             607
            ],
            [
             1394
            ],
            [
             770
            ],
            [
             862
            ],
            [
             1133
            ],
            [
             2
            ],
            [
             999
            ],
            [
             1675
            ],
            [
             719
            ]
           ],
           "featureidkey": "properties.name",
           "geojson": "us-states.json",
           "hovertemplate": "<b>%{hovertext}</b><br><br>Année=1997<br>Etat=%{location}<br>Nombre de feux=%{z}<extra></extra>",
           "hovertext": [
            "Alaska",
            "Alabama",
            "Arkansas",
            "Arizona",
            "California",
            "Colorado",
            "Connecticut",
            "Delaware",
            "Florida",
            "Georgia",
            "Hawaii",
            "Iowa",
            "Idaho",
            "Illinois",
            "Indiana",
            "Kansas",
            "Kentucky",
            "Louisiana",
            "Massachusetts",
            "Maryland",
            "Maine",
            "Michigan",
            "Minnesota",
            "Missouri",
            "Mississippi",
            "Montana",
            "North Carolina",
            "North Dakota",
            "Nebraska",
            "New Hampshire",
            "New Jersey",
            "New Mexico",
            "Nevada",
            "New York",
            "Ohio",
            "Oklahoma",
            "Oregon",
            "Pennsylvania",
            "South Carolina",
            "South Dakota",
            "Tennessee",
            "Texas",
            "Utah",
            "Virginia",
            "Vermont",
            "Washington",
            "Wisconsin",
            "West Virginia"
           ],
           "locations": [
            "Alaska",
            "Alabama",
            "Arkansas",
            "Arizona",
            "California",
            "Colorado",
            "Connecticut",
            "Delaware",
            "Florida",
            "Georgia",
            "Hawaii",
            "Iowa",
            "Idaho",
            "Illinois",
            "Indiana",
            "Kansas",
            "Kentucky",
            "Louisiana",
            "Massachusetts",
            "Maryland",
            "Maine",
            "Michigan",
            "Minnesota",
            "Missouri",
            "Mississippi",
            "Montana",
            "North Carolina",
            "North Dakota",
            "Nebraska",
            "New Hampshire",
            "New Jersey",
            "New Mexico",
            "Nevada",
            "New York",
            "Ohio",
            "Oklahoma",
            "Oregon",
            "Pennsylvania",
            "South Carolina",
            "South Dakota",
            "Tennessee",
            "Texas",
            "Utah",
            "Virginia",
            "Vermont",
            "Washington",
            "Wisconsin",
            "West Virginia"
           ],
           "marker": {
            "opacity": 0.75
           },
           "name": "",
           "subplot": "mapbox",
           "type": "choroplethmapbox",
           "z": [
            721,
            2591,
            1040,
            2250,
            7930,
            722,
            83,
            5,
            3912,
            7234,
            12,
            10,
            1130,
            10,
            36,
            22,
            675,
            1361,
            11,
            19,
            585,
            118,
            2528,
            1314,
            2783,
            993,
            4512,
            453,
            57,
            85,
            1383,
            1380,
            595,
            365,
            22,
            914,
            2142,
            12,
            3070,
            607,
            1394,
            770,
            862,
            1133,
            2,
            999,
            1675,
            719
           ]
          }
         ],
         "name": "1997"
        },
        {
         "data": [
          {
           "coloraxis": "coloraxis",
           "customdata": [
            [
             408
            ],
            [
             3566
            ],
            [
             1156
            ],
            [
             2679
            ],
            [
             6864
            ],
            [
             765
            ],
            [
             30
            ],
            [
             4813
            ],
            [
             7301
            ],
            [
             26
            ],
            [
             3
            ],
            [
             1758
            ],
            [
             22
            ],
            [
             57
            ],
            [
             31
            ],
            [
             957
            ],
            [
             2283
            ],
            [
             1
            ],
            [
             17
            ],
            [
             580
            ],
            [
             170
            ],
            [
             2474
            ],
            [
             521
            ],
            [
             3424
            ],
            [
             1909
            ],
            [
             4324
            ],
            [
             492
            ],
            [
             43
            ],
            [
             171
            ],
            [
             1312
            ],
            [
             1294
            ],
            [
             638
            ],
            [
             310
            ],
            [
             27
            ],
            [
             816
            ],
            [
             2575
            ],
            [
             18
            ],
            [
             3508
            ],
            [
             816
            ],
            [
             1836
            ],
            [
             2026
            ],
            [
             873
            ],
            [
             1168
            ],
            [
             2
            ],
            [
             1477
            ],
            [
             1611
            ],
            [
             1006
            ]
           ],
           "featureidkey": "properties.name",
           "geojson": "us-states.json",
           "hovertemplate": "<b>%{hovertext}</b><br><br>Année=1998<br>Etat=%{location}<br>Nombre de feux=%{z}<extra></extra>",
           "hovertext": [
            "Alaska",
            "Alabama",
            "Arkansas",
            "Arizona",
            "California",
            "Colorado",
            "Connecticut",
            "Florida",
            "Georgia",
            "Hawaii",
            "Iowa",
            "Idaho",
            "Illinois",
            "Indiana",
            "Kansas",
            "Kentucky",
            "Louisiana",
            "Massachusetts",
            "Maryland",
            "Maine",
            "Michigan",
            "Minnesota",
            "Missouri",
            "Mississippi",
            "Montana",
            "North Carolina",
            "North Dakota",
            "Nebraska",
            "New Hampshire",
            "New Jersey",
            "New Mexico",
            "Nevada",
            "New York",
            "Ohio",
            "Oklahoma",
            "Oregon",
            "Pennsylvania",
            "South Carolina",
            "South Dakota",
            "Tennessee",
            "Texas",
            "Utah",
            "Virginia",
            "Vermont",
            "Washington",
            "Wisconsin",
            "West Virginia"
           ],
           "locations": [
            "Alaska",
            "Alabama",
            "Arkansas",
            "Arizona",
            "California",
            "Colorado",
            "Connecticut",
            "Florida",
            "Georgia",
            "Hawaii",
            "Iowa",
            "Idaho",
            "Illinois",
            "Indiana",
            "Kansas",
            "Kentucky",
            "Louisiana",
            "Massachusetts",
            "Maryland",
            "Maine",
            "Michigan",
            "Minnesota",
            "Missouri",
            "Mississippi",
            "Montana",
            "North Carolina",
            "North Dakota",
            "Nebraska",
            "New Hampshire",
            "New Jersey",
            "New Mexico",
            "Nevada",
            "New York",
            "Ohio",
            "Oklahoma",
            "Oregon",
            "Pennsylvania",
            "South Carolina",
            "South Dakota",
            "Tennessee",
            "Texas",
            "Utah",
            "Virginia",
            "Vermont",
            "Washington",
            "Wisconsin",
            "West Virginia"
           ],
           "marker": {
            "opacity": 0.75
           },
           "name": "",
           "subplot": "mapbox",
           "type": "choroplethmapbox",
           "z": [
            408,
            3566,
            1156,
            2679,
            6864,
            765,
            30,
            4813,
            7301,
            26,
            3,
            1758,
            22,
            57,
            31,
            957,
            2283,
            1,
            17,
            580,
            170,
            2474,
            521,
            3424,
            1909,
            4324,
            492,
            43,
            171,
            1312,
            1294,
            638,
            310,
            27,
            816,
            2575,
            18,
            3508,
            816,
            1836,
            2026,
            873,
            1168,
            2,
            1477,
            1611,
            1006
           ]
          }
         ],
         "name": "1998"
        },
        {
         "data": [
          {
           "coloraxis": "coloraxis",
           "customdata": [
            [
             482
            ],
            [
             4501
            ],
            [
             2224
            ],
            [
             2736
            ],
            [
             8910
            ],
            [
             756
            ],
            [
             297
            ],
            [
             2
            ],
            [
             5484
            ],
            [
             11138
            ],
            [
             9
            ],
            [
             20
            ],
            [
             1916
            ],
            [
             53
            ],
            [
             151
            ],
            [
             36
            ],
            [
             1879
            ],
            [
             2788
            ],
            [
             7
            ],
            [
             34
            ],
            [
             681
            ],
            [
             150
            ],
            [
             2113
            ],
            [
             1204
            ],
            [
             5436
            ],
            [
             2089
            ],
            [
             4041
            ],
            [
             506
            ],
            [
             75
            ],
            [
             5
            ],
            [
             1758
            ],
            [
             1231
            ],
            [
             1047
            ],
            [
             711
            ],
            [
             40
            ],
            [
             1665
            ],
            [
             2927
            ],
            [
             30
            ],
            [
             5384
            ],
            [
             1409
            ],
            [
             3454
            ],
            [
             1775
            ],
            [
             1282
            ],
            [
             1583
            ],
            [
             3
            ],
            [
             1475
            ],
            [
             1604
            ],
            [
             1949
            ]
           ],
           "featureidkey": "properties.name",
           "geojson": "us-states.json",
           "hovertemplate": "<b>%{hovertext}</b><br><br>Année=1999<br>Etat=%{location}<br>Nombre de feux=%{z}<extra></extra>",
           "hovertext": [
            "Alaska",
            "Alabama",
            "Arkansas",
            "Arizona",
            "California",
            "Colorado",
            "Connecticut",
            "Delaware",
            "Florida",
            "Georgia",
            "Hawaii",
            "Iowa",
            "Idaho",
            "Illinois",
            "Indiana",
            "Kansas",
            "Kentucky",
            "Louisiana",
            "Massachusetts",
            "Maryland",
            "Maine",
            "Michigan",
            "Minnesota",
            "Missouri",
            "Mississippi",
            "Montana",
            "North Carolina",
            "North Dakota",
            "Nebraska",
            "New Hampshire",
            "New Jersey",
            "New Mexico",
            "Nevada",
            "New York",
            "Ohio",
            "Oklahoma",
            "Oregon",
            "Pennsylvania",
            "South Carolina",
            "South Dakota",
            "Tennessee",
            "Texas",
            "Utah",
            "Virginia",
            "Vermont",
            "Washington",
            "Wisconsin",
            "West Virginia"
           ],
           "locations": [
            "Alaska",
            "Alabama",
            "Arkansas",
            "Arizona",
            "California",
            "Colorado",
            "Connecticut",
            "Delaware",
            "Florida",
            "Georgia",
            "Hawaii",
            "Iowa",
            "Idaho",
            "Illinois",
            "Indiana",
            "Kansas",
            "Kentucky",
            "Louisiana",
            "Massachusetts",
            "Maryland",
            "Maine",
            "Michigan",
            "Minnesota",
            "Missouri",
            "Mississippi",
            "Montana",
            "North Carolina",
            "North Dakota",
            "Nebraska",
            "New Hampshire",
            "New Jersey",
            "New Mexico",
            "Nevada",
            "New York",
            "Ohio",
            "Oklahoma",
            "Oregon",
            "Pennsylvania",
            "South Carolina",
            "South Dakota",
            "Tennessee",
            "Texas",
            "Utah",
            "Virginia",
            "Vermont",
            "Washington",
            "Wisconsin",
            "West Virginia"
           ],
           "marker": {
            "opacity": 0.75
           },
           "name": "",
           "subplot": "mapbox",
           "type": "choroplethmapbox",
           "z": [
            482,
            4501,
            2224,
            2736,
            8910,
            756,
            297,
            2,
            5484,
            11138,
            9,
            20,
            1916,
            53,
            151,
            36,
            1879,
            2788,
            7,
            34,
            681,
            150,
            2113,
            1204,
            5436,
            2089,
            4041,
            506,
            75,
            5,
            1758,
            1231,
            1047,
            711,
            40,
            1665,
            2927,
            30,
            5384,
            1409,
            3454,
            1775,
            1282,
            1583,
            3,
            1475,
            1604,
            1949
           ]
          }
         ],
         "name": "1999"
        },
        {
         "data": [
          {
           "coloraxis": "coloraxis",
           "customdata": [
            [
             364
            ],
            [
             6264
            ],
            [
             2363
            ],
            [
             3859
            ],
            [
             6977
            ],
            [
             1619
            ],
            [
             126
            ],
            [
             1
            ],
            [
             6499
            ],
            [
             10549
            ],
            [
             13
            ],
            [
             19
            ],
            [
             1749
            ],
            [
             29
            ],
            [
             92
            ],
            [
             48
            ],
            [
             1587
            ],
            [
             4234
            ],
            [
             3
            ],
            [
             14
            ],
            [
             346
            ],
            [
             115
            ],
            [
             2631
            ],
            [
             673
            ],
            [
             7984
            ],
            [
             2428
            ],
            [
             4987
            ],
            [
             627
            ],
            [
             114
            ],
            [
             87
            ],
            [
             972
            ],
            [
             2794
            ],
            [
             977
            ],
            [
             1756
            ],
            [
             28
            ],
            [
             1643
            ],
            [
             1938
            ],
            [
             14
            ],
            [
             4995
            ],
            [
             2271
            ],
            [
             2674
            ],
            [
             2627
            ],
            [
             1857
            ],
            [
             988
            ],
            [
             1226
            ],
            [
             1578
            ],
            [
             1106
            ]
           ],
           "featureidkey": "properties.name",
           "geojson": "us-states.json",
           "hovertemplate": "<b>%{hovertext}</b><br><br>Année=2000<br>Etat=%{location}<br>Nombre de feux=%{z}<extra></extra>",
           "hovertext": [
            "Alaska",
            "Alabama",
            "Arkansas",
            "Arizona",
            "California",
            "Colorado",
            "Connecticut",
            "Delaware",
            "Florida",
            "Georgia",
            "Hawaii",
            "Iowa",
            "Idaho",
            "Illinois",
            "Indiana",
            "Kansas",
            "Kentucky",
            "Louisiana",
            "Massachusetts",
            "Maryland",
            "Maine",
            "Michigan",
            "Minnesota",
            "Missouri",
            "Mississippi",
            "Montana",
            "North Carolina",
            "North Dakota",
            "Nebraska",
            "New Hampshire",
            "New Jersey",
            "New Mexico",
            "Nevada",
            "New York",
            "Ohio",
            "Oklahoma",
            "Oregon",
            "Pennsylvania",
            "South Carolina",
            "South Dakota",
            "Tennessee",
            "Texas",
            "Utah",
            "Virginia",
            "Washington",
            "Wisconsin",
            "West Virginia"
           ],
           "locations": [
            "Alaska",
            "Alabama",
            "Arkansas",
            "Arizona",
            "California",
            "Colorado",
            "Connecticut",
            "Delaware",
            "Florida",
            "Georgia",
            "Hawaii",
            "Iowa",
            "Idaho",
            "Illinois",
            "Indiana",
            "Kansas",
            "Kentucky",
            "Louisiana",
            "Massachusetts",
            "Maryland",
            "Maine",
            "Michigan",
            "Minnesota",
            "Missouri",
            "Mississippi",
            "Montana",
            "North Carolina",
            "North Dakota",
            "Nebraska",
            "New Hampshire",
            "New Jersey",
            "New Mexico",
            "Nevada",
            "New York",
            "Ohio",
            "Oklahoma",
            "Oregon",
            "Pennsylvania",
            "South Carolina",
            "South Dakota",
            "Tennessee",
            "Texas",
            "Utah",
            "Virginia",
            "Washington",
            "Wisconsin",
            "West Virginia"
           ],
           "marker": {
            "opacity": 0.75
           },
           "name": "",
           "subplot": "mapbox",
           "type": "choroplethmapbox",
           "z": [
            364,
            6264,
            2363,
            3859,
            6977,
            1619,
            126,
            1,
            6499,
            10549,
            13,
            19,
            1749,
            29,
            92,
            48,
            1587,
            4234,
            3,
            14,
            346,
            115,
            2631,
            673,
            7984,
            2428,
            4987,
            627,
            114,
            87,
            972,
            2794,
            977,
            1756,
            28,
            1643,
            1938,
            14,
            4995,
            2271,
            2674,
            2627,
            1857,
            988,
            1226,
            1578,
            1106
           ]
          }
         ],
         "name": "2000"
        },
        {
         "data": [
          {
           "coloraxis": "coloraxis",
           "customdata": [
            [
             361
            ],
            [
             3309
            ],
            [
             1266
            ],
            [
             3186
            ],
            [
             8182
            ],
            [
             1266
            ],
            [
             207
            ],
            [
             1
            ],
            [
             4887
            ],
            [
             9572
            ],
            [
             566
            ],
            [
             10
            ],
            [
             1683
            ],
            [
             45
            ],
            [
             140
            ],
            [
             69
            ],
            [
             2061
            ],
            [
             976
            ],
            [
             17
            ],
            [
             22
            ],
            [
             963
            ],
            [
             424
            ],
            [
             1327
            ],
            [
             884
            ],
            [
             2888
            ],
            [
             1603
            ],
            [
             8143
            ],
            [
             553
            ],
            [
             77
            ],
            [
             124
            ],
            [
             1571
            ],
            [
             1701
            ],
            [
             1118
            ],
            [
             3262
            ],
            [
             86
            ],
            [
             1290
            ],
            [
             3368
            ],
            [
             35
            ],
            [
             6225
            ],
            [
             1338
            ],
            [
             2521
            ],
            [
             771
            ],
            [
             1775
            ],
            [
             2101
            ],
            [
             1158
            ],
            [
             993
            ],
            [
             1789
            ]
           ],
           "featureidkey": "properties.name",
           "geojson": "us-states.json",
           "hovertemplate": "<b>%{hovertext}</b><br><br>Année=2001<br>Etat=%{location}<br>Nombre de feux=%{z}<extra></extra>",
           "hovertext": [
            "Alaska",
            "Alabama",
            "Arkansas",
            "Arizona",
            "California",
            "Colorado",
            "Connecticut",
            "Delaware",
            "Florida",
            "Georgia",
            "Hawaii",
            "Iowa",
            "Idaho",
            "Illinois",
            "Indiana",
            "Kansas",
            "Kentucky",
            "Louisiana",
            "Massachusetts",
            "Maryland",
            "Maine",
            "Michigan",
            "Minnesota",
            "Missouri",
            "Mississippi",
            "Montana",
            "North Carolina",
            "North Dakota",
            "Nebraska",
            "New Hampshire",
            "New Jersey",
            "New Mexico",
            "Nevada",
            "New York",
            "Ohio",
            "Oklahoma",
            "Oregon",
            "Pennsylvania",
            "South Carolina",
            "South Dakota",
            "Tennessee",
            "Texas",
            "Utah",
            "Virginia",
            "Washington",
            "Wisconsin",
            "West Virginia"
           ],
           "locations": [
            "Alaska",
            "Alabama",
            "Arkansas",
            "Arizona",
            "California",
            "Colorado",
            "Connecticut",
            "Delaware",
            "Florida",
            "Georgia",
            "Hawaii",
            "Iowa",
            "Idaho",
            "Illinois",
            "Indiana",
            "Kansas",
            "Kentucky",
            "Louisiana",
            "Massachusetts",
            "Maryland",
            "Maine",
            "Michigan",
            "Minnesota",
            "Missouri",
            "Mississippi",
            "Montana",
            "North Carolina",
            "North Dakota",
            "Nebraska",
            "New Hampshire",
            "New Jersey",
            "New Mexico",
            "Nevada",
            "New York",
            "Ohio",
            "Oklahoma",
            "Oregon",
            "Pennsylvania",
            "South Carolina",
            "South Dakota",
            "Tennessee",
            "Texas",
            "Utah",
            "Virginia",
            "Washington",
            "Wisconsin",
            "West Virginia"
           ],
           "marker": {
            "opacity": 0.75
           },
           "name": "",
           "subplot": "mapbox",
           "type": "choroplethmapbox",
           "z": [
            361,
            3309,
            1266,
            3186,
            8182,
            1266,
            207,
            1,
            4887,
            9572,
            566,
            10,
            1683,
            45,
            140,
            69,
            2061,
            976,
            17,
            22,
            963,
            424,
            1327,
            884,
            2888,
            1603,
            8143,
            553,
            77,
            124,
            1571,
            1701,
            1118,
            3262,
            86,
            1290,
            3368,
            35,
            6225,
            1338,
            2521,
            771,
            1775,
            2101,
            1158,
            993,
            1789
           ]
          }
         ],
         "name": "2001"
        },
        {
         "data": [
          {
           "coloraxis": "coloraxis",
           "customdata": [
            [
             538
            ],
            [
             2926
            ],
            [
             1001
            ],
            [
             2918
            ],
            [
             7133
            ],
            [
             1221
            ],
            [
             107
            ],
            [
             39
            ],
            [
             3131
            ],
            [
             7804
            ],
            [
             576
            ],
            [
             51
            ],
            [
             1511
            ],
            [
             43
            ],
            [
             123
            ],
            [
             128
            ],
            [
             1050
            ],
            [
             1481
            ],
            [
             115
            ],
            [
             14
            ],
            [
             664
            ],
            [
             308
            ],
            [
             2039
            ],
            [
             670
            ],
            [
             2832
            ],
            [
             1597
            ],
            [
             5590
            ],
            [
             907
            ],
            [
             183
            ],
            [
             116
            ],
            [
             1419
            ],
            [
             2077
            ],
            [
             649
            ],
            [
             3512
            ],
            [
             142
            ],
            [
             1535
            ],
            [
             2759
            ],
            [
             628
            ],
            [
             4683
            ],
            [
             1962
            ],
            [
             1485
            ],
            [
             1229
            ],
            [
             1143
            ],
            [
             1572
            ],
            [
             6
            ],
            [
             1418
            ],
            [
             949
            ],
            [
             1000
            ]
           ],
           "featureidkey": "properties.name",
           "geojson": "us-states.json",
           "hovertemplate": "<b>%{hovertext}</b><br><br>Année=2002<br>Etat=%{location}<br>Nombre de feux=%{z}<extra></extra>",
           "hovertext": [
            "Alaska",
            "Alabama",
            "Arkansas",
            "Arizona",
            "California",
            "Colorado",
            "Connecticut",
            "Delaware",
            "Florida",
            "Georgia",
            "Hawaii",
            "Iowa",
            "Idaho",
            "Illinois",
            "Indiana",
            "Kansas",
            "Kentucky",
            "Louisiana",
            "Massachusetts",
            "Maryland",
            "Maine",
            "Michigan",
            "Minnesota",
            "Missouri",
            "Mississippi",
            "Montana",
            "North Carolina",
            "North Dakota",
            "Nebraska",
            "New Hampshire",
            "New Jersey",
            "New Mexico",
            "Nevada",
            "New York",
            "Ohio",
            "Oklahoma",
            "Oregon",
            "Pennsylvania",
            "South Carolina",
            "South Dakota",
            "Tennessee",
            "Texas",
            "Utah",
            "Virginia",
            "Vermont",
            "Washington",
            "Wisconsin",
            "West Virginia"
           ],
           "locations": [
            "Alaska",
            "Alabama",
            "Arkansas",
            "Arizona",
            "California",
            "Colorado",
            "Connecticut",
            "Delaware",
            "Florida",
            "Georgia",
            "Hawaii",
            "Iowa",
            "Idaho",
            "Illinois",
            "Indiana",
            "Kansas",
            "Kentucky",
            "Louisiana",
            "Massachusetts",
            "Maryland",
            "Maine",
            "Michigan",
            "Minnesota",
            "Missouri",
            "Mississippi",
            "Montana",
            "North Carolina",
            "North Dakota",
            "Nebraska",
            "New Hampshire",
            "New Jersey",
            "New Mexico",
            "Nevada",
            "New York",
            "Ohio",
            "Oklahoma",
            "Oregon",
            "Pennsylvania",
            "South Carolina",
            "South Dakota",
            "Tennessee",
            "Texas",
            "Utah",
            "Virginia",
            "Vermont",
            "Washington",
            "Wisconsin",
            "West Virginia"
           ],
           "marker": {
            "opacity": 0.75
           },
           "name": "",
           "subplot": "mapbox",
           "type": "choroplethmapbox",
           "z": [
            538,
            2926,
            1001,
            2918,
            7133,
            1221,
            107,
            39,
            3131,
            7804,
            576,
            51,
            1511,
            43,
            123,
            128,
            1050,
            1481,
            115,
            14,
            664,
            308,
            2039,
            670,
            2832,
            1597,
            5590,
            907,
            183,
            116,
            1419,
            2077,
            649,
            3512,
            142,
            1535,
            2759,
            628,
            4683,
            1962,
            1485,
            1229,
            1143,
            1572,
            6,
            1418,
            949,
            1000
           ]
          }
         ],
         "name": "2002"
        },
        {
         "data": [
          {
           "coloraxis": "coloraxis",
           "customdata": [
            [
             478
            ],
            [
             1824
            ],
            [
             1664
            ],
            [
             2916
            ],
            [
             7913
            ],
            [
             2422
            ],
            [
             95
            ],
            [
             21
            ],
            [
             2150
            ],
            [
             4567
            ],
            [
             941
            ],
            [
             50
            ],
            [
             1657
            ],
            [
             48
            ],
            [
             155
            ],
            [
             113
            ],
            [
             956
            ],
            [
             94
            ],
            [
             75
            ],
            [
             5
            ],
            [
             624
            ],
            [
             750
            ],
            [
             3297
            ],
            [
             340
            ],
            [
             1913
            ],
            [
             2471
            ],
            [
             2041
            ],
            [
             835
            ],
            [
             161
            ],
            [
             56
            ],
            [
             674
            ],
            [
             1969
            ],
            [
             664
            ],
            [
             4934
            ],
            [
             63
            ],
            [
             1639
            ],
            [
             2615
            ],
            [
             407
            ],
            [
             1315
            ],
            [
             1730
            ],
            [
             31
            ],
            [
             1147
            ],
            [
             1422
            ],
            [
             344
            ],
            [
             9
            ],
            [
             1433
            ],
            [
             2253
            ],
            [
             641
            ]
           ],
           "featureidkey": "properties.name",
           "geojson": "us-states.json",
           "hovertemplate": "<b>%{hovertext}</b><br><br>Année=2003<br>Etat=%{location}<br>Nombre de feux=%{z}<extra></extra>",
           "hovertext": [
            "Alaska",
            "Alabama",
            "Arkansas",
            "Arizona",
            "California",
            "Colorado",
            "Connecticut",
            "Delaware",
            "Florida",
            "Georgia",
            "Hawaii",
            "Iowa",
            "Idaho",
            "Illinois",
            "Indiana",
            "Kansas",
            "Kentucky",
            "Louisiana",
            "Massachusetts",
            "Maryland",
            "Maine",
            "Michigan",
            "Minnesota",
            "Missouri",
            "Mississippi",
            "Montana",
            "North Carolina",
            "North Dakota",
            "Nebraska",
            "New Hampshire",
            "New Jersey",
            "New Mexico",
            "Nevada",
            "New York",
            "Ohio",
            "Oklahoma",
            "Oregon",
            "Pennsylvania",
            "South Carolina",
            "South Dakota",
            "Tennessee",
            "Texas",
            "Utah",
            "Virginia",
            "Vermont",
            "Washington",
            "Wisconsin",
            "West Virginia"
           ],
           "locations": [
            "Alaska",
            "Alabama",
            "Arkansas",
            "Arizona",
            "California",
            "Colorado",
            "Connecticut",
            "Delaware",
            "Florida",
            "Georgia",
            "Hawaii",
            "Iowa",
            "Idaho",
            "Illinois",
            "Indiana",
            "Kansas",
            "Kentucky",
            "Louisiana",
            "Massachusetts",
            "Maryland",
            "Maine",
            "Michigan",
            "Minnesota",
            "Missouri",
            "Mississippi",
            "Montana",
            "North Carolina",
            "North Dakota",
            "Nebraska",
            "New Hampshire",
            "New Jersey",
            "New Mexico",
            "Nevada",
            "New York",
            "Ohio",
            "Oklahoma",
            "Oregon",
            "Pennsylvania",
            "South Carolina",
            "South Dakota",
            "Tennessee",
            "Texas",
            "Utah",
            "Virginia",
            "Vermont",
            "Washington",
            "Wisconsin",
            "West Virginia"
           ],
           "marker": {
            "opacity": 0.75
           },
           "name": "",
           "subplot": "mapbox",
           "type": "choroplethmapbox",
           "z": [
            478,
            1824,
            1664,
            2916,
            7913,
            2422,
            95,
            21,
            2150,
            4567,
            941,
            50,
            1657,
            48,
            155,
            113,
            956,
            94,
            75,
            5,
            624,
            750,
            3297,
            340,
            1913,
            2471,
            2041,
            835,
            161,
            56,
            674,
            1969,
            664,
            4934,
            63,
            1639,
            2615,
            407,
            1315,
            1730,
            31,
            1147,
            1422,
            344,
            9,
            1433,
            2253,
            641
           ]
          }
         ],
         "name": "2003"
        },
        {
         "data": [
          {
           "coloraxis": "coloraxis",
           "customdata": [
            [
             694
            ],
            [
             3054
            ],
            [
             1364
            ],
            [
             2843
            ],
            [
             7418
            ],
            [
             1310
            ],
            [
             87
            ],
            [
             27
            ],
            [
             3618
            ],
            [
             8127
            ],
            [
             687
            ],
            [
             50
            ],
            [
             1138
            ],
            [
             88
            ],
            [
             193
            ],
            [
             76
            ],
            [
             1238
            ],
            [
             78
            ],
            [
             69
            ],
            [
             21
            ],
            [
             467
            ],
            [
             467
            ],
            [
             1989
            ],
            [
             307
            ],
            [
             2812
            ],
            [
             1503
            ],
            [
             4343
            ],
            [
             819
            ],
            [
             169
            ],
            [
             70
            ],
            [
             819
            ],
            [
             1229
            ],
            [
             776
            ],
            [
             4062
            ],
            [
             72
            ],
            [
             1688
            ],
            [
             2270
            ],
            [
             193
            ],
            [
             3058
            ],
            [
             1377
            ],
            [
             69
            ],
            [
             1040
            ],
            [
             1519
            ],
            [
             301
            ],
            [
             16
            ],
            [
             1591
            ],
            [
             1161
            ],
            [
             618
            ]
           ],
           "featureidkey": "properties.name",
           "geojson": "us-states.json",
           "hovertemplate": "<b>%{hovertext}</b><br><br>Année=2004<br>Etat=%{location}<br>Nombre de feux=%{z}<extra></extra>",
           "hovertext": [
            "Alaska",
            "Alabama",
            "Arkansas",
            "Arizona",
            "California",
            "Colorado",
            "Connecticut",
            "Delaware",
            "Florida",
            "Georgia",
            "Hawaii",
            "Iowa",
            "Idaho",
            "Illinois",
            "Indiana",
            "Kansas",
            "Kentucky",
            "Louisiana",
            "Massachusetts",
            "Maryland",
            "Maine",
            "Michigan",
            "Minnesota",
            "Missouri",
            "Mississippi",
            "Montana",
            "North Carolina",
            "North Dakota",
            "Nebraska",
            "New Hampshire",
            "New Jersey",
            "New Mexico",
            "Nevada",
            "New York",
            "Ohio",
            "Oklahoma",
            "Oregon",
            "Pennsylvania",
            "South Carolina",
            "South Dakota",
            "Tennessee",
            "Texas",
            "Utah",
            "Virginia",
            "Vermont",
            "Washington",
            "Wisconsin",
            "West Virginia"
           ],
           "locations": [
            "Alaska",
            "Alabama",
            "Arkansas",
            "Arizona",
            "California",
            "Colorado",
            "Connecticut",
            "Delaware",
            "Florida",
            "Georgia",
            "Hawaii",
            "Iowa",
            "Idaho",
            "Illinois",
            "Indiana",
            "Kansas",
            "Kentucky",
            "Louisiana",
            "Massachusetts",
            "Maryland",
            "Maine",
            "Michigan",
            "Minnesota",
            "Missouri",
            "Mississippi",
            "Montana",
            "North Carolina",
            "North Dakota",
            "Nebraska",
            "New Hampshire",
            "New Jersey",
            "New Mexico",
            "Nevada",
            "New York",
            "Ohio",
            "Oklahoma",
            "Oregon",
            "Pennsylvania",
            "South Carolina",
            "South Dakota",
            "Tennessee",
            "Texas",
            "Utah",
            "Virginia",
            "Vermont",
            "Washington",
            "Wisconsin",
            "West Virginia"
           ],
           "marker": {
            "opacity": 0.75
           },
           "name": "",
           "subplot": "mapbox",
           "type": "choroplethmapbox",
           "z": [
            694,
            3054,
            1364,
            2843,
            7418,
            1310,
            87,
            27,
            3618,
            8127,
            687,
            50,
            1138,
            88,
            193,
            76,
            1238,
            78,
            69,
            21,
            467,
            467,
            1989,
            307,
            2812,
            1503,
            4343,
            819,
            169,
            70,
            819,
            1229,
            776,
            4062,
            72,
            1688,
            2270,
            193,
            3058,
            1377,
            69,
            1040,
            1519,
            301,
            16,
            1591,
            1161,
            618
           ]
          }
         ],
         "name": "2004"
        },
        {
         "data": [
          {
           "coloraxis": "coloraxis",
           "customdata": [
            [
             619
            ],
            [
             2547
            ],
            [
             2296
            ],
            [
             3690
            ],
            [
             6678
            ],
            [
             1875
            ],
            [
             293
            ],
            [
             14
            ],
            [
             2395
            ],
            [
             6049
            ],
            [
             1242
            ],
            [
             34
            ],
            [
             1144
            ],
            [
             62
            ],
            [
             173
            ],
            [
             175
            ],
            [
             1766
            ],
            [
             3384
            ],
            [
             30
            ],
            [
             417
            ],
            [
             472
            ],
            [
             641
            ],
            [
             1728
            ],
            [
             413
            ],
            [
             3520
            ],
            [
             1497
            ],
            [
             4045
            ],
            [
             903
            ],
            [
             177
            ],
            [
             88
            ],
            [
             996
            ],
            [
             1582
            ],
            [
             749
            ],
            [
             7700
            ],
            [
             100
            ],
            [
             2768
            ],
            [
             1746
            ],
            [
             783
            ],
            [
             18
            ],
            [
             2704
            ],
            [
             1762
            ],
            [
             2041
            ],
            [
             6901
            ],
            [
             1362
            ],
            [
             786
            ],
            [
             26
            ],
            [
             1089
            ],
            [
             1565
            ],
            [
             762
            ]
           ],
           "featureidkey": "properties.name",
           "geojson": "us-states.json",
           "hovertemplate": "<b>%{hovertext}</b><br><br>Année=2005<br>Etat=%{location}<br>Nombre de feux=%{z}<extra></extra>",
           "hovertext": [
            "Alaska",
            "Alabama",
            "Arkansas",
            "Arizona",
            "California",
            "Colorado",
            "Connecticut",
            "Delaware",
            "Florida",
            "Georgia",
            "Hawaii",
            "Iowa",
            "Idaho",
            "Illinois",
            "Indiana",
            "Kansas",
            "Kentucky",
            "Louisiana",
            "Massachusetts",
            "Maryland",
            "Maine",
            "Michigan",
            "Minnesota",
            "Missouri",
            "Mississippi",
            "Montana",
            "North Carolina",
            "North Dakota",
            "Nebraska",
            "New Hampshire",
            "New Jersey",
            "New Mexico",
            "Nevada",
            "New York",
            "Ohio",
            "Oklahoma",
            "Oregon",
            "Pennsylvania",
            "Rhode Island",
            "South Carolina",
            "South Dakota",
            "Tennessee",
            "Texas",
            "Utah",
            "Virginia",
            "Vermont",
            "Washington",
            "Wisconsin",
            "West Virginia"
           ],
           "locations": [
            "Alaska",
            "Alabama",
            "Arkansas",
            "Arizona",
            "California",
            "Colorado",
            "Connecticut",
            "Delaware",
            "Florida",
            "Georgia",
            "Hawaii",
            "Iowa",
            "Idaho",
            "Illinois",
            "Indiana",
            "Kansas",
            "Kentucky",
            "Louisiana",
            "Massachusetts",
            "Maryland",
            "Maine",
            "Michigan",
            "Minnesota",
            "Missouri",
            "Mississippi",
            "Montana",
            "North Carolina",
            "North Dakota",
            "Nebraska",
            "New Hampshire",
            "New Jersey",
            "New Mexico",
            "Nevada",
            "New York",
            "Ohio",
            "Oklahoma",
            "Oregon",
            "Pennsylvania",
            "Rhode Island",
            "South Carolina",
            "South Dakota",
            "Tennessee",
            "Texas",
            "Utah",
            "Virginia",
            "Vermont",
            "Washington",
            "Wisconsin",
            "West Virginia"
           ],
           "marker": {
            "opacity": 0.75
           },
           "name": "",
           "subplot": "mapbox",
           "type": "choroplethmapbox",
           "z": [
            619,
            2547,
            2296,
            3690,
            6678,
            1875,
            293,
            14,
            2395,
            6049,
            1242,
            34,
            1144,
            62,
            173,
            175,
            1766,
            3384,
            30,
            417,
            472,
            641,
            1728,
            413,
            3520,
            1497,
            4045,
            903,
            177,
            88,
            996,
            1582,
            749,
            7700,
            100,
            2768,
            1746,
            783,
            18,
            2704,
            1762,
            2041,
            6901,
            1362,
            786,
            26,
            1089,
            1565,
            762
           ]
          }
         ],
         "name": "2005"
        },
        {
         "data": [
          {
           "coloraxis": "coloraxis",
           "customdata": [
            [
             301
            ],
            [
             3947
            ],
            [
             2571
            ],
            [
             3319
            ],
            [
             8271
            ],
            [
             1316
            ],
            [
             372
            ],
            [
             5115
            ],
            [
             8925
            ],
            [
             789
            ],
            [
             442
            ],
            [
             1888
            ],
            [
             34
            ],
            [
             86
            ],
            [
             348
            ],
            [
             1884
            ],
            [
             3131
            ],
            [
             31
            ],
            [
             718
            ],
            [
             623
            ],
            [
             534
            ],
            [
             2507
            ],
            [
             442
            ],
            [
             5533
            ],
            [
             2460
            ],
            [
             5059
            ],
            [
             1061
            ],
            [
             122
            ],
            [
             111
            ],
            [
             1352
            ],
            [
             1996
            ],
            [
             1049
            ],
            [
             6631
            ],
            [
             222
            ],
            [
             3265
            ],
            [
             3184
            ],
            [
             874
            ],
            [
             25
            ],
            [
             2855
            ],
            [
             2646
            ],
            [
             2183
            ],
            [
             15022
            ],
            [
             1926
            ],
            [
             1268
            ],
            [
             4
            ],
            [
             1577
            ],
            [
             1658
            ],
            [
             1026
            ]
           ],
           "featureidkey": "properties.name",
           "geojson": "us-states.json",
           "hovertemplate": "<b>%{hovertext}</b><br><br>Année=2006<br>Etat=%{location}<br>Nombre de feux=%{z}<extra></extra>",
           "hovertext": [
            "Alaska",
            "Alabama",
            "Arkansas",
            "Arizona",
            "California",
            "Colorado",
            "Connecticut",
            "Florida",
            "Georgia",
            "Hawaii",
            "Iowa",
            "Idaho",
            "Illinois",
            "Indiana",
            "Kansas",
            "Kentucky",
            "Louisiana",
            "Massachusetts",
            "Maryland",
            "Maine",
            "Michigan",
            "Minnesota",
            "Missouri",
            "Mississippi",
            "Montana",
            "North Carolina",
            "North Dakota",
            "Nebraska",
            "New Hampshire",
            "New Jersey",
            "New Mexico",
            "Nevada",
            "New York",
            "Ohio",
            "Oklahoma",
            "Oregon",
            "Pennsylvania",
            "Rhode Island",
            "South Carolina",
            "South Dakota",
            "Tennessee",
            "Texas",
            "Utah",
            "Virginia",
            "Vermont",
            "Washington",
            "Wisconsin",
            "West Virginia"
           ],
           "locations": [
            "Alaska",
            "Alabama",
            "Arkansas",
            "Arizona",
            "California",
            "Colorado",
            "Connecticut",
            "Florida",
            "Georgia",
            "Hawaii",
            "Iowa",
            "Idaho",
            "Illinois",
            "Indiana",
            "Kansas",
            "Kentucky",
            "Louisiana",
            "Massachusetts",
            "Maryland",
            "Maine",
            "Michigan",
            "Minnesota",
            "Missouri",
            "Mississippi",
            "Montana",
            "North Carolina",
            "North Dakota",
            "Nebraska",
            "New Hampshire",
            "New Jersey",
            "New Mexico",
            "Nevada",
            "New York",
            "Ohio",
            "Oklahoma",
            "Oregon",
            "Pennsylvania",
            "Rhode Island",
            "South Carolina",
            "South Dakota",
            "Tennessee",
            "Texas",
            "Utah",
            "Virginia",
            "Vermont",
            "Washington",
            "Wisconsin",
            "West Virginia"
           ],
           "marker": {
            "opacity": 0.75
           },
           "name": "",
           "subplot": "mapbox",
           "type": "choroplethmapbox",
           "z": [
            301,
            3947,
            2571,
            3319,
            8271,
            1316,
            372,
            5115,
            8925,
            789,
            442,
            1888,
            34,
            86,
            348,
            1884,
            3131,
            31,
            718,
            623,
            534,
            2507,
            442,
            5533,
            2460,
            5059,
            1061,
            122,
            111,
            1352,
            1996,
            1049,
            6631,
            222,
            3265,
            3184,
            874,
            25,
            2855,
            2646,
            2183,
            15022,
            1926,
            1268,
            4,
            1577,
            1658,
            1026
           ]
          }
         ],
         "name": "2006"
        },
        {
         "data": [
          {
           "coloraxis": "coloraxis",
           "customdata": [
            [
             513
            ],
            [
             3833
            ],
            [
             1301
            ],
            [
             2443
            ],
            [
             10151
            ],
            [
             1070
            ],
            [
             331
            ],
            [
             2
            ],
            [
             4589
            ],
            [
             8717
            ],
            [
             964
            ],
            [
             143
            ],
            [
             1589
            ],
            [
             99
            ],
            [
             127
            ],
            [
             196
            ],
            [
             2081
            ],
            [
             63
            ],
            [
             34
            ],
            [
             598
            ],
            [
             481
            ],
            [
             516
            ],
            [
             1787
            ],
            [
             523
            ],
            [
             2767
            ],
            [
             1997
            ],
            [
             7284
            ],
            [
             865
            ],
            [
             822
            ],
            [
             95
            ],
            [
             1097
            ],
            [
             1428
            ],
            [
             698
            ],
            [
             6319
            ],
            [
             259
            ],
            [
             1334
            ],
            [
             2512
            ],
            [
             514
            ],
            [
             21
            ],
            [
             3998
            ],
            [
             1627
            ],
            [
             3393
            ],
            [
             5477
            ],
            [
             1548
            ],
            [
             1446
            ],
            [
             5
            ],
            [
             1304
            ],
            [
             1487
            ],
            [
             836
            ]
           ],
           "featureidkey": "properties.name",
           "geojson": "us-states.json",
           "hovertemplate": "<b>%{hovertext}</b><br><br>Année=2007<br>Etat=%{location}<br>Nombre de feux=%{z}<extra></extra>",
           "hovertext": [
            "Alaska",
            "Alabama",
            "Arkansas",
            "Arizona",
            "California",
            "Colorado",
            "Connecticut",
            "Delaware",
            "Florida",
            "Georgia",
            "Hawaii",
            "Iowa",
            "Idaho",
            "Illinois",
            "Indiana",
            "Kansas",
            "Kentucky",
            "Louisiana",
            "Massachusetts",
            "Maryland",
            "Maine",
            "Michigan",
            "Minnesota",
            "Missouri",
            "Mississippi",
            "Montana",
            "North Carolina",
            "North Dakota",
            "Nebraska",
            "New Hampshire",
            "New Jersey",
            "New Mexico",
            "Nevada",
            "New York",
            "Ohio",
            "Oklahoma",
            "Oregon",
            "Pennsylvania",
            "Rhode Island",
            "South Carolina",
            "South Dakota",
            "Tennessee",
            "Texas",
            "Utah",
            "Virginia",
            "Vermont",
            "Washington",
            "Wisconsin",
            "West Virginia"
           ],
           "locations": [
            "Alaska",
            "Alabama",
            "Arkansas",
            "Arizona",
            "California",
            "Colorado",
            "Connecticut",
            "Delaware",
            "Florida",
            "Georgia",
            "Hawaii",
            "Iowa",
            "Idaho",
            "Illinois",
            "Indiana",
            "Kansas",
            "Kentucky",
            "Louisiana",
            "Massachusetts",
            "Maryland",
            "Maine",
            "Michigan",
            "Minnesota",
            "Missouri",
            "Mississippi",
            "Montana",
            "North Carolina",
            "North Dakota",
            "Nebraska",
            "New Hampshire",
            "New Jersey",
            "New Mexico",
            "Nevada",
            "New York",
            "Ohio",
            "Oklahoma",
            "Oregon",
            "Pennsylvania",
            "Rhode Island",
            "South Carolina",
            "South Dakota",
            "Tennessee",
            "Texas",
            "Utah",
            "Virginia",
            "Vermont",
            "Washington",
            "Wisconsin",
            "West Virginia"
           ],
           "marker": {
            "opacity": 0.75
           },
           "name": "",
           "subplot": "mapbox",
           "type": "choroplethmapbox",
           "z": [
            513,
            3833,
            1301,
            2443,
            10151,
            1070,
            331,
            2,
            4589,
            8717,
            964,
            143,
            1589,
            99,
            127,
            196,
            2081,
            63,
            34,
            598,
            481,
            516,
            1787,
            523,
            2767,
            1997,
            7284,
            865,
            822,
            95,
            1097,
            1428,
            698,
            6319,
            259,
            1334,
            2512,
            514,
            21,
            3998,
            1627,
            3393,
            5477,
            1548,
            1446,
            5,
            1304,
            1487,
            836
           ]
          }
         ],
         "name": "2007"
        },
        {
         "data": [
          {
           "coloraxis": "coloraxis",
           "customdata": [
            [
             369
            ],
            [
             2012
            ],
            [
             883
            ],
            [
             1898
            ],
            [
             7744
            ],
            [
             1015
            ],
            [
             366
            ],
            [
             3105
            ],
            [
             5807
            ],
            [
             769
            ],
            [
             151
            ],
            [
             986
            ],
            [
             197
            ],
            [
             67
            ],
            [
             94
            ],
            [
             1563
            ],
            [
             1438
            ],
            [
             12
            ],
            [
             530
            ],
            [
             466
            ],
            [
             444
            ],
            [
             1165
            ],
            [
             136
            ],
            [
             2016
            ],
            [
             1532
            ],
            [
             4382
            ],
            [
             723
            ],
            [
             611
            ],
            [
             102
            ],
            [
             1152
            ],
            [
             864
            ],
            [
             447
            ],
            [
             7156
            ],
            [
             116
            ],
            [
             2165
            ],
            [
             2668
            ],
            [
             652
            ],
            [
             135
            ],
            [
             2744
            ],
            [
             1190
            ],
            [
             1429
            ],
            [
             18067
            ],
            [
             1062
            ],
            [
             1287
            ],
            [
             5
            ],
            [
             1490
            ],
            [
             813
            ],
            [
             886
            ]
           ],
           "featureidkey": "properties.name",
           "geojson": "us-states.json",
           "hovertemplate": "<b>%{hovertext}</b><br><br>Année=2008<br>Etat=%{location}<br>Nombre de feux=%{z}<extra></extra>",
           "hovertext": [
            "Alaska",
            "Alabama",
            "Arkansas",
            "Arizona",
            "California",
            "Colorado",
            "Connecticut",
            "Florida",
            "Georgia",
            "Hawaii",
            "Iowa",
            "Idaho",
            "Illinois",
            "Indiana",
            "Kansas",
            "Kentucky",
            "Louisiana",
            "Massachusetts",
            "Maryland",
            "Maine",
            "Michigan",
            "Minnesota",
            "Missouri",
            "Mississippi",
            "Montana",
            "North Carolina",
            "North Dakota",
            "Nebraska",
            "New Hampshire",
            "New Jersey",
            "New Mexico",
            "Nevada",
            "New York",
            "Ohio",
            "Oklahoma",
            "Oregon",
            "Pennsylvania",
            "Rhode Island",
            "South Carolina",
            "South Dakota",
            "Tennessee",
            "Texas",
            "Utah",
            "Virginia",
            "Vermont",
            "Washington",
            "Wisconsin",
            "West Virginia"
           ],
           "locations": [
            "Alaska",
            "Alabama",
            "Arkansas",
            "Arizona",
            "California",
            "Colorado",
            "Connecticut",
            "Florida",
            "Georgia",
            "Hawaii",
            "Iowa",
            "Idaho",
            "Illinois",
            "Indiana",
            "Kansas",
            "Kentucky",
            "Louisiana",
            "Massachusetts",
            "Maryland",
            "Maine",
            "Michigan",
            "Minnesota",
            "Missouri",
            "Mississippi",
            "Montana",
            "North Carolina",
            "North Dakota",
            "Nebraska",
            "New Hampshire",
            "New Jersey",
            "New Mexico",
            "Nevada",
            "New York",
            "Ohio",
            "Oklahoma",
            "Oregon",
            "Pennsylvania",
            "Rhode Island",
            "South Carolina",
            "South Dakota",
            "Tennessee",
            "Texas",
            "Utah",
            "Virginia",
            "Vermont",
            "Washington",
            "Wisconsin",
            "West Virginia"
           ],
           "marker": {
            "opacity": 0.75
           },
           "name": "",
           "subplot": "mapbox",
           "type": "choroplethmapbox",
           "z": [
            369,
            2012,
            883,
            1898,
            7744,
            1015,
            366,
            3105,
            5807,
            769,
            151,
            986,
            197,
            67,
            94,
            1563,
            1438,
            12,
            530,
            466,
            444,
            1165,
            136,
            2016,
            1532,
            4382,
            723,
            611,
            102,
            1152,
            864,
            447,
            7156,
            116,
            2165,
            2668,
            652,
            135,
            2744,
            1190,
            1429,
            18067,
            1062,
            1287,
            5,
            1490,
            813,
            886
           ]
          }
         ],
         "name": "2008"
        },
        {
         "data": [
          {
           "coloraxis": "coloraxis",
           "customdata": [
            [
             513
            ],
            [
             1372
            ],
            [
             1076
            ],
            [
             2333
            ],
            [
             6940
            ],
            [
             952
            ],
            [
             257
            ],
            [
             3016
            ],
            [
             4176
            ],
            [
             816
            ],
            [
             702
            ],
            [
             1198
            ],
            [
             347
            ],
            [
             45
            ],
            [
             71
            ],
            [
             1419
            ],
            [
             1542
            ],
            [
             1
            ],
            [
             261
            ],
            [
             483
            ],
            [
             486
            ],
            [
             1233
            ],
            [
             239
            ],
            [
             1966
            ],
            [
             1662
            ],
            [
             3319
            ],
            [
             415
            ],
            [
             715
            ],
            [
             68
            ],
            [
             614
            ],
            [
             1448
            ],
            [
             570
            ],
            [
             5764
            ],
            [
             244
            ],
            [
             2049
            ],
            [
             2304
            ],
            [
             633
            ],
            [
             47
            ],
            [
             1757
            ],
            [
             984
            ],
            [
             1477
            ],
            [
             14142
            ],
            [
             1157
            ],
            [
             784
            ],
            [
             1
            ],
            [
             2000
            ],
            [
             1578
            ],
            [
             984
            ]
           ],
           "featureidkey": "properties.name",
           "geojson": "us-states.json",
           "hovertemplate": "<b>%{hovertext}</b><br><br>Année=2009<br>Etat=%{location}<br>Nombre de feux=%{z}<extra></extra>",
           "hovertext": [
            "Alaska",
            "Alabama",
            "Arkansas",
            "Arizona",
            "California",
            "Colorado",
            "Connecticut",
            "Florida",
            "Georgia",
            "Hawaii",
            "Iowa",
            "Idaho",
            "Illinois",
            "Indiana",
            "Kansas",
            "Kentucky",
            "Louisiana",
            "Massachusetts",
            "Maryland",
            "Maine",
            "Michigan",
            "Minnesota",
            "Missouri",
            "Mississippi",
            "Montana",
            "North Carolina",
            "North Dakota",
            "Nebraska",
            "New Hampshire",
            "New Jersey",
            "New Mexico",
            "Nevada",
            "New York",
            "Ohio",
            "Oklahoma",
            "Oregon",
            "Pennsylvania",
            "Rhode Island",
            "South Carolina",
            "South Dakota",
            "Tennessee",
            "Texas",
            "Utah",
            "Virginia",
            "Vermont",
            "Washington",
            "Wisconsin",
            "West Virginia"
           ],
           "locations": [
            "Alaska",
            "Alabama",
            "Arkansas",
            "Arizona",
            "California",
            "Colorado",
            "Connecticut",
            "Florida",
            "Georgia",
            "Hawaii",
            "Iowa",
            "Idaho",
            "Illinois",
            "Indiana",
            "Kansas",
            "Kentucky",
            "Louisiana",
            "Massachusetts",
            "Maryland",
            "Maine",
            "Michigan",
            "Minnesota",
            "Missouri",
            "Mississippi",
            "Montana",
            "North Carolina",
            "North Dakota",
            "Nebraska",
            "New Hampshire",
            "New Jersey",
            "New Mexico",
            "Nevada",
            "New York",
            "Ohio",
            "Oklahoma",
            "Oregon",
            "Pennsylvania",
            "Rhode Island",
            "South Carolina",
            "South Dakota",
            "Tennessee",
            "Texas",
            "Utah",
            "Virginia",
            "Vermont",
            "Washington",
            "Wisconsin",
            "West Virginia"
           ],
           "marker": {
            "opacity": 0.75
           },
           "name": "",
           "subplot": "mapbox",
           "type": "choroplethmapbox",
           "z": [
            513,
            1372,
            1076,
            2333,
            6940,
            952,
            257,
            3016,
            4176,
            816,
            702,
            1198,
            347,
            45,
            71,
            1419,
            1542,
            1,
            261,
            483,
            486,
            1233,
            239,
            1966,
            1662,
            3319,
            415,
            715,
            68,
            614,
            1448,
            570,
            5764,
            244,
            2049,
            2304,
            633,
            47,
            1757,
            984,
            1477,
            14142,
            1157,
            784,
            1,
            2000,
            1578,
            984
           ]
          }
         ],
         "name": "2009"
        },
        {
         "data": [
          {
           "coloraxis": "coloraxis",
           "customdata": [
            [
             691
            ],
            [
             2913
            ],
            [
             2220
            ],
            [
             1617
            ],
            [
             5776
            ],
            [
             2694
            ],
            [
             418
            ],
            [
             1
            ],
            [
             2373
            ],
            [
             5874
            ],
            [
             984
            ],
            [
             199
            ],
            [
             1150
            ],
            [
             452
            ],
            [
             73
            ],
            [
             40
            ],
            [
             1913
            ],
            [
             2419
            ],
            [
             3
            ],
            [
             168
            ],
            [
             505
            ],
            [
             584
            ],
            [
             2075
            ],
            [
             196
            ],
            [
             2926
            ],
            [
             1140
            ],
            [
             4100
            ],
            [
             435
            ],
            [
             610
            ],
            [
             98
            ],
            [
             1010
            ],
            [
             1145
            ],
            [
             353
            ],
            [
             6181
            ],
            [
             180
            ],
            [
             2146
            ],
            [
             1925
            ],
            [
             583
            ],
            [
             2144
            ],
            [
             698
            ],
            [
             1904
            ],
            [
             9351
            ],
            [
             1056
            ],
            [
             1026
            ],
            [
             2
            ],
            [
             1048
            ],
            [
             1312
            ],
            [
             796
            ]
           ],
           "featureidkey": "properties.name",
           "geojson": "us-states.json",
           "hovertemplate": "<b>%{hovertext}</b><br><br>Année=2010<br>Etat=%{location}<br>Nombre de feux=%{z}<extra></extra>",
           "hovertext": [
            "Alaska",
            "Alabama",
            "Arkansas",
            "Arizona",
            "California",
            "Colorado",
            "Connecticut",
            "Delaware",
            "Florida",
            "Georgia",
            "Hawaii",
            "Iowa",
            "Idaho",
            "Illinois",
            "Indiana",
            "Kansas",
            "Kentucky",
            "Louisiana",
            "Massachusetts",
            "Maryland",
            "Maine",
            "Michigan",
            "Minnesota",
            "Missouri",
            "Mississippi",
            "Montana",
            "North Carolina",
            "North Dakota",
            "Nebraska",
            "New Hampshire",
            "New Jersey",
            "New Mexico",
            "Nevada",
            "New York",
            "Ohio",
            "Oklahoma",
            "Oregon",
            "Pennsylvania",
            "South Carolina",
            "South Dakota",
            "Tennessee",
            "Texas",
            "Utah",
            "Virginia",
            "Vermont",
            "Washington",
            "Wisconsin",
            "West Virginia"
           ],
           "locations": [
            "Alaska",
            "Alabama",
            "Arkansas",
            "Arizona",
            "California",
            "Colorado",
            "Connecticut",
            "Delaware",
            "Florida",
            "Georgia",
            "Hawaii",
            "Iowa",
            "Idaho",
            "Illinois",
            "Indiana",
            "Kansas",
            "Kentucky",
            "Louisiana",
            "Massachusetts",
            "Maryland",
            "Maine",
            "Michigan",
            "Minnesota",
            "Missouri",
            "Mississippi",
            "Montana",
            "North Carolina",
            "North Dakota",
            "Nebraska",
            "New Hampshire",
            "New Jersey",
            "New Mexico",
            "Nevada",
            "New York",
            "Ohio",
            "Oklahoma",
            "Oregon",
            "Pennsylvania",
            "South Carolina",
            "South Dakota",
            "Tennessee",
            "Texas",
            "Utah",
            "Virginia",
            "Vermont",
            "Washington",
            "Wisconsin",
            "West Virginia"
           ],
           "marker": {
            "opacity": 0.75
           },
           "name": "",
           "subplot": "mapbox",
           "type": "choroplethmapbox",
           "z": [
            691,
            2913,
            2220,
            1617,
            5776,
            2694,
            418,
            1,
            2373,
            5874,
            984,
            199,
            1150,
            452,
            73,
            40,
            1913,
            2419,
            3,
            168,
            505,
            584,
            2075,
            196,
            2926,
            1140,
            4100,
            435,
            610,
            98,
            1010,
            1145,
            353,
            6181,
            180,
            2146,
            1925,
            583,
            2144,
            698,
            1904,
            9351,
            1056,
            1026,
            2,
            1048,
            1312,
            796
           ]
          }
         ],
         "name": "2010"
        },
        {
         "data": [
          {
           "coloraxis": "coloraxis",
           "customdata": [
            [
             508
            ],
            [
             2042
            ],
            [
             2546
            ],
            [
             1912
            ],
            [
             8562
            ],
            [
             957
            ],
            [
             227
            ],
            [
             5029
            ],
            [
             8414
            ],
            [
             603
            ],
            [
             439
            ],
            [
             1318
            ],
            [
             136
            ],
            [
             26
            ],
            [
             56
            ],
            [
             1032
            ],
            [
             217
            ],
            [
             133
            ],
            [
             365
            ],
            [
             309
            ],
            [
             1235
            ],
            [
             740
            ],
            [
             1614
            ],
            [
             1190
            ],
            [
             5427
            ],
            [
             373
            ],
            [
             832
            ],
            [
             4
            ],
            [
             272
            ],
            [
             2197
            ],
            [
             721
            ],
            [
             3740
            ],
            [
             79
            ],
            [
             2542
            ],
            [
             1968
            ],
            [
             201
            ],
            [
             34
            ],
            [
             3181
            ],
            [
             1431
            ],
            [
             1195
            ],
            [
             19453
            ],
            [
             1095
            ],
            [
             813
            ],
            [
             1028
            ],
            [
             735
            ],
            [
             489
            ]
           ],
           "featureidkey": "properties.name",
           "geojson": "us-states.json",
           "hovertemplate": "<b>%{hovertext}</b><br><br>Année=2011<br>Etat=%{location}<br>Nombre de feux=%{z}<extra></extra>",
           "hovertext": [
            "Alaska",
            "Alabama",
            "Arkansas",
            "Arizona",
            "California",
            "Colorado",
            "Connecticut",
            "Florida",
            "Georgia",
            "Hawaii",
            "Iowa",
            "Idaho",
            "Illinois",
            "Indiana",
            "Kansas",
            "Kentucky",
            "Louisiana",
            "Maryland",
            "Maine",
            "Michigan",
            "Minnesota",
            "Missouri",
            "Mississippi",
            "Montana",
            "North Carolina",
            "North Dakota",
            "Nebraska",
            "New Hampshire",
            "New Jersey",
            "New Mexico",
            "Nevada",
            "New York",
            "Ohio",
            "Oklahoma",
            "Oregon",
            "Pennsylvania",
            "Rhode Island",
            "South Carolina",
            "South Dakota",
            "Tennessee",
            "Texas",
            "Utah",
            "Virginia",
            "Washington",
            "Wisconsin",
            "West Virginia"
           ],
           "locations": [
            "Alaska",
            "Alabama",
            "Arkansas",
            "Arizona",
            "California",
            "Colorado",
            "Connecticut",
            "Florida",
            "Georgia",
            "Hawaii",
            "Iowa",
            "Idaho",
            "Illinois",
            "Indiana",
            "Kansas",
            "Kentucky",
            "Louisiana",
            "Maryland",
            "Maine",
            "Michigan",
            "Minnesota",
            "Missouri",
            "Mississippi",
            "Montana",
            "North Carolina",
            "North Dakota",
            "Nebraska",
            "New Hampshire",
            "New Jersey",
            "New Mexico",
            "Nevada",
            "New York",
            "Ohio",
            "Oklahoma",
            "Oregon",
            "Pennsylvania",
            "Rhode Island",
            "South Carolina",
            "South Dakota",
            "Tennessee",
            "Texas",
            "Utah",
            "Virginia",
            "Washington",
            "Wisconsin",
            "West Virginia"
           ],
           "marker": {
            "opacity": 0.75
           },
           "name": "",
           "subplot": "mapbox",
           "type": "choroplethmapbox",
           "z": [
            508,
            2042,
            2546,
            1912,
            8562,
            957,
            227,
            5029,
            8414,
            603,
            439,
            1318,
            136,
            26,
            56,
            1032,
            217,
            133,
            365,
            309,
            1235,
            740,
            1614,
            1190,
            5427,
            373,
            832,
            4,
            272,
            2197,
            721,
            3740,
            79,
            2542,
            1968,
            201,
            34,
            3181,
            1431,
            1195,
            19453,
            1095,
            813,
            1028,
            735,
            489
           ]
          }
         ],
         "name": "2011"
        },
        {
         "data": [
          {
           "coloraxis": "coloraxis",
           "customdata": [
            [
             409
            ],
            [
             1747
            ],
            [
             2351
            ],
            [
             1760
            ],
            [
             7208
            ],
            [
             1106
            ],
            [
             576
            ],
            [
             19
            ],
            [
             3107
            ],
            [
             4949
            ],
            [
             714
            ],
            [
             458
            ],
            [
             1189
            ],
            [
             167
            ],
            [
             57
            ],
            [
             73
            ],
            [
             1263
            ],
            [
             877
            ],
            [
             5
            ],
            [
             163
            ],
            [
             560
            ],
            [
             711
            ],
            [
             2295
            ],
            [
             221
            ],
            [
             1218
            ],
            [
             1854
            ],
            [
             3559
            ],
            [
             1098
            ],
            [
             1223
            ],
            [
             100
            ],
            [
             1029
            ],
            [
             1174
            ],
            [
             838
            ],
            [
             3944
            ],
            [
             204
            ],
            [
             1655
            ],
            [
             1657
            ],
            [
             724
            ],
            [
             49
            ],
            [
             1971
            ],
            [
             2726
            ],
            [
             1203
            ],
            [
             7623
            ],
            [
             1592
            ],
            [
             685
            ],
            [
             97
            ],
            [
             1428
            ],
            [
             1380
            ],
            [
             694
            ]
           ],
           "featureidkey": "properties.name",
           "geojson": "us-states.json",
           "hovertemplate": "<b>%{hovertext}</b><br><br>Année=2012<br>Etat=%{location}<br>Nombre de feux=%{z}<extra></extra>",
           "hovertext": [
            "Alaska",
            "Alabama",
            "Arkansas",
            "Arizona",
            "California",
            "Colorado",
            "Connecticut",
            "Delaware",
            "Florida",
            "Georgia",
            "Hawaii",
            "Iowa",
            "Idaho",
            "Illinois",
            "Indiana",
            "Kansas",
            "Kentucky",
            "Louisiana",
            "Massachusetts",
            "Maryland",
            "Maine",
            "Michigan",
            "Minnesota",
            "Missouri",
            "Mississippi",
            "Montana",
            "North Carolina",
            "North Dakota",
            "Nebraska",
            "New Hampshire",
            "New Jersey",
            "New Mexico",
            "Nevada",
            "New York",
            "Ohio",
            "Oklahoma",
            "Oregon",
            "Pennsylvania",
            "Rhode Island",
            "South Carolina",
            "South Dakota",
            "Tennessee",
            "Texas",
            "Utah",
            "Virginia",
            "Vermont",
            "Washington",
            "Wisconsin",
            "West Virginia"
           ],
           "locations": [
            "Alaska",
            "Alabama",
            "Arkansas",
            "Arizona",
            "California",
            "Colorado",
            "Connecticut",
            "Delaware",
            "Florida",
            "Georgia",
            "Hawaii",
            "Iowa",
            "Idaho",
            "Illinois",
            "Indiana",
            "Kansas",
            "Kentucky",
            "Louisiana",
            "Massachusetts",
            "Maryland",
            "Maine",
            "Michigan",
            "Minnesota",
            "Missouri",
            "Mississippi",
            "Montana",
            "North Carolina",
            "North Dakota",
            "Nebraska",
            "New Hampshire",
            "New Jersey",
            "New Mexico",
            "Nevada",
            "New York",
            "Ohio",
            "Oklahoma",
            "Oregon",
            "Pennsylvania",
            "Rhode Island",
            "South Carolina",
            "South Dakota",
            "Tennessee",
            "Texas",
            "Utah",
            "Virginia",
            "Vermont",
            "Washington",
            "Wisconsin",
            "West Virginia"
           ],
           "marker": {
            "opacity": 0.75
           },
           "name": "",
           "subplot": "mapbox",
           "type": "choroplethmapbox",
           "z": [
            409,
            1747,
            2351,
            1760,
            7208,
            1106,
            576,
            19,
            3107,
            4949,
            714,
            458,
            1189,
            167,
            57,
            73,
            1263,
            877,
            5,
            163,
            560,
            711,
            2295,
            221,
            1218,
            1854,
            3559,
            1098,
            1223,
            100,
            1029,
            1174,
            838,
            3944,
            204,
            1655,
            1657,
            724,
            49,
            1971,
            2726,
            1203,
            7623,
            1592,
            685,
            97,
            1428,
            1380,
            694
           ]
          }
         ],
         "name": "2012"
        },
        {
         "data": [
          {
           "coloraxis": "coloraxis",
           "customdata": [
            [
             592
            ],
            [
             1670
            ],
            [
             847
            ],
            [
             1665
            ],
            [
             8723
            ],
            [
             3894
            ],
            [
             9
            ],
            [
             2163
            ],
            [
             3252
            ],
            [
             60
            ],
            [
             243
            ],
            [
             1566
            ],
            [
             44
            ],
            [
             20
            ],
            [
             14
            ],
            [
             1003
            ],
            [
             1075
            ],
            [
             5
            ],
            [
             127
            ],
            [
             444
            ],
            [
             455
            ],
            [
             1132
            ],
            [
             413
            ],
            [
             1488
            ],
            [
             1359
            ],
            [
             3329
            ],
            [
             541
            ],
            [
             423
            ],
            [
             147
            ],
            [
             872
            ],
            [
             1078
            ],
            [
             657
            ],
            [
             2890
            ],
            [
             323
            ],
            [
             795
            ],
            [
             2562
            ],
            [
             639
            ],
            [
             19
            ],
            [
             1626
            ],
            [
             1022
            ],
            [
             638
            ],
            [
             9735
            ],
            [
             1249
            ],
            [
             581
            ],
            [
             126
            ],
            [
             1378
            ],
            [
             692
            ],
            [
             580
            ]
           ],
           "featureidkey": "properties.name",
           "geojson": "us-states.json",
           "hovertemplate": "<b>%{hovertext}</b><br><br>Année=2013<br>Etat=%{location}<br>Nombre de feux=%{z}<extra></extra>",
           "hovertext": [
            "Alaska",
            "Alabama",
            "Arkansas",
            "Arizona",
            "California",
            "Colorado",
            "Delaware",
            "Florida",
            "Georgia",
            "Hawaii",
            "Iowa",
            "Idaho",
            "Illinois",
            "Indiana",
            "Kansas",
            "Kentucky",
            "Louisiana",
            "Massachusetts",
            "Maryland",
            "Maine",
            "Michigan",
            "Minnesota",
            "Missouri",
            "Mississippi",
            "Montana",
            "North Carolina",
            "North Dakota",
            "Nebraska",
            "New Hampshire",
            "New Jersey",
            "New Mexico",
            "Nevada",
            "New York",
            "Ohio",
            "Oklahoma",
            "Oregon",
            "Pennsylvania",
            "Rhode Island",
            "South Carolina",
            "South Dakota",
            "Tennessee",
            "Texas",
            "Utah",
            "Virginia",
            "Vermont",
            "Washington",
            "Wisconsin",
            "West Virginia"
           ],
           "locations": [
            "Alaska",
            "Alabama",
            "Arkansas",
            "Arizona",
            "California",
            "Colorado",
            "Delaware",
            "Florida",
            "Georgia",
            "Hawaii",
            "Iowa",
            "Idaho",
            "Illinois",
            "Indiana",
            "Kansas",
            "Kentucky",
            "Louisiana",
            "Massachusetts",
            "Maryland",
            "Maine",
            "Michigan",
            "Minnesota",
            "Missouri",
            "Mississippi",
            "Montana",
            "North Carolina",
            "North Dakota",
            "Nebraska",
            "New Hampshire",
            "New Jersey",
            "New Mexico",
            "Nevada",
            "New York",
            "Ohio",
            "Oklahoma",
            "Oregon",
            "Pennsylvania",
            "Rhode Island",
            "South Carolina",
            "South Dakota",
            "Tennessee",
            "Texas",
            "Utah",
            "Virginia",
            "Vermont",
            "Washington",
            "Wisconsin",
            "West Virginia"
           ],
           "marker": {
            "opacity": 0.75
           },
           "name": "",
           "subplot": "mapbox",
           "type": "choroplethmapbox",
           "z": [
            592,
            1670,
            847,
            1665,
            8723,
            3894,
            9,
            2163,
            3252,
            60,
            243,
            1566,
            44,
            20,
            14,
            1003,
            1075,
            5,
            127,
            444,
            455,
            1132,
            413,
            1488,
            1359,
            3329,
            541,
            423,
            147,
            872,
            1078,
            657,
            2890,
            323,
            795,
            2562,
            639,
            19,
            1626,
            1022,
            638,
            9735,
            1249,
            581,
            126,
            1378,
            692,
            580
           ]
          }
         ],
         "name": "2013"
        },
        {
         "data": [
          {
           "coloraxis": "coloraxis",
           "customdata": [
            [
             393
            ],
            [
             2418
            ],
            [
             1295
            ],
            [
             2828
            ],
            [
             6494
            ],
            [
             603
            ],
            [
             3
            ],
            [
             2144
            ],
            [
             4063
            ],
            [
             2
            ],
            [
             543
            ],
            [
             1215
            ],
            [
             227
            ],
            [
             36
            ],
            [
             59
            ],
            [
             1446
            ],
            [
             876
            ],
            [
             6
            ],
            [
             123
            ],
            [
             333
            ],
            [
             264
            ],
            [
             1006
            ],
            [
             1251
            ],
            [
             2224
            ],
            [
             1203
            ],
            [
             4587
            ],
            [
             510
            ],
            [
             723
            ],
            [
             125
            ],
            [
             799
            ],
            [
             893
            ],
            [
             542
            ],
            [
             4358
            ],
            [
             612
            ],
            [
             1172
            ],
            [
             3047
            ],
            [
             875
            ],
            [
             46
            ],
            [
             1893
            ],
            [
             1023
            ],
            [
             1260
            ],
            [
             8538
            ],
            [
             1058
            ],
            [
             821
            ],
            [
             55
            ],
            [
             1567
            ],
            [
             605
            ],
            [
             951
            ]
           ],
           "featureidkey": "properties.name",
           "geojson": "us-states.json",
           "hovertemplate": "<b>%{hovertext}</b><br><br>Année=2014<br>Etat=%{location}<br>Nombre de feux=%{z}<extra></extra>",
           "hovertext": [
            "Alaska",
            "Alabama",
            "Arkansas",
            "Arizona",
            "California",
            "Colorado",
            "Delaware",
            "Florida",
            "Georgia",
            "Hawaii",
            "Iowa",
            "Idaho",
            "Illinois",
            "Indiana",
            "Kansas",
            "Kentucky",
            "Louisiana",
            "Massachusetts",
            "Maryland",
            "Maine",
            "Michigan",
            "Minnesota",
            "Missouri",
            "Mississippi",
            "Montana",
            "North Carolina",
            "North Dakota",
            "Nebraska",
            "New Hampshire",
            "New Jersey",
            "New Mexico",
            "Nevada",
            "New York",
            "Ohio",
            "Oklahoma",
            "Oregon",
            "Pennsylvania",
            "Rhode Island",
            "South Carolina",
            "South Dakota",
            "Tennessee",
            "Texas",
            "Utah",
            "Virginia",
            "Vermont",
            "Washington",
            "Wisconsin",
            "West Virginia"
           ],
           "locations": [
            "Alaska",
            "Alabama",
            "Arkansas",
            "Arizona",
            "California",
            "Colorado",
            "Delaware",
            "Florida",
            "Georgia",
            "Hawaii",
            "Iowa",
            "Idaho",
            "Illinois",
            "Indiana",
            "Kansas",
            "Kentucky",
            "Louisiana",
            "Massachusetts",
            "Maryland",
            "Maine",
            "Michigan",
            "Minnesota",
            "Missouri",
            "Mississippi",
            "Montana",
            "North Carolina",
            "North Dakota",
            "Nebraska",
            "New Hampshire",
            "New Jersey",
            "New Mexico",
            "Nevada",
            "New York",
            "Ohio",
            "Oklahoma",
            "Oregon",
            "Pennsylvania",
            "Rhode Island",
            "South Carolina",
            "South Dakota",
            "Tennessee",
            "Texas",
            "Utah",
            "Virginia",
            "Vermont",
            "Washington",
            "Wisconsin",
            "West Virginia"
           ],
           "marker": {
            "opacity": 0.75
           },
           "name": "",
           "subplot": "mapbox",
           "type": "choroplethmapbox",
           "z": [
            393,
            2418,
            1295,
            2828,
            6494,
            603,
            3,
            2144,
            4063,
            2,
            543,
            1215,
            227,
            36,
            59,
            1446,
            876,
            6,
            123,
            333,
            264,
            1006,
            1251,
            2224,
            1203,
            4587,
            510,
            723,
            125,
            799,
            893,
            542,
            4358,
            612,
            1172,
            3047,
            875,
            46,
            1893,
            1023,
            1260,
            8538,
            1058,
            821,
            55,
            1567,
            605,
            951
           ]
          }
         ],
         "name": "2014"
        },
        {
         "data": [
          {
           "coloraxis": "coloraxis",
           "customdata": [
            [
             771
            ],
            [
             2074
            ],
            [
             1289
            ],
            [
             3819
            ],
            [
             7365
            ],
            [
             591
            ],
            [
             372
            ],
            [
             16
            ],
            [
             2548
            ],
            [
             2355
            ],
            [
             4
            ],
            [
             517
            ],
            [
             1277
            ],
            [
             106
            ],
            [
             16
            ],
            [
             5887
            ],
            [
             756
            ],
            [
             1075
            ],
            [
             2170
            ],
            [
             150
            ],
            [
             406
            ],
            [
             523
            ],
            [
             1838
            ],
            [
             769
            ],
            [
             2122
            ],
            [
             1866
            ],
            [
             2471
            ],
            [
             1003
            ],
            [
             599
            ],
            [
             140
            ],
            [
             770
            ],
            [
             778
            ],
            [
             526
            ],
            [
             5884
            ],
            [
             537
            ],
            [
             1185
            ],
            [
             2500
            ],
            [
             807
            ],
            [
             85
            ],
            [
             1299
            ],
            [
             966
            ],
            [
             612
            ],
            [
             8304
            ],
            [
             605
            ],
            [
             597
            ],
            [
             87
            ],
            [
             1741
            ],
            [
             965
            ],
            [
             685
            ]
           ],
           "featureidkey": "properties.name",
           "geojson": "us-states.json",
           "hovertemplate": "<b>%{hovertext}</b><br><br>Année=2015<br>Etat=%{location}<br>Nombre de feux=%{z}<extra></extra>",
           "hovertext": [
            "Alaska",
            "Alabama",
            "Arkansas",
            "Arizona",
            "California",
            "Colorado",
            "Connecticut",
            "Delaware",
            "Florida",
            "Georgia",
            "Hawaii",
            "Iowa",
            "Idaho",
            "Illinois",
            "Indiana",
            "Kansas",
            "Kentucky",
            "Louisiana",
            "Massachusetts",
            "Maryland",
            "Maine",
            "Michigan",
            "Minnesota",
            "Missouri",
            "Mississippi",
            "Montana",
            "North Carolina",
            "North Dakota",
            "Nebraska",
            "New Hampshire",
            "New Jersey",
            "New Mexico",
            "Nevada",
            "New York",
            "Ohio",
            "Oklahoma",
            "Oregon",
            "Pennsylvania",
            "Rhode Island",
            "South Carolina",
            "South Dakota",
            "Tennessee",
            "Texas",
            "Utah",
            "Virginia",
            "Vermont",
            "Washington",
            "Wisconsin",
            "West Virginia"
           ],
           "locations": [
            "Alaska",
            "Alabama",
            "Arkansas",
            "Arizona",
            "California",
            "Colorado",
            "Connecticut",
            "Delaware",
            "Florida",
            "Georgia",
            "Hawaii",
            "Iowa",
            "Idaho",
            "Illinois",
            "Indiana",
            "Kansas",
            "Kentucky",
            "Louisiana",
            "Massachusetts",
            "Maryland",
            "Maine",
            "Michigan",
            "Minnesota",
            "Missouri",
            "Mississippi",
            "Montana",
            "North Carolina",
            "North Dakota",
            "Nebraska",
            "New Hampshire",
            "New Jersey",
            "New Mexico",
            "Nevada",
            "New York",
            "Ohio",
            "Oklahoma",
            "Oregon",
            "Pennsylvania",
            "Rhode Island",
            "South Carolina",
            "South Dakota",
            "Tennessee",
            "Texas",
            "Utah",
            "Virginia",
            "Vermont",
            "Washington",
            "Wisconsin",
            "West Virginia"
           ],
           "marker": {
            "opacity": 0.75
           },
           "name": "",
           "subplot": "mapbox",
           "type": "choroplethmapbox",
           "z": [
            771,
            2074,
            1289,
            3819,
            7365,
            591,
            372,
            16,
            2548,
            2355,
            4,
            517,
            1277,
            106,
            16,
            5887,
            756,
            1075,
            2170,
            150,
            406,
            523,
            1838,
            769,
            2122,
            1866,
            2471,
            1003,
            599,
            140,
            770,
            778,
            526,
            5884,
            537,
            1185,
            2500,
            807,
            85,
            1299,
            966,
            612,
            8304,
            605,
            597,
            87,
            1741,
            965,
            685
           ]
          }
         ],
         "name": "2015"
        }
       ],
       "layout": {
        "coloraxis": {
         "colorbar": {
          "title": {
           "text": "Nombre de feux"
          }
         },
         "colorscale": [
          [
           0,
           "rgb(255,245,240)"
          ],
          [
           0.125,
           "rgb(254,224,210)"
          ],
          [
           0.25,
           "rgb(252,187,161)"
          ],
          [
           0.375,
           "rgb(252,146,114)"
          ],
          [
           0.5,
           "rgb(251,106,74)"
          ],
          [
           0.625,
           "rgb(239,59,44)"
          ],
          [
           0.75,
           "rgb(203,24,29)"
          ],
          [
           0.875,
           "rgb(165,15,21)"
          ],
          [
           1,
           "rgb(103,0,13)"
          ]
         ]
        },
        "height": 800,
        "legend": {
         "tracegroupgap": 0
        },
        "mapbox": {
         "center": {
          "lat": 50,
          "lon": -110
         },
         "domain": {
          "x": [
           0,
           1
          ],
          "y": [
           0,
           1
          ]
         },
         "style": "carto-positron",
         "zoom": 2
        },
        "sliders": [
         {
          "active": 0,
          "currentvalue": {
           "prefix": "Année="
          },
          "len": 0.9,
          "pad": {
           "b": 10,
           "t": 60
          },
          "steps": [
           {
            "args": [
             [
              "1992"
             ],
             {
              "frame": {
               "duration": 0,
               "redraw": true
              },
              "fromcurrent": true,
              "mode": "immediate",
              "transition": {
               "duration": 0,
               "easing": "linear"
              }
             }
            ],
            "label": "1992",
            "method": "animate"
           },
           {
            "args": [
             [
              "1993"
             ],
             {
              "frame": {
               "duration": 0,
               "redraw": true
              },
              "fromcurrent": true,
              "mode": "immediate",
              "transition": {
               "duration": 0,
               "easing": "linear"
              }
             }
            ],
            "label": "1993",
            "method": "animate"
           },
           {
            "args": [
             [
              "1994"
             ],
             {
              "frame": {
               "duration": 0,
               "redraw": true
              },
              "fromcurrent": true,
              "mode": "immediate",
              "transition": {
               "duration": 0,
               "easing": "linear"
              }
             }
            ],
            "label": "1994",
            "method": "animate"
           },
           {
            "args": [
             [
              "1995"
             ],
             {
              "frame": {
               "duration": 0,
               "redraw": true
              },
              "fromcurrent": true,
              "mode": "immediate",
              "transition": {
               "duration": 0,
               "easing": "linear"
              }
             }
            ],
            "label": "1995",
            "method": "animate"
           },
           {
            "args": [
             [
              "1996"
             ],
             {
              "frame": {
               "duration": 0,
               "redraw": true
              },
              "fromcurrent": true,
              "mode": "immediate",
              "transition": {
               "duration": 0,
               "easing": "linear"
              }
             }
            ],
            "label": "1996",
            "method": "animate"
           },
           {
            "args": [
             [
              "1997"
             ],
             {
              "frame": {
               "duration": 0,
               "redraw": true
              },
              "fromcurrent": true,
              "mode": "immediate",
              "transition": {
               "duration": 0,
               "easing": "linear"
              }
             }
            ],
            "label": "1997",
            "method": "animate"
           },
           {
            "args": [
             [
              "1998"
             ],
             {
              "frame": {
               "duration": 0,
               "redraw": true
              },
              "fromcurrent": true,
              "mode": "immediate",
              "transition": {
               "duration": 0,
               "easing": "linear"
              }
             }
            ],
            "label": "1998",
            "method": "animate"
           },
           {
            "args": [
             [
              "1999"
             ],
             {
              "frame": {
               "duration": 0,
               "redraw": true
              },
              "fromcurrent": true,
              "mode": "immediate",
              "transition": {
               "duration": 0,
               "easing": "linear"
              }
             }
            ],
            "label": "1999",
            "method": "animate"
           },
           {
            "args": [
             [
              "2000"
             ],
             {
              "frame": {
               "duration": 0,
               "redraw": true
              },
              "fromcurrent": true,
              "mode": "immediate",
              "transition": {
               "duration": 0,
               "easing": "linear"
              }
             }
            ],
            "label": "2000",
            "method": "animate"
           },
           {
            "args": [
             [
              "2001"
             ],
             {
              "frame": {
               "duration": 0,
               "redraw": true
              },
              "fromcurrent": true,
              "mode": "immediate",
              "transition": {
               "duration": 0,
               "easing": "linear"
              }
             }
            ],
            "label": "2001",
            "method": "animate"
           },
           {
            "args": [
             [
              "2002"
             ],
             {
              "frame": {
               "duration": 0,
               "redraw": true
              },
              "fromcurrent": true,
              "mode": "immediate",
              "transition": {
               "duration": 0,
               "easing": "linear"
              }
             }
            ],
            "label": "2002",
            "method": "animate"
           },
           {
            "args": [
             [
              "2003"
             ],
             {
              "frame": {
               "duration": 0,
               "redraw": true
              },
              "fromcurrent": true,
              "mode": "immediate",
              "transition": {
               "duration": 0,
               "easing": "linear"
              }
             }
            ],
            "label": "2003",
            "method": "animate"
           },
           {
            "args": [
             [
              "2004"
             ],
             {
              "frame": {
               "duration": 0,
               "redraw": true
              },
              "fromcurrent": true,
              "mode": "immediate",
              "transition": {
               "duration": 0,
               "easing": "linear"
              }
             }
            ],
            "label": "2004",
            "method": "animate"
           },
           {
            "args": [
             [
              "2005"
             ],
             {
              "frame": {
               "duration": 0,
               "redraw": true
              },
              "fromcurrent": true,
              "mode": "immediate",
              "transition": {
               "duration": 0,
               "easing": "linear"
              }
             }
            ],
            "label": "2005",
            "method": "animate"
           },
           {
            "args": [
             [
              "2006"
             ],
             {
              "frame": {
               "duration": 0,
               "redraw": true
              },
              "fromcurrent": true,
              "mode": "immediate",
              "transition": {
               "duration": 0,
               "easing": "linear"
              }
             }
            ],
            "label": "2006",
            "method": "animate"
           },
           {
            "args": [
             [
              "2007"
             ],
             {
              "frame": {
               "duration": 0,
               "redraw": true
              },
              "fromcurrent": true,
              "mode": "immediate",
              "transition": {
               "duration": 0,
               "easing": "linear"
              }
             }
            ],
            "label": "2007",
            "method": "animate"
           },
           {
            "args": [
             [
              "2008"
             ],
             {
              "frame": {
               "duration": 0,
               "redraw": true
              },
              "fromcurrent": true,
              "mode": "immediate",
              "transition": {
               "duration": 0,
               "easing": "linear"
              }
             }
            ],
            "label": "2008",
            "method": "animate"
           },
           {
            "args": [
             [
              "2009"
             ],
             {
              "frame": {
               "duration": 0,
               "redraw": true
              },
              "fromcurrent": true,
              "mode": "immediate",
              "transition": {
               "duration": 0,
               "easing": "linear"
              }
             }
            ],
            "label": "2009",
            "method": "animate"
           },
           {
            "args": [
             [
              "2010"
             ],
             {
              "frame": {
               "duration": 0,
               "redraw": true
              },
              "fromcurrent": true,
              "mode": "immediate",
              "transition": {
               "duration": 0,
               "easing": "linear"
              }
             }
            ],
            "label": "2010",
            "method": "animate"
           },
           {
            "args": [
             [
              "2011"
             ],
             {
              "frame": {
               "duration": 0,
               "redraw": true
              },
              "fromcurrent": true,
              "mode": "immediate",
              "transition": {
               "duration": 0,
               "easing": "linear"
              }
             }
            ],
            "label": "2011",
            "method": "animate"
           },
           {
            "args": [
             [
              "2012"
             ],
             {
              "frame": {
               "duration": 0,
               "redraw": true
              },
              "fromcurrent": true,
              "mode": "immediate",
              "transition": {
               "duration": 0,
               "easing": "linear"
              }
             }
            ],
            "label": "2012",
            "method": "animate"
           },
           {
            "args": [
             [
              "2013"
             ],
             {
              "frame": {
               "duration": 0,
               "redraw": true
              },
              "fromcurrent": true,
              "mode": "immediate",
              "transition": {
               "duration": 0,
               "easing": "linear"
              }
             }
            ],
            "label": "2013",
            "method": "animate"
           },
           {
            "args": [
             [
              "2014"
             ],
             {
              "frame": {
               "duration": 0,
               "redraw": true
              },
              "fromcurrent": true,
              "mode": "immediate",
              "transition": {
               "duration": 0,
               "easing": "linear"
              }
             }
            ],
            "label": "2014",
            "method": "animate"
           },
           {
            "args": [
             [
              "2015"
             ],
             {
              "frame": {
               "duration": 0,
               "redraw": true
              },
              "fromcurrent": true,
              "mode": "immediate",
              "transition": {
               "duration": 0,
               "easing": "linear"
              }
             }
            ],
            "label": "2015",
            "method": "animate"
           }
          ],
          "x": 0.1,
          "xanchor": "left",
          "y": 0,
          "yanchor": "top"
         }
        ],
        "template": {
         "data": {
          "bar": [
           {
            "error_x": {
             "color": "#2a3f5f"
            },
            "error_y": {
             "color": "#2a3f5f"
            },
            "marker": {
             "line": {
              "color": "#E5ECF6",
              "width": 0.5
             },
             "pattern": {
              "fillmode": "overlay",
              "size": 10,
              "solidity": 0.2
             }
            },
            "type": "bar"
           }
          ],
          "barpolar": [
           {
            "marker": {
             "line": {
              "color": "#E5ECF6",
              "width": 0.5
             },
             "pattern": {
              "fillmode": "overlay",
              "size": 10,
              "solidity": 0.2
             }
            },
            "type": "barpolar"
           }
          ],
          "carpet": [
           {
            "aaxis": {
             "endlinecolor": "#2a3f5f",
             "gridcolor": "white",
             "linecolor": "white",
             "minorgridcolor": "white",
             "startlinecolor": "#2a3f5f"
            },
            "baxis": {
             "endlinecolor": "#2a3f5f",
             "gridcolor": "white",
             "linecolor": "white",
             "minorgridcolor": "white",
             "startlinecolor": "#2a3f5f"
            },
            "type": "carpet"
           }
          ],
          "choropleth": [
           {
            "colorbar": {
             "outlinewidth": 0,
             "ticks": ""
            },
            "type": "choropleth"
           }
          ],
          "contour": [
           {
            "colorbar": {
             "outlinewidth": 0,
             "ticks": ""
            },
            "colorscale": [
             [
              0,
              "#0d0887"
             ],
             [
              0.1111111111111111,
              "#46039f"
             ],
             [
              0.2222222222222222,
              "#7201a8"
             ],
             [
              0.3333333333333333,
              "#9c179e"
             ],
             [
              0.4444444444444444,
              "#bd3786"
             ],
             [
              0.5555555555555556,
              "#d8576b"
             ],
             [
              0.6666666666666666,
              "#ed7953"
             ],
             [
              0.7777777777777778,
              "#fb9f3a"
             ],
             [
              0.8888888888888888,
              "#fdca26"
             ],
             [
              1,
              "#f0f921"
             ]
            ],
            "type": "contour"
           }
          ],
          "contourcarpet": [
           {
            "colorbar": {
             "outlinewidth": 0,
             "ticks": ""
            },
            "type": "contourcarpet"
           }
          ],
          "heatmap": [
           {
            "colorbar": {
             "outlinewidth": 0,
             "ticks": ""
            },
            "colorscale": [
             [
              0,
              "#0d0887"
             ],
             [
              0.1111111111111111,
              "#46039f"
             ],
             [
              0.2222222222222222,
              "#7201a8"
             ],
             [
              0.3333333333333333,
              "#9c179e"
             ],
             [
              0.4444444444444444,
              "#bd3786"
             ],
             [
              0.5555555555555556,
              "#d8576b"
             ],
             [
              0.6666666666666666,
              "#ed7953"
             ],
             [
              0.7777777777777778,
              "#fb9f3a"
             ],
             [
              0.8888888888888888,
              "#fdca26"
             ],
             [
              1,
              "#f0f921"
             ]
            ],
            "type": "heatmap"
           }
          ],
          "heatmapgl": [
           {
            "colorbar": {
             "outlinewidth": 0,
             "ticks": ""
            },
            "colorscale": [
             [
              0,
              "#0d0887"
             ],
             [
              0.1111111111111111,
              "#46039f"
             ],
             [
              0.2222222222222222,
              "#7201a8"
             ],
             [
              0.3333333333333333,
              "#9c179e"
             ],
             [
              0.4444444444444444,
              "#bd3786"
             ],
             [
              0.5555555555555556,
              "#d8576b"
             ],
             [
              0.6666666666666666,
              "#ed7953"
             ],
             [
              0.7777777777777778,
              "#fb9f3a"
             ],
             [
              0.8888888888888888,
              "#fdca26"
             ],
             [
              1,
              "#f0f921"
             ]
            ],
            "type": "heatmapgl"
           }
          ],
          "histogram": [
           {
            "marker": {
             "pattern": {
              "fillmode": "overlay",
              "size": 10,
              "solidity": 0.2
             }
            },
            "type": "histogram"
           }
          ],
          "histogram2d": [
           {
            "colorbar": {
             "outlinewidth": 0,
             "ticks": ""
            },
            "colorscale": [
             [
              0,
              "#0d0887"
             ],
             [
              0.1111111111111111,
              "#46039f"
             ],
             [
              0.2222222222222222,
              "#7201a8"
             ],
             [
              0.3333333333333333,
              "#9c179e"
             ],
             [
              0.4444444444444444,
              "#bd3786"
             ],
             [
              0.5555555555555556,
              "#d8576b"
             ],
             [
              0.6666666666666666,
              "#ed7953"
             ],
             [
              0.7777777777777778,
              "#fb9f3a"
             ],
             [
              0.8888888888888888,
              "#fdca26"
             ],
             [
              1,
              "#f0f921"
             ]
            ],
            "type": "histogram2d"
           }
          ],
          "histogram2dcontour": [
           {
            "colorbar": {
             "outlinewidth": 0,
             "ticks": ""
            },
            "colorscale": [
             [
              0,
              "#0d0887"
             ],
             [
              0.1111111111111111,
              "#46039f"
             ],
             [
              0.2222222222222222,
              "#7201a8"
             ],
             [
              0.3333333333333333,
              "#9c179e"
             ],
             [
              0.4444444444444444,
              "#bd3786"
             ],
             [
              0.5555555555555556,
              "#d8576b"
             ],
             [
              0.6666666666666666,
              "#ed7953"
             ],
             [
              0.7777777777777778,
              "#fb9f3a"
             ],
             [
              0.8888888888888888,
              "#fdca26"
             ],
             [
              1,
              "#f0f921"
             ]
            ],
            "type": "histogram2dcontour"
           }
          ],
          "mesh3d": [
           {
            "colorbar": {
             "outlinewidth": 0,
             "ticks": ""
            },
            "type": "mesh3d"
           }
          ],
          "parcoords": [
           {
            "line": {
             "colorbar": {
              "outlinewidth": 0,
              "ticks": ""
             }
            },
            "type": "parcoords"
           }
          ],
          "pie": [
           {
            "automargin": true,
            "type": "pie"
           }
          ],
          "scatter": [
           {
            "fillpattern": {
             "fillmode": "overlay",
             "size": 10,
             "solidity": 0.2
            },
            "type": "scatter"
           }
          ],
          "scatter3d": [
           {
            "line": {
             "colorbar": {
              "outlinewidth": 0,
              "ticks": ""
             }
            },
            "marker": {
             "colorbar": {
              "outlinewidth": 0,
              "ticks": ""
             }
            },
            "type": "scatter3d"
           }
          ],
          "scattercarpet": [
           {
            "marker": {
             "colorbar": {
              "outlinewidth": 0,
              "ticks": ""
             }
            },
            "type": "scattercarpet"
           }
          ],
          "scattergeo": [
           {
            "marker": {
             "colorbar": {
              "outlinewidth": 0,
              "ticks": ""
             }
            },
            "type": "scattergeo"
           }
          ],
          "scattergl": [
           {
            "marker": {
             "colorbar": {
              "outlinewidth": 0,
              "ticks": ""
             }
            },
            "type": "scattergl"
           }
          ],
          "scattermapbox": [
           {
            "marker": {
             "colorbar": {
              "outlinewidth": 0,
              "ticks": ""
             }
            },
            "type": "scattermapbox"
           }
          ],
          "scatterpolar": [
           {
            "marker": {
             "colorbar": {
              "outlinewidth": 0,
              "ticks": ""
             }
            },
            "type": "scatterpolar"
           }
          ],
          "scatterpolargl": [
           {
            "marker": {
             "colorbar": {
              "outlinewidth": 0,
              "ticks": ""
             }
            },
            "type": "scatterpolargl"
           }
          ],
          "scatterternary": [
           {
            "marker": {
             "colorbar": {
              "outlinewidth": 0,
              "ticks": ""
             }
            },
            "type": "scatterternary"
           }
          ],
          "surface": [
           {
            "colorbar": {
             "outlinewidth": 0,
             "ticks": ""
            },
            "colorscale": [
             [
              0,
              "#0d0887"
             ],
             [
              0.1111111111111111,
              "#46039f"
             ],
             [
              0.2222222222222222,
              "#7201a8"
             ],
             [
              0.3333333333333333,
              "#9c179e"
             ],
             [
              0.4444444444444444,
              "#bd3786"
             ],
             [
              0.5555555555555556,
              "#d8576b"
             ],
             [
              0.6666666666666666,
              "#ed7953"
             ],
             [
              0.7777777777777778,
              "#fb9f3a"
             ],
             [
              0.8888888888888888,
              "#fdca26"
             ],
             [
              1,
              "#f0f921"
             ]
            ],
            "type": "surface"
           }
          ],
          "table": [
           {
            "cells": {
             "fill": {
              "color": "#EBF0F8"
             },
             "line": {
              "color": "white"
             }
            },
            "header": {
             "fill": {
              "color": "#C8D4E3"
             },
             "line": {
              "color": "white"
             }
            },
            "type": "table"
           }
          ]
         },
         "layout": {
          "annotationdefaults": {
           "arrowcolor": "#2a3f5f",
           "arrowhead": 0,
           "arrowwidth": 1
          },
          "autotypenumbers": "strict",
          "coloraxis": {
           "colorbar": {
            "outlinewidth": 0,
            "ticks": ""
           }
          },
          "colorscale": {
           "diverging": [
            [
             0,
             "#8e0152"
            ],
            [
             0.1,
             "#c51b7d"
            ],
            [
             0.2,
             "#de77ae"
            ],
            [
             0.3,
             "#f1b6da"
            ],
            [
             0.4,
             "#fde0ef"
            ],
            [
             0.5,
             "#f7f7f7"
            ],
            [
             0.6,
             "#e6f5d0"
            ],
            [
             0.7,
             "#b8e186"
            ],
            [
             0.8,
             "#7fbc41"
            ],
            [
             0.9,
             "#4d9221"
            ],
            [
             1,
             "#276419"
            ]
           ],
           "sequential": [
            [
             0,
             "#0d0887"
            ],
            [
             0.1111111111111111,
             "#46039f"
            ],
            [
             0.2222222222222222,
             "#7201a8"
            ],
            [
             0.3333333333333333,
             "#9c179e"
            ],
            [
             0.4444444444444444,
             "#bd3786"
            ],
            [
             0.5555555555555556,
             "#d8576b"
            ],
            [
             0.6666666666666666,
             "#ed7953"
            ],
            [
             0.7777777777777778,
             "#fb9f3a"
            ],
            [
             0.8888888888888888,
             "#fdca26"
            ],
            [
             1,
             "#f0f921"
            ]
           ],
           "sequentialminus": [
            [
             0,
             "#0d0887"
            ],
            [
             0.1111111111111111,
             "#46039f"
            ],
            [
             0.2222222222222222,
             "#7201a8"
            ],
            [
             0.3333333333333333,
             "#9c179e"
            ],
            [
             0.4444444444444444,
             "#bd3786"
            ],
            [
             0.5555555555555556,
             "#d8576b"
            ],
            [
             0.6666666666666666,
             "#ed7953"
            ],
            [
             0.7777777777777778,
             "#fb9f3a"
            ],
            [
             0.8888888888888888,
             "#fdca26"
            ],
            [
             1,
             "#f0f921"
            ]
           ]
          },
          "colorway": [
           "#636efa",
           "#EF553B",
           "#00cc96",
           "#ab63fa",
           "#FFA15A",
           "#19d3f3",
           "#FF6692",
           "#B6E880",
           "#FF97FF",
           "#FECB52"
          ],
          "font": {
           "color": "#2a3f5f"
          },
          "geo": {
           "bgcolor": "white",
           "lakecolor": "white",
           "landcolor": "#E5ECF6",
           "showlakes": true,
           "showland": true,
           "subunitcolor": "white"
          },
          "hoverlabel": {
           "align": "left"
          },
          "hovermode": "closest",
          "mapbox": {
           "style": "light"
          },
          "paper_bgcolor": "white",
          "plot_bgcolor": "#E5ECF6",
          "polar": {
           "angularaxis": {
            "gridcolor": "white",
            "linecolor": "white",
            "ticks": ""
           },
           "bgcolor": "#E5ECF6",
           "radialaxis": {
            "gridcolor": "white",
            "linecolor": "white",
            "ticks": ""
           }
          },
          "scene": {
           "xaxis": {
            "backgroundcolor": "#E5ECF6",
            "gridcolor": "white",
            "gridwidth": 2,
            "linecolor": "white",
            "showbackground": true,
            "ticks": "",
            "zerolinecolor": "white"
           },
           "yaxis": {
            "backgroundcolor": "#E5ECF6",
            "gridcolor": "white",
            "gridwidth": 2,
            "linecolor": "white",
            "showbackground": true,
            "ticks": "",
            "zerolinecolor": "white"
           },
           "zaxis": {
            "backgroundcolor": "#E5ECF6",
            "gridcolor": "white",
            "gridwidth": 2,
            "linecolor": "white",
            "showbackground": true,
            "ticks": "",
            "zerolinecolor": "white"
           }
          },
          "shapedefaults": {
           "line": {
            "color": "#2a3f5f"
           }
          },
          "ternary": {
           "aaxis": {
            "gridcolor": "white",
            "linecolor": "white",
            "ticks": ""
           },
           "baxis": {
            "gridcolor": "white",
            "linecolor": "white",
            "ticks": ""
           },
           "bgcolor": "#E5ECF6",
           "caxis": {
            "gridcolor": "white",
            "linecolor": "white",
            "ticks": ""
           }
          },
          "title": {
           "x": 0.05
          },
          "xaxis": {
           "automargin": true,
           "gridcolor": "white",
           "linecolor": "white",
           "ticks": "",
           "title": {
            "standoff": 15
           },
           "zerolinecolor": "white",
           "zerolinewidth": 2
          },
          "yaxis": {
           "automargin": true,
           "gridcolor": "white",
           "linecolor": "white",
           "ticks": "",
           "title": {
            "standoff": 15
           },
           "zerolinecolor": "white",
           "zerolinewidth": 2
          }
         }
        },
        "title": {
         "text": "Evolution du nombre de feux dans chaque Etat"
        },
        "updatemenus": [
         {
          "buttons": [
           {
            "args": [
             null,
             {
              "frame": {
               "duration": 500,
               "redraw": true
              },
              "fromcurrent": true,
              "mode": "immediate",
              "transition": {
               "duration": 500,
               "easing": "linear"
              }
             }
            ],
            "label": "&#9654;",
            "method": "animate"
           },
           {
            "args": [
             [
              null
             ],
             {
              "frame": {
               "duration": 0,
               "redraw": true
              },
              "fromcurrent": true,
              "mode": "immediate",
              "transition": {
               "duration": 0,
               "easing": "linear"
              }
             }
            ],
            "label": "&#9724;",
            "method": "animate"
           }
          ],
          "direction": "left",
          "pad": {
           "r": 10,
           "t": 70
          },
          "showactive": false,
          "type": "buttons",
          "x": 0.1,
          "xanchor": "right",
          "y": 0,
          "yanchor": "top"
         }
        ],
        "width": 1100
       }
      },
      "text/html": [
       "<div>                            <div id=\"74e26cd3-6e01-42f7-9ab8-a13d423ef2e3\" class=\"plotly-graph-div\" style=\"height:800px; width:1100px;\"></div>            <script type=\"text/javascript\">                require([\"plotly\"], function(Plotly) {                    window.PLOTLYENV=window.PLOTLYENV || {};                                    if (document.getElementById(\"74e26cd3-6e01-42f7-9ab8-a13d423ef2e3\")) {                    Plotly.newPlot(                        \"74e26cd3-6e01-42f7-9ab8-a13d423ef2e3\",                        [{\"coloraxis\":\"coloraxis\",\"customdata\":[[481],[93],[128],[3494],[10833],[1322],[202],[3],[4222],[6459],[77],[5],[2195],[18],[95],[16],[49],[87],[7],[12],[611],[614],[1620],[1680],[4478],[1642],[5696],[396],[25],[107],[1325],[977],[556],[364],[21],[1468],[3957],[17],[5195],[554],[55],[1168],[1092],[43],[1],[1774],[1287],[701]],\"featureidkey\":\"properties.name\",\"geojson\":\"us-states.json\",\"hovertemplate\":\"<b>%{hovertext}</b><br><br>Ann\\u00e9e=1992<br>Etat=%{location}<br>Nombre de feux=%{z}<extra></extra>\",\"hovertext\":[\"Alaska\",\"Alabama\",\"Arkansas\",\"Arizona\",\"California\",\"Colorado\",\"Connecticut\",\"Delaware\",\"Florida\",\"Georgia\",\"Hawaii\",\"Iowa\",\"Idaho\",\"Illinois\",\"Indiana\",\"Kansas\",\"Kentucky\",\"Louisiana\",\"Massachusetts\",\"Maryland\",\"Maine\",\"Michigan\",\"Minnesota\",\"Missouri\",\"Mississippi\",\"Montana\",\"North Carolina\",\"North Dakota\",\"Nebraska\",\"New Hampshire\",\"New Jersey\",\"New Mexico\",\"Nevada\",\"New York\",\"Ohio\",\"Oklahoma\",\"Oregon\",\"Pennsylvania\",\"South Carolina\",\"South Dakota\",\"Tennessee\",\"Texas\",\"Utah\",\"Virginia\",\"Vermont\",\"Washington\",\"Wisconsin\",\"West Virginia\"],\"locations\":[\"Alaska\",\"Alabama\",\"Arkansas\",\"Arizona\",\"California\",\"Colorado\",\"Connecticut\",\"Delaware\",\"Florida\",\"Georgia\",\"Hawaii\",\"Iowa\",\"Idaho\",\"Illinois\",\"Indiana\",\"Kansas\",\"Kentucky\",\"Louisiana\",\"Massachusetts\",\"Maryland\",\"Maine\",\"Michigan\",\"Minnesota\",\"Missouri\",\"Mississippi\",\"Montana\",\"North Carolina\",\"North Dakota\",\"Nebraska\",\"New Hampshire\",\"New Jersey\",\"New Mexico\",\"Nevada\",\"New York\",\"Ohio\",\"Oklahoma\",\"Oregon\",\"Pennsylvania\",\"South Carolina\",\"South Dakota\",\"Tennessee\",\"Texas\",\"Utah\",\"Virginia\",\"Vermont\",\"Washington\",\"Wisconsin\",\"West Virginia\"],\"marker\":{\"opacity\":0.75},\"name\":\"\",\"subplot\":\"mapbox\",\"z\":[481,93,128,3494,10833,1322,202,3,4222,6459,77,5,2195,18,95,16,49,87,7,12,611,614,1620,1680,4478,1642,5696,396,25,107,1325,977,556,364,21,1468,3957,17,5195,554,55,1168,1092,43,1,1774,1287,701],\"type\":\"choroplethmapbox\"}],                        {\"template\":{\"data\":{\"histogram2dcontour\":[{\"type\":\"histogram2dcontour\",\"colorbar\":{\"outlinewidth\":0,\"ticks\":\"\"},\"colorscale\":[[0.0,\"#0d0887\"],[0.1111111111111111,\"#46039f\"],[0.2222222222222222,\"#7201a8\"],[0.3333333333333333,\"#9c179e\"],[0.4444444444444444,\"#bd3786\"],[0.5555555555555556,\"#d8576b\"],[0.6666666666666666,\"#ed7953\"],[0.7777777777777778,\"#fb9f3a\"],[0.8888888888888888,\"#fdca26\"],[1.0,\"#f0f921\"]]}],\"choropleth\":[{\"type\":\"choropleth\",\"colorbar\":{\"outlinewidth\":0,\"ticks\":\"\"}}],\"histogram2d\":[{\"type\":\"histogram2d\",\"colorbar\":{\"outlinewidth\":0,\"ticks\":\"\"},\"colorscale\":[[0.0,\"#0d0887\"],[0.1111111111111111,\"#46039f\"],[0.2222222222222222,\"#7201a8\"],[0.3333333333333333,\"#9c179e\"],[0.4444444444444444,\"#bd3786\"],[0.5555555555555556,\"#d8576b\"],[0.6666666666666666,\"#ed7953\"],[0.7777777777777778,\"#fb9f3a\"],[0.8888888888888888,\"#fdca26\"],[1.0,\"#f0f921\"]]}],\"heatmap\":[{\"type\":\"heatmap\",\"colorbar\":{\"outlinewidth\":0,\"ticks\":\"\"},\"colorscale\":[[0.0,\"#0d0887\"],[0.1111111111111111,\"#46039f\"],[0.2222222222222222,\"#7201a8\"],[0.3333333333333333,\"#9c179e\"],[0.4444444444444444,\"#bd3786\"],[0.5555555555555556,\"#d8576b\"],[0.6666666666666666,\"#ed7953\"],[0.7777777777777778,\"#fb9f3a\"],[0.8888888888888888,\"#fdca26\"],[1.0,\"#f0f921\"]]}],\"heatmapgl\":[{\"type\":\"heatmapgl\",\"colorbar\":{\"outlinewidth\":0,\"ticks\":\"\"},\"colorscale\":[[0.0,\"#0d0887\"],[0.1111111111111111,\"#46039f\"],[0.2222222222222222,\"#7201a8\"],[0.3333333333333333,\"#9c179e\"],[0.4444444444444444,\"#bd3786\"],[0.5555555555555556,\"#d8576b\"],[0.6666666666666666,\"#ed7953\"],[0.7777777777777778,\"#fb9f3a\"],[0.8888888888888888,\"#fdca26\"],[1.0,\"#f0f921\"]]}],\"contourcarpet\":[{\"type\":\"contourcarpet\",\"colorbar\":{\"outlinewidth\":0,\"ticks\":\"\"}}],\"contour\":[{\"type\":\"contour\",\"colorbar\":{\"outlinewidth\":0,\"ticks\":\"\"},\"colorscale\":[[0.0,\"#0d0887\"],[0.1111111111111111,\"#46039f\"],[0.2222222222222222,\"#7201a8\"],[0.3333333333333333,\"#9c179e\"],[0.4444444444444444,\"#bd3786\"],[0.5555555555555556,\"#d8576b\"],[0.6666666666666666,\"#ed7953\"],[0.7777777777777778,\"#fb9f3a\"],[0.8888888888888888,\"#fdca26\"],[1.0,\"#f0f921\"]]}],\"surface\":[{\"type\":\"surface\",\"colorbar\":{\"outlinewidth\":0,\"ticks\":\"\"},\"colorscale\":[[0.0,\"#0d0887\"],[0.1111111111111111,\"#46039f\"],[0.2222222222222222,\"#7201a8\"],[0.3333333333333333,\"#9c179e\"],[0.4444444444444444,\"#bd3786\"],[0.5555555555555556,\"#d8576b\"],[0.6666666666666666,\"#ed7953\"],[0.7777777777777778,\"#fb9f3a\"],[0.8888888888888888,\"#fdca26\"],[1.0,\"#f0f921\"]]}],\"mesh3d\":[{\"type\":\"mesh3d\",\"colorbar\":{\"outlinewidth\":0,\"ticks\":\"\"}}],\"scatter\":[{\"fillpattern\":{\"fillmode\":\"overlay\",\"size\":10,\"solidity\":0.2},\"type\":\"scatter\"}],\"parcoords\":[{\"type\":\"parcoords\",\"line\":{\"colorbar\":{\"outlinewidth\":0,\"ticks\":\"\"}}}],\"scatterpolargl\":[{\"type\":\"scatterpolargl\",\"marker\":{\"colorbar\":{\"outlinewidth\":0,\"ticks\":\"\"}}}],\"bar\":[{\"error_x\":{\"color\":\"#2a3f5f\"},\"error_y\":{\"color\":\"#2a3f5f\"},\"marker\":{\"line\":{\"color\":\"#E5ECF6\",\"width\":0.5},\"pattern\":{\"fillmode\":\"overlay\",\"size\":10,\"solidity\":0.2}},\"type\":\"bar\"}],\"scattergeo\":[{\"type\":\"scattergeo\",\"marker\":{\"colorbar\":{\"outlinewidth\":0,\"ticks\":\"\"}}}],\"scatterpolar\":[{\"type\":\"scatterpolar\",\"marker\":{\"colorbar\":{\"outlinewidth\":0,\"ticks\":\"\"}}}],\"histogram\":[{\"marker\":{\"pattern\":{\"fillmode\":\"overlay\",\"size\":10,\"solidity\":0.2}},\"type\":\"histogram\"}],\"scattergl\":[{\"type\":\"scattergl\",\"marker\":{\"colorbar\":{\"outlinewidth\":0,\"ticks\":\"\"}}}],\"scatter3d\":[{\"type\":\"scatter3d\",\"line\":{\"colorbar\":{\"outlinewidth\":0,\"ticks\":\"\"}},\"marker\":{\"colorbar\":{\"outlinewidth\":0,\"ticks\":\"\"}}}],\"scattermapbox\":[{\"type\":\"scattermapbox\",\"marker\":{\"colorbar\":{\"outlinewidth\":0,\"ticks\":\"\"}}}],\"scatterternary\":[{\"type\":\"scatterternary\",\"marker\":{\"colorbar\":{\"outlinewidth\":0,\"ticks\":\"\"}}}],\"scattercarpet\":[{\"type\":\"scattercarpet\",\"marker\":{\"colorbar\":{\"outlinewidth\":0,\"ticks\":\"\"}}}],\"carpet\":[{\"aaxis\":{\"endlinecolor\":\"#2a3f5f\",\"gridcolor\":\"white\",\"linecolor\":\"white\",\"minorgridcolor\":\"white\",\"startlinecolor\":\"#2a3f5f\"},\"baxis\":{\"endlinecolor\":\"#2a3f5f\",\"gridcolor\":\"white\",\"linecolor\":\"white\",\"minorgridcolor\":\"white\",\"startlinecolor\":\"#2a3f5f\"},\"type\":\"carpet\"}],\"table\":[{\"cells\":{\"fill\":{\"color\":\"#EBF0F8\"},\"line\":{\"color\":\"white\"}},\"header\":{\"fill\":{\"color\":\"#C8D4E3\"},\"line\":{\"color\":\"white\"}},\"type\":\"table\"}],\"barpolar\":[{\"marker\":{\"line\":{\"color\":\"#E5ECF6\",\"width\":0.5},\"pattern\":{\"fillmode\":\"overlay\",\"size\":10,\"solidity\":0.2}},\"type\":\"barpolar\"}],\"pie\":[{\"automargin\":true,\"type\":\"pie\"}]},\"layout\":{\"autotypenumbers\":\"strict\",\"colorway\":[\"#636efa\",\"#EF553B\",\"#00cc96\",\"#ab63fa\",\"#FFA15A\",\"#19d3f3\",\"#FF6692\",\"#B6E880\",\"#FF97FF\",\"#FECB52\"],\"font\":{\"color\":\"#2a3f5f\"},\"hovermode\":\"closest\",\"hoverlabel\":{\"align\":\"left\"},\"paper_bgcolor\":\"white\",\"plot_bgcolor\":\"#E5ECF6\",\"polar\":{\"bgcolor\":\"#E5ECF6\",\"angularaxis\":{\"gridcolor\":\"white\",\"linecolor\":\"white\",\"ticks\":\"\"},\"radialaxis\":{\"gridcolor\":\"white\",\"linecolor\":\"white\",\"ticks\":\"\"}},\"ternary\":{\"bgcolor\":\"#E5ECF6\",\"aaxis\":{\"gridcolor\":\"white\",\"linecolor\":\"white\",\"ticks\":\"\"},\"baxis\":{\"gridcolor\":\"white\",\"linecolor\":\"white\",\"ticks\":\"\"},\"caxis\":{\"gridcolor\":\"white\",\"linecolor\":\"white\",\"ticks\":\"\"}},\"coloraxis\":{\"colorbar\":{\"outlinewidth\":0,\"ticks\":\"\"}},\"colorscale\":{\"sequential\":[[0.0,\"#0d0887\"],[0.1111111111111111,\"#46039f\"],[0.2222222222222222,\"#7201a8\"],[0.3333333333333333,\"#9c179e\"],[0.4444444444444444,\"#bd3786\"],[0.5555555555555556,\"#d8576b\"],[0.6666666666666666,\"#ed7953\"],[0.7777777777777778,\"#fb9f3a\"],[0.8888888888888888,\"#fdca26\"],[1.0,\"#f0f921\"]],\"sequentialminus\":[[0.0,\"#0d0887\"],[0.1111111111111111,\"#46039f\"],[0.2222222222222222,\"#7201a8\"],[0.3333333333333333,\"#9c179e\"],[0.4444444444444444,\"#bd3786\"],[0.5555555555555556,\"#d8576b\"],[0.6666666666666666,\"#ed7953\"],[0.7777777777777778,\"#fb9f3a\"],[0.8888888888888888,\"#fdca26\"],[1.0,\"#f0f921\"]],\"diverging\":[[0,\"#8e0152\"],[0.1,\"#c51b7d\"],[0.2,\"#de77ae\"],[0.3,\"#f1b6da\"],[0.4,\"#fde0ef\"],[0.5,\"#f7f7f7\"],[0.6,\"#e6f5d0\"],[0.7,\"#b8e186\"],[0.8,\"#7fbc41\"],[0.9,\"#4d9221\"],[1,\"#276419\"]]},\"xaxis\":{\"gridcolor\":\"white\",\"linecolor\":\"white\",\"ticks\":\"\",\"title\":{\"standoff\":15},\"zerolinecolor\":\"white\",\"automargin\":true,\"zerolinewidth\":2},\"yaxis\":{\"gridcolor\":\"white\",\"linecolor\":\"white\",\"ticks\":\"\",\"title\":{\"standoff\":15},\"zerolinecolor\":\"white\",\"automargin\":true,\"zerolinewidth\":2},\"scene\":{\"xaxis\":{\"backgroundcolor\":\"#E5ECF6\",\"gridcolor\":\"white\",\"linecolor\":\"white\",\"showbackground\":true,\"ticks\":\"\",\"zerolinecolor\":\"white\",\"gridwidth\":2},\"yaxis\":{\"backgroundcolor\":\"#E5ECF6\",\"gridcolor\":\"white\",\"linecolor\":\"white\",\"showbackground\":true,\"ticks\":\"\",\"zerolinecolor\":\"white\",\"gridwidth\":2},\"zaxis\":{\"backgroundcolor\":\"#E5ECF6\",\"gridcolor\":\"white\",\"linecolor\":\"white\",\"showbackground\":true,\"ticks\":\"\",\"zerolinecolor\":\"white\",\"gridwidth\":2}},\"shapedefaults\":{\"line\":{\"color\":\"#2a3f5f\"}},\"annotationdefaults\":{\"arrowcolor\":\"#2a3f5f\",\"arrowhead\":0,\"arrowwidth\":1},\"geo\":{\"bgcolor\":\"white\",\"landcolor\":\"#E5ECF6\",\"subunitcolor\":\"white\",\"showland\":true,\"showlakes\":true,\"lakecolor\":\"white\"},\"title\":{\"x\":0.05},\"mapbox\":{\"style\":\"light\"}}},\"mapbox\":{\"domain\":{\"x\":[0.0,1.0],\"y\":[0.0,1.0]},\"center\":{\"lat\":50,\"lon\":-110},\"zoom\":2,\"style\":\"carto-positron\"},\"coloraxis\":{\"colorbar\":{\"title\":{\"text\":\"Nombre de feux\"}},\"colorscale\":[[0.0,\"rgb(255,245,240)\"],[0.125,\"rgb(254,224,210)\"],[0.25,\"rgb(252,187,161)\"],[0.375,\"rgb(252,146,114)\"],[0.5,\"rgb(251,106,74)\"],[0.625,\"rgb(239,59,44)\"],[0.75,\"rgb(203,24,29)\"],[0.875,\"rgb(165,15,21)\"],[1.0,\"rgb(103,0,13)\"]]},\"legend\":{\"tracegroupgap\":0},\"title\":{\"text\":\"Evolution du nombre de feux dans chaque Etat\"},\"height\":800,\"width\":1100,\"updatemenus\":[{\"buttons\":[{\"args\":[null,{\"frame\":{\"duration\":500,\"redraw\":true},\"mode\":\"immediate\",\"fromcurrent\":true,\"transition\":{\"duration\":500,\"easing\":\"linear\"}}],\"label\":\"&#9654;\",\"method\":\"animate\"},{\"args\":[[null],{\"frame\":{\"duration\":0,\"redraw\":true},\"mode\":\"immediate\",\"fromcurrent\":true,\"transition\":{\"duration\":0,\"easing\":\"linear\"}}],\"label\":\"&#9724;\",\"method\":\"animate\"}],\"direction\":\"left\",\"pad\":{\"r\":10,\"t\":70},\"showactive\":false,\"type\":\"buttons\",\"x\":0.1,\"xanchor\":\"right\",\"y\":0,\"yanchor\":\"top\"}],\"sliders\":[{\"active\":0,\"currentvalue\":{\"prefix\":\"Ann\\u00e9e=\"},\"len\":0.9,\"pad\":{\"b\":10,\"t\":60},\"steps\":[{\"args\":[[\"1992\"],{\"frame\":{\"duration\":0,\"redraw\":true},\"mode\":\"immediate\",\"fromcurrent\":true,\"transition\":{\"duration\":0,\"easing\":\"linear\"}}],\"label\":\"1992\",\"method\":\"animate\"},{\"args\":[[\"1993\"],{\"frame\":{\"duration\":0,\"redraw\":true},\"mode\":\"immediate\",\"fromcurrent\":true,\"transition\":{\"duration\":0,\"easing\":\"linear\"}}],\"label\":\"1993\",\"method\":\"animate\"},{\"args\":[[\"1994\"],{\"frame\":{\"duration\":0,\"redraw\":true},\"mode\":\"immediate\",\"fromcurrent\":true,\"transition\":{\"duration\":0,\"easing\":\"linear\"}}],\"label\":\"1994\",\"method\":\"animate\"},{\"args\":[[\"1995\"],{\"frame\":{\"duration\":0,\"redraw\":true},\"mode\":\"immediate\",\"fromcurrent\":true,\"transition\":{\"duration\":0,\"easing\":\"linear\"}}],\"label\":\"1995\",\"method\":\"animate\"},{\"args\":[[\"1996\"],{\"frame\":{\"duration\":0,\"redraw\":true},\"mode\":\"immediate\",\"fromcurrent\":true,\"transition\":{\"duration\":0,\"easing\":\"linear\"}}],\"label\":\"1996\",\"method\":\"animate\"},{\"args\":[[\"1997\"],{\"frame\":{\"duration\":0,\"redraw\":true},\"mode\":\"immediate\",\"fromcurrent\":true,\"transition\":{\"duration\":0,\"easing\":\"linear\"}}],\"label\":\"1997\",\"method\":\"animate\"},{\"args\":[[\"1998\"],{\"frame\":{\"duration\":0,\"redraw\":true},\"mode\":\"immediate\",\"fromcurrent\":true,\"transition\":{\"duration\":0,\"easing\":\"linear\"}}],\"label\":\"1998\",\"method\":\"animate\"},{\"args\":[[\"1999\"],{\"frame\":{\"duration\":0,\"redraw\":true},\"mode\":\"immediate\",\"fromcurrent\":true,\"transition\":{\"duration\":0,\"easing\":\"linear\"}}],\"label\":\"1999\",\"method\":\"animate\"},{\"args\":[[\"2000\"],{\"frame\":{\"duration\":0,\"redraw\":true},\"mode\":\"immediate\",\"fromcurrent\":true,\"transition\":{\"duration\":0,\"easing\":\"linear\"}}],\"label\":\"2000\",\"method\":\"animate\"},{\"args\":[[\"2001\"],{\"frame\":{\"duration\":0,\"redraw\":true},\"mode\":\"immediate\",\"fromcurrent\":true,\"transition\":{\"duration\":0,\"easing\":\"linear\"}}],\"label\":\"2001\",\"method\":\"animate\"},{\"args\":[[\"2002\"],{\"frame\":{\"duration\":0,\"redraw\":true},\"mode\":\"immediate\",\"fromcurrent\":true,\"transition\":{\"duration\":0,\"easing\":\"linear\"}}],\"label\":\"2002\",\"method\":\"animate\"},{\"args\":[[\"2003\"],{\"frame\":{\"duration\":0,\"redraw\":true},\"mode\":\"immediate\",\"fromcurrent\":true,\"transition\":{\"duration\":0,\"easing\":\"linear\"}}],\"label\":\"2003\",\"method\":\"animate\"},{\"args\":[[\"2004\"],{\"frame\":{\"duration\":0,\"redraw\":true},\"mode\":\"immediate\",\"fromcurrent\":true,\"transition\":{\"duration\":0,\"easing\":\"linear\"}}],\"label\":\"2004\",\"method\":\"animate\"},{\"args\":[[\"2005\"],{\"frame\":{\"duration\":0,\"redraw\":true},\"mode\":\"immediate\",\"fromcurrent\":true,\"transition\":{\"duration\":0,\"easing\":\"linear\"}}],\"label\":\"2005\",\"method\":\"animate\"},{\"args\":[[\"2006\"],{\"frame\":{\"duration\":0,\"redraw\":true},\"mode\":\"immediate\",\"fromcurrent\":true,\"transition\":{\"duration\":0,\"easing\":\"linear\"}}],\"label\":\"2006\",\"method\":\"animate\"},{\"args\":[[\"2007\"],{\"frame\":{\"duration\":0,\"redraw\":true},\"mode\":\"immediate\",\"fromcurrent\":true,\"transition\":{\"duration\":0,\"easing\":\"linear\"}}],\"label\":\"2007\",\"method\":\"animate\"},{\"args\":[[\"2008\"],{\"frame\":{\"duration\":0,\"redraw\":true},\"mode\":\"immediate\",\"fromcurrent\":true,\"transition\":{\"duration\":0,\"easing\":\"linear\"}}],\"label\":\"2008\",\"method\":\"animate\"},{\"args\":[[\"2009\"],{\"frame\":{\"duration\":0,\"redraw\":true},\"mode\":\"immediate\",\"fromcurrent\":true,\"transition\":{\"duration\":0,\"easing\":\"linear\"}}],\"label\":\"2009\",\"method\":\"animate\"},{\"args\":[[\"2010\"],{\"frame\":{\"duration\":0,\"redraw\":true},\"mode\":\"immediate\",\"fromcurrent\":true,\"transition\":{\"duration\":0,\"easing\":\"linear\"}}],\"label\":\"2010\",\"method\":\"animate\"},{\"args\":[[\"2011\"],{\"frame\":{\"duration\":0,\"redraw\":true},\"mode\":\"immediate\",\"fromcurrent\":true,\"transition\":{\"duration\":0,\"easing\":\"linear\"}}],\"label\":\"2011\",\"method\":\"animate\"},{\"args\":[[\"2012\"],{\"frame\":{\"duration\":0,\"redraw\":true},\"mode\":\"immediate\",\"fromcurrent\":true,\"transition\":{\"duration\":0,\"easing\":\"linear\"}}],\"label\":\"2012\",\"method\":\"animate\"},{\"args\":[[\"2013\"],{\"frame\":{\"duration\":0,\"redraw\":true},\"mode\":\"immediate\",\"fromcurrent\":true,\"transition\":{\"duration\":0,\"easing\":\"linear\"}}],\"label\":\"2013\",\"method\":\"animate\"},{\"args\":[[\"2014\"],{\"frame\":{\"duration\":0,\"redraw\":true},\"mode\":\"immediate\",\"fromcurrent\":true,\"transition\":{\"duration\":0,\"easing\":\"linear\"}}],\"label\":\"2014\",\"method\":\"animate\"},{\"args\":[[\"2015\"],{\"frame\":{\"duration\":0,\"redraw\":true},\"mode\":\"immediate\",\"fromcurrent\":true,\"transition\":{\"duration\":0,\"easing\":\"linear\"}}],\"label\":\"2015\",\"method\":\"animate\"}],\"x\":0.1,\"xanchor\":\"left\",\"y\":0,\"yanchor\":\"top\"}]},                        {\"responsive\": true}                    ).then(function(){\n",
       "                            Plotly.addFrames('74e26cd3-6e01-42f7-9ab8-a13d423ef2e3', [{\"data\":[{\"coloraxis\":\"coloraxis\",\"customdata\":[[481],[93],[128],[3494],[10833],[1322],[202],[3],[4222],[6459],[77],[5],[2195],[18],[95],[16],[49],[87],[7],[12],[611],[614],[1620],[1680],[4478],[1642],[5696],[396],[25],[107],[1325],[977],[556],[364],[21],[1468],[3957],[17],[5195],[554],[55],[1168],[1092],[43],[1],[1774],[1287],[701]],\"featureidkey\":\"properties.name\",\"geojson\":\"us-states.json\",\"hovertemplate\":\"<b>%{hovertext}</b><br><br>Ann\\u00e9e=1992<br>Etat=%{location}<br>Nombre de feux=%{z}<extra></extra>\",\"hovertext\":[\"Alaska\",\"Alabama\",\"Arkansas\",\"Arizona\",\"California\",\"Colorado\",\"Connecticut\",\"Delaware\",\"Florida\",\"Georgia\",\"Hawaii\",\"Iowa\",\"Idaho\",\"Illinois\",\"Indiana\",\"Kansas\",\"Kentucky\",\"Louisiana\",\"Massachusetts\",\"Maryland\",\"Maine\",\"Michigan\",\"Minnesota\",\"Missouri\",\"Mississippi\",\"Montana\",\"North Carolina\",\"North Dakota\",\"Nebraska\",\"New Hampshire\",\"New Jersey\",\"New Mexico\",\"Nevada\",\"New York\",\"Ohio\",\"Oklahoma\",\"Oregon\",\"Pennsylvania\",\"South Carolina\",\"South Dakota\",\"Tennessee\",\"Texas\",\"Utah\",\"Virginia\",\"Vermont\",\"Washington\",\"Wisconsin\",\"West Virginia\"],\"locations\":[\"Alaska\",\"Alabama\",\"Arkansas\",\"Arizona\",\"California\",\"Colorado\",\"Connecticut\",\"Delaware\",\"Florida\",\"Georgia\",\"Hawaii\",\"Iowa\",\"Idaho\",\"Illinois\",\"Indiana\",\"Kansas\",\"Kentucky\",\"Louisiana\",\"Massachusetts\",\"Maryland\",\"Maine\",\"Michigan\",\"Minnesota\",\"Missouri\",\"Mississippi\",\"Montana\",\"North Carolina\",\"North Dakota\",\"Nebraska\",\"New Hampshire\",\"New Jersey\",\"New Mexico\",\"Nevada\",\"New York\",\"Ohio\",\"Oklahoma\",\"Oregon\",\"Pennsylvania\",\"South Carolina\",\"South Dakota\",\"Tennessee\",\"Texas\",\"Utah\",\"Virginia\",\"Vermont\",\"Washington\",\"Wisconsin\",\"West Virginia\"],\"marker\":{\"opacity\":0.75},\"name\":\"\",\"subplot\":\"mapbox\",\"z\":[481,93,128,3494,10833,1322,202,3,4222,6459,77,5,2195,18,95,16,49,87,7,12,611,614,1620,1680,4478,1642,5696,396,25,107,1325,977,556,364,21,1468,3957,17,5195,554,55,1168,1092,43,1,1774,1287,701],\"type\":\"choroplethmapbox\"}],\"name\":\"1992\"},{\"data\":[{\"coloraxis\":\"coloraxis\",\"customdata\":[[861],[137],[151],[4639],[8270],[1244],[103],[1],[4548],[9111],[14],[6],[698],[5],[56],[14],[81],[127],[4],[11],[672],[262],[1363],[907],[4015],[743],[4808],[386],[17],[142],[842],[1809],[443],[304],[18],[2300],[1852],[19],[5287],[438],[65],[1457],[710],[54],[1],[986],[884],[847]],\"featureidkey\":\"properties.name\",\"geojson\":\"us-states.json\",\"hovertemplate\":\"<b>%{hovertext}</b><br><br>Ann\\u00e9e=1993<br>Etat=%{location}<br>Nombre de feux=%{z}<extra></extra>\",\"hovertext\":[\"Alaska\",\"Alabama\",\"Arkansas\",\"Arizona\",\"California\",\"Colorado\",\"Connecticut\",\"Delaware\",\"Florida\",\"Georgia\",\"Hawaii\",\"Iowa\",\"Idaho\",\"Illinois\",\"Indiana\",\"Kansas\",\"Kentucky\",\"Louisiana\",\"Massachusetts\",\"Maryland\",\"Maine\",\"Michigan\",\"Minnesota\",\"Missouri\",\"Mississippi\",\"Montana\",\"North Carolina\",\"North Dakota\",\"Nebraska\",\"New Hampshire\",\"New Jersey\",\"New Mexico\",\"Nevada\",\"New York\",\"Ohio\",\"Oklahoma\",\"Oregon\",\"Pennsylvania\",\"South Carolina\",\"South Dakota\",\"Tennessee\",\"Texas\",\"Utah\",\"Virginia\",\"Vermont\",\"Washington\",\"Wisconsin\",\"West Virginia\"],\"locations\":[\"Alaska\",\"Alabama\",\"Arkansas\",\"Arizona\",\"California\",\"Colorado\",\"Connecticut\",\"Delaware\",\"Florida\",\"Georgia\",\"Hawaii\",\"Iowa\",\"Idaho\",\"Illinois\",\"Indiana\",\"Kansas\",\"Kentucky\",\"Louisiana\",\"Massachusetts\",\"Maryland\",\"Maine\",\"Michigan\",\"Minnesota\",\"Missouri\",\"Mississippi\",\"Montana\",\"North Carolina\",\"North Dakota\",\"Nebraska\",\"New Hampshire\",\"New Jersey\",\"New Mexico\",\"Nevada\",\"New York\",\"Ohio\",\"Oklahoma\",\"Oregon\",\"Pennsylvania\",\"South Carolina\",\"South Dakota\",\"Tennessee\",\"Texas\",\"Utah\",\"Virginia\",\"Vermont\",\"Washington\",\"Wisconsin\",\"West Virginia\"],\"marker\":{\"opacity\":0.75},\"name\":\"\",\"subplot\":\"mapbox\",\"z\":[861,137,151,4639,8270,1244,103,1,4548,9111,14,6,698,5,56,14,81,127,4,11,672,262,1363,907,4015,743,4808,386,17,142,842,1809,443,304,18,2300,1852,19,5287,438,65,1457,710,54,1,986,884,847],\"type\":\"choroplethmapbox\"}],\"name\":\"1993\"},{\"data\":[{\"coloraxis\":\"coloraxis\",\"customdata\":[[640],[3452],[167],[4519],[8654],[2515],[290],[2],[3530],[6584],[9],[5],[3336],[27],[85],[47],[178],[111],[1],[16],[541],[644],[1904],[1607],[3356],[2984],[5739],[501],[80],[133],[1326],[2668],[710],[129],[28],[1913],[3473],[20],[1],[4489],[882],[73],[907],[1663],[78],[6],[2022],[1973],[1010]],\"featureidkey\":\"properties.name\",\"geojson\":\"us-states.json\",\"hovertemplate\":\"<b>%{hovertext}</b><br><br>Ann\\u00e9e=1994<br>Etat=%{location}<br>Nombre de feux=%{z}<extra></extra>\",\"hovertext\":[\"Alaska\",\"Alabama\",\"Arkansas\",\"Arizona\",\"California\",\"Colorado\",\"Connecticut\",\"Delaware\",\"Florida\",\"Georgia\",\"Hawaii\",\"Iowa\",\"Idaho\",\"Illinois\",\"Indiana\",\"Kansas\",\"Kentucky\",\"Louisiana\",\"Massachusetts\",\"Maryland\",\"Maine\",\"Michigan\",\"Minnesota\",\"Missouri\",\"Mississippi\",\"Montana\",\"North Carolina\",\"North Dakota\",\"Nebraska\",\"New Hampshire\",\"New Jersey\",\"New Mexico\",\"Nevada\",\"New York\",\"Ohio\",\"Oklahoma\",\"Oregon\",\"Pennsylvania\",\"Rhode Island\",\"South Carolina\",\"South Dakota\",\"Tennessee\",\"Texas\",\"Utah\",\"Virginia\",\"Vermont\",\"Washington\",\"Wisconsin\",\"West Virginia\"],\"locations\":[\"Alaska\",\"Alabama\",\"Arkansas\",\"Arizona\",\"California\",\"Colorado\",\"Connecticut\",\"Delaware\",\"Florida\",\"Georgia\",\"Hawaii\",\"Iowa\",\"Idaho\",\"Illinois\",\"Indiana\",\"Kansas\",\"Kentucky\",\"Louisiana\",\"Massachusetts\",\"Maryland\",\"Maine\",\"Michigan\",\"Minnesota\",\"Missouri\",\"Mississippi\",\"Montana\",\"North Carolina\",\"North Dakota\",\"Nebraska\",\"New Hampshire\",\"New Jersey\",\"New Mexico\",\"Nevada\",\"New York\",\"Ohio\",\"Oklahoma\",\"Oregon\",\"Pennsylvania\",\"Rhode Island\",\"South Carolina\",\"South Dakota\",\"Tennessee\",\"Texas\",\"Utah\",\"Virginia\",\"Vermont\",\"Washington\",\"Wisconsin\",\"West Virginia\"],\"marker\":{\"opacity\":0.75},\"name\":\"\",\"subplot\":\"mapbox\",\"z\":[640,3452,167,4519,8654,2515,290,2,3530,6584,9,5,3336,27,85,47,178,111,1,16,541,644,1904,1607,3356,2984,5739,501,80,133,1326,2668,710,129,28,1913,3473,20,1,4489,882,73,907,1663,78,6,2022,1973,1010],\"type\":\"choroplethmapbox\"}],\"name\":\"1994\"},{\"data\":[{\"coloraxis\":\"coloraxis\",\"customdata\":[[418],[4230],[240],[4502],[7381],[1517],[110],[5],[3186],[7968],[10],[6],[1433],[47],[101],[30],[180],[139],[15],[32],[963],[627],[1731],[2060],[4992],[1052],[5253],[272],[56],[195],[1817],[1665],[545],[487],[47],[2603],[2264],[22],[3520],[665],[106],[1648],[1151],[1550],[2],[1213],[1640],[1241]],\"featureidkey\":\"properties.name\",\"geojson\":\"us-states.json\",\"hovertemplate\":\"<b>%{hovertext}</b><br><br>Ann\\u00e9e=1995<br>Etat=%{location}<br>Nombre de feux=%{z}<extra></extra>\",\"hovertext\":[\"Alaska\",\"Alabama\",\"Arkansas\",\"Arizona\",\"California\",\"Colorado\",\"Connecticut\",\"Delaware\",\"Florida\",\"Georgia\",\"Hawaii\",\"Iowa\",\"Idaho\",\"Illinois\",\"Indiana\",\"Kansas\",\"Kentucky\",\"Louisiana\",\"Massachusetts\",\"Maryland\",\"Maine\",\"Michigan\",\"Minnesota\",\"Missouri\",\"Mississippi\",\"Montana\",\"North Carolina\",\"North Dakota\",\"Nebraska\",\"New Hampshire\",\"New Jersey\",\"New Mexico\",\"Nevada\",\"New York\",\"Ohio\",\"Oklahoma\",\"Oregon\",\"Pennsylvania\",\"South Carolina\",\"South Dakota\",\"Tennessee\",\"Texas\",\"Utah\",\"Virginia\",\"Vermont\",\"Washington\",\"Wisconsin\",\"West Virginia\"],\"locations\":[\"Alaska\",\"Alabama\",\"Arkansas\",\"Arizona\",\"California\",\"Colorado\",\"Connecticut\",\"Delaware\",\"Florida\",\"Georgia\",\"Hawaii\",\"Iowa\",\"Idaho\",\"Illinois\",\"Indiana\",\"Kansas\",\"Kentucky\",\"Louisiana\",\"Massachusetts\",\"Maryland\",\"Maine\",\"Michigan\",\"Minnesota\",\"Missouri\",\"Mississippi\",\"Montana\",\"North Carolina\",\"North Dakota\",\"Nebraska\",\"New Hampshire\",\"New Jersey\",\"New Mexico\",\"Nevada\",\"New York\",\"Ohio\",\"Oklahoma\",\"Oregon\",\"Pennsylvania\",\"South Carolina\",\"South Dakota\",\"Tennessee\",\"Texas\",\"Utah\",\"Virginia\",\"Vermont\",\"Washington\",\"Wisconsin\",\"West Virginia\"],\"marker\":{\"opacity\":0.75},\"name\":\"\",\"subplot\":\"mapbox\",\"z\":[418,4230,240,4502,7381,1517,110,5,3186,7968,10,6,1433,47,101,30,180,139,15,32,963,627,1731,2060,4992,1052,5253,272,56,195,1817,1665,545,487,47,2603,2264,22,3520,665,106,1648,1151,1550,2,1213,1640,1241],\"type\":\"choroplethmapbox\"}],\"name\":\"1995\"},{\"data\":[{\"coloraxis\":\"coloraxis\",\"customdata\":[[718],[4048],[224],[3761],[9173],[1405],[27],[4697],[9872],[8],[28],[1974],[21],[88],[30],[72],[157],[4],[17],[315],[386],[1752],[443],[4923],[1993],[4238],[527],[59],[83],[768],[2101],[1088],[107],[9],[2689],[2875],[12],[4414],[839],[56],[2843],[1666],[824],[1091],[1463],[651]],\"featureidkey\":\"properties.name\",\"geojson\":\"us-states.json\",\"hovertemplate\":\"<b>%{hovertext}</b><br><br>Ann\\u00e9e=1996<br>Etat=%{location}<br>Nombre de feux=%{z}<extra></extra>\",\"hovertext\":[\"Alaska\",\"Alabama\",\"Arkansas\",\"Arizona\",\"California\",\"Colorado\",\"Connecticut\",\"Florida\",\"Georgia\",\"Hawaii\",\"Iowa\",\"Idaho\",\"Illinois\",\"Indiana\",\"Kansas\",\"Kentucky\",\"Louisiana\",\"Massachusetts\",\"Maryland\",\"Maine\",\"Michigan\",\"Minnesota\",\"Missouri\",\"Mississippi\",\"Montana\",\"North Carolina\",\"North Dakota\",\"Nebraska\",\"New Hampshire\",\"New Jersey\",\"New Mexico\",\"Nevada\",\"New York\",\"Ohio\",\"Oklahoma\",\"Oregon\",\"Pennsylvania\",\"South Carolina\",\"South Dakota\",\"Tennessee\",\"Texas\",\"Utah\",\"Virginia\",\"Washington\",\"Wisconsin\",\"West Virginia\"],\"locations\":[\"Alaska\",\"Alabama\",\"Arkansas\",\"Arizona\",\"California\",\"Colorado\",\"Connecticut\",\"Florida\",\"Georgia\",\"Hawaii\",\"Iowa\",\"Idaho\",\"Illinois\",\"Indiana\",\"Kansas\",\"Kentucky\",\"Louisiana\",\"Massachusetts\",\"Maryland\",\"Maine\",\"Michigan\",\"Minnesota\",\"Missouri\",\"Mississippi\",\"Montana\",\"North Carolina\",\"North Dakota\",\"Nebraska\",\"New Hampshire\",\"New Jersey\",\"New Mexico\",\"Nevada\",\"New York\",\"Ohio\",\"Oklahoma\",\"Oregon\",\"Pennsylvania\",\"South Carolina\",\"South Dakota\",\"Tennessee\",\"Texas\",\"Utah\",\"Virginia\",\"Washington\",\"Wisconsin\",\"West Virginia\"],\"marker\":{\"opacity\":0.75},\"name\":\"\",\"subplot\":\"mapbox\",\"z\":[718,4048,224,3761,9173,1405,27,4697,9872,8,28,1974,21,88,30,72,157,4,17,315,386,1752,443,4923,1993,4238,527,59,83,768,2101,1088,107,9,2689,2875,12,4414,839,56,2843,1666,824,1091,1463,651],\"type\":\"choroplethmapbox\"}],\"name\":\"1996\"},{\"data\":[{\"coloraxis\":\"coloraxis\",\"customdata\":[[721],[2591],[1040],[2250],[7930],[722],[83],[5],[3912],[7234],[12],[10],[1130],[10],[36],[22],[675],[1361],[11],[19],[585],[118],[2528],[1314],[2783],[993],[4512],[453],[57],[85],[1383],[1380],[595],[365],[22],[914],[2142],[12],[3070],[607],[1394],[770],[862],[1133],[2],[999],[1675],[719]],\"featureidkey\":\"properties.name\",\"geojson\":\"us-states.json\",\"hovertemplate\":\"<b>%{hovertext}</b><br><br>Ann\\u00e9e=1997<br>Etat=%{location}<br>Nombre de feux=%{z}<extra></extra>\",\"hovertext\":[\"Alaska\",\"Alabama\",\"Arkansas\",\"Arizona\",\"California\",\"Colorado\",\"Connecticut\",\"Delaware\",\"Florida\",\"Georgia\",\"Hawaii\",\"Iowa\",\"Idaho\",\"Illinois\",\"Indiana\",\"Kansas\",\"Kentucky\",\"Louisiana\",\"Massachusetts\",\"Maryland\",\"Maine\",\"Michigan\",\"Minnesota\",\"Missouri\",\"Mississippi\",\"Montana\",\"North Carolina\",\"North Dakota\",\"Nebraska\",\"New Hampshire\",\"New Jersey\",\"New Mexico\",\"Nevada\",\"New York\",\"Ohio\",\"Oklahoma\",\"Oregon\",\"Pennsylvania\",\"South Carolina\",\"South Dakota\",\"Tennessee\",\"Texas\",\"Utah\",\"Virginia\",\"Vermont\",\"Washington\",\"Wisconsin\",\"West Virginia\"],\"locations\":[\"Alaska\",\"Alabama\",\"Arkansas\",\"Arizona\",\"California\",\"Colorado\",\"Connecticut\",\"Delaware\",\"Florida\",\"Georgia\",\"Hawaii\",\"Iowa\",\"Idaho\",\"Illinois\",\"Indiana\",\"Kansas\",\"Kentucky\",\"Louisiana\",\"Massachusetts\",\"Maryland\",\"Maine\",\"Michigan\",\"Minnesota\",\"Missouri\",\"Mississippi\",\"Montana\",\"North Carolina\",\"North Dakota\",\"Nebraska\",\"New Hampshire\",\"New Jersey\",\"New Mexico\",\"Nevada\",\"New York\",\"Ohio\",\"Oklahoma\",\"Oregon\",\"Pennsylvania\",\"South Carolina\",\"South Dakota\",\"Tennessee\",\"Texas\",\"Utah\",\"Virginia\",\"Vermont\",\"Washington\",\"Wisconsin\",\"West Virginia\"],\"marker\":{\"opacity\":0.75},\"name\":\"\",\"subplot\":\"mapbox\",\"z\":[721,2591,1040,2250,7930,722,83,5,3912,7234,12,10,1130,10,36,22,675,1361,11,19,585,118,2528,1314,2783,993,4512,453,57,85,1383,1380,595,365,22,914,2142,12,3070,607,1394,770,862,1133,2,999,1675,719],\"type\":\"choroplethmapbox\"}],\"name\":\"1997\"},{\"data\":[{\"coloraxis\":\"coloraxis\",\"customdata\":[[408],[3566],[1156],[2679],[6864],[765],[30],[4813],[7301],[26],[3],[1758],[22],[57],[31],[957],[2283],[1],[17],[580],[170],[2474],[521],[3424],[1909],[4324],[492],[43],[171],[1312],[1294],[638],[310],[27],[816],[2575],[18],[3508],[816],[1836],[2026],[873],[1168],[2],[1477],[1611],[1006]],\"featureidkey\":\"properties.name\",\"geojson\":\"us-states.json\",\"hovertemplate\":\"<b>%{hovertext}</b><br><br>Ann\\u00e9e=1998<br>Etat=%{location}<br>Nombre de feux=%{z}<extra></extra>\",\"hovertext\":[\"Alaska\",\"Alabama\",\"Arkansas\",\"Arizona\",\"California\",\"Colorado\",\"Connecticut\",\"Florida\",\"Georgia\",\"Hawaii\",\"Iowa\",\"Idaho\",\"Illinois\",\"Indiana\",\"Kansas\",\"Kentucky\",\"Louisiana\",\"Massachusetts\",\"Maryland\",\"Maine\",\"Michigan\",\"Minnesota\",\"Missouri\",\"Mississippi\",\"Montana\",\"North Carolina\",\"North Dakota\",\"Nebraska\",\"New Hampshire\",\"New Jersey\",\"New Mexico\",\"Nevada\",\"New York\",\"Ohio\",\"Oklahoma\",\"Oregon\",\"Pennsylvania\",\"South Carolina\",\"South Dakota\",\"Tennessee\",\"Texas\",\"Utah\",\"Virginia\",\"Vermont\",\"Washington\",\"Wisconsin\",\"West Virginia\"],\"locations\":[\"Alaska\",\"Alabama\",\"Arkansas\",\"Arizona\",\"California\",\"Colorado\",\"Connecticut\",\"Florida\",\"Georgia\",\"Hawaii\",\"Iowa\",\"Idaho\",\"Illinois\",\"Indiana\",\"Kansas\",\"Kentucky\",\"Louisiana\",\"Massachusetts\",\"Maryland\",\"Maine\",\"Michigan\",\"Minnesota\",\"Missouri\",\"Mississippi\",\"Montana\",\"North Carolina\",\"North Dakota\",\"Nebraska\",\"New Hampshire\",\"New Jersey\",\"New Mexico\",\"Nevada\",\"New York\",\"Ohio\",\"Oklahoma\",\"Oregon\",\"Pennsylvania\",\"South Carolina\",\"South Dakota\",\"Tennessee\",\"Texas\",\"Utah\",\"Virginia\",\"Vermont\",\"Washington\",\"Wisconsin\",\"West Virginia\"],\"marker\":{\"opacity\":0.75},\"name\":\"\",\"subplot\":\"mapbox\",\"z\":[408,3566,1156,2679,6864,765,30,4813,7301,26,3,1758,22,57,31,957,2283,1,17,580,170,2474,521,3424,1909,4324,492,43,171,1312,1294,638,310,27,816,2575,18,3508,816,1836,2026,873,1168,2,1477,1611,1006],\"type\":\"choroplethmapbox\"}],\"name\":\"1998\"},{\"data\":[{\"coloraxis\":\"coloraxis\",\"customdata\":[[482],[4501],[2224],[2736],[8910],[756],[297],[2],[5484],[11138],[9],[20],[1916],[53],[151],[36],[1879],[2788],[7],[34],[681],[150],[2113],[1204],[5436],[2089],[4041],[506],[75],[5],[1758],[1231],[1047],[711],[40],[1665],[2927],[30],[5384],[1409],[3454],[1775],[1282],[1583],[3],[1475],[1604],[1949]],\"featureidkey\":\"properties.name\",\"geojson\":\"us-states.json\",\"hovertemplate\":\"<b>%{hovertext}</b><br><br>Ann\\u00e9e=1999<br>Etat=%{location}<br>Nombre de feux=%{z}<extra></extra>\",\"hovertext\":[\"Alaska\",\"Alabama\",\"Arkansas\",\"Arizona\",\"California\",\"Colorado\",\"Connecticut\",\"Delaware\",\"Florida\",\"Georgia\",\"Hawaii\",\"Iowa\",\"Idaho\",\"Illinois\",\"Indiana\",\"Kansas\",\"Kentucky\",\"Louisiana\",\"Massachusetts\",\"Maryland\",\"Maine\",\"Michigan\",\"Minnesota\",\"Missouri\",\"Mississippi\",\"Montana\",\"North Carolina\",\"North Dakota\",\"Nebraska\",\"New Hampshire\",\"New Jersey\",\"New Mexico\",\"Nevada\",\"New York\",\"Ohio\",\"Oklahoma\",\"Oregon\",\"Pennsylvania\",\"South Carolina\",\"South Dakota\",\"Tennessee\",\"Texas\",\"Utah\",\"Virginia\",\"Vermont\",\"Washington\",\"Wisconsin\",\"West Virginia\"],\"locations\":[\"Alaska\",\"Alabama\",\"Arkansas\",\"Arizona\",\"California\",\"Colorado\",\"Connecticut\",\"Delaware\",\"Florida\",\"Georgia\",\"Hawaii\",\"Iowa\",\"Idaho\",\"Illinois\",\"Indiana\",\"Kansas\",\"Kentucky\",\"Louisiana\",\"Massachusetts\",\"Maryland\",\"Maine\",\"Michigan\",\"Minnesota\",\"Missouri\",\"Mississippi\",\"Montana\",\"North Carolina\",\"North Dakota\",\"Nebraska\",\"New Hampshire\",\"New Jersey\",\"New Mexico\",\"Nevada\",\"New York\",\"Ohio\",\"Oklahoma\",\"Oregon\",\"Pennsylvania\",\"South Carolina\",\"South Dakota\",\"Tennessee\",\"Texas\",\"Utah\",\"Virginia\",\"Vermont\",\"Washington\",\"Wisconsin\",\"West Virginia\"],\"marker\":{\"opacity\":0.75},\"name\":\"\",\"subplot\":\"mapbox\",\"z\":[482,4501,2224,2736,8910,756,297,2,5484,11138,9,20,1916,53,151,36,1879,2788,7,34,681,150,2113,1204,5436,2089,4041,506,75,5,1758,1231,1047,711,40,1665,2927,30,5384,1409,3454,1775,1282,1583,3,1475,1604,1949],\"type\":\"choroplethmapbox\"}],\"name\":\"1999\"},{\"data\":[{\"coloraxis\":\"coloraxis\",\"customdata\":[[364],[6264],[2363],[3859],[6977],[1619],[126],[1],[6499],[10549],[13],[19],[1749],[29],[92],[48],[1587],[4234],[3],[14],[346],[115],[2631],[673],[7984],[2428],[4987],[627],[114],[87],[972],[2794],[977],[1756],[28],[1643],[1938],[14],[4995],[2271],[2674],[2627],[1857],[988],[1226],[1578],[1106]],\"featureidkey\":\"properties.name\",\"geojson\":\"us-states.json\",\"hovertemplate\":\"<b>%{hovertext}</b><br><br>Ann\\u00e9e=2000<br>Etat=%{location}<br>Nombre de feux=%{z}<extra></extra>\",\"hovertext\":[\"Alaska\",\"Alabama\",\"Arkansas\",\"Arizona\",\"California\",\"Colorado\",\"Connecticut\",\"Delaware\",\"Florida\",\"Georgia\",\"Hawaii\",\"Iowa\",\"Idaho\",\"Illinois\",\"Indiana\",\"Kansas\",\"Kentucky\",\"Louisiana\",\"Massachusetts\",\"Maryland\",\"Maine\",\"Michigan\",\"Minnesota\",\"Missouri\",\"Mississippi\",\"Montana\",\"North Carolina\",\"North Dakota\",\"Nebraska\",\"New Hampshire\",\"New Jersey\",\"New Mexico\",\"Nevada\",\"New York\",\"Ohio\",\"Oklahoma\",\"Oregon\",\"Pennsylvania\",\"South Carolina\",\"South Dakota\",\"Tennessee\",\"Texas\",\"Utah\",\"Virginia\",\"Washington\",\"Wisconsin\",\"West Virginia\"],\"locations\":[\"Alaska\",\"Alabama\",\"Arkansas\",\"Arizona\",\"California\",\"Colorado\",\"Connecticut\",\"Delaware\",\"Florida\",\"Georgia\",\"Hawaii\",\"Iowa\",\"Idaho\",\"Illinois\",\"Indiana\",\"Kansas\",\"Kentucky\",\"Louisiana\",\"Massachusetts\",\"Maryland\",\"Maine\",\"Michigan\",\"Minnesota\",\"Missouri\",\"Mississippi\",\"Montana\",\"North Carolina\",\"North Dakota\",\"Nebraska\",\"New Hampshire\",\"New Jersey\",\"New Mexico\",\"Nevada\",\"New York\",\"Ohio\",\"Oklahoma\",\"Oregon\",\"Pennsylvania\",\"South Carolina\",\"South Dakota\",\"Tennessee\",\"Texas\",\"Utah\",\"Virginia\",\"Washington\",\"Wisconsin\",\"West Virginia\"],\"marker\":{\"opacity\":0.75},\"name\":\"\",\"subplot\":\"mapbox\",\"z\":[364,6264,2363,3859,6977,1619,126,1,6499,10549,13,19,1749,29,92,48,1587,4234,3,14,346,115,2631,673,7984,2428,4987,627,114,87,972,2794,977,1756,28,1643,1938,14,4995,2271,2674,2627,1857,988,1226,1578,1106],\"type\":\"choroplethmapbox\"}],\"name\":\"2000\"},{\"data\":[{\"coloraxis\":\"coloraxis\",\"customdata\":[[361],[3309],[1266],[3186],[8182],[1266],[207],[1],[4887],[9572],[566],[10],[1683],[45],[140],[69],[2061],[976],[17],[22],[963],[424],[1327],[884],[2888],[1603],[8143],[553],[77],[124],[1571],[1701],[1118],[3262],[86],[1290],[3368],[35],[6225],[1338],[2521],[771],[1775],[2101],[1158],[993],[1789]],\"featureidkey\":\"properties.name\",\"geojson\":\"us-states.json\",\"hovertemplate\":\"<b>%{hovertext}</b><br><br>Ann\\u00e9e=2001<br>Etat=%{location}<br>Nombre de feux=%{z}<extra></extra>\",\"hovertext\":[\"Alaska\",\"Alabama\",\"Arkansas\",\"Arizona\",\"California\",\"Colorado\",\"Connecticut\",\"Delaware\",\"Florida\",\"Georgia\",\"Hawaii\",\"Iowa\",\"Idaho\",\"Illinois\",\"Indiana\",\"Kansas\",\"Kentucky\",\"Louisiana\",\"Massachusetts\",\"Maryland\",\"Maine\",\"Michigan\",\"Minnesota\",\"Missouri\",\"Mississippi\",\"Montana\",\"North Carolina\",\"North Dakota\",\"Nebraska\",\"New Hampshire\",\"New Jersey\",\"New Mexico\",\"Nevada\",\"New York\",\"Ohio\",\"Oklahoma\",\"Oregon\",\"Pennsylvania\",\"South Carolina\",\"South Dakota\",\"Tennessee\",\"Texas\",\"Utah\",\"Virginia\",\"Washington\",\"Wisconsin\",\"West Virginia\"],\"locations\":[\"Alaska\",\"Alabama\",\"Arkansas\",\"Arizona\",\"California\",\"Colorado\",\"Connecticut\",\"Delaware\",\"Florida\",\"Georgia\",\"Hawaii\",\"Iowa\",\"Idaho\",\"Illinois\",\"Indiana\",\"Kansas\",\"Kentucky\",\"Louisiana\",\"Massachusetts\",\"Maryland\",\"Maine\",\"Michigan\",\"Minnesota\",\"Missouri\",\"Mississippi\",\"Montana\",\"North Carolina\",\"North Dakota\",\"Nebraska\",\"New Hampshire\",\"New Jersey\",\"New Mexico\",\"Nevada\",\"New York\",\"Ohio\",\"Oklahoma\",\"Oregon\",\"Pennsylvania\",\"South Carolina\",\"South Dakota\",\"Tennessee\",\"Texas\",\"Utah\",\"Virginia\",\"Washington\",\"Wisconsin\",\"West Virginia\"],\"marker\":{\"opacity\":0.75},\"name\":\"\",\"subplot\":\"mapbox\",\"z\":[361,3309,1266,3186,8182,1266,207,1,4887,9572,566,10,1683,45,140,69,2061,976,17,22,963,424,1327,884,2888,1603,8143,553,77,124,1571,1701,1118,3262,86,1290,3368,35,6225,1338,2521,771,1775,2101,1158,993,1789],\"type\":\"choroplethmapbox\"}],\"name\":\"2001\"},{\"data\":[{\"coloraxis\":\"coloraxis\",\"customdata\":[[538],[2926],[1001],[2918],[7133],[1221],[107],[39],[3131],[7804],[576],[51],[1511],[43],[123],[128],[1050],[1481],[115],[14],[664],[308],[2039],[670],[2832],[1597],[5590],[907],[183],[116],[1419],[2077],[649],[3512],[142],[1535],[2759],[628],[4683],[1962],[1485],[1229],[1143],[1572],[6],[1418],[949],[1000]],\"featureidkey\":\"properties.name\",\"geojson\":\"us-states.json\",\"hovertemplate\":\"<b>%{hovertext}</b><br><br>Ann\\u00e9e=2002<br>Etat=%{location}<br>Nombre de feux=%{z}<extra></extra>\",\"hovertext\":[\"Alaska\",\"Alabama\",\"Arkansas\",\"Arizona\",\"California\",\"Colorado\",\"Connecticut\",\"Delaware\",\"Florida\",\"Georgia\",\"Hawaii\",\"Iowa\",\"Idaho\",\"Illinois\",\"Indiana\",\"Kansas\",\"Kentucky\",\"Louisiana\",\"Massachusetts\",\"Maryland\",\"Maine\",\"Michigan\",\"Minnesota\",\"Missouri\",\"Mississippi\",\"Montana\",\"North Carolina\",\"North Dakota\",\"Nebraska\",\"New Hampshire\",\"New Jersey\",\"New Mexico\",\"Nevada\",\"New York\",\"Ohio\",\"Oklahoma\",\"Oregon\",\"Pennsylvania\",\"South Carolina\",\"South Dakota\",\"Tennessee\",\"Texas\",\"Utah\",\"Virginia\",\"Vermont\",\"Washington\",\"Wisconsin\",\"West Virginia\"],\"locations\":[\"Alaska\",\"Alabama\",\"Arkansas\",\"Arizona\",\"California\",\"Colorado\",\"Connecticut\",\"Delaware\",\"Florida\",\"Georgia\",\"Hawaii\",\"Iowa\",\"Idaho\",\"Illinois\",\"Indiana\",\"Kansas\",\"Kentucky\",\"Louisiana\",\"Massachusetts\",\"Maryland\",\"Maine\",\"Michigan\",\"Minnesota\",\"Missouri\",\"Mississippi\",\"Montana\",\"North Carolina\",\"North Dakota\",\"Nebraska\",\"New Hampshire\",\"New Jersey\",\"New Mexico\",\"Nevada\",\"New York\",\"Ohio\",\"Oklahoma\",\"Oregon\",\"Pennsylvania\",\"South Carolina\",\"South Dakota\",\"Tennessee\",\"Texas\",\"Utah\",\"Virginia\",\"Vermont\",\"Washington\",\"Wisconsin\",\"West Virginia\"],\"marker\":{\"opacity\":0.75},\"name\":\"\",\"subplot\":\"mapbox\",\"z\":[538,2926,1001,2918,7133,1221,107,39,3131,7804,576,51,1511,43,123,128,1050,1481,115,14,664,308,2039,670,2832,1597,5590,907,183,116,1419,2077,649,3512,142,1535,2759,628,4683,1962,1485,1229,1143,1572,6,1418,949,1000],\"type\":\"choroplethmapbox\"}],\"name\":\"2002\"},{\"data\":[{\"coloraxis\":\"coloraxis\",\"customdata\":[[478],[1824],[1664],[2916],[7913],[2422],[95],[21],[2150],[4567],[941],[50],[1657],[48],[155],[113],[956],[94],[75],[5],[624],[750],[3297],[340],[1913],[2471],[2041],[835],[161],[56],[674],[1969],[664],[4934],[63],[1639],[2615],[407],[1315],[1730],[31],[1147],[1422],[344],[9],[1433],[2253],[641]],\"featureidkey\":\"properties.name\",\"geojson\":\"us-states.json\",\"hovertemplate\":\"<b>%{hovertext}</b><br><br>Ann\\u00e9e=2003<br>Etat=%{location}<br>Nombre de feux=%{z}<extra></extra>\",\"hovertext\":[\"Alaska\",\"Alabama\",\"Arkansas\",\"Arizona\",\"California\",\"Colorado\",\"Connecticut\",\"Delaware\",\"Florida\",\"Georgia\",\"Hawaii\",\"Iowa\",\"Idaho\",\"Illinois\",\"Indiana\",\"Kansas\",\"Kentucky\",\"Louisiana\",\"Massachusetts\",\"Maryland\",\"Maine\",\"Michigan\",\"Minnesota\",\"Missouri\",\"Mississippi\",\"Montana\",\"North Carolina\",\"North Dakota\",\"Nebraska\",\"New Hampshire\",\"New Jersey\",\"New Mexico\",\"Nevada\",\"New York\",\"Ohio\",\"Oklahoma\",\"Oregon\",\"Pennsylvania\",\"South Carolina\",\"South Dakota\",\"Tennessee\",\"Texas\",\"Utah\",\"Virginia\",\"Vermont\",\"Washington\",\"Wisconsin\",\"West Virginia\"],\"locations\":[\"Alaska\",\"Alabama\",\"Arkansas\",\"Arizona\",\"California\",\"Colorado\",\"Connecticut\",\"Delaware\",\"Florida\",\"Georgia\",\"Hawaii\",\"Iowa\",\"Idaho\",\"Illinois\",\"Indiana\",\"Kansas\",\"Kentucky\",\"Louisiana\",\"Massachusetts\",\"Maryland\",\"Maine\",\"Michigan\",\"Minnesota\",\"Missouri\",\"Mississippi\",\"Montana\",\"North Carolina\",\"North Dakota\",\"Nebraska\",\"New Hampshire\",\"New Jersey\",\"New Mexico\",\"Nevada\",\"New York\",\"Ohio\",\"Oklahoma\",\"Oregon\",\"Pennsylvania\",\"South Carolina\",\"South Dakota\",\"Tennessee\",\"Texas\",\"Utah\",\"Virginia\",\"Vermont\",\"Washington\",\"Wisconsin\",\"West Virginia\"],\"marker\":{\"opacity\":0.75},\"name\":\"\",\"subplot\":\"mapbox\",\"z\":[478,1824,1664,2916,7913,2422,95,21,2150,4567,941,50,1657,48,155,113,956,94,75,5,624,750,3297,340,1913,2471,2041,835,161,56,674,1969,664,4934,63,1639,2615,407,1315,1730,31,1147,1422,344,9,1433,2253,641],\"type\":\"choroplethmapbox\"}],\"name\":\"2003\"},{\"data\":[{\"coloraxis\":\"coloraxis\",\"customdata\":[[694],[3054],[1364],[2843],[7418],[1310],[87],[27],[3618],[8127],[687],[50],[1138],[88],[193],[76],[1238],[78],[69],[21],[467],[467],[1989],[307],[2812],[1503],[4343],[819],[169],[70],[819],[1229],[776],[4062],[72],[1688],[2270],[193],[3058],[1377],[69],[1040],[1519],[301],[16],[1591],[1161],[618]],\"featureidkey\":\"properties.name\",\"geojson\":\"us-states.json\",\"hovertemplate\":\"<b>%{hovertext}</b><br><br>Ann\\u00e9e=2004<br>Etat=%{location}<br>Nombre de feux=%{z}<extra></extra>\",\"hovertext\":[\"Alaska\",\"Alabama\",\"Arkansas\",\"Arizona\",\"California\",\"Colorado\",\"Connecticut\",\"Delaware\",\"Florida\",\"Georgia\",\"Hawaii\",\"Iowa\",\"Idaho\",\"Illinois\",\"Indiana\",\"Kansas\",\"Kentucky\",\"Louisiana\",\"Massachusetts\",\"Maryland\",\"Maine\",\"Michigan\",\"Minnesota\",\"Missouri\",\"Mississippi\",\"Montana\",\"North Carolina\",\"North Dakota\",\"Nebraska\",\"New Hampshire\",\"New Jersey\",\"New Mexico\",\"Nevada\",\"New York\",\"Ohio\",\"Oklahoma\",\"Oregon\",\"Pennsylvania\",\"South Carolina\",\"South Dakota\",\"Tennessee\",\"Texas\",\"Utah\",\"Virginia\",\"Vermont\",\"Washington\",\"Wisconsin\",\"West Virginia\"],\"locations\":[\"Alaska\",\"Alabama\",\"Arkansas\",\"Arizona\",\"California\",\"Colorado\",\"Connecticut\",\"Delaware\",\"Florida\",\"Georgia\",\"Hawaii\",\"Iowa\",\"Idaho\",\"Illinois\",\"Indiana\",\"Kansas\",\"Kentucky\",\"Louisiana\",\"Massachusetts\",\"Maryland\",\"Maine\",\"Michigan\",\"Minnesota\",\"Missouri\",\"Mississippi\",\"Montana\",\"North Carolina\",\"North Dakota\",\"Nebraska\",\"New Hampshire\",\"New Jersey\",\"New Mexico\",\"Nevada\",\"New York\",\"Ohio\",\"Oklahoma\",\"Oregon\",\"Pennsylvania\",\"South Carolina\",\"South Dakota\",\"Tennessee\",\"Texas\",\"Utah\",\"Virginia\",\"Vermont\",\"Washington\",\"Wisconsin\",\"West Virginia\"],\"marker\":{\"opacity\":0.75},\"name\":\"\",\"subplot\":\"mapbox\",\"z\":[694,3054,1364,2843,7418,1310,87,27,3618,8127,687,50,1138,88,193,76,1238,78,69,21,467,467,1989,307,2812,1503,4343,819,169,70,819,1229,776,4062,72,1688,2270,193,3058,1377,69,1040,1519,301,16,1591,1161,618],\"type\":\"choroplethmapbox\"}],\"name\":\"2004\"},{\"data\":[{\"coloraxis\":\"coloraxis\",\"customdata\":[[619],[2547],[2296],[3690],[6678],[1875],[293],[14],[2395],[6049],[1242],[34],[1144],[62],[173],[175],[1766],[3384],[30],[417],[472],[641],[1728],[413],[3520],[1497],[4045],[903],[177],[88],[996],[1582],[749],[7700],[100],[2768],[1746],[783],[18],[2704],[1762],[2041],[6901],[1362],[786],[26],[1089],[1565],[762]],\"featureidkey\":\"properties.name\",\"geojson\":\"us-states.json\",\"hovertemplate\":\"<b>%{hovertext}</b><br><br>Ann\\u00e9e=2005<br>Etat=%{location}<br>Nombre de feux=%{z}<extra></extra>\",\"hovertext\":[\"Alaska\",\"Alabama\",\"Arkansas\",\"Arizona\",\"California\",\"Colorado\",\"Connecticut\",\"Delaware\",\"Florida\",\"Georgia\",\"Hawaii\",\"Iowa\",\"Idaho\",\"Illinois\",\"Indiana\",\"Kansas\",\"Kentucky\",\"Louisiana\",\"Massachusetts\",\"Maryland\",\"Maine\",\"Michigan\",\"Minnesota\",\"Missouri\",\"Mississippi\",\"Montana\",\"North Carolina\",\"North Dakota\",\"Nebraska\",\"New Hampshire\",\"New Jersey\",\"New Mexico\",\"Nevada\",\"New York\",\"Ohio\",\"Oklahoma\",\"Oregon\",\"Pennsylvania\",\"Rhode Island\",\"South Carolina\",\"South Dakota\",\"Tennessee\",\"Texas\",\"Utah\",\"Virginia\",\"Vermont\",\"Washington\",\"Wisconsin\",\"West Virginia\"],\"locations\":[\"Alaska\",\"Alabama\",\"Arkansas\",\"Arizona\",\"California\",\"Colorado\",\"Connecticut\",\"Delaware\",\"Florida\",\"Georgia\",\"Hawaii\",\"Iowa\",\"Idaho\",\"Illinois\",\"Indiana\",\"Kansas\",\"Kentucky\",\"Louisiana\",\"Massachusetts\",\"Maryland\",\"Maine\",\"Michigan\",\"Minnesota\",\"Missouri\",\"Mississippi\",\"Montana\",\"North Carolina\",\"North Dakota\",\"Nebraska\",\"New Hampshire\",\"New Jersey\",\"New Mexico\",\"Nevada\",\"New York\",\"Ohio\",\"Oklahoma\",\"Oregon\",\"Pennsylvania\",\"Rhode Island\",\"South Carolina\",\"South Dakota\",\"Tennessee\",\"Texas\",\"Utah\",\"Virginia\",\"Vermont\",\"Washington\",\"Wisconsin\",\"West Virginia\"],\"marker\":{\"opacity\":0.75},\"name\":\"\",\"subplot\":\"mapbox\",\"z\":[619,2547,2296,3690,6678,1875,293,14,2395,6049,1242,34,1144,62,173,175,1766,3384,30,417,472,641,1728,413,3520,1497,4045,903,177,88,996,1582,749,7700,100,2768,1746,783,18,2704,1762,2041,6901,1362,786,26,1089,1565,762],\"type\":\"choroplethmapbox\"}],\"name\":\"2005\"},{\"data\":[{\"coloraxis\":\"coloraxis\",\"customdata\":[[301],[3947],[2571],[3319],[8271],[1316],[372],[5115],[8925],[789],[442],[1888],[34],[86],[348],[1884],[3131],[31],[718],[623],[534],[2507],[442],[5533],[2460],[5059],[1061],[122],[111],[1352],[1996],[1049],[6631],[222],[3265],[3184],[874],[25],[2855],[2646],[2183],[15022],[1926],[1268],[4],[1577],[1658],[1026]],\"featureidkey\":\"properties.name\",\"geojson\":\"us-states.json\",\"hovertemplate\":\"<b>%{hovertext}</b><br><br>Ann\\u00e9e=2006<br>Etat=%{location}<br>Nombre de feux=%{z}<extra></extra>\",\"hovertext\":[\"Alaska\",\"Alabama\",\"Arkansas\",\"Arizona\",\"California\",\"Colorado\",\"Connecticut\",\"Florida\",\"Georgia\",\"Hawaii\",\"Iowa\",\"Idaho\",\"Illinois\",\"Indiana\",\"Kansas\",\"Kentucky\",\"Louisiana\",\"Massachusetts\",\"Maryland\",\"Maine\",\"Michigan\",\"Minnesota\",\"Missouri\",\"Mississippi\",\"Montana\",\"North Carolina\",\"North Dakota\",\"Nebraska\",\"New Hampshire\",\"New Jersey\",\"New Mexico\",\"Nevada\",\"New York\",\"Ohio\",\"Oklahoma\",\"Oregon\",\"Pennsylvania\",\"Rhode Island\",\"South Carolina\",\"South Dakota\",\"Tennessee\",\"Texas\",\"Utah\",\"Virginia\",\"Vermont\",\"Washington\",\"Wisconsin\",\"West Virginia\"],\"locations\":[\"Alaska\",\"Alabama\",\"Arkansas\",\"Arizona\",\"California\",\"Colorado\",\"Connecticut\",\"Florida\",\"Georgia\",\"Hawaii\",\"Iowa\",\"Idaho\",\"Illinois\",\"Indiana\",\"Kansas\",\"Kentucky\",\"Louisiana\",\"Massachusetts\",\"Maryland\",\"Maine\",\"Michigan\",\"Minnesota\",\"Missouri\",\"Mississippi\",\"Montana\",\"North Carolina\",\"North Dakota\",\"Nebraska\",\"New Hampshire\",\"New Jersey\",\"New Mexico\",\"Nevada\",\"New York\",\"Ohio\",\"Oklahoma\",\"Oregon\",\"Pennsylvania\",\"Rhode Island\",\"South Carolina\",\"South Dakota\",\"Tennessee\",\"Texas\",\"Utah\",\"Virginia\",\"Vermont\",\"Washington\",\"Wisconsin\",\"West Virginia\"],\"marker\":{\"opacity\":0.75},\"name\":\"\",\"subplot\":\"mapbox\",\"z\":[301,3947,2571,3319,8271,1316,372,5115,8925,789,442,1888,34,86,348,1884,3131,31,718,623,534,2507,442,5533,2460,5059,1061,122,111,1352,1996,1049,6631,222,3265,3184,874,25,2855,2646,2183,15022,1926,1268,4,1577,1658,1026],\"type\":\"choroplethmapbox\"}],\"name\":\"2006\"},{\"data\":[{\"coloraxis\":\"coloraxis\",\"customdata\":[[513],[3833],[1301],[2443],[10151],[1070],[331],[2],[4589],[8717],[964],[143],[1589],[99],[127],[196],[2081],[63],[34],[598],[481],[516],[1787],[523],[2767],[1997],[7284],[865],[822],[95],[1097],[1428],[698],[6319],[259],[1334],[2512],[514],[21],[3998],[1627],[3393],[5477],[1548],[1446],[5],[1304],[1487],[836]],\"featureidkey\":\"properties.name\",\"geojson\":\"us-states.json\",\"hovertemplate\":\"<b>%{hovertext}</b><br><br>Ann\\u00e9e=2007<br>Etat=%{location}<br>Nombre de feux=%{z}<extra></extra>\",\"hovertext\":[\"Alaska\",\"Alabama\",\"Arkansas\",\"Arizona\",\"California\",\"Colorado\",\"Connecticut\",\"Delaware\",\"Florida\",\"Georgia\",\"Hawaii\",\"Iowa\",\"Idaho\",\"Illinois\",\"Indiana\",\"Kansas\",\"Kentucky\",\"Louisiana\",\"Massachusetts\",\"Maryland\",\"Maine\",\"Michigan\",\"Minnesota\",\"Missouri\",\"Mississippi\",\"Montana\",\"North Carolina\",\"North Dakota\",\"Nebraska\",\"New Hampshire\",\"New Jersey\",\"New Mexico\",\"Nevada\",\"New York\",\"Ohio\",\"Oklahoma\",\"Oregon\",\"Pennsylvania\",\"Rhode Island\",\"South Carolina\",\"South Dakota\",\"Tennessee\",\"Texas\",\"Utah\",\"Virginia\",\"Vermont\",\"Washington\",\"Wisconsin\",\"West Virginia\"],\"locations\":[\"Alaska\",\"Alabama\",\"Arkansas\",\"Arizona\",\"California\",\"Colorado\",\"Connecticut\",\"Delaware\",\"Florida\",\"Georgia\",\"Hawaii\",\"Iowa\",\"Idaho\",\"Illinois\",\"Indiana\",\"Kansas\",\"Kentucky\",\"Louisiana\",\"Massachusetts\",\"Maryland\",\"Maine\",\"Michigan\",\"Minnesota\",\"Missouri\",\"Mississippi\",\"Montana\",\"North Carolina\",\"North Dakota\",\"Nebraska\",\"New Hampshire\",\"New Jersey\",\"New Mexico\",\"Nevada\",\"New York\",\"Ohio\",\"Oklahoma\",\"Oregon\",\"Pennsylvania\",\"Rhode Island\",\"South Carolina\",\"South Dakota\",\"Tennessee\",\"Texas\",\"Utah\",\"Virginia\",\"Vermont\",\"Washington\",\"Wisconsin\",\"West Virginia\"],\"marker\":{\"opacity\":0.75},\"name\":\"\",\"subplot\":\"mapbox\",\"z\":[513,3833,1301,2443,10151,1070,331,2,4589,8717,964,143,1589,99,127,196,2081,63,34,598,481,516,1787,523,2767,1997,7284,865,822,95,1097,1428,698,6319,259,1334,2512,514,21,3998,1627,3393,5477,1548,1446,5,1304,1487,836],\"type\":\"choroplethmapbox\"}],\"name\":\"2007\"},{\"data\":[{\"coloraxis\":\"coloraxis\",\"customdata\":[[369],[2012],[883],[1898],[7744],[1015],[366],[3105],[5807],[769],[151],[986],[197],[67],[94],[1563],[1438],[12],[530],[466],[444],[1165],[136],[2016],[1532],[4382],[723],[611],[102],[1152],[864],[447],[7156],[116],[2165],[2668],[652],[135],[2744],[1190],[1429],[18067],[1062],[1287],[5],[1490],[813],[886]],\"featureidkey\":\"properties.name\",\"geojson\":\"us-states.json\",\"hovertemplate\":\"<b>%{hovertext}</b><br><br>Ann\\u00e9e=2008<br>Etat=%{location}<br>Nombre de feux=%{z}<extra></extra>\",\"hovertext\":[\"Alaska\",\"Alabama\",\"Arkansas\",\"Arizona\",\"California\",\"Colorado\",\"Connecticut\",\"Florida\",\"Georgia\",\"Hawaii\",\"Iowa\",\"Idaho\",\"Illinois\",\"Indiana\",\"Kansas\",\"Kentucky\",\"Louisiana\",\"Massachusetts\",\"Maryland\",\"Maine\",\"Michigan\",\"Minnesota\",\"Missouri\",\"Mississippi\",\"Montana\",\"North Carolina\",\"North Dakota\",\"Nebraska\",\"New Hampshire\",\"New Jersey\",\"New Mexico\",\"Nevada\",\"New York\",\"Ohio\",\"Oklahoma\",\"Oregon\",\"Pennsylvania\",\"Rhode Island\",\"South Carolina\",\"South Dakota\",\"Tennessee\",\"Texas\",\"Utah\",\"Virginia\",\"Vermont\",\"Washington\",\"Wisconsin\",\"West Virginia\"],\"locations\":[\"Alaska\",\"Alabama\",\"Arkansas\",\"Arizona\",\"California\",\"Colorado\",\"Connecticut\",\"Florida\",\"Georgia\",\"Hawaii\",\"Iowa\",\"Idaho\",\"Illinois\",\"Indiana\",\"Kansas\",\"Kentucky\",\"Louisiana\",\"Massachusetts\",\"Maryland\",\"Maine\",\"Michigan\",\"Minnesota\",\"Missouri\",\"Mississippi\",\"Montana\",\"North Carolina\",\"North Dakota\",\"Nebraska\",\"New Hampshire\",\"New Jersey\",\"New Mexico\",\"Nevada\",\"New York\",\"Ohio\",\"Oklahoma\",\"Oregon\",\"Pennsylvania\",\"Rhode Island\",\"South Carolina\",\"South Dakota\",\"Tennessee\",\"Texas\",\"Utah\",\"Virginia\",\"Vermont\",\"Washington\",\"Wisconsin\",\"West Virginia\"],\"marker\":{\"opacity\":0.75},\"name\":\"\",\"subplot\":\"mapbox\",\"z\":[369,2012,883,1898,7744,1015,366,3105,5807,769,151,986,197,67,94,1563,1438,12,530,466,444,1165,136,2016,1532,4382,723,611,102,1152,864,447,7156,116,2165,2668,652,135,2744,1190,1429,18067,1062,1287,5,1490,813,886],\"type\":\"choroplethmapbox\"}],\"name\":\"2008\"},{\"data\":[{\"coloraxis\":\"coloraxis\",\"customdata\":[[513],[1372],[1076],[2333],[6940],[952],[257],[3016],[4176],[816],[702],[1198],[347],[45],[71],[1419],[1542],[1],[261],[483],[486],[1233],[239],[1966],[1662],[3319],[415],[715],[68],[614],[1448],[570],[5764],[244],[2049],[2304],[633],[47],[1757],[984],[1477],[14142],[1157],[784],[1],[2000],[1578],[984]],\"featureidkey\":\"properties.name\",\"geojson\":\"us-states.json\",\"hovertemplate\":\"<b>%{hovertext}</b><br><br>Ann\\u00e9e=2009<br>Etat=%{location}<br>Nombre de feux=%{z}<extra></extra>\",\"hovertext\":[\"Alaska\",\"Alabama\",\"Arkansas\",\"Arizona\",\"California\",\"Colorado\",\"Connecticut\",\"Florida\",\"Georgia\",\"Hawaii\",\"Iowa\",\"Idaho\",\"Illinois\",\"Indiana\",\"Kansas\",\"Kentucky\",\"Louisiana\",\"Massachusetts\",\"Maryland\",\"Maine\",\"Michigan\",\"Minnesota\",\"Missouri\",\"Mississippi\",\"Montana\",\"North Carolina\",\"North Dakota\",\"Nebraska\",\"New Hampshire\",\"New Jersey\",\"New Mexico\",\"Nevada\",\"New York\",\"Ohio\",\"Oklahoma\",\"Oregon\",\"Pennsylvania\",\"Rhode Island\",\"South Carolina\",\"South Dakota\",\"Tennessee\",\"Texas\",\"Utah\",\"Virginia\",\"Vermont\",\"Washington\",\"Wisconsin\",\"West Virginia\"],\"locations\":[\"Alaska\",\"Alabama\",\"Arkansas\",\"Arizona\",\"California\",\"Colorado\",\"Connecticut\",\"Florida\",\"Georgia\",\"Hawaii\",\"Iowa\",\"Idaho\",\"Illinois\",\"Indiana\",\"Kansas\",\"Kentucky\",\"Louisiana\",\"Massachusetts\",\"Maryland\",\"Maine\",\"Michigan\",\"Minnesota\",\"Missouri\",\"Mississippi\",\"Montana\",\"North Carolina\",\"North Dakota\",\"Nebraska\",\"New Hampshire\",\"New Jersey\",\"New Mexico\",\"Nevada\",\"New York\",\"Ohio\",\"Oklahoma\",\"Oregon\",\"Pennsylvania\",\"Rhode Island\",\"South Carolina\",\"South Dakota\",\"Tennessee\",\"Texas\",\"Utah\",\"Virginia\",\"Vermont\",\"Washington\",\"Wisconsin\",\"West Virginia\"],\"marker\":{\"opacity\":0.75},\"name\":\"\",\"subplot\":\"mapbox\",\"z\":[513,1372,1076,2333,6940,952,257,3016,4176,816,702,1198,347,45,71,1419,1542,1,261,483,486,1233,239,1966,1662,3319,415,715,68,614,1448,570,5764,244,2049,2304,633,47,1757,984,1477,14142,1157,784,1,2000,1578,984],\"type\":\"choroplethmapbox\"}],\"name\":\"2009\"},{\"data\":[{\"coloraxis\":\"coloraxis\",\"customdata\":[[691],[2913],[2220],[1617],[5776],[2694],[418],[1],[2373],[5874],[984],[199],[1150],[452],[73],[40],[1913],[2419],[3],[168],[505],[584],[2075],[196],[2926],[1140],[4100],[435],[610],[98],[1010],[1145],[353],[6181],[180],[2146],[1925],[583],[2144],[698],[1904],[9351],[1056],[1026],[2],[1048],[1312],[796]],\"featureidkey\":\"properties.name\",\"geojson\":\"us-states.json\",\"hovertemplate\":\"<b>%{hovertext}</b><br><br>Ann\\u00e9e=2010<br>Etat=%{location}<br>Nombre de feux=%{z}<extra></extra>\",\"hovertext\":[\"Alaska\",\"Alabama\",\"Arkansas\",\"Arizona\",\"California\",\"Colorado\",\"Connecticut\",\"Delaware\",\"Florida\",\"Georgia\",\"Hawaii\",\"Iowa\",\"Idaho\",\"Illinois\",\"Indiana\",\"Kansas\",\"Kentucky\",\"Louisiana\",\"Massachusetts\",\"Maryland\",\"Maine\",\"Michigan\",\"Minnesota\",\"Missouri\",\"Mississippi\",\"Montana\",\"North Carolina\",\"North Dakota\",\"Nebraska\",\"New Hampshire\",\"New Jersey\",\"New Mexico\",\"Nevada\",\"New York\",\"Ohio\",\"Oklahoma\",\"Oregon\",\"Pennsylvania\",\"South Carolina\",\"South Dakota\",\"Tennessee\",\"Texas\",\"Utah\",\"Virginia\",\"Vermont\",\"Washington\",\"Wisconsin\",\"West Virginia\"],\"locations\":[\"Alaska\",\"Alabama\",\"Arkansas\",\"Arizona\",\"California\",\"Colorado\",\"Connecticut\",\"Delaware\",\"Florida\",\"Georgia\",\"Hawaii\",\"Iowa\",\"Idaho\",\"Illinois\",\"Indiana\",\"Kansas\",\"Kentucky\",\"Louisiana\",\"Massachusetts\",\"Maryland\",\"Maine\",\"Michigan\",\"Minnesota\",\"Missouri\",\"Mississippi\",\"Montana\",\"North Carolina\",\"North Dakota\",\"Nebraska\",\"New Hampshire\",\"New Jersey\",\"New Mexico\",\"Nevada\",\"New York\",\"Ohio\",\"Oklahoma\",\"Oregon\",\"Pennsylvania\",\"South Carolina\",\"South Dakota\",\"Tennessee\",\"Texas\",\"Utah\",\"Virginia\",\"Vermont\",\"Washington\",\"Wisconsin\",\"West Virginia\"],\"marker\":{\"opacity\":0.75},\"name\":\"\",\"subplot\":\"mapbox\",\"z\":[691,2913,2220,1617,5776,2694,418,1,2373,5874,984,199,1150,452,73,40,1913,2419,3,168,505,584,2075,196,2926,1140,4100,435,610,98,1010,1145,353,6181,180,2146,1925,583,2144,698,1904,9351,1056,1026,2,1048,1312,796],\"type\":\"choroplethmapbox\"}],\"name\":\"2010\"},{\"data\":[{\"coloraxis\":\"coloraxis\",\"customdata\":[[508],[2042],[2546],[1912],[8562],[957],[227],[5029],[8414],[603],[439],[1318],[136],[26],[56],[1032],[217],[133],[365],[309],[1235],[740],[1614],[1190],[5427],[373],[832],[4],[272],[2197],[721],[3740],[79],[2542],[1968],[201],[34],[3181],[1431],[1195],[19453],[1095],[813],[1028],[735],[489]],\"featureidkey\":\"properties.name\",\"geojson\":\"us-states.json\",\"hovertemplate\":\"<b>%{hovertext}</b><br><br>Ann\\u00e9e=2011<br>Etat=%{location}<br>Nombre de feux=%{z}<extra></extra>\",\"hovertext\":[\"Alaska\",\"Alabama\",\"Arkansas\",\"Arizona\",\"California\",\"Colorado\",\"Connecticut\",\"Florida\",\"Georgia\",\"Hawaii\",\"Iowa\",\"Idaho\",\"Illinois\",\"Indiana\",\"Kansas\",\"Kentucky\",\"Louisiana\",\"Maryland\",\"Maine\",\"Michigan\",\"Minnesota\",\"Missouri\",\"Mississippi\",\"Montana\",\"North Carolina\",\"North Dakota\",\"Nebraska\",\"New Hampshire\",\"New Jersey\",\"New Mexico\",\"Nevada\",\"New York\",\"Ohio\",\"Oklahoma\",\"Oregon\",\"Pennsylvania\",\"Rhode Island\",\"South Carolina\",\"South Dakota\",\"Tennessee\",\"Texas\",\"Utah\",\"Virginia\",\"Washington\",\"Wisconsin\",\"West Virginia\"],\"locations\":[\"Alaska\",\"Alabama\",\"Arkansas\",\"Arizona\",\"California\",\"Colorado\",\"Connecticut\",\"Florida\",\"Georgia\",\"Hawaii\",\"Iowa\",\"Idaho\",\"Illinois\",\"Indiana\",\"Kansas\",\"Kentucky\",\"Louisiana\",\"Maryland\",\"Maine\",\"Michigan\",\"Minnesota\",\"Missouri\",\"Mississippi\",\"Montana\",\"North Carolina\",\"North Dakota\",\"Nebraska\",\"New Hampshire\",\"New Jersey\",\"New Mexico\",\"Nevada\",\"New York\",\"Ohio\",\"Oklahoma\",\"Oregon\",\"Pennsylvania\",\"Rhode Island\",\"South Carolina\",\"South Dakota\",\"Tennessee\",\"Texas\",\"Utah\",\"Virginia\",\"Washington\",\"Wisconsin\",\"West Virginia\"],\"marker\":{\"opacity\":0.75},\"name\":\"\",\"subplot\":\"mapbox\",\"z\":[508,2042,2546,1912,8562,957,227,5029,8414,603,439,1318,136,26,56,1032,217,133,365,309,1235,740,1614,1190,5427,373,832,4,272,2197,721,3740,79,2542,1968,201,34,3181,1431,1195,19453,1095,813,1028,735,489],\"type\":\"choroplethmapbox\"}],\"name\":\"2011\"},{\"data\":[{\"coloraxis\":\"coloraxis\",\"customdata\":[[409],[1747],[2351],[1760],[7208],[1106],[576],[19],[3107],[4949],[714],[458],[1189],[167],[57],[73],[1263],[877],[5],[163],[560],[711],[2295],[221],[1218],[1854],[3559],[1098],[1223],[100],[1029],[1174],[838],[3944],[204],[1655],[1657],[724],[49],[1971],[2726],[1203],[7623],[1592],[685],[97],[1428],[1380],[694]],\"featureidkey\":\"properties.name\",\"geojson\":\"us-states.json\",\"hovertemplate\":\"<b>%{hovertext}</b><br><br>Ann\\u00e9e=2012<br>Etat=%{location}<br>Nombre de feux=%{z}<extra></extra>\",\"hovertext\":[\"Alaska\",\"Alabama\",\"Arkansas\",\"Arizona\",\"California\",\"Colorado\",\"Connecticut\",\"Delaware\",\"Florida\",\"Georgia\",\"Hawaii\",\"Iowa\",\"Idaho\",\"Illinois\",\"Indiana\",\"Kansas\",\"Kentucky\",\"Louisiana\",\"Massachusetts\",\"Maryland\",\"Maine\",\"Michigan\",\"Minnesota\",\"Missouri\",\"Mississippi\",\"Montana\",\"North Carolina\",\"North Dakota\",\"Nebraska\",\"New Hampshire\",\"New Jersey\",\"New Mexico\",\"Nevada\",\"New York\",\"Ohio\",\"Oklahoma\",\"Oregon\",\"Pennsylvania\",\"Rhode Island\",\"South Carolina\",\"South Dakota\",\"Tennessee\",\"Texas\",\"Utah\",\"Virginia\",\"Vermont\",\"Washington\",\"Wisconsin\",\"West Virginia\"],\"locations\":[\"Alaska\",\"Alabama\",\"Arkansas\",\"Arizona\",\"California\",\"Colorado\",\"Connecticut\",\"Delaware\",\"Florida\",\"Georgia\",\"Hawaii\",\"Iowa\",\"Idaho\",\"Illinois\",\"Indiana\",\"Kansas\",\"Kentucky\",\"Louisiana\",\"Massachusetts\",\"Maryland\",\"Maine\",\"Michigan\",\"Minnesota\",\"Missouri\",\"Mississippi\",\"Montana\",\"North Carolina\",\"North Dakota\",\"Nebraska\",\"New Hampshire\",\"New Jersey\",\"New Mexico\",\"Nevada\",\"New York\",\"Ohio\",\"Oklahoma\",\"Oregon\",\"Pennsylvania\",\"Rhode Island\",\"South Carolina\",\"South Dakota\",\"Tennessee\",\"Texas\",\"Utah\",\"Virginia\",\"Vermont\",\"Washington\",\"Wisconsin\",\"West Virginia\"],\"marker\":{\"opacity\":0.75},\"name\":\"\",\"subplot\":\"mapbox\",\"z\":[409,1747,2351,1760,7208,1106,576,19,3107,4949,714,458,1189,167,57,73,1263,877,5,163,560,711,2295,221,1218,1854,3559,1098,1223,100,1029,1174,838,3944,204,1655,1657,724,49,1971,2726,1203,7623,1592,685,97,1428,1380,694],\"type\":\"choroplethmapbox\"}],\"name\":\"2012\"},{\"data\":[{\"coloraxis\":\"coloraxis\",\"customdata\":[[592],[1670],[847],[1665],[8723],[3894],[9],[2163],[3252],[60],[243],[1566],[44],[20],[14],[1003],[1075],[5],[127],[444],[455],[1132],[413],[1488],[1359],[3329],[541],[423],[147],[872],[1078],[657],[2890],[323],[795],[2562],[639],[19],[1626],[1022],[638],[9735],[1249],[581],[126],[1378],[692],[580]],\"featureidkey\":\"properties.name\",\"geojson\":\"us-states.json\",\"hovertemplate\":\"<b>%{hovertext}</b><br><br>Ann\\u00e9e=2013<br>Etat=%{location}<br>Nombre de feux=%{z}<extra></extra>\",\"hovertext\":[\"Alaska\",\"Alabama\",\"Arkansas\",\"Arizona\",\"California\",\"Colorado\",\"Delaware\",\"Florida\",\"Georgia\",\"Hawaii\",\"Iowa\",\"Idaho\",\"Illinois\",\"Indiana\",\"Kansas\",\"Kentucky\",\"Louisiana\",\"Massachusetts\",\"Maryland\",\"Maine\",\"Michigan\",\"Minnesota\",\"Missouri\",\"Mississippi\",\"Montana\",\"North Carolina\",\"North Dakota\",\"Nebraska\",\"New Hampshire\",\"New Jersey\",\"New Mexico\",\"Nevada\",\"New York\",\"Ohio\",\"Oklahoma\",\"Oregon\",\"Pennsylvania\",\"Rhode Island\",\"South Carolina\",\"South Dakota\",\"Tennessee\",\"Texas\",\"Utah\",\"Virginia\",\"Vermont\",\"Washington\",\"Wisconsin\",\"West Virginia\"],\"locations\":[\"Alaska\",\"Alabama\",\"Arkansas\",\"Arizona\",\"California\",\"Colorado\",\"Delaware\",\"Florida\",\"Georgia\",\"Hawaii\",\"Iowa\",\"Idaho\",\"Illinois\",\"Indiana\",\"Kansas\",\"Kentucky\",\"Louisiana\",\"Massachusetts\",\"Maryland\",\"Maine\",\"Michigan\",\"Minnesota\",\"Missouri\",\"Mississippi\",\"Montana\",\"North Carolina\",\"North Dakota\",\"Nebraska\",\"New Hampshire\",\"New Jersey\",\"New Mexico\",\"Nevada\",\"New York\",\"Ohio\",\"Oklahoma\",\"Oregon\",\"Pennsylvania\",\"Rhode Island\",\"South Carolina\",\"South Dakota\",\"Tennessee\",\"Texas\",\"Utah\",\"Virginia\",\"Vermont\",\"Washington\",\"Wisconsin\",\"West Virginia\"],\"marker\":{\"opacity\":0.75},\"name\":\"\",\"subplot\":\"mapbox\",\"z\":[592,1670,847,1665,8723,3894,9,2163,3252,60,243,1566,44,20,14,1003,1075,5,127,444,455,1132,413,1488,1359,3329,541,423,147,872,1078,657,2890,323,795,2562,639,19,1626,1022,638,9735,1249,581,126,1378,692,580],\"type\":\"choroplethmapbox\"}],\"name\":\"2013\"},{\"data\":[{\"coloraxis\":\"coloraxis\",\"customdata\":[[393],[2418],[1295],[2828],[6494],[603],[3],[2144],[4063],[2],[543],[1215],[227],[36],[59],[1446],[876],[6],[123],[333],[264],[1006],[1251],[2224],[1203],[4587],[510],[723],[125],[799],[893],[542],[4358],[612],[1172],[3047],[875],[46],[1893],[1023],[1260],[8538],[1058],[821],[55],[1567],[605],[951]],\"featureidkey\":\"properties.name\",\"geojson\":\"us-states.json\",\"hovertemplate\":\"<b>%{hovertext}</b><br><br>Ann\\u00e9e=2014<br>Etat=%{location}<br>Nombre de feux=%{z}<extra></extra>\",\"hovertext\":[\"Alaska\",\"Alabama\",\"Arkansas\",\"Arizona\",\"California\",\"Colorado\",\"Delaware\",\"Florida\",\"Georgia\",\"Hawaii\",\"Iowa\",\"Idaho\",\"Illinois\",\"Indiana\",\"Kansas\",\"Kentucky\",\"Louisiana\",\"Massachusetts\",\"Maryland\",\"Maine\",\"Michigan\",\"Minnesota\",\"Missouri\",\"Mississippi\",\"Montana\",\"North Carolina\",\"North Dakota\",\"Nebraska\",\"New Hampshire\",\"New Jersey\",\"New Mexico\",\"Nevada\",\"New York\",\"Ohio\",\"Oklahoma\",\"Oregon\",\"Pennsylvania\",\"Rhode Island\",\"South Carolina\",\"South Dakota\",\"Tennessee\",\"Texas\",\"Utah\",\"Virginia\",\"Vermont\",\"Washington\",\"Wisconsin\",\"West Virginia\"],\"locations\":[\"Alaska\",\"Alabama\",\"Arkansas\",\"Arizona\",\"California\",\"Colorado\",\"Delaware\",\"Florida\",\"Georgia\",\"Hawaii\",\"Iowa\",\"Idaho\",\"Illinois\",\"Indiana\",\"Kansas\",\"Kentucky\",\"Louisiana\",\"Massachusetts\",\"Maryland\",\"Maine\",\"Michigan\",\"Minnesota\",\"Missouri\",\"Mississippi\",\"Montana\",\"North Carolina\",\"North Dakota\",\"Nebraska\",\"New Hampshire\",\"New Jersey\",\"New Mexico\",\"Nevada\",\"New York\",\"Ohio\",\"Oklahoma\",\"Oregon\",\"Pennsylvania\",\"Rhode Island\",\"South Carolina\",\"South Dakota\",\"Tennessee\",\"Texas\",\"Utah\",\"Virginia\",\"Vermont\",\"Washington\",\"Wisconsin\",\"West Virginia\"],\"marker\":{\"opacity\":0.75},\"name\":\"\",\"subplot\":\"mapbox\",\"z\":[393,2418,1295,2828,6494,603,3,2144,4063,2,543,1215,227,36,59,1446,876,6,123,333,264,1006,1251,2224,1203,4587,510,723,125,799,893,542,4358,612,1172,3047,875,46,1893,1023,1260,8538,1058,821,55,1567,605,951],\"type\":\"choroplethmapbox\"}],\"name\":\"2014\"},{\"data\":[{\"coloraxis\":\"coloraxis\",\"customdata\":[[771],[2074],[1289],[3819],[7365],[591],[372],[16],[2548],[2355],[4],[517],[1277],[106],[16],[5887],[756],[1075],[2170],[150],[406],[523],[1838],[769],[2122],[1866],[2471],[1003],[599],[140],[770],[778],[526],[5884],[537],[1185],[2500],[807],[85],[1299],[966],[612],[8304],[605],[597],[87],[1741],[965],[685]],\"featureidkey\":\"properties.name\",\"geojson\":\"us-states.json\",\"hovertemplate\":\"<b>%{hovertext}</b><br><br>Ann\\u00e9e=2015<br>Etat=%{location}<br>Nombre de feux=%{z}<extra></extra>\",\"hovertext\":[\"Alaska\",\"Alabama\",\"Arkansas\",\"Arizona\",\"California\",\"Colorado\",\"Connecticut\",\"Delaware\",\"Florida\",\"Georgia\",\"Hawaii\",\"Iowa\",\"Idaho\",\"Illinois\",\"Indiana\",\"Kansas\",\"Kentucky\",\"Louisiana\",\"Massachusetts\",\"Maryland\",\"Maine\",\"Michigan\",\"Minnesota\",\"Missouri\",\"Mississippi\",\"Montana\",\"North Carolina\",\"North Dakota\",\"Nebraska\",\"New Hampshire\",\"New Jersey\",\"New Mexico\",\"Nevada\",\"New York\",\"Ohio\",\"Oklahoma\",\"Oregon\",\"Pennsylvania\",\"Rhode Island\",\"South Carolina\",\"South Dakota\",\"Tennessee\",\"Texas\",\"Utah\",\"Virginia\",\"Vermont\",\"Washington\",\"Wisconsin\",\"West Virginia\"],\"locations\":[\"Alaska\",\"Alabama\",\"Arkansas\",\"Arizona\",\"California\",\"Colorado\",\"Connecticut\",\"Delaware\",\"Florida\",\"Georgia\",\"Hawaii\",\"Iowa\",\"Idaho\",\"Illinois\",\"Indiana\",\"Kansas\",\"Kentucky\",\"Louisiana\",\"Massachusetts\",\"Maryland\",\"Maine\",\"Michigan\",\"Minnesota\",\"Missouri\",\"Mississippi\",\"Montana\",\"North Carolina\",\"North Dakota\",\"Nebraska\",\"New Hampshire\",\"New Jersey\",\"New Mexico\",\"Nevada\",\"New York\",\"Ohio\",\"Oklahoma\",\"Oregon\",\"Pennsylvania\",\"Rhode Island\",\"South Carolina\",\"South Dakota\",\"Tennessee\",\"Texas\",\"Utah\",\"Virginia\",\"Vermont\",\"Washington\",\"Wisconsin\",\"West Virginia\"],\"marker\":{\"opacity\":0.75},\"name\":\"\",\"subplot\":\"mapbox\",\"z\":[771,2074,1289,3819,7365,591,372,16,2548,2355,4,517,1277,106,16,5887,756,1075,2170,150,406,523,1838,769,2122,1866,2471,1003,599,140,770,778,526,5884,537,1185,2500,807,85,1299,966,612,8304,605,597,87,1741,965,685],\"type\":\"choroplethmapbox\"}],\"name\":\"2015\"}]);\n",
       "                        }).then(function(){\n",
       "                            \n",
       "var gd = document.getElementById('74e26cd3-6e01-42f7-9ab8-a13d423ef2e3');\n",
       "var x = new MutationObserver(function (mutations, observer) {{\n",
       "        var display = window.getComputedStyle(gd).display;\n",
       "        if (!display || display === 'none') {{\n",
       "            console.log([gd, 'removed!']);\n",
       "            Plotly.purge(gd);\n",
       "            observer.disconnect();\n",
       "        }}\n",
       "}});\n",
       "\n",
       "// Listen for the removal of the full notebook cells\n",
       "var notebookContainer = gd.closest('#notebook-container');\n",
       "if (notebookContainer) {{\n",
       "    x.observe(notebookContainer, {childList: true});\n",
       "}}\n",
       "\n",
       "// Listen for the clearing of the current output cell\n",
       "var outputEl = gd.closest('.output');\n",
       "if (outputEl) {{\n",
       "    x.observe(outputEl, {childList: true});\n",
       "}}\n",
       "\n",
       "                        })                };                });            </script>        </div>"
      ]
     },
     "metadata": {},
     "output_type": "display_data"
    }
   ],
   "source": [
    "fig3 = px.choropleth_mapbox(df_final,\n",
    "                           geojson='us-states.json',\n",
    "                           featureidkey='properties.name',\n",
    "                           locations='Etat',\n",
    "                           color='Nombre de feux',\n",
    "                           hover_name='Etat',\n",
    "                           hover_data=['Nombre de feux'],\n",
    "                           color_continuous_scale='Reds',\n",
    "                           animation_frame='Année',\n",
    "                           mapbox_style='carto-positron',\n",
    "                           \n",
    "                           \n",
    "                           center={'lat':50, 'lon':-110},\n",
    "                           title='Evolution du nombre de feux dans chaque Etat',\n",
    "                           zoom=2,\n",
    "                           opacity=0.75,\n",
    "                        \n",
    "                           width=1100,\n",
    "                           height=800\n",
    "                          )\n",
    "\n",
    "fig3.show()"
   ]
  }
 ],
 "metadata": {
  "kernelspec": {
   "display_name": "Python 3 (ipykernel)",
   "language": "python",
   "name": "python3"
  },
  "language_info": {
   "codemirror_mode": {
    "name": "ipython",
    "version": 3
   },
   "file_extension": ".py",
   "mimetype": "text/x-python",
   "name": "python",
   "nbconvert_exporter": "python",
   "pygments_lexer": "ipython3",
   "version": "3.9.13"
  }
 },
 "nbformat": 4,
 "nbformat_minor": 5
}

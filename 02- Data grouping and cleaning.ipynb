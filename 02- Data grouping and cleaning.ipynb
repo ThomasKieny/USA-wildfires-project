{
 "cells": [
  {
   "cell_type": "code",
   "execution_count": null,
   "id": "c219fcd2",
   "metadata": {
    "id": "c219fcd2"
   },
   "outputs": [],
   "source": [
    "import seaborn as sns"
   ]
  },
  {
   "cell_type": "code",
   "execution_count": null,
   "id": "60d373dc",
   "metadata": {
    "id": "60d373dc"
   },
   "outputs": [],
   "source": [
    "import pandas as pd\n",
    "import numpy as np\n",
    "import matplotlib.pyplot as plt\n",
    "%matplotlib inline"
   ]
  },
  {
   "cell_type": "markdown",
   "id": "e16146be",
   "metadata": {
    "id": "e16146be"
   },
   "source": [
    "# Data import"
   ]
  },
  {
   "cell_type": "code",
   "execution_count": null,
   "id": "cb3aff20",
   "metadata": {
    "id": "cb3aff20",
    "outputId": "0b75d9cf-dd8a-4980-d9f5-5e7f365cd37f"
   },
   "outputs": [
    {
     "name": "stderr",
     "output_type": "stream",
     "text": [
      "C:\\Users\\norac\\AppData\\Local\\Temp\\ipykernel_5832\\3474879787.py:1: DtypeWarning: Columns (9,11,12,13,14,15,16,17,18,19,36,38) have mixed types. Specify dtype option on import or set low_memory=False.\n",
      "  df = pd.read_csv('df_initial.csv')\n"
     ]
    }
   ],
   "source": [
    "df = pd.read_csv('df_initial.csv')"
   ]
  },
  {
   "cell_type": "code",
   "execution_count": null,
   "id": "37eedc68",
   "metadata": {
    "id": "37eedc68",
    "outputId": "1cfc94dd-10ad-401a-d28c-287c47a4ee01"
   },
   "outputs": [
    {
     "data": {
      "text/html": [
       "<div>\n",
       "<style scoped>\n",
       "    .dataframe tbody tr th:only-of-type {\n",
       "        vertical-align: middle;\n",
       "    }\n",
       "\n",
       "    .dataframe tbody tr th {\n",
       "        vertical-align: top;\n",
       "    }\n",
       "\n",
       "    .dataframe thead th {\n",
       "        text-align: right;\n",
       "    }\n",
       "</style>\n",
       "<table border=\"1\" class=\"dataframe\">\n",
       "  <thead>\n",
       "    <tr style=\"text-align: right;\">\n",
       "      <th></th>\n",
       "      <th>Unnamed: 0</th>\n",
       "      <th>OBJECTID</th>\n",
       "      <th>FOD_ID</th>\n",
       "      <th>FPA_ID</th>\n",
       "      <th>SOURCE_SYSTEM_TYPE</th>\n",
       "      <th>SOURCE_SYSTEM</th>\n",
       "      <th>NWCG_REPORTING_AGENCY</th>\n",
       "      <th>NWCG_REPORTING_UNIT_ID</th>\n",
       "      <th>NWCG_REPORTING_UNIT_NAME</th>\n",
       "      <th>SOURCE_REPORTING_UNIT</th>\n",
       "      <th>...</th>\n",
       "      <th>FIRE_SIZE_CLASS</th>\n",
       "      <th>LATITUDE</th>\n",
       "      <th>LONGITUDE</th>\n",
       "      <th>OWNER_CODE</th>\n",
       "      <th>OWNER_DESCR</th>\n",
       "      <th>STATE</th>\n",
       "      <th>COUNTY</th>\n",
       "      <th>FIPS_CODE</th>\n",
       "      <th>FIPS_NAME</th>\n",
       "      <th>Shape</th>\n",
       "    </tr>\n",
       "  </thead>\n",
       "  <tbody>\n",
       "    <tr>\n",
       "      <th>0</th>\n",
       "      <td>0</td>\n",
       "      <td>1</td>\n",
       "      <td>1</td>\n",
       "      <td>FS-1418826</td>\n",
       "      <td>FED</td>\n",
       "      <td>FS-FIRESTAT</td>\n",
       "      <td>FS</td>\n",
       "      <td>USCAPNF</td>\n",
       "      <td>Plumas National Forest</td>\n",
       "      <td>511</td>\n",
       "      <td>...</td>\n",
       "      <td>A</td>\n",
       "      <td>40.036944</td>\n",
       "      <td>-121.005833</td>\n",
       "      <td>5.0</td>\n",
       "      <td>USFS</td>\n",
       "      <td>CA</td>\n",
       "      <td>63.0</td>\n",
       "      <td>63.0</td>\n",
       "      <td>Plumas</td>\n",
       "      <td>b'\\x00\\x01\\xad\\x10\\x00\\x00\\xe8d\\xc2\\x92_@^\\xc0...</td>\n",
       "    </tr>\n",
       "    <tr>\n",
       "      <th>1</th>\n",
       "      <td>1</td>\n",
       "      <td>2</td>\n",
       "      <td>2</td>\n",
       "      <td>FS-1418827</td>\n",
       "      <td>FED</td>\n",
       "      <td>FS-FIRESTAT</td>\n",
       "      <td>FS</td>\n",
       "      <td>USCAENF</td>\n",
       "      <td>Eldorado National Forest</td>\n",
       "      <td>503</td>\n",
       "      <td>...</td>\n",
       "      <td>A</td>\n",
       "      <td>38.933056</td>\n",
       "      <td>-120.404444</td>\n",
       "      <td>5.0</td>\n",
       "      <td>USFS</td>\n",
       "      <td>CA</td>\n",
       "      <td>61.0</td>\n",
       "      <td>61.0</td>\n",
       "      <td>Placer</td>\n",
       "      <td>b'\\x00\\x01\\xad\\x10\\x00\\x00T\\xb6\\xeej\\xe2\\x19^\\...</td>\n",
       "    </tr>\n",
       "    <tr>\n",
       "      <th>2</th>\n",
       "      <td>2</td>\n",
       "      <td>3</td>\n",
       "      <td>3</td>\n",
       "      <td>FS-1418835</td>\n",
       "      <td>FED</td>\n",
       "      <td>FS-FIRESTAT</td>\n",
       "      <td>FS</td>\n",
       "      <td>USCAENF</td>\n",
       "      <td>Eldorado National Forest</td>\n",
       "      <td>503</td>\n",
       "      <td>...</td>\n",
       "      <td>A</td>\n",
       "      <td>38.984167</td>\n",
       "      <td>-120.735556</td>\n",
       "      <td>13.0</td>\n",
       "      <td>STATE OR PRIVATE</td>\n",
       "      <td>CA</td>\n",
       "      <td>17.0</td>\n",
       "      <td>17.0</td>\n",
       "      <td>El Dorado</td>\n",
       "      <td>b'\\x00\\x01\\xad\\x10\\x00\\x00\\xd0\\xa5\\xa0W\\x13/^\\...</td>\n",
       "    </tr>\n",
       "    <tr>\n",
       "      <th>3</th>\n",
       "      <td>3</td>\n",
       "      <td>4</td>\n",
       "      <td>4</td>\n",
       "      <td>FS-1418845</td>\n",
       "      <td>FED</td>\n",
       "      <td>FS-FIRESTAT</td>\n",
       "      <td>FS</td>\n",
       "      <td>USCAENF</td>\n",
       "      <td>Eldorado National Forest</td>\n",
       "      <td>503</td>\n",
       "      <td>...</td>\n",
       "      <td>A</td>\n",
       "      <td>38.559167</td>\n",
       "      <td>-119.913333</td>\n",
       "      <td>5.0</td>\n",
       "      <td>USFS</td>\n",
       "      <td>CA</td>\n",
       "      <td>3.0</td>\n",
       "      <td>3.0</td>\n",
       "      <td>Alpine</td>\n",
       "      <td>b'\\x00\\x01\\xad\\x10\\x00\\x00\\x94\\xac\\xa3\\rt\\xfa]...</td>\n",
       "    </tr>\n",
       "    <tr>\n",
       "      <th>4</th>\n",
       "      <td>4</td>\n",
       "      <td>5</td>\n",
       "      <td>5</td>\n",
       "      <td>FS-1418847</td>\n",
       "      <td>FED</td>\n",
       "      <td>FS-FIRESTAT</td>\n",
       "      <td>FS</td>\n",
       "      <td>USCAENF</td>\n",
       "      <td>Eldorado National Forest</td>\n",
       "      <td>503</td>\n",
       "      <td>...</td>\n",
       "      <td>A</td>\n",
       "      <td>38.559167</td>\n",
       "      <td>-119.933056</td>\n",
       "      <td>5.0</td>\n",
       "      <td>USFS</td>\n",
       "      <td>CA</td>\n",
       "      <td>3.0</td>\n",
       "      <td>3.0</td>\n",
       "      <td>Alpine</td>\n",
       "      <td>b'\\x00\\x01\\xad\\x10\\x00\\x00@\\xe3\\xaa.\\xb7\\xfb]\\...</td>\n",
       "    </tr>\n",
       "  </tbody>\n",
       "</table>\n",
       "<p>5 rows × 40 columns</p>\n",
       "</div>"
      ],
      "text/plain": [
       "   Unnamed: 0  OBJECTID  FOD_ID      FPA_ID SOURCE_SYSTEM_TYPE SOURCE_SYSTEM  \\\n",
       "0           0         1       1  FS-1418826                FED   FS-FIRESTAT   \n",
       "1           1         2       2  FS-1418827                FED   FS-FIRESTAT   \n",
       "2           2         3       3  FS-1418835                FED   FS-FIRESTAT   \n",
       "3           3         4       4  FS-1418845                FED   FS-FIRESTAT   \n",
       "4           4         5       5  FS-1418847                FED   FS-FIRESTAT   \n",
       "\n",
       "  NWCG_REPORTING_AGENCY NWCG_REPORTING_UNIT_ID  NWCG_REPORTING_UNIT_NAME  \\\n",
       "0                    FS                USCAPNF    Plumas National Forest   \n",
       "1                    FS                USCAENF  Eldorado National Forest   \n",
       "2                    FS                USCAENF  Eldorado National Forest   \n",
       "3                    FS                USCAENF  Eldorado National Forest   \n",
       "4                    FS                USCAENF  Eldorado National Forest   \n",
       "\n",
       "  SOURCE_REPORTING_UNIT  ... FIRE_SIZE_CLASS   LATITUDE   LONGITUDE  \\\n",
       "0                   511  ...               A  40.036944 -121.005833   \n",
       "1                   503  ...               A  38.933056 -120.404444   \n",
       "2                   503  ...               A  38.984167 -120.735556   \n",
       "3                   503  ...               A  38.559167 -119.913333   \n",
       "4                   503  ...               A  38.559167 -119.933056   \n",
       "\n",
       "  OWNER_CODE       OWNER_DESCR STATE COUNTY FIPS_CODE  FIPS_NAME  \\\n",
       "0        5.0              USFS    CA   63.0      63.0     Plumas   \n",
       "1        5.0              USFS    CA   61.0      61.0     Placer   \n",
       "2       13.0  STATE OR PRIVATE    CA   17.0      17.0  El Dorado   \n",
       "3        5.0              USFS    CA    3.0       3.0     Alpine   \n",
       "4        5.0              USFS    CA    3.0       3.0     Alpine   \n",
       "\n",
       "                                               Shape  \n",
       "0  b'\\x00\\x01\\xad\\x10\\x00\\x00\\xe8d\\xc2\\x92_@^\\xc0...  \n",
       "1  b'\\x00\\x01\\xad\\x10\\x00\\x00T\\xb6\\xeej\\xe2\\x19^\\...  \n",
       "2  b'\\x00\\x01\\xad\\x10\\x00\\x00\\xd0\\xa5\\xa0W\\x13/^\\...  \n",
       "3  b'\\x00\\x01\\xad\\x10\\x00\\x00\\x94\\xac\\xa3\\rt\\xfa]...  \n",
       "4  b'\\x00\\x01\\xad\\x10\\x00\\x00@\\xe3\\xaa.\\xb7\\xfb]\\...  \n",
       "\n",
       "[5 rows x 40 columns]"
      ]
     },
     "execution_count": 5,
     "metadata": {},
     "output_type": "execute_result"
    }
   ],
   "source": [
    "df.head()"
   ]
  },
  {
   "cell_type": "markdown",
   "id": "519305c3",
   "metadata": {
    "id": "519305c3"
   },
   "source": [
    "### Grouping by season"
   ]
  },
  {
   "cell_type": "markdown",
   "id": "638a206b",
   "metadata": {
    "id": "638a206b"
   },
   "source": [
    "We'll create a season function to group lights on and off by season. We'll use the following mapping:\n",
    "\n",
    "1: Summer: June/July/August\n",
    "2: Autumn: September/October/November\n",
    "3: Winter: December/January/February\n",
    "4: Spring: March/April/May"
   ]
  },
  {
   "cell_type": "code",
   "execution_count": null,
   "id": "1aa8f75a",
   "metadata": {
    "id": "1aa8f75a"
   },
   "outputs": [],
   "source": [
    "def season(x):\n",
    "    if 5 < x < 9:\n",
    "        return '1'\n",
    "    if 8 < x < 12:\n",
    "        return '2'\n",
    "    if x in [1,2,12]:\n",
    "        return '3'\n",
    "    if x in [3,4,5]:\n",
    "        return '4'"
   ]
  },
  {
   "cell_type": "markdown",
   "id": "ed579bb5",
   "metadata": {
    "id": "ed579bb5"
   },
   "source": [
    "Before applying the formula, we're going to transform the format of the discovery and extinction dates and extract the month and days of the week. Note that the variable 'CONT_DATE' contains 47% N/A. Next, we'll look at the duration of the fires and see if we can manage these N/As by using the statistics specific to the duration of the fires."
   ]
  },
  {
   "cell_type": "code",
   "execution_count": null,
   "id": "7de36ea4",
   "metadata": {
    "id": "7de36ea4"
   },
   "outputs": [],
   "source": [
    "import datetime as datetime\n",
    "\n",
    "#transform formats :\n",
    "\n",
    "df['START_DATE'] = pd.to_datetime(df['DISCOVERY_DATE']- pd.Timestamp(0).to_julian_date(), unit='D')\n",
    "df['END_DATE'] = pd.to_datetime(df['CONT_DATE'] - pd.Timestamp(0).to_julian_date(), unit='D')"
   ]
  },
  {
   "cell_type": "code",
   "execution_count": null,
   "id": "98ae3dd8",
   "metadata": {
    "id": "98ae3dd8"
   },
   "outputs": [],
   "source": [
    "df['START_MONTH'] = pd.DatetimeIndex(df['START_DATE']).month\n",
    "df['START_DAY_OF_WEEK'] = pd.DatetimeIndex(df['START_DATE']).weekday"
   ]
  },
  {
   "cell_type": "code",
   "execution_count": null,
   "id": "18a2511a",
   "metadata": {
    "id": "18a2511a"
   },
   "outputs": [],
   "source": [
    "df['SEASON']=df['START_MONTH'].apply(season)"
   ]
  },
  {
   "cell_type": "markdown",
   "id": "9c0f331b",
   "metadata": {
    "id": "9c0f331b"
   },
   "source": [
    "### Grouping by causes"
   ]
  },
  {
   "cell_type": "markdown",
   "id": "c38bbada",
   "metadata": {
    "id": "c38bbada"
   },
   "source": [
    "We'll create a Human_Natural function to define whether the cause of the fire was natural, deliberate human or unintentional human. We will create a category to group causes that are not defined (~8% of the data). We will use the following mapping:\n",
    "\n",
    "1: natural origin\n",
    "2: voluntary human origin\n",
    "3: involuntary human origin\n",
    "0: unknown origin"
   ]
  },
  {
   "cell_type": "code",
   "execution_count": null,
   "id": "3246aa9f",
   "metadata": {
    "id": "3246aa9f",
    "outputId": "3a3b90e4-3fda-405e-a07f-37214eb8a8d1"
   },
   "outputs": [
    {
     "data": {
      "text/plain": [
       "Debris Burning       0.228150\n",
       "Miscellaneous        0.172194\n",
       "Arson                0.149673\n",
       "Lightning            0.148085\n",
       "Missing/Undefined    0.088661\n",
       "Equipment Use        0.078498\n",
       "Campfire             0.040489\n",
       "Children             0.032528\n",
       "Smoking              0.028115\n",
       "Railroad             0.017791\n",
       "Powerline            0.007683\n",
       "Fireworks            0.006116\n",
       "Structure            0.002019\n",
       "Name: STAT_CAUSE_DESCR, dtype: float64"
      ]
     },
     "execution_count": 10,
     "metadata": {},
     "output_type": "execute_result"
    }
   ],
   "source": [
    "df['STAT_CAUSE_DESCR'].value_counts(normalize=True)"
   ]
  },
  {
   "cell_type": "code",
   "execution_count": null,
   "id": "52308605",
   "metadata": {
    "id": "52308605"
   },
   "outputs": [],
   "source": [
    "def Human_Natural(x):\n",
    "  if x in ['Missing/Undefined']:\n",
    "    return 0\n",
    "  if x in ['Lightning']:\n",
    "    return 1\n",
    "  if x in ['Arson']:\n",
    "    return 2\n",
    "  else:\n",
    "    return 3"
   ]
  },
  {
   "cell_type": "code",
   "execution_count": null,
   "id": "111842e1",
   "metadata": {
    "id": "111842e1"
   },
   "outputs": [],
   "source": [
    "df['CAUSE_CATEG'] = df['STAT_CAUSE_DESCR'].apply(Human_Natural)"
   ]
  },
  {
   "cell_type": "markdown",
   "id": "27ae7460",
   "metadata": {
    "id": "27ae7460"
   },
   "source": [
    "We will classify fires according to their size to define a Mega Fire class for fires that have burnt more than 24,000 acres (around 10,000 hectares). We will use the following mapping:\n",
    "\n",
    "0: standard fires\n",
    "1: mega fires"
   ]
  },
  {
   "cell_type": "code",
   "execution_count": null,
   "id": "fbb8a89a",
   "metadata": {
    "id": "fbb8a89a"
   },
   "outputs": [],
   "source": [
    "df['MEGA_FEUX'] = df['FIRE_SIZE'].apply(lambda x: 1 if x > 24710 else 0)"
   ]
  },
  {
   "cell_type": "markdown",
   "id": "4cfbf3b3",
   "metadata": {
    "id": "4cfbf3b3"
   },
   "source": [
    "### Regroupement en régions"
   ]
  },
  {
   "cell_type": "code",
   "execution_count": null,
   "id": "433e431a",
   "metadata": {
    "id": "433e431a"
   },
   "outputs": [],
   "source": [
    "regions = []\n",
    "North_East = ['CT','ME','MA','NH','VT','NJ','NY','RI','PA']\n",
    "Midwest = ['MI','IL','IN','OH','WI','IA','KS','MN','MO','SD','ND','NE']\n",
    "South = ['DE','FL','GA','MD','NC','SC','VA','DC','WV','AL','KY','MS','TN','AR','LA','TX','OK']\n",
    "West = ['AZ','CO','MT','ID','NV','NM','WY','UT','CA','AK','HI','OR','WA']\n",
    "\n",
    "divisions = []\n",
    "New_England = ['CT','ME','MA','NH','VT','RI']\n",
    "Mid_Atlantic = ['NJ','NY','PA']\n",
    "East_North_Central = ['MI','IL','IN','OH','WI']\n",
    "West_North_Central = ['IA','KS','MN','MO','SD','ND','NE']\n",
    "South_Atlantic = ['DE','FL','GA','MD','NC','SC','VA','DC','WV']\n",
    "East_South_Central = ['AL','KY','MS','TN']\n",
    "West_South_Central = ['AR','LA','TX','OK']\n",
    "Mountain = ['AZ','CO','MT','ID','NV','NM','WY','UT']\n",
    "Pacific = ['CA','AK','HI','OR','WA']\n",
    "\n",
    "\n",
    "def func_regions(series):\n",
    "    for row in series:\n",
    "        if row in North_East:\n",
    "            regions.append('North_East')\n",
    "        elif row in Midwest:\n",
    "            regions.append('Midwest')\n",
    "        elif row in South:\n",
    "            regions.append('South')\n",
    "        elif row in West:\n",
    "            regions.append('West')\n",
    "        else:\n",
    "            regions.append('Other')\n",
    "\n",
    "func_regions(df['STATE'])\n",
    "\n",
    "def func_divisions(series):\n",
    "    for row in series:\n",
    "        if row in New_England:\n",
    "            divisions.append('North East - New England')\n",
    "        elif row in Mid_Atlantic:\n",
    "            divisions.append('North East - Mid Atlantic')\n",
    "        elif row in East_North_Central:\n",
    "            divisions.append('Midwest - East North Central')\n",
    "        elif row in West_North_Central:\n",
    "            divisions.append('Midwest - West North Central')\n",
    "        elif row in South_Atlantic:\n",
    "            divisions.append('South- South Atlantic')\n",
    "        elif row in East_South_Central:\n",
    "            divisions.append('South - East South Central')\n",
    "        elif row in West_South_Central:\n",
    "            divisions.append('South - West South Central')\n",
    "        elif row in Mountain:\n",
    "            divisions.append('West - Mountain')\n",
    "        elif row in Pacific:\n",
    "            divisions.append('West - Pacific')\n",
    "        else:\n",
    "            divisions.append('Other')\n",
    "\n",
    "func_divisions(df['STATE'])"
   ]
  },
  {
   "cell_type": "code",
   "execution_count": null,
   "id": "131c03ec",
   "metadata": {
    "id": "131c03ec"
   },
   "outputs": [],
   "source": [
    "df['REGIONS'] = regions\n",
    "df['DIVISIONS'] = divisions"
   ]
  },
  {
   "cell_type": "markdown",
   "id": "044eee24",
   "metadata": {
    "id": "044eee24"
   },
   "source": [
    "### Cleaned dataframe"
   ]
  },
  {
   "cell_type": "markdown",
   "id": "50b5fddf",
   "metadata": {
    "id": "50b5fddf"
   },
   "source": [
    "In the next step, we're going to delete the columns we won't be using in the analysis."
   ]
  },
  {
   "cell_type": "code",
   "execution_count": null,
   "id": "28316297",
   "metadata": {
    "id": "28316297",
    "outputId": "a24aceac-e8ca-4d79-a595-77e3930bf632",
    "scrolled": true
   },
   "outputs": [
    {
     "data": {
      "text/html": [
       "<div>\n",
       "<style scoped>\n",
       "    .dataframe tbody tr th:only-of-type {\n",
       "        vertical-align: middle;\n",
       "    }\n",
       "\n",
       "    .dataframe tbody tr th {\n",
       "        vertical-align: top;\n",
       "    }\n",
       "\n",
       "    .dataframe thead th {\n",
       "        text-align: right;\n",
       "    }\n",
       "</style>\n",
       "<table border=\"1\" class=\"dataframe\">\n",
       "  <thead>\n",
       "    <tr style=\"text-align: right;\">\n",
       "      <th></th>\n",
       "      <th>FIRE_YEAR</th>\n",
       "      <th>DISCOVERY_TIME</th>\n",
       "      <th>FIRE_SIZE</th>\n",
       "      <th>FIRE_SIZE_CLASS</th>\n",
       "      <th>LATITUDE</th>\n",
       "      <th>LONGITUDE</th>\n",
       "      <th>STATE</th>\n",
       "      <th>COUNTY</th>\n",
       "      <th>START_MONTH</th>\n",
       "      <th>START_DAY_OF_WEEK</th>\n",
       "      <th>SEASON</th>\n",
       "      <th>CAUSE_CATEG</th>\n",
       "      <th>MEGA_FEUX</th>\n",
       "      <th>REGIONS</th>\n",
       "      <th>DIVISIONS</th>\n",
       "    </tr>\n",
       "    <tr>\n",
       "      <th>OBJECTID</th>\n",
       "      <th></th>\n",
       "      <th></th>\n",
       "      <th></th>\n",
       "      <th></th>\n",
       "      <th></th>\n",
       "      <th></th>\n",
       "      <th></th>\n",
       "      <th></th>\n",
       "      <th></th>\n",
       "      <th></th>\n",
       "      <th></th>\n",
       "      <th></th>\n",
       "      <th></th>\n",
       "      <th></th>\n",
       "      <th></th>\n",
       "    </tr>\n",
       "  </thead>\n",
       "  <tbody>\n",
       "    <tr>\n",
       "      <th>1</th>\n",
       "      <td>2005</td>\n",
       "      <td>1300.0</td>\n",
       "      <td>0.10</td>\n",
       "      <td>A</td>\n",
       "      <td>40.036944</td>\n",
       "      <td>-121.005833</td>\n",
       "      <td>CA</td>\n",
       "      <td>63.0</td>\n",
       "      <td>2</td>\n",
       "      <td>2</td>\n",
       "      <td>3</td>\n",
       "      <td>3</td>\n",
       "      <td>0</td>\n",
       "      <td>West</td>\n",
       "      <td>West - Pacific</td>\n",
       "    </tr>\n",
       "    <tr>\n",
       "      <th>2</th>\n",
       "      <td>2004</td>\n",
       "      <td>845.0</td>\n",
       "      <td>0.25</td>\n",
       "      <td>A</td>\n",
       "      <td>38.933056</td>\n",
       "      <td>-120.404444</td>\n",
       "      <td>CA</td>\n",
       "      <td>61.0</td>\n",
       "      <td>5</td>\n",
       "      <td>2</td>\n",
       "      <td>4</td>\n",
       "      <td>1</td>\n",
       "      <td>0</td>\n",
       "      <td>West</td>\n",
       "      <td>West - Pacific</td>\n",
       "    </tr>\n",
       "    <tr>\n",
       "      <th>3</th>\n",
       "      <td>2004</td>\n",
       "      <td>1921.0</td>\n",
       "      <td>0.10</td>\n",
       "      <td>A</td>\n",
       "      <td>38.984167</td>\n",
       "      <td>-120.735556</td>\n",
       "      <td>CA</td>\n",
       "      <td>17.0</td>\n",
       "      <td>5</td>\n",
       "      <td>0</td>\n",
       "      <td>4</td>\n",
       "      <td>3</td>\n",
       "      <td>0</td>\n",
       "      <td>West</td>\n",
       "      <td>West - Pacific</td>\n",
       "    </tr>\n",
       "    <tr>\n",
       "      <th>4</th>\n",
       "      <td>2004</td>\n",
       "      <td>1600.0</td>\n",
       "      <td>0.10</td>\n",
       "      <td>A</td>\n",
       "      <td>38.559167</td>\n",
       "      <td>-119.913333</td>\n",
       "      <td>CA</td>\n",
       "      <td>3.0</td>\n",
       "      <td>6</td>\n",
       "      <td>0</td>\n",
       "      <td>1</td>\n",
       "      <td>1</td>\n",
       "      <td>0</td>\n",
       "      <td>West</td>\n",
       "      <td>West - Pacific</td>\n",
       "    </tr>\n",
       "    <tr>\n",
       "      <th>5</th>\n",
       "      <td>2004</td>\n",
       "      <td>1600.0</td>\n",
       "      <td>0.10</td>\n",
       "      <td>A</td>\n",
       "      <td>38.559167</td>\n",
       "      <td>-119.933056</td>\n",
       "      <td>CA</td>\n",
       "      <td>3.0</td>\n",
       "      <td>6</td>\n",
       "      <td>0</td>\n",
       "      <td>1</td>\n",
       "      <td>1</td>\n",
       "      <td>0</td>\n",
       "      <td>West</td>\n",
       "      <td>West - Pacific</td>\n",
       "    </tr>\n",
       "  </tbody>\n",
       "</table>\n",
       "</div>"
      ],
      "text/plain": [
       "          FIRE_YEAR  DISCOVERY_TIME  FIRE_SIZE FIRE_SIZE_CLASS   LATITUDE  \\\n",
       "OBJECTID                                                                    \n",
       "1              2005          1300.0       0.10               A  40.036944   \n",
       "2              2004           845.0       0.25               A  38.933056   \n",
       "3              2004          1921.0       0.10               A  38.984167   \n",
       "4              2004          1600.0       0.10               A  38.559167   \n",
       "5              2004          1600.0       0.10               A  38.559167   \n",
       "\n",
       "           LONGITUDE STATE COUNTY  START_MONTH  START_DAY_OF_WEEK SEASON  \\\n",
       "OBJECTID                                                                   \n",
       "1        -121.005833    CA   63.0            2                  2      3   \n",
       "2        -120.404444    CA   61.0            5                  2      4   \n",
       "3        -120.735556    CA   17.0            5                  0      4   \n",
       "4        -119.913333    CA    3.0            6                  0      1   \n",
       "5        -119.933056    CA    3.0            6                  0      1   \n",
       "\n",
       "          CAUSE_CATEG  MEGA_FEUX REGIONS       DIVISIONS  \n",
       "OBJECTID                                                  \n",
       "1                   3          0    West  West - Pacific  \n",
       "2                   1          0    West  West - Pacific  \n",
       "3                   3          0    West  West - Pacific  \n",
       "4                   1          0    West  West - Pacific  \n",
       "5                   1          0    West  West - Pacific  "
      ]
     },
     "execution_count": 16,
     "metadata": {},
     "output_type": "execute_result"
    }
   ],
   "source": [
    "to_drop = ['Unnamed: 0','STAT_CAUSE_CODE','STAT_CAUSE_DESCR','FOD_ID','FPA_ID','SOURCE_SYSTEM','SOURCE_SYSTEM_TYPE','NWCG_REPORTING_AGENCY','NWCG_REPORTING_UNIT_ID','NWCG_REPORTING_UNIT_NAME','SOURCE_REPORTING_UNIT','SOURCE_REPORTING_UNIT_NAME',\n",
    "           'LOCAL_FIRE_REPORT_ID','LOCAL_INCIDENT_ID','FIRE_CODE','FIRE_NAME','ICS_209_INCIDENT_NUMBER','ICS_209_NAME','MTBS_ID','MTBS_FIRE_NAME','COMPLEX_NAME',\n",
    "           'DISCOVERY_DOY','CONT_DOY','FIPS_CODE','FIPS_NAME','Shape','DISCOVERY_DATE','CONT_DATE','START_DATE','END_DATE','CONT_TIME','OWNER_CODE','OWNER_DESCR']\n",
    "df_clean = df.drop(columns=to_drop)\n",
    "df_clean.set_index(df_clean.OBJECTID,inplace=True)\n",
    "df_clean.drop(columns='OBJECTID',inplace=True)\n",
    "df_clean.head()"
   ]
  },
  {
   "cell_type": "code",
   "execution_count": null,
   "id": "4f71f937",
   "metadata": {
    "id": "4f71f937",
    "outputId": "f810f57a-13a4-4307-d976-82e8f313d545"
   },
   "outputs": [
    {
     "data": {
      "text/html": [
       "<div>\n",
       "<style scoped>\n",
       "    .dataframe tbody tr th:only-of-type {\n",
       "        vertical-align: middle;\n",
       "    }\n",
       "\n",
       "    .dataframe tbody tr th {\n",
       "        vertical-align: top;\n",
       "    }\n",
       "\n",
       "    .dataframe thead th {\n",
       "        text-align: right;\n",
       "    }\n",
       "</style>\n",
       "<table border=\"1\" class=\"dataframe\">\n",
       "  <thead>\n",
       "    <tr style=\"text-align: right;\">\n",
       "      <th></th>\n",
       "      <th>FIRE_YEAR</th>\n",
       "      <th>DISCOVERY_TIME</th>\n",
       "      <th>FIRE_SIZE</th>\n",
       "      <th>FIRE_SIZE_CLASS</th>\n",
       "      <th>LATITUDE</th>\n",
       "      <th>LONGITUDE</th>\n",
       "      <th>STATE</th>\n",
       "      <th>COUNTY</th>\n",
       "      <th>START_MONTH</th>\n",
       "      <th>START_DAY_OF_WEEK</th>\n",
       "      <th>SEASON</th>\n",
       "      <th>CAUSE_CATEG</th>\n",
       "      <th>MEGA_FEUX</th>\n",
       "      <th>REGIONS</th>\n",
       "      <th>DIVISIONS</th>\n",
       "    </tr>\n",
       "    <tr>\n",
       "      <th>OBJECTID</th>\n",
       "      <th></th>\n",
       "      <th></th>\n",
       "      <th></th>\n",
       "      <th></th>\n",
       "      <th></th>\n",
       "      <th></th>\n",
       "      <th></th>\n",
       "      <th></th>\n",
       "      <th></th>\n",
       "      <th></th>\n",
       "      <th></th>\n",
       "      <th></th>\n",
       "      <th></th>\n",
       "      <th></th>\n",
       "      <th></th>\n",
       "    </tr>\n",
       "  </thead>\n",
       "  <tbody>\n",
       "    <tr>\n",
       "      <th>84589</th>\n",
       "      <td>1995</td>\n",
       "      <td>1430.0</td>\n",
       "      <td>1.0</td>\n",
       "      <td>B</td>\n",
       "      <td>42.533333</td>\n",
       "      <td>-76.733333</td>\n",
       "      <td>NY</td>\n",
       "      <td>NaN</td>\n",
       "      <td>8</td>\n",
       "      <td>6</td>\n",
       "      <td>1</td>\n",
       "      <td>3</td>\n",
       "      <td>0</td>\n",
       "      <td>North_East</td>\n",
       "      <td>North East - Mid Atlantic</td>\n",
       "    </tr>\n",
       "    <tr>\n",
       "      <th>84590</th>\n",
       "      <td>1995</td>\n",
       "      <td>1430.0</td>\n",
       "      <td>0.2</td>\n",
       "      <td>A</td>\n",
       "      <td>42.533333</td>\n",
       "      <td>-76.806944</td>\n",
       "      <td>NY</td>\n",
       "      <td>NaN</td>\n",
       "      <td>8</td>\n",
       "      <td>6</td>\n",
       "      <td>1</td>\n",
       "      <td>3</td>\n",
       "      <td>0</td>\n",
       "      <td>North_East</td>\n",
       "      <td>North East - Mid Atlantic</td>\n",
       "    </tr>\n",
       "    <tr>\n",
       "      <th>84591</th>\n",
       "      <td>1995</td>\n",
       "      <td>1700.0</td>\n",
       "      <td>0.2</td>\n",
       "      <td>A</td>\n",
       "      <td>42.441111</td>\n",
       "      <td>-76.811389</td>\n",
       "      <td>NY</td>\n",
       "      <td>NaN</td>\n",
       "      <td>9</td>\n",
       "      <td>1</td>\n",
       "      <td>2</td>\n",
       "      <td>2</td>\n",
       "      <td>0</td>\n",
       "      <td>North_East</td>\n",
       "      <td>North East - Mid Atlantic</td>\n",
       "    </tr>\n",
       "    <tr>\n",
       "      <th>109803</th>\n",
       "      <td>1998</td>\n",
       "      <td>2101.0</td>\n",
       "      <td>5.0</td>\n",
       "      <td>B</td>\n",
       "      <td>42.588333</td>\n",
       "      <td>-76.821667</td>\n",
       "      <td>NY</td>\n",
       "      <td>NaN</td>\n",
       "      <td>4</td>\n",
       "      <td>0</td>\n",
       "      <td>4</td>\n",
       "      <td>3</td>\n",
       "      <td>0</td>\n",
       "      <td>North_East</td>\n",
       "      <td>North East - Mid Atlantic</td>\n",
       "    </tr>\n",
       "    <tr>\n",
       "      <th>109804</th>\n",
       "      <td>1998</td>\n",
       "      <td>1631.0</td>\n",
       "      <td>1.0</td>\n",
       "      <td>B</td>\n",
       "      <td>42.561111</td>\n",
       "      <td>-76.782500</td>\n",
       "      <td>NY</td>\n",
       "      <td>NaN</td>\n",
       "      <td>5</td>\n",
       "      <td>1</td>\n",
       "      <td>4</td>\n",
       "      <td>1</td>\n",
       "      <td>0</td>\n",
       "      <td>North_East</td>\n",
       "      <td>North East - Mid Atlantic</td>\n",
       "    </tr>\n",
       "  </tbody>\n",
       "</table>\n",
       "</div>"
      ],
      "text/plain": [
       "          FIRE_YEAR  DISCOVERY_TIME  FIRE_SIZE FIRE_SIZE_CLASS   LATITUDE  \\\n",
       "OBJECTID                                                                    \n",
       "84589          1995          1430.0        1.0               B  42.533333   \n",
       "84590          1995          1430.0        0.2               A  42.533333   \n",
       "84591          1995          1700.0        0.2               A  42.441111   \n",
       "109803         1998          2101.0        5.0               B  42.588333   \n",
       "109804         1998          1631.0        1.0               B  42.561111   \n",
       "\n",
       "          LONGITUDE STATE COUNTY  START_MONTH  START_DAY_OF_WEEK SEASON  \\\n",
       "OBJECTID                                                                  \n",
       "84589    -76.733333    NY    NaN            8                  6      1   \n",
       "84590    -76.806944    NY    NaN            8                  6      1   \n",
       "84591    -76.811389    NY    NaN            9                  1      2   \n",
       "109803   -76.821667    NY    NaN            4                  0      4   \n",
       "109804   -76.782500    NY    NaN            5                  1      4   \n",
       "\n",
       "          CAUSE_CATEG  MEGA_FEUX     REGIONS                  DIVISIONS  \n",
       "OBJECTID                                                                 \n",
       "84589               3          0  North_East  North East - Mid Atlantic  \n",
       "84590               3          0  North_East  North East - Mid Atlantic  \n",
       "84591               2          0  North_East  North East - Mid Atlantic  \n",
       "109803              3          0  North_East  North East - Mid Atlantic  \n",
       "109804              1          0  North_East  North East - Mid Atlantic  "
      ]
     },
     "execution_count": 18,
     "metadata": {},
     "output_type": "execute_result"
    }
   ],
   "source": [
    "df_clean[df_clean['STATE']=='NY'].head()"
   ]
  },
  {
   "cell_type": "code",
   "execution_count": null,
   "id": "0b383f0b",
   "metadata": {
    "id": "0b383f0b",
    "outputId": "ebee24a5-64ed-448a-e900-6587b916a1f7"
   },
   "outputs": [
    {
     "data": {
      "text/plain": [
       "CA    189550\n",
       "GA    168867\n",
       "TX    142021\n",
       "NC    111277\n",
       "FL     90261\n",
       "SC     81315\n",
       "NY     80870\n",
       "MS     79230\n",
       "AZ     71586\n",
       "AL     66570\n",
       "OR     61088\n",
       "MN     44769\n",
       "OK     43239\n",
       "MT     40767\n",
       "NM     37478\n",
       "ID     36698\n",
       "CO     34157\n",
       "WA     33513\n",
       "WI     31861\n",
       "AR     31663\n",
       "TN     31154\n",
       "SD     30963\n",
       "UT     30725\n",
       "LA     30013\n",
       "KY     27089\n",
       "NJ     25949\n",
       "PR     22081\n",
       "WV     21967\n",
       "VA     21833\n",
       "MO     17953\n",
       "NV     16956\n",
       "ND     15201\n",
       "WY     14166\n",
       "ME     13150\n",
       "AK     12843\n",
       "MI     10502\n",
       "HI      9895\n",
       "PA      8712\n",
       "NE      7973\n",
       "KS      7673\n",
       "CT      4976\n",
       "IA      4134\n",
       "MD      3622\n",
       "OH      3479\n",
       "MA      2626\n",
       "NH      2452\n",
       "IL      2327\n",
       "IN      2098\n",
       "RI       480\n",
       "VT       456\n",
       "DE       171\n",
       "DC        66\n",
       "Name: STATE, dtype: int64"
      ]
     },
     "execution_count": 21,
     "metadata": {},
     "output_type": "execute_result"
    }
   ],
   "source": [
    "df_clean['STATE'].value_counts()"
   ]
  },
  {
   "cell_type": "code",
   "execution_count": null,
   "id": "3c8953ff",
   "metadata": {
    "id": "3c8953ff"
   },
   "outputs": [],
   "source": [
    "df_clean.to_csv(r'C:\\Users\\norac\\OneDrive\\Documents\\Reconversion\\DataScientest\\Projet Feux de Forêt\\df_clean.csv',index=False)"
   ]
  }
 ],
 "metadata": {
  "colab": {
   "provenance": []
  },
  "kernelspec": {
   "display_name": "Python 3 (ipykernel)",
   "language": "python",
   "name": "python3"
  },
  "language_info": {
   "codemirror_mode": {
    "name": "ipython",
    "version": 3
   },
   "file_extension": ".py",
   "mimetype": "text/x-python",
   "name": "python",
   "nbconvert_exporter": "python",
   "pygments_lexer": "ipython3",
   "version": "3.9.13"
  }
 },
 "nbformat": 4,
 "nbformat_minor": 5
}
